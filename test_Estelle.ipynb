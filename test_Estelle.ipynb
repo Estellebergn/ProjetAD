{
 "cells": [
  {
   "cell_type": "code",
   "execution_count": 12,
   "metadata": {},
   "outputs": [],
   "source": [
    "import pandas as pd\n",
    "from sklearn.cluster import KMeans\n",
    "from scipy.stats import pearsonr\n",
    "import matplotlib.pyplot as plt\n",
    "import seaborn as sns\n",
    "from sklearn.decomposition import PCA\n",
    "from sklearn.preprocessing import StandardScaler\n",
    "import plotly.express as px"
   ]
  },
  {
   "cell_type": "code",
   "execution_count": 13,
   "metadata": {},
   "outputs": [
    {
     "data": {
      "text/html": [
       "<div>\n",
       "<style scoped>\n",
       "    .dataframe tbody tr th:only-of-type {\n",
       "        vertical-align: middle;\n",
       "    }\n",
       "\n",
       "    .dataframe tbody tr th {\n",
       "        vertical-align: top;\n",
       "    }\n",
       "\n",
       "    .dataframe thead th {\n",
       "        text-align: right;\n",
       "    }\n",
       "</style>\n",
       "<table border=\"1\" class=\"dataframe\">\n",
       "  <thead>\n",
       "    <tr style=\"text-align: right;\">\n",
       "      <th></th>\n",
       "      <th>Country name</th>\n",
       "      <th>Regional indicator</th>\n",
       "      <th>Ladder score</th>\n",
       "      <th>Standard error of ladder score</th>\n",
       "      <th>upperwhisker</th>\n",
       "      <th>lowerwhisker</th>\n",
       "      <th>Logged GDP per capita</th>\n",
       "      <th>Social support</th>\n",
       "      <th>Healthy life expectancy</th>\n",
       "      <th>Freedom to make life choices</th>\n",
       "      <th>Generosity</th>\n",
       "      <th>Perceptions of corruption</th>\n",
       "      <th>Ladder score in Dystopia</th>\n",
       "      <th>Explained by: Log GDP per capita</th>\n",
       "      <th>Explained by: Social support</th>\n",
       "      <th>Explained by: Healthy life expectancy</th>\n",
       "      <th>Explained by: Freedom to make life choices</th>\n",
       "      <th>Explained by: Generosity</th>\n",
       "      <th>Explained by: Perceptions of corruption</th>\n",
       "      <th>Dystopia + residual</th>\n",
       "    </tr>\n",
       "  </thead>\n",
       "  <tbody>\n",
       "    <tr>\n",
       "      <th>0</th>\n",
       "      <td>Finland</td>\n",
       "      <td>Western Europe</td>\n",
       "      <td>7.8087</td>\n",
       "      <td>0.031156</td>\n",
       "      <td>7.869766</td>\n",
       "      <td>7.747634</td>\n",
       "      <td>10.639267</td>\n",
       "      <td>0.954330</td>\n",
       "      <td>71.900825</td>\n",
       "      <td>0.949172</td>\n",
       "      <td>-0.059482</td>\n",
       "      <td>0.195445</td>\n",
       "      <td>1.972317</td>\n",
       "      <td>1.285190</td>\n",
       "      <td>1.499526</td>\n",
       "      <td>0.961271</td>\n",
       "      <td>0.662317</td>\n",
       "      <td>0.159670</td>\n",
       "      <td>0.477857</td>\n",
       "      <td>2.762835</td>\n",
       "    </tr>\n",
       "    <tr>\n",
       "      <th>1</th>\n",
       "      <td>Denmark</td>\n",
       "      <td>Western Europe</td>\n",
       "      <td>7.6456</td>\n",
       "      <td>0.033492</td>\n",
       "      <td>7.711245</td>\n",
       "      <td>7.579955</td>\n",
       "      <td>10.774001</td>\n",
       "      <td>0.955991</td>\n",
       "      <td>72.402504</td>\n",
       "      <td>0.951444</td>\n",
       "      <td>0.066202</td>\n",
       "      <td>0.168489</td>\n",
       "      <td>1.972317</td>\n",
       "      <td>1.326949</td>\n",
       "      <td>1.503449</td>\n",
       "      <td>0.979333</td>\n",
       "      <td>0.665040</td>\n",
       "      <td>0.242793</td>\n",
       "      <td>0.495260</td>\n",
       "      <td>2.432741</td>\n",
       "    </tr>\n",
       "    <tr>\n",
       "      <th>2</th>\n",
       "      <td>Switzerland</td>\n",
       "      <td>Western Europe</td>\n",
       "      <td>7.5599</td>\n",
       "      <td>0.035014</td>\n",
       "      <td>7.628528</td>\n",
       "      <td>7.491272</td>\n",
       "      <td>10.979933</td>\n",
       "      <td>0.942847</td>\n",
       "      <td>74.102448</td>\n",
       "      <td>0.921337</td>\n",
       "      <td>0.105911</td>\n",
       "      <td>0.303728</td>\n",
       "      <td>1.972317</td>\n",
       "      <td>1.390774</td>\n",
       "      <td>1.472403</td>\n",
       "      <td>1.040533</td>\n",
       "      <td>0.628954</td>\n",
       "      <td>0.269056</td>\n",
       "      <td>0.407946</td>\n",
       "      <td>2.350267</td>\n",
       "    </tr>\n",
       "    <tr>\n",
       "      <th>3</th>\n",
       "      <td>Iceland</td>\n",
       "      <td>Western Europe</td>\n",
       "      <td>7.5045</td>\n",
       "      <td>0.059616</td>\n",
       "      <td>7.621347</td>\n",
       "      <td>7.387653</td>\n",
       "      <td>10.772559</td>\n",
       "      <td>0.974670</td>\n",
       "      <td>73.000000</td>\n",
       "      <td>0.948892</td>\n",
       "      <td>0.246944</td>\n",
       "      <td>0.711710</td>\n",
       "      <td>1.972317</td>\n",
       "      <td>1.326502</td>\n",
       "      <td>1.547567</td>\n",
       "      <td>1.000843</td>\n",
       "      <td>0.661981</td>\n",
       "      <td>0.362330</td>\n",
       "      <td>0.144541</td>\n",
       "      <td>2.460688</td>\n",
       "    </tr>\n",
       "    <tr>\n",
       "      <th>4</th>\n",
       "      <td>Norway</td>\n",
       "      <td>Western Europe</td>\n",
       "      <td>7.4880</td>\n",
       "      <td>0.034837</td>\n",
       "      <td>7.556281</td>\n",
       "      <td>7.419719</td>\n",
       "      <td>11.087804</td>\n",
       "      <td>0.952487</td>\n",
       "      <td>73.200783</td>\n",
       "      <td>0.955750</td>\n",
       "      <td>0.134533</td>\n",
       "      <td>0.263218</td>\n",
       "      <td>1.972317</td>\n",
       "      <td>1.424207</td>\n",
       "      <td>1.495173</td>\n",
       "      <td>1.008072</td>\n",
       "      <td>0.670201</td>\n",
       "      <td>0.287985</td>\n",
       "      <td>0.434101</td>\n",
       "      <td>2.168266</td>\n",
       "    </tr>\n",
       "    <tr>\n",
       "      <th>...</th>\n",
       "      <td>...</td>\n",
       "      <td>...</td>\n",
       "      <td>...</td>\n",
       "      <td>...</td>\n",
       "      <td>...</td>\n",
       "      <td>...</td>\n",
       "      <td>...</td>\n",
       "      <td>...</td>\n",
       "      <td>...</td>\n",
       "      <td>...</td>\n",
       "      <td>...</td>\n",
       "      <td>...</td>\n",
       "      <td>...</td>\n",
       "      <td>...</td>\n",
       "      <td>...</td>\n",
       "      <td>...</td>\n",
       "      <td>...</td>\n",
       "      <td>...</td>\n",
       "      <td>...</td>\n",
       "      <td>...</td>\n",
       "    </tr>\n",
       "    <tr>\n",
       "      <th>148</th>\n",
       "      <td>Central African Republic</td>\n",
       "      <td>Sub-Saharan Africa</td>\n",
       "      <td>3.4759</td>\n",
       "      <td>0.115183</td>\n",
       "      <td>3.701658</td>\n",
       "      <td>3.250141</td>\n",
       "      <td>6.625160</td>\n",
       "      <td>0.319460</td>\n",
       "      <td>45.200001</td>\n",
       "      <td>0.640881</td>\n",
       "      <td>0.082410</td>\n",
       "      <td>0.891807</td>\n",
       "      <td>1.972317</td>\n",
       "      <td>0.041072</td>\n",
       "      <td>0.000000</td>\n",
       "      <td>0.000000</td>\n",
       "      <td>0.292814</td>\n",
       "      <td>0.253513</td>\n",
       "      <td>0.028265</td>\n",
       "      <td>2.860198</td>\n",
       "    </tr>\n",
       "    <tr>\n",
       "      <th>149</th>\n",
       "      <td>Rwanda</td>\n",
       "      <td>Sub-Saharan Africa</td>\n",
       "      <td>3.3123</td>\n",
       "      <td>0.052425</td>\n",
       "      <td>3.415053</td>\n",
       "      <td>3.209547</td>\n",
       "      <td>7.600104</td>\n",
       "      <td>0.540835</td>\n",
       "      <td>61.098846</td>\n",
       "      <td>0.900589</td>\n",
       "      <td>0.055484</td>\n",
       "      <td>0.183541</td>\n",
       "      <td>1.972317</td>\n",
       "      <td>0.343243</td>\n",
       "      <td>0.522876</td>\n",
       "      <td>0.572383</td>\n",
       "      <td>0.604088</td>\n",
       "      <td>0.235705</td>\n",
       "      <td>0.485542</td>\n",
       "      <td>0.548445</td>\n",
       "    </tr>\n",
       "    <tr>\n",
       "      <th>150</th>\n",
       "      <td>Zimbabwe</td>\n",
       "      <td>Sub-Saharan Africa</td>\n",
       "      <td>3.2992</td>\n",
       "      <td>0.058674</td>\n",
       "      <td>3.414202</td>\n",
       "      <td>3.184198</td>\n",
       "      <td>7.865712</td>\n",
       "      <td>0.763093</td>\n",
       "      <td>55.617260</td>\n",
       "      <td>0.711458</td>\n",
       "      <td>-0.072064</td>\n",
       "      <td>0.810237</td>\n",
       "      <td>1.972317</td>\n",
       "      <td>0.425564</td>\n",
       "      <td>1.047835</td>\n",
       "      <td>0.375038</td>\n",
       "      <td>0.377405</td>\n",
       "      <td>0.151349</td>\n",
       "      <td>0.080929</td>\n",
       "      <td>0.841031</td>\n",
       "    </tr>\n",
       "    <tr>\n",
       "      <th>151</th>\n",
       "      <td>South Sudan</td>\n",
       "      <td>Sub-Saharan Africa</td>\n",
       "      <td>2.8166</td>\n",
       "      <td>0.107610</td>\n",
       "      <td>3.027516</td>\n",
       "      <td>2.605684</td>\n",
       "      <td>7.425360</td>\n",
       "      <td>0.553707</td>\n",
       "      <td>51.000000</td>\n",
       "      <td>0.451314</td>\n",
       "      <td>0.016519</td>\n",
       "      <td>0.763417</td>\n",
       "      <td>1.972317</td>\n",
       "      <td>0.289083</td>\n",
       "      <td>0.553279</td>\n",
       "      <td>0.208809</td>\n",
       "      <td>0.065609</td>\n",
       "      <td>0.209935</td>\n",
       "      <td>0.111157</td>\n",
       "      <td>1.378751</td>\n",
       "    </tr>\n",
       "    <tr>\n",
       "      <th>152</th>\n",
       "      <td>Afghanistan</td>\n",
       "      <td>South Asia</td>\n",
       "      <td>2.5669</td>\n",
       "      <td>0.031311</td>\n",
       "      <td>2.628270</td>\n",
       "      <td>2.505530</td>\n",
       "      <td>7.462861</td>\n",
       "      <td>0.470367</td>\n",
       "      <td>52.590000</td>\n",
       "      <td>0.396573</td>\n",
       "      <td>-0.096429</td>\n",
       "      <td>0.933687</td>\n",
       "      <td>1.972317</td>\n",
       "      <td>0.300706</td>\n",
       "      <td>0.356434</td>\n",
       "      <td>0.266052</td>\n",
       "      <td>0.000000</td>\n",
       "      <td>0.135235</td>\n",
       "      <td>0.001226</td>\n",
       "      <td>1.507236</td>\n",
       "    </tr>\n",
       "  </tbody>\n",
       "</table>\n",
       "<p>153 rows × 20 columns</p>\n",
       "</div>"
      ],
      "text/plain": [
       "                 Country name  Regional indicator  Ladder score  \\\n",
       "0                     Finland      Western Europe        7.8087   \n",
       "1                     Denmark      Western Europe        7.6456   \n",
       "2                 Switzerland      Western Europe        7.5599   \n",
       "3                     Iceland      Western Europe        7.5045   \n",
       "4                      Norway      Western Europe        7.4880   \n",
       "..                        ...                 ...           ...   \n",
       "148  Central African Republic  Sub-Saharan Africa        3.4759   \n",
       "149                    Rwanda  Sub-Saharan Africa        3.3123   \n",
       "150                  Zimbabwe  Sub-Saharan Africa        3.2992   \n",
       "151               South Sudan  Sub-Saharan Africa        2.8166   \n",
       "152               Afghanistan          South Asia        2.5669   \n",
       "\n",
       "     Standard error of ladder score  upperwhisker  lowerwhisker  \\\n",
       "0                          0.031156      7.869766      7.747634   \n",
       "1                          0.033492      7.711245      7.579955   \n",
       "2                          0.035014      7.628528      7.491272   \n",
       "3                          0.059616      7.621347      7.387653   \n",
       "4                          0.034837      7.556281      7.419719   \n",
       "..                              ...           ...           ...   \n",
       "148                        0.115183      3.701658      3.250141   \n",
       "149                        0.052425      3.415053      3.209547   \n",
       "150                        0.058674      3.414202      3.184198   \n",
       "151                        0.107610      3.027516      2.605684   \n",
       "152                        0.031311      2.628270      2.505530   \n",
       "\n",
       "     Logged GDP per capita  Social support  Healthy life expectancy  \\\n",
       "0                10.639267        0.954330                71.900825   \n",
       "1                10.774001        0.955991                72.402504   \n",
       "2                10.979933        0.942847                74.102448   \n",
       "3                10.772559        0.974670                73.000000   \n",
       "4                11.087804        0.952487                73.200783   \n",
       "..                     ...             ...                      ...   \n",
       "148               6.625160        0.319460                45.200001   \n",
       "149               7.600104        0.540835                61.098846   \n",
       "150               7.865712        0.763093                55.617260   \n",
       "151               7.425360        0.553707                51.000000   \n",
       "152               7.462861        0.470367                52.590000   \n",
       "\n",
       "     Freedom to make life choices  Generosity  Perceptions of corruption  \\\n",
       "0                        0.949172   -0.059482                   0.195445   \n",
       "1                        0.951444    0.066202                   0.168489   \n",
       "2                        0.921337    0.105911                   0.303728   \n",
       "3                        0.948892    0.246944                   0.711710   \n",
       "4                        0.955750    0.134533                   0.263218   \n",
       "..                            ...         ...                        ...   \n",
       "148                      0.640881    0.082410                   0.891807   \n",
       "149                      0.900589    0.055484                   0.183541   \n",
       "150                      0.711458   -0.072064                   0.810237   \n",
       "151                      0.451314    0.016519                   0.763417   \n",
       "152                      0.396573   -0.096429                   0.933687   \n",
       "\n",
       "     Ladder score in Dystopia  Explained by: Log GDP per capita  \\\n",
       "0                    1.972317                          1.285190   \n",
       "1                    1.972317                          1.326949   \n",
       "2                    1.972317                          1.390774   \n",
       "3                    1.972317                          1.326502   \n",
       "4                    1.972317                          1.424207   \n",
       "..                        ...                               ...   \n",
       "148                  1.972317                          0.041072   \n",
       "149                  1.972317                          0.343243   \n",
       "150                  1.972317                          0.425564   \n",
       "151                  1.972317                          0.289083   \n",
       "152                  1.972317                          0.300706   \n",
       "\n",
       "     Explained by: Social support  Explained by: Healthy life expectancy  \\\n",
       "0                        1.499526                               0.961271   \n",
       "1                        1.503449                               0.979333   \n",
       "2                        1.472403                               1.040533   \n",
       "3                        1.547567                               1.000843   \n",
       "4                        1.495173                               1.008072   \n",
       "..                            ...                                    ...   \n",
       "148                      0.000000                               0.000000   \n",
       "149                      0.522876                               0.572383   \n",
       "150                      1.047835                               0.375038   \n",
       "151                      0.553279                               0.208809   \n",
       "152                      0.356434                               0.266052   \n",
       "\n",
       "     Explained by: Freedom to make life choices  Explained by: Generosity  \\\n",
       "0                                      0.662317                  0.159670   \n",
       "1                                      0.665040                  0.242793   \n",
       "2                                      0.628954                  0.269056   \n",
       "3                                      0.661981                  0.362330   \n",
       "4                                      0.670201                  0.287985   \n",
       "..                                          ...                       ...   \n",
       "148                                    0.292814                  0.253513   \n",
       "149                                    0.604088                  0.235705   \n",
       "150                                    0.377405                  0.151349   \n",
       "151                                    0.065609                  0.209935   \n",
       "152                                    0.000000                  0.135235   \n",
       "\n",
       "     Explained by: Perceptions of corruption  Dystopia + residual  \n",
       "0                                   0.477857             2.762835  \n",
       "1                                   0.495260             2.432741  \n",
       "2                                   0.407946             2.350267  \n",
       "3                                   0.144541             2.460688  \n",
       "4                                   0.434101             2.168266  \n",
       "..                                       ...                  ...  \n",
       "148                                 0.028265             2.860198  \n",
       "149                                 0.485542             0.548445  \n",
       "150                                 0.080929             0.841031  \n",
       "151                                 0.111157             1.378751  \n",
       "152                                 0.001226             1.507236  \n",
       "\n",
       "[153 rows x 20 columns]"
      ]
     },
     "execution_count": 13,
     "metadata": {},
     "output_type": "execute_result"
    }
   ],
   "source": [
    "df = pd.read_csv(\"data/2020.csv\")\n",
    "df"
   ]
  },
  {
   "cell_type": "code",
   "execution_count": null,
   "metadata": {},
   "outputs": [
    {
     "data": {
      "image/png": "[encoded data removed]",
      "text/plain": [
       "<Figure size 1000x800 with 2 Axes>"
      ]
     },
     "metadata": {},
     "output_type": "display_data"
    }
   ],
   "source": [
    "\n",
    "df_test = df.drop(columns=['Country name', 'Regional indicator'])\n",
    "\n",
    "correlation = df_test.corr()\n",
    "plt.figure(figsize=(10, 8))\n",
    "sns.heatmap(correlation, annot=True, fmt='.2f', cmap='coolwarm', square=True, cbar_kws={\"shrink\": .8})\n",
    "plt.title('Matrice de corrélation')\n",
    "plt.show()"
   ]
  },
  {
   "cell_type": "code",
   "execution_count": 15,
   "metadata": {},
   "outputs": [],
   "source": [
    "import pandas as pd\n",
    "import matplotlib.pyplot as plt\n",
    "from sklearn.decomposition import PCA\n",
    "from sklearn.preprocessing import StandardScaler\n",
    "\n",
    "\n",
    "# data = df.iloc[:,3:11]\n",
    "data = df[['Ladder score', 'Logged GDP per capita', 'Social support','Freedom to make life choices','Perceptions of corruption', 'Generosity']]\n",
    "#data = df\n",
    "\n",
    "#data = pd.pivot(data, index = 'Country name', colums)\n",
    "#print(data)\n",
    "\n",
    "# Réaliser l'ACP\n",
    "pca = PCA(n_components=6)  # Choisissez le nombre de composantes souhaité\n",
    "principal_components = pca.fit_transform(data)\n",
    "principal_df = pd.DataFrame(data=principal_components, columns=['PC1', 'PC2', 'PC3', 'PC4', 'PC5', 'PC6'])\n",
    "#principal_df['Country name'] = df['Country name']\n",
    "#principal_df['Regional indicator'] = df['Regional indicator']\n",
    "\n",
    "# print(principal_df)\n",
    "\n",
    "# Créer un DataFrame avec les composantes principales\n",
    "\n"
   ]
  },
  {
   "cell_type": "code",
   "execution_count": 16,
   "metadata": {},
   "outputs": [
    {
     "name": "stdout",
     "output_type": "stream",
     "text": [
      "   Ladder score  Logged GDP per capita  Social support  \\\n",
      "0        7.8087              10.639267        0.954330   \n",
      "1        7.6456              10.774001        0.955991   \n",
      "2        7.5599              10.979933        0.942847   \n",
      "3        7.5045              10.772559        0.974670   \n",
      "4        7.4880              11.087804        0.952487   \n",
      "\n",
      "   Freedom to make life choices  Perceptions of corruption  Generosity  \n",
      "0                      0.949172                   0.195445   -0.059482  \n",
      "1                      0.951444                   0.168489    0.066202  \n",
      "2                      0.921337                   0.303728    0.105911  \n",
      "3                      0.948892                   0.711710    0.246944  \n",
      "4                      0.955750                   0.263218    0.134533  \n"
     ]
    }
   ],
   "source": [
    "print(data.head())\n",
    "# print(principal_df.head())"
   ]
  },
  {
   "cell_type": "code",
   "execution_count": 17,
   "metadata": {},
   "outputs": [
    {
     "data": {
      "application/vnd.plotly.v1+json": {
       "config": {
        "plotlyServerURL": "https://plot.ly"
       },
       "data": [
        {
         "hovertemplate": "<b>%{hovertext}</b><br><br>Regional indicator=Western Europe<br>Composante Principale 1=%{x}<br>Composante Principale 2=%{y}<extra></extra>",
         "hovertext": [
          "Finland",
          "Denmark",
          "Switzerland",
          "Iceland",
          "Norway",
          "Netherlands",
          "Sweden",
          "Austria",
          "Luxembourg",
          "United Kingdom",
          "Ireland",
          "Germany",
          "Belgium",
          "Malta",
          "France",
          "Spain",
          "Italy",
          "Cyprus",
          "Portugal",
          "North Cyprus",
          "Greece"
         ],
         "legendgroup": "Western Europe",
         "marker": {
          "color": "#636efa",
          "symbol": "circle"
         },
         "mode": "markers",
         "name": "Western Europe",
         "orientation": "v",
         "showlegend": true,
         "type": "scatter",
         "x": [
          -8.153632164001465,
          -8.179580688476562,
          -8.231365203857422,
          -7.619836330413818,
          -8.249317169189453,
          -7.9691481590271,
          -7.917967796325684,
          -7.51534366607666,
          -8.189123153686523,
          -7.248960494995117,
          -7.890543460845947,
          -7.334583759307861,
          -6.843990802764893,
          -6.630154132843018,
          -6.421548843383789,
          -5.722038269042969,
          -5.702444076538086,
          -5.3043670654296875,
          -4.430078506469727,
          -4.1783223152160645,
          -3.38917875289917
         ],
         "xaxis": "x",
         "y": [
          3.5024266242980957,
          3.2875912189483643,
          2.892594575881958,
          3.459040641784668,
          2.724060535430908,
          3.032318592071533,
          2.944209575653076,
          2.9721016883850098,
          2.234807014465332,
          3.158926486968994,
          2.2881181240081787,
          2.6490964889526367,
          2.4635121822357178,
          2.5747530460357666,
          2.285494565963745,
          1.9621293544769287,
          1.8748308420181274,
          1.3827850818634033,
          0.9671963453292847,
          0.17730320990085602,
          0.12418901175260544
         ],
         "yaxis": "y"
        },
        {
         "hovertemplate": "<b>%{hovertext}</b><br><br>Regional indicator=North America and ANZ<br>Composante Principale 1=%{x}<br>Composante Principale 2=%{y}<extra></extra>",
         "hovertext": [
          "New Zealand",
          "Canada",
          "Australia",
          "United States"
         ],
         "legendgroup": "North America and ANZ",
         "marker": {
          "color": "#EF553B",
          "symbol": "circle"
         },
         "mode": "markers",
         "name": "North America and ANZ",
         "orientation": "v",
         "showlegend": true,
         "type": "scatter",
         "x": [
          -7.498619556427002,
          -7.465713024139404,
          -7.545093059539795,
          -7.294463634490967
         ],
         "xaxis": "x",
         "y": [
          3.455571413040161,
          3.019070863723755,
          2.8660671710968018,
          2.2848081588745117
         ],
         "yaxis": "y"
        },
        {
         "hovertemplate": "<b>%{hovertext}</b><br><br>Regional indicator=Middle East and North Africa<br>Composante Principale 1=%{x}<br>Composante Principale 2=%{y}<extra></extra>",
         "hovertext": [
          "Israel",
          "United Arab Emirates",
          "Saudi Arabia",
          "Bahrain",
          "Kuwait",
          "Libya",
          "Turkey",
          "Morocco",
          "Algeria",
          "Iraq",
          "Lebanon",
          "Iran",
          "Jordan",
          "Palestinian Territories",
          "Tunisia",
          "Egypt",
          "Yemen"
         ],
         "legendgroup": "Middle East and North Africa",
         "marker": {
          "color": "#00cc96",
          "symbol": "circle"
         },
         "mode": "markers",
         "name": "Middle East and North Africa",
         "orientation": "v",
         "showlegend": true,
         "type": "scatter",
         "x": [
          -6.780423164367676,
          -7.408907413482666,
          -6.359185218811035,
          -5.981284141540527,
          -6.405317783355713,
          -2.3711113929748535,
          -2.530441999435425,
          0.8264605402946472,
          -0.7752774357795715,
          -0.6314151883125305,
          -0.021524827927350998,
          -0.7396537065505981,
          1.0098812580108643,
          2.6670095920562744,
          0.5131357312202454,
          0.8059123754501343,
          5.373856544494629
         ],
         "xaxis": "x",
         "y": [
          3.1891088485717773,
          1.9961823225021362,
          1.6707884073257446,
          1.4218744039535522,
          1.0858813524246216,
          0.25226256251335144,
          -0.6275091767311096,
          0.16140411794185638,
          -0.7312958240509033,
          -1.105018973350525,
          -0.8784042596817017,
          -1.4239506721496582,
          -0.6944894790649414,
          -0.2026159167289734,
          -1.3885862827301025,
          -1.6169272661209106,
          0.7488586902618408
         ],
         "yaxis": "y"
        },
        {
         "hovertemplate": "<b>%{hovertext}</b><br><br>Regional indicator=Latin America and Caribbean<br>Composante Principale 1=%{x}<br>Composante Principale 2=%{y}<extra></extra>",
         "hovertext": [
          "Costa Rica",
          "Mexico",
          "Uruguay",
          "Guatemala",
          "Brazil",
          "El Salvador",
          "Panama",
          "Chile",
          "Trinidad and Tobago",
          "Colombia",
          "Nicaragua",
          "Argentina",
          "Honduras",
          "Ecuador",
          "Jamaica",
          "Peru",
          "Bolivia",
          "Paraguay",
          "Dominican Republic",
          "Venezuela",
          "Haiti"
         ],
         "legendgroup": "Latin America and Caribbean",
         "marker": {
          "color": "#ab63fa",
          "symbol": "circle"
         },
         "mode": "markers",
         "name": "Latin America and Caribbean",
         "orientation": "v",
         "showlegend": true,
         "type": "scatter",
         "x": [
          -5.371988773345947,
          -3.9851462841033936,
          -4.48181676864624,
          -0.9539554119110107,
          -3.1479427814483643,
          -0.8809770941734314,
          -4.442959785461426,
          -4.293154239654541,
          -4.883429050445557,
          -2.568998336791992,
          0.16038112342357635,
          -3.341548442840576,
          0.6083055138587952,
          -1.471838355064392,
          -0.7188647985458374,
          -1.994992971420288,
          -0.06936753541231155,
          -1.6228123903274536,
          -2.4288012981414795,
          0.6455827951431274,
          5.466172218322754
         ],
         "xaxis": "x",
         "y": [
          3.6490542888641357,
          2.5590405464172363,
          2.4948158264160156,
          2.7196507453918457,
          2.5039381980895996,
          2.662813901901245,
          2.1341729164123535,
          1.9503644704818726,
          1.7547928094863892,
          2.1875205039978027,
          2.4349849224090576,
          1.5099607706069946,
          2.1666007041931152,
          1.914932370185852,
          1.9538506269454956,
          1.4723659753799438,
          1.786380410194397,
          1.2651455402374268,
          0.9797702431678772,
          0.023951344192028046,
          0.21677355468273163
         ],
         "yaxis": "y"
        },
        {
         "hovertemplate": "<b>%{hovertext}</b><br><br>Regional indicator=Central and Eastern Europe<br>Composante Principale 1=%{x}<br>Composante Principale 2=%{y}<extra></extra>",
         "hovertext": [
          "Czech Republic",
          "Slovenia",
          "Kosovo",
          "Slovakia",
          "Lithuania",
          "Poland",
          "Romania",
          "Estonia",
          "Hungary",
          "Latvia",
          "Serbia",
          "Bosnia and Herzegovina",
          "Montenegro",
          "Croatia",
          "Macedonia",
          "Bulgaria",
          "Albania"
         ],
         "legendgroup": "Central and Eastern Europe",
         "marker": {
          "color": "#FFA15A",
          "symbol": "circle"
         },
         "mode": "markers",
         "name": "Central and Eastern Europe",
         "orientation": "v",
         "showlegend": true,
         "type": "scatter",
         "x": [
          -6.28358793258667,
          -5.4894118309021,
          -1.6447092294692993,
          -5.219997882843018,
          -5.145982265472412,
          -4.925751209259033,
          -4.31019401550293,
          -4.964942455291748,
          -4.532090663909912,
          -4.245903491973877,
          -2.5987045764923096,
          -1.739192247390747,
          -2.377774715423584,
          -3.1850807666778564,
          -0.9840111136436462,
          -1.8586522340774536,
          -0.24849189817905426
         ],
         "xaxis": "x",
         "y": [
          2.858574867248535,
          2.0104472637176514,
          2.6225366592407227,
          1.8153319358825684,
          1.5896497964859009,
          1.685462474822998,
          1.640748143196106,
          1.1502643823623657,
          1.1459730863571167,
          1.0747573375701904,
          1.1566576957702637,
          1.05986750125885,
          0.43908458948135376,
          0.2181759625673294,
          -0.2236284613609314,
          -0.6522801518440247,
          -0.6434668898582458
         ],
         "yaxis": "y"
        },
        {
         "hovertemplate": "<b>%{hovertext}</b><br><br>Regional indicator=East Asia<br>Composante Principale 1=%{x}<br>Composante Principale 2=%{y}<extra></extra>",
         "hovertext": [
          "Taiwan Province of China",
          "South Korea",
          "Japan",
          "Hong Kong S.A.R. of China",
          "Mongolia",
          "China"
         ],
         "legendgroup": "East Asia",
         "marker": {
          "color": "#19d3f3",
          "symbol": "circle"
         },
         "mode": "markers",
         "name": "East Asia",
         "orientation": "v",
         "showlegend": true,
         "type": "scatter",
         "x": [
          -6.3640875816345215,
          -5.022428035736084,
          -5.245869159698486,
          -5.0951738357543945,
          -1.3515079021453857,
          -1.43679940700531
         ],
         "xaxis": "x",
         "y": [
          1.783754587173462,
          0.706967294216156,
          0.7504396438598633,
          2.805755853652954,
          0.5867890119552612,
          -0.5472397804260254
         ],
         "yaxis": "y"
        },
        {
         "hovertemplate": "<b>%{hovertext}</b><br><br>Regional indicator=Southeast Asia<br>Composante Principale 1=%{x}<br>Composante Principale 2=%{y}<extra></extra>",
         "hovertext": [
          "Singapore",
          "Philippines",
          "Thailand",
          "Malaysia",
          "Vietnam",
          "Indonesia",
          "Laos",
          "Cambodia",
          "Myanmar"
         ],
         "legendgroup": "Southeast Asia",
         "marker": {
          "color": "#FF6692",
          "symbol": "circle"
         },
         "mode": "markers",
         "name": "Southeast Asia",
         "orientation": "v",
         "showlegend": true,
         "type": "scatter",
         "x": [
          -7.527472496032715,
          -0.7668730020523071,
          -3.0295331478118896,
          -3.5023622512817383,
          0.7837332487106323,
          -0.8272669911384583,
          1.4931875467300415,
          2.740398406982422,
          3.294539451599121
         ],
         "xaxis": "x",
         "y": [
          1.4214061498641968,
          2.192126512527466,
          1.7857654094696045,
          -0.18253467977046967,
          0.9630071520805359,
          0.37896862626075745,
          -0.026664935052394867,
          0.3110281527042389,
          1.2827668190002441
         ],
         "yaxis": "y"
        },
        {
         "hovertemplate": "<b>%{hovertext}</b><br><br>Regional indicator=Commonwealth of Independent States<br>Composante Principale 1=%{x}<br>Composante Principale 2=%{y}<extra></extra>",
         "hovertext": [
          "Uzbekistan",
          "Kazakhstan",
          "Moldova",
          "Tajikistan",
          "Russia",
          "Kyrgyzstan",
          "Belarus",
          "Azerbaijan",
          "Turkmenistan",
          "Armenia",
          "Georgia",
          "Ukraine"
         ],
         "legendgroup": "Commonwealth of Independent States",
         "marker": {
          "color": "#B6E880",
          "symbol": "circle"
         },
         "mode": "markers",
         "name": "Commonwealth of Independent States",
         "orientation": "v",
         "showlegend": true,
         "type": "scatter",
         "x": [
          -0.3351103365421295,
          -4.267387866973877,
          0.3962049186229706,
          2.1358633041381836,
          -3.4457578659057617,
          1.9336645603179932,
          -2.4973061084747314,
          -1.608907699584961,
          -1.507567048072815,
          0.7429667115211487,
          0.4701468348503113,
          1.1223549842834473
         ],
         "xaxis": "x",
         "y": [
          2.690561532974243,
          1.489057183265686,
          1.5120220184326172,
          1.3867863416671753,
          0.3406918942928314,
          1.4214091300964355,
          0.34060749411582947,
          -0.5657286047935486,
          -0.4056384563446045,
          -0.6818296313285828,
          -0.8528693914413452,
          -0.8049286603927612
         ],
         "yaxis": "y"
        },
        {
         "hovertemplate": "<b>%{hovertext}</b><br><br>Regional indicator=Sub-Saharan Africa<br>Composante Principale 1=%{x}<br>Composante Principale 2=%{y}<extra></extra>",
         "hovertext": [
          "Mauritius",
          "Ivory Coast",
          "Benin",
          "Congo (Brazzaville)",
          "Ghana",
          "Cameroon",
          "Senegal",
          "Guinea",
          "Niger",
          "Gabon",
          "South Africa",
          "Burkina Faso",
          "Gambia",
          "Mali",
          "Nigeria",
          "Mozambique",
          "Kenya",
          "Namibia",
          "Liberia",
          "Uganda",
          "Chad",
          "Mauritania",
          "Congo (Kinshasa)",
          "Swaziland",
          "Comoros",
          "Togo",
          "Ethiopia",
          "Madagascar",
          "Sierra Leone",
          "Burundi",
          "Zambia",
          "Lesotho",
          "Malawi",
          "Botswana",
          "Tanzania",
          "Central African Republic",
          "Rwanda",
          "Zimbabwe",
          "South Sudan"
         ],
         "legendgroup": "Sub-Saharan Africa",
         "marker": {
          "color": "#FF97FF",
          "symbol": "circle"
         },
         "mode": "markers",
         "name": "Sub-Saharan Africa",
         "orientation": "v",
         "showlegend": true,
         "type": "scatter",
         "x": [
          -3.8703346252441406,
          2.326204538345337,
          3.3811724185943604,
          1.7177220582962036,
          2.2032408714294434,
          2.7227723598480225,
          2.8751022815704346,
          3.5267539024353027,
          4.593729019165039,
          -0.7812931537628174,
          -0.15001891553401947,
          4.053961277008057,
          4.245555877685547,
          3.913062334060669,
          2.0926449298858643,
          4.64712381362915,
          3.6151106357574463,
          0.5778197050094604,
          4.7518157958984375,
          4.437619209289551,
          4.51362943649292,
          3.6611058712005615,
          5.257341384887695,
          0.981840968132019,
          4.337812900543213,
          4.950131416320801,
          4.769416809082031,
          5.032397270202637,
          5.281436920166016,
          5.788784503936768,
          4.754864692687988,
          5.086094379425049,
          5.76686429977417,
          0.8352769017219543,
          5.296087265014648,
          5.9851179122924805,
          5.798166751861572,
          5.532512664794922,
          6.123025894165039
         ],
         "xaxis": "x",
         "y": [
          1.7636139392852783,
          0.8007108569145203,
          -0.28035300970077515,
          0.652403712272644,
          0.6750022172927856,
          0.5684630274772644,
          0.3715934455394745,
          -0.05149741843342781,
          -1.0164793729782104,
          -1.061682939529419,
          -0.7691149115562439,
          -0.37401026487350464,
          -0.603945791721344,
          -0.1276487410068512,
          -0.09230386465787888,
          -0.7244367003440857,
          0.3807564973831177,
          -0.9776263236999512,
          -0.6796767115592957,
          -0.07542821764945984,
          -0.12212275713682175,
          0.5615713000297546,
          -0.761972188949585,
          -1.3113224506378174,
          0.3857336640357971,
          -0.11529039591550827,
          0.13644610345363617,
          -0.19524995982646942,
          -0.03567798063158989,
          -0.5479185581207275,
          1.0847440958023071,
          0.8951996564865112,
          0.022334802895784378,
          -2.276130199432373,
          0.9766380190849304,
          -0.27956944704055786,
          0.68302983045578,
          0.9338897466659546,
          0.5966035723686218
         ],
         "yaxis": "y"
        },
        {
         "hovertemplate": "<b>%{hovertext}</b><br><br>Regional indicator=South Asia<br>Composante Principale 1=%{x}<br>Composante Principale 2=%{y}<extra></extra>",
         "hovertext": [
          "Pakistan",
          "Maldives",
          "Nepal",
          "Bangladesh",
          "Sri Lanka",
          "India",
          "Afghanistan"
         ],
         "legendgroup": "South Asia",
         "marker": {
          "color": "#FECB52",
          "symbol": "circle"
         },
         "mode": "markers",
         "name": "South Asia",
         "orientation": "v",
         "showlegend": true,
         "type": "scatter",
         "x": [
          1.0633565187454224,
          -1.1388435363769531,
          3.0480759143829346,
          2.6667675971984863,
          0.42327427864074707,
          4.354888916015625,
          6.264206409454346
         ],
         "xaxis": "x",
         "y": [
          1.707503080368042,
          -0.0808061957359314,
          0.5024507641792297,
          0.23680506646633148,
          -1.5195258855819702,
          1.6802500486373901,
          0.6582980751991272
         ],
         "yaxis": "y"
        }
       ],
       "layout": {
        "legend": {
         "title": {
          "text": "Regional indicator"
         },
         "tracegroupgap": 0
        },
        "template": {
         "data": {
          "bar": [
           {
            "error_x": {
             "color": "#2a3f5f"
            },
            "error_y": {
             "color": "#2a3f5f"
            },
            "marker": {
             "line": {
              "color": "#E5ECF6",
              "width": 0.5
             },
             "pattern": {
              "fillmode": "overlay",
              "size": 10,
              "solidity": 0.2
             }
            },
            "type": "bar"
           }
          ],
          "barpolar": [
           {
            "marker": {
             "line": {
              "color": "#E5ECF6",
              "width": 0.5
             },
             "pattern": {
              "fillmode": "overlay",
              "size": 10,
              "solidity": 0.2
             }
            },
            "type": "barpolar"
           }
          ],
          "carpet": [
           {
            "aaxis": {
             "endlinecolor": "#2a3f5f",
             "gridcolor": "white",
             "linecolor": "white",
             "minorgridcolor": "white",
             "startlinecolor": "#2a3f5f"
            },
            "baxis": {
             "endlinecolor": "#2a3f5f",
             "gridcolor": "white",
             "linecolor": "white",
             "minorgridcolor": "white",
             "startlinecolor": "#2a3f5f"
            },
            "type": "carpet"
           }
          ],
          "choropleth": [
           {
            "colorbar": {
             "outlinewidth": 0,
             "ticks": ""
            },
            "type": "choropleth"
           }
          ],
          "contour": [
           {
            "colorbar": {
             "outlinewidth": 0,
             "ticks": ""
            },
            "colorscale": [
             [
              0,
              "#0d0887"
             ],
             [
              0.1111111111111111,
              "#46039f"
             ],
             [
              0.2222222222222222,
              "#7201a8"
             ],
             [
              0.3333333333333333,
              "#9c179e"
             ],
             [
              0.4444444444444444,
              "#bd3786"
             ],
             [
              0.5555555555555556,
              "#d8576b"
             ],
             [
              0.6666666666666666,
              "#ed7953"
             ],
             [
              0.7777777777777778,
              "#fb9f3a"
             ],
             [
              0.8888888888888888,
              "#fdca26"
             ],
             [
              1,
              "#f0f921"
             ]
            ],
            "type": "contour"
           }
          ],
          "contourcarpet": [
           {
            "colorbar": {
             "outlinewidth": 0,
             "ticks": ""
            },
            "type": "contourcarpet"
           }
          ],
          "heatmap": [
           {
            "colorbar": {
             "outlinewidth": 0,
             "ticks": ""
            },
            "colorscale": [
             [
              0,
              "#0d0887"
             ],
             [
              0.1111111111111111,
              "#46039f"
             ],
             [
              0.2222222222222222,
              "#7201a8"
             ],
             [
              0.3333333333333333,
              "#9c179e"
             ],
             [
              0.4444444444444444,
              "#bd3786"
             ],
             [
              0.5555555555555556,
              "#d8576b"
             ],
             [
              0.6666666666666666,
              "#ed7953"
             ],
             [
              0.7777777777777778,
              "#fb9f3a"
             ],
             [
              0.8888888888888888,
              "#fdca26"
             ],
             [
              1,
              "#f0f921"
             ]
            ],
            "type": "heatmap"
           }
          ],
          "heatmapgl": [
           {
            "colorbar": {
             "outlinewidth": 0,
             "ticks": ""
            },
            "colorscale": [
             [
              0,
              "#0d0887"
             ],
             [
              0.1111111111111111,
              "#46039f"
             ],
             [
              0.2222222222222222,
              "#7201a8"
             ],
             [
              0.3333333333333333,
              "#9c179e"
             ],
             [
              0.4444444444444444,
              "#bd3786"
             ],
             [
              0.5555555555555556,
              "#d8576b"
             ],
             [
              0.6666666666666666,
              "#ed7953"
             ],
             [
              0.7777777777777778,
              "#fb9f3a"
             ],
             [
              0.8888888888888888,
              "#fdca26"
             ],
             [
              1,
              "#f0f921"
             ]
            ],
            "type": "heatmapgl"
           }
          ],
          "histogram": [
           {
            "marker": {
             "pattern": {
              "fillmode": "overlay",
              "size": 10,
              "solidity": 0.2
             }
            },
            "type": "histogram"
           }
          ],
          "histogram2d": [
           {
            "colorbar": {
             "outlinewidth": 0,
             "ticks": ""
            },
            "colorscale": [
             [
              0,
              "#0d0887"
             ],
             [
              0.1111111111111111,
              "#46039f"
             ],
             [
              0.2222222222222222,
              "#7201a8"
             ],
             [
              0.3333333333333333,
              "#9c179e"
             ],
             [
              0.4444444444444444,
              "#bd3786"
             ],
             [
              0.5555555555555556,
              "#d8576b"
             ],
             [
              0.6666666666666666,
              "#ed7953"
             ],
             [
              0.7777777777777778,
              "#fb9f3a"
             ],
             [
              0.8888888888888888,
              "#fdca26"
             ],
             [
              1,
              "#f0f921"
             ]
            ],
            "type": "histogram2d"
           }
          ],
          "histogram2dcontour": [
           {
            "colorbar": {
             "outlinewidth": 0,
             "ticks": ""
            },
            "colorscale": [
             [
              0,
              "#0d0887"
             ],
             [
              0.1111111111111111,
              "#46039f"
             ],
             [
              0.2222222222222222,
              "#7201a8"
             ],
             [
              0.3333333333333333,
              "#9c179e"
             ],
             [
              0.4444444444444444,
              "#bd3786"
             ],
             [
              0.5555555555555556,
              "#d8576b"
             ],
             [
              0.6666666666666666,
              "#ed7953"
             ],
             [
              0.7777777777777778,
              "#fb9f3a"
             ],
             [
              0.8888888888888888,
              "#fdca26"
             ],
             [
              1,
              "#f0f921"
             ]
            ],
            "type": "histogram2dcontour"
           }
          ],
          "mesh3d": [
           {
            "colorbar": {
             "outlinewidth": 0,
             "ticks": ""
            },
            "type": "mesh3d"
           }
          ],
          "parcoords": [
           {
            "line": {
             "colorbar": {
              "outlinewidth": 0,
              "ticks": ""
             }
            },
            "type": "parcoords"
           }
          ],
          "pie": [
           {
            "automargin": true,
            "type": "pie"
           }
          ],
          "scatter": [
           {
            "fillpattern": {
             "fillmode": "overlay",
             "size": 10,
             "solidity": 0.2
            },
            "type": "scatter"
           }
          ],
          "scatter3d": [
           {
            "line": {
             "colorbar": {
              "outlinewidth": 0,
              "ticks": ""
             }
            },
            "marker": {
             "colorbar": {
              "outlinewidth": 0,
              "ticks": ""
             }
            },
            "type": "scatter3d"
           }
          ],
          "scattercarpet": [
           {
            "marker": {
             "colorbar": {
              "outlinewidth": 0,
              "ticks": ""
             }
            },
            "type": "scattercarpet"
           }
          ],
          "scattergeo": [
           {
            "marker": {
             "colorbar": {
              "outlinewidth": 0,
              "ticks": ""
             }
            },
            "type": "scattergeo"
           }
          ],
          "scattergl": [
           {
            "marker": {
             "colorbar": {
              "outlinewidth": 0,
              "ticks": ""
             }
            },
            "type": "scattergl"
           }
          ],
          "scattermapbox": [
           {
            "marker": {
             "colorbar": {
              "outlinewidth": 0,
              "ticks": ""
             }
            },
            "type": "scattermapbox"
           }
          ],
          "scatterpolar": [
           {
            "marker": {
             "colorbar": {
              "outlinewidth": 0,
              "ticks": ""
             }
            },
            "type": "scatterpolar"
           }
          ],
          "scatterpolargl": [
           {
            "marker": {
             "colorbar": {
              "outlinewidth": 0,
              "ticks": ""
             }
            },
            "type": "scatterpolargl"
           }
          ],
          "scatterternary": [
           {
            "marker": {
             "colorbar": {
              "outlinewidth": 0,
              "ticks": ""
             }
            },
            "type": "scatterternary"
           }
          ],
          "surface": [
           {
            "colorbar": {
             "outlinewidth": 0,
             "ticks": ""
            },
            "colorscale": [
             [
              0,
              "#0d0887"
             ],
             [
              0.1111111111111111,
              "#46039f"
             ],
             [
              0.2222222222222222,
              "#7201a8"
             ],
             [
              0.3333333333333333,
              "#9c179e"
             ],
             [
              0.4444444444444444,
              "#bd3786"
             ],
             [
              0.5555555555555556,
              "#d8576b"
             ],
             [
              0.6666666666666666,
              "#ed7953"
             ],
             [
              0.7777777777777778,
              "#fb9f3a"
             ],
             [
              0.8888888888888888,
              "#fdca26"
             ],
             [
              1,
              "#f0f921"
             ]
            ],
            "type": "surface"
           }
          ],
          "table": [
           {
            "cells": {
             "fill": {
              "color": "#EBF0F8"
             },
             "line": {
              "color": "white"
             }
            },
            "header": {
             "fill": {
              "color": "#C8D4E3"
             },
             "line": {
              "color": "white"
             }
            },
            "type": "table"
           }
          ]
         },
         "layout": {
          "annotationdefaults": {
           "arrowcolor": "#2a3f5f",
           "arrowhead": 0,
           "arrowwidth": 1
          },
          "autotypenumbers": "strict",
          "coloraxis": {
           "colorbar": {
            "outlinewidth": 0,
            "ticks": ""
           }
          },
          "colorscale": {
           "diverging": [
            [
             0,
             "#8e0152"
            ],
            [
             0.1,
             "#c51b7d"
            ],
            [
             0.2,
             "#de77ae"
            ],
            [
             0.3,
             "#f1b6da"
            ],
            [
             0.4,
             "#fde0ef"
            ],
            [
             0.5,
             "#f7f7f7"
            ],
            [
             0.6,
             "#e6f5d0"
            ],
            [
             0.7,
             "#b8e186"
            ],
            [
             0.8,
             "#7fbc41"
            ],
            [
             0.9,
             "#4d9221"
            ],
            [
             1,
             "#276419"
            ]
           ],
           "sequential": [
            [
             0,
             "#0d0887"
            ],
            [
             0.1111111111111111,
             "#46039f"
            ],
            [
             0.2222222222222222,
             "#7201a8"
            ],
            [
             0.3333333333333333,
             "#9c179e"
            ],
            [
             0.4444444444444444,
             "#bd3786"
            ],
            [
             0.5555555555555556,
             "#d8576b"
            ],
            [
             0.6666666666666666,
             "#ed7953"
            ],
            [
             0.7777777777777778,
             "#fb9f3a"
            ],
            [
             0.8888888888888888,
             "#fdca26"
            ],
            [
             1,
             "#f0f921"
            ]
           ],
           "sequentialminus": [
            [
             0,
             "#0d0887"
            ],
            [
             0.1111111111111111,
             "#46039f"
            ],
            [
             0.2222222222222222,
             "#7201a8"
            ],
            [
             0.3333333333333333,
             "#9c179e"
            ],
            [
             0.4444444444444444,
             "#bd3786"
            ],
            [
             0.5555555555555556,
             "#d8576b"
            ],
            [
             0.6666666666666666,
             "#ed7953"
            ],
            [
             0.7777777777777778,
             "#fb9f3a"
            ],
            [
             0.8888888888888888,
             "#fdca26"
            ],
            [
             1,
             "#f0f921"
            ]
           ]
          },
          "colorway": [
           "#636efa",
           "#EF553B",
           "#00cc96",
           "#ab63fa",
           "#FFA15A",
           "#19d3f3",
           "#FF6692",
           "#B6E880",
           "#FF97FF",
           "#FECB52"
          ],
          "font": {
           "color": "#2a3f5f"
          },
          "geo": {
           "bgcolor": "white",
           "lakecolor": "white",
           "landcolor": "#E5ECF6",
           "showlakes": true,
           "showland": true,
           "subunitcolor": "white"
          },
          "hoverlabel": {
           "align": "left"
          },
          "hovermode": "closest",
          "mapbox": {
           "style": "light"
          },
          "paper_bgcolor": "white",
          "plot_bgcolor": "#E5ECF6",
          "polar": {
           "angularaxis": {
            "gridcolor": "white",
            "linecolor": "white",
            "ticks": ""
           },
           "bgcolor": "#E5ECF6",
           "radialaxis": {
            "gridcolor": "white",
            "linecolor": "white",
            "ticks": ""
           }
          },
          "scene": {
           "xaxis": {
            "backgroundcolor": "#E5ECF6",
            "gridcolor": "white",
            "gridwidth": 2,
            "linecolor": "white",
            "showbackground": true,
            "ticks": "",
            "zerolinecolor": "white"
           },
           "yaxis": {
            "backgroundcolor": "#E5ECF6",
            "gridcolor": "white",
            "gridwidth": 2,
            "linecolor": "white",
            "showbackground": true,
            "ticks": "",
            "zerolinecolor": "white"
           },
           "zaxis": {
            "backgroundcolor": "#E5ECF6",
            "gridcolor": "white",
            "gridwidth": 2,
            "linecolor": "white",
            "showbackground": true,
            "ticks": "",
            "zerolinecolor": "white"
           }
          },
          "shapedefaults": {
           "line": {
            "color": "#2a3f5f"
           }
          },
          "ternary": {
           "aaxis": {
            "gridcolor": "white",
            "linecolor": "white",
            "ticks": ""
           },
           "baxis": {
            "gridcolor": "white",
            "linecolor": "white",
            "ticks": ""
           },
           "bgcolor": "#E5ECF6",
           "caxis": {
            "gridcolor": "white",
            "linecolor": "white",
            "ticks": ""
           }
          },
          "title": {
           "x": 0.05
          },
          "xaxis": {
           "automargin": true,
           "gridcolor": "white",
           "linecolor": "white",
           "ticks": "",
           "title": {
            "standoff": 15
           },
           "zerolinecolor": "white",
           "zerolinewidth": 2
          },
          "yaxis": {
           "automargin": true,
           "gridcolor": "white",
           "linecolor": "white",
           "ticks": "",
           "title": {
            "standoff": 15
           },
           "zerolinecolor": "white",
           "zerolinewidth": 2
          }
         }
        },
        "title": {
         "text": "Analyse en Composantes Principales"
        },
        "xaxis": {
         "anchor": "y",
         "domain": [
          0,
          1
         ],
         "title": {
          "text": "Composante Principale 1"
         }
        },
        "yaxis": {
         "anchor": "x",
         "domain": [
          0,
          1
         ],
         "title": {
          "text": "Composante Principale 2"
         }
        }
       }
      }
     },
     "metadata": {},
     "output_type": "display_data"
    }
   ],
   "source": [
    "from sklearn.manifold import TSNE\n",
    "\n",
    "tsne = TSNE(n_components=2, perplexity=50)\n",
    "\n",
    "tsne_result = tsne.fit_transform(data)\n",
    "tsne_df = pd.DataFrame(tsne_result, columns=['tSNE1', 'tSNE2'])\n",
    "tsne_df['Country name'] = df['Country name']\n",
    "tsne_df['Regional indicator'] = df['Regional indicator']\n",
    "\n",
    "fig = px.scatter(tsne_df, x='tSNE1', y='tSNE2', title='Analyse en Composantes Principales',\n",
    "                labels={'tSNE1': 'Composante Principale 1', 'tSNE2': 'Composante Principale 2', 'Cname' : 'Country name'}, hover_name = 'Country name', color = 'Regional indicator')\n",
    "fig.show()"
   ]
  },
  {
   "cell_type": "code",
   "execution_count": 18,
   "metadata": {},
   "outputs": [
    {
     "data": {
      "application/vnd.plotly.v1+json": {
       "config": {
        "plotlyServerURL": "https://plot.ly"
       },
       "data": [
        {
         "hovertemplate": "<b>%{hovertext}</b><br><br>Regional indicator=Western Europe<br>Composante MDS 1=%{x}<br>Composante MDS 2=%{y}<extra></extra>",
         "hovertext": [
          "Finland",
          "Denmark",
          "Switzerland",
          "Iceland",
          "Norway",
          "Netherlands",
          "Sweden",
          "Austria",
          "Luxembourg",
          "United Kingdom",
          "Ireland",
          "Germany",
          "Belgium",
          "Malta",
          "France",
          "Spain",
          "Italy",
          "Cyprus",
          "Portugal",
          "North Cyprus",
          "Greece"
         ],
         "legendgroup": "Western Europe",
         "marker": {
          "color": "#636efa",
          "symbol": "circle"
         },
         "mode": "markers",
         "name": "Western Europe",
         "orientation": "v",
         "showlegend": true,
         "type": "scatter",
         "x": [
          -2.747430001429781,
          -2.661765071315055,
          -2.615836207528799,
          -2.469166427245616,
          -2.601339069222433,
          -2.453294594666025,
          -2.37152712752872,
          -2.2467221567031195,
          -2.46247523365479,
          -2.117524725136967,
          -2.247074527025495,
          -2.052168462106669,
          -1.7936231479460818,
          -1.7012275969326736,
          -1.584834654433697,
          -1.2831986665319337,
          -1.2595122437608781,
          -1.0250321237613862,
          -0.7412926727407583,
          -0.45467576217865324,
          -0.2907061273797044
         ],
         "xaxis": "x",
         "y": [
          0.3444875897337234,
          0.53550073534951,
          0.8129693107338356,
          0.6047780621629067,
          0.9394295341676305,
          0.6903470040594089,
          0.6440786425030437,
          0.7063749392372989,
          1.3821970196090774,
          0.5623172950328377,
          1.1537121292027719,
          0.7601987319976168,
          0.8064655576166182,
          0.6604692222204883,
          0.7926826513673091,
          0.7622525148044873,
          0.8105860298960658,
          0.8160297920961591,
          0.7768951909655875,
          1.0436693557700298,
          0.8505195955221931
         ],
         "yaxis": "y"
        },
        {
         "hovertemplate": "<b>%{hovertext}</b><br><br>Regional indicator=North America and ANZ<br>Composante MDS 1=%{x}<br>Composante MDS 2=%{y}<extra></extra>",
         "hovertext": [
          "New Zealand",
          "Canada",
          "Australia",
          "United States"
         ],
         "legendgroup": "North America and ANZ",
         "marker": {
          "color": "#EF553B",
          "symbol": "circle"
         },
         "mode": "markers",
         "name": "North America and ANZ",
         "orientation": "v",
         "showlegend": true,
         "type": "scatter",
         "x": [
          -2.253125406590979,
          -2.2043321485272096,
          -2.20604974663919,
          -1.9612983449539327
         ],
         "xaxis": "x",
         "y": [
          0.3753127023585252,
          0.6477449707611401,
          0.6812290364420722,
          1.0118682612153902
         ],
         "yaxis": "y"
        },
        {
         "hovertemplate": "<b>%{hovertext}</b><br><br>Regional indicator=Middle East and North Africa<br>Composante MDS 1=%{x}<br>Composante MDS 2=%{y}<extra></extra>",
         "hovertext": [
          "Israel",
          "United Arab Emirates",
          "Saudi Arabia",
          "Bahrain",
          "Kuwait",
          "Libya",
          "Turkey",
          "Morocco",
          "Algeria",
          "Iraq",
          "Lebanon",
          "Iran",
          "Jordan",
          "Palestinian Territories",
          "Tunisia",
          "Egypt",
          "Yemen"
         ],
         "legendgroup": "Middle East and North Africa",
         "marker": {
          "color": "#00cc96",
          "symbol": "circle"
         },
         "mode": "markers",
         "name": "Middle East and North Africa",
         "orientation": "v",
         "showlegend": true,
         "type": "scatter",
         "x": [
          -1.952532851428253,
          -1.9083127101948456,
          -1.4061542487311816,
          -1.2075930257424918,
          -1.2264042779765378,
          -0.1886414224969916,
          0.04031923427807169,
          0.5017507948822494,
          0.3958034240303744,
          0.5356961191307467,
          0.6627169760948691,
          0.5925704419534834,
          0.8877594114370644,
          1.201528960107188,
          1.0374209695690406,
          1.2436281876500037,
          2.390114616388231
         ],
         "xaxis": "x",
         "y": [
          0.3952443864413349,
          1.224519256656565,
          1.0929655270605494,
          1.04660106276708,
          1.462116164899084,
          0.4682827235495675,
          0.9390328398864201,
          -0.2060662913844134,
          0.4535017268741456,
          0.6097043484075654,
          0.3491289262818925,
          0.8111118960024152,
          0.05734436297063195,
          -0.5005333776913171,
          0.44288145879451024,
          0.519352058442005,
          -0.7014441806057947
         ],
         "yaxis": "y"
        },
        {
         "hovertemplate": "<b>%{hovertext}</b><br><br>Regional indicator=Latin America and Caribbean<br>Composante MDS 1=%{x}<br>Composante MDS 2=%{y}<extra></extra>",
         "hovertext": [
          "Costa Rica",
          "Mexico",
          "Uruguay",
          "Guatemala",
          "Brazil",
          "El Salvador",
          "Panama",
          "Chile",
          "Trinidad and Tobago",
          "Colombia",
          "Nicaragua",
          "Argentina",
          "Honduras",
          "Ecuador",
          "Jamaica",
          "Peru",
          "Bolivia",
          "Paraguay",
          "Dominican Republic",
          "Venezuela",
          "Haiti"
         ],
         "legendgroup": "Latin America and Caribbean",
         "marker": {
          "color": "#ab63fa",
          "symbol": "circle"
         },
         "mode": "markers",
         "name": "Latin America and Caribbean",
         "orientation": "v",
         "showlegend": true,
         "type": "scatter",
         "x": [
          -1.667727796643799,
          -1.106142600090904,
          -1.158785902164054,
          -0.735013241756268,
          -0.9400354362377485,
          -0.6777264627381292,
          -1.0438025881453779,
          -0.9621962235242706,
          -1.0254269740084538,
          -0.7200347882444861,
          -0.3412615294631649,
          -0.6509487582592848,
          -0.13986839917793925,
          -0.407945106440844,
          -0.2918528907751362,
          -0.3633930121316401,
          -0.09963811464771014,
          -0.25060703273832974,
          -0.3414980511021388,
          0.5233002275761239,
          2.3676036901706596
         ],
         "xaxis": "x",
         "y": [
          -0.28090116676105054,
          0.10020191550092249,
          0.24518571537017292,
          -0.6868742515468276,
          -0.07349719659152688,
          -0.6792639775991413,
          0.3825798753373779,
          0.41530331528002434,
          0.6211734390809804,
          -0.06463467955712801,
          -0.9999408369931635,
          0.3106587570780862,
          -0.9997234008703026,
          -0.21538211326030993,
          -0.4269714377041044,
          0.025239652292746845,
          -0.5208132691312736,
          -0.01061302873662772,
          0.2688151859513743,
          -0.1243274550798864,
          -1.156768946825301
         ],
         "yaxis": "y"
        },
        {
         "hovertemplate": "<b>%{hovertext}</b><br><br>Regional indicator=Central and Eastern Europe<br>Composante MDS 1=%{x}<br>Composante MDS 2=%{y}<extra></extra>",
         "hovertext": [
          "Czech Republic",
          "Slovenia",
          "Kosovo",
          "Slovakia",
          "Lithuania",
          "Poland",
          "Romania",
          "Estonia",
          "Hungary",
          "Latvia",
          "Serbia",
          "Bosnia and Herzegovina",
          "Montenegro",
          "Croatia",
          "Macedonia",
          "Bulgaria",
          "Albania"
         ],
         "legendgroup": "Central and Eastern Europe",
         "marker": {
          "color": "#FFA15A",
          "symbol": "circle"
         },
         "mode": "markers",
         "name": "Central and Eastern Europe",
         "orientation": "v",
         "showlegend": true,
         "type": "scatter",
         "x": [
          -1.7357927267498239,
          -1.237792122643175,
          -0.7786260826688719,
          -1.12064384140055,
          -1.0569470540077077,
          -1.0157849604152154,
          -0.891011561740375,
          -0.8928142221232834,
          -0.8142858825050489,
          -0.7424123320838202,
          -0.41817962422891103,
          -0.23236841030253003,
          -0.22306905086929588,
          -0.29443747907702456,
          0.22493933926904583,
          0.15468005084172562,
          0.5256991322714759
         ],
         "xaxis": "x",
         "y": [
          0.4678267651113052,
          0.688156542328922,
          -0.4346818034910998,
          0.7031371061428091,
          0.7363592184181997,
          0.6615038528824798,
          0.5239548610843211,
          0.8093176135261826,
          0.7281913300932551,
          0.6779658233675423,
          0.25598627427201764,
          0.06701136866582547,
          0.4109097980881409,
          0.7310497567939217,
          0.3137303579102117,
          0.7124166452360511,
          0.32739391602099677
         ],
         "yaxis": "y"
        },
        {
         "hovertemplate": "<b>%{hovertext}</b><br><br>Regional indicator=East Asia<br>Composante MDS 1=%{x}<br>Composante MDS 2=%{y}<extra></extra>",
         "hovertext": [
          "Taiwan Province of China",
          "South Korea",
          "Japan",
          "Hong Kong S.A.R. of China",
          "Mongolia",
          "China"
         ],
         "legendgroup": "East Asia",
         "marker": {
          "color": "#19d3f3",
          "symbol": "circle"
         },
         "mode": "markers",
         "name": "East Asia",
         "orientation": "v",
         "showlegend": true,
         "type": "scatter",
         "x": [
          -1.4428522456408697,
          -0.7798981233033003,
          -0.8252515589169143,
          -0.6274225260983693,
          -0.026922451661910107,
          0.18974019143287257
         ],
         "xaxis": "x",
         "y": [
          1.0408153700416856,
          1.0305786641495505,
          1.0999090260213849,
          1.5839979455504907,
          0.10651252039315316,
          0.5080977378281534
         ],
         "yaxis": "y"
        },
        {
         "hovertemplate": "<b>%{hovertext}</b><br><br>Regional indicator=Southeast Asia<br>Composante MDS 1=%{x}<br>Composante MDS 2=%{y}<extra></extra>",
         "hovertext": [
          "Singapore",
          "Philippines",
          "Thailand",
          "Malaysia",
          "Vietnam",
          "Indonesia",
          "Laos",
          "Cambodia",
          "Myanmar"
         ],
         "legendgroup": "Southeast Asia",
         "marker": {
          "color": "#FF6692",
          "symbol": "circle"
         },
         "mode": "markers",
         "name": "Southeast Asia",
         "orientation": "v",
         "showlegend": true,
         "type": "scatter",
         "x": [
          -1.6602270298678086,
          -0.3997177136676768,
          -0.6918900371394453,
          -0.24827812593930387,
          0.2718589788799898,
          0.14892146260570438,
          0.7253502346750659,
          0.9499265801865957,
          1.4306784829765726
         ],
         "xaxis": "x",
         "y": [
          1.7423528038883638,
          -0.48457120420141137,
          0.14904978155922924,
          0.9753155429340505,
          -0.42749943160531295,
          0.05639899729241609,
          -0.28555336951764415,
          -0.7763312838023024,
          -0.0860513146375957
         ],
         "yaxis": "y"
        },
        {
         "hovertemplate": "<b>%{hovertext}</b><br><br>Regional indicator=Commonwealth of Independent States<br>Composante MDS 1=%{x}<br>Composante MDS 2=%{y}<extra></extra>",
         "hovertext": [
          "Uzbekistan",
          "Kazakhstan",
          "Moldova",
          "Tajikistan",
          "Russia",
          "Kyrgyzstan",
          "Belarus",
          "Azerbaijan",
          "Turkmenistan",
          "Armenia",
          "Georgia",
          "Ukraine"
         ],
         "legendgroup": "Commonwealth of Independent States",
         "marker": {
          "color": "#B6E880",
          "symbol": "circle"
         },
         "mode": "markers",
         "name": "Commonwealth of Independent States",
         "orientation": "v",
         "showlegend": true,
         "type": "scatter",
         "x": [
          -0.5940733028905621,
          -0.8400678417039125,
          0.06506490869789068,
          0.3578085578059658,
          -0.360372131808148,
          0.32220900269556696,
          -0.22737053621860828,
          0.15698920888069973,
          0.1837779018545281,
          0.8237870999233483,
          0.8041212306867345,
          0.972344402957181
         ],
         "xaxis": "x",
         "y": [
          -0.8874724407038136,
          0.5564955999121336,
          -0.5384339426772944,
          -1.2424673426464352,
          0.7658567519564055,
          -1.1321049207702767,
          0.4668448940318222,
          0.5257435551732733,
          0.5992745649168226,
          0.11045938957282514,
          0.24909614838905875,
          0.07356356554490279
         ],
         "yaxis": "y"
        },
        {
         "hovertemplate": "<b>%{hovertext}</b><br><br>Regional indicator=Sub-Saharan Africa<br>Composante MDS 1=%{x}<br>Composante MDS 2=%{y}<extra></extra>",
         "hovertext": [
          "Mauritius",
          "Ivory Coast",
          "Benin",
          "Congo (Brazzaville)",
          "Ghana",
          "Cameroon",
          "Senegal",
          "Guinea",
          "Niger",
          "Gabon",
          "South Africa",
          "Burkina Faso",
          "Gambia",
          "Mali",
          "Nigeria",
          "Mozambique",
          "Kenya",
          "Namibia",
          "Liberia",
          "Uganda",
          "Chad",
          "Mauritania",
          "Congo (Kinshasa)",
          "Swaziland",
          "Comoros",
          "Togo",
          "Ethiopia",
          "Madagascar",
          "Sierra Leone",
          "Burundi",
          "Zambia",
          "Lesotho",
          "Malawi",
          "Botswana",
          "Tanzania",
          "Central African Republic",
          "Rwanda",
          "Zimbabwe",
          "South Sudan"
         ],
         "legendgroup": "Sub-Saharan Africa",
         "marker": {
          "color": "#FF97FF",
          "symbol": "circle"
         },
         "mode": "markers",
         "name": "Sub-Saharan Africa",
         "orientation": "v",
         "showlegend": true,
         "type": "scatter",
         "x": [
          -0.8320164413673388,
          0.6157715623107096,
          0.8241057351064739,
          0.5437484345248371,
          0.6434299027339742,
          0.7880372134805315,
          0.8863471794266018,
          1.0496563153003717,
          1.4094276002784472,
          0.48457365528003726,
          0.5835649111809789,
          1.3187341453403103,
          1.3635897176101064,
          1.2963151253064498,
          0.9624612277394158,
          1.5762930952498404,
          1.2948072064147795,
          0.8888876536893149,
          1.6659404084316023,
          1.6149768509951898,
          1.6544115383530233,
          1.4303410007668245,
          2.025224913325265,
          1.1565976394005946,
          1.6554756206738646,
          1.913084991333627,
          1.8452323967423279,
          1.9578011834024718,
          2.1776878876291867,
          2.624972170274974,
          1.9925845244452747,
          2.190931518597309,
          2.6230569558011703,
          1.71854907686503,
          2.3606606816114617,
          2.872803853273669,
          2.7202148733655975,
          2.5565940818881834,
          3.1953700053337157
         ],
         "xaxis": "x",
         "y": [
          0.37808150969717447,
          -0.924085256778382,
          -1.4680506739490007,
          -0.6175111509619516,
          -0.7842292556588081,
          -0.97108955282885,
          -0.9316849530346677,
          -1.2732793661659552,
          -2.1024753348532332,
          0.624695144868517,
          0.3482275008894511,
          -1.4603931581657759,
          -1.6527816777299764,
          -1.2947469906969278,
          -0.41330101365373817,
          -1.8013469932284059,
          -0.9025210798929832,
          0.26025824001804054,
          -1.772309359586117,
          -1.3157515710931889,
          -1.342168457454966,
          -0.5852900771167888,
          -2.0207526821113633,
          0.3221857653063547,
          -0.9538765703285704,
          -1.3624565466999699,
          -1.2100593873998127,
          -1.425430988640405,
          -1.3559501253565547,
          -2.0105477139235615,
          -0.38433495099513865,
          -0.5690429662915968,
          -1.4026776509308583,
          1.133625812253495,
          -0.49498903824981655,
          -1.794742256051245,
          -0.8032546369206306,
          -0.5145496926032237,
          -0.7579465146395388
         ],
         "yaxis": "y"
        },
        {
         "hovertemplate": "<b>%{hovertext}</b><br><br>Regional indicator=South Asia<br>Composante MDS 1=%{x}<br>Composante MDS 2=%{y}<extra></extra>",
         "hovertext": [
          "Pakistan",
          "Maldives",
          "Nepal",
          "Bangladesh",
          "Sri Lanka",
          "India",
          "Afghanistan"
         ],
         "legendgroup": "South Asia",
         "marker": {
          "color": "#FECB52",
          "symbol": "circle"
         },
         "mode": "markers",
         "name": "South Asia",
         "orientation": "v",
         "showlegend": true,
         "type": "scatter",
         "x": [
          0.09438122234751513,
          0.1678666187901428,
          0.7956561878985418,
          0.9600960082272406,
          1.0493338237476926,
          1.95598465597188,
          3.435609917464703
         ],
         "xaxis": "x",
         "y": [
          -0.8531992579653681,
          0.2979644897318388,
          -1.184533479826191,
          -0.7255332896876411,
          0.5294820255364786,
          0.22044089531884872,
          -0.603479606606728
         ],
         "yaxis": "y"
        }
       ],
       "layout": {
        "legend": {
         "title": {
          "text": "Regional indicator"
         },
         "tracegroupgap": 0
        },
        "template": {
         "data": {
          "bar": [
           {
            "error_x": {
             "color": "#2a3f5f"
            },
            "error_y": {
             "color": "#2a3f5f"
            },
            "marker": {
             "line": {
              "color": "#E5ECF6",
              "width": 0.5
             },
             "pattern": {
              "fillmode": "overlay",
              "size": 10,
              "solidity": 0.2
             }
            },
            "type": "bar"
           }
          ],
          "barpolar": [
           {
            "marker": {
             "line": {
              "color": "#E5ECF6",
              "width": 0.5
             },
             "pattern": {
              "fillmode": "overlay",
              "size": 10,
              "solidity": 0.2
             }
            },
            "type": "barpolar"
           }
          ],
          "carpet": [
           {
            "aaxis": {
             "endlinecolor": "#2a3f5f",
             "gridcolor": "white",
             "linecolor": "white",
             "minorgridcolor": "white",
             "startlinecolor": "#2a3f5f"
            },
            "baxis": {
             "endlinecolor": "#2a3f5f",
             "gridcolor": "white",
             "linecolor": "white",
             "minorgridcolor": "white",
             "startlinecolor": "#2a3f5f"
            },
            "type": "carpet"
           }
          ],
          "choropleth": [
           {
            "colorbar": {
             "outlinewidth": 0,
             "ticks": ""
            },
            "type": "choropleth"
           }
          ],
          "contour": [
           {
            "colorbar": {
             "outlinewidth": 0,
             "ticks": ""
            },
            "colorscale": [
             [
              0,
              "#0d0887"
             ],
             [
              0.1111111111111111,
              "#46039f"
             ],
             [
              0.2222222222222222,
              "#7201a8"
             ],
             [
              0.3333333333333333,
              "#9c179e"
             ],
             [
              0.4444444444444444,
              "#bd3786"
             ],
             [
              0.5555555555555556,
              "#d8576b"
             ],
             [
              0.6666666666666666,
              "#ed7953"
             ],
             [
              0.7777777777777778,
              "#fb9f3a"
             ],
             [
              0.8888888888888888,
              "#fdca26"
             ],
             [
              1,
              "#f0f921"
             ]
            ],
            "type": "contour"
           }
          ],
          "contourcarpet": [
           {
            "colorbar": {
             "outlinewidth": 0,
             "ticks": ""
            },
            "type": "contourcarpet"
           }
          ],
          "heatmap": [
           {
            "colorbar": {
             "outlinewidth": 0,
             "ticks": ""
            },
            "colorscale": [
             [
              0,
              "#0d0887"
             ],
             [
              0.1111111111111111,
              "#46039f"
             ],
             [
              0.2222222222222222,
              "#7201a8"
             ],
             [
              0.3333333333333333,
              "#9c179e"
             ],
             [
              0.4444444444444444,
              "#bd3786"
             ],
             [
              0.5555555555555556,
              "#d8576b"
             ],
             [
              0.6666666666666666,
              "#ed7953"
             ],
             [
              0.7777777777777778,
              "#fb9f3a"
             ],
             [
              0.8888888888888888,
              "#fdca26"
             ],
             [
              1,
              "#f0f921"
             ]
            ],
            "type": "heatmap"
           }
          ],
          "heatmapgl": [
           {
            "colorbar": {
             "outlinewidth": 0,
             "ticks": ""
            },
            "colorscale": [
             [
              0,
              "#0d0887"
             ],
             [
              0.1111111111111111,
              "#46039f"
             ],
             [
              0.2222222222222222,
              "#7201a8"
             ],
             [
              0.3333333333333333,
              "#9c179e"
             ],
             [
              0.4444444444444444,
              "#bd3786"
             ],
             [
              0.5555555555555556,
              "#d8576b"
             ],
             [
              0.6666666666666666,
              "#ed7953"
             ],
             [
              0.7777777777777778,
              "#fb9f3a"
             ],
             [
              0.8888888888888888,
              "#fdca26"
             ],
             [
              1,
              "#f0f921"
             ]
            ],
            "type": "heatmapgl"
           }
          ],
          "histogram": [
           {
            "marker": {
             "pattern": {
              "fillmode": "overlay",
              "size": 10,
              "solidity": 0.2
             }
            },
            "type": "histogram"
           }
          ],
          "histogram2d": [
           {
            "colorbar": {
             "outlinewidth": 0,
             "ticks": ""
            },
            "colorscale": [
             [
              0,
              "#0d0887"
             ],
             [
              0.1111111111111111,
              "#46039f"
             ],
             [
              0.2222222222222222,
              "#7201a8"
             ],
             [
              0.3333333333333333,
              "#9c179e"
             ],
             [
              0.4444444444444444,
              "#bd3786"
             ],
             [
              0.5555555555555556,
              "#d8576b"
             ],
             [
              0.6666666666666666,
              "#ed7953"
             ],
             [
              0.7777777777777778,
              "#fb9f3a"
             ],
             [
              0.8888888888888888,
              "#fdca26"
             ],
             [
              1,
              "#f0f921"
             ]
            ],
            "type": "histogram2d"
           }
          ],
          "histogram2dcontour": [
           {
            "colorbar": {
             "outlinewidth": 0,
             "ticks": ""
            },
            "colorscale": [
             [
              0,
              "#0d0887"
             ],
             [
              0.1111111111111111,
              "#46039f"
             ],
             [
              0.2222222222222222,
              "#7201a8"
             ],
             [
              0.3333333333333333,
              "#9c179e"
             ],
             [
              0.4444444444444444,
              "#bd3786"
             ],
             [
              0.5555555555555556,
              "#d8576b"
             ],
             [
              0.6666666666666666,
              "#ed7953"
             ],
             [
              0.7777777777777778,
              "#fb9f3a"
             ],
             [
              0.8888888888888888,
              "#fdca26"
             ],
             [
              1,
              "#f0f921"
             ]
            ],
            "type": "histogram2dcontour"
           }
          ],
          "mesh3d": [
           {
            "colorbar": {
             "outlinewidth": 0,
             "ticks": ""
            },
            "type": "mesh3d"
           }
          ],
          "parcoords": [
           {
            "line": {
             "colorbar": {
              "outlinewidth": 0,
              "ticks": ""
             }
            },
            "type": "parcoords"
           }
          ],
          "pie": [
           {
            "automargin": true,
            "type": "pie"
           }
          ],
          "scatter": [
           {
            "fillpattern": {
             "fillmode": "overlay",
             "size": 10,
             "solidity": 0.2
            },
            "type": "scatter"
           }
          ],
          "scatter3d": [
           {
            "line": {
             "colorbar": {
              "outlinewidth": 0,
              "ticks": ""
             }
            },
            "marker": {
             "colorbar": {
              "outlinewidth": 0,
              "ticks": ""
             }
            },
            "type": "scatter3d"
           }
          ],
          "scattercarpet": [
           {
            "marker": {
             "colorbar": {
              "outlinewidth": 0,
              "ticks": ""
             }
            },
            "type": "scattercarpet"
           }
          ],
          "scattergeo": [
           {
            "marker": {
             "colorbar": {
              "outlinewidth": 0,
              "ticks": ""
             }
            },
            "type": "scattergeo"
           }
          ],
          "scattergl": [
           {
            "marker": {
             "colorbar": {
              "outlinewidth": 0,
              "ticks": ""
             }
            },
            "type": "scattergl"
           }
          ],
          "scattermapbox": [
           {
            "marker": {
             "colorbar": {
              "outlinewidth": 0,
              "ticks": ""
             }
            },
            "type": "scattermapbox"
           }
          ],
          "scatterpolar": [
           {
            "marker": {
             "colorbar": {
              "outlinewidth": 0,
              "ticks": ""
             }
            },
            "type": "scatterpolar"
           }
          ],
          "scatterpolargl": [
           {
            "marker": {
             "colorbar": {
              "outlinewidth": 0,
              "ticks": ""
             }
            },
            "type": "scatterpolargl"
           }
          ],
          "scatterternary": [
           {
            "marker": {
             "colorbar": {
              "outlinewidth": 0,
              "ticks": ""
             }
            },
            "type": "scatterternary"
           }
          ],
          "surface": [
           {
            "colorbar": {
             "outlinewidth": 0,
             "ticks": ""
            },
            "colorscale": [
             [
              0,
              "#0d0887"
             ],
             [
              0.1111111111111111,
              "#46039f"
             ],
             [
              0.2222222222222222,
              "#7201a8"
             ],
             [
              0.3333333333333333,
              "#9c179e"
             ],
             [
              0.4444444444444444,
              "#bd3786"
             ],
             [
              0.5555555555555556,
              "#d8576b"
             ],
             [
              0.6666666666666666,
              "#ed7953"
             ],
             [
              0.7777777777777778,
              "#fb9f3a"
             ],
             [
              0.8888888888888888,
              "#fdca26"
             ],
             [
              1,
              "#f0f921"
             ]
            ],
            "type": "surface"
           }
          ],
          "table": [
           {
            "cells": {
             "fill": {
              "color": "#EBF0F8"
             },
             "line": {
              "color": "white"
             }
            },
            "header": {
             "fill": {
              "color": "#C8D4E3"
             },
             "line": {
              "color": "white"
             }
            },
            "type": "table"
           }
          ]
         },
         "layout": {
          "annotationdefaults": {
           "arrowcolor": "#2a3f5f",
           "arrowhead": 0,
           "arrowwidth": 1
          },
          "autotypenumbers": "strict",
          "coloraxis": {
           "colorbar": {
            "outlinewidth": 0,
            "ticks": ""
           }
          },
          "colorscale": {
           "diverging": [
            [
             0,
             "#8e0152"
            ],
            [
             0.1,
             "#c51b7d"
            ],
            [
             0.2,
             "#de77ae"
            ],
            [
             0.3,
             "#f1b6da"
            ],
            [
             0.4,
             "#fde0ef"
            ],
            [
             0.5,
             "#f7f7f7"
            ],
            [
             0.6,
             "#e6f5d0"
            ],
            [
             0.7,
             "#b8e186"
            ],
            [
             0.8,
             "#7fbc41"
            ],
            [
             0.9,
             "#4d9221"
            ],
            [
             1,
             "#276419"
            ]
           ],
           "sequential": [
            [
             0,
             "#0d0887"
            ],
            [
             0.1111111111111111,
             "#46039f"
            ],
            [
             0.2222222222222222,
             "#7201a8"
            ],
            [
             0.3333333333333333,
             "#9c179e"
            ],
            [
             0.4444444444444444,
             "#bd3786"
            ],
            [
             0.5555555555555556,
             "#d8576b"
            ],
            [
             0.6666666666666666,
             "#ed7953"
            ],
            [
             0.7777777777777778,
             "#fb9f3a"
            ],
            [
             0.8888888888888888,
             "#fdca26"
            ],
            [
             1,
             "#f0f921"
            ]
           ],
           "sequentialminus": [
            [
             0,
             "#0d0887"
            ],
            [
             0.1111111111111111,
             "#46039f"
            ],
            [
             0.2222222222222222,
             "#7201a8"
            ],
            [
             0.3333333333333333,
             "#9c179e"
            ],
            [
             0.4444444444444444,
             "#bd3786"
            ],
            [
             0.5555555555555556,
             "#d8576b"
            ],
            [
             0.6666666666666666,
             "#ed7953"
            ],
            [
             0.7777777777777778,
             "#fb9f3a"
            ],
            [
             0.8888888888888888,
             "#fdca26"
            ],
            [
             1,
             "#f0f921"
            ]
           ]
          },
          "colorway": [
           "#636efa",
           "#EF553B",
           "#00cc96",
           "#ab63fa",
           "#FFA15A",
           "#19d3f3",
           "#FF6692",
           "#B6E880",
           "#FF97FF",
           "#FECB52"
          ],
          "font": {
           "color": "#2a3f5f"
          },
          "geo": {
           "bgcolor": "white",
           "lakecolor": "white",
           "landcolor": "#E5ECF6",
           "showlakes": true,
           "showland": true,
           "subunitcolor": "white"
          },
          "hoverlabel": {
           "align": "left"
          },
          "hovermode": "closest",
          "mapbox": {
           "style": "light"
          },
          "paper_bgcolor": "white",
          "plot_bgcolor": "#E5ECF6",
          "polar": {
           "angularaxis": {
            "gridcolor": "white",
            "linecolor": "white",
            "ticks": ""
           },
           "bgcolor": "#E5ECF6",
           "radialaxis": {
            "gridcolor": "white",
            "linecolor": "white",
            "ticks": ""
           }
          },
          "scene": {
           "xaxis": {
            "backgroundcolor": "#E5ECF6",
            "gridcolor": "white",
            "gridwidth": 2,
            "linecolor": "white",
            "showbackground": true,
            "ticks": "",
            "zerolinecolor": "white"
           },
           "yaxis": {
            "backgroundcolor": "#E5ECF6",
            "gridcolor": "white",
            "gridwidth": 2,
            "linecolor": "white",
            "showbackground": true,
            "ticks": "",
            "zerolinecolor": "white"
           },
           "zaxis": {
            "backgroundcolor": "#E5ECF6",
            "gridcolor": "white",
            "gridwidth": 2,
            "linecolor": "white",
            "showbackground": true,
            "ticks": "",
            "zerolinecolor": "white"
           }
          },
          "shapedefaults": {
           "line": {
            "color": "#2a3f5f"
           }
          },
          "ternary": {
           "aaxis": {
            "gridcolor": "white",
            "linecolor": "white",
            "ticks": ""
           },
           "baxis": {
            "gridcolor": "white",
            "linecolor": "white",
            "ticks": ""
           },
           "bgcolor": "#E5ECF6",
           "caxis": {
            "gridcolor": "white",
            "linecolor": "white",
            "ticks": ""
           }
          },
          "title": {
           "x": 0.05
          },
          "xaxis": {
           "automargin": true,
           "gridcolor": "white",
           "linecolor": "white",
           "ticks": "",
           "title": {
            "standoff": 15
           },
           "zerolinecolor": "white",
           "zerolinewidth": 2
          },
          "yaxis": {
           "automargin": true,
           "gridcolor": "white",
           "linecolor": "white",
           "ticks": "",
           "title": {
            "standoff": 15
           },
           "zerolinecolor": "white",
           "zerolinewidth": 2
          }
         }
        },
        "title": {
         "text": "Analyse en Composantes Principales avec MDS"
        },
        "xaxis": {
         "anchor": "y",
         "domain": [
          0,
          1
         ],
         "title": {
          "text": "Composante MDS 1"
         }
        },
        "yaxis": {
         "anchor": "x",
         "domain": [
          0,
          1
         ],
         "title": {
          "text": "Composante MDS 2"
         }
        }
       }
      }
     },
     "metadata": {},
     "output_type": "display_data"
    }
   ],
   "source": [
    "from sklearn.manifold import MDS\n",
    "\n",
    "# Apply MDS\n",
    "mds = MDS(n_components=2, random_state=42)  # Set random_state for reproducibility\n",
    "mds_result = mds.fit_transform(data)  \n",
    "\n",
    "# Create a DataFrame for visualization\n",
    "mds_df = pd.DataFrame(mds_result, columns=['MDS1', 'MDS2'])\n",
    "mds_df['Country name'] = df['Country name']\n",
    "mds_df['Regional indicator'] = df['Regional indicator']\n",
    "\n",
    "# Visualize\n",
    "fig = px.scatter(\n",
    "    mds_df,\n",
    "    x='MDS1',\n",
    "    y='MDS2',\n",
    "    title='Analyse en Composantes Principales avec MDS',\n",
    "    labels={\n",
    "        'MDS1': 'Composante MDS 1',\n",
    "        'MDS2': 'Composante MDS 2',\n",
    "        'Country name': 'Country name'\n",
    "    },\n",
    "    hover_name='Country name',\n",
    "    color='Regional indicator'\n",
    ")\n",
    "fig.show()\n"
   ]
  }
 ],
 "metadata": {
  "kernelspec": {
   "display_name": "Python 3",
   "language": "python",
   "name": "python3"
  },
  "language_info": {
   "codemirror_mode": {
    "name": "ipython",
    "version": 3
   },
   "file_extension": ".py",
   "mimetype": "text/x-python",
   "name": "python",
   "nbconvert_exporter": "python",
   "pygments_lexer": "ipython3",
   "version": "3.12.0"
  }
 },
 "nbformat": 4,
 "nbformat_minor": 2
}
