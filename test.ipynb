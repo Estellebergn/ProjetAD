{
 "cells": [
  {
   "cell_type": "code",
   "execution_count": 3,
   "metadata": {},
   "outputs": [],
   "source": [
    "import pandas as pd"
   ]
  },
  {
   "cell_type": "markdown",
   "metadata": {},
   "source": []
  },
  {
   "cell_type": "code",
   "execution_count": 4,
   "metadata": {},
   "outputs": [
    {
     "name": "stdout",
     "output_type": "stream",
     "text": [
      "Index(['Country name', 'Regional indicator', 'Ladder score',\n",
      "       'Standard error of ladder score', 'upperwhisker', 'lowerwhisker',\n",
      "       'Logged GDP per capita', 'Social support', 'Healthy life expectancy',\n",
      "       'Freedom to make life choices', 'Generosity',\n",
      "       'Perceptions of corruption', 'Ladder score in Dystopia',\n",
      "       'Explained by: Log GDP per capita', 'Explained by: Social support',\n",
      "       'Explained by: Healthy life expectancy',\n",
      "       'Explained by: Freedom to make life choices',\n",
      "       'Explained by: Generosity', 'Explained by: Perceptions of corruption',\n",
      "       'Dystopia + residual'],\n",
      "      dtype='object')\n",
      "  Country name Regional indicator  Ladder score  \\\n",
      "0      Finland     Western Europe        7.8087   \n",
      "1      Denmark     Western Europe        7.6456   \n",
      "2  Switzerland     Western Europe        7.5599   \n",
      "3      Iceland     Western Europe        7.5045   \n",
      "4       Norway     Western Europe        7.4880   \n",
      "\n",
      "   Standard error of ladder score  upperwhisker  lowerwhisker  \\\n",
      "0                        0.031156      7.869766      7.747634   \n",
      "1                        0.033492      7.711245      7.579955   \n",
      "2                        0.035014      7.628528      7.491272   \n",
      "3                        0.059616      7.621347      7.387653   \n",
      "4                        0.034837      7.556281      7.419719   \n",
      "\n",
      "   Logged GDP per capita  Social support  Healthy life expectancy  \\\n",
      "0              10.639267        0.954330                71.900825   \n",
      "1              10.774001        0.955991                72.402504   \n",
      "2              10.979933        0.942847                74.102448   \n",
      "3              10.772559        0.974670                73.000000   \n",
      "4              11.087804        0.952487                73.200783   \n",
      "\n",
      "   Freedom to make life choices  Generosity  Perceptions of corruption  \\\n",
      "0                      0.949172   -0.059482                   0.195445   \n",
      "1                      0.951444    0.066202                   0.168489   \n",
      "2                      0.921337    0.105911                   0.303728   \n",
      "3                      0.948892    0.246944                   0.711710   \n",
      "4                      0.955750    0.134533                   0.263218   \n",
      "\n",
      "   Ladder score in Dystopia  Explained by: Log GDP per capita  \\\n",
      "0                  1.972317                          1.285190   \n",
      "1                  1.972317                          1.326949   \n",
      "2                  1.972317                          1.390774   \n",
      "3                  1.972317                          1.326502   \n",
      "4                  1.972317                          1.424207   \n",
      "\n",
      "   Explained by: Social support  Explained by: Healthy life expectancy  \\\n",
      "0                      1.499526                               0.961271   \n",
      "1                      1.503449                               0.979333   \n",
      "2                      1.472403                               1.040533   \n",
      "3                      1.547567                               1.000843   \n",
      "4                      1.495173                               1.008072   \n",
      "\n",
      "   Explained by: Freedom to make life choices  Explained by: Generosity  \\\n",
      "0                                    0.662317                  0.159670   \n",
      "1                                    0.665040                  0.242793   \n",
      "2                                    0.628954                  0.269056   \n",
      "3                                    0.661981                  0.362330   \n",
      "4                                    0.670201                  0.287985   \n",
      "\n",
      "   Explained by: Perceptions of corruption  Dystopia + residual  \n",
      "0                                 0.477857             2.762835  \n",
      "1                                 0.495260             2.432741  \n",
      "2                                 0.407946             2.350267  \n",
      "3                                 0.144541             2.460688  \n",
      "4                                 0.434101             2.168266  \n"
     ]
    }
   ],
   "source": [
    "# Chargement data\n",
    "data_2020 = pd.read_csv('data/2020.csv')\n",
    "data_2021 = pd.read_csv('data/2021.csv')\n",
    "data_2022 = pd.read_csv('data/2022.csv')\n",
    "\n",
    "print(data_2020.columns)\n",
    "print(data_2020.head())"
   ]
  },
  {
   "cell_type": "code",
   "execution_count": 5,
   "metadata": {},
   "outputs": [
    {
     "data": {
      "application/vnd.plotly.v1+json": {
       "config": {
        "plotlyServerURL": "https://plot.ly"
       },
       "data": [
        {
         "alignmentgroup": "True",
         "hovertemplate": "Regional indicator=Western Europe<br>Country name=%{x}<br>Ladder score=%{y}<extra></extra>",
         "legendgroup": "Western Europe",
         "marker": {
          "color": "#636efa",
          "pattern": {
           "shape": ""
          }
         },
         "name": "Western Europe",
         "offsetgroup": "Western Europe",
         "orientation": "v",
         "showlegend": true,
         "textposition": "auto",
         "type": "bar",
         "x": [
          "Finland",
          "Denmark",
          "Switzerland",
          "Iceland",
          "Norway",
          "Netherlands",
          "Sweden",
          "Austria",
          "Luxembourg",
          "United Kingdom",
          "Ireland",
          "Germany",
          "Belgium",
          "Malta",
          "France",
          "Spain",
          "Italy",
          "Cyprus",
          "Portugal",
          "North Cyprus",
          "Greece"
         ],
         "xaxis": "x",
         "y": [
          7.808700085,
          7.645599842,
          7.559899807,
          7.504499912,
          7.487999916,
          7.448900223,
          7.353499889,
          7.294199944,
          7.237500191,
          7.164500237,
          7.093699932,
          7.075799942,
          6.863500118,
          6.772799969,
          6.663799763,
          6.400899887,
          6.38740015,
          6.15899992,
          5.910900116,
          5.53550005,
          5.514999866
         ],
         "yaxis": "y"
        },
        {
         "alignmentgroup": "True",
         "hovertemplate": "Regional indicator=North America and ANZ<br>Country name=%{x}<br>Ladder score=%{y}<extra></extra>",
         "legendgroup": "North America and ANZ",
         "marker": {
          "color": "#EF553B",
          "pattern": {
           "shape": ""
          }
         },
         "name": "North America and ANZ",
         "offsetgroup": "North America and ANZ",
         "orientation": "v",
         "showlegend": true,
         "textposition": "auto",
         "type": "bar",
         "x": [
          "New Zealand",
          "Canada",
          "Australia",
          "United States"
         ],
         "xaxis": "x",
         "y": [
          7.299600124,
          7.23210001,
          7.222799778,
          6.939599991
         ],
         "yaxis": "y"
        },
        {
         "alignmentgroup": "True",
         "hovertemplate": "Regional indicator=Middle East and North Africa<br>Country name=%{x}<br>Ladder score=%{y}<extra></extra>",
         "legendgroup": "Middle East and North Africa",
         "marker": {
          "color": "#00cc96",
          "pattern": {
           "shape": ""
          }
         },
         "name": "Middle East and North Africa",
         "offsetgroup": "Middle East and North Africa",
         "orientation": "v",
         "showlegend": true,
         "textposition": "auto",
         "type": "bar",
         "x": [
          "Israel",
          "United Arab Emirates",
          "Saudi Arabia",
          "Bahrain",
          "Kuwait",
          "Libya",
          "Turkey",
          "Morocco",
          "Algeria",
          "Iraq",
          "Lebanon",
          "Iran",
          "Jordan",
          "Palestinian Territories",
          "Tunisia",
          "Egypt",
          "Yemen"
         ],
         "xaxis": "x",
         "y": [
          7.128600121,
          6.790800095,
          6.406499863,
          6.227300167,
          6.102099895,
          5.488800049,
          5.131800175,
          5.094799995,
          5.005099773,
          4.784800053,
          4.771500111,
          4.672399998,
          4.633399963,
          4.552800179,
          4.392199993,
          4.151400089,
          3.527400017
         ],
         "yaxis": "y"
        },
        {
         "alignmentgroup": "True",
         "hovertemplate": "Regional indicator=Latin America and Caribbean<br>Country name=%{x}<br>Ladder score=%{y}<extra></extra>",
         "legendgroup": "Latin America and Caribbean",
         "marker": {
          "color": "#ab63fa",
          "pattern": {
           "shape": ""
          }
         },
         "name": "Latin America and Caribbean",
         "offsetgroup": "Latin America and Caribbean",
         "orientation": "v",
         "showlegend": true,
         "textposition": "auto",
         "type": "bar",
         "x": [
          "Costa Rica",
          "Mexico",
          "Uruguay",
          "Guatemala",
          "Brazil",
          "El Salvador",
          "Panama",
          "Chile",
          "Trinidad and Tobago",
          "Colombia",
          "Nicaragua",
          "Argentina",
          "Honduras",
          "Ecuador",
          "Jamaica",
          "Peru",
          "Bolivia",
          "Paraguay",
          "Dominican Republic",
          "Venezuela",
          "Haiti"
         ],
         "xaxis": "x",
         "y": [
          7.121399879,
          6.465000153,
          6.440100193,
          6.398900032,
          6.375599861,
          6.34829998,
          6.304800034,
          6.228499889,
          6.191899776,
          6.163400173,
          6.13710022,
          5.974699974,
          5.953199863,
          5.925199986,
          5.889800072,
          5.796800137,
          5.747499943,
          5.692100048,
          5.689199924,
          5.053199768,
          3.720799923
         ],
         "yaxis": "y"
        },
        {
         "alignmentgroup": "True",
         "hovertemplate": "Regional indicator=Central and Eastern Europe<br>Country name=%{x}<br>Ladder score=%{y}<extra></extra>",
         "legendgroup": "Central and Eastern Europe",
         "marker": {
          "color": "#FFA15A",
          "pattern": {
           "shape": ""
          }
         },
         "name": "Central and Eastern Europe",
         "offsetgroup": "Central and Eastern Europe",
         "orientation": "v",
         "showlegend": true,
         "textposition": "auto",
         "type": "bar",
         "x": [
          "Czech Republic",
          "Slovenia",
          "Kosovo",
          "Slovakia",
          "Lithuania",
          "Poland",
          "Romania",
          "Estonia",
          "Hungary",
          "Latvia",
          "Serbia",
          "Bosnia and Herzegovina",
          "Montenegro",
          "Croatia",
          "Macedonia",
          "Bulgaria",
          "Albania"
         ],
         "xaxis": "x",
         "y": [
          6.910900116,
          6.363399982,
          6.325200081,
          6.280600071,
          6.215499878,
          6.186299801,
          6.123700142,
          6.021800041,
          6.000400066,
          5.949999809,
          5.77820015,
          5.674099922,
          5.54610014,
          5.504700184,
          5.159800053,
          5.101500034,
          4.882699966
         ],
         "yaxis": "y"
        },
        {
         "alignmentgroup": "True",
         "hovertemplate": "Regional indicator=East Asia<br>Country name=%{x}<br>Ladder score=%{y}<extra></extra>",
         "legendgroup": "East Asia",
         "marker": {
          "color": "#19d3f3",
          "pattern": {
           "shape": ""
          }
         },
         "name": "East Asia",
         "offsetgroup": "East Asia",
         "orientation": "v",
         "showlegend": true,
         "textposition": "auto",
         "type": "bar",
         "x": [
          "Taiwan Province of China",
          "South Korea",
          "Japan",
          "Hong Kong S.A.R. of China",
          "Mongolia",
          "China"
         ],
         "xaxis": "x",
         "y": [
          6.45539999,
          5.872399807,
          5.870800018,
          5.510399818,
          5.456200123,
          5.123899937
         ],
         "yaxis": "y"
        },
        {
         "alignmentgroup": "True",
         "hovertemplate": "Regional indicator=Southeast Asia<br>Country name=%{x}<br>Ladder score=%{y}<extra></extra>",
         "legendgroup": "Southeast Asia",
         "marker": {
          "color": "#FF6692",
          "pattern": {
           "shape": ""
          }
         },
         "name": "Southeast Asia",
         "offsetgroup": "Southeast Asia",
         "orientation": "v",
         "showlegend": true,
         "textposition": "auto",
         "type": "bar",
         "x": [
          "Singapore",
          "Philippines",
          "Thailand",
          "Malaysia",
          "Vietnam",
          "Indonesia",
          "Laos",
          "Cambodia",
          "Myanmar"
         ],
         "xaxis": "x",
         "y": [
          6.377099991,
          6.006000042,
          5.998799801,
          5.384300232,
          5.353499889,
          5.285600185,
          4.888599873,
          4.848400116,
          4.308000088
         ],
         "yaxis": "y"
        },
        {
         "alignmentgroup": "True",
         "hovertemplate": "Regional indicator=Commonwealth of Independent States<br>Country name=%{x}<br>Ladder score=%{y}<extra></extra>",
         "legendgroup": "Commonwealth of Independent States",
         "marker": {
          "color": "#B6E880",
          "pattern": {
           "shape": ""
          }
         },
         "name": "Commonwealth of Independent States",
         "offsetgroup": "Commonwealth of Independent States",
         "orientation": "v",
         "showlegend": true,
         "textposition": "auto",
         "type": "bar",
         "x": [
          "Uzbekistan",
          "Kazakhstan",
          "Moldova",
          "Tajikistan",
          "Russia",
          "Kyrgyzstan",
          "Belarus",
          "Azerbaijan",
          "Turkmenistan",
          "Armenia",
          "Georgia",
          "Ukraine"
         ],
         "xaxis": "x",
         "y": [
          6.257599831,
          6.057899952,
          5.607500076,
          5.555699825,
          5.546000004,
          5.541500092,
          5.539899826,
          5.164800167,
          5.119100094,
          4.676799774,
          4.672599792,
          4.56069994
         ],
         "yaxis": "y"
        },
        {
         "alignmentgroup": "True",
         "hovertemplate": "Regional indicator=Sub-Saharan Africa<br>Country name=%{x}<br>Ladder score=%{y}<extra></extra>",
         "legendgroup": "Sub-Saharan Africa",
         "marker": {
          "color": "#FF97FF",
          "pattern": {
           "shape": ""
          }
         },
         "name": "Sub-Saharan Africa",
         "offsetgroup": "Sub-Saharan Africa",
         "orientation": "v",
         "showlegend": true,
         "textposition": "auto",
         "type": "bar",
         "x": [
          "Mauritius",
          "Ivory Coast",
          "Benin",
          "Congo (Brazzaville)",
          "Ghana",
          "Cameroon",
          "Senegal",
          "Guinea",
          "Niger",
          "Gabon",
          "South Africa",
          "Burkina Faso",
          "Gambia",
          "Mali",
          "Nigeria",
          "Mozambique",
          "Kenya",
          "Namibia",
          "Liberia",
          "Uganda",
          "Chad",
          "Mauritania",
          "Congo (Kinshasa)",
          "Swaziland",
          "Comoros",
          "Togo",
          "Ethiopia",
          "Madagascar",
          "Sierra Leone",
          "Burundi",
          "Zambia",
          "Lesotho",
          "Malawi",
          "Botswana",
          "Tanzania",
          "Central African Republic",
          "Rwanda",
          "Zimbabwe",
          "South Sudan"
         ],
         "xaxis": "x",
         "y": [
          6.101299763,
          5.233300209,
          5.21600008,
          5.194399834,
          5.147999763,
          5.084899902,
          4.980800152,
          4.949299812,
          4.909599781,
          4.829299927,
          4.814099789,
          4.768700123,
          4.750599861,
          4.729300022,
          4.724100113,
          4.623600006,
          4.583000183,
          4.571100235,
          4.557899952,
          4.43200016,
          4.422699928,
          4.374599934,
          4.31099987,
          4.308100224,
          4.288599968,
          4.187200069,
          4.186200142,
          4.165599823,
          3.926399946,
          3.775300026,
          3.759399891,
          3.652800083,
          3.538000107,
          3.478899956,
          3.476200104,
          3.475899935,
          3.312299967,
          3.299200058,
          2.816600084
         ],
         "yaxis": "y"
        },
        {
         "alignmentgroup": "True",
         "hovertemplate": "Regional indicator=South Asia<br>Country name=%{x}<br>Ladder score=%{y}<extra></extra>",
         "legendgroup": "South Asia",
         "marker": {
          "color": "#FECB52",
          "pattern": {
           "shape": ""
          }
         },
         "name": "South Asia",
         "offsetgroup": "South Asia",
         "orientation": "v",
         "showlegend": true,
         "textposition": "auto",
         "type": "bar",
         "x": [
          "Pakistan",
          "Maldives",
          "Nepal",
          "Bangladesh",
          "Sri Lanka",
          "India",
          "Afghanistan"
         ],
         "xaxis": "x",
         "y": [
          5.69329977,
          5.197599888,
          5.137199879,
          4.832799911,
          4.327000141,
          3.573299885,
          2.566900015
         ],
         "yaxis": "y"
        }
       ],
       "layout": {
        "barmode": "relative",
        "legend": {
         "title": {
          "text": "Regional indicator"
         },
         "tracegroupgap": 0
        },
        "template": {
         "data": {
          "bar": [
           {
            "error_x": {
             "color": "#2a3f5f"
            },
            "error_y": {
             "color": "#2a3f5f"
            },
            "marker": {
             "line": {
              "color": "#E5ECF6",
              "width": 0.5
             },
             "pattern": {
              "fillmode": "overlay",
              "size": 10,
              "solidity": 0.2
             }
            },
            "type": "bar"
           }
          ],
          "barpolar": [
           {
            "marker": {
             "line": {
              "color": "#E5ECF6",
              "width": 0.5
             },
             "pattern": {
              "fillmode": "overlay",
              "size": 10,
              "solidity": 0.2
             }
            },
            "type": "barpolar"
           }
          ],
          "carpet": [
           {
            "aaxis": {
             "endlinecolor": "#2a3f5f",
             "gridcolor": "white",
             "linecolor": "white",
             "minorgridcolor": "white",
             "startlinecolor": "#2a3f5f"
            },
            "baxis": {
             "endlinecolor": "#2a3f5f",
             "gridcolor": "white",
             "linecolor": "white",
             "minorgridcolor": "white",
             "startlinecolor": "#2a3f5f"
            },
            "type": "carpet"
           }
          ],
          "choropleth": [
           {
            "colorbar": {
             "outlinewidth": 0,
             "ticks": ""
            },
            "type": "choropleth"
           }
          ],
          "contour": [
           {
            "colorbar": {
             "outlinewidth": 0,
             "ticks": ""
            },
            "colorscale": [
             [
              0,
              "#0d0887"
             ],
             [
              0.1111111111111111,
              "#46039f"
             ],
             [
              0.2222222222222222,
              "#7201a8"
             ],
             [
              0.3333333333333333,
              "#9c179e"
             ],
             [
              0.4444444444444444,
              "#bd3786"
             ],
             [
              0.5555555555555556,
              "#d8576b"
             ],
             [
              0.6666666666666666,
              "#ed7953"
             ],
             [
              0.7777777777777778,
              "#fb9f3a"
             ],
             [
              0.8888888888888888,
              "#fdca26"
             ],
             [
              1,
              "#f0f921"
             ]
            ],
            "type": "contour"
           }
          ],
          "contourcarpet": [
           {
            "colorbar": {
             "outlinewidth": 0,
             "ticks": ""
            },
            "type": "contourcarpet"
           }
          ],
          "heatmap": [
           {
            "colorbar": {
             "outlinewidth": 0,
             "ticks": ""
            },
            "colorscale": [
             [
              0,
              "#0d0887"
             ],
             [
              0.1111111111111111,
              "#46039f"
             ],
             [
              0.2222222222222222,
              "#7201a8"
             ],
             [
              0.3333333333333333,
              "#9c179e"
             ],
             [
              0.4444444444444444,
              "#bd3786"
             ],
             [
              0.5555555555555556,
              "#d8576b"
             ],
             [
              0.6666666666666666,
              "#ed7953"
             ],
             [
              0.7777777777777778,
              "#fb9f3a"
             ],
             [
              0.8888888888888888,
              "#fdca26"
             ],
             [
              1,
              "#f0f921"
             ]
            ],
            "type": "heatmap"
           }
          ],
          "heatmapgl": [
           {
            "colorbar": {
             "outlinewidth": 0,
             "ticks": ""
            },
            "colorscale": [
             [
              0,
              "#0d0887"
             ],
             [
              0.1111111111111111,
              "#46039f"
             ],
             [
              0.2222222222222222,
              "#7201a8"
             ],
             [
              0.3333333333333333,
              "#9c179e"
             ],
             [
              0.4444444444444444,
              "#bd3786"
             ],
             [
              0.5555555555555556,
              "#d8576b"
             ],
             [
              0.6666666666666666,
              "#ed7953"
             ],
             [
              0.7777777777777778,
              "#fb9f3a"
             ],
             [
              0.8888888888888888,
              "#fdca26"
             ],
             [
              1,
              "#f0f921"
             ]
            ],
            "type": "heatmapgl"
           }
          ],
          "histogram": [
           {
            "marker": {
             "pattern": {
              "fillmode": "overlay",
              "size": 10,
              "solidity": 0.2
             }
            },
            "type": "histogram"
           }
          ],
          "histogram2d": [
           {
            "colorbar": {
             "outlinewidth": 0,
             "ticks": ""
            },
            "colorscale": [
             [
              0,
              "#0d0887"
             ],
             [
              0.1111111111111111,
              "#46039f"
             ],
             [
              0.2222222222222222,
              "#7201a8"
             ],
             [
              0.3333333333333333,
              "#9c179e"
             ],
             [
              0.4444444444444444,
              "#bd3786"
             ],
             [
              0.5555555555555556,
              "#d8576b"
             ],
             [
              0.6666666666666666,
              "#ed7953"
             ],
             [
              0.7777777777777778,
              "#fb9f3a"
             ],
             [
              0.8888888888888888,
              "#fdca26"
             ],
             [
              1,
              "#f0f921"
             ]
            ],
            "type": "histogram2d"
           }
          ],
          "histogram2dcontour": [
           {
            "colorbar": {
             "outlinewidth": 0,
             "ticks": ""
            },
            "colorscale": [
             [
              0,
              "#0d0887"
             ],
             [
              0.1111111111111111,
              "#46039f"
             ],
             [
              0.2222222222222222,
              "#7201a8"
             ],
             [
              0.3333333333333333,
              "#9c179e"
             ],
             [
              0.4444444444444444,
              "#bd3786"
             ],
             [
              0.5555555555555556,
              "#d8576b"
             ],
             [
              0.6666666666666666,
              "#ed7953"
             ],
             [
              0.7777777777777778,
              "#fb9f3a"
             ],
             [
              0.8888888888888888,
              "#fdca26"
             ],
             [
              1,
              "#f0f921"
             ]
            ],
            "type": "histogram2dcontour"
           }
          ],
          "mesh3d": [
           {
            "colorbar": {
             "outlinewidth": 0,
             "ticks": ""
            },
            "type": "mesh3d"
           }
          ],
          "parcoords": [
           {
            "line": {
             "colorbar": {
              "outlinewidth": 0,
              "ticks": ""
             }
            },
            "type": "parcoords"
           }
          ],
          "pie": [
           {
            "automargin": true,
            "type": "pie"
           }
          ],
          "scatter": [
           {
            "fillpattern": {
             "fillmode": "overlay",
             "size": 10,
             "solidity": 0.2
            },
            "type": "scatter"
           }
          ],
          "scatter3d": [
           {
            "line": {
             "colorbar": {
              "outlinewidth": 0,
              "ticks": ""
             }
            },
            "marker": {
             "colorbar": {
              "outlinewidth": 0,
              "ticks": ""
             }
            },
            "type": "scatter3d"
           }
          ],
          "scattercarpet": [
           {
            "marker": {
             "colorbar": {
              "outlinewidth": 0,
              "ticks": ""
             }
            },
            "type": "scattercarpet"
           }
          ],
          "scattergeo": [
           {
            "marker": {
             "colorbar": {
              "outlinewidth": 0,
              "ticks": ""
             }
            },
            "type": "scattergeo"
           }
          ],
          "scattergl": [
           {
            "marker": {
             "colorbar": {
              "outlinewidth": 0,
              "ticks": ""
             }
            },
            "type": "scattergl"
           }
          ],
          "scattermapbox": [
           {
            "marker": {
             "colorbar": {
              "outlinewidth": 0,
              "ticks": ""
             }
            },
            "type": "scattermapbox"
           }
          ],
          "scatterpolar": [
           {
            "marker": {
             "colorbar": {
              "outlinewidth": 0,
              "ticks": ""
             }
            },
            "type": "scatterpolar"
           }
          ],
          "scatterpolargl": [
           {
            "marker": {
             "colorbar": {
              "outlinewidth": 0,
              "ticks": ""
             }
            },
            "type": "scatterpolargl"
           }
          ],
          "scatterternary": [
           {
            "marker": {
             "colorbar": {
              "outlinewidth": 0,
              "ticks": ""
             }
            },
            "type": "scatterternary"
           }
          ],
          "surface": [
           {
            "colorbar": {
             "outlinewidth": 0,
             "ticks": ""
            },
            "colorscale": [
             [
              0,
              "#0d0887"
             ],
             [
              0.1111111111111111,
              "#46039f"
             ],
             [
              0.2222222222222222,
              "#7201a8"
             ],
             [
              0.3333333333333333,
              "#9c179e"
             ],
             [
              0.4444444444444444,
              "#bd3786"
             ],
             [
              0.5555555555555556,
              "#d8576b"
             ],
             [
              0.6666666666666666,
              "#ed7953"
             ],
             [
              0.7777777777777778,
              "#fb9f3a"
             ],
             [
              0.8888888888888888,
              "#fdca26"
             ],
             [
              1,
              "#f0f921"
             ]
            ],
            "type": "surface"
           }
          ],
          "table": [
           {
            "cells": {
             "fill": {
              "color": "#EBF0F8"
             },
             "line": {
              "color": "white"
             }
            },
            "header": {
             "fill": {
              "color": "#C8D4E3"
             },
             "line": {
              "color": "white"
             }
            },
            "type": "table"
           }
          ]
         },
         "layout": {
          "annotationdefaults": {
           "arrowcolor": "#2a3f5f",
           "arrowhead": 0,
           "arrowwidth": 1
          },
          "autotypenumbers": "strict",
          "coloraxis": {
           "colorbar": {
            "outlinewidth": 0,
            "ticks": ""
           }
          },
          "colorscale": {
           "diverging": [
            [
             0,
             "#8e0152"
            ],
            [
             0.1,
             "#c51b7d"
            ],
            [
             0.2,
             "#de77ae"
            ],
            [
             0.3,
             "#f1b6da"
            ],
            [
             0.4,
             "#fde0ef"
            ],
            [
             0.5,
             "#f7f7f7"
            ],
            [
             0.6,
             "#e6f5d0"
            ],
            [
             0.7,
             "#b8e186"
            ],
            [
             0.8,
             "#7fbc41"
            ],
            [
             0.9,
             "#4d9221"
            ],
            [
             1,
             "#276419"
            ]
           ],
           "sequential": [
            [
             0,
             "#0d0887"
            ],
            [
             0.1111111111111111,
             "#46039f"
            ],
            [
             0.2222222222222222,
             "#7201a8"
            ],
            [
             0.3333333333333333,
             "#9c179e"
            ],
            [
             0.4444444444444444,
             "#bd3786"
            ],
            [
             0.5555555555555556,
             "#d8576b"
            ],
            [
             0.6666666666666666,
             "#ed7953"
            ],
            [
             0.7777777777777778,
             "#fb9f3a"
            ],
            [
             0.8888888888888888,
             "#fdca26"
            ],
            [
             1,
             "#f0f921"
            ]
           ],
           "sequentialminus": [
            [
             0,
             "#0d0887"
            ],
            [
             0.1111111111111111,
             "#46039f"
            ],
            [
             0.2222222222222222,
             "#7201a8"
            ],
            [
             0.3333333333333333,
             "#9c179e"
            ],
            [
             0.4444444444444444,
             "#bd3786"
            ],
            [
             0.5555555555555556,
             "#d8576b"
            ],
            [
             0.6666666666666666,
             "#ed7953"
            ],
            [
             0.7777777777777778,
             "#fb9f3a"
            ],
            [
             0.8888888888888888,
             "#fdca26"
            ],
            [
             1,
             "#f0f921"
            ]
           ]
          },
          "colorway": [
           "#636efa",
           "#EF553B",
           "#00cc96",
           "#ab63fa",
           "#FFA15A",
           "#19d3f3",
           "#FF6692",
           "#B6E880",
           "#FF97FF",
           "#FECB52"
          ],
          "font": {
           "color": "#2a3f5f"
          },
          "geo": {
           "bgcolor": "white",
           "lakecolor": "white",
           "landcolor": "#E5ECF6",
           "showlakes": true,
           "showland": true,
           "subunitcolor": "white"
          },
          "hoverlabel": {
           "align": "left"
          },
          "hovermode": "closest",
          "mapbox": {
           "style": "light"
          },
          "paper_bgcolor": "white",
          "plot_bgcolor": "#E5ECF6",
          "polar": {
           "angularaxis": {
            "gridcolor": "white",
            "linecolor": "white",
            "ticks": ""
           },
           "bgcolor": "#E5ECF6",
           "radialaxis": {
            "gridcolor": "white",
            "linecolor": "white",
            "ticks": ""
           }
          },
          "scene": {
           "xaxis": {
            "backgroundcolor": "#E5ECF6",
            "gridcolor": "white",
            "gridwidth": 2,
            "linecolor": "white",
            "showbackground": true,
            "ticks": "",
            "zerolinecolor": "white"
           },
           "yaxis": {
            "backgroundcolor": "#E5ECF6",
            "gridcolor": "white",
            "gridwidth": 2,
            "linecolor": "white",
            "showbackground": true,
            "ticks": "",
            "zerolinecolor": "white"
           },
           "zaxis": {
            "backgroundcolor": "#E5ECF6",
            "gridcolor": "white",
            "gridwidth": 2,
            "linecolor": "white",
            "showbackground": true,
            "ticks": "",
            "zerolinecolor": "white"
           }
          },
          "shapedefaults": {
           "line": {
            "color": "#2a3f5f"
           }
          },
          "ternary": {
           "aaxis": {
            "gridcolor": "white",
            "linecolor": "white",
            "ticks": ""
           },
           "baxis": {
            "gridcolor": "white",
            "linecolor": "white",
            "ticks": ""
           },
           "bgcolor": "#E5ECF6",
           "caxis": {
            "gridcolor": "white",
            "linecolor": "white",
            "ticks": ""
           }
          },
          "title": {
           "x": 0.05
          },
          "xaxis": {
           "automargin": true,
           "gridcolor": "white",
           "linecolor": "white",
           "ticks": "",
           "title": {
            "standoff": 15
           },
           "zerolinecolor": "white",
           "zerolinewidth": 2
          },
          "yaxis": {
           "automargin": true,
           "gridcolor": "white",
           "linecolor": "white",
           "ticks": "",
           "title": {
            "standoff": 15
           },
           "zerolinecolor": "white",
           "zerolinewidth": 2
          }
         }
        },
        "title": {
         "text": "Histogramme du score de bonheur par pays en 2020"
        },
        "xaxis": {
         "anchor": "y",
         "categoryorder": "total descending",
         "domain": [
          0,
          1
         ],
         "title": {
          "text": "Country name"
         }
        },
        "yaxis": {
         "anchor": "x",
         "domain": [
          0,
          1
         ],
         "title": {
          "text": "Ladder score"
         }
        }
       }
      }
     },
     "metadata": {},
     "output_type": "display_data"
    }
   ],
   "source": [
    "# Histogramme\n",
    "\n",
    "import plotly.express as px\n",
    "data_2020 = data_2020.sort_values(by='Ladder score', ascending=False)\n",
    "fig = px.bar(\n",
    "    data_2020,\n",
    "    x='Country name',\n",
    "    y='Ladder score',\n",
    "    title='Histogramme du score de bonheur par pays en 2020',\n",
    "    color='Regional indicator'\n",
    ")\n",
    "fig.update_xaxes(categoryorder='total descending')\n",
    "fig.show()"
   ]
  },
  {
   "cell_type": "code",
   "execution_count": 6,
   "metadata": {},
   "outputs": [],
   "source": [
    "df_numeric = data_2020[['Ladder score', 'Logged GDP per capita', 'Social support', 'Healthy life expectancy', 'Freedom to make life choices','Perceptions of corruption', 'Generosity']]\n",
    "\n"
   ]
  },
  {
   "cell_type": "code",
   "execution_count": 7,
   "metadata": {},
   "outputs": [
    {
     "data": {
      "application/vnd.plotly.v1+json": {
       "config": {
        "plotlyServerURL": "https://plot.ly"
       },
       "data": [
        {
         "coloraxis": "coloraxis",
         "hovertemplate": "Columns: %{x}<br>Columns: %{y}<br>Correlation: %{z}<extra></extra>",
         "name": "0",
         "texttemplate": "%{z}",
         "type": "heatmap",
         "x": [
          "Ladder score",
          "Logged GDP per capita",
          "Social support",
          "Healthy life expectancy",
          "Freedom to make life choices",
          "Perceptions of corruption",
          "Generosity"
         ],
         "xaxis": "x",
         "y": [
          "Ladder score",
          "Logged GDP per capita",
          "Social support",
          "Healthy life expectancy",
          "Freedom to make life choices",
          "Perceptions of corruption",
          "Generosity"
         ],
         "yaxis": "y",
         "z": [
          [
           1,
           0.7753744007526835,
           0.7650007567161385,
           0.770316289871849,
           0.5905967829225884,
           -0.4183050872559097,
           0.06904312657148512
          ],
          [
           0.7753744007526835,
           1,
           0.7818135831455395,
           0.848468617426851,
           0.41901864621438106,
           -0.33472907734432045,
           -0.11839937437059446
          ],
          [
           0.7650007567161385,
           0.7818135831455395,
           1,
           0.7427440895198051,
           0.47886317974441023,
           -0.21052960078864522,
           -0.05678035357271647
          ],
          [
           0.770316289871849,
           0.848468617426851,
           0.7427440895198051,
           1,
           0.44884618762649203,
           -0.35384120536095337,
           -0.0718521089021378
          ],
          [
           0.5905967829225884,
           0.41901864621438106,
           0.47886317974441023,
           0.44884618762649203,
           1,
           -0.42014450487659827,
           0.25372112360550303
          ],
          [
           -0.4183050872559097,
           -0.33472907734432045,
           -0.21052960078864522,
           -0.35384120536095337,
           -0.42014450487659827,
           1,
           -0.2784802257031198
          ],
          [
           0.06904312657148512,
           -0.11839937437059446,
           -0.05678035357271647,
           -0.0718521089021378,
           0.25372112360550303,
           -0.2784802257031198,
           1
          ]
         ]
        }
       ],
       "layout": {
        "coloraxis": {
         "cmax": 1,
         "cmin": -1,
         "colorbar": {
          "title": {
           "text": "Correlation"
          }
         },
         "colorscale": [
          [
           0,
           "rgb(103,0,31)"
          ],
          [
           0.1,
           "rgb(178,24,43)"
          ],
          [
           0.2,
           "rgb(214,96,77)"
          ],
          [
           0.3,
           "rgb(244,165,130)"
          ],
          [
           0.4,
           "rgb(253,219,199)"
          ],
          [
           0.5,
           "rgb(247,247,247)"
          ],
          [
           0.6,
           "rgb(209,229,240)"
          ],
          [
           0.7,
           "rgb(146,197,222)"
          ],
          [
           0.8,
           "rgb(67,147,195)"
          ],
          [
           0.9,
           "rgb(33,102,172)"
          ],
          [
           1,
           "rgb(5,48,97)"
          ]
         ]
        },
        "height": 800,
        "template": {
         "data": {
          "bar": [
           {
            "error_x": {
             "color": "#2a3f5f"
            },
            "error_y": {
             "color": "#2a3f5f"
            },
            "marker": {
             "line": {
              "color": "#E5ECF6",
              "width": 0.5
             },
             "pattern": {
              "fillmode": "overlay",
              "size": 10,
              "solidity": 0.2
             }
            },
            "type": "bar"
           }
          ],
          "barpolar": [
           {
            "marker": {
             "line": {
              "color": "#E5ECF6",
              "width": 0.5
             },
             "pattern": {
              "fillmode": "overlay",
              "size": 10,
              "solidity": 0.2
             }
            },
            "type": "barpolar"
           }
          ],
          "carpet": [
           {
            "aaxis": {
             "endlinecolor": "#2a3f5f",
             "gridcolor": "white",
             "linecolor": "white",
             "minorgridcolor": "white",
             "startlinecolor": "#2a3f5f"
            },
            "baxis": {
             "endlinecolor": "#2a3f5f",
             "gridcolor": "white",
             "linecolor": "white",
             "minorgridcolor": "white",
             "startlinecolor": "#2a3f5f"
            },
            "type": "carpet"
           }
          ],
          "choropleth": [
           {
            "colorbar": {
             "outlinewidth": 0,
             "ticks": ""
            },
            "type": "choropleth"
           }
          ],
          "contour": [
           {
            "colorbar": {
             "outlinewidth": 0,
             "ticks": ""
            },
            "colorscale": [
             [
              0,
              "#0d0887"
             ],
             [
              0.1111111111111111,
              "#46039f"
             ],
             [
              0.2222222222222222,
              "#7201a8"
             ],
             [
              0.3333333333333333,
              "#9c179e"
             ],
             [
              0.4444444444444444,
              "#bd3786"
             ],
             [
              0.5555555555555556,
              "#d8576b"
             ],
             [
              0.6666666666666666,
              "#ed7953"
             ],
             [
              0.7777777777777778,
              "#fb9f3a"
             ],
             [
              0.8888888888888888,
              "#fdca26"
             ],
             [
              1,
              "#f0f921"
             ]
            ],
            "type": "contour"
           }
          ],
          "contourcarpet": [
           {
            "colorbar": {
             "outlinewidth": 0,
             "ticks": ""
            },
            "type": "contourcarpet"
           }
          ],
          "heatmap": [
           {
            "colorbar": {
             "outlinewidth": 0,
             "ticks": ""
            },
            "colorscale": [
             [
              0,
              "#0d0887"
             ],
             [
              0.1111111111111111,
              "#46039f"
             ],
             [
              0.2222222222222222,
              "#7201a8"
             ],
             [
              0.3333333333333333,
              "#9c179e"
             ],
             [
              0.4444444444444444,
              "#bd3786"
             ],
             [
              0.5555555555555556,
              "#d8576b"
             ],
             [
              0.6666666666666666,
              "#ed7953"
             ],
             [
              0.7777777777777778,
              "#fb9f3a"
             ],
             [
              0.8888888888888888,
              "#fdca26"
             ],
             [
              1,
              "#f0f921"
             ]
            ],
            "type": "heatmap"
           }
          ],
          "heatmapgl": [
           {
            "colorbar": {
             "outlinewidth": 0,
             "ticks": ""
            },
            "colorscale": [
             [
              0,
              "#0d0887"
             ],
             [
              0.1111111111111111,
              "#46039f"
             ],
             [
              0.2222222222222222,
              "#7201a8"
             ],
             [
              0.3333333333333333,
              "#9c179e"
             ],
             [
              0.4444444444444444,
              "#bd3786"
             ],
             [
              0.5555555555555556,
              "#d8576b"
             ],
             [
              0.6666666666666666,
              "#ed7953"
             ],
             [
              0.7777777777777778,
              "#fb9f3a"
             ],
             [
              0.8888888888888888,
              "#fdca26"
             ],
             [
              1,
              "#f0f921"
             ]
            ],
            "type": "heatmapgl"
           }
          ],
          "histogram": [
           {
            "marker": {
             "pattern": {
              "fillmode": "overlay",
              "size": 10,
              "solidity": 0.2
             }
            },
            "type": "histogram"
           }
          ],
          "histogram2d": [
           {
            "colorbar": {
             "outlinewidth": 0,
             "ticks": ""
            },
            "colorscale": [
             [
              0,
              "#0d0887"
             ],
             [
              0.1111111111111111,
              "#46039f"
             ],
             [
              0.2222222222222222,
              "#7201a8"
             ],
             [
              0.3333333333333333,
              "#9c179e"
             ],
             [
              0.4444444444444444,
              "#bd3786"
             ],
             [
              0.5555555555555556,
              "#d8576b"
             ],
             [
              0.6666666666666666,
              "#ed7953"
             ],
             [
              0.7777777777777778,
              "#fb9f3a"
             ],
             [
              0.8888888888888888,
              "#fdca26"
             ],
             [
              1,
              "#f0f921"
             ]
            ],
            "type": "histogram2d"
           }
          ],
          "histogram2dcontour": [
           {
            "colorbar": {
             "outlinewidth": 0,
             "ticks": ""
            },
            "colorscale": [
             [
              0,
              "#0d0887"
             ],
             [
              0.1111111111111111,
              "#46039f"
             ],
             [
              0.2222222222222222,
              "#7201a8"
             ],
             [
              0.3333333333333333,
              "#9c179e"
             ],
             [
              0.4444444444444444,
              "#bd3786"
             ],
             [
              0.5555555555555556,
              "#d8576b"
             ],
             [
              0.6666666666666666,
              "#ed7953"
             ],
             [
              0.7777777777777778,
              "#fb9f3a"
             ],
             [
              0.8888888888888888,
              "#fdca26"
             ],
             [
              1,
              "#f0f921"
             ]
            ],
            "type": "histogram2dcontour"
           }
          ],
          "mesh3d": [
           {
            "colorbar": {
             "outlinewidth": 0,
             "ticks": ""
            },
            "type": "mesh3d"
           }
          ],
          "parcoords": [
           {
            "line": {
             "colorbar": {
              "outlinewidth": 0,
              "ticks": ""
             }
            },
            "type": "parcoords"
           }
          ],
          "pie": [
           {
            "automargin": true,
            "type": "pie"
           }
          ],
          "scatter": [
           {
            "fillpattern": {
             "fillmode": "overlay",
             "size": 10,
             "solidity": 0.2
            },
            "type": "scatter"
           }
          ],
          "scatter3d": [
           {
            "line": {
             "colorbar": {
              "outlinewidth": 0,
              "ticks": ""
             }
            },
            "marker": {
             "colorbar": {
              "outlinewidth": 0,
              "ticks": ""
             }
            },
            "type": "scatter3d"
           }
          ],
          "scattercarpet": [
           {
            "marker": {
             "colorbar": {
              "outlinewidth": 0,
              "ticks": ""
             }
            },
            "type": "scattercarpet"
           }
          ],
          "scattergeo": [
           {
            "marker": {
             "colorbar": {
              "outlinewidth": 0,
              "ticks": ""
             }
            },
            "type": "scattergeo"
           }
          ],
          "scattergl": [
           {
            "marker": {
             "colorbar": {
              "outlinewidth": 0,
              "ticks": ""
             }
            },
            "type": "scattergl"
           }
          ],
          "scattermapbox": [
           {
            "marker": {
             "colorbar": {
              "outlinewidth": 0,
              "ticks": ""
             }
            },
            "type": "scattermapbox"
           }
          ],
          "scatterpolar": [
           {
            "marker": {
             "colorbar": {
              "outlinewidth": 0,
              "ticks": ""
             }
            },
            "type": "scatterpolar"
           }
          ],
          "scatterpolargl": [
           {
            "marker": {
             "colorbar": {
              "outlinewidth": 0,
              "ticks": ""
             }
            },
            "type": "scatterpolargl"
           }
          ],
          "scatterternary": [
           {
            "marker": {
             "colorbar": {
              "outlinewidth": 0,
              "ticks": ""
             }
            },
            "type": "scatterternary"
           }
          ],
          "surface": [
           {
            "colorbar": {
             "outlinewidth": 0,
             "ticks": ""
            },
            "colorscale": [
             [
              0,
              "#0d0887"
             ],
             [
              0.1111111111111111,
              "#46039f"
             ],
             [
              0.2222222222222222,
              "#7201a8"
             ],
             [
              0.3333333333333333,
              "#9c179e"
             ],
             [
              0.4444444444444444,
              "#bd3786"
             ],
             [
              0.5555555555555556,
              "#d8576b"
             ],
             [
              0.6666666666666666,
              "#ed7953"
             ],
             [
              0.7777777777777778,
              "#fb9f3a"
             ],
             [
              0.8888888888888888,
              "#fdca26"
             ],
             [
              1,
              "#f0f921"
             ]
            ],
            "type": "surface"
           }
          ],
          "table": [
           {
            "cells": {
             "fill": {
              "color": "#EBF0F8"
             },
             "line": {
              "color": "white"
             }
            },
            "header": {
             "fill": {
              "color": "#C8D4E3"
             },
             "line": {
              "color": "white"
             }
            },
            "type": "table"
           }
          ]
         },
         "layout": {
          "annotationdefaults": {
           "arrowcolor": "#2a3f5f",
           "arrowhead": 0,
           "arrowwidth": 1
          },
          "autotypenumbers": "strict",
          "coloraxis": {
           "colorbar": {
            "outlinewidth": 0,
            "ticks": ""
           }
          },
          "colorscale": {
           "diverging": [
            [
             0,
             "#8e0152"
            ],
            [
             0.1,
             "#c51b7d"
            ],
            [
             0.2,
             "#de77ae"
            ],
            [
             0.3,
             "#f1b6da"
            ],
            [
             0.4,
             "#fde0ef"
            ],
            [
             0.5,
             "#f7f7f7"
            ],
            [
             0.6,
             "#e6f5d0"
            ],
            [
             0.7,
             "#b8e186"
            ],
            [
             0.8,
             "#7fbc41"
            ],
            [
             0.9,
             "#4d9221"
            ],
            [
             1,
             "#276419"
            ]
           ],
           "sequential": [
            [
             0,
             "#0d0887"
            ],
            [
             0.1111111111111111,
             "#46039f"
            ],
            [
             0.2222222222222222,
             "#7201a8"
            ],
            [
             0.3333333333333333,
             "#9c179e"
            ],
            [
             0.4444444444444444,
             "#bd3786"
            ],
            [
             0.5555555555555556,
             "#d8576b"
            ],
            [
             0.6666666666666666,
             "#ed7953"
            ],
            [
             0.7777777777777778,
             "#fb9f3a"
            ],
            [
             0.8888888888888888,
             "#fdca26"
            ],
            [
             1,
             "#f0f921"
            ]
           ],
           "sequentialminus": [
            [
             0,
             "#0d0887"
            ],
            [
             0.1111111111111111,
             "#46039f"
            ],
            [
             0.2222222222222222,
             "#7201a8"
            ],
            [
             0.3333333333333333,
             "#9c179e"
            ],
            [
             0.4444444444444444,
             "#bd3786"
            ],
            [
             0.5555555555555556,
             "#d8576b"
            ],
            [
             0.6666666666666666,
             "#ed7953"
            ],
            [
             0.7777777777777778,
             "#fb9f3a"
            ],
            [
             0.8888888888888888,
             "#fdca26"
            ],
            [
             1,
             "#f0f921"
            ]
           ]
          },
          "colorway": [
           "#636efa",
           "#EF553B",
           "#00cc96",
           "#ab63fa",
           "#FFA15A",
           "#19d3f3",
           "#FF6692",
           "#B6E880",
           "#FF97FF",
           "#FECB52"
          ],
          "font": {
           "color": "#2a3f5f"
          },
          "geo": {
           "bgcolor": "white",
           "lakecolor": "white",
           "landcolor": "#E5ECF6",
           "showlakes": true,
           "showland": true,
           "subunitcolor": "white"
          },
          "hoverlabel": {
           "align": "left"
          },
          "hovermode": "closest",
          "mapbox": {
           "style": "light"
          },
          "paper_bgcolor": "white",
          "plot_bgcolor": "#E5ECF6",
          "polar": {
           "angularaxis": {
            "gridcolor": "white",
            "linecolor": "white",
            "ticks": ""
           },
           "bgcolor": "#E5ECF6",
           "radialaxis": {
            "gridcolor": "white",
            "linecolor": "white",
            "ticks": ""
           }
          },
          "scene": {
           "xaxis": {
            "backgroundcolor": "#E5ECF6",
            "gridcolor": "white",
            "gridwidth": 2,
            "linecolor": "white",
            "showbackground": true,
            "ticks": "",
            "zerolinecolor": "white"
           },
           "yaxis": {
            "backgroundcolor": "#E5ECF6",
            "gridcolor": "white",
            "gridwidth": 2,
            "linecolor": "white",
            "showbackground": true,
            "ticks": "",
            "zerolinecolor": "white"
           },
           "zaxis": {
            "backgroundcolor": "#E5ECF6",
            "gridcolor": "white",
            "gridwidth": 2,
            "linecolor": "white",
            "showbackground": true,
            "ticks": "",
            "zerolinecolor": "white"
           }
          },
          "shapedefaults": {
           "line": {
            "color": "#2a3f5f"
           }
          },
          "ternary": {
           "aaxis": {
            "gridcolor": "white",
            "linecolor": "white",
            "ticks": ""
           },
           "baxis": {
            "gridcolor": "white",
            "linecolor": "white",
            "ticks": ""
           },
           "bgcolor": "#E5ECF6",
           "caxis": {
            "gridcolor": "white",
            "linecolor": "white",
            "ticks": ""
           }
          },
          "title": {
           "x": 0.05
          },
          "xaxis": {
           "automargin": true,
           "gridcolor": "white",
           "linecolor": "white",
           "ticks": "",
           "title": {
            "standoff": 15
           },
           "zerolinecolor": "white",
           "zerolinewidth": 2
          },
          "yaxis": {
           "automargin": true,
           "gridcolor": "white",
           "linecolor": "white",
           "ticks": "",
           "title": {
            "standoff": 15
           },
           "zerolinecolor": "white",
           "zerolinewidth": 2
          }
         }
        },
        "title": {
         "text": "Correlation Heatmap"
        },
        "width": 900,
        "xaxis": {
         "anchor": "y",
         "constrain": "domain",
         "domain": [
          0,
          1
         ],
         "scaleanchor": "y",
         "title": {
          "text": "Columns"
         }
        },
        "yaxis": {
         "anchor": "x",
         "autorange": "reversed",
         "constrain": "domain",
         "domain": [
          0,
          1
         ],
         "title": {
          "text": "Columns"
         }
        }
       }
      }
     },
     "metadata": {},
     "output_type": "display_data"
    }
   ],
   "source": [
    "# Calculate the correlation matrix\n",
    "\n",
    "correlation_matrix = df_numeric.corr()\n",
    "\n",
    "# Create the heatmap\n",
    "fig = px.imshow(\n",
    "    correlation_matrix,\n",
    "    title=\"Correlation Heatmap\",\n",
    "    labels=dict(x=\"Columns\", y=\"Columns\", color=\"Correlation\"),\n",
    "    color_continuous_scale=\"RdBu\",\n",
    "    zmin=-1, zmax=1, text_auto=True\n",
    ")\n",
    "fig.update_layout(width=900, height=800)\n",
    "fig.show()"
   ]
  },
  {
   "cell_type": "code",
   "execution_count": 10,
   "metadata": {},
   "outputs": [
    {
     "name": "stdout",
     "output_type": "stream",
     "text": [
      "   Ladder score  Logged GDP per capita  Social support  \\\n",
      "0      2.099724               1.118155        1.198886   \n",
      "1      1.953087               1.230285        1.212563   \n",
      "2      1.876037               1.401668        1.104339   \n",
      "3      1.826229               1.229085        1.366357   \n",
      "4      1.811394               1.491442        1.183710   \n",
      "\n",
      "   Healthy life expectancy  Freedom to make life choices  \\\n",
      "0                 1.056313                      1.407737   \n",
      "1                 1.127394                      1.427026   \n",
      "2                 1.368253                      1.171414   \n",
      "3                 1.212051                      1.405357   \n",
      "4                 1.240499                      1.463584   \n",
      "\n",
      "   Perceptions of corruption  Generosity  \n",
      "0                  -3.069408   -0.295857  \n",
      "1                  -3.223286    0.532051  \n",
      "2                  -2.451252    0.793626  \n",
      "3                  -0.122225    1.722644  \n",
      "4                  -2.682511    0.982163  \n"
     ]
    }
   ],
   "source": [
    "# Standardisation du df\n",
    "\n",
    "df_standardise = (df_numeric - df_numeric.mean()) / df_numeric.std()\n",
    "\n",
    "print(df_standardise.head())"
   ]
  },
  {
   "cell_type": "code",
   "execution_count": 26,
   "metadata": {},
   "outputs": [
    {
     "data": {
      "application/vnd.plotly.v1+json": {
       "config": {
        "plotlyServerURL": "https://plot.ly"
       },
       "data": [
        {
         "customdata": [
          [
           "Finland",
           "Western Europe",
           7.808700085,
           -0.059482019,
           0.954329729,
           10.63926697,
           71.9008255,
           0.949172199,
           0.195444584
          ],
          [
           "Denmark",
           "Western Europe",
           7.645599842,
           0.066201776,
           0.955990791,
           10.77400112,
           72.40250397,
           0.951444268,
           0.168489456
          ],
          [
           "Switzerland",
           "Western Europe",
           7.559899807,
           0.105911039,
           0.942846596,
           10.97993279,
           74.10244751,
           0.921336651,
           0.303728431
          ],
          [
           "Iceland",
           "Western Europe",
           7.504499912,
           0.246944219,
           0.974669576,
           10.77255917,
           73,
           0.948891878,
           0.711709738
          ],
          [
           "Norway",
           "Western Europe",
           7.487999916,
           0.13453263,
           0.952486575,
           11.08780384,
           73.20078278,
           0.955750287,
           0.263218194
          ],
          [
           "Netherlands",
           "Western Europe",
           7.448900223,
           0.20761244,
           0.93913883,
           10.81271172,
           72.30091858,
           0.908547819,
           0.364717126
          ],
          [
           "Sweden",
           "Western Europe",
           7.353499889,
           0.111614622,
           0.926311195,
           10.75879383,
           72.60076904,
           0.939144194,
           0.250880182
          ],
          [
           "Austria",
           "Western Europe",
           7.294199944,
           0.085429221,
           0.928045869,
           10.7428236,
           73.00250244,
           0.899989486,
           0.499954879
          ],
          [
           "Luxembourg",
           "Western Europe",
           7.237500191,
           -0.004620588,
           0.906912208,
           11.45068073,
           72.59999847,
           0.90563643,
           0.367084295
          ],
          [
           "United Kingdom",
           "Western Europe",
           7.164500237,
           0.263732493,
           0.93668282,
           10.60013485,
           72.30160522,
           0.834743679,
           0.435915917
          ],
          [
           "Ireland",
           "Western Europe",
           7.093699932,
           0.145784974,
           0.942081571,
           11.16097832,
           72.30078888,
           0.886982977,
           0.357184172
          ],
          [
           "Germany",
           "Western Europe",
           7.075799942,
           0.080179386,
           0.898874462,
           10.7328186,
           72.20201874,
           0.867371082,
           0.456422031
          ],
          [
           "Belgium",
           "Western Europe",
           6.863500118,
           -0.078691199,
           0.911632538,
           10.6736393,
           72.00164795,
           0.813582063,
           0.612297952
          ],
          [
           "Malta",
           "Western Europe",
           6.772799969,
           0.214965805,
           0.93037951,
           10.53383827,
           72.19999695,
           0.924911439,
           0.658547282
          ],
          [
           "France",
           "Western Europe",
           6.663799763,
           -0.130641967,
           0.937103748,
           10.58422279,
           73.80193329,
           0.825467646,
           0.583521128
          ],
          [
           "Spain",
           "Western Europe",
           6.400899887,
           -0.050961714,
           0.921125412,
           10.46292686,
           74.40270996,
           0.751989543,
           0.765859902
          ],
          [
           "Italy",
           "Western Europe",
           6.38740015,
           -0.043460999,
           0.889878571,
           10.48183632,
           73.60168457,
           0.66465199,
           0.873404682
          ],
          [
           "Cyprus",
           "Western Europe",
           6.15899992,
           0.043731496,
           0.805996239,
           10.40570259,
           73.70222473,
           0.779858291,
           0.856271744
          ],
          [
           "Portugal",
           "Western Europe",
           5.910900116,
           -0.220714301,
           0.886590719,
           10.26374245,
           72.40202332,
           0.888747811,
           0.892629504
          ],
          [
           "North Cyprus",
           "Western Europe",
           5.53550005,
           0.000227159,
           0.820356607,
           10.40570259,
           73.70222473,
           0.79529351,
           0.62611568
          ],
          [
           "Greece",
           "Western Europe",
           5.514999866,
           -0.300907373,
           0.814380348,
           10.13232613,
           72.40525818,
           0.541345119,
           0.859931409
          ]
         ],
         "hovertemplate": "<b>%{hovertext}</b><br><br>PC1=%{x}<br>PC2=%{y}<br>Ladder score=%{customdata[2]}<br>Generosity=%{customdata[3]}<br>Social support=%{customdata[4]}<br>Logged GDP per capita=%{customdata[5]}<br>Healthy life expectancy=%{customdata[6]}<br>Freedom to make life choices=%{customdata[7]}<br>Perceptions of corruption=%{customdata[8]}<extra></extra>",
         "hovertext": [
          "Finland",
          "Denmark",
          "Switzerland",
          "Iceland",
          "Norway",
          "Netherlands",
          "Sweden",
          "Austria",
          "Luxembourg",
          "United Kingdom",
          "Ireland",
          "Germany",
          "Belgium",
          "Malta",
          "France",
          "Spain",
          "Italy",
          "Cyprus",
          "Portugal",
          "North Cyprus",
          "Greece"
         ],
         "legendgroup": "Western Europe",
         "marker": {
          "color": "#636efa",
          "symbol": "circle"
         },
         "mode": "markers",
         "name": "Western Europe",
         "orientation": "v",
         "showlegend": true,
         "type": "scatter",
         "x": [
          3.761823115428535,
          3.8521997377522395,
          3.6751408253982323,
          3.118882790631222,
          3.8281858886877536,
          3.3272354849481363,
          3.4803082207449854,
          2.993445725692668,
          3.33225075793754,
          2.808438805120499,
          3.25763537239641,
          2.7101177459578496,
          2.214956275010611,
          2.51418306690451,
          2.3726559988735154,
          1.7278392107180318,
          1.1526886524286264,
          1.1099872609389274,
          1.374267763873466,
          1.278530332584089,
          -0.08038959803959542
         ],
         "xaxis": "x",
         "y": [
          1.0748516876184797,
          1.7255540396507747,
          1.404191813560953,
          1.0679501774171782,
          1.7401174850749428,
          1.7739028719542098,
          1.7312627355753605,
          0.8003278408133377,
          0.6567937457028564,
          1.679086720986004,
          1.3620859739425963,
          0.8668416452998553,
          -0.49259022361890437,
          1.1217493257189894,
          -0.700504074249662,
          -0.9923067293452589,
          -1.4373911613052555,
          -0.4828993406605359,
          -1.623591103743764,
          -0.045567688497811766,
          -2.79585901976574
         ],
         "yaxis": "y"
        },
        {
         "customdata": [
          [
           "New Zealand",
           "North America and ANZ",
           7.299600124,
           0.191598073,
           0.949118972,
           10.50094318,
           73.20262909,
           0.936217487,
           0.22113885
          ],
          [
           "Canada",
           "North America and ANZ",
           7.23210001,
           0.124770768,
           0.927176654,
           10.69236851,
           73.60160065,
           0.933913231,
           0.390843362
          ],
          [
           "Australia",
           "North America and ANZ",
           7.222799778,
           0.19046016,
           0.944854617,
           10.72059631,
           73.60453796,
           0.915431738,
           0.41516912
          ],
          [
           "United States",
           "North America and ANZ",
           6.939599991,
           0.149891734,
           0.914219022,
           10.92576885,
           68.29949951,
           0.842619538,
           0.699715316
          ]
         ],
         "hovertemplate": "<b>%{hovertext}</b><br><br>PC1=%{x}<br>PC2=%{y}<br>Ladder score=%{customdata[2]}<br>Generosity=%{customdata[3]}<br>Social support=%{customdata[4]}<br>Logged GDP per capita=%{customdata[5]}<br>Healthy life expectancy=%{customdata[6]}<br>Freedom to make life choices=%{customdata[7]}<br>Perceptions of corruption=%{customdata[8]}<extra></extra>",
         "hovertext": [
          "New Zealand",
          "Canada",
          "Australia",
          "United States"
         ],
         "legendgroup": "North America and ANZ",
         "marker": {
          "color": "#EF553B",
          "symbol": "circle"
         },
         "mode": "markers",
         "name": "North America and ANZ",
         "orientation": "v",
         "showlegend": true,
         "type": "scatter",
         "x": [
          3.531182510997749,
          3.2515182641157514,
          3.244199955453579,
          2.110551075914442
         ],
         "xaxis": "x",
         "y": [
          2.1876072526697468,
          1.3843084605929385,
          1.548764991641926,
          0.5019740393406459
         ],
         "yaxis": "y"
        },
        {
         "customdata": [
          [
           "Israel",
           "Middle East and North Africa",
           7.128600121,
           0.10259372,
           0.913571239,
           10.41752529,
           73.20025635,
           0.747580588,
           0.78085506
          ],
          [
           "United Arab Emirates",
           "Middle East and North Africa",
           6.790800095,
           0.123450845,
           0.849181116,
           11.1099987,
           67.08278656,
           0.941345513,
           0.594502211
          ],
          [
           "Saudi Arabia",
           "Middle East and North Africa",
           6.406499863,
           -0.168695062,
           0.874067068,
           10.79781246,
           66.30514526,
           0.854191244,
           0.682619512
          ],
          [
           "Bahrain",
           "Middle East and North Africa",
           6.227300167,
           0.13372919,
           0.876342118,
           10.67638016,
           68.5,
           0.905855775,
           0.7393471
          ],
          [
           "Kuwait",
           "Middle East and North Africa",
           6.102099895,
           -0.100184701,
           0.846475244,
           11.08982468,
           66.76764679,
           0.872366488,
           0.760849059
          ],
          [
           "Libya",
           "Middle East and North Africa",
           5.488800049,
           -0.085054487,
           0.825942934,
           9.789815903,
           62.29999924,
           0.773157001,
           0.668779135
          ],
          [
           "Turkey",
           "Middle East and North Africa",
           5.131800175,
           -0.171046436,
           0.826313555,
           10.12941933,
           66.90281677,
           0.608830452,
           0.748197377
          ],
          [
           "Morocco",
           "Middle East and North Africa",
           5.094799995,
           -0.240377247,
           0.592628479,
           8.940313339,
           65.89624023,
           0.772072434,
           0.815724611
          ],
          [
           "Algeria",
           "Middle East and North Africa",
           5.005099773,
           -0.121105164,
           0.803385139,
           9.537964821,
           65.90517426,
           0.466610909,
           0.735485137
          ],
          [
           "Iraq",
           "Middle East and North Africa",
           4.784800053,
           -0.06956476,
           0.747694969,
           9.661095619,
           59.90354919,
           0.633182645,
           0.82226181
          ],
          [
           "Lebanon",
           "Middle East and North Africa",
           4.771500111,
           -0.06121527,
           0.824338138,
           9.3617239,
           67.10658264,
           0.551357508,
           0.90225625
          ],
          [
           "Iran",
           "Middle East and North Africa",
           4.672399998,
           0.117891103,
           0.694689691,
           9.813719749,
           66.00614929,
           0.647873282,
           0.714635968
          ],
          [
           "Jordan",
           "Middle East and North Africa",
           4.633399963,
           -0.162565202,
           0.80216372,
           9.025999069,
           66.79975128,
           0.75104779,
           0.700344324
          ],
          [
           "Palestinian Territories",
           "Middle East and North Africa",
           4.552800179,
           -0.162079096,
           0.825295925,
           8.389223099,
           62.25,
           0.645791829,
           0.824199975
          ],
          [
           "Tunisia",
           "Middle East and North Africa",
           4.392199993,
           -0.216413811,
           0.688718557,
           9.314972878,
           66.89785767,
           0.593361557,
           0.867590249
          ],
          [
           "Egypt",
           "Middle East and North Africa",
           4.151400089,
           -0.196878314,
           0.735447824,
           9.316541672,
           61.78015137,
           0.708354175,
           0.787726879
          ],
          [
           "Yemen",
           "Middle East and North Africa",
           3.527400017,
           -0.157735437,
           0.817980587,
           7.759682655,
           56.72728348,
           0.599920273,
           0.800287724
          ]
         ],
         "hovertemplate": "<b>%{hovertext}</b><br><br>PC1=%{x}<br>PC2=%{y}<br>Ladder score=%{customdata[2]}<br>Generosity=%{customdata[3]}<br>Social support=%{customdata[4]}<br>Logged GDP per capita=%{customdata[5]}<br>Healthy life expectancy=%{customdata[6]}<br>Freedom to make life choices=%{customdata[7]}<br>Perceptions of corruption=%{customdata[8]}<extra></extra>",
         "hovertext": [
          "Israel",
          "United Arab Emirates",
          "Saudi Arabia",
          "Bahrain",
          "Kuwait",
          "Libya",
          "Turkey",
          "Morocco",
          "Algeria",
          "Iraq",
          "Lebanon",
          "Iran",
          "Jordan",
          "Palestinian Territories",
          "Tunisia",
          "Egypt",
          "Yemen"
         ],
         "legendgroup": "Middle East and North Africa",
         "marker": {
          "color": "#00cc96",
          "symbol": "circle"
         },
         "mode": "markers",
         "name": "Middle East and North Africa",
         "orientation": "v",
         "showlegend": true,
         "type": "scatter",
         "x": [
          1.904122183869851,
          2.2445056750189787,
          1.5669058832312008,
          1.7170675220213625,
          1.429777434609629,
          0.17015921879660284,
          -0.16654275371797525,
          -1.174289533467339,
          -0.9766809726575366,
          -1.2419594444043631,
          -0.9775723172366667,
          -0.7934290254794302,
          -0.3989263544337984,
          -1.3729209412156773,
          -1.5103568281696385,
          -1.3140224063103698,
          -2.519340155830723
         ],
         "xaxis": "x",
         "y": [
          -0.2495631535153362,
          1.050368502945264,
          -0.828543180917219,
          0.6011886582669506,
          -0.676450771976268,
          -0.2634758051561725,
          -1.551136501558469,
          -0.971837414746814,
          -1.519363402412653,
          -0.8078850953903154,
          -1.4678834054180954,
          0.35098887045504246,
          -0.7214390687632436,
          -1.176440240218859,
          -1.76961106395186,
          -1.0756545451434893,
          -0.9661447179885938
         ],
         "yaxis": "y"
        },
        {
         "customdata": [
          [
           "Costa Rica",
           "Latin America and Caribbean",
           7.121399879,
           -0.10242971,
           0.901545942,
           9.658156395,
           71.29985046,
           0.934738934,
           0.786332428
          ],
          [
           "Mexico",
           "Latin America and Caribbean",
           6.465000153,
           -0.175266623,
           0.838665426,
           9.797797203,
           68.29902649,
           0.858709276,
           0.806821585
          ],
          [
           "Uruguay",
           "Latin America and Caribbean",
           6.440100193,
           -0.101103112,
           0.92281127,
           9.948192596,
           69.00254822,
           0.892395437,
           0.635994136
          ],
          [
           "Guatemala",
           "Latin America and Caribbean",
           6.398900032,
           -0.042938665,
           0.816621482,
           8.924805641,
           64.8089447,
           0.908147573,
           0.783237457
          ],
          [
           "Brazil",
           "Latin America and Caribbean",
           6.375599861,
           -0.101812392,
           0.896723807,
           9.56643486,
           66.48016357,
           0.799804807,
           0.770601273
          ],
          [
           "El Salvador",
           "Latin America and Caribbean",
           6.34829998,
           -0.121072978,
           0.806092262,
           8.909075737,
           66.10826111,
           0.833805263,
           0.754319906
          ],
          [
           "Panama",
           "Latin America and Caribbean",
           6.304800034,
           -0.153927714,
           0.902094483,
           10.03423405,
           69.60301208,
           0.880366504,
           0.851588905
          ],
          [
           "Chile",
           "Latin America and Caribbean",
           6.228499889,
           -0.065668367,
           0.879713595,
           10.0320549,
           69.90061951,
           0.744896293,
           0.838239431
          ],
          [
           "Trinidad and Tobago",
           "Latin America and Caribbean",
           6.191899776,
           0.000526841,
           0.91529417,
           10.26000214,
           63.5,
           0.857907116,
           0.912230611
          ],
          [
           "Colombia",
           "Latin America and Caribbean",
           6.163400173,
           -0.161235645,
           0.884440243,
           9.500369072,
           67.69958496,
           0.836179912,
           0.86457181
          ],
          [
           "Nicaragua",
           "Latin America and Caribbean",
           6.13710022,
           0.020959141,
           0.857497036,
           8.493160248,
           67.50717926,
           0.863902867,
           0.665950119
          ],
          [
           "Argentina",
           "Latin America and Caribbean",
           5.974699974,
           -0.194913864,
           0.900567949,
           9.810955048,
           68.80380249,
           0.831132412,
           0.842009842
          ],
          [
           "Honduras",
           "Latin America and Caribbean",
           5.953199863,
           0.086969115,
           0.821870148,
           8.424534798,
           67.19876862,
           0.870603263,
           0.801131904
          ],
          [
           "Ecuador",
           "Latin America and Caribbean",
           5.925199986,
           -0.127014965,
           0.836418986,
           9.246058464,
           68.50003815,
           0.859828949,
           0.801215112
          ],
          [
           "Jamaica",
           "Latin America and Caribbean",
           5.889800072,
           -0.125106767,
           0.915701866,
           9.006250381,
           67.09999847,
           0.858068526,
           0.888890028
          ],
          [
           "Peru",
           "Latin America and Caribbean",
           5.796800137,
           -0.16238822,
           0.831075251,
           9.456313133,
           68.10023499,
           0.824766099,
           0.893714964
          ],
          [
           "Bolivia",
           "Latin America and Caribbean",
           5.747499943,
           -0.09168113,
           0.803108692,
           8.851115227,
           63.6004715,
           0.875873327,
           0.822606206
          ],
          [
           "Paraguay",
           "Latin America and Caribbean",
           5.692100048,
           0.007997713,
           0.898727894,
           9.389982224,
           65.63993835,
           0.885923445,
           0.834788501
          ],
          [
           "Dominican Republic",
           "Latin America and Caribbean",
           5.689199924,
           -0.131263286,
           0.882085383,
           9.664880753,
           65.80748749,
           0.866202772,
           0.755999923
          ],
          [
           "Venezuela",
           "Latin America and Caribbean",
           5.053199768,
           -0.169090509,
           0.890408158,
           8.977793694,
           66.50534058,
           0.62327832,
           0.837038398
          ],
          [
           "Haiti",
           "Latin America and Caribbean",
           3.720799923,
           0.40053457,
           0.593247831,
           7.411329269,
           55.59862518,
           0.537825167,
           0.684767246
          ]
         ],
         "hovertemplate": "<b>%{hovertext}</b><br><br>PC1=%{x}<br>PC2=%{y}<br>Ladder score=%{customdata[2]}<br>Generosity=%{customdata[3]}<br>Social support=%{customdata[4]}<br>Logged GDP per capita=%{customdata[5]}<br>Healthy life expectancy=%{customdata[6]}<br>Freedom to make life choices=%{customdata[7]}<br>Perceptions of corruption=%{customdata[8]}<extra></extra>",
         "hovertext": [
          "Costa Rica",
          "Mexico",
          "Uruguay",
          "Guatemala",
          "Brazil",
          "El Salvador",
          "Panama",
          "Chile",
          "Trinidad and Tobago",
          "Colombia",
          "Nicaragua",
          "Argentina",
          "Honduras",
          "Ecuador",
          "Jamaica",
          "Peru",
          "Bolivia",
          "Paraguay",
          "Dominican Republic",
          "Venezuela",
          "Haiti"
         ],
         "legendgroup": "Latin America and Caribbean",
         "marker": {
          "color": "#ab63fa",
          "symbol": "circle"
         },
         "mode": "markers",
         "name": "Latin America and Caribbean",
         "orientation": "v",
         "showlegend": true,
         "type": "scatter",
         "x": [
          1.948770664509876,
          1.0419334030765928,
          1.8014284097231048,
          0.5838675083775002,
          0.9044636323330338,
          0.41405920055006173,
          1.3770758442813453,
          0.9236914003629068,
          0.9433852037122485,
          0.7806804717122964,
          0.6879616643702581,
          0.9606130349333519,
          0.2681946416001084,
          0.6323821411026767,
          0.5876478555950634,
          0.36736739872933144,
          -0.004596915064996793,
          0.6807129258654312,
          0.7680460543164527,
          -0.5188352071602078,
          -3.359400717984938
         ],
         "xaxis": "x",
         "y": [
          -0.5096931425835911,
          -0.9930545927513178,
          -0.2504934293546167,
          0.1375744363894528,
          -0.7185067613592218,
          -0.39092246946287706,
          -1.1271205873302808,
          -1.0276387681959027,
          -0.5249013147552923,
          -1.1549231591941453,
          0.5857906551253539,
          -1.3817004199836973,
          0.6347157687341778,
          -0.6414082844412163,
          -0.9288508092249558,
          -1.1883531045102105,
          -0.2373930795256203,
          -0.06147212658151022,
          -0.6072330575527904,
          -1.626615617485701,
          2.3375037096609286
         ],
         "yaxis": "y"
        },
        {
         "customdata": [
          [
           "Czech Republic",
           "Central and Eastern Europe",
           6.910900116,
           -0.230861515,
           0.914430678,
           10.40416336,
           70.04793549,
           0.818537354,
           0.85844624
          ],
          [
           "Slovenia",
           "Central and Eastern Europe",
           6.363399982,
           -0.080603383,
           0.939575672,
           10.39232254,
           71.1029892,
           0.936142623,
           0.817071021
          ],
          [
           "Kosovo",
           "Central and Eastern Europe",
           6.325200081,
           0.190933764,
           0.820726514,
           9.204429626,
           63.88555527,
           0.861535907,
           0.922328293
          ],
          [
           "Slovakia",
           "Central and Eastern Europe",
           6.280600071,
           -0.124409303,
           0.922493756,
           10.34774971,
           68.90634155,
           0.749952674,
           0.918096125
          ],
          [
           "Lithuania",
           "Central and Eastern Europe",
           6.215499878,
           -0.219725296,
           0.926107109,
           10.34362602,
           67.29407501,
           0.747381449,
           0.809583843
          ],
          [
           "Poland",
           "Central and Eastern Europe",
           6.186299801,
           -0.205084071,
           0.874257445,
           10.26512432,
           69.31113434,
           0.862055779,
           0.686927021
          ],
          [
           "Romania",
           "Central and Eastern Europe",
           6.123700142,
           -0.19781521,
           0.825161517,
           10.107584,
           67.20723724,
           0.842823207,
           0.934300244
          ],
          [
           "Estonia",
           "Central and Eastern Europe",
           6.021800041,
           -0.111697771,
           0.934729993,
           10.34001732,
           68.60495758,
           0.87770915,
           0.623073816
          ],
          [
           "Hungary",
           "Central and Eastern Europe",
           6.000400066,
           -0.194323018,
           0.921934128,
           10.24924374,
           67.60997009,
           0.718964577,
           0.892916501
          ],
          [
           "Latvia",
           "Central and Eastern Europe",
           5.949999809,
           -0.186888844,
           0.918288589,
           10.17531967,
           66.8074646,
           0.671237648,
           0.795580089
          ],
          [
           "Serbia",
           "Central and Eastern Europe",
           5.77820015,
           -0.073676221,
           0.881475747,
           9.680980682,
           68.21020508,
           0.726495862,
           0.843509018
          ],
          [
           "Bosnia and Herzegovina",
           "Central and Eastern Europe",
           5.674099922,
           0.098274559,
           0.829204142,
           9.455817223,
           67.80813599,
           0.651352704,
           0.933769107
          ],
          [
           "Montenegro",
           "Central and Eastern Europe",
           5.54610014,
           -0.075600356,
           0.855314612,
           9.751860619,
           68.50534821,
           0.649565637,
           0.783121586
          ],
          [
           "Croatia",
           "Central and Eastern Europe",
           5.504700184,
           -0.128538325,
           0.874623716,
           10.07087517,
           70.21490479,
           0.714838803,
           0.916495264
          ],
          [
           "Macedonia",
           "Central and Eastern Europe",
           5.159800053,
           -0.019877451,
           0.820392311,
           9.510591507,
           67.50442505,
           0.738840938,
           0.897490501
          ],
          [
           "Bulgaria",
           "Central and Eastern Europe",
           5.101500034,
           -0.143908441,
           0.937840343,
           9.869318962,
           66.80397797,
           0.745178163,
           0.935585141
          ],
          [
           "Albania",
           "Central and Eastern Europe",
           4.882699966,
           -0.042309489,
           0.671070457,
           9.417930603,
           68.70813751,
           0.781994224,
           0.896303713
          ]
         ],
         "hovertemplate": "<b>%{hovertext}</b><br><br>PC1=%{x}<br>PC2=%{y}<br>Ladder score=%{customdata[2]}<br>Generosity=%{customdata[3]}<br>Social support=%{customdata[4]}<br>Logged GDP per capita=%{customdata[5]}<br>Healthy life expectancy=%{customdata[6]}<br>Freedom to make life choices=%{customdata[7]}<br>Perceptions of corruption=%{customdata[8]}<extra></extra>",
         "hovertext": [
          "Czech Republic",
          "Slovenia",
          "Kosovo",
          "Slovakia",
          "Lithuania",
          "Poland",
          "Romania",
          "Estonia",
          "Hungary",
          "Latvia",
          "Serbia",
          "Bosnia and Herzegovina",
          "Montenegro",
          "Croatia",
          "Macedonia",
          "Bulgaria",
          "Albania"
         ],
         "legendgroup": "Central and Eastern Europe",
         "marker": {
          "color": "#FFA15A",
          "symbol": "circle"
         },
         "mode": "markers",
         "name": "Central and Eastern Europe",
         "orientation": "v",
         "showlegend": true,
         "type": "scatter",
         "x": [
          1.639352250337723,
          1.9955561637703134,
          0.31490587431873635,
          1.0406793795278138,
          1.057104588871314,
          1.4769800638018908,
          0.6579451114590682,
          1.766046857719057,
          0.7348687043454313,
          0.6275123914322192,
          0.43706971601030375,
          -0.22712467209320933,
          0.15618108900171215,
          0.42186412484423985,
          -0.18586043441641267,
          0.24250700357231827,
          -0.6737220303926603
         ],
         "xaxis": "x",
         "y": [
          -1.797141804113611,
          -0.6769196774331808,
          0.721569497017334,
          -1.6198876489449159,
          -1.7605658297875144,
          -0.9694123928728373,
          -1.5059541025940852,
          -0.39202464963161804,
          -1.9315020384971706,
          -1.7302818230774595,
          -1.0335074887881037,
          -0.5280470858109338,
          -1.0801651607597578,
          -1.6419516925852442,
          -0.7368038463336654,
          -1.665611710660996,
          -0.4848158583267162
         ],
         "yaxis": "y"
        },
        {
         "customdata": [
          [
           "Taiwan Province of China",
           "East Asia",
           6.45539999,
           -0.073198698,
           0.894309103,
           10.77568531,
           69.59999847,
           0.77153033,
           0.73188293
          ],
          [
           "South Korea",
           "East Asia",
           5.872399807,
           -0.043404032,
           0.799387157,
           10.51056671,
           73.6027298,
           0.612965107,
           0.789067447
          ],
          [
           "Japan",
           "East Asia",
           5.870800018,
           -0.246910349,
           0.883545935,
           10.57968903,
           75.00096893,
           0.809961379,
           0.654558063
          ],
          [
           "Hong Kong S.A.R. of China",
           "East Asia",
           5.510399818,
           0.134979904,
           0.845969081,
           10.9346714,
           76.77170563,
           0.779833794,
           0.420607209
          ],
          [
           "Mongolia",
           "East Asia",
           5.456200123,
           0.098093867,
           0.937142491,
           9.412186623,
           62.30448532,
           0.693351328,
           0.863511205
          ],
          [
           "China",
           "East Asia",
           5.123899937,
           -0.18142575,
           0.798760593,
           9.688568115,
           69.2891922,
           0.898517907,
           0.7539711
          ]
         ],
         "hovertemplate": "<b>%{hovertext}</b><br><br>PC1=%{x}<br>PC2=%{y}<br>Ladder score=%{customdata[2]}<br>Generosity=%{customdata[3]}<br>Social support=%{customdata[4]}<br>Logged GDP per capita=%{customdata[5]}<br>Healthy life expectancy=%{customdata[6]}<br>Freedom to make life choices=%{customdata[7]}<br>Perceptions of corruption=%{customdata[8]}<extra></extra>",
         "hovertext": [
          "Taiwan Province of China",
          "South Korea",
          "Japan",
          "Hong Kong S.A.R. of China",
          "Mongolia",
          "China"
         ],
         "legendgroup": "East Asia",
         "marker": {
          "color": "#19d3f3",
          "symbol": "circle"
         },
         "mode": "markers",
         "name": "East Asia",
         "orientation": "v",
         "showlegend": true,
         "type": "scatter",
         "x": [
          1.5670345850214031,
          0.5963025805571469,
          1.751169567134438,
          2.041530646466643,
          -0.0734340733048195,
          0.5519650344833908
         ],
         "xaxis": "x",
         "y": [
          -0.8485366768128323,
          -1.2159692646176499,
          -1.4460865808234467,
          0.9121200730893767,
          -0.25152131450051746,
          -0.7037059503313233
         ],
         "yaxis": "y"
        },
        {
         "customdata": [
          [
           "Singapore",
           "Southeast Asia",
           6.377099991,
           0.029879224,
           0.910268962,
           11.39552116,
           76.80458069,
           0.926645339,
           0.109784193
          ],
          [
           "Philippines",
           "Southeast Asia",
           6.006000042,
           -0.105463006,
           0.846730053,
           8.993545532,
           61.92676163,
           0.915463448,
           0.733634114
          ],
          [
           "Thailand",
           "Southeast Asia",
           5.998799801,
           0.268685192,
           0.889973223,
           9.741791725,
           67.25059509,
           0.905063033,
           0.886272311
          ],
          [
           "Malaysia",
           "Southeast Asia",
           5.384300232,
           0.114726797,
           0.816509426,
           10.26251888,
           67.10215759,
           0.894626856,
           0.839302301
          ],
          [
           "Vietnam",
           "Southeast Asia",
           5.353499889,
           -0.094533332,
           0.849987149,
           8.809545517,
           67.9527359,
           0.939592957,
           0.79642123
          ],
          [
           "Indonesia",
           "Southeast Asia",
           5.285600185,
           0.519586504,
           0.808379889,
           9.36975193,
           62.15584946,
           0.870614409,
           0.876296401
          ],
          [
           "Laos",
           "Southeast Asia",
           4.888599873,
           0.11137148,
           0.737502217,
           8.79858017,
           58.70992279,
           0.907213569,
           0.634679317
          ],
          [
           "Cambodia",
           "Southeast Asia",
           4.848400116,
           0.051911179,
           0.773080647,
           8.249890327,
           61.52996826,
           0.959704638,
           0.822769046
          ],
          [
           "Myanmar",
           "Southeast Asia",
           4.308000088,
           0.560663998,
           0.78440702,
           8.680481911,
           58.96171188,
           0.895075202,
           0.645124316
          ]
         ],
         "hovertemplate": "<b>%{hovertext}</b><br><br>PC1=%{x}<br>PC2=%{y}<br>Ladder score=%{customdata[2]}<br>Generosity=%{customdata[3]}<br>Social support=%{customdata[4]}<br>Logged GDP per capita=%{customdata[5]}<br>Healthy life expectancy=%{customdata[6]}<br>Freedom to make life choices=%{customdata[7]}<br>Perceptions of corruption=%{customdata[8]}<extra></extra>",
         "hovertext": [
          "Singapore",
          "Philippines",
          "Thailand",
          "Malaysia",
          "Vietnam",
          "Indonesia",
          "Laos",
          "Cambodia",
          "Myanmar"
         ],
         "legendgroup": "Southeast Asia",
         "marker": {
          "color": "#FF6692",
          "symbol": "circle"
         },
         "mode": "markers",
         "name": "Southeast Asia",
         "orientation": "v",
         "showlegend": true,
         "type": "scatter",
         "x": [
          3.6819856916282565,
          0.4518234458247413,
          1.041427645723466,
          0.7178245073643122,
          0.48713831745954417,
          -0.05896997061641666,
          -0.5277834676672971,
          -0.579282634107668,
          -0.5993529974701453
         ],
         "xaxis": "x",
         "y": [
          1.4899310067713665,
          -0.0026931139025090757,
          1.0314235186684537,
          0.40884520489930554,
          -0.16818771983431166,
          2.4988318891938732,
          1.5855329451819453,
          0.9110270777968724,
          3.640804423867344
         ],
         "yaxis": "y"
        },
        {
         "customdata": [
          [
           "Uzbekistan",
           "Commonwealth of Independent States",
           6.257599831,
           0.248427153,
           0.926595807,
           8.740371704,
           65.10757446,
           0.974998116,
           0.501497388
          ],
          [
           "Kazakhstan",
           "Commonwealth of Independent States",
           6.057899952,
           -0.068488635,
           0.934744895,
           10.11465836,
           64.60996246,
           0.811601937,
           0.764490843
          ],
          [
           "Moldova",
           "Commonwealth of Independent States",
           5.607500076,
           -0.037741039,
           0.843313575,
           8.776714325,
           65.01301575,
           0.721609175,
           0.913314283
          ],
          [
           "Tajikistan",
           "Commonwealth of Independent States",
           5.555699825,
           -0.025088511,
           0.835297108,
           8.024810791,
           64.10459137,
           0.831383407,
           0.592076063
          ],
          [
           "Russia",
           "Commonwealth of Independent States",
           5.546000004,
           -0.151153743,
           0.903150737,
           10.12887192,
           64.10045624,
           0.729892612,
           0.864802599
          ],
          [
           "Kyrgyzstan",
           "Commonwealth of Independent States",
           5.541500092,
           0.154772058,
           0.887228489,
           8.148405075,
           64.10601044,
           0.909374893,
           0.888396084
          ],
          [
           "Belarus",
           "Commonwealth of Independent States",
           5.539899826,
           -0.164926544,
           0.90674746,
           9.779945374,
           66.10433197,
           0.639163077,
           0.63571167
          ],
          [
           "Azerbaijan",
           "Commonwealth of Independent States",
           5.164800167,
           -0.240255281,
           0.819308281,
           9.687726974,
           65.50839996,
           0.786824107,
           0.55253756
          ],
          [
           "Turkmenistan",
           "Commonwealth of Independent States",
           5.119100094,
           0.187671542,
           0.958966196,
           9.74803257,
           62.21170807,
           0.826457024,
           0.883691847
          ],
          [
           "Armenia",
           "Commonwealth of Independent States",
           4.676799774,
           -0.13877961,
           0.757479429,
           9.100476265,
           66.75065613,
           0.712017834,
           0.773544788
          ],
          [
           "Georgia",
           "Commonwealth of Independent States",
           4.672599792,
           -0.22892037,
           0.629033029,
           9.226100922,
           64.49520874,
           0.801641524,
           0.665944695
          ],
          [
           "Ukraine",
           "Commonwealth of Independent States",
           4.56069994,
           -0.030933706,
           0.878879368,
           9.010690689,
           64.60678101,
           0.663081884,
           0.920636714
          ]
         ],
         "hovertemplate": "<b>%{hovertext}</b><br><br>PC1=%{x}<br>PC2=%{y}<br>Ladder score=%{customdata[2]}<br>Generosity=%{customdata[3]}<br>Social support=%{customdata[4]}<br>Logged GDP per capita=%{customdata[5]}<br>Healthy life expectancy=%{customdata[6]}<br>Freedom to make life choices=%{customdata[7]}<br>Perceptions of corruption=%{customdata[8]}<extra></extra>",
         "hovertext": [
          "Uzbekistan",
          "Kazakhstan",
          "Moldova",
          "Tajikistan",
          "Russia",
          "Kyrgyzstan",
          "Belarus",
          "Azerbaijan",
          "Turkmenistan",
          "Armenia",
          "Georgia",
          "Ukraine"
         ],
         "legendgroup": "Commonwealth of Independent States",
         "marker": {
          "color": "#B6E880",
          "symbol": "circle"
         },
         "mode": "markers",
         "name": "Commonwealth of Independent States",
         "orientation": "v",
         "showlegend": true,
         "type": "scatter",
         "x": [
          1.5357524714309034,
          1.0448852577089738,
          -0.4302897700138066,
          -0.025080394830126636,
          0.2872535417444658,
          0.02402405699677061,
          0.3668277179116303,
          0.3617942179308957,
          0.35956281778718907,
          -0.7345402432807693,
          -0.8918410122120656,
          -0.8587752456970343
         ],
         "xaxis": "x",
         "y": [
          2.362782979262961,
          -0.6239119457357591,
          -0.7594532904841648,
          0.6715751609551415,
          -1.4771766945324842,
          0.8558935549189622,
          -1.173496461606679,
          -0.7079660550673501,
          0.42100895904284974,
          -0.8589069326558044,
          -0.5001723552739901,
          -1.0104595369242038
         ],
         "yaxis": "y"
        },
        {
         "customdata": [
          [
           "Mauritius",
           "Sub-Saharan Africa",
           6.101299763,
           -0.018318573,
           0.910357833,
           9.956786156,
           66.40434265,
           0.889534533,
           0.805343091
          ],
          [
           "Ivory Coast",
           "Sub-Saharan Africa",
           5.233300209,
           -0.043991156,
           0.658048689,
           8.225561142,
           49.50377274,
           0.727909327,
           0.790771961
          ],
          [
           "Benin",
           "Sub-Saharan Africa",
           5.21600008,
           -0.003537213,
           0.468671143,
           7.674319744,
           54.31246567,
           0.735182583,
           0.740532577
          ],
          [
           "Congo (Brazzaville)",
           "Sub-Saharan Africa",
           5.194399834,
           -0.123674095,
           0.640228093,
           8.536987305,
           57.92448044,
           0.719058514,
           0.751779079
          ],
          [
           "Ghana",
           "Sub-Saharan Africa",
           5.147999763,
           0.094170853,
           0.728601098,
           8.350645065,
           57.20398712,
           0.794796526,
           0.847964764
          ],
          [
           "Cameroon",
           "Sub-Saharan Africa",
           5.084899902,
           -0.00149645,
           0.700386405,
           8.118647575,
           52.7049408,
           0.763051808,
           0.851336598
          ],
          [
           "Senegal",
           "Sub-Saharan Africa",
           4.980800152,
           -0.052335154,
           0.723616004,
           8.118982315,
           59.59915161,
           0.690596163,
           0.808785141
          ],
          [
           "Guinea",
           "Sub-Saharan Africa",
           4.949299812,
           0.076328471,
           0.637573481,
           7.750990391,
           54.46780014,
           0.706846774,
           0.761794448
          ],
          [
           "Niger",
           "Sub-Saharan Africa",
           4.909599781,
           0.013860817,
           0.617435038,
           6.842166901,
           53.50009537,
           0.759772122,
           0.722530186
          ],
          [
           "Gabon",
           "Sub-Saharan Africa",
           4.829299927,
           -0.222261623,
           0.787886858,
           9.680537224,
           59.71533966,
           0.704829216,
           0.849150956
          ],
          [
           "South Africa",
           "Sub-Saharan Africa",
           4.814099789,
           -0.109777324,
           0.852532268,
           9.403370857,
           56.50601196,
           0.759330094,
           0.843423843
          ],
          [
           "Burkina Faso",
           "Sub-Saharan Africa",
           4.768700123,
           -0.019080516,
           0.712943614,
           7.46854496,
           53.88945389,
           0.665563583,
           0.739795029
          ],
          [
           "Gambia",
           "Sub-Saharan Africa",
           4.750599861,
           0.343198717,
           0.6931687,
           7.321814537,
           55.0120163,
           0.733163178,
           0.690717816
          ],
          [
           "Mali",
           "Sub-Saharan Africa",
           4.729300022,
           -0.044366926,
           0.731468976,
           7.629852295,
           51.72698212,
           0.71156615,
           0.839328408
          ],
          [
           "Nigeria",
           "Sub-Saharan Africa",
           4.724100113,
           0.033745807,
           0.73721689,
           8.57662487,
           49.86190796,
           0.759578407,
           0.861874342
          ],
          [
           "Mozambique",
           "Sub-Saharan Africa",
           4.623600006,
           0.032375868,
           0.723874032,
           7.069345951,
           54.20582199,
           0.864451885,
           0.683019102
          ],
          [
           "Kenya",
           "Sub-Saharan Africa",
           4.583000183,
           0.294681519,
           0.702652037,
           8.02977562,
           60.09693146,
           0.829747558,
           0.831499159
          ],
          [
           "Namibia",
           "Sub-Saharan Africa",
           4.571100235,
           -0.18530646,
           0.846880972,
           9.203141212,
           56.50148773,
           0.767520964,
           0.851449788
          ],
          [
           "Liberia",
           "Sub-Saharan Africa",
           4.557899952,
           0.04227322,
           0.70928055,
           7.054380417,
           56.09631348,
           0.735268712,
           0.856375933
          ],
          [
           "Uganda",
           "Sub-Saharan Africa",
           4.43200016,
           0.099487431,
           0.764994621,
           7.500389576,
           55.70820236,
           0.731713951,
           0.836737812
          ],
          [
           "Chad",
           "Sub-Saharan Africa",
           4.422699928,
           0.017834719,
           0.632388055,
           7.467963696,
           48.22053909,
           0.587305248,
           0.802760839
          ],
          [
           "Mauritania",
           "Sub-Saharan Africa",
           4.374599934,
           -0.106008142,
           0.790819228,
           8.233919144,
           57.01017761,
           0.551522553,
           0.746223509
          ],
          [
           "Congo (Kinshasa)",
           "Sub-Saharan Africa",
           4.31099987,
           0.083637655,
           0.672159016,
           6.694256306,
           52.90000153,
           0.700793564,
           0.809403598
          ],
          [
           "Swaziland",
           "Sub-Saharan Africa",
           4.308100224,
           -0.19920142,
           0.770290196,
           9.16267395,
           51.18823624,
           0.646822274,
           0.708263338
          ],
          [
           "Comoros",
           "Sub-Saharan Africa",
           4.288599968,
           0.090008408,
           0.625662446,
           7.833630085,
           57.34901047,
           0.547612607,
           0.780622602
          ],
          [
           "Togo",
           "Sub-Saharan Africa",
           4.187200069,
           0.002667875,
           0.551312625,
           7.357711315,
           54.71989822,
           0.649828613,
           0.757733464
          ],
          [
           "Ethiopia",
           "Sub-Saharan Africa",
           4.186200142,
           0.043377332,
           0.743307352,
           7.509385586,
           58.63959122,
           0.740795195,
           0.753690004
          ],
          [
           "Madagascar",
           "Sub-Saharan Africa",
           4.165599823,
           -0.011823639,
           0.668195903,
           7.281685829,
           59.10542679,
           0.557574093,
           0.817485631
          ],
          [
           "Sierra Leone",
           "Sub-Saharan Africa",
           3.926399946,
           0.088660747,
           0.636142015,
           7.26880312,
           50.86514282,
           0.715315044,
           0.861330688
          ],
          [
           "Burundi",
           "Sub-Saharan Africa",
           3.775300026,
           -0.017551597,
           0.490325719,
           6.492642403,
           53.40000153,
           0.626350224,
           0.606934547
          ],
          [
           "Zambia",
           "Sub-Saharan Africa",
           3.759399891,
           0.078037128,
           0.698824465,
           8.224720001,
           55.29937744,
           0.806500256,
           0.801289678
          ],
          [
           "Lesotho",
           "Sub-Saharan Africa",
           3.652800083,
           -0.145732045,
           0.780495703,
           7.960488319,
           48.00362396,
           0.738125861,
           0.857392073
          ],
          [
           "Malawi",
           "Sub-Saharan Africa",
           3.538000107,
           0.021433279,
           0.544007301,
           7.062226295,
           57.59288788,
           0.803223193,
           0.731700778
          ],
          [
           "Botswana",
           "Sub-Saharan Africa",
           3.478899956,
           -0.250394493,
           0.779121757,
           9.711203575,
           58.92445374,
           0.821328104,
           0.777930915
          ],
          [
           "Tanzania",
           "Sub-Saharan Africa",
           3.476200104,
           0.109668687,
           0.688933194,
           7.967665195,
           57.49607468,
           0.82153976,
           0.619799435
          ],
          [
           "Central African Republic",
           "Sub-Saharan Africa",
           3.475899935,
           0.082410358,
           0.319459856,
           6.625160217,
           45.20000076,
           0.640880644,
           0.891806662
          ],
          [
           "Rwanda",
           "Sub-Saharan Africa",
           3.312299967,
           0.055483952,
           0.54083544,
           7.600104332,
           61.09884644,
           0.900589406,
           0.183541179
          ],
          [
           "Zimbabwe",
           "Sub-Saharan Africa",
           3.299200058,
           -0.072063953,
           0.763092756,
           7.865711689,
           55.61725998,
           0.711457908,
           0.81023699
          ],
          [
           "South Sudan",
           "Sub-Saharan Africa",
           2.816600084,
           0.016518548,
           0.553707123,
           7.425359726,
           51,
           0.451313615,
           0.763417304
          ]
         ],
         "hovertemplate": "<b>%{hovertext}</b><br><br>PC1=%{x}<br>PC2=%{y}<br>Ladder score=%{customdata[2]}<br>Generosity=%{customdata[3]}<br>Social support=%{customdata[4]}<br>Logged GDP per capita=%{customdata[5]}<br>Healthy life expectancy=%{customdata[6]}<br>Freedom to make life choices=%{customdata[7]}<br>Perceptions of corruption=%{customdata[8]}<extra></extra>",
         "hovertext": [
          "Mauritius",
          "Ivory Coast",
          "Benin",
          "Congo (Brazzaville)",
          "Ghana",
          "Cameroon",
          "Senegal",
          "Guinea",
          "Niger",
          "Gabon",
          "South Africa",
          "Burkina Faso",
          "Gambia",
          "Mali",
          "Nigeria",
          "Mozambique",
          "Kenya",
          "Namibia",
          "Liberia",
          "Uganda",
          "Chad",
          "Mauritania",
          "Congo (Kinshasa)",
          "Swaziland",
          "Comoros",
          "Togo",
          "Ethiopia",
          "Madagascar",
          "Sierra Leone",
          "Burundi",
          "Zambia",
          "Lesotho",
          "Malawi",
          "Botswana",
          "Tanzania",
          "Central African Republic",
          "Rwanda",
          "Zimbabwe",
          "South Sudan"
         ],
         "legendgroup": "Sub-Saharan Africa",
         "marker": {
          "color": "#FF97FF",
          "symbol": "circle"
         },
         "mode": "markers",
         "name": "Sub-Saharan Africa",
         "orientation": "v",
         "showlegend": true,
         "type": "scatter",
         "x": [
          1.206802914284231,
          -2.260222458606274,
          -2.7456201960236815,
          -1.6644420873777577,
          -1.3642859148684339,
          -1.9841865803306962,
          -1.658588541039338,
          -2.3098599341579344,
          -2.603697535303112,
          -0.9421961306630393,
          -0.8388536470509828,
          -2.363389546766249,
          -2.08938509687298,
          -2.409124085200351,
          -2.031593198849509,
          -1.841890325008882,
          -1.4668580427193338,
          -1.038830491319048,
          -2.4379252163489493,
          -2.117210081160185,
          -3.4776296535839886,
          -2.1162410081550598,
          -3.039935264335527,
          -1.9238447233736757,
          -2.902946739576371,
          -3.245953372786898,
          -1.9672337051742348,
          -2.941376608225888,
          -3.277944976493183,
          -3.898706732693985,
          -2.122954577805013,
          -2.7657648958014005,
          -2.9820264629555453,
          -1.1386604711110497,
          -1.9146917891718678,
          -5.477545546645772,
          -1.556959222540345,
          -2.517594481262403,
          -4.6098685661733825
         ],
         "xaxis": "x",
         "y": [
          -0.23866905244859626,
          0.3385423400271941,
          0.9885553026529638,
          -0.19778786725640166,
          0.725088163627523,
          0.3552616424635296,
          -0.19054000926171208,
          0.9410626027240131,
          1.1218125702720794,
          -1.4783690636375382,
          -0.7355851435858421,
          0.35938281191039634,
          2.4817892340657766,
          0.0911063371956468,
          0.4109132977130284,
          1.391743111926432,
          1.87618929096218,
          -1.054790619948814,
          0.5708300423958531,
          0.7281411450980055,
          0.40569630825766806,
          -0.756111408129221,
          1.0021984401487385,
          -0.8238146164971918,
          0.4254512085431953,
          0.6337032408626352,
          0.6718748564734253,
          -0.15146964940482444,
          0.9290123969805069,
          1.1676718900422651,
          0.9230359045519806,
          -0.426371677347383,
          1.2391794677122039,
          -1.0556586066767903,
          1.6258617569017284,
          1.369254983033667,
          3.006975459651378,
          -0.1553874308328407,
          0.1765895660882892
         ],
         "yaxis": "y"
        },
        {
         "customdata": [
          [
           "Pakistan",
           "South Asia",
           5.69329977,
           0.04489987,
           0.689062297,
           8.482727051,
           58.25313568,
           0.734833717,
           0.745705426
          ],
          [
           "Maldives",
           "South Asia",
           5.197599888,
           0.038085498,
           0.91316092,
           9.518632889,
           70.59999847,
           0.853962779,
           0.824211061
          ],
          [
           "Nepal",
           "South Asia",
           5.137199879,
           0.154168829,
           0.785512447,
           7.925357342,
           63.77917862,
           0.797565043,
           0.738099158
          ],
          [
           "Bangladesh",
           "South Asia",
           4.832799911,
           -0.033664726,
           0.687292993,
           8.287063599,
           64.50306702,
           0.90062499,
           0.661843538
          ],
          [
           "Sri Lanka",
           "South Asia",
           4.327000141,
           0.081129618,
           0.825374067,
           9.389969826,
           67.20006561,
           0.837633669,
           0.859001756
          ],
          [
           "India",
           "South Asia",
           3.573299885,
           0.057551607,
           0.592200935,
           8.849823952,
           60.21518707,
           0.881444871,
           0.772042692
          ],
          [
           "Afghanistan",
           "South Asia",
           2.566900015,
           -0.0964294,
           0.470366955,
           7.462860584,
           52.59000015,
           0.396573007,
           0.933686554
          ]
         ],
         "hovertemplate": "<b>%{hovertext}</b><br><br>PC1=%{x}<br>PC2=%{y}<br>Ladder score=%{customdata[2]}<br>Generosity=%{customdata[3]}<br>Social support=%{customdata[4]}<br>Logged GDP per capita=%{customdata[5]}<br>Healthy life expectancy=%{customdata[6]}<br>Freedom to make life choices=%{customdata[7]}<br>Perceptions of corruption=%{customdata[8]}<extra></extra>",
         "hovertext": [
          "Pakistan",
          "Maldives",
          "Nepal",
          "Bangladesh",
          "Sri Lanka",
          "India",
          "Afghanistan"
         ],
         "legendgroup": "South Asia",
         "marker": {
          "color": "#FECB52",
          "symbol": "circle"
         },
         "mode": "markers",
         "name": "South Asia",
         "orientation": "v",
         "showlegend": true,
         "type": "scatter",
         "x": [
          -1.1931563579596594,
          0.8208175484885983,
          -0.7203728592124337,
          -0.6390589318764502,
          -0.21841470374202696,
          -1.774412323703981,
          -5.330766894865206
         ],
         "xaxis": "x",
         "y": [
          0.606455019649957,
          -0.14693985917629543,
          1.15130809296905,
          0.8245757312526809,
          0.16648698632213427,
          1.0636457325612119,
          -0.9054924946795386
         ],
         "yaxis": "y"
        }
       ],
       "layout": {
        "legend": {
         "title": {
          "text": "Regional indicator"
         },
         "tracegroupgap": 0
        },
        "margin": {
         "t": 60
        },
        "template": {
         "data": {
          "bar": [
           {
            "error_x": {
             "color": "#2a3f5f"
            },
            "error_y": {
             "color": "#2a3f5f"
            },
            "marker": {
             "line": {
              "color": "#E5ECF6",
              "width": 0.5
             },
             "pattern": {
              "fillmode": "overlay",
              "size": 10,
              "solidity": 0.2
             }
            },
            "type": "bar"
           }
          ],
          "barpolar": [
           {
            "marker": {
             "line": {
              "color": "#E5ECF6",
              "width": 0.5
             },
             "pattern": {
              "fillmode": "overlay",
              "size": 10,
              "solidity": 0.2
             }
            },
            "type": "barpolar"
           }
          ],
          "carpet": [
           {
            "aaxis": {
             "endlinecolor": "#2a3f5f",
             "gridcolor": "white",
             "linecolor": "white",
             "minorgridcolor": "white",
             "startlinecolor": "#2a3f5f"
            },
            "baxis": {
             "endlinecolor": "#2a3f5f",
             "gridcolor": "white",
             "linecolor": "white",
             "minorgridcolor": "white",
             "startlinecolor": "#2a3f5f"
            },
            "type": "carpet"
           }
          ],
          "choropleth": [
           {
            "colorbar": {
             "outlinewidth": 0,
             "ticks": ""
            },
            "type": "choropleth"
           }
          ],
          "contour": [
           {
            "colorbar": {
             "outlinewidth": 0,
             "ticks": ""
            },
            "colorscale": [
             [
              0,
              "#0d0887"
             ],
             [
              0.1111111111111111,
              "#46039f"
             ],
             [
              0.2222222222222222,
              "#7201a8"
             ],
             [
              0.3333333333333333,
              "#9c179e"
             ],
             [
              0.4444444444444444,
              "#bd3786"
             ],
             [
              0.5555555555555556,
              "#d8576b"
             ],
             [
              0.6666666666666666,
              "#ed7953"
             ],
             [
              0.7777777777777778,
              "#fb9f3a"
             ],
             [
              0.8888888888888888,
              "#fdca26"
             ],
             [
              1,
              "#f0f921"
             ]
            ],
            "type": "contour"
           }
          ],
          "contourcarpet": [
           {
            "colorbar": {
             "outlinewidth": 0,
             "ticks": ""
            },
            "type": "contourcarpet"
           }
          ],
          "heatmap": [
           {
            "colorbar": {
             "outlinewidth": 0,
             "ticks": ""
            },
            "colorscale": [
             [
              0,
              "#0d0887"
             ],
             [
              0.1111111111111111,
              "#46039f"
             ],
             [
              0.2222222222222222,
              "#7201a8"
             ],
             [
              0.3333333333333333,
              "#9c179e"
             ],
             [
              0.4444444444444444,
              "#bd3786"
             ],
             [
              0.5555555555555556,
              "#d8576b"
             ],
             [
              0.6666666666666666,
              "#ed7953"
             ],
             [
              0.7777777777777778,
              "#fb9f3a"
             ],
             [
              0.8888888888888888,
              "#fdca26"
             ],
             [
              1,
              "#f0f921"
             ]
            ],
            "type": "heatmap"
           }
          ],
          "heatmapgl": [
           {
            "colorbar": {
             "outlinewidth": 0,
             "ticks": ""
            },
            "colorscale": [
             [
              0,
              "#0d0887"
             ],
             [
              0.1111111111111111,
              "#46039f"
             ],
             [
              0.2222222222222222,
              "#7201a8"
             ],
             [
              0.3333333333333333,
              "#9c179e"
             ],
             [
              0.4444444444444444,
              "#bd3786"
             ],
             [
              0.5555555555555556,
              "#d8576b"
             ],
             [
              0.6666666666666666,
              "#ed7953"
             ],
             [
              0.7777777777777778,
              "#fb9f3a"
             ],
             [
              0.8888888888888888,
              "#fdca26"
             ],
             [
              1,
              "#f0f921"
             ]
            ],
            "type": "heatmapgl"
           }
          ],
          "histogram": [
           {
            "marker": {
             "pattern": {
              "fillmode": "overlay",
              "size": 10,
              "solidity": 0.2
             }
            },
            "type": "histogram"
           }
          ],
          "histogram2d": [
           {
            "colorbar": {
             "outlinewidth": 0,
             "ticks": ""
            },
            "colorscale": [
             [
              0,
              "#0d0887"
             ],
             [
              0.1111111111111111,
              "#46039f"
             ],
             [
              0.2222222222222222,
              "#7201a8"
             ],
             [
              0.3333333333333333,
              "#9c179e"
             ],
             [
              0.4444444444444444,
              "#bd3786"
             ],
             [
              0.5555555555555556,
              "#d8576b"
             ],
             [
              0.6666666666666666,
              "#ed7953"
             ],
             [
              0.7777777777777778,
              "#fb9f3a"
             ],
             [
              0.8888888888888888,
              "#fdca26"
             ],
             [
              1,
              "#f0f921"
             ]
            ],
            "type": "histogram2d"
           }
          ],
          "histogram2dcontour": [
           {
            "colorbar": {
             "outlinewidth": 0,
             "ticks": ""
            },
            "colorscale": [
             [
              0,
              "#0d0887"
             ],
             [
              0.1111111111111111,
              "#46039f"
             ],
             [
              0.2222222222222222,
              "#7201a8"
             ],
             [
              0.3333333333333333,
              "#9c179e"
             ],
             [
              0.4444444444444444,
              "#bd3786"
             ],
             [
              0.5555555555555556,
              "#d8576b"
             ],
             [
              0.6666666666666666,
              "#ed7953"
             ],
             [
              0.7777777777777778,
              "#fb9f3a"
             ],
             [
              0.8888888888888888,
              "#fdca26"
             ],
             [
              1,
              "#f0f921"
             ]
            ],
            "type": "histogram2dcontour"
           }
          ],
          "mesh3d": [
           {
            "colorbar": {
             "outlinewidth": 0,
             "ticks": ""
            },
            "type": "mesh3d"
           }
          ],
          "parcoords": [
           {
            "line": {
             "colorbar": {
              "outlinewidth": 0,
              "ticks": ""
             }
            },
            "type": "parcoords"
           }
          ],
          "pie": [
           {
            "automargin": true,
            "type": "pie"
           }
          ],
          "scatter": [
           {
            "fillpattern": {
             "fillmode": "overlay",
             "size": 10,
             "solidity": 0.2
            },
            "type": "scatter"
           }
          ],
          "scatter3d": [
           {
            "line": {
             "colorbar": {
              "outlinewidth": 0,
              "ticks": ""
             }
            },
            "marker": {
             "colorbar": {
              "outlinewidth": 0,
              "ticks": ""
             }
            },
            "type": "scatter3d"
           }
          ],
          "scattercarpet": [
           {
            "marker": {
             "colorbar": {
              "outlinewidth": 0,
              "ticks": ""
             }
            },
            "type": "scattercarpet"
           }
          ],
          "scattergeo": [
           {
            "marker": {
             "colorbar": {
              "outlinewidth": 0,
              "ticks": ""
             }
            },
            "type": "scattergeo"
           }
          ],
          "scattergl": [
           {
            "marker": {
             "colorbar": {
              "outlinewidth": 0,
              "ticks": ""
             }
            },
            "type": "scattergl"
           }
          ],
          "scattermapbox": [
           {
            "marker": {
             "colorbar": {
              "outlinewidth": 0,
              "ticks": ""
             }
            },
            "type": "scattermapbox"
           }
          ],
          "scatterpolar": [
           {
            "marker": {
             "colorbar": {
              "outlinewidth": 0,
              "ticks": ""
             }
            },
            "type": "scatterpolar"
           }
          ],
          "scatterpolargl": [
           {
            "marker": {
             "colorbar": {
              "outlinewidth": 0,
              "ticks": ""
             }
            },
            "type": "scatterpolargl"
           }
          ],
          "scatterternary": [
           {
            "marker": {
             "colorbar": {
              "outlinewidth": 0,
              "ticks": ""
             }
            },
            "type": "scatterternary"
           }
          ],
          "surface": [
           {
            "colorbar": {
             "outlinewidth": 0,
             "ticks": ""
            },
            "colorscale": [
             [
              0,
              "#0d0887"
             ],
             [
              0.1111111111111111,
              "#46039f"
             ],
             [
              0.2222222222222222,
              "#7201a8"
             ],
             [
              0.3333333333333333,
              "#9c179e"
             ],
             [
              0.4444444444444444,
              "#bd3786"
             ],
             [
              0.5555555555555556,
              "#d8576b"
             ],
             [
              0.6666666666666666,
              "#ed7953"
             ],
             [
              0.7777777777777778,
              "#fb9f3a"
             ],
             [
              0.8888888888888888,
              "#fdca26"
             ],
             [
              1,
              "#f0f921"
             ]
            ],
            "type": "surface"
           }
          ],
          "table": [
           {
            "cells": {
             "fill": {
              "color": "#EBF0F8"
             },
             "line": {
              "color": "white"
             }
            },
            "header": {
             "fill": {
              "color": "#C8D4E3"
             },
             "line": {
              "color": "white"
             }
            },
            "type": "table"
           }
          ]
         },
         "layout": {
          "annotationdefaults": {
           "arrowcolor": "#2a3f5f",
           "arrowhead": 0,
           "arrowwidth": 1
          },
          "autotypenumbers": "strict",
          "coloraxis": {
           "colorbar": {
            "outlinewidth": 0,
            "ticks": ""
           }
          },
          "colorscale": {
           "diverging": [
            [
             0,
             "#8e0152"
            ],
            [
             0.1,
             "#c51b7d"
            ],
            [
             0.2,
             "#de77ae"
            ],
            [
             0.3,
             "#f1b6da"
            ],
            [
             0.4,
             "#fde0ef"
            ],
            [
             0.5,
             "#f7f7f7"
            ],
            [
             0.6,
             "#e6f5d0"
            ],
            [
             0.7,
             "#b8e186"
            ],
            [
             0.8,
             "#7fbc41"
            ],
            [
             0.9,
             "#4d9221"
            ],
            [
             1,
             "#276419"
            ]
           ],
           "sequential": [
            [
             0,
             "#0d0887"
            ],
            [
             0.1111111111111111,
             "#46039f"
            ],
            [
             0.2222222222222222,
             "#7201a8"
            ],
            [
             0.3333333333333333,
             "#9c179e"
            ],
            [
             0.4444444444444444,
             "#bd3786"
            ],
            [
             0.5555555555555556,
             "#d8576b"
            ],
            [
             0.6666666666666666,
             "#ed7953"
            ],
            [
             0.7777777777777778,
             "#fb9f3a"
            ],
            [
             0.8888888888888888,
             "#fdca26"
            ],
            [
             1,
             "#f0f921"
            ]
           ],
           "sequentialminus": [
            [
             0,
             "#0d0887"
            ],
            [
             0.1111111111111111,
             "#46039f"
            ],
            [
             0.2222222222222222,
             "#7201a8"
            ],
            [
             0.3333333333333333,
             "#9c179e"
            ],
            [
             0.4444444444444444,
             "#bd3786"
            ],
            [
             0.5555555555555556,
             "#d8576b"
            ],
            [
             0.6666666666666666,
             "#ed7953"
            ],
            [
             0.7777777777777778,
             "#fb9f3a"
            ],
            [
             0.8888888888888888,
             "#fdca26"
            ],
            [
             1,
             "#f0f921"
            ]
           ]
          },
          "colorway": [
           "#636efa",
           "#EF553B",
           "#00cc96",
           "#ab63fa",
           "#FFA15A",
           "#19d3f3",
           "#FF6692",
           "#B6E880",
           "#FF97FF",
           "#FECB52"
          ],
          "font": {
           "color": "#2a3f5f"
          },
          "geo": {
           "bgcolor": "white",
           "lakecolor": "white",
           "landcolor": "#E5ECF6",
           "showlakes": true,
           "showland": true,
           "subunitcolor": "white"
          },
          "hoverlabel": {
           "align": "left"
          },
          "hovermode": "closest",
          "mapbox": {
           "style": "light"
          },
          "paper_bgcolor": "white",
          "plot_bgcolor": "#E5ECF6",
          "polar": {
           "angularaxis": {
            "gridcolor": "white",
            "linecolor": "white",
            "ticks": ""
           },
           "bgcolor": "#E5ECF6",
           "radialaxis": {
            "gridcolor": "white",
            "linecolor": "white",
            "ticks": ""
           }
          },
          "scene": {
           "xaxis": {
            "backgroundcolor": "#E5ECF6",
            "gridcolor": "white",
            "gridwidth": 2,
            "linecolor": "white",
            "showbackground": true,
            "ticks": "",
            "zerolinecolor": "white"
           },
           "yaxis": {
            "backgroundcolor": "#E5ECF6",
            "gridcolor": "white",
            "gridwidth": 2,
            "linecolor": "white",
            "showbackground": true,
            "ticks": "",
            "zerolinecolor": "white"
           },
           "zaxis": {
            "backgroundcolor": "#E5ECF6",
            "gridcolor": "white",
            "gridwidth": 2,
            "linecolor": "white",
            "showbackground": true,
            "ticks": "",
            "zerolinecolor": "white"
           }
          },
          "shapedefaults": {
           "line": {
            "color": "#2a3f5f"
           }
          },
          "ternary": {
           "aaxis": {
            "gridcolor": "white",
            "linecolor": "white",
            "ticks": ""
           },
           "baxis": {
            "gridcolor": "white",
            "linecolor": "white",
            "ticks": ""
           },
           "bgcolor": "#E5ECF6",
           "caxis": {
            "gridcolor": "white",
            "linecolor": "white",
            "ticks": ""
           }
          },
          "title": {
           "x": 0.05
          },
          "xaxis": {
           "automargin": true,
           "gridcolor": "white",
           "linecolor": "white",
           "ticks": "",
           "title": {
            "standoff": 15
           },
           "zerolinecolor": "white",
           "zerolinewidth": 2
          },
          "yaxis": {
           "automargin": true,
           "gridcolor": "white",
           "linecolor": "white",
           "ticks": "",
           "title": {
            "standoff": 15
           },
           "zerolinecolor": "white",
           "zerolinewidth": 2
          }
         }
        },
        "xaxis": {
         "anchor": "y",
         "domain": [
          0,
          1
         ],
         "title": {
          "text": "PC1"
         }
        },
        "yaxis": {
         "anchor": "x",
         "domain": [
          0,
          1
         ],
         "title": {
          "text": "PC2"
         }
        }
       }
      }
     },
     "metadata": {},
     "output_type": "display_data"
    }
   ],
   "source": [
    "from sklearn.decomposition import PCA\n",
    "# ACP sur donnees standardisees\n",
    "\n",
    "pca = PCA(n_components=2)  # Choisissez le nombre de composantes souhaité\n",
    "principal_components = pca.fit_transform(df_standardise)\n",
    "principal_df = pd.DataFrame(data=principal_components, columns=['PC1', 'PC2'])\n",
    "principal_df[['Country name','Regional indicator', 'Ladder score', 'Generosity', 'Social support', 'Logged GDP per capita', 'Healthy life expectancy', 'Freedom to make life choices', 'Perceptions of corruption']] = data_2020[['Country name','Regional indicator', 'Ladder score', 'Generosity', 'Social support', 'Logged GDP per capita', 'Healthy life expectancy', 'Freedom to make life choices', 'Perceptions of corruption']]\n",
    "\n",
    "\n",
    "# Visualisation\n",
    "fig = px.scatter(\n",
    "    principal_df, \n",
    "    x='PC1', \n",
    "    y=\"PC2\", \n",
    "    hover_name='Country name',  # Le nom principal affiché\n",
    "    color='Regional indicator',  # Couleur basée sur cette colonne\n",
    "    hover_data={ \n",
    "        'Country name': False,  # Masquer ces colonnes\n",
    "        'Regional indicator': False,\n",
    "        'Ladder score': True,\n",
    "        'Generosity': True,\n",
    "        'Social support': True,\n",
    "        'Logged GDP per capita': True,\n",
    "        'Healthy life expectancy': True,\n",
    "        'Freedom to make life choices': True,\n",
    "        'Perceptions of corruption': True\n",
    "    },\n",
    ")\n",
    "fig.show()\n",
    "\n"
   ]
  },
  {
   "cell_type": "code",
   "execution_count": 29,
   "metadata": {},
   "outputs": [
    {
     "data": {
      "application/vnd.plotly.v1+json": {
       "config": {
        "plotlyServerURL": "https://plot.ly"
       },
       "data": [
        {
         "hovertemplate": "<b>%{hovertext}</b><br><br>PC1=%{x}<br>PC2=%{y}<br>cluster=%{marker.color}<extra></extra>",
         "hovertext": [
          "Finland",
          "Denmark",
          "Switzerland",
          "Iceland",
          "Norway",
          "Netherlands",
          "Sweden",
          "New Zealand",
          "Austria",
          "Luxembourg",
          "Canada",
          "Australia",
          "United Kingdom",
          "Israel",
          "Costa Rica",
          "Ireland",
          "Germany",
          "United States",
          "Czech Republic",
          "Belgium",
          "United Arab Emirates",
          "Malta",
          "France",
          "Mexico",
          "Taiwan Province of China",
          "Uruguay",
          "Saudi Arabia",
          "Spain",
          "Guatemala",
          "Italy",
          "Singapore",
          "Brazil",
          "Slovenia",
          "El Salvador",
          "Kosovo",
          "Panama",
          "Slovakia",
          "Uzbekistan",
          "Chile",
          "Bahrain",
          "Lithuania",
          "Trinidad and Tobago",
          "Poland",
          "Colombia",
          "Cyprus",
          "Nicaragua",
          "Romania",
          "Kuwait",
          "Mauritius",
          "Kazakhstan",
          "Estonia",
          "Philippines",
          "Hungary",
          "Thailand",
          "Argentina",
          "Honduras",
          "Latvia",
          "Ecuador",
          "Portugal",
          "Jamaica",
          "South Korea",
          "Japan",
          "Peru",
          "Serbia",
          "Bolivia",
          "Pakistan",
          "Paraguay",
          "Dominican Republic",
          "Bosnia and Herzegovina",
          "Moldova",
          "Tajikistan",
          "Montenegro",
          "Russia",
          "Kyrgyzstan",
          "Belarus",
          "North Cyprus",
          "Greece",
          "Hong Kong S.A.R. of China",
          "Croatia",
          "Libya",
          "Mongolia",
          "Malaysia",
          "Vietnam",
          "Indonesia",
          "Ivory Coast",
          "Benin",
          "Maldives",
          "Congo (Brazzaville)",
          "Azerbaijan",
          "Macedonia",
          "Ghana",
          "Nepal",
          "Turkey",
          "China",
          "Turkmenistan",
          "Bulgaria",
          "Morocco",
          "Cameroon",
          "Venezuela",
          "Algeria",
          "Senegal",
          "Guinea",
          "Niger",
          "Laos",
          "Albania",
          "Cambodia",
          "Bangladesh",
          "Gabon",
          "South Africa",
          "Iraq",
          "Lebanon",
          "Burkina Faso",
          "Gambia",
          "Mali",
          "Nigeria",
          "Armenia",
          "Georgia",
          "Iran",
          "Jordan",
          "Mozambique",
          "Kenya",
          "Namibia",
          "Ukraine",
          "Liberia",
          "Palestinian Territories",
          "Uganda",
          "Chad",
          "Tunisia",
          "Mauritania",
          "Sri Lanka",
          "Congo (Kinshasa)",
          "Swaziland",
          "Myanmar",
          "Comoros",
          "Togo",
          "Ethiopia",
          "Madagascar",
          "Egypt",
          "Sierra Leone",
          "Burundi",
          "Zambia",
          "Haiti",
          "Lesotho",
          "India",
          "Malawi",
          "Yemen",
          "Botswana",
          "Tanzania",
          "Central African Republic",
          "Rwanda",
          "Zimbabwe",
          "South Sudan",
          "Afghanistan"
         ],
         "legendgroup": "",
         "marker": {
          "color": [
           0,
           0,
           0,
           0,
           0,
           0,
           0,
           0,
           0,
           0,
           0,
           0,
           0,
           0,
           0,
           0,
           0,
           0,
           0,
           0,
           0,
           0,
           0,
           0,
           0,
           0,
           0,
           0,
           0,
           0,
           -1,
           0,
           0,
           0,
           0,
           0,
           0,
           -1,
           0,
           0,
           0,
           0,
           0,
           0,
           0,
           0,
           0,
           0,
           0,
           0,
           0,
           0,
           0,
           0,
           0,
           0,
           0,
           0,
           0,
           0,
           0,
           0,
           0,
           0,
           0,
           0,
           0,
           0,
           0,
           0,
           0,
           0,
           0,
           0,
           0,
           0,
           0,
           -1,
           0,
           0,
           0,
           0,
           0,
           -1,
           0,
           0,
           0,
           0,
           0,
           0,
           0,
           0,
           0,
           0,
           0,
           0,
           1,
           0,
           0,
           0,
           0,
           0,
           0,
           0,
           0,
           0,
           0,
           0,
           0,
           0,
           0,
           0,
           -1,
           0,
           0,
           0,
           1,
           -1,
           0,
           0,
           0,
           0,
           0,
           0,
           0,
           0,
           0,
           0,
           0,
           0,
           0,
           -1,
           -1,
           0,
           0,
           0,
           0,
           0,
           0,
           0,
           0,
           -1,
           0,
           0,
           -1,
           0,
           0,
           0,
           -1,
           -1,
           0,
           -1,
           -1
          ],
          "coloraxis": "coloraxis",
          "symbol": "circle"
         },
         "mode": "markers",
         "name": "",
         "orientation": "v",
         "showlegend": false,
         "type": "scatter",
         "x": [
          3.761823115428535,
          3.8521997377522395,
          3.6751408253982323,
          3.118882790631222,
          3.8281858886877536,
          3.3272354849481363,
          3.4803082207449854,
          3.531182510997749,
          2.993445725692668,
          3.33225075793754,
          3.2515182641157514,
          3.244199955453579,
          2.808438805120499,
          1.904122183869851,
          1.948770664509876,
          3.25763537239641,
          2.7101177459578496,
          2.110551075914442,
          1.639352250337723,
          2.214956275010611,
          2.2445056750189787,
          2.51418306690451,
          2.3726559988735154,
          1.0419334030765928,
          1.5670345850214031,
          1.8014284097231048,
          1.5669058832312008,
          1.7278392107180318,
          0.5838675083775002,
          1.1526886524286264,
          3.6819856916282565,
          0.9044636323330338,
          1.9955561637703134,
          0.41405920055006173,
          0.31490587431873635,
          1.3770758442813453,
          1.0406793795278138,
          1.5357524714309034,
          0.9236914003629068,
          1.7170675220213625,
          1.057104588871314,
          0.9433852037122485,
          1.4769800638018908,
          0.7806804717122964,
          1.1099872609389274,
          0.6879616643702581,
          0.6579451114590682,
          1.429777434609629,
          1.206802914284231,
          1.0448852577089738,
          1.766046857719057,
          0.4518234458247413,
          0.7348687043454313,
          1.041427645723466,
          0.9606130349333519,
          0.2681946416001084,
          0.6275123914322192,
          0.6323821411026767,
          1.374267763873466,
          0.5876478555950634,
          0.5963025805571469,
          1.751169567134438,
          0.36736739872933144,
          0.43706971601030375,
          -0.004596915064996793,
          -1.1931563579596594,
          0.6807129258654312,
          0.7680460543164527,
          -0.22712467209320933,
          -0.4302897700138066,
          -0.025080394830126636,
          0.15618108900171215,
          0.2872535417444658,
          0.02402405699677061,
          0.3668277179116303,
          1.278530332584089,
          -0.08038959803959542,
          2.041530646466643,
          0.42186412484423985,
          0.17015921879660284,
          -0.0734340733048195,
          0.7178245073643122,
          0.48713831745954417,
          -0.05896997061641666,
          -2.260222458606274,
          -2.7456201960236815,
          0.8208175484885983,
          -1.6644420873777577,
          0.3617942179308957,
          -0.18586043441641267,
          -1.3642859148684339,
          -0.7203728592124337,
          -0.16654275371797525,
          0.5519650344833908,
          0.35956281778718907,
          0.24250700357231827,
          -1.174289533467339,
          -1.9841865803306962,
          -0.5188352071602078,
          -0.9766809726575366,
          -1.658588541039338,
          -2.3098599341579344,
          -2.603697535303112,
          -0.5277834676672971,
          -0.6737220303926603,
          -0.579282634107668,
          -0.6390589318764502,
          -0.9421961306630393,
          -0.8388536470509828,
          -1.2419594444043631,
          -0.9775723172366667,
          -2.363389546766249,
          -2.08938509687298,
          -2.409124085200351,
          -2.031593198849509,
          -0.7345402432807693,
          -0.8918410122120656,
          -0.7934290254794302,
          -0.3989263544337984,
          -1.841890325008882,
          -1.4668580427193338,
          -1.038830491319048,
          -0.8587752456970343,
          -2.4379252163489493,
          -1.3729209412156773,
          -2.117210081160185,
          -3.4776296535839886,
          -1.5103568281696385,
          -2.1162410081550598,
          -0.21841470374202696,
          -3.039935264335527,
          -1.9238447233736757,
          -0.5993529974701453,
          -2.902946739576371,
          -3.245953372786898,
          -1.9672337051742348,
          -2.941376608225888,
          -1.3140224063103698,
          -3.277944976493183,
          -3.898706732693985,
          -2.122954577805013,
          -3.359400717984938,
          -2.7657648958014005,
          -1.774412323703981,
          -2.9820264629555453,
          -2.519340155830723,
          -1.1386604711110497,
          -1.9146917891718678,
          -5.477545546645772,
          -1.556959222540345,
          -2.517594481262403,
          -4.6098685661733825,
          -5.330766894865206
         ],
         "xaxis": "x",
         "y": [
          1.0748516876184797,
          1.7255540396507747,
          1.404191813560953,
          1.0679501774171782,
          1.7401174850749428,
          1.7739028719542098,
          1.7312627355753605,
          2.1876072526697468,
          0.8003278408133377,
          0.6567937457028564,
          1.3843084605929385,
          1.548764991641926,
          1.679086720986004,
          -0.2495631535153362,
          -0.5096931425835911,
          1.3620859739425963,
          0.8668416452998553,
          0.5019740393406459,
          -1.797141804113611,
          -0.49259022361890437,
          1.050368502945264,
          1.1217493257189894,
          -0.700504074249662,
          -0.9930545927513178,
          -0.8485366768128323,
          -0.2504934293546167,
          -0.828543180917219,
          -0.9923067293452589,
          0.1375744363894528,
          -1.4373911613052555,
          1.4899310067713665,
          -0.7185067613592218,
          -0.6769196774331808,
          -0.39092246946287706,
          0.721569497017334,
          -1.1271205873302808,
          -1.6198876489449159,
          2.362782979262961,
          -1.0276387681959027,
          0.6011886582669506,
          -1.7605658297875144,
          -0.5249013147552923,
          -0.9694123928728373,
          -1.1549231591941453,
          -0.4828993406605359,
          0.5857906551253539,
          -1.5059541025940852,
          -0.676450771976268,
          -0.23866905244859626,
          -0.6239119457357591,
          -0.39202464963161804,
          -0.0026931139025090757,
          -1.9315020384971706,
          1.0314235186684537,
          -1.3817004199836973,
          0.6347157687341778,
          -1.7302818230774595,
          -0.6414082844412163,
          -1.623591103743764,
          -0.9288508092249558,
          -1.2159692646176499,
          -1.4460865808234467,
          -1.1883531045102105,
          -1.0335074887881037,
          -0.2373930795256203,
          0.606455019649957,
          -0.06147212658151022,
          -0.6072330575527904,
          -0.5280470858109338,
          -0.7594532904841648,
          0.6715751609551415,
          -1.0801651607597578,
          -1.4771766945324842,
          0.8558935549189622,
          -1.173496461606679,
          -0.045567688497811766,
          -2.79585901976574,
          0.9121200730893767,
          -1.6419516925852442,
          -0.2634758051561725,
          -0.25152131450051746,
          0.40884520489930554,
          -0.16818771983431166,
          2.4988318891938732,
          0.3385423400271941,
          0.9885553026529638,
          -0.14693985917629543,
          -0.19778786725640166,
          -0.7079660550673501,
          -0.7368038463336654,
          0.725088163627523,
          1.15130809296905,
          -1.551136501558469,
          -0.7037059503313233,
          0.42100895904284974,
          -1.665611710660996,
          -0.971837414746814,
          0.3552616424635296,
          -1.626615617485701,
          -1.519363402412653,
          -0.19054000926171208,
          0.9410626027240131,
          1.1218125702720794,
          1.5855329451819453,
          -0.4848158583267162,
          0.9110270777968724,
          0.8245757312526809,
          -1.4783690636375382,
          -0.7355851435858421,
          -0.8078850953903154,
          -1.4678834054180954,
          0.35938281191039634,
          2.4817892340657766,
          0.0911063371956468,
          0.4109132977130284,
          -0.8589069326558044,
          -0.5001723552739901,
          0.35098887045504246,
          -0.7214390687632436,
          1.391743111926432,
          1.87618929096218,
          -1.054790619948814,
          -1.0104595369242038,
          0.5708300423958531,
          -1.176440240218859,
          0.7281411450980055,
          0.40569630825766806,
          -1.76961106395186,
          -0.756111408129221,
          0.16648698632213427,
          1.0021984401487385,
          -0.8238146164971918,
          3.640804423867344,
          0.4254512085431953,
          0.6337032408626352,
          0.6718748564734253,
          -0.15146964940482444,
          -1.0756545451434893,
          0.9290123969805069,
          1.1676718900422651,
          0.9230359045519806,
          2.3375037096609286,
          -0.426371677347383,
          1.0636457325612119,
          1.2391794677122039,
          -0.9661447179885938,
          -1.0556586066767903,
          1.6258617569017284,
          1.369254983033667,
          3.006975459651378,
          -0.1553874308328407,
          0.1765895660882892,
          -0.9054924946795386
         ],
         "yaxis": "y"
        }
       ],
       "layout": {
        "coloraxis": {
         "colorbar": {
          "title": {
           "text": "cluster"
          }
         },
         "colorscale": [
          [
           0,
           "#0d0887"
          ],
          [
           0.1111111111111111,
           "#46039f"
          ],
          [
           0.2222222222222222,
           "#7201a8"
          ],
          [
           0.3333333333333333,
           "#9c179e"
          ],
          [
           0.4444444444444444,
           "#bd3786"
          ],
          [
           0.5555555555555556,
           "#d8576b"
          ],
          [
           0.6666666666666666,
           "#ed7953"
          ],
          [
           0.7777777777777778,
           "#fb9f3a"
          ],
          [
           0.8888888888888888,
           "#fdca26"
          ],
          [
           1,
           "#f0f921"
          ]
         ]
        },
        "legend": {
         "tracegroupgap": 0
        },
        "margin": {
         "t": 60
        },
        "template": {
         "data": {
          "bar": [
           {
            "error_x": {
             "color": "#2a3f5f"
            },
            "error_y": {
             "color": "#2a3f5f"
            },
            "marker": {
             "line": {
              "color": "#E5ECF6",
              "width": 0.5
             },
             "pattern": {
              "fillmode": "overlay",
              "size": 10,
              "solidity": 0.2
             }
            },
            "type": "bar"
           }
          ],
          "barpolar": [
           {
            "marker": {
             "line": {
              "color": "#E5ECF6",
              "width": 0.5
             },
             "pattern": {
              "fillmode": "overlay",
              "size": 10,
              "solidity": 0.2
             }
            },
            "type": "barpolar"
           }
          ],
          "carpet": [
           {
            "aaxis": {
             "endlinecolor": "#2a3f5f",
             "gridcolor": "white",
             "linecolor": "white",
             "minorgridcolor": "white",
             "startlinecolor": "#2a3f5f"
            },
            "baxis": {
             "endlinecolor": "#2a3f5f",
             "gridcolor": "white",
             "linecolor": "white",
             "minorgridcolor": "white",
             "startlinecolor": "#2a3f5f"
            },
            "type": "carpet"
           }
          ],
          "choropleth": [
           {
            "colorbar": {
             "outlinewidth": 0,
             "ticks": ""
            },
            "type": "choropleth"
           }
          ],
          "contour": [
           {
            "colorbar": {
             "outlinewidth": 0,
             "ticks": ""
            },
            "colorscale": [
             [
              0,
              "#0d0887"
             ],
             [
              0.1111111111111111,
              "#46039f"
             ],
             [
              0.2222222222222222,
              "#7201a8"
             ],
             [
              0.3333333333333333,
              "#9c179e"
             ],
             [
              0.4444444444444444,
              "#bd3786"
             ],
             [
              0.5555555555555556,
              "#d8576b"
             ],
             [
              0.6666666666666666,
              "#ed7953"
             ],
             [
              0.7777777777777778,
              "#fb9f3a"
             ],
             [
              0.8888888888888888,
              "#fdca26"
             ],
             [
              1,
              "#f0f921"
             ]
            ],
            "type": "contour"
           }
          ],
          "contourcarpet": [
           {
            "colorbar": {
             "outlinewidth": 0,
             "ticks": ""
            },
            "type": "contourcarpet"
           }
          ],
          "heatmap": [
           {
            "colorbar": {
             "outlinewidth": 0,
             "ticks": ""
            },
            "colorscale": [
             [
              0,
              "#0d0887"
             ],
             [
              0.1111111111111111,
              "#46039f"
             ],
             [
              0.2222222222222222,
              "#7201a8"
             ],
             [
              0.3333333333333333,
              "#9c179e"
             ],
             [
              0.4444444444444444,
              "#bd3786"
             ],
             [
              0.5555555555555556,
              "#d8576b"
             ],
             [
              0.6666666666666666,
              "#ed7953"
             ],
             [
              0.7777777777777778,
              "#fb9f3a"
             ],
             [
              0.8888888888888888,
              "#fdca26"
             ],
             [
              1,
              "#f0f921"
             ]
            ],
            "type": "heatmap"
           }
          ],
          "heatmapgl": [
           {
            "colorbar": {
             "outlinewidth": 0,
             "ticks": ""
            },
            "colorscale": [
             [
              0,
              "#0d0887"
             ],
             [
              0.1111111111111111,
              "#46039f"
             ],
             [
              0.2222222222222222,
              "#7201a8"
             ],
             [
              0.3333333333333333,
              "#9c179e"
             ],
             [
              0.4444444444444444,
              "#bd3786"
             ],
             [
              0.5555555555555556,
              "#d8576b"
             ],
             [
              0.6666666666666666,
              "#ed7953"
             ],
             [
              0.7777777777777778,
              "#fb9f3a"
             ],
             [
              0.8888888888888888,
              "#fdca26"
             ],
             [
              1,
              "#f0f921"
             ]
            ],
            "type": "heatmapgl"
           }
          ],
          "histogram": [
           {
            "marker": {
             "pattern": {
              "fillmode": "overlay",
              "size": 10,
              "solidity": 0.2
             }
            },
            "type": "histogram"
           }
          ],
          "histogram2d": [
           {
            "colorbar": {
             "outlinewidth": 0,
             "ticks": ""
            },
            "colorscale": [
             [
              0,
              "#0d0887"
             ],
             [
              0.1111111111111111,
              "#46039f"
             ],
             [
              0.2222222222222222,
              "#7201a8"
             ],
             [
              0.3333333333333333,
              "#9c179e"
             ],
             [
              0.4444444444444444,
              "#bd3786"
             ],
             [
              0.5555555555555556,
              "#d8576b"
             ],
             [
              0.6666666666666666,
              "#ed7953"
             ],
             [
              0.7777777777777778,
              "#fb9f3a"
             ],
             [
              0.8888888888888888,
              "#fdca26"
             ],
             [
              1,
              "#f0f921"
             ]
            ],
            "type": "histogram2d"
           }
          ],
          "histogram2dcontour": [
           {
            "colorbar": {
             "outlinewidth": 0,
             "ticks": ""
            },
            "colorscale": [
             [
              0,
              "#0d0887"
             ],
             [
              0.1111111111111111,
              "#46039f"
             ],
             [
              0.2222222222222222,
              "#7201a8"
             ],
             [
              0.3333333333333333,
              "#9c179e"
             ],
             [
              0.4444444444444444,
              "#bd3786"
             ],
             [
              0.5555555555555556,
              "#d8576b"
             ],
             [
              0.6666666666666666,
              "#ed7953"
             ],
             [
              0.7777777777777778,
              "#fb9f3a"
             ],
             [
              0.8888888888888888,
              "#fdca26"
             ],
             [
              1,
              "#f0f921"
             ]
            ],
            "type": "histogram2dcontour"
           }
          ],
          "mesh3d": [
           {
            "colorbar": {
             "outlinewidth": 0,
             "ticks": ""
            },
            "type": "mesh3d"
           }
          ],
          "parcoords": [
           {
            "line": {
             "colorbar": {
              "outlinewidth": 0,
              "ticks": ""
             }
            },
            "type": "parcoords"
           }
          ],
          "pie": [
           {
            "automargin": true,
            "type": "pie"
           }
          ],
          "scatter": [
           {
            "fillpattern": {
             "fillmode": "overlay",
             "size": 10,
             "solidity": 0.2
            },
            "type": "scatter"
           }
          ],
          "scatter3d": [
           {
            "line": {
             "colorbar": {
              "outlinewidth": 0,
              "ticks": ""
             }
            },
            "marker": {
             "colorbar": {
              "outlinewidth": 0,
              "ticks": ""
             }
            },
            "type": "scatter3d"
           }
          ],
          "scattercarpet": [
           {
            "marker": {
             "colorbar": {
              "outlinewidth": 0,
              "ticks": ""
             }
            },
            "type": "scattercarpet"
           }
          ],
          "scattergeo": [
           {
            "marker": {
             "colorbar": {
              "outlinewidth": 0,
              "ticks": ""
             }
            },
            "type": "scattergeo"
           }
          ],
          "scattergl": [
           {
            "marker": {
             "colorbar": {
              "outlinewidth": 0,
              "ticks": ""
             }
            },
            "type": "scattergl"
           }
          ],
          "scattermapbox": [
           {
            "marker": {
             "colorbar": {
              "outlinewidth": 0,
              "ticks": ""
             }
            },
            "type": "scattermapbox"
           }
          ],
          "scatterpolar": [
           {
            "marker": {
             "colorbar": {
              "outlinewidth": 0,
              "ticks": ""
             }
            },
            "type": "scatterpolar"
           }
          ],
          "scatterpolargl": [
           {
            "marker": {
             "colorbar": {
              "outlinewidth": 0,
              "ticks": ""
             }
            },
            "type": "scatterpolargl"
           }
          ],
          "scatterternary": [
           {
            "marker": {
             "colorbar": {
              "outlinewidth": 0,
              "ticks": ""
             }
            },
            "type": "scatterternary"
           }
          ],
          "surface": [
           {
            "colorbar": {
             "outlinewidth": 0,
             "ticks": ""
            },
            "colorscale": [
             [
              0,
              "#0d0887"
             ],
             [
              0.1111111111111111,
              "#46039f"
             ],
             [
              0.2222222222222222,
              "#7201a8"
             ],
             [
              0.3333333333333333,
              "#9c179e"
             ],
             [
              0.4444444444444444,
              "#bd3786"
             ],
             [
              0.5555555555555556,
              "#d8576b"
             ],
             [
              0.6666666666666666,
              "#ed7953"
             ],
             [
              0.7777777777777778,
              "#fb9f3a"
             ],
             [
              0.8888888888888888,
              "#fdca26"
             ],
             [
              1,
              "#f0f921"
             ]
            ],
            "type": "surface"
           }
          ],
          "table": [
           {
            "cells": {
             "fill": {
              "color": "#EBF0F8"
             },
             "line": {
              "color": "white"
             }
            },
            "header": {
             "fill": {
              "color": "#C8D4E3"
             },
             "line": {
              "color": "white"
             }
            },
            "type": "table"
           }
          ]
         },
         "layout": {
          "annotationdefaults": {
           "arrowcolor": "#2a3f5f",
           "arrowhead": 0,
           "arrowwidth": 1
          },
          "autotypenumbers": "strict",
          "coloraxis": {
           "colorbar": {
            "outlinewidth": 0,
            "ticks": ""
           }
          },
          "colorscale": {
           "diverging": [
            [
             0,
             "#8e0152"
            ],
            [
             0.1,
             "#c51b7d"
            ],
            [
             0.2,
             "#de77ae"
            ],
            [
             0.3,
             "#f1b6da"
            ],
            [
             0.4,
             "#fde0ef"
            ],
            [
             0.5,
             "#f7f7f7"
            ],
            [
             0.6,
             "#e6f5d0"
            ],
            [
             0.7,
             "#b8e186"
            ],
            [
             0.8,
             "#7fbc41"
            ],
            [
             0.9,
             "#4d9221"
            ],
            [
             1,
             "#276419"
            ]
           ],
           "sequential": [
            [
             0,
             "#0d0887"
            ],
            [
             0.1111111111111111,
             "#46039f"
            ],
            [
             0.2222222222222222,
             "#7201a8"
            ],
            [
             0.3333333333333333,
             "#9c179e"
            ],
            [
             0.4444444444444444,
             "#bd3786"
            ],
            [
             0.5555555555555556,
             "#d8576b"
            ],
            [
             0.6666666666666666,
             "#ed7953"
            ],
            [
             0.7777777777777778,
             "#fb9f3a"
            ],
            [
             0.8888888888888888,
             "#fdca26"
            ],
            [
             1,
             "#f0f921"
            ]
           ],
           "sequentialminus": [
            [
             0,
             "#0d0887"
            ],
            [
             0.1111111111111111,
             "#46039f"
            ],
            [
             0.2222222222222222,
             "#7201a8"
            ],
            [
             0.3333333333333333,
             "#9c179e"
            ],
            [
             0.4444444444444444,
             "#bd3786"
            ],
            [
             0.5555555555555556,
             "#d8576b"
            ],
            [
             0.6666666666666666,
             "#ed7953"
            ],
            [
             0.7777777777777778,
             "#fb9f3a"
            ],
            [
             0.8888888888888888,
             "#fdca26"
            ],
            [
             1,
             "#f0f921"
            ]
           ]
          },
          "colorway": [
           "#636efa",
           "#EF553B",
           "#00cc96",
           "#ab63fa",
           "#FFA15A",
           "#19d3f3",
           "#FF6692",
           "#B6E880",
           "#FF97FF",
           "#FECB52"
          ],
          "font": {
           "color": "#2a3f5f"
          },
          "geo": {
           "bgcolor": "white",
           "lakecolor": "white",
           "landcolor": "#E5ECF6",
           "showlakes": true,
           "showland": true,
           "subunitcolor": "white"
          },
          "hoverlabel": {
           "align": "left"
          },
          "hovermode": "closest",
          "mapbox": {
           "style": "light"
          },
          "paper_bgcolor": "white",
          "plot_bgcolor": "#E5ECF6",
          "polar": {
           "angularaxis": {
            "gridcolor": "white",
            "linecolor": "white",
            "ticks": ""
           },
           "bgcolor": "#E5ECF6",
           "radialaxis": {
            "gridcolor": "white",
            "linecolor": "white",
            "ticks": ""
           }
          },
          "scene": {
           "xaxis": {
            "backgroundcolor": "#E5ECF6",
            "gridcolor": "white",
            "gridwidth": 2,
            "linecolor": "white",
            "showbackground": true,
            "ticks": "",
            "zerolinecolor": "white"
           },
           "yaxis": {
            "backgroundcolor": "#E5ECF6",
            "gridcolor": "white",
            "gridwidth": 2,
            "linecolor": "white",
            "showbackground": true,
            "ticks": "",
            "zerolinecolor": "white"
           },
           "zaxis": {
            "backgroundcolor": "#E5ECF6",
            "gridcolor": "white",
            "gridwidth": 2,
            "linecolor": "white",
            "showbackground": true,
            "ticks": "",
            "zerolinecolor": "white"
           }
          },
          "shapedefaults": {
           "line": {
            "color": "#2a3f5f"
           }
          },
          "ternary": {
           "aaxis": {
            "gridcolor": "white",
            "linecolor": "white",
            "ticks": ""
           },
           "baxis": {
            "gridcolor": "white",
            "linecolor": "white",
            "ticks": ""
           },
           "bgcolor": "#E5ECF6",
           "caxis": {
            "gridcolor": "white",
            "linecolor": "white",
            "ticks": ""
           }
          },
          "title": {
           "x": 0.05
          },
          "xaxis": {
           "automargin": true,
           "gridcolor": "white",
           "linecolor": "white",
           "ticks": "",
           "title": {
            "standoff": 15
           },
           "zerolinecolor": "white",
           "zerolinewidth": 2
          },
          "yaxis": {
           "automargin": true,
           "gridcolor": "white",
           "linecolor": "white",
           "ticks": "",
           "title": {
            "standoff": 15
           },
           "zerolinecolor": "white",
           "zerolinewidth": 2
          }
         }
        },
        "xaxis": {
         "anchor": "y",
         "domain": [
          0,
          1
         ],
         "title": {
          "text": "PC1"
         }
        },
        "yaxis": {
         "anchor": "x",
         "domain": [
          0,
          1
         ],
         "title": {
          "text": "PC2"
         }
        }
       }
      }
     },
     "metadata": {},
     "output_type": "display_data"
    }
   ],
   "source": [
    "# Clustering DBSCAN\n",
    "\n",
    "from sklearn.cluster import DBSCAN\n",
    "from sklearn.preprocessing import StandardScaler\n",
    "\n",
    "# Standardisation des données\n",
    "scaler = StandardScaler()\n",
    "df_standardise = scaler.fit_transform(df_numeric)\n",
    "\n",
    "# Clustering\n",
    "dbscan = DBSCAN(eps=1.5, min_samples=2)\n",
    "dbscan.fit(df_standardise)\n",
    "labels = dbscan.labels_\n",
    "\n",
    "# Ajout des labels au dataframe\n",
    "principal_df['cluster'] = labels\n",
    "\n",
    "# Visualisation\n",
    "\n",
    "fig = px.scatter(\n",
    "    principal_df, \n",
    "    x='PC1', \n",
    "    y='PC2', \n",
    "    color='cluster', \n",
    "    hover_name='Country name'\n",
    ")\n",
    "fig.show()\n",
    "\n"
   ]
  },
  {
   "cell_type": "markdown",
   "metadata": {},
   "source": [
    "Heatmap / Correlation\n",
    "Clustering\n",
    "\n",
    "ACP\n",
    "\n",
    "Chloropleth"
   ]
  }
 ],
 "metadata": {
  "kernelspec": {
   "display_name": "Python 3",
   "language": "python",
   "name": "python3"
  },
  "language_info": {
   "codemirror_mode": {
    "name": "ipython",
    "version": 3
   },
   "file_extension": ".py",
   "mimetype": "text/x-python",
   "name": "python",
   "nbconvert_exporter": "python",
   "pygments_lexer": "ipython3",
   "version": "3.12.0"
  }
 },
 "nbformat": 4,
 "nbformat_minor": 2
}
