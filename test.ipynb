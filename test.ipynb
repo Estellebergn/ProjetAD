{
 "cells": [
  {
   "cell_type": "code",
   "execution_count": null,
   "metadata": {},
   "outputs": [],
   "source": [
    "import pandas as pd\n",
    "import plotly.express as px\n",
    "from sklearn.metrics import silhouette_score\n",
    "from sklearn.preprocessing import StandardScaler\n",
    "import tools as t"
   ]
  },
  {
   "cell_type": "markdown",
   "metadata": {},
   "source": [
    "# Chargement data"
   ]
  },
  {
   "cell_type": "code",
   "execution_count": 2,
   "metadata": {},
   "outputs": [],
   "source": [
    "data_2020 = pd.read_csv('data/2020.csv')\n",
    "data_2021 = pd.read_csv('data/2021.csv')\n",
    "#data_2022 = pd.read_csv('data/2022.csv')"
   ]
  },
  {
   "cell_type": "code",
   "execution_count": 3,
   "metadata": {},
   "outputs": [
    {
     "data": {
      "application/vnd.plotly.v1+json": {
       "config": {
        "plotlyServerURL": "https://plot.ly"
       },
       "data": [
        {
         "alignmentgroup": "True",
         "hovertemplate": "Regional indicator=Western Europe<br>Country name=%{x}<br>Ladder score=%{y}<extra></extra>",
         "legendgroup": "Western Europe",
         "marker": {
          "color": "#636efa",
          "pattern": {
           "shape": ""
          }
         },
         "name": "Western Europe",
         "offsetgroup": "Western Europe",
         "orientation": "v",
         "showlegend": true,
         "textposition": "auto",
         "type": "bar",
         "x": [
          "Finland",
          "Denmark",
          "Switzerland",
          "Iceland",
          "Norway",
          "Netherlands",
          "Sweden",
          "Austria",
          "Luxembourg",
          "United Kingdom",
          "Ireland",
          "Germany",
          "Belgium",
          "Malta",
          "France",
          "Spain",
          "Italy",
          "Cyprus",
          "Portugal",
          "North Cyprus",
          "Greece"
         ],
         "xaxis": "x",
         "y": [
          7.808700085,
          7.645599842,
          7.559899807,
          7.504499912,
          7.487999916,
          7.448900223,
          7.353499889,
          7.294199944,
          7.237500191,
          7.164500237,
          7.093699932,
          7.075799942,
          6.863500118,
          6.772799969,
          6.663799763,
          6.400899887,
          6.38740015,
          6.15899992,
          5.910900116,
          5.53550005,
          5.514999866
         ],
         "yaxis": "y"
        },
        {
         "alignmentgroup": "True",
         "hovertemplate": "Regional indicator=North America and ANZ<br>Country name=%{x}<br>Ladder score=%{y}<extra></extra>",
         "legendgroup": "North America and ANZ",
         "marker": {
          "color": "#EF553B",
          "pattern": {
           "shape": ""
          }
         },
         "name": "North America and ANZ",
         "offsetgroup": "North America and ANZ",
         "orientation": "v",
         "showlegend": true,
         "textposition": "auto",
         "type": "bar",
         "x": [
          "New Zealand",
          "Canada",
          "Australia",
          "United States"
         ],
         "xaxis": "x",
         "y": [
          7.299600124,
          7.23210001,
          7.222799778,
          6.939599991
         ],
         "yaxis": "y"
        },
        {
         "alignmentgroup": "True",
         "hovertemplate": "Regional indicator=Middle East and North Africa<br>Country name=%{x}<br>Ladder score=%{y}<extra></extra>",
         "legendgroup": "Middle East and North Africa",
         "marker": {
          "color": "#00cc96",
          "pattern": {
           "shape": ""
          }
         },
         "name": "Middle East and North Africa",
         "offsetgroup": "Middle East and North Africa",
         "orientation": "v",
         "showlegend": true,
         "textposition": "auto",
         "type": "bar",
         "x": [
          "Israel",
          "United Arab Emirates",
          "Saudi Arabia",
          "Bahrain",
          "Kuwait",
          "Libya",
          "Turkey",
          "Morocco",
          "Algeria",
          "Iraq",
          "Lebanon",
          "Iran",
          "Jordan",
          "Palestinian Territories",
          "Tunisia",
          "Egypt",
          "Yemen"
         ],
         "xaxis": "x",
         "y": [
          7.128600121,
          6.790800095,
          6.406499863,
          6.227300167,
          6.102099895,
          5.488800049,
          5.131800175,
          5.094799995,
          5.005099773,
          4.784800053,
          4.771500111,
          4.672399998,
          4.633399963,
          4.552800179,
          4.392199993,
          4.151400089,
          3.527400017
         ],
         "yaxis": "y"
        },
        {
         "alignmentgroup": "True",
         "hovertemplate": "Regional indicator=Latin America and Caribbean<br>Country name=%{x}<br>Ladder score=%{y}<extra></extra>",
         "legendgroup": "Latin America and Caribbean",
         "marker": {
          "color": "#ab63fa",
          "pattern": {
           "shape": ""
          }
         },
         "name": "Latin America and Caribbean",
         "offsetgroup": "Latin America and Caribbean",
         "orientation": "v",
         "showlegend": true,
         "textposition": "auto",
         "type": "bar",
         "x": [
          "Costa Rica",
          "Mexico",
          "Uruguay",
          "Guatemala",
          "Brazil",
          "El Salvador",
          "Panama",
          "Chile",
          "Trinidad and Tobago",
          "Colombia",
          "Nicaragua",
          "Argentina",
          "Honduras",
          "Ecuador",
          "Jamaica",
          "Peru",
          "Bolivia",
          "Paraguay",
          "Dominican Republic",
          "Venezuela",
          "Haiti"
         ],
         "xaxis": "x",
         "y": [
          7.121399879,
          6.465000153,
          6.440100193,
          6.398900032,
          6.375599861,
          6.34829998,
          6.304800034,
          6.228499889,
          6.191899776,
          6.163400173,
          6.13710022,
          5.974699974,
          5.953199863,
          5.925199986,
          5.889800072,
          5.796800137,
          5.747499943,
          5.692100048,
          5.689199924,
          5.053199768,
          3.720799923
         ],
         "yaxis": "y"
        },
        {
         "alignmentgroup": "True",
         "hovertemplate": "Regional indicator=Central and Eastern Europe<br>Country name=%{x}<br>Ladder score=%{y}<extra></extra>",
         "legendgroup": "Central and Eastern Europe",
         "marker": {
          "color": "#FFA15A",
          "pattern": {
           "shape": ""
          }
         },
         "name": "Central and Eastern Europe",
         "offsetgroup": "Central and Eastern Europe",
         "orientation": "v",
         "showlegend": true,
         "textposition": "auto",
         "type": "bar",
         "x": [
          "Czech Republic",
          "Slovenia",
          "Kosovo",
          "Slovakia",
          "Lithuania",
          "Poland",
          "Romania",
          "Estonia",
          "Hungary",
          "Latvia",
          "Serbia",
          "Bosnia and Herzegovina",
          "Montenegro",
          "Croatia",
          "Macedonia",
          "Bulgaria",
          "Albania"
         ],
         "xaxis": "x",
         "y": [
          6.910900116,
          6.363399982,
          6.325200081,
          6.280600071,
          6.215499878,
          6.186299801,
          6.123700142,
          6.021800041,
          6.000400066,
          5.949999809,
          5.77820015,
          5.674099922,
          5.54610014,
          5.504700184,
          5.159800053,
          5.101500034,
          4.882699966
         ],
         "yaxis": "y"
        },
        {
         "alignmentgroup": "True",
         "hovertemplate": "Regional indicator=East Asia<br>Country name=%{x}<br>Ladder score=%{y}<extra></extra>",
         "legendgroup": "East Asia",
         "marker": {
          "color": "#19d3f3",
          "pattern": {
           "shape": ""
          }
         },
         "name": "East Asia",
         "offsetgroup": "East Asia",
         "orientation": "v",
         "showlegend": true,
         "textposition": "auto",
         "type": "bar",
         "x": [
          "Taiwan Province of China",
          "South Korea",
          "Japan",
          "Hong Kong S.A.R. of China",
          "Mongolia",
          "China"
         ],
         "xaxis": "x",
         "y": [
          6.45539999,
          5.872399807,
          5.870800018,
          5.510399818,
          5.456200123,
          5.123899937
         ],
         "yaxis": "y"
        },
        {
         "alignmentgroup": "True",
         "hovertemplate": "Regional indicator=Southeast Asia<br>Country name=%{x}<br>Ladder score=%{y}<extra></extra>",
         "legendgroup": "Southeast Asia",
         "marker": {
          "color": "#FF6692",
          "pattern": {
           "shape": ""
          }
         },
         "name": "Southeast Asia",
         "offsetgroup": "Southeast Asia",
         "orientation": "v",
         "showlegend": true,
         "textposition": "auto",
         "type": "bar",
         "x": [
          "Singapore",
          "Philippines",
          "Thailand",
          "Malaysia",
          "Vietnam",
          "Indonesia",
          "Laos",
          "Cambodia",
          "Myanmar"
         ],
         "xaxis": "x",
         "y": [
          6.377099991,
          6.006000042,
          5.998799801,
          5.384300232,
          5.353499889,
          5.285600185,
          4.888599873,
          4.848400116,
          4.308000088
         ],
         "yaxis": "y"
        },
        {
         "alignmentgroup": "True",
         "hovertemplate": "Regional indicator=Commonwealth of Independent States<br>Country name=%{x}<br>Ladder score=%{y}<extra></extra>",
         "legendgroup": "Commonwealth of Independent States",
         "marker": {
          "color": "#B6E880",
          "pattern": {
           "shape": ""
          }
         },
         "name": "Commonwealth of Independent States",
         "offsetgroup": "Commonwealth of Independent States",
         "orientation": "v",
         "showlegend": true,
         "textposition": "auto",
         "type": "bar",
         "x": [
          "Uzbekistan",
          "Kazakhstan",
          "Moldova",
          "Tajikistan",
          "Russia",
          "Kyrgyzstan",
          "Belarus",
          "Azerbaijan",
          "Turkmenistan",
          "Armenia",
          "Georgia",
          "Ukraine"
         ],
         "xaxis": "x",
         "y": [
          6.257599831,
          6.057899952,
          5.607500076,
          5.555699825,
          5.546000004,
          5.541500092,
          5.539899826,
          5.164800167,
          5.119100094,
          4.676799774,
          4.672599792,
          4.56069994
         ],
         "yaxis": "y"
        },
        {
         "alignmentgroup": "True",
         "hovertemplate": "Regional indicator=Sub-Saharan Africa<br>Country name=%{x}<br>Ladder score=%{y}<extra></extra>",
         "legendgroup": "Sub-Saharan Africa",
         "marker": {
          "color": "#FF97FF",
          "pattern": {
           "shape": ""
          }
         },
         "name": "Sub-Saharan Africa",
         "offsetgroup": "Sub-Saharan Africa",
         "orientation": "v",
         "showlegend": true,
         "textposition": "auto",
         "type": "bar",
         "x": [
          "Mauritius",
          "Ivory Coast",
          "Benin",
          "Congo (Brazzaville)",
          "Ghana",
          "Cameroon",
          "Senegal",
          "Guinea",
          "Niger",
          "Gabon",
          "South Africa",
          "Burkina Faso",
          "Gambia",
          "Mali",
          "Nigeria",
          "Mozambique",
          "Kenya",
          "Namibia",
          "Liberia",
          "Uganda",
          "Chad",
          "Mauritania",
          "Congo (Kinshasa)",
          "Swaziland",
          "Comoros",
          "Togo",
          "Ethiopia",
          "Madagascar",
          "Sierra Leone",
          "Burundi",
          "Zambia",
          "Lesotho",
          "Malawi",
          "Botswana",
          "Tanzania",
          "Central African Republic",
          "Rwanda",
          "Zimbabwe",
          "South Sudan"
         ],
         "xaxis": "x",
         "y": [
          6.101299763,
          5.233300209,
          5.21600008,
          5.194399834,
          5.147999763,
          5.084899902,
          4.980800152,
          4.949299812,
          4.909599781,
          4.829299927,
          4.814099789,
          4.768700123,
          4.750599861,
          4.729300022,
          4.724100113,
          4.623600006,
          4.583000183,
          4.571100235,
          4.557899952,
          4.43200016,
          4.422699928,
          4.374599934,
          4.31099987,
          4.308100224,
          4.288599968,
          4.187200069,
          4.186200142,
          4.165599823,
          3.926399946,
          3.775300026,
          3.759399891,
          3.652800083,
          3.538000107,
          3.478899956,
          3.476200104,
          3.475899935,
          3.312299967,
          3.299200058,
          2.816600084
         ],
         "yaxis": "y"
        },
        {
         "alignmentgroup": "True",
         "hovertemplate": "Regional indicator=South Asia<br>Country name=%{x}<br>Ladder score=%{y}<extra></extra>",
         "legendgroup": "South Asia",
         "marker": {
          "color": "#FECB52",
          "pattern": {
           "shape": ""
          }
         },
         "name": "South Asia",
         "offsetgroup": "South Asia",
         "orientation": "v",
         "showlegend": true,
         "textposition": "auto",
         "type": "bar",
         "x": [
          "Pakistan",
          "Maldives",
          "Nepal",
          "Bangladesh",
          "Sri Lanka",
          "India",
          "Afghanistan"
         ],
         "xaxis": "x",
         "y": [
          5.69329977,
          5.197599888,
          5.137199879,
          4.832799911,
          4.327000141,
          3.573299885,
          2.566900015
         ],
         "yaxis": "y"
        }
       ],
       "layout": {
        "barmode": "relative",
        "legend": {
         "title": {
          "text": "Regional indicator"
         },
         "tracegroupgap": 0
        },
        "template": {
         "data": {
          "bar": [
           {
            "error_x": {
             "color": "#2a3f5f"
            },
            "error_y": {
             "color": "#2a3f5f"
            },
            "marker": {
             "line": {
              "color": "#E5ECF6",
              "width": 0.5
             },
             "pattern": {
              "fillmode": "overlay",
              "size": 10,
              "solidity": 0.2
             }
            },
            "type": "bar"
           }
          ],
          "barpolar": [
           {
            "marker": {
             "line": {
              "color": "#E5ECF6",
              "width": 0.5
             },
             "pattern": {
              "fillmode": "overlay",
              "size": 10,
              "solidity": 0.2
             }
            },
            "type": "barpolar"
           }
          ],
          "carpet": [
           {
            "aaxis": {
             "endlinecolor": "#2a3f5f",
             "gridcolor": "white",
             "linecolor": "white",
             "minorgridcolor": "white",
             "startlinecolor": "#2a3f5f"
            },
            "baxis": {
             "endlinecolor": "#2a3f5f",
             "gridcolor": "white",
             "linecolor": "white",
             "minorgridcolor": "white",
             "startlinecolor": "#2a3f5f"
            },
            "type": "carpet"
           }
          ],
          "choropleth": [
           {
            "colorbar": {
             "outlinewidth": 0,
             "ticks": ""
            },
            "type": "choropleth"
           }
          ],
          "contour": [
           {
            "colorbar": {
             "outlinewidth": 0,
             "ticks": ""
            },
            "colorscale": [
             [
              0,
              "#0d0887"
             ],
             [
              0.1111111111111111,
              "#46039f"
             ],
             [
              0.2222222222222222,
              "#7201a8"
             ],
             [
              0.3333333333333333,
              "#9c179e"
             ],
             [
              0.4444444444444444,
              "#bd3786"
             ],
             [
              0.5555555555555556,
              "#d8576b"
             ],
             [
              0.6666666666666666,
              "#ed7953"
             ],
             [
              0.7777777777777778,
              "#fb9f3a"
             ],
             [
              0.8888888888888888,
              "#fdca26"
             ],
             [
              1,
              "#f0f921"
             ]
            ],
            "type": "contour"
           }
          ],
          "contourcarpet": [
           {
            "colorbar": {
             "outlinewidth": 0,
             "ticks": ""
            },
            "type": "contourcarpet"
           }
          ],
          "heatmap": [
           {
            "colorbar": {
             "outlinewidth": 0,
             "ticks": ""
            },
            "colorscale": [
             [
              0,
              "#0d0887"
             ],
             [
              0.1111111111111111,
              "#46039f"
             ],
             [
              0.2222222222222222,
              "#7201a8"
             ],
             [
              0.3333333333333333,
              "#9c179e"
             ],
             [
              0.4444444444444444,
              "#bd3786"
             ],
             [
              0.5555555555555556,
              "#d8576b"
             ],
             [
              0.6666666666666666,
              "#ed7953"
             ],
             [
              0.7777777777777778,
              "#fb9f3a"
             ],
             [
              0.8888888888888888,
              "#fdca26"
             ],
             [
              1,
              "#f0f921"
             ]
            ],
            "type": "heatmap"
           }
          ],
          "heatmapgl": [
           {
            "colorbar": {
             "outlinewidth": 0,
             "ticks": ""
            },
            "colorscale": [
             [
              0,
              "#0d0887"
             ],
             [
              0.1111111111111111,
              "#46039f"
             ],
             [
              0.2222222222222222,
              "#7201a8"
             ],
             [
              0.3333333333333333,
              "#9c179e"
             ],
             [
              0.4444444444444444,
              "#bd3786"
             ],
             [
              0.5555555555555556,
              "#d8576b"
             ],
             [
              0.6666666666666666,
              "#ed7953"
             ],
             [
              0.7777777777777778,
              "#fb9f3a"
             ],
             [
              0.8888888888888888,
              "#fdca26"
             ],
             [
              1,
              "#f0f921"
             ]
            ],
            "type": "heatmapgl"
           }
          ],
          "histogram": [
           {
            "marker": {
             "pattern": {
              "fillmode": "overlay",
              "size": 10,
              "solidity": 0.2
             }
            },
            "type": "histogram"
           }
          ],
          "histogram2d": [
           {
            "colorbar": {
             "outlinewidth": 0,
             "ticks": ""
            },
            "colorscale": [
             [
              0,
              "#0d0887"
             ],
             [
              0.1111111111111111,
              "#46039f"
             ],
             [
              0.2222222222222222,
              "#7201a8"
             ],
             [
              0.3333333333333333,
              "#9c179e"
             ],
             [
              0.4444444444444444,
              "#bd3786"
             ],
             [
              0.5555555555555556,
              "#d8576b"
             ],
             [
              0.6666666666666666,
              "#ed7953"
             ],
             [
              0.7777777777777778,
              "#fb9f3a"
             ],
             [
              0.8888888888888888,
              "#fdca26"
             ],
             [
              1,
              "#f0f921"
             ]
            ],
            "type": "histogram2d"
           }
          ],
          "histogram2dcontour": [
           {
            "colorbar": {
             "outlinewidth": 0,
             "ticks": ""
            },
            "colorscale": [
             [
              0,
              "#0d0887"
             ],
             [
              0.1111111111111111,
              "#46039f"
             ],
             [
              0.2222222222222222,
              "#7201a8"
             ],
             [
              0.3333333333333333,
              "#9c179e"
             ],
             [
              0.4444444444444444,
              "#bd3786"
             ],
             [
              0.5555555555555556,
              "#d8576b"
             ],
             [
              0.6666666666666666,
              "#ed7953"
             ],
             [
              0.7777777777777778,
              "#fb9f3a"
             ],
             [
              0.8888888888888888,
              "#fdca26"
             ],
             [
              1,
              "#f0f921"
             ]
            ],
            "type": "histogram2dcontour"
           }
          ],
          "mesh3d": [
           {
            "colorbar": {
             "outlinewidth": 0,
             "ticks": ""
            },
            "type": "mesh3d"
           }
          ],
          "parcoords": [
           {
            "line": {
             "colorbar": {
              "outlinewidth": 0,
              "ticks": ""
             }
            },
            "type": "parcoords"
           }
          ],
          "pie": [
           {
            "automargin": true,
            "type": "pie"
           }
          ],
          "scatter": [
           {
            "fillpattern": {
             "fillmode": "overlay",
             "size": 10,
             "solidity": 0.2
            },
            "type": "scatter"
           }
          ],
          "scatter3d": [
           {
            "line": {
             "colorbar": {
              "outlinewidth": 0,
              "ticks": ""
             }
            },
            "marker": {
             "colorbar": {
              "outlinewidth": 0,
              "ticks": ""
             }
            },
            "type": "scatter3d"
           }
          ],
          "scattercarpet": [
           {
            "marker": {
             "colorbar": {
              "outlinewidth": 0,
              "ticks": ""
             }
            },
            "type": "scattercarpet"
           }
          ],
          "scattergeo": [
           {
            "marker": {
             "colorbar": {
              "outlinewidth": 0,
              "ticks": ""
             }
            },
            "type": "scattergeo"
           }
          ],
          "scattergl": [
           {
            "marker": {
             "colorbar": {
              "outlinewidth": 0,
              "ticks": ""
             }
            },
            "type": "scattergl"
           }
          ],
          "scattermapbox": [
           {
            "marker": {
             "colorbar": {
              "outlinewidth": 0,
              "ticks": ""
             }
            },
            "type": "scattermapbox"
           }
          ],
          "scatterpolar": [
           {
            "marker": {
             "colorbar": {
              "outlinewidth": 0,
              "ticks": ""
             }
            },
            "type": "scatterpolar"
           }
          ],
          "scatterpolargl": [
           {
            "marker": {
             "colorbar": {
              "outlinewidth": 0,
              "ticks": ""
             }
            },
            "type": "scatterpolargl"
           }
          ],
          "scatterternary": [
           {
            "marker": {
             "colorbar": {
              "outlinewidth": 0,
              "ticks": ""
             }
            },
            "type": "scatterternary"
           }
          ],
          "surface": [
           {
            "colorbar": {
             "outlinewidth": 0,
             "ticks": ""
            },
            "colorscale": [
             [
              0,
              "#0d0887"
             ],
             [
              0.1111111111111111,
              "#46039f"
             ],
             [
              0.2222222222222222,
              "#7201a8"
             ],
             [
              0.3333333333333333,
              "#9c179e"
             ],
             [
              0.4444444444444444,
              "#bd3786"
             ],
             [
              0.5555555555555556,
              "#d8576b"
             ],
             [
              0.6666666666666666,
              "#ed7953"
             ],
             [
              0.7777777777777778,
              "#fb9f3a"
             ],
             [
              0.8888888888888888,
              "#fdca26"
             ],
             [
              1,
              "#f0f921"
             ]
            ],
            "type": "surface"
           }
          ],
          "table": [
           {
            "cells": {
             "fill": {
              "color": "#EBF0F8"
             },
             "line": {
              "color": "white"
             }
            },
            "header": {
             "fill": {
              "color": "#C8D4E3"
             },
             "line": {
              "color": "white"
             }
            },
            "type": "table"
           }
          ]
         },
         "layout": {
          "annotationdefaults": {
           "arrowcolor": "#2a3f5f",
           "arrowhead": 0,
           "arrowwidth": 1
          },
          "autotypenumbers": "strict",
          "coloraxis": {
           "colorbar": {
            "outlinewidth": 0,
            "ticks": ""
           }
          },
          "colorscale": {
           "diverging": [
            [
             0,
             "#8e0152"
            ],
            [
             0.1,
             "#c51b7d"
            ],
            [
             0.2,
             "#de77ae"
            ],
            [
             0.3,
             "#f1b6da"
            ],
            [
             0.4,
             "#fde0ef"
            ],
            [
             0.5,
             "#f7f7f7"
            ],
            [
             0.6,
             "#e6f5d0"
            ],
            [
             0.7,
             "#b8e186"
            ],
            [
             0.8,
             "#7fbc41"
            ],
            [
             0.9,
             "#4d9221"
            ],
            [
             1,
             "#276419"
            ]
           ],
           "sequential": [
            [
             0,
             "#0d0887"
            ],
            [
             0.1111111111111111,
             "#46039f"
            ],
            [
             0.2222222222222222,
             "#7201a8"
            ],
            [
             0.3333333333333333,
             "#9c179e"
            ],
            [
             0.4444444444444444,
             "#bd3786"
            ],
            [
             0.5555555555555556,
             "#d8576b"
            ],
            [
             0.6666666666666666,
             "#ed7953"
            ],
            [
             0.7777777777777778,
             "#fb9f3a"
            ],
            [
             0.8888888888888888,
             "#fdca26"
            ],
            [
             1,
             "#f0f921"
            ]
           ],
           "sequentialminus": [
            [
             0,
             "#0d0887"
            ],
            [
             0.1111111111111111,
             "#46039f"
            ],
            [
             0.2222222222222222,
             "#7201a8"
            ],
            [
             0.3333333333333333,
             "#9c179e"
            ],
            [
             0.4444444444444444,
             "#bd3786"
            ],
            [
             0.5555555555555556,
             "#d8576b"
            ],
            [
             0.6666666666666666,
             "#ed7953"
            ],
            [
             0.7777777777777778,
             "#fb9f3a"
            ],
            [
             0.8888888888888888,
             "#fdca26"
            ],
            [
             1,
             "#f0f921"
            ]
           ]
          },
          "colorway": [
           "#636efa",
           "#EF553B",
           "#00cc96",
           "#ab63fa",
           "#FFA15A",
           "#19d3f3",
           "#FF6692",
           "#B6E880",
           "#FF97FF",
           "#FECB52"
          ],
          "font": {
           "color": "#2a3f5f"
          },
          "geo": {
           "bgcolor": "white",
           "lakecolor": "white",
           "landcolor": "#E5ECF6",
           "showlakes": true,
           "showland": true,
           "subunitcolor": "white"
          },
          "hoverlabel": {
           "align": "left"
          },
          "hovermode": "closest",
          "mapbox": {
           "style": "light"
          },
          "paper_bgcolor": "white",
          "plot_bgcolor": "#E5ECF6",
          "polar": {
           "angularaxis": {
            "gridcolor": "white",
            "linecolor": "white",
            "ticks": ""
           },
           "bgcolor": "#E5ECF6",
           "radialaxis": {
            "gridcolor": "white",
            "linecolor": "white",
            "ticks": ""
           }
          },
          "scene": {
           "xaxis": {
            "backgroundcolor": "#E5ECF6",
            "gridcolor": "white",
            "gridwidth": 2,
            "linecolor": "white",
            "showbackground": true,
            "ticks": "",
            "zerolinecolor": "white"
           },
           "yaxis": {
            "backgroundcolor": "#E5ECF6",
            "gridcolor": "white",
            "gridwidth": 2,
            "linecolor": "white",
            "showbackground": true,
            "ticks": "",
            "zerolinecolor": "white"
           },
           "zaxis": {
            "backgroundcolor": "#E5ECF6",
            "gridcolor": "white",
            "gridwidth": 2,
            "linecolor": "white",
            "showbackground": true,
            "ticks": "",
            "zerolinecolor": "white"
           }
          },
          "shapedefaults": {
           "line": {
            "color": "#2a3f5f"
           }
          },
          "ternary": {
           "aaxis": {
            "gridcolor": "white",
            "linecolor": "white",
            "ticks": ""
           },
           "baxis": {
            "gridcolor": "white",
            "linecolor": "white",
            "ticks": ""
           },
           "bgcolor": "#E5ECF6",
           "caxis": {
            "gridcolor": "white",
            "linecolor": "white",
            "ticks": ""
           }
          },
          "title": {
           "x": 0.05
          },
          "xaxis": {
           "automargin": true,
           "gridcolor": "white",
           "linecolor": "white",
           "ticks": "",
           "title": {
            "standoff": 15
           },
           "zerolinecolor": "white",
           "zerolinewidth": 2
          },
          "yaxis": {
           "automargin": true,
           "gridcolor": "white",
           "linecolor": "white",
           "ticks": "",
           "title": {
            "standoff": 15
           },
           "zerolinecolor": "white",
           "zerolinewidth": 2
          }
         }
        },
        "title": {
         "text": "Histogramme du score de bonheur par pays en 2020"
        },
        "xaxis": {
         "anchor": "y",
         "categoryorder": "total descending",
         "domain": [
          0,
          1
         ],
         "title": {
          "text": "Country name"
         }
        },
        "yaxis": {
         "anchor": "x",
         "domain": [
          0,
          1
         ],
         "title": {
          "text": "Ladder score"
         }
        }
       }
      }
     },
     "metadata": {},
     "output_type": "display_data"
    }
   ],
   "source": [
    "# Histogramme\n",
    "data_2020 = data_2020.sort_values(by='Ladder score', ascending=False)\n",
    "fig = px.bar(\n",
    "    data_2020,\n",
    "    x='Country name',\n",
    "    y='Ladder score',\n",
    "    title='Histogramme du score de bonheur par pays en 2020',\n",
    "    color='Regional indicator'\n",
    ")\n",
    "fig.update_xaxes(categoryorder='total descending')\n",
    "fig.show()"
   ]
  },
  {
   "cell_type": "code",
   "execution_count": 4,
   "metadata": {},
   "outputs": [],
   "source": [
    "df_numeric = data_2020[['Ladder score', 'Logged GDP per capita', 'Social support', 'Healthy life expectancy', 'Freedom to make life choices','Perceptions of corruption', 'Generosity']]\n",
    "\n"
   ]
  },
  {
   "cell_type": "markdown",
   "metadata": {},
   "source": [
    "## Carte chloropèthe"
   ]
  },
  {
   "cell_type": "code",
   "execution_count": 5,
   "metadata": {},
   "outputs": [
    {
     "data": {
      "application/vnd.plotly.v1+json": {
       "config": {
        "plotlyServerURL": "https://plot.ly"
       },
       "data": [
        {
         "coloraxis": "coloraxis",
         "geo": "geo",
         "hovertemplate": "Country name=%{location}<br>Ladder score=%{z}<extra></extra>",
         "locationmode": "country names",
         "locations": [
          "Finland",
          "Denmark",
          "Switzerland",
          "Iceland",
          "Norway",
          "Netherlands",
          "Sweden",
          "New Zealand",
          "Austria",
          "Luxembourg",
          "Canada",
          "Australia",
          "United Kingdom",
          "Israel",
          "Costa Rica",
          "Ireland",
          "Germany",
          "United States",
          "Czech Republic",
          "Belgium",
          "United Arab Emirates",
          "Malta",
          "France",
          "Mexico",
          "Taiwan Province of China",
          "Uruguay",
          "Saudi Arabia",
          "Spain",
          "Guatemala",
          "Italy",
          "Singapore",
          "Brazil",
          "Slovenia",
          "El Salvador",
          "Kosovo",
          "Panama",
          "Slovakia",
          "Uzbekistan",
          "Chile",
          "Bahrain",
          "Lithuania",
          "Trinidad and Tobago",
          "Poland",
          "Colombia",
          "Cyprus",
          "Nicaragua",
          "Romania",
          "Kuwait",
          "Mauritius",
          "Kazakhstan",
          "Estonia",
          "Philippines",
          "Hungary",
          "Thailand",
          "Argentina",
          "Honduras",
          "Latvia",
          "Ecuador",
          "Portugal",
          "Jamaica",
          "South Korea",
          "Japan",
          "Peru",
          "Serbia",
          "Bolivia",
          "Pakistan",
          "Paraguay",
          "Dominican Republic",
          "Bosnia and Herzegovina",
          "Moldova",
          "Tajikistan",
          "Montenegro",
          "Russia",
          "Kyrgyzstan",
          "Belarus",
          "North Cyprus",
          "Greece",
          "Hong Kong S.A.R. of China",
          "Croatia",
          "Libya",
          "Mongolia",
          "Malaysia",
          "Vietnam",
          "Indonesia",
          "Ivory Coast",
          "Benin",
          "Maldives",
          "Congo (Brazzaville)",
          "Azerbaijan",
          "Macedonia",
          "Ghana",
          "Nepal",
          "Turkey",
          "China",
          "Turkmenistan",
          "Bulgaria",
          "Morocco",
          "Cameroon",
          "Venezuela",
          "Algeria",
          "Senegal",
          "Guinea",
          "Niger",
          "Laos",
          "Albania",
          "Cambodia",
          "Bangladesh",
          "Gabon",
          "South Africa",
          "Iraq",
          "Lebanon",
          "Burkina Faso",
          "Gambia",
          "Mali",
          "Nigeria",
          "Armenia",
          "Georgia",
          "Iran",
          "Jordan",
          "Mozambique",
          "Kenya",
          "Namibia",
          "Ukraine",
          "Liberia",
          "Palestinian Territories",
          "Uganda",
          "Chad",
          "Tunisia",
          "Mauritania",
          "Sri Lanka",
          "Congo (Kinshasa)",
          "Swaziland",
          "Myanmar",
          "Comoros",
          "Togo",
          "Ethiopia",
          "Madagascar",
          "Egypt",
          "Sierra Leone",
          "Burundi",
          "Zambia",
          "Haiti",
          "Lesotho",
          "India",
          "Malawi",
          "Yemen",
          "Botswana",
          "Tanzania",
          "Central African Republic",
          "Rwanda",
          "Zimbabwe",
          "South Sudan",
          "Afghanistan"
         ],
         "name": "",
         "type": "choropleth",
         "z": [
          7.808700085,
          7.645599842,
          7.559899807,
          7.504499912,
          7.487999916,
          7.448900223,
          7.353499889,
          7.299600124,
          7.294199944,
          7.237500191,
          7.23210001,
          7.222799778,
          7.164500237,
          7.128600121,
          7.121399879,
          7.093699932,
          7.075799942,
          6.939599991,
          6.910900116,
          6.863500118,
          6.790800095,
          6.772799969,
          6.663799763,
          6.465000153,
          6.45539999,
          6.440100193,
          6.406499863,
          6.400899887,
          6.398900032,
          6.38740015,
          6.377099991,
          6.375599861,
          6.363399982,
          6.34829998,
          6.325200081,
          6.304800034,
          6.280600071,
          6.257599831,
          6.228499889,
          6.227300167,
          6.215499878,
          6.191899776,
          6.186299801,
          6.163400173,
          6.15899992,
          6.13710022,
          6.123700142,
          6.102099895,
          6.101299763,
          6.057899952,
          6.021800041,
          6.006000042,
          6.000400066,
          5.998799801,
          5.974699974,
          5.953199863,
          5.949999809,
          5.925199986,
          5.910900116,
          5.889800072,
          5.872399807,
          5.870800018,
          5.796800137,
          5.77820015,
          5.747499943,
          5.69329977,
          5.692100048,
          5.689199924,
          5.674099922,
          5.607500076,
          5.555699825,
          5.54610014,
          5.546000004,
          5.541500092,
          5.539899826,
          5.53550005,
          5.514999866,
          5.510399818,
          5.504700184,
          5.488800049,
          5.456200123,
          5.384300232,
          5.353499889,
          5.285600185,
          5.233300209,
          5.21600008,
          5.197599888,
          5.194399834,
          5.164800167,
          5.159800053,
          5.147999763,
          5.137199879,
          5.131800175,
          5.123899937,
          5.119100094,
          5.101500034,
          5.094799995,
          5.084899902,
          5.053199768,
          5.005099773,
          4.980800152,
          4.949299812,
          4.909599781,
          4.888599873,
          4.882699966,
          4.848400116,
          4.832799911,
          4.829299927,
          4.814099789,
          4.784800053,
          4.771500111,
          4.768700123,
          4.750599861,
          4.729300022,
          4.724100113,
          4.676799774,
          4.672599792,
          4.672399998,
          4.633399963,
          4.623600006,
          4.583000183,
          4.571100235,
          4.56069994,
          4.557899952,
          4.552800179,
          4.43200016,
          4.422699928,
          4.392199993,
          4.374599934,
          4.327000141,
          4.31099987,
          4.308100224,
          4.308000088,
          4.288599968,
          4.187200069,
          4.186200142,
          4.165599823,
          4.151400089,
          3.926399946,
          3.775300026,
          3.759399891,
          3.720799923,
          3.652800083,
          3.573299885,
          3.538000107,
          3.527400017,
          3.478899956,
          3.476200104,
          3.475899935,
          3.312299967,
          3.299200058,
          2.816600084,
          2.566900015
         ]
        }
       ],
       "layout": {
        "coloraxis": {
         "colorbar": {
          "title": {
           "text": "Ladder score"
          }
         },
         "colorscale": [
          [
           0,
           "rgb(3, 35, 51)"
          ],
          [
           0.09090909090909091,
           "rgb(13, 48, 100)"
          ],
          [
           0.18181818181818182,
           "rgb(53, 50, 155)"
          ],
          [
           0.2727272727272727,
           "rgb(93, 62, 153)"
          ],
          [
           0.36363636363636365,
           "rgb(126, 77, 143)"
          ],
          [
           0.45454545454545453,
           "rgb(158, 89, 135)"
          ],
          [
           0.5454545454545454,
           "rgb(193, 100, 121)"
          ],
          [
           0.6363636363636364,
           "rgb(225, 113, 97)"
          ],
          [
           0.7272727272727273,
           "rgb(246, 139, 69)"
          ],
          [
           0.8181818181818182,
           "rgb(251, 173, 60)"
          ],
          [
           0.9090909090909091,
           "rgb(246, 211, 70)"
          ],
          [
           1,
           "rgb(231, 250, 90)"
          ]
         ]
        },
        "geo": {
         "center": {},
         "domain": {
          "x": [
           0,
           1
          ],
          "y": [
           0,
           1
          ]
         },
         "showcoastlines": false,
         "showframe": false
        },
        "legend": {
         "tracegroupgap": 0
        },
        "margin": {
         "b": 0,
         "l": 0,
         "r": 0,
         "t": 40
        },
        "template": {
         "data": {
          "bar": [
           {
            "error_x": {
             "color": "#2a3f5f"
            },
            "error_y": {
             "color": "#2a3f5f"
            },
            "marker": {
             "line": {
              "color": "#E5ECF6",
              "width": 0.5
             },
             "pattern": {
              "fillmode": "overlay",
              "size": 10,
              "solidity": 0.2
             }
            },
            "type": "bar"
           }
          ],
          "barpolar": [
           {
            "marker": {
             "line": {
              "color": "#E5ECF6",
              "width": 0.5
             },
             "pattern": {
              "fillmode": "overlay",
              "size": 10,
              "solidity": 0.2
             }
            },
            "type": "barpolar"
           }
          ],
          "carpet": [
           {
            "aaxis": {
             "endlinecolor": "#2a3f5f",
             "gridcolor": "white",
             "linecolor": "white",
             "minorgridcolor": "white",
             "startlinecolor": "#2a3f5f"
            },
            "baxis": {
             "endlinecolor": "#2a3f5f",
             "gridcolor": "white",
             "linecolor": "white",
             "minorgridcolor": "white",
             "startlinecolor": "#2a3f5f"
            },
            "type": "carpet"
           }
          ],
          "choropleth": [
           {
            "colorbar": {
             "outlinewidth": 0,
             "ticks": ""
            },
            "type": "choropleth"
           }
          ],
          "contour": [
           {
            "colorbar": {
             "outlinewidth": 0,
             "ticks": ""
            },
            "colorscale": [
             [
              0,
              "#0d0887"
             ],
             [
              0.1111111111111111,
              "#46039f"
             ],
             [
              0.2222222222222222,
              "#7201a8"
             ],
             [
              0.3333333333333333,
              "#9c179e"
             ],
             [
              0.4444444444444444,
              "#bd3786"
             ],
             [
              0.5555555555555556,
              "#d8576b"
             ],
             [
              0.6666666666666666,
              "#ed7953"
             ],
             [
              0.7777777777777778,
              "#fb9f3a"
             ],
             [
              0.8888888888888888,
              "#fdca26"
             ],
             [
              1,
              "#f0f921"
             ]
            ],
            "type": "contour"
           }
          ],
          "contourcarpet": [
           {
            "colorbar": {
             "outlinewidth": 0,
             "ticks": ""
            },
            "type": "contourcarpet"
           }
          ],
          "heatmap": [
           {
            "colorbar": {
             "outlinewidth": 0,
             "ticks": ""
            },
            "colorscale": [
             [
              0,
              "#0d0887"
             ],
             [
              0.1111111111111111,
              "#46039f"
             ],
             [
              0.2222222222222222,
              "#7201a8"
             ],
             [
              0.3333333333333333,
              "#9c179e"
             ],
             [
              0.4444444444444444,
              "#bd3786"
             ],
             [
              0.5555555555555556,
              "#d8576b"
             ],
             [
              0.6666666666666666,
              "#ed7953"
             ],
             [
              0.7777777777777778,
              "#fb9f3a"
             ],
             [
              0.8888888888888888,
              "#fdca26"
             ],
             [
              1,
              "#f0f921"
             ]
            ],
            "type": "heatmap"
           }
          ],
          "heatmapgl": [
           {
            "colorbar": {
             "outlinewidth": 0,
             "ticks": ""
            },
            "colorscale": [
             [
              0,
              "#0d0887"
             ],
             [
              0.1111111111111111,
              "#46039f"
             ],
             [
              0.2222222222222222,
              "#7201a8"
             ],
             [
              0.3333333333333333,
              "#9c179e"
             ],
             [
              0.4444444444444444,
              "#bd3786"
             ],
             [
              0.5555555555555556,
              "#d8576b"
             ],
             [
              0.6666666666666666,
              "#ed7953"
             ],
             [
              0.7777777777777778,
              "#fb9f3a"
             ],
             [
              0.8888888888888888,
              "#fdca26"
             ],
             [
              1,
              "#f0f921"
             ]
            ],
            "type": "heatmapgl"
           }
          ],
          "histogram": [
           {
            "marker": {
             "pattern": {
              "fillmode": "overlay",
              "size": 10,
              "solidity": 0.2
             }
            },
            "type": "histogram"
           }
          ],
          "histogram2d": [
           {
            "colorbar": {
             "outlinewidth": 0,
             "ticks": ""
            },
            "colorscale": [
             [
              0,
              "#0d0887"
             ],
             [
              0.1111111111111111,
              "#46039f"
             ],
             [
              0.2222222222222222,
              "#7201a8"
             ],
             [
              0.3333333333333333,
              "#9c179e"
             ],
             [
              0.4444444444444444,
              "#bd3786"
             ],
             [
              0.5555555555555556,
              "#d8576b"
             ],
             [
              0.6666666666666666,
              "#ed7953"
             ],
             [
              0.7777777777777778,
              "#fb9f3a"
             ],
             [
              0.8888888888888888,
              "#fdca26"
             ],
             [
              1,
              "#f0f921"
             ]
            ],
            "type": "histogram2d"
           }
          ],
          "histogram2dcontour": [
           {
            "colorbar": {
             "outlinewidth": 0,
             "ticks": ""
            },
            "colorscale": [
             [
              0,
              "#0d0887"
             ],
             [
              0.1111111111111111,
              "#46039f"
             ],
             [
              0.2222222222222222,
              "#7201a8"
             ],
             [
              0.3333333333333333,
              "#9c179e"
             ],
             [
              0.4444444444444444,
              "#bd3786"
             ],
             [
              0.5555555555555556,
              "#d8576b"
             ],
             [
              0.6666666666666666,
              "#ed7953"
             ],
             [
              0.7777777777777778,
              "#fb9f3a"
             ],
             [
              0.8888888888888888,
              "#fdca26"
             ],
             [
              1,
              "#f0f921"
             ]
            ],
            "type": "histogram2dcontour"
           }
          ],
          "mesh3d": [
           {
            "colorbar": {
             "outlinewidth": 0,
             "ticks": ""
            },
            "type": "mesh3d"
           }
          ],
          "parcoords": [
           {
            "line": {
             "colorbar": {
              "outlinewidth": 0,
              "ticks": ""
             }
            },
            "type": "parcoords"
           }
          ],
          "pie": [
           {
            "automargin": true,
            "type": "pie"
           }
          ],
          "scatter": [
           {
            "fillpattern": {
             "fillmode": "overlay",
             "size": 10,
             "solidity": 0.2
            },
            "type": "scatter"
           }
          ],
          "scatter3d": [
           {
            "line": {
             "colorbar": {
              "outlinewidth": 0,
              "ticks": ""
             }
            },
            "marker": {
             "colorbar": {
              "outlinewidth": 0,
              "ticks": ""
             }
            },
            "type": "scatter3d"
           }
          ],
          "scattercarpet": [
           {
            "marker": {
             "colorbar": {
              "outlinewidth": 0,
              "ticks": ""
             }
            },
            "type": "scattercarpet"
           }
          ],
          "scattergeo": [
           {
            "marker": {
             "colorbar": {
              "outlinewidth": 0,
              "ticks": ""
             }
            },
            "type": "scattergeo"
           }
          ],
          "scattergl": [
           {
            "marker": {
             "colorbar": {
              "outlinewidth": 0,
              "ticks": ""
             }
            },
            "type": "scattergl"
           }
          ],
          "scattermapbox": [
           {
            "marker": {
             "colorbar": {
              "outlinewidth": 0,
              "ticks": ""
             }
            },
            "type": "scattermapbox"
           }
          ],
          "scatterpolar": [
           {
            "marker": {
             "colorbar": {
              "outlinewidth": 0,
              "ticks": ""
             }
            },
            "type": "scatterpolar"
           }
          ],
          "scatterpolargl": [
           {
            "marker": {
             "colorbar": {
              "outlinewidth": 0,
              "ticks": ""
             }
            },
            "type": "scatterpolargl"
           }
          ],
          "scatterternary": [
           {
            "marker": {
             "colorbar": {
              "outlinewidth": 0,
              "ticks": ""
             }
            },
            "type": "scatterternary"
           }
          ],
          "surface": [
           {
            "colorbar": {
             "outlinewidth": 0,
             "ticks": ""
            },
            "colorscale": [
             [
              0,
              "#0d0887"
             ],
             [
              0.1111111111111111,
              "#46039f"
             ],
             [
              0.2222222222222222,
              "#7201a8"
             ],
             [
              0.3333333333333333,
              "#9c179e"
             ],
             [
              0.4444444444444444,
              "#bd3786"
             ],
             [
              0.5555555555555556,
              "#d8576b"
             ],
             [
              0.6666666666666666,
              "#ed7953"
             ],
             [
              0.7777777777777778,
              "#fb9f3a"
             ],
             [
              0.8888888888888888,
              "#fdca26"
             ],
             [
              1,
              "#f0f921"
             ]
            ],
            "type": "surface"
           }
          ],
          "table": [
           {
            "cells": {
             "fill": {
              "color": "#EBF0F8"
             },
             "line": {
              "color": "white"
             }
            },
            "header": {
             "fill": {
              "color": "#C8D4E3"
             },
             "line": {
              "color": "white"
             }
            },
            "type": "table"
           }
          ]
         },
         "layout": {
          "annotationdefaults": {
           "arrowcolor": "#2a3f5f",
           "arrowhead": 0,
           "arrowwidth": 1
          },
          "autotypenumbers": "strict",
          "coloraxis": {
           "colorbar": {
            "outlinewidth": 0,
            "ticks": ""
           }
          },
          "colorscale": {
           "diverging": [
            [
             0,
             "#8e0152"
            ],
            [
             0.1,
             "#c51b7d"
            ],
            [
             0.2,
             "#de77ae"
            ],
            [
             0.3,
             "#f1b6da"
            ],
            [
             0.4,
             "#fde0ef"
            ],
            [
             0.5,
             "#f7f7f7"
            ],
            [
             0.6,
             "#e6f5d0"
            ],
            [
             0.7,
             "#b8e186"
            ],
            [
             0.8,
             "#7fbc41"
            ],
            [
             0.9,
             "#4d9221"
            ],
            [
             1,
             "#276419"
            ]
           ],
           "sequential": [
            [
             0,
             "#0d0887"
            ],
            [
             0.1111111111111111,
             "#46039f"
            ],
            [
             0.2222222222222222,
             "#7201a8"
            ],
            [
             0.3333333333333333,
             "#9c179e"
            ],
            [
             0.4444444444444444,
             "#bd3786"
            ],
            [
             0.5555555555555556,
             "#d8576b"
            ],
            [
             0.6666666666666666,
             "#ed7953"
            ],
            [
             0.7777777777777778,
             "#fb9f3a"
            ],
            [
             0.8888888888888888,
             "#fdca26"
            ],
            [
             1,
             "#f0f921"
            ]
           ],
           "sequentialminus": [
            [
             0,
             "#0d0887"
            ],
            [
             0.1111111111111111,
             "#46039f"
            ],
            [
             0.2222222222222222,
             "#7201a8"
            ],
            [
             0.3333333333333333,
             "#9c179e"
            ],
            [
             0.4444444444444444,
             "#bd3786"
            ],
            [
             0.5555555555555556,
             "#d8576b"
            ],
            [
             0.6666666666666666,
             "#ed7953"
            ],
            [
             0.7777777777777778,
             "#fb9f3a"
            ],
            [
             0.8888888888888888,
             "#fdca26"
            ],
            [
             1,
             "#f0f921"
            ]
           ]
          },
          "colorway": [
           "#636efa",
           "#EF553B",
           "#00cc96",
           "#ab63fa",
           "#FFA15A",
           "#19d3f3",
           "#FF6692",
           "#B6E880",
           "#FF97FF",
           "#FECB52"
          ],
          "font": {
           "color": "#2a3f5f"
          },
          "geo": {
           "bgcolor": "white",
           "lakecolor": "white",
           "landcolor": "#E5ECF6",
           "showlakes": true,
           "showland": true,
           "subunitcolor": "white"
          },
          "hoverlabel": {
           "align": "left"
          },
          "hovermode": "closest",
          "mapbox": {
           "style": "light"
          },
          "paper_bgcolor": "white",
          "plot_bgcolor": "#E5ECF6",
          "polar": {
           "angularaxis": {
            "gridcolor": "white",
            "linecolor": "white",
            "ticks": ""
           },
           "bgcolor": "#E5ECF6",
           "radialaxis": {
            "gridcolor": "white",
            "linecolor": "white",
            "ticks": ""
           }
          },
          "scene": {
           "xaxis": {
            "backgroundcolor": "#E5ECF6",
            "gridcolor": "white",
            "gridwidth": 2,
            "linecolor": "white",
            "showbackground": true,
            "ticks": "",
            "zerolinecolor": "white"
           },
           "yaxis": {
            "backgroundcolor": "#E5ECF6",
            "gridcolor": "white",
            "gridwidth": 2,
            "linecolor": "white",
            "showbackground": true,
            "ticks": "",
            "zerolinecolor": "white"
           },
           "zaxis": {
            "backgroundcolor": "#E5ECF6",
            "gridcolor": "white",
            "gridwidth": 2,
            "linecolor": "white",
            "showbackground": true,
            "ticks": "",
            "zerolinecolor": "white"
           }
          },
          "shapedefaults": {
           "line": {
            "color": "#2a3f5f"
           }
          },
          "ternary": {
           "aaxis": {
            "gridcolor": "white",
            "linecolor": "white",
            "ticks": ""
           },
           "baxis": {
            "gridcolor": "white",
            "linecolor": "white",
            "ticks": ""
           },
           "bgcolor": "#E5ECF6",
           "caxis": {
            "gridcolor": "white",
            "linecolor": "white",
            "ticks": ""
           }
          },
          "title": {
           "x": 0.05
          },
          "xaxis": {
           "automargin": true,
           "gridcolor": "white",
           "linecolor": "white",
           "ticks": "",
           "title": {
            "standoff": 15
           },
           "zerolinecolor": "white",
           "zerolinewidth": 2
          },
          "yaxis": {
           "automargin": true,
           "gridcolor": "white",
           "linecolor": "white",
           "ticks": "",
           "title": {
            "standoff": 15
           },
           "zerolinecolor": "white",
           "zerolinewidth": 2
          }
         }
        },
        "title": {
         "text": "Carte du score de bonheur par pays en 2020"
        }
       }
      }
     },
     "metadata": {},
     "output_type": "display_data"
    }
   ],
   "source": [
    "# carte \n",
    "carte = px.choropleth(\n",
    "    data_2020,\n",
    "    locations='Country name',\n",
    "    locationmode='country names',\n",
    "    color='Ladder score',\n",
    "    title='Carte du score de bonheur par pays en 2020',\n",
    "    color_continuous_scale='thermal',\n",
    ")\n",
    "carte.update_geos(showframe=False, showcoastlines=False)\n",
    "carte.update_layout(margin={\"r\":0,\"t\":40,\"l\":0,\"b\":0})\n",
    "carte.show()"
   ]
  },
  {
   "cell_type": "code",
   "execution_count": 6,
   "metadata": {},
   "outputs": [
    {
     "data": {
      "application/vnd.plotly.v1+json": {
       "config": {
        "plotlyServerURL": "https://plot.ly"
       },
       "data": [
        {
         "coloraxis": "coloraxis",
         "hovertemplate": "Columns: %{x}<br>Columns: %{y}<br>Correlation: %{z}<extra></extra>",
         "name": "0",
         "texttemplate": "%{z}",
         "type": "heatmap",
         "x": [
          "Ladder score",
          "Logged GDP per capita",
          "Social support",
          "Healthy life expectancy",
          "Freedom to make life choices",
          "Perceptions of corruption",
          "Generosity"
         ],
         "xaxis": "x",
         "y": [
          "Ladder score",
          "Logged GDP per capita",
          "Social support",
          "Healthy life expectancy",
          "Freedom to make life choices",
          "Perceptions of corruption",
          "Generosity"
         ],
         "yaxis": "y",
         "z": [
          [
           1,
           0.7753744007526835,
           0.7650007567161385,
           0.770316289871849,
           0.5905967829225884,
           -0.4183050872559097,
           0.06904312657148512
          ],
          [
           0.7753744007526835,
           1,
           0.7818135831455395,
           0.848468617426851,
           0.41901864621438106,
           -0.33472907734432045,
           -0.11839937437059446
          ],
          [
           0.7650007567161385,
           0.7818135831455395,
           1,
           0.7427440895198051,
           0.47886317974441023,
           -0.21052960078864522,
           -0.05678035357271647
          ],
          [
           0.770316289871849,
           0.848468617426851,
           0.7427440895198051,
           1,
           0.44884618762649203,
           -0.35384120536095337,
           -0.0718521089021378
          ],
          [
           0.5905967829225884,
           0.41901864621438106,
           0.47886317974441023,
           0.44884618762649203,
           1,
           -0.42014450487659827,
           0.25372112360550303
          ],
          [
           -0.4183050872559097,
           -0.33472907734432045,
           -0.21052960078864522,
           -0.35384120536095337,
           -0.42014450487659827,
           1,
           -0.2784802257031198
          ],
          [
           0.06904312657148512,
           -0.11839937437059446,
           -0.05678035357271647,
           -0.0718521089021378,
           0.25372112360550303,
           -0.2784802257031198,
           1
          ]
         ]
        }
       ],
       "layout": {
        "coloraxis": {
         "cmax": 1,
         "cmin": -1,
         "colorbar": {
          "title": {
           "text": "Correlation"
          }
         },
         "colorscale": [
          [
           0,
           "rgb(103,0,31)"
          ],
          [
           0.1,
           "rgb(178,24,43)"
          ],
          [
           0.2,
           "rgb(214,96,77)"
          ],
          [
           0.3,
           "rgb(244,165,130)"
          ],
          [
           0.4,
           "rgb(253,219,199)"
          ],
          [
           0.5,
           "rgb(247,247,247)"
          ],
          [
           0.6,
           "rgb(209,229,240)"
          ],
          [
           0.7,
           "rgb(146,197,222)"
          ],
          [
           0.8,
           "rgb(67,147,195)"
          ],
          [
           0.9,
           "rgb(33,102,172)"
          ],
          [
           1,
           "rgb(5,48,97)"
          ]
         ]
        },
        "height": 800,
        "template": {
         "data": {
          "bar": [
           {
            "error_x": {
             "color": "#2a3f5f"
            },
            "error_y": {
             "color": "#2a3f5f"
            },
            "marker": {
             "line": {
              "color": "#E5ECF6",
              "width": 0.5
             },
             "pattern": {
              "fillmode": "overlay",
              "size": 10,
              "solidity": 0.2
             }
            },
            "type": "bar"
           }
          ],
          "barpolar": [
           {
            "marker": {
             "line": {
              "color": "#E5ECF6",
              "width": 0.5
             },
             "pattern": {
              "fillmode": "overlay",
              "size": 10,
              "solidity": 0.2
             }
            },
            "type": "barpolar"
           }
          ],
          "carpet": [
           {
            "aaxis": {
             "endlinecolor": "#2a3f5f",
             "gridcolor": "white",
             "linecolor": "white",
             "minorgridcolor": "white",
             "startlinecolor": "#2a3f5f"
            },
            "baxis": {
             "endlinecolor": "#2a3f5f",
             "gridcolor": "white",
             "linecolor": "white",
             "minorgridcolor": "white",
             "startlinecolor": "#2a3f5f"
            },
            "type": "carpet"
           }
          ],
          "choropleth": [
           {
            "colorbar": {
             "outlinewidth": 0,
             "ticks": ""
            },
            "type": "choropleth"
           }
          ],
          "contour": [
           {
            "colorbar": {
             "outlinewidth": 0,
             "ticks": ""
            },
            "colorscale": [
             [
              0,
              "#0d0887"
             ],
             [
              0.1111111111111111,
              "#46039f"
             ],
             [
              0.2222222222222222,
              "#7201a8"
             ],
             [
              0.3333333333333333,
              "#9c179e"
             ],
             [
              0.4444444444444444,
              "#bd3786"
             ],
             [
              0.5555555555555556,
              "#d8576b"
             ],
             [
              0.6666666666666666,
              "#ed7953"
             ],
             [
              0.7777777777777778,
              "#fb9f3a"
             ],
             [
              0.8888888888888888,
              "#fdca26"
             ],
             [
              1,
              "#f0f921"
             ]
            ],
            "type": "contour"
           }
          ],
          "contourcarpet": [
           {
            "colorbar": {
             "outlinewidth": 0,
             "ticks": ""
            },
            "type": "contourcarpet"
           }
          ],
          "heatmap": [
           {
            "colorbar": {
             "outlinewidth": 0,
             "ticks": ""
            },
            "colorscale": [
             [
              0,
              "#0d0887"
             ],
             [
              0.1111111111111111,
              "#46039f"
             ],
             [
              0.2222222222222222,
              "#7201a8"
             ],
             [
              0.3333333333333333,
              "#9c179e"
             ],
             [
              0.4444444444444444,
              "#bd3786"
             ],
             [
              0.5555555555555556,
              "#d8576b"
             ],
             [
              0.6666666666666666,
              "#ed7953"
             ],
             [
              0.7777777777777778,
              "#fb9f3a"
             ],
             [
              0.8888888888888888,
              "#fdca26"
             ],
             [
              1,
              "#f0f921"
             ]
            ],
            "type": "heatmap"
           }
          ],
          "heatmapgl": [
           {
            "colorbar": {
             "outlinewidth": 0,
             "ticks": ""
            },
            "colorscale": [
             [
              0,
              "#0d0887"
             ],
             [
              0.1111111111111111,
              "#46039f"
             ],
             [
              0.2222222222222222,
              "#7201a8"
             ],
             [
              0.3333333333333333,
              "#9c179e"
             ],
             [
              0.4444444444444444,
              "#bd3786"
             ],
             [
              0.5555555555555556,
              "#d8576b"
             ],
             [
              0.6666666666666666,
              "#ed7953"
             ],
             [
              0.7777777777777778,
              "#fb9f3a"
             ],
             [
              0.8888888888888888,
              "#fdca26"
             ],
             [
              1,
              "#f0f921"
             ]
            ],
            "type": "heatmapgl"
           }
          ],
          "histogram": [
           {
            "marker": {
             "pattern": {
              "fillmode": "overlay",
              "size": 10,
              "solidity": 0.2
             }
            },
            "type": "histogram"
           }
          ],
          "histogram2d": [
           {
            "colorbar": {
             "outlinewidth": 0,
             "ticks": ""
            },
            "colorscale": [
             [
              0,
              "#0d0887"
             ],
             [
              0.1111111111111111,
              "#46039f"
             ],
             [
              0.2222222222222222,
              "#7201a8"
             ],
             [
              0.3333333333333333,
              "#9c179e"
             ],
             [
              0.4444444444444444,
              "#bd3786"
             ],
             [
              0.5555555555555556,
              "#d8576b"
             ],
             [
              0.6666666666666666,
              "#ed7953"
             ],
             [
              0.7777777777777778,
              "#fb9f3a"
             ],
             [
              0.8888888888888888,
              "#fdca26"
             ],
             [
              1,
              "#f0f921"
             ]
            ],
            "type": "histogram2d"
           }
          ],
          "histogram2dcontour": [
           {
            "colorbar": {
             "outlinewidth": 0,
             "ticks": ""
            },
            "colorscale": [
             [
              0,
              "#0d0887"
             ],
             [
              0.1111111111111111,
              "#46039f"
             ],
             [
              0.2222222222222222,
              "#7201a8"
             ],
             [
              0.3333333333333333,
              "#9c179e"
             ],
             [
              0.4444444444444444,
              "#bd3786"
             ],
             [
              0.5555555555555556,
              "#d8576b"
             ],
             [
              0.6666666666666666,
              "#ed7953"
             ],
             [
              0.7777777777777778,
              "#fb9f3a"
             ],
             [
              0.8888888888888888,
              "#fdca26"
             ],
             [
              1,
              "#f0f921"
             ]
            ],
            "type": "histogram2dcontour"
           }
          ],
          "mesh3d": [
           {
            "colorbar": {
             "outlinewidth": 0,
             "ticks": ""
            },
            "type": "mesh3d"
           }
          ],
          "parcoords": [
           {
            "line": {
             "colorbar": {
              "outlinewidth": 0,
              "ticks": ""
             }
            },
            "type": "parcoords"
           }
          ],
          "pie": [
           {
            "automargin": true,
            "type": "pie"
           }
          ],
          "scatter": [
           {
            "fillpattern": {
             "fillmode": "overlay",
             "size": 10,
             "solidity": 0.2
            },
            "type": "scatter"
           }
          ],
          "scatter3d": [
           {
            "line": {
             "colorbar": {
              "outlinewidth": 0,
              "ticks": ""
             }
            },
            "marker": {
             "colorbar": {
              "outlinewidth": 0,
              "ticks": ""
             }
            },
            "type": "scatter3d"
           }
          ],
          "scattercarpet": [
           {
            "marker": {
             "colorbar": {
              "outlinewidth": 0,
              "ticks": ""
             }
            },
            "type": "scattercarpet"
           }
          ],
          "scattergeo": [
           {
            "marker": {
             "colorbar": {
              "outlinewidth": 0,
              "ticks": ""
             }
            },
            "type": "scattergeo"
           }
          ],
          "scattergl": [
           {
            "marker": {
             "colorbar": {
              "outlinewidth": 0,
              "ticks": ""
             }
            },
            "type": "scattergl"
           }
          ],
          "scattermapbox": [
           {
            "marker": {
             "colorbar": {
              "outlinewidth": 0,
              "ticks": ""
             }
            },
            "type": "scattermapbox"
           }
          ],
          "scatterpolar": [
           {
            "marker": {
             "colorbar": {
              "outlinewidth": 0,
              "ticks": ""
             }
            },
            "type": "scatterpolar"
           }
          ],
          "scatterpolargl": [
           {
            "marker": {
             "colorbar": {
              "outlinewidth": 0,
              "ticks": ""
             }
            },
            "type": "scatterpolargl"
           }
          ],
          "scatterternary": [
           {
            "marker": {
             "colorbar": {
              "outlinewidth": 0,
              "ticks": ""
             }
            },
            "type": "scatterternary"
           }
          ],
          "surface": [
           {
            "colorbar": {
             "outlinewidth": 0,
             "ticks": ""
            },
            "colorscale": [
             [
              0,
              "#0d0887"
             ],
             [
              0.1111111111111111,
              "#46039f"
             ],
             [
              0.2222222222222222,
              "#7201a8"
             ],
             [
              0.3333333333333333,
              "#9c179e"
             ],
             [
              0.4444444444444444,
              "#bd3786"
             ],
             [
              0.5555555555555556,
              "#d8576b"
             ],
             [
              0.6666666666666666,
              "#ed7953"
             ],
             [
              0.7777777777777778,
              "#fb9f3a"
             ],
             [
              0.8888888888888888,
              "#fdca26"
             ],
             [
              1,
              "#f0f921"
             ]
            ],
            "type": "surface"
           }
          ],
          "table": [
           {
            "cells": {
             "fill": {
              "color": "#EBF0F8"
             },
             "line": {
              "color": "white"
             }
            },
            "header": {
             "fill": {
              "color": "#C8D4E3"
             },
             "line": {
              "color": "white"
             }
            },
            "type": "table"
           }
          ]
         },
         "layout": {
          "annotationdefaults": {
           "arrowcolor": "#2a3f5f",
           "arrowhead": 0,
           "arrowwidth": 1
          },
          "autotypenumbers": "strict",
          "coloraxis": {
           "colorbar": {
            "outlinewidth": 0,
            "ticks": ""
           }
          },
          "colorscale": {
           "diverging": [
            [
             0,
             "#8e0152"
            ],
            [
             0.1,
             "#c51b7d"
            ],
            [
             0.2,
             "#de77ae"
            ],
            [
             0.3,
             "#f1b6da"
            ],
            [
             0.4,
             "#fde0ef"
            ],
            [
             0.5,
             "#f7f7f7"
            ],
            [
             0.6,
             "#e6f5d0"
            ],
            [
             0.7,
             "#b8e186"
            ],
            [
             0.8,
             "#7fbc41"
            ],
            [
             0.9,
             "#4d9221"
            ],
            [
             1,
             "#276419"
            ]
           ],
           "sequential": [
            [
             0,
             "#0d0887"
            ],
            [
             0.1111111111111111,
             "#46039f"
            ],
            [
             0.2222222222222222,
             "#7201a8"
            ],
            [
             0.3333333333333333,
             "#9c179e"
            ],
            [
             0.4444444444444444,
             "#bd3786"
            ],
            [
             0.5555555555555556,
             "#d8576b"
            ],
            [
             0.6666666666666666,
             "#ed7953"
            ],
            [
             0.7777777777777778,
             "#fb9f3a"
            ],
            [
             0.8888888888888888,
             "#fdca26"
            ],
            [
             1,
             "#f0f921"
            ]
           ],
           "sequentialminus": [
            [
             0,
             "#0d0887"
            ],
            [
             0.1111111111111111,
             "#46039f"
            ],
            [
             0.2222222222222222,
             "#7201a8"
            ],
            [
             0.3333333333333333,
             "#9c179e"
            ],
            [
             0.4444444444444444,
             "#bd3786"
            ],
            [
             0.5555555555555556,
             "#d8576b"
            ],
            [
             0.6666666666666666,
             "#ed7953"
            ],
            [
             0.7777777777777778,
             "#fb9f3a"
            ],
            [
             0.8888888888888888,
             "#fdca26"
            ],
            [
             1,
             "#f0f921"
            ]
           ]
          },
          "colorway": [
           "#636efa",
           "#EF553B",
           "#00cc96",
           "#ab63fa",
           "#FFA15A",
           "#19d3f3",
           "#FF6692",
           "#B6E880",
           "#FF97FF",
           "#FECB52"
          ],
          "font": {
           "color": "#2a3f5f"
          },
          "geo": {
           "bgcolor": "white",
           "lakecolor": "white",
           "landcolor": "#E5ECF6",
           "showlakes": true,
           "showland": true,
           "subunitcolor": "white"
          },
          "hoverlabel": {
           "align": "left"
          },
          "hovermode": "closest",
          "mapbox": {
           "style": "light"
          },
          "paper_bgcolor": "white",
          "plot_bgcolor": "#E5ECF6",
          "polar": {
           "angularaxis": {
            "gridcolor": "white",
            "linecolor": "white",
            "ticks": ""
           },
           "bgcolor": "#E5ECF6",
           "radialaxis": {
            "gridcolor": "white",
            "linecolor": "white",
            "ticks": ""
           }
          },
          "scene": {
           "xaxis": {
            "backgroundcolor": "#E5ECF6",
            "gridcolor": "white",
            "gridwidth": 2,
            "linecolor": "white",
            "showbackground": true,
            "ticks": "",
            "zerolinecolor": "white"
           },
           "yaxis": {
            "backgroundcolor": "#E5ECF6",
            "gridcolor": "white",
            "gridwidth": 2,
            "linecolor": "white",
            "showbackground": true,
            "ticks": "",
            "zerolinecolor": "white"
           },
           "zaxis": {
            "backgroundcolor": "#E5ECF6",
            "gridcolor": "white",
            "gridwidth": 2,
            "linecolor": "white",
            "showbackground": true,
            "ticks": "",
            "zerolinecolor": "white"
           }
          },
          "shapedefaults": {
           "line": {
            "color": "#2a3f5f"
           }
          },
          "ternary": {
           "aaxis": {
            "gridcolor": "white",
            "linecolor": "white",
            "ticks": ""
           },
           "baxis": {
            "gridcolor": "white",
            "linecolor": "white",
            "ticks": ""
           },
           "bgcolor": "#E5ECF6",
           "caxis": {
            "gridcolor": "white",
            "linecolor": "white",
            "ticks": ""
           }
          },
          "title": {
           "x": 0.05
          },
          "xaxis": {
           "automargin": true,
           "gridcolor": "white",
           "linecolor": "white",
           "ticks": "",
           "title": {
            "standoff": 15
           },
           "zerolinecolor": "white",
           "zerolinewidth": 2
          },
          "yaxis": {
           "automargin": true,
           "gridcolor": "white",
           "linecolor": "white",
           "ticks": "",
           "title": {
            "standoff": 15
           },
           "zerolinecolor": "white",
           "zerolinewidth": 2
          }
         }
        },
        "title": {
         "text": "Correlation Heatmap"
        },
        "width": 900,
        "xaxis": {
         "anchor": "y",
         "constrain": "domain",
         "domain": [
          0,
          1
         ],
         "scaleanchor": "y",
         "title": {
          "text": "Columns"
         }
        },
        "yaxis": {
         "anchor": "x",
         "autorange": "reversed",
         "constrain": "domain",
         "domain": [
          0,
          1
         ],
         "title": {
          "text": "Columns"
         }
        }
       }
      }
     },
     "metadata": {},
     "output_type": "display_data"
    }
   ],
   "source": [
    "# Calculate the correlation matrix\n",
    "\n",
    "correlation_matrix = df_numeric.corr()\n",
    "\n",
    "# Create the heatmap\n",
    "fig = px.imshow(\n",
    "    correlation_matrix,\n",
    "    title=\"Correlation Heatmap\",\n",
    "    labels=dict(x=\"Columns\", y=\"Columns\", color=\"Correlation\"),\n",
    "    color_continuous_scale=\"RdBu\",\n",
    "    zmin=-1, zmax=1, text_auto=True\n",
    ")\n",
    "fig.update_layout(width=900, height=800)\n",
    "fig.show()"
   ]
  },
  {
   "cell_type": "code",
   "execution_count": 7,
   "metadata": {},
   "outputs": [
    {
     "name": "stdout",
     "output_type": "stream",
     "text": [
      "   Ladder score  Logged GDP per capita  Social support  \\\n",
      "0      2.099724               1.118155        1.198886   \n",
      "1      1.953087               1.230285        1.212563   \n",
      "2      1.876037               1.401668        1.104339   \n",
      "3      1.826229               1.229085        1.366357   \n",
      "4      1.811394               1.491442        1.183710   \n",
      "\n",
      "   Healthy life expectancy  Freedom to make life choices  \\\n",
      "0                 1.056313                      1.407737   \n",
      "1                 1.127394                      1.427026   \n",
      "2                 1.368253                      1.171414   \n",
      "3                 1.212051                      1.405357   \n",
      "4                 1.240499                      1.463584   \n",
      "\n",
      "   Perceptions of corruption  Generosity  \n",
      "0                  -3.069408   -0.295857  \n",
      "1                  -3.223286    0.532051  \n",
      "2                  -2.451252    0.793626  \n",
      "3                  -0.122225    1.722644  \n",
      "4                  -2.682511    0.982163  \n"
     ]
    }
   ],
   "source": [
    "# Standardisation du df\n",
    "\n",
    "df_standardise = (df_numeric - df_numeric.mean()) / df_numeric.std()\n",
    "print(df_standardise.head())"
   ]
  },
  {
   "cell_type": "code",
   "execution_count": 8,
   "metadata": {},
   "outputs": [
    {
     "data": {
      "application/vnd.plotly.v1+json": {
       "config": {
        "plotlyServerURL": "https://plot.ly"
       },
       "data": [
        {
         "customdata": [
          [
           "Finland",
           "Western Europe",
           7.808700085,
           -0.059482019,
           0.954329729,
           10.63926697,
           71.9008255,
           0.949172199,
           0.195444584
          ],
          [
           "Denmark",
           "Western Europe",
           7.645599842,
           0.066201776,
           0.955990791,
           10.77400112,
           72.40250397,
           0.951444268,
           0.168489456
          ],
          [
           "Switzerland",
           "Western Europe",
           7.559899807,
           0.105911039,
           0.942846596,
           10.97993279,
           74.10244751,
           0.921336651,
           0.303728431
          ],
          [
           "Iceland",
           "Western Europe",
           7.504499912,
           0.246944219,
           0.974669576,
           10.77255917,
           73,
           0.948891878,
           0.711709738
          ],
          [
           "Norway",
           "Western Europe",
           7.487999916,
           0.13453263,
           0.952486575,
           11.08780384,
           73.20078278,
           0.955750287,
           0.263218194
          ],
          [
           "Netherlands",
           "Western Europe",
           7.448900223,
           0.20761244,
           0.93913883,
           10.81271172,
           72.30091858,
           0.908547819,
           0.364717126
          ],
          [
           "Sweden",
           "Western Europe",
           7.353499889,
           0.111614622,
           0.926311195,
           10.75879383,
           72.60076904,
           0.939144194,
           0.250880182
          ],
          [
           "Austria",
           "Western Europe",
           7.294199944,
           0.085429221,
           0.928045869,
           10.7428236,
           73.00250244,
           0.899989486,
           0.499954879
          ],
          [
           "Luxembourg",
           "Western Europe",
           7.237500191,
           -0.004620588,
           0.906912208,
           11.45068073,
           72.59999847,
           0.90563643,
           0.367084295
          ],
          [
           "United Kingdom",
           "Western Europe",
           7.164500237,
           0.263732493,
           0.93668282,
           10.60013485,
           72.30160522,
           0.834743679,
           0.435915917
          ],
          [
           "Ireland",
           "Western Europe",
           7.093699932,
           0.145784974,
           0.942081571,
           11.16097832,
           72.30078888,
           0.886982977,
           0.357184172
          ],
          [
           "Germany",
           "Western Europe",
           7.075799942,
           0.080179386,
           0.898874462,
           10.7328186,
           72.20201874,
           0.867371082,
           0.456422031
          ],
          [
           "Belgium",
           "Western Europe",
           6.863500118,
           -0.078691199,
           0.911632538,
           10.6736393,
           72.00164795,
           0.813582063,
           0.612297952
          ],
          [
           "Malta",
           "Western Europe",
           6.772799969,
           0.214965805,
           0.93037951,
           10.53383827,
           72.19999695,
           0.924911439,
           0.658547282
          ],
          [
           "France",
           "Western Europe",
           6.663799763,
           -0.130641967,
           0.937103748,
           10.58422279,
           73.80193329,
           0.825467646,
           0.583521128
          ],
          [
           "Spain",
           "Western Europe",
           6.400899887,
           -0.050961714,
           0.921125412,
           10.46292686,
           74.40270996,
           0.751989543,
           0.765859902
          ],
          [
           "Italy",
           "Western Europe",
           6.38740015,
           -0.043460999,
           0.889878571,
           10.48183632,
           73.60168457,
           0.66465199,
           0.873404682
          ],
          [
           "Cyprus",
           "Western Europe",
           6.15899992,
           0.043731496,
           0.805996239,
           10.40570259,
           73.70222473,
           0.779858291,
           0.856271744
          ],
          [
           "Portugal",
           "Western Europe",
           5.910900116,
           -0.220714301,
           0.886590719,
           10.26374245,
           72.40202332,
           0.888747811,
           0.892629504
          ],
          [
           "North Cyprus",
           "Western Europe",
           5.53550005,
           0.000227159,
           0.820356607,
           10.40570259,
           73.70222473,
           0.79529351,
           0.62611568
          ],
          [
           "Greece",
           "Western Europe",
           5.514999866,
           -0.300907373,
           0.814380348,
           10.13232613,
           72.40525818,
           0.541345119,
           0.859931409
          ]
         ],
         "hovertemplate": "<b>%{hovertext}</b><br><br>PC1=%{x}<br>PC2=%{y}<br>Ladder score=%{customdata[2]}<br>Generosity=%{customdata[3]}<br>Social support=%{customdata[4]}<br>Logged GDP per capita=%{customdata[5]}<br>Healthy life expectancy=%{customdata[6]}<br>Freedom to make life choices=%{customdata[7]}<br>Perceptions of corruption=%{customdata[8]}<extra></extra>",
         "hovertext": [
          "Finland",
          "Denmark",
          "Switzerland",
          "Iceland",
          "Norway",
          "Netherlands",
          "Sweden",
          "Austria",
          "Luxembourg",
          "United Kingdom",
          "Ireland",
          "Germany",
          "Belgium",
          "Malta",
          "France",
          "Spain",
          "Italy",
          "Cyprus",
          "Portugal",
          "North Cyprus",
          "Greece"
         ],
         "legendgroup": "Western Europe",
         "marker": {
          "color": "#3366CC",
          "size": 8,
          "symbol": "circle"
         },
         "mode": "markers",
         "name": "Western Europe",
         "orientation": "v",
         "showlegend": true,
         "type": "scatter",
         "x": [
          3.749509422437874,
          3.839590212143542,
          3.663110872252431,
          3.108673654268542,
          3.8156549683605467,
          3.3163443412095464,
          3.4689160192437076,
          2.9836471863888905,
          3.321343197549372,
          2.7992458547429333,
          3.246972052878093,
          2.7012466329713303,
          2.2077059895183573,
          2.5059533130170375,
          2.364889509954152,
          1.7221834207127154,
          1.1489155206932151,
          1.1063539050007678,
          1.3697693303182308,
          1.2743452793501608,
          -0.08012645625979196
         ],
         "xaxis": "x",
         "y": [
          1.0713333420488669,
          1.71990572976722,
          1.399595428680102,
          1.0644544227762698,
          1.7344215042110327,
          1.7680963003291623,
          1.725595739239298,
          0.7977081027179347,
          0.6546438422399308,
          1.67359051402664,
          1.3576274154204728,
          0.8640041854926771,
          -0.4909778126687551,
          1.1180774686471535,
          -0.6982110924043337,
          -0.9890585807633624,
          -1.4326861039634542,
          -0.48131865117997485,
          -1.6182765523200486,
          -0.04541853036112098,
          -2.786707247192126
         ],
         "yaxis": "y"
        },
        {
         "customdata": [
          [
           "New Zealand",
           "North America and ANZ",
           7.299600124,
           0.191598073,
           0.949118972,
           10.50094318,
           73.20262909,
           0.936217487,
           0.22113885
          ],
          [
           "Canada",
           "North America and ANZ",
           7.23210001,
           0.124770768,
           0.927176654,
           10.69236851,
           73.60160065,
           0.933913231,
           0.390843362
          ],
          [
           "Australia",
           "North America and ANZ",
           7.222799778,
           0.19046016,
           0.944854617,
           10.72059631,
           73.60453796,
           0.915431738,
           0.41516912
          ],
          [
           "United States",
           "North America and ANZ",
           6.939599991,
           0.149891734,
           0.914219022,
           10.92576885,
           68.29949951,
           0.842619538,
           0.699715316
          ]
         ],
         "hovertemplate": "<b>%{hovertext}</b><br><br>PC1=%{x}<br>PC2=%{y}<br>Ladder score=%{customdata[2]}<br>Generosity=%{customdata[3]}<br>Social support=%{customdata[4]}<br>Logged GDP per capita=%{customdata[5]}<br>Healthy life expectancy=%{customdata[6]}<br>Freedom to make life choices=%{customdata[7]}<br>Perceptions of corruption=%{customdata[8]}<extra></extra>",
         "hovertext": [
          "New Zealand",
          "Canada",
          "Australia",
          "United States"
         ],
         "legendgroup": "North America and ANZ",
         "marker": {
          "color": "#DC3912",
          "size": 8,
          "symbol": "circle"
         },
         "mode": "markers",
         "name": "North America and ANZ",
         "orientation": "v",
         "showlegend": true,
         "type": "scatter",
         "x": [
          3.5196237810946647,
          3.2408749679188524,
          3.233580614504789,
          2.1036425432183328
         ],
         "xaxis": "x",
         "y": [
          2.180446489585741,
          1.379777160511814,
          1.543695370865886,
          0.5003309120536743
         ],
         "yaxis": "y"
        },
        {
         "customdata": [
          [
           "Israel",
           "Middle East and North Africa",
           7.128600121,
           0.10259372,
           0.913571239,
           10.41752529,
           73.20025635,
           0.747580588,
           0.78085506
          ],
          [
           "United Arab Emirates",
           "Middle East and North Africa",
           6.790800095,
           0.123450845,
           0.849181116,
           11.1099987,
           67.08278656,
           0.941345513,
           0.594502211
          ],
          [
           "Saudi Arabia",
           "Middle East and North Africa",
           6.406499863,
           -0.168695062,
           0.874067068,
           10.79781246,
           66.30514526,
           0.854191244,
           0.682619512
          ],
          [
           "Bahrain",
           "Middle East and North Africa",
           6.227300167,
           0.13372919,
           0.876342118,
           10.67638016,
           68.5,
           0.905855775,
           0.7393471
          ],
          [
           "Kuwait",
           "Middle East and North Africa",
           6.102099895,
           -0.100184701,
           0.846475244,
           11.08982468,
           66.76764679,
           0.872366488,
           0.760849059
          ],
          [
           "Libya",
           "Middle East and North Africa",
           5.488800049,
           -0.085054487,
           0.825942934,
           9.789815903,
           62.29999924,
           0.773157001,
           0.668779135
          ],
          [
           "Turkey",
           "Middle East and North Africa",
           5.131800175,
           -0.171046436,
           0.826313555,
           10.12941933,
           66.90281677,
           0.608830452,
           0.748197377
          ],
          [
           "Morocco",
           "Middle East and North Africa",
           5.094799995,
           -0.240377247,
           0.592628479,
           8.940313339,
           65.89624023,
           0.772072434,
           0.815724611
          ],
          [
           "Algeria",
           "Middle East and North Africa",
           5.005099773,
           -0.121105164,
           0.803385139,
           9.537964821,
           65.90517426,
           0.466610909,
           0.735485137
          ],
          [
           "Iraq",
           "Middle East and North Africa",
           4.784800053,
           -0.06956476,
           0.747694969,
           9.661095619,
           59.90354919,
           0.633182645,
           0.82226181
          ],
          [
           "Lebanon",
           "Middle East and North Africa",
           4.771500111,
           -0.06121527,
           0.824338138,
           9.3617239,
           67.10658264,
           0.551357508,
           0.90225625
          ],
          [
           "Iran",
           "Middle East and North Africa",
           4.672399998,
           0.117891103,
           0.694689691,
           9.813719749,
           66.00614929,
           0.647873282,
           0.714635968
          ],
          [
           "Jordan",
           "Middle East and North Africa",
           4.633399963,
           -0.162565202,
           0.80216372,
           9.025999069,
           66.79975128,
           0.75104779,
           0.700344324
          ],
          [
           "Palestinian Territories",
           "Middle East and North Africa",
           4.552800179,
           -0.162079096,
           0.825295925,
           8.389223099,
           62.25,
           0.645791829,
           0.824199975
          ],
          [
           "Tunisia",
           "Middle East and North Africa",
           4.392199993,
           -0.216413811,
           0.688718557,
           9.314972878,
           66.89785767,
           0.593361557,
           0.867590249
          ],
          [
           "Egypt",
           "Middle East and North Africa",
           4.151400089,
           -0.196878314,
           0.735447824,
           9.316541672,
           61.78015137,
           0.708354175,
           0.787726879
          ],
          [
           "Yemen",
           "Middle East and North Africa",
           3.527400017,
           -0.157735437,
           0.817980587,
           7.759682655,
           56.72728348,
           0.599920273,
           0.800287724
          ]
         ],
         "hovertemplate": "<b>%{hovertext}</b><br><br>PC1=%{x}<br>PC2=%{y}<br>Ladder score=%{customdata[2]}<br>Generosity=%{customdata[3]}<br>Social support=%{customdata[4]}<br>Logged GDP per capita=%{customdata[5]}<br>Healthy life expectancy=%{customdata[6]}<br>Freedom to make life choices=%{customdata[7]}<br>Perceptions of corruption=%{customdata[8]}<extra></extra>",
         "hovertext": [
          "Israel",
          "United Arab Emirates",
          "Saudi Arabia",
          "Bahrain",
          "Kuwait",
          "Libya",
          "Turkey",
          "Morocco",
          "Algeria",
          "Iraq",
          "Lebanon",
          "Iran",
          "Jordan",
          "Palestinian Territories",
          "Tunisia",
          "Egypt",
          "Yemen"
         ],
         "legendgroup": "Middle East and North Africa",
         "marker": {
          "color": "#FF9900",
          "size": 8,
          "symbol": "circle"
         },
         "mode": "markers",
         "name": "Middle East and North Africa",
         "orientation": "v",
         "showlegend": true,
         "type": "scatter",
         "x": [
          1.8978893613076424,
          2.237158664553594,
          1.561776881308639,
          1.7114469913207857,
          1.4250972995170048,
          0.16960223131593175,
          -0.1659976041252979,
          -1.1704456948939737,
          -0.9734839723526051,
          -1.2378940997999017,
          -0.9743723992657102,
          -0.7908318694915368,
          -0.3976205363494144,
          -1.368426916257076,
          -1.5054129300336123,
          -1.3097211757639915,
          -2.511093521083143
         ],
         "xaxis": "x",
         "y": [
          -0.24874625065736647,
          1.0469302989480371,
          -0.8258310846686016,
          0.5992207686718757,
          -0.674236524555849,
          -0.26261336158144605,
          -1.5460591180450172,
          -0.968656269011134,
          -1.5143900227761078,
          -0.8052406198976826,
          -1.4630785368621348,
          0.349839967632847,
          -0.7190775597471012,
          -1.1725893616699712,
          -1.7638185408358709,
          -1.0721335715552887,
          -0.9629822063348514
         ],
         "yaxis": "y"
        },
        {
         "customdata": [
          [
           "Costa Rica",
           "Latin America and Caribbean",
           7.121399879,
           -0.10242971,
           0.901545942,
           9.658156395,
           71.29985046,
           0.934738934,
           0.786332428
          ],
          [
           "Mexico",
           "Latin America and Caribbean",
           6.465000153,
           -0.175266623,
           0.838665426,
           9.797797203,
           68.29902649,
           0.858709276,
           0.806821585
          ],
          [
           "Uruguay",
           "Latin America and Caribbean",
           6.440100193,
           -0.101103112,
           0.92281127,
           9.948192596,
           69.00254822,
           0.892395437,
           0.635994136
          ],
          [
           "Guatemala",
           "Latin America and Caribbean",
           6.398900032,
           -0.042938665,
           0.816621482,
           8.924805641,
           64.8089447,
           0.908147573,
           0.783237457
          ],
          [
           "Brazil",
           "Latin America and Caribbean",
           6.375599861,
           -0.101812392,
           0.896723807,
           9.56643486,
           66.48016357,
           0.799804807,
           0.770601273
          ],
          [
           "El Salvador",
           "Latin America and Caribbean",
           6.34829998,
           -0.121072978,
           0.806092262,
           8.909075737,
           66.10826111,
           0.833805263,
           0.754319906
          ],
          [
           "Panama",
           "Latin America and Caribbean",
           6.304800034,
           -0.153927714,
           0.902094483,
           10.03423405,
           69.60301208,
           0.880366504,
           0.851588905
          ],
          [
           "Chile",
           "Latin America and Caribbean",
           6.228499889,
           -0.065668367,
           0.879713595,
           10.0320549,
           69.90061951,
           0.744896293,
           0.838239431
          ],
          [
           "Trinidad and Tobago",
           "Latin America and Caribbean",
           6.191899776,
           0.000526841,
           0.91529417,
           10.26000214,
           63.5,
           0.857907116,
           0.912230611
          ],
          [
           "Colombia",
           "Latin America and Caribbean",
           6.163400173,
           -0.161235645,
           0.884440243,
           9.500369072,
           67.69958496,
           0.836179912,
           0.86457181
          ],
          [
           "Nicaragua",
           "Latin America and Caribbean",
           6.13710022,
           0.020959141,
           0.857497036,
           8.493160248,
           67.50717926,
           0.863902867,
           0.665950119
          ],
          [
           "Argentina",
           "Latin America and Caribbean",
           5.974699974,
           -0.194913864,
           0.900567949,
           9.810955048,
           68.80380249,
           0.831132412,
           0.842009842
          ],
          [
           "Honduras",
           "Latin America and Caribbean",
           5.953199863,
           0.086969115,
           0.821870148,
           8.424534798,
           67.19876862,
           0.870603263,
           0.801131904
          ],
          [
           "Ecuador",
           "Latin America and Caribbean",
           5.925199986,
           -0.127014965,
           0.836418986,
           9.246058464,
           68.50003815,
           0.859828949,
           0.801215112
          ],
          [
           "Jamaica",
           "Latin America and Caribbean",
           5.889800072,
           -0.125106767,
           0.915701866,
           9.006250381,
           67.09999847,
           0.858068526,
           0.888890028
          ],
          [
           "Peru",
           "Latin America and Caribbean",
           5.796800137,
           -0.16238822,
           0.831075251,
           9.456313133,
           68.10023499,
           0.824766099,
           0.893714964
          ],
          [
           "Bolivia",
           "Latin America and Caribbean",
           5.747499943,
           -0.09168113,
           0.803108692,
           8.851115227,
           63.6004715,
           0.875873327,
           0.822606206
          ],
          [
           "Paraguay",
           "Latin America and Caribbean",
           5.692100048,
           0.007997713,
           0.898727894,
           9.389982224,
           65.63993835,
           0.885923445,
           0.834788501
          ],
          [
           "Dominican Republic",
           "Latin America and Caribbean",
           5.689199924,
           -0.131263286,
           0.882085383,
           9.664880753,
           65.80748749,
           0.866202772,
           0.755999923
          ],
          [
           "Venezuela",
           "Latin America and Caribbean",
           5.053199768,
           -0.169090509,
           0.890408158,
           8.977793694,
           66.50534058,
           0.62327832,
           0.837038398
          ],
          [
           "Haiti",
           "Latin America and Caribbean",
           3.720799923,
           0.40053457,
           0.593247831,
           7.411329269,
           55.59862518,
           0.537825167,
           0.684767246
          ]
         ],
         "hovertemplate": "<b>%{hovertext}</b><br><br>PC1=%{x}<br>PC2=%{y}<br>Ladder score=%{customdata[2]}<br>Generosity=%{customdata[3]}<br>Social support=%{customdata[4]}<br>Logged GDP per capita=%{customdata[5]}<br>Healthy life expectancy=%{customdata[6]}<br>Freedom to make life choices=%{customdata[7]}<br>Perceptions of corruption=%{customdata[8]}<extra></extra>",
         "hovertext": [
          "Costa Rica",
          "Mexico",
          "Uruguay",
          "Guatemala",
          "Brazil",
          "El Salvador",
          "Panama",
          "Chile",
          "Trinidad and Tobago",
          "Colombia",
          "Nicaragua",
          "Argentina",
          "Honduras",
          "Ecuador",
          "Jamaica",
          "Peru",
          "Bolivia",
          "Paraguay",
          "Dominican Republic",
          "Venezuela",
          "Haiti"
         ],
         "legendgroup": "Latin America and Caribbean",
         "marker": {
          "color": "#109618",
          "size": 8,
          "symbol": "circle"
         },
         "mode": "markers",
         "name": "Latin America and Caribbean",
         "orientation": "v",
         "showlegend": true,
         "type": "scatter",
         "x": [
          1.9423916926827425,
          1.0385228099549815,
          1.7955317378963491,
          0.5819563166428612,
          0.9015030233017137,
          0.4127038476482683,
          1.372568218948886,
          0.9206678524784955,
          0.9402971914867928,
          0.7781250459632646,
          0.6857097379865712,
          0.957468630310369,
          0.26731675171079994,
          0.6303121449068485,
          0.5857242895319117,
          0.36616488355944526,
          -0.004581867839468401,
          0.6784847270036867,
          0.7655319852001368,
          -0.5171368876864628,
          -3.3484042867853376
         ],
         "xaxis": "x",
         "y": [
          -0.5080247481151022,
          -0.9898039961647984,
          -0.24967348139571463,
          0.1371241096938358,
          -0.7161548507564074,
          -0.3896428507449288,
          -1.1234311483402037,
          -1.0242749661487074,
          -0.5231831389022648,
          -1.1511427131780128,
          0.5838731682944526,
          -1.3771776568832836,
          0.6326381338022031,
          -0.63930874268874,
          -0.9258103728865191,
          -1.1844632312108998,
          -0.23661601335060684,
          -0.06127090795134585,
          -0.6052453826369191,
          -1.6212911658267741,
          2.3298522858267683
         ],
         "yaxis": "y"
        },
        {
         "customdata": [
          [
           "Czech Republic",
           "Central and Eastern Europe",
           6.910900116,
           -0.230861515,
           0.914430678,
           10.40416336,
           70.04793549,
           0.818537354,
           0.85844624
          ],
          [
           "Slovenia",
           "Central and Eastern Europe",
           6.363399982,
           -0.080603383,
           0.939575672,
           10.39232254,
           71.1029892,
           0.936142623,
           0.817071021
          ],
          [
           "Kosovo",
           "Central and Eastern Europe",
           6.325200081,
           0.190933764,
           0.820726514,
           9.204429626,
           63.88555527,
           0.861535907,
           0.922328293
          ],
          [
           "Slovakia",
           "Central and Eastern Europe",
           6.280600071,
           -0.124409303,
           0.922493756,
           10.34774971,
           68.90634155,
           0.749952674,
           0.918096125
          ],
          [
           "Lithuania",
           "Central and Eastern Europe",
           6.215499878,
           -0.219725296,
           0.926107109,
           10.34362602,
           67.29407501,
           0.747381449,
           0.809583843
          ],
          [
           "Poland",
           "Central and Eastern Europe",
           6.186299801,
           -0.205084071,
           0.874257445,
           10.26512432,
           69.31113434,
           0.862055779,
           0.686927021
          ],
          [
           "Romania",
           "Central and Eastern Europe",
           6.123700142,
           -0.19781521,
           0.825161517,
           10.107584,
           67.20723724,
           0.842823207,
           0.934300244
          ],
          [
           "Estonia",
           "Central and Eastern Europe",
           6.021800041,
           -0.111697771,
           0.934729993,
           10.34001732,
           68.60495758,
           0.87770915,
           0.623073816
          ],
          [
           "Hungary",
           "Central and Eastern Europe",
           6.000400066,
           -0.194323018,
           0.921934128,
           10.24924374,
           67.60997009,
           0.718964577,
           0.892916501
          ],
          [
           "Latvia",
           "Central and Eastern Europe",
           5.949999809,
           -0.186888844,
           0.918288589,
           10.17531967,
           66.8074646,
           0.671237648,
           0.795580089
          ],
          [
           "Serbia",
           "Central and Eastern Europe",
           5.77820015,
           -0.073676221,
           0.881475747,
           9.680980682,
           68.21020508,
           0.726495862,
           0.843509018
          ],
          [
           "Bosnia and Herzegovina",
           "Central and Eastern Europe",
           5.674099922,
           0.098274559,
           0.829204142,
           9.455817223,
           67.80813599,
           0.651352704,
           0.933769107
          ],
          [
           "Montenegro",
           "Central and Eastern Europe",
           5.54610014,
           -0.075600356,
           0.855314612,
           9.751860619,
           68.50534821,
           0.649565637,
           0.783121586
          ],
          [
           "Croatia",
           "Central and Eastern Europe",
           5.504700184,
           -0.128538325,
           0.874623716,
           10.07087517,
           70.21490479,
           0.714838803,
           0.916495264
          ],
          [
           "Macedonia",
           "Central and Eastern Europe",
           5.159800053,
           -0.019877451,
           0.820392311,
           9.510591507,
           67.50442505,
           0.738840938,
           0.897490501
          ],
          [
           "Bulgaria",
           "Central and Eastern Europe",
           5.101500034,
           -0.143908441,
           0.937840343,
           9.869318962,
           66.80397797,
           0.745178163,
           0.935585141
          ],
          [
           "Albania",
           "Central and Eastern Europe",
           4.882699966,
           -0.042309489,
           0.671070457,
           9.417930603,
           68.70813751,
           0.781994224,
           0.896303713
          ]
         ],
         "hovertemplate": "<b>%{hovertext}</b><br><br>PC1=%{x}<br>PC2=%{y}<br>Ladder score=%{customdata[2]}<br>Generosity=%{customdata[3]}<br>Social support=%{customdata[4]}<br>Logged GDP per capita=%{customdata[5]}<br>Healthy life expectancy=%{customdata[6]}<br>Freedom to make life choices=%{customdata[7]}<br>Perceptions of corruption=%{customdata[8]}<extra></extra>",
         "hovertext": [
          "Czech Republic",
          "Slovenia",
          "Kosovo",
          "Slovakia",
          "Lithuania",
          "Poland",
          "Romania",
          "Estonia",
          "Hungary",
          "Latvia",
          "Serbia",
          "Bosnia and Herzegovina",
          "Montenegro",
          "Croatia",
          "Macedonia",
          "Bulgaria",
          "Albania"
         ],
         "legendgroup": "Central and Eastern Europe",
         "marker": {
          "color": "#990099",
          "size": 8,
          "symbol": "circle"
         },
         "mode": "markers",
         "name": "Central and Eastern Europe",
         "orientation": "v",
         "showlegend": true,
         "type": "scatter",
         "x": [
          1.6339861074610371,
          1.9890240475085177,
          0.31387508309375517,
          1.037272891240616,
          1.0536443354338263,
          1.4721454188701841,
          0.6557914391946846,
          1.7602660014305502,
          0.7324632356840678,
          0.6254583355399467,
          0.43563904207021503,
          -0.2263812178166673,
          0.1556698565694833,
          0.42048322384020187,
          -0.18525205165670056,
          0.24171319783014245,
          -0.671516715047217
         ],
         "xaxis": "x",
         "y": [
          -1.791259163766761,
          -0.6747038951298979,
          0.7192075610663178,
          -1.6145852201553585,
          -1.7548029147187716,
          -0.9662391850369304,
          -1.501024616037072,
          -0.3907414231129299,
          -1.9251795926024282,
          -1.7246180375928866,
          -1.0301244764746618,
          -0.5263186128073454,
          -1.0766294224327075,
          -1.6365770408731348,
          -0.7343920433116459,
          -1.6601596118734134,
          -0.483228895449074
         ],
         "yaxis": "y"
        },
        {
         "customdata": [
          [
           "Taiwan Province of China",
           "East Asia",
           6.45539999,
           -0.073198698,
           0.894309103,
           10.77568531,
           69.59999847,
           0.77153033,
           0.73188293
          ],
          [
           "South Korea",
           "East Asia",
           5.872399807,
           -0.043404032,
           0.799387157,
           10.51056671,
           73.6027298,
           0.612965107,
           0.789067447
          ],
          [
           "Japan",
           "East Asia",
           5.870800018,
           -0.246910349,
           0.883545935,
           10.57968903,
           75.00096893,
           0.809961379,
           0.654558063
          ],
          [
           "Hong Kong S.A.R. of China",
           "East Asia",
           5.510399818,
           0.134979904,
           0.845969081,
           10.9346714,
           76.77170563,
           0.779833794,
           0.420607209
          ],
          [
           "Mongolia",
           "East Asia",
           5.456200123,
           0.098093867,
           0.937142491,
           9.412186623,
           62.30448532,
           0.693351328,
           0.863511205
          ],
          [
           "China",
           "East Asia",
           5.123899937,
           -0.18142575,
           0.798760593,
           9.688568115,
           69.2891922,
           0.898517907,
           0.7539711
          ]
         ],
         "hovertemplate": "<b>%{hovertext}</b><br><br>PC1=%{x}<br>PC2=%{y}<br>Ladder score=%{customdata[2]}<br>Generosity=%{customdata[3]}<br>Social support=%{customdata[4]}<br>Logged GDP per capita=%{customdata[5]}<br>Healthy life expectancy=%{customdata[6]}<br>Freedom to make life choices=%{customdata[7]}<br>Perceptions of corruption=%{customdata[8]}<extra></extra>",
         "hovertext": [
          "Taiwan Province of China",
          "South Korea",
          "Japan",
          "Hong Kong S.A.R. of China",
          "Mongolia",
          "China"
         ],
         "legendgroup": "East Asia",
         "marker": {
          "color": "#0099C6",
          "size": 8,
          "symbol": "circle"
         },
         "mode": "markers",
         "name": "East Asia",
         "orientation": "v",
         "showlegend": true,
         "type": "scatter",
         "x": [
          1.561905161815255,
          0.5943506847127074,
          1.7454374091454445,
          2.0348480404960125,
          -0.07319369926117543,
          0.5501582701120585
         ],
         "xaxis": "x",
         "y": [
          -0.8457591352302058,
          -1.2119889944797015,
          -1.4413530604935991,
          0.9091344019916121,
          -0.25069800193309044,
          -0.7014024876851028
         ],
         "yaxis": "y"
        },
        {
         "customdata": [
          [
           "Singapore",
           "Southeast Asia",
           6.377099991,
           0.029879224,
           0.910268962,
           11.39552116,
           76.80458069,
           0.926645339,
           0.109784193
          ],
          [
           "Philippines",
           "Southeast Asia",
           6.006000042,
           -0.105463006,
           0.846730053,
           8.993545532,
           61.92676163,
           0.915463448,
           0.733634114
          ],
          [
           "Thailand",
           "Southeast Asia",
           5.998799801,
           0.268685192,
           0.889973223,
           9.741791725,
           67.25059509,
           0.905063033,
           0.886272311
          ],
          [
           "Malaysia",
           "Southeast Asia",
           5.384300232,
           0.114726797,
           0.816509426,
           10.26251888,
           67.10215759,
           0.894626856,
           0.839302301
          ],
          [
           "Vietnam",
           "Southeast Asia",
           5.353499889,
           -0.094533332,
           0.849987149,
           8.809545517,
           67.9527359,
           0.939592957,
           0.79642123
          ],
          [
           "Indonesia",
           "Southeast Asia",
           5.285600185,
           0.519586504,
           0.808379889,
           9.36975193,
           62.15584946,
           0.870614409,
           0.876296401
          ],
          [
           "Laos",
           "Southeast Asia",
           4.888599873,
           0.11137148,
           0.737502217,
           8.79858017,
           58.70992279,
           0.907213569,
           0.634679317
          ],
          [
           "Cambodia",
           "Southeast Asia",
           4.848400116,
           0.051911179,
           0.773080647,
           8.249890327,
           61.52996826,
           0.959704638,
           0.822769046
          ],
          [
           "Myanmar",
           "Southeast Asia",
           4.308000088,
           0.560663998,
           0.78440702,
           8.680481911,
           58.96171188,
           0.895075202,
           0.645124316
          ]
         ],
         "hovertemplate": "<b>%{hovertext}</b><br><br>PC1=%{x}<br>PC2=%{y}<br>Ladder score=%{customdata[2]}<br>Generosity=%{customdata[3]}<br>Social support=%{customdata[4]}<br>Logged GDP per capita=%{customdata[5]}<br>Healthy life expectancy=%{customdata[6]}<br>Freedom to make life choices=%{customdata[7]}<br>Perceptions of corruption=%{customdata[8]}<extra></extra>",
         "hovertext": [
          "Singapore",
          "Philippines",
          "Thailand",
          "Malaysia",
          "Vietnam",
          "Indonesia",
          "Laos",
          "Cambodia",
          "Myanmar"
         ],
         "legendgroup": "Southeast Asia",
         "marker": {
          "color": "#DD4477",
          "size": 8,
          "symbol": "circle"
         },
         "mode": "markers",
         "name": "Southeast Asia",
         "orientation": "v",
         "showlegend": true,
         "type": "scatter",
         "x": [
          3.6699333329682315,
          0.4503444780404644,
          1.0380187081131802,
          0.7154748300047876,
          0.4855437524039514,
          -0.05877694237145192,
          -0.5260558575732055,
          -0.5773864501850456,
          -0.597391116600837
         ],
         "xaxis": "x",
         "y": [
          1.4850539691139062,
          -0.002684298448735167,
          1.0280473278794355,
          0.4075069191321778,
          -0.16763718572271508,
          2.490652384795435,
          1.580342970716247,
          0.9080449844347045,
          3.628886865136137
         ],
         "yaxis": "y"
        },
        {
         "customdata": [
          [
           "Uzbekistan",
           "Commonwealth of Independent States",
           6.257599831,
           0.248427153,
           0.926595807,
           8.740371704,
           65.10757446,
           0.974998116,
           0.501497388
          ],
          [
           "Kazakhstan",
           "Commonwealth of Independent States",
           6.057899952,
           -0.068488635,
           0.934744895,
           10.11465836,
           64.60996246,
           0.811601937,
           0.764490843
          ],
          [
           "Moldova",
           "Commonwealth of Independent States",
           5.607500076,
           -0.037741039,
           0.843313575,
           8.776714325,
           65.01301575,
           0.721609175,
           0.913314283
          ],
          [
           "Tajikistan",
           "Commonwealth of Independent States",
           5.555699825,
           -0.025088511,
           0.835297108,
           8.024810791,
           64.10459137,
           0.831383407,
           0.592076063
          ],
          [
           "Russia",
           "Commonwealth of Independent States",
           5.546000004,
           -0.151153743,
           0.903150737,
           10.12887192,
           64.10045624,
           0.729892612,
           0.864802599
          ],
          [
           "Kyrgyzstan",
           "Commonwealth of Independent States",
           5.541500092,
           0.154772058,
           0.887228489,
           8.148405075,
           64.10601044,
           0.909374893,
           0.888396084
          ],
          [
           "Belarus",
           "Commonwealth of Independent States",
           5.539899826,
           -0.164926544,
           0.90674746,
           9.779945374,
           66.10433197,
           0.639163077,
           0.63571167
          ],
          [
           "Azerbaijan",
           "Commonwealth of Independent States",
           5.164800167,
           -0.240255281,
           0.819308281,
           9.687726974,
           65.50839996,
           0.786824107,
           0.55253756
          ],
          [
           "Turkmenistan",
           "Commonwealth of Independent States",
           5.119100094,
           0.187671542,
           0.958966196,
           9.74803257,
           62.21170807,
           0.826457024,
           0.883691847
          ],
          [
           "Armenia",
           "Commonwealth of Independent States",
           4.676799774,
           -0.13877961,
           0.757479429,
           9.100476265,
           66.75065613,
           0.712017834,
           0.773544788
          ],
          [
           "Georgia",
           "Commonwealth of Independent States",
           4.672599792,
           -0.22892037,
           0.629033029,
           9.226100922,
           64.49520874,
           0.801641524,
           0.665944695
          ],
          [
           "Ukraine",
           "Commonwealth of Independent States",
           4.56069994,
           -0.030933706,
           0.878879368,
           9.010690689,
           64.60678101,
           0.663081884,
           0.920636714
          ]
         ],
         "hovertemplate": "<b>%{hovertext}</b><br><br>PC1=%{x}<br>PC2=%{y}<br>Ladder score=%{customdata[2]}<br>Generosity=%{customdata[3]}<br>Social support=%{customdata[4]}<br>Logged GDP per capita=%{customdata[5]}<br>Healthy life expectancy=%{customdata[6]}<br>Freedom to make life choices=%{customdata[7]}<br>Perceptions of corruption=%{customdata[8]}<extra></extra>",
         "hovertext": [
          "Uzbekistan",
          "Kazakhstan",
          "Moldova",
          "Tajikistan",
          "Russia",
          "Kyrgyzstan",
          "Belarus",
          "Azerbaijan",
          "Turkmenistan",
          "Armenia",
          "Georgia",
          "Ukraine"
         ],
         "legendgroup": "Commonwealth of Independent States",
         "marker": {
          "color": "#66AA00",
          "size": 8,
          "symbol": "circle"
         },
         "mode": "markers",
         "name": "Commonwealth of Independent States",
         "orientation": "v",
         "showlegend": true,
         "type": "scatter",
         "x": [
          1.5307254449433247,
          1.041465002189482,
          -0.428881289082515,
          -0.02499829839109971,
          0.2863132657625845,
          0.023945418301337916,
          0.36562696929580524,
          0.3606099456276269,
          0.3583858495956411,
          -0.7321358497812592,
          -0.888921721197074,
          -0.8559641898873868
         ],
         "xaxis": "x",
         "y": [
          2.355048808006775,
          -0.6218696752947369,
          -0.7569673483298369,
          0.6693768730244194,
          -1.4723414059632718,
          0.8530919318376612,
          -1.1696552190201828,
          -0.7056486476873619,
          0.4196308572797166,
          -0.8560954457911252,
          -0.49853512549569523,
          -1.0071519681908037
         ],
         "yaxis": "y"
        },
        {
         "customdata": [
          [
           "Mauritius",
           "Sub-Saharan Africa",
           6.101299763,
           -0.018318573,
           0.910357833,
           9.956786156,
           66.40434265,
           0.889534533,
           0.805343091
          ],
          [
           "Ivory Coast",
           "Sub-Saharan Africa",
           5.233300209,
           -0.043991156,
           0.658048689,
           8.225561142,
           49.50377274,
           0.727909327,
           0.790771961
          ],
          [
           "Benin",
           "Sub-Saharan Africa",
           5.21600008,
           -0.003537213,
           0.468671143,
           7.674319744,
           54.31246567,
           0.735182583,
           0.740532577
          ],
          [
           "Congo (Brazzaville)",
           "Sub-Saharan Africa",
           5.194399834,
           -0.123674095,
           0.640228093,
           8.536987305,
           57.92448044,
           0.719058514,
           0.751779079
          ],
          [
           "Ghana",
           "Sub-Saharan Africa",
           5.147999763,
           0.094170853,
           0.728601098,
           8.350645065,
           57.20398712,
           0.794796526,
           0.847964764
          ],
          [
           "Cameroon",
           "Sub-Saharan Africa",
           5.084899902,
           -0.00149645,
           0.700386405,
           8.118647575,
           52.7049408,
           0.763051808,
           0.851336598
          ],
          [
           "Senegal",
           "Sub-Saharan Africa",
           4.980800152,
           -0.052335154,
           0.723616004,
           8.118982315,
           59.59915161,
           0.690596163,
           0.808785141
          ],
          [
           "Guinea",
           "Sub-Saharan Africa",
           4.949299812,
           0.076328471,
           0.637573481,
           7.750990391,
           54.46780014,
           0.706846774,
           0.761794448
          ],
          [
           "Niger",
           "Sub-Saharan Africa",
           4.909599781,
           0.013860817,
           0.617435038,
           6.842166901,
           53.50009537,
           0.759772122,
           0.722530186
          ],
          [
           "Gabon",
           "Sub-Saharan Africa",
           4.829299927,
           -0.222261623,
           0.787886858,
           9.680537224,
           59.71533966,
           0.704829216,
           0.849150956
          ],
          [
           "South Africa",
           "Sub-Saharan Africa",
           4.814099789,
           -0.109777324,
           0.852532268,
           9.403370857,
           56.50601196,
           0.759330094,
           0.843423843
          ],
          [
           "Burkina Faso",
           "Sub-Saharan Africa",
           4.768700123,
           -0.019080516,
           0.712943614,
           7.46854496,
           53.88945389,
           0.665563583,
           0.739795029
          ],
          [
           "Gambia",
           "Sub-Saharan Africa",
           4.750599861,
           0.343198717,
           0.6931687,
           7.321814537,
           55.0120163,
           0.733163178,
           0.690717816
          ],
          [
           "Mali",
           "Sub-Saharan Africa",
           4.729300022,
           -0.044366926,
           0.731468976,
           7.629852295,
           51.72698212,
           0.71156615,
           0.839328408
          ],
          [
           "Nigeria",
           "Sub-Saharan Africa",
           4.724100113,
           0.033745807,
           0.73721689,
           8.57662487,
           49.86190796,
           0.759578407,
           0.861874342
          ],
          [
           "Mozambique",
           "Sub-Saharan Africa",
           4.623600006,
           0.032375868,
           0.723874032,
           7.069345951,
           54.20582199,
           0.864451885,
           0.683019102
          ],
          [
           "Kenya",
           "Sub-Saharan Africa",
           4.583000183,
           0.294681519,
           0.702652037,
           8.02977562,
           60.09693146,
           0.829747558,
           0.831499159
          ],
          [
           "Namibia",
           "Sub-Saharan Africa",
           4.571100235,
           -0.18530646,
           0.846880972,
           9.203141212,
           56.50148773,
           0.767520964,
           0.851449788
          ],
          [
           "Liberia",
           "Sub-Saharan Africa",
           4.557899952,
           0.04227322,
           0.70928055,
           7.054380417,
           56.09631348,
           0.735268712,
           0.856375933
          ],
          [
           "Uganda",
           "Sub-Saharan Africa",
           4.43200016,
           0.099487431,
           0.764994621,
           7.500389576,
           55.70820236,
           0.731713951,
           0.836737812
          ],
          [
           "Chad",
           "Sub-Saharan Africa",
           4.422699928,
           0.017834719,
           0.632388055,
           7.467963696,
           48.22053909,
           0.587305248,
           0.802760839
          ],
          [
           "Mauritania",
           "Sub-Saharan Africa",
           4.374599934,
           -0.106008142,
           0.790819228,
           8.233919144,
           57.01017761,
           0.551522553,
           0.746223509
          ],
          [
           "Congo (Kinshasa)",
           "Sub-Saharan Africa",
           4.31099987,
           0.083637655,
           0.672159016,
           6.694256306,
           52.90000153,
           0.700793564,
           0.809403598
          ],
          [
           "Swaziland",
           "Sub-Saharan Africa",
           4.308100224,
           -0.19920142,
           0.770290196,
           9.16267395,
           51.18823624,
           0.646822274,
           0.708263338
          ],
          [
           "Comoros",
           "Sub-Saharan Africa",
           4.288599968,
           0.090008408,
           0.625662446,
           7.833630085,
           57.34901047,
           0.547612607,
           0.780622602
          ],
          [
           "Togo",
           "Sub-Saharan Africa",
           4.187200069,
           0.002667875,
           0.551312625,
           7.357711315,
           54.71989822,
           0.649828613,
           0.757733464
          ],
          [
           "Ethiopia",
           "Sub-Saharan Africa",
           4.186200142,
           0.043377332,
           0.743307352,
           7.509385586,
           58.63959122,
           0.740795195,
           0.753690004
          ],
          [
           "Madagascar",
           "Sub-Saharan Africa",
           4.165599823,
           -0.011823639,
           0.668195903,
           7.281685829,
           59.10542679,
           0.557574093,
           0.817485631
          ],
          [
           "Sierra Leone",
           "Sub-Saharan Africa",
           3.926399946,
           0.088660747,
           0.636142015,
           7.26880312,
           50.86514282,
           0.715315044,
           0.861330688
          ],
          [
           "Burundi",
           "Sub-Saharan Africa",
           3.775300026,
           -0.017551597,
           0.490325719,
           6.492642403,
           53.40000153,
           0.626350224,
           0.606934547
          ],
          [
           "Zambia",
           "Sub-Saharan Africa",
           3.759399891,
           0.078037128,
           0.698824465,
           8.224720001,
           55.29937744,
           0.806500256,
           0.801289678
          ],
          [
           "Lesotho",
           "Sub-Saharan Africa",
           3.652800083,
           -0.145732045,
           0.780495703,
           7.960488319,
           48.00362396,
           0.738125861,
           0.857392073
          ],
          [
           "Malawi",
           "Sub-Saharan Africa",
           3.538000107,
           0.021433279,
           0.544007301,
           7.062226295,
           57.59288788,
           0.803223193,
           0.731700778
          ],
          [
           "Botswana",
           "Sub-Saharan Africa",
           3.478899956,
           -0.250394493,
           0.779121757,
           9.711203575,
           58.92445374,
           0.821328104,
           0.777930915
          ],
          [
           "Tanzania",
           "Sub-Saharan Africa",
           3.476200104,
           0.109668687,
           0.688933194,
           7.967665195,
           57.49607468,
           0.82153976,
           0.619799435
          ],
          [
           "Central African Republic",
           "Sub-Saharan Africa",
           3.475899935,
           0.082410358,
           0.319459856,
           6.625160217,
           45.20000076,
           0.640880644,
           0.891806662
          ],
          [
           "Rwanda",
           "Sub-Saharan Africa",
           3.312299967,
           0.055483952,
           0.54083544,
           7.600104332,
           61.09884644,
           0.900589406,
           0.183541179
          ],
          [
           "Zimbabwe",
           "Sub-Saharan Africa",
           3.299200058,
           -0.072063953,
           0.763092756,
           7.865711689,
           55.61725998,
           0.711457908,
           0.81023699
          ],
          [
           "South Sudan",
           "Sub-Saharan Africa",
           2.816600084,
           0.016518548,
           0.553707123,
           7.425359726,
           51,
           0.451313615,
           0.763417304
          ]
         ],
         "hovertemplate": "<b>%{hovertext}</b><br><br>PC1=%{x}<br>PC2=%{y}<br>Ladder score=%{customdata[2]}<br>Generosity=%{customdata[3]}<br>Social support=%{customdata[4]}<br>Logged GDP per capita=%{customdata[5]}<br>Healthy life expectancy=%{customdata[6]}<br>Freedom to make life choices=%{customdata[7]}<br>Perceptions of corruption=%{customdata[8]}<extra></extra>",
         "hovertext": [
          "Mauritius",
          "Ivory Coast",
          "Benin",
          "Congo (Brazzaville)",
          "Ghana",
          "Cameroon",
          "Senegal",
          "Guinea",
          "Niger",
          "Gabon",
          "South Africa",
          "Burkina Faso",
          "Gambia",
          "Mali",
          "Nigeria",
          "Mozambique",
          "Kenya",
          "Namibia",
          "Liberia",
          "Uganda",
          "Chad",
          "Mauritania",
          "Congo (Kinshasa)",
          "Swaziland",
          "Comoros",
          "Togo",
          "Ethiopia",
          "Madagascar",
          "Sierra Leone",
          "Burundi",
          "Zambia",
          "Lesotho",
          "Malawi",
          "Botswana",
          "Tanzania",
          "Central African Republic",
          "Rwanda",
          "Zimbabwe",
          "South Sudan"
         ],
         "legendgroup": "Sub-Saharan Africa",
         "marker": {
          "color": "#B82E2E",
          "size": 8,
          "symbol": "circle"
         },
         "mode": "markers",
         "name": "Sub-Saharan Africa",
         "orientation": "v",
         "showlegend": true,
         "type": "scatter",
         "x": [
          1.2028526486468638,
          -2.252824001902734,
          -2.736632871759514,
          -1.6589938171545655,
          -1.3598201552110285,
          -1.9776916804811586,
          -1.6531594314120335,
          -2.302298997556743,
          -2.595174770912949,
          -0.9391120106675012,
          -0.836107801231833,
          -2.355653390013726,
          -2.0825458474365455,
          -2.401238224156035,
          -2.02494312143626,
          -1.835861207932215,
          -1.462056530515092,
          -1.0354300550553184,
          -2.4299450796633106,
          -2.110279751334411,
          -3.466246219920182,
          -2.1093138504261932,
          -3.029984549374213,
          -1.9175473424074716,
          -2.89344443342785,
          -3.235328292322437,
          -1.9607942976999584,
          -2.931748508389121,
          -3.267215176914018,
          -3.885944974287503,
          -2.116005444339117,
          -2.7567116312628404,
          -2.972265302680821,
          -1.1349332582592937,
          -1.9084243687908018,
          -5.4596157258822355,
          -1.5518627793326065,
          -2.509353560685861,
          -4.594778939545712
         ],
         "xaxis": "x",
         "y": [
          -0.2378878095915972,
          0.33743417882143767,
          0.9853194337331221,
          -0.19714044205858128,
          0.7227147099152922,
          0.35409875344338615,
          -0.18991630870363338,
          0.9379821931408491,
          1.1181405061798733,
          -1.4735298720493264,
          -0.7331773297815574,
          0.35820643293770194,
          2.4736655159221796,
          0.09080811597914919,
          0.4095682423931584,
          1.3871874757691012,
          1.8700479020099683,
          -1.0513379408980081,
          0.5689615266054431,
          0.7257576979662599,
          0.4043683298721774,
          -0.7536364050626879,
          0.9989179127212008,
          -0.8211179984060436,
          0.42405856582615326,
          0.6316289202697386,
          0.6696755875400124,
          -0.1509738390748473,
          0.9259714317118277,
          1.1638497132076249,
          0.920014502322463,
          -0.4249760216310803,
          1.2351232228921978,
          -1.0522030864179424,
          1.6205397728781763,
          1.36477295797038,
          2.997132633047241,
          -0.15487879630666188,
          0.17601152995117256
         ],
         "yaxis": "y"
        },
        {
         "customdata": [
          [
           "Pakistan",
           "South Asia",
           5.69329977,
           0.04489987,
           0.689062297,
           8.482727051,
           58.25313568,
           0.734833717,
           0.745705426
          ],
          [
           "Maldives",
           "South Asia",
           5.197599888,
           0.038085498,
           0.91316092,
           9.518632889,
           70.59999847,
           0.853962779,
           0.824211061
          ],
          [
           "Nepal",
           "South Asia",
           5.137199879,
           0.154168829,
           0.785512447,
           7.925357342,
           63.77917862,
           0.797565043,
           0.738099158
          ],
          [
           "Bangladesh",
           "South Asia",
           4.832799911,
           -0.033664726,
           0.687292993,
           8.287063599,
           64.50306702,
           0.90062499,
           0.661843538
          ],
          [
           "Sri Lanka",
           "South Asia",
           4.327000141,
           0.081129618,
           0.825374067,
           9.389969826,
           67.20006561,
           0.837633669,
           0.859001756
          ],
          [
           "India",
           "South Asia",
           3.573299885,
           0.057551607,
           0.592200935,
           8.849823952,
           60.21518707,
           0.881444871,
           0.772042692
          ],
          [
           "Afghanistan",
           "South Asia",
           2.566900015,
           -0.0964294,
           0.470366955,
           7.462860584,
           52.59000015,
           0.396573007,
           0.933686554
          ]
         ],
         "hovertemplate": "<b>%{hovertext}</b><br><br>PC1=%{x}<br>PC2=%{y}<br>Ladder score=%{customdata[2]}<br>Generosity=%{customdata[3]}<br>Social support=%{customdata[4]}<br>Logged GDP per capita=%{customdata[5]}<br>Healthy life expectancy=%{customdata[6]}<br>Freedom to make life choices=%{customdata[7]}<br>Perceptions of corruption=%{customdata[8]}<extra></extra>",
         "hovertext": [
          "Pakistan",
          "Maldives",
          "Nepal",
          "Bangladesh",
          "Sri Lanka",
          "India",
          "Afghanistan"
         ],
         "legendgroup": "South Asia",
         "marker": {
          "color": "#316395",
          "size": 8,
          "symbol": "circle"
         },
         "mode": "markers",
         "name": "South Asia",
         "orientation": "v",
         "showlegend": true,
         "type": "scatter",
         "x": [
          -1.189250762020947,
          0.818130740793685,
          -0.7180148402532838,
          -0.6369670803330341,
          -0.21769976007668213,
          -1.7686040844746242,
          -5.313317529242742
         ],
         "xaxis": "x",
         "y": [
          0.6044698915098309,
          -0.14645887635002466,
          1.1475394802619991,
          0.8218766217808524,
          0.16594201927461447,
          1.0601640677939705,
          -0.9025285178409923
         ],
         "yaxis": "y"
        }
       ],
       "layout": {
        "legend": {
         "title": {
          "text": "Regional indicator"
         },
         "tracegroupgap": 0
        },
        "margin": {
         "t": 60
        },
        "template": {
         "data": {
          "bar": [
           {
            "error_x": {
             "color": "#2a3f5f"
            },
            "error_y": {
             "color": "#2a3f5f"
            },
            "marker": {
             "line": {
              "color": "white",
              "width": 0.5
             },
             "pattern": {
              "fillmode": "overlay",
              "size": 10,
              "solidity": 0.2
             }
            },
            "type": "bar"
           }
          ],
          "barpolar": [
           {
            "marker": {
             "line": {
              "color": "white",
              "width": 0.5
             },
             "pattern": {
              "fillmode": "overlay",
              "size": 10,
              "solidity": 0.2
             }
            },
            "type": "barpolar"
           }
          ],
          "carpet": [
           {
            "aaxis": {
             "endlinecolor": "#2a3f5f",
             "gridcolor": "#C8D4E3",
             "linecolor": "#C8D4E3",
             "minorgridcolor": "#C8D4E3",
             "startlinecolor": "#2a3f5f"
            },
            "baxis": {
             "endlinecolor": "#2a3f5f",
             "gridcolor": "#C8D4E3",
             "linecolor": "#C8D4E3",
             "minorgridcolor": "#C8D4E3",
             "startlinecolor": "#2a3f5f"
            },
            "type": "carpet"
           }
          ],
          "choropleth": [
           {
            "colorbar": {
             "outlinewidth": 0,
             "ticks": ""
            },
            "type": "choropleth"
           }
          ],
          "contour": [
           {
            "colorbar": {
             "outlinewidth": 0,
             "ticks": ""
            },
            "colorscale": [
             [
              0,
              "#0d0887"
             ],
             [
              0.1111111111111111,
              "#46039f"
             ],
             [
              0.2222222222222222,
              "#7201a8"
             ],
             [
              0.3333333333333333,
              "#9c179e"
             ],
             [
              0.4444444444444444,
              "#bd3786"
             ],
             [
              0.5555555555555556,
              "#d8576b"
             ],
             [
              0.6666666666666666,
              "#ed7953"
             ],
             [
              0.7777777777777778,
              "#fb9f3a"
             ],
             [
              0.8888888888888888,
              "#fdca26"
             ],
             [
              1,
              "#f0f921"
             ]
            ],
            "type": "contour"
           }
          ],
          "contourcarpet": [
           {
            "colorbar": {
             "outlinewidth": 0,
             "ticks": ""
            },
            "type": "contourcarpet"
           }
          ],
          "heatmap": [
           {
            "colorbar": {
             "outlinewidth": 0,
             "ticks": ""
            },
            "colorscale": [
             [
              0,
              "#0d0887"
             ],
             [
              0.1111111111111111,
              "#46039f"
             ],
             [
              0.2222222222222222,
              "#7201a8"
             ],
             [
              0.3333333333333333,
              "#9c179e"
             ],
             [
              0.4444444444444444,
              "#bd3786"
             ],
             [
              0.5555555555555556,
              "#d8576b"
             ],
             [
              0.6666666666666666,
              "#ed7953"
             ],
             [
              0.7777777777777778,
              "#fb9f3a"
             ],
             [
              0.8888888888888888,
              "#fdca26"
             ],
             [
              1,
              "#f0f921"
             ]
            ],
            "type": "heatmap"
           }
          ],
          "heatmapgl": [
           {
            "colorbar": {
             "outlinewidth": 0,
             "ticks": ""
            },
            "colorscale": [
             [
              0,
              "#0d0887"
             ],
             [
              0.1111111111111111,
              "#46039f"
             ],
             [
              0.2222222222222222,
              "#7201a8"
             ],
             [
              0.3333333333333333,
              "#9c179e"
             ],
             [
              0.4444444444444444,
              "#bd3786"
             ],
             [
              0.5555555555555556,
              "#d8576b"
             ],
             [
              0.6666666666666666,
              "#ed7953"
             ],
             [
              0.7777777777777778,
              "#fb9f3a"
             ],
             [
              0.8888888888888888,
              "#fdca26"
             ],
             [
              1,
              "#f0f921"
             ]
            ],
            "type": "heatmapgl"
           }
          ],
          "histogram": [
           {
            "marker": {
             "pattern": {
              "fillmode": "overlay",
              "size": 10,
              "solidity": 0.2
             }
            },
            "type": "histogram"
           }
          ],
          "histogram2d": [
           {
            "colorbar": {
             "outlinewidth": 0,
             "ticks": ""
            },
            "colorscale": [
             [
              0,
              "#0d0887"
             ],
             [
              0.1111111111111111,
              "#46039f"
             ],
             [
              0.2222222222222222,
              "#7201a8"
             ],
             [
              0.3333333333333333,
              "#9c179e"
             ],
             [
              0.4444444444444444,
              "#bd3786"
             ],
             [
              0.5555555555555556,
              "#d8576b"
             ],
             [
              0.6666666666666666,
              "#ed7953"
             ],
             [
              0.7777777777777778,
              "#fb9f3a"
             ],
             [
              0.8888888888888888,
              "#fdca26"
             ],
             [
              1,
              "#f0f921"
             ]
            ],
            "type": "histogram2d"
           }
          ],
          "histogram2dcontour": [
           {
            "colorbar": {
             "outlinewidth": 0,
             "ticks": ""
            },
            "colorscale": [
             [
              0,
              "#0d0887"
             ],
             [
              0.1111111111111111,
              "#46039f"
             ],
             [
              0.2222222222222222,
              "#7201a8"
             ],
             [
              0.3333333333333333,
              "#9c179e"
             ],
             [
              0.4444444444444444,
              "#bd3786"
             ],
             [
              0.5555555555555556,
              "#d8576b"
             ],
             [
              0.6666666666666666,
              "#ed7953"
             ],
             [
              0.7777777777777778,
              "#fb9f3a"
             ],
             [
              0.8888888888888888,
              "#fdca26"
             ],
             [
              1,
              "#f0f921"
             ]
            ],
            "type": "histogram2dcontour"
           }
          ],
          "mesh3d": [
           {
            "colorbar": {
             "outlinewidth": 0,
             "ticks": ""
            },
            "type": "mesh3d"
           }
          ],
          "parcoords": [
           {
            "line": {
             "colorbar": {
              "outlinewidth": 0,
              "ticks": ""
             }
            },
            "type": "parcoords"
           }
          ],
          "pie": [
           {
            "automargin": true,
            "type": "pie"
           }
          ],
          "scatter": [
           {
            "fillpattern": {
             "fillmode": "overlay",
             "size": 10,
             "solidity": 0.2
            },
            "type": "scatter"
           }
          ],
          "scatter3d": [
           {
            "line": {
             "colorbar": {
              "outlinewidth": 0,
              "ticks": ""
             }
            },
            "marker": {
             "colorbar": {
              "outlinewidth": 0,
              "ticks": ""
             }
            },
            "type": "scatter3d"
           }
          ],
          "scattercarpet": [
           {
            "marker": {
             "colorbar": {
              "outlinewidth": 0,
              "ticks": ""
             }
            },
            "type": "scattercarpet"
           }
          ],
          "scattergeo": [
           {
            "marker": {
             "colorbar": {
              "outlinewidth": 0,
              "ticks": ""
             }
            },
            "type": "scattergeo"
           }
          ],
          "scattergl": [
           {
            "marker": {
             "colorbar": {
              "outlinewidth": 0,
              "ticks": ""
             }
            },
            "type": "scattergl"
           }
          ],
          "scattermapbox": [
           {
            "marker": {
             "colorbar": {
              "outlinewidth": 0,
              "ticks": ""
             }
            },
            "type": "scattermapbox"
           }
          ],
          "scatterpolar": [
           {
            "marker": {
             "colorbar": {
              "outlinewidth": 0,
              "ticks": ""
             }
            },
            "type": "scatterpolar"
           }
          ],
          "scatterpolargl": [
           {
            "marker": {
             "colorbar": {
              "outlinewidth": 0,
              "ticks": ""
             }
            },
            "type": "scatterpolargl"
           }
          ],
          "scatterternary": [
           {
            "marker": {
             "colorbar": {
              "outlinewidth": 0,
              "ticks": ""
             }
            },
            "type": "scatterternary"
           }
          ],
          "surface": [
           {
            "colorbar": {
             "outlinewidth": 0,
             "ticks": ""
            },
            "colorscale": [
             [
              0,
              "#0d0887"
             ],
             [
              0.1111111111111111,
              "#46039f"
             ],
             [
              0.2222222222222222,
              "#7201a8"
             ],
             [
              0.3333333333333333,
              "#9c179e"
             ],
             [
              0.4444444444444444,
              "#bd3786"
             ],
             [
              0.5555555555555556,
              "#d8576b"
             ],
             [
              0.6666666666666666,
              "#ed7953"
             ],
             [
              0.7777777777777778,
              "#fb9f3a"
             ],
             [
              0.8888888888888888,
              "#fdca26"
             ],
             [
              1,
              "#f0f921"
             ]
            ],
            "type": "surface"
           }
          ],
          "table": [
           {
            "cells": {
             "fill": {
              "color": "#EBF0F8"
             },
             "line": {
              "color": "white"
             }
            },
            "header": {
             "fill": {
              "color": "#C8D4E3"
             },
             "line": {
              "color": "white"
             }
            },
            "type": "table"
           }
          ]
         },
         "layout": {
          "annotationdefaults": {
           "arrowcolor": "#2a3f5f",
           "arrowhead": 0,
           "arrowwidth": 1
          },
          "autotypenumbers": "strict",
          "coloraxis": {
           "colorbar": {
            "outlinewidth": 0,
            "ticks": ""
           }
          },
          "colorscale": {
           "diverging": [
            [
             0,
             "#8e0152"
            ],
            [
             0.1,
             "#c51b7d"
            ],
            [
             0.2,
             "#de77ae"
            ],
            [
             0.3,
             "#f1b6da"
            ],
            [
             0.4,
             "#fde0ef"
            ],
            [
             0.5,
             "#f7f7f7"
            ],
            [
             0.6,
             "#e6f5d0"
            ],
            [
             0.7,
             "#b8e186"
            ],
            [
             0.8,
             "#7fbc41"
            ],
            [
             0.9,
             "#4d9221"
            ],
            [
             1,
             "#276419"
            ]
           ],
           "sequential": [
            [
             0,
             "#0d0887"
            ],
            [
             0.1111111111111111,
             "#46039f"
            ],
            [
             0.2222222222222222,
             "#7201a8"
            ],
            [
             0.3333333333333333,
             "#9c179e"
            ],
            [
             0.4444444444444444,
             "#bd3786"
            ],
            [
             0.5555555555555556,
             "#d8576b"
            ],
            [
             0.6666666666666666,
             "#ed7953"
            ],
            [
             0.7777777777777778,
             "#fb9f3a"
            ],
            [
             0.8888888888888888,
             "#fdca26"
            ],
            [
             1,
             "#f0f921"
            ]
           ],
           "sequentialminus": [
            [
             0,
             "#0d0887"
            ],
            [
             0.1111111111111111,
             "#46039f"
            ],
            [
             0.2222222222222222,
             "#7201a8"
            ],
            [
             0.3333333333333333,
             "#9c179e"
            ],
            [
             0.4444444444444444,
             "#bd3786"
            ],
            [
             0.5555555555555556,
             "#d8576b"
            ],
            [
             0.6666666666666666,
             "#ed7953"
            ],
            [
             0.7777777777777778,
             "#fb9f3a"
            ],
            [
             0.8888888888888888,
             "#fdca26"
            ],
            [
             1,
             "#f0f921"
            ]
           ]
          },
          "colorway": [
           "#636efa",
           "#EF553B",
           "#00cc96",
           "#ab63fa",
           "#FFA15A",
           "#19d3f3",
           "#FF6692",
           "#B6E880",
           "#FF97FF",
           "#FECB52"
          ],
          "font": {
           "color": "#2a3f5f"
          },
          "geo": {
           "bgcolor": "white",
           "lakecolor": "white",
           "landcolor": "white",
           "showlakes": true,
           "showland": true,
           "subunitcolor": "#C8D4E3"
          },
          "hoverlabel": {
           "align": "left"
          },
          "hovermode": "closest",
          "mapbox": {
           "style": "light"
          },
          "paper_bgcolor": "white",
          "plot_bgcolor": "white",
          "polar": {
           "angularaxis": {
            "gridcolor": "#EBF0F8",
            "linecolor": "#EBF0F8",
            "ticks": ""
           },
           "bgcolor": "white",
           "radialaxis": {
            "gridcolor": "#EBF0F8",
            "linecolor": "#EBF0F8",
            "ticks": ""
           }
          },
          "scene": {
           "xaxis": {
            "backgroundcolor": "white",
            "gridcolor": "#DFE8F3",
            "gridwidth": 2,
            "linecolor": "#EBF0F8",
            "showbackground": true,
            "ticks": "",
            "zerolinecolor": "#EBF0F8"
           },
           "yaxis": {
            "backgroundcolor": "white",
            "gridcolor": "#DFE8F3",
            "gridwidth": 2,
            "linecolor": "#EBF0F8",
            "showbackground": true,
            "ticks": "",
            "zerolinecolor": "#EBF0F8"
           },
           "zaxis": {
            "backgroundcolor": "white",
            "gridcolor": "#DFE8F3",
            "gridwidth": 2,
            "linecolor": "#EBF0F8",
            "showbackground": true,
            "ticks": "",
            "zerolinecolor": "#EBF0F8"
           }
          },
          "shapedefaults": {
           "line": {
            "color": "#2a3f5f"
           }
          },
          "ternary": {
           "aaxis": {
            "gridcolor": "#DFE8F3",
            "linecolor": "#A2B1C6",
            "ticks": ""
           },
           "baxis": {
            "gridcolor": "#DFE8F3",
            "linecolor": "#A2B1C6",
            "ticks": ""
           },
           "bgcolor": "white",
           "caxis": {
            "gridcolor": "#DFE8F3",
            "linecolor": "#A2B1C6",
            "ticks": ""
           }
          },
          "title": {
           "x": 0.05
          },
          "xaxis": {
           "automargin": true,
           "gridcolor": "#EBF0F8",
           "linecolor": "#EBF0F8",
           "ticks": "",
           "title": {
            "standoff": 15
           },
           "zerolinecolor": "#EBF0F8",
           "zerolinewidth": 2
          },
          "yaxis": {
           "automargin": true,
           "gridcolor": "#EBF0F8",
           "linecolor": "#EBF0F8",
           "ticks": "",
           "title": {
            "standoff": 15
           },
           "zerolinecolor": "#EBF0F8",
           "zerolinewidth": 2
          }
         }
        },
        "xaxis": {
         "anchor": "y",
         "domain": [
          0,
          1
         ],
         "title": {
          "text": "PC1"
         }
        },
        "yaxis": {
         "anchor": "x",
         "domain": [
          0,
          1
         ],
         "title": {
          "text": "PC2"
         }
        }
       }
      }
     },
     "metadata": {},
     "output_type": "display_data"
    }
   ],
   "source": [
    "from sklearn.decomposition import PCA\n",
    "# ACP sur donnees standardisees\n",
    "\n",
    "pca = PCA(n_components=2)  # Choisissez le nombre de composantes souhaité\n",
    "principal_components = pca.fit_transform(df_standardise)\n",
    "principal_df = pd.DataFrame(data=principal_components, columns=['PC1', 'PC2'])\n",
    "principal_df[['Country name','Regional indicator', 'Ladder score', 'Generosity', 'Social support', 'Logged GDP per capita', 'Healthy life expectancy', 'Freedom to make life choices', 'Perceptions of corruption']] = data_2020[['Country name','Regional indicator', 'Ladder score', 'Generosity', 'Social support', 'Logged GDP per capita', 'Healthy life expectancy', 'Freedom to make life choices', 'Perceptions of corruption']]\n",
    "\n",
    "# Visualisation\n",
    "fig = px.scatter(\n",
    "    principal_df, \n",
    "    template='plotly_white',\n",
    "    x='PC1', \n",
    "    y=\"PC2\", \n",
    "    hover_name='Country name',  # Le nom principal affiché\n",
    "    color='Regional indicator',  # Couleur basée sur cette colonne\n",
    "    hover_data={ \n",
    "        'Country name': False,  # Masquer ces colonnes\n",
    "        'Regional indicator': False,\n",
    "        'Ladder score': True,\n",
    "        'Generosity': True,\n",
    "        'Social support': True,\n",
    "        'Logged GDP per capita': True,\n",
    "        'Healthy life expectancy': True,\n",
    "        'Freedom to make life choices': True,\n",
    "        'Perceptions of corruption': True\n",
    "    },\n",
    "    color_discrete_sequence=px.colors.qualitative.G10,\n",
    ")\n",
    "fig.update_traces(marker=dict(size=8))\n",
    "\n",
    "fig.show()"
   ]
  },
  {
   "cell_type": "markdown",
   "metadata": {},
   "source": [
    "# DBSCAN"
   ]
  },
  {
   "cell_type": "markdown",
   "metadata": {},
   "source": [
    "# K-means"
   ]
  },
  {
   "cell_type": "markdown",
   "metadata": {},
   "source": [
    "## Score silhouette"
   ]
  },
  {
   "cell_type": "markdown",
   "metadata": {},
   "source": [
    "Le silhouette score permet de trouver le nombre de cluster à mettre dans le k-means."
   ]
  },
  {
   "cell_type": "code",
   "execution_count": null,
   "metadata": {},
   "outputs": [
    {
     "ename": "NameError",
     "evalue": "name 't' is not defined",
     "output_type": "error",
     "traceback": [
      "\u001b[1;31m---------------------------------------------------------------------------\u001b[0m",
      "\u001b[1;31mNameError\u001b[0m                                 Traceback (most recent call last)",
      "Cell \u001b[1;32mIn[1], line 2\u001b[0m\n\u001b[0;32m      1\u001b[0m \u001b[38;5;66;03m# Standardisation des données\u001b[39;00m\n\u001b[1;32m----> 2\u001b[0m df_standardise \u001b[38;5;241m=\u001b[39m \u001b[43mt\u001b[49m\u001b[38;5;241m.\u001b[39mstandardise_data(df_numeric)\n\u001b[0;32m      4\u001b[0m \u001b[38;5;66;03m# Liste pour stocker les scores de silhouette\u001b[39;00m\n\u001b[0;32m      5\u001b[0m silhouette_scores \u001b[38;5;241m=\u001b[39m {}\n",
      "\u001b[1;31mNameError\u001b[0m: name 't' is not defined"
     ]
    }
   ],
   "source": [
    "# Standardisation des données\n",
    "df_standardise = t.standardise_data(df_numeric)\n",
    "\n",
    "# Liste pour stocker les scores de silhouette\n",
    "silhouette_scores = {}\n",
    "for n_clusters in range(2, 11):\n",
    "    kmeans, label, _ = t.kmeans_clustering(df_standardise, n_clusters)\n",
    "    score = silhouette_score(df_standardise, label)\n",
    "    silhouette_scores[n_clusters] = score\n",
    "\n",
    "#Afficher le silhouette score\n",
    "t.display_silhouette_scores(silhouette_scores, 'KMeans')\n",
    "\n",
    "#choix du nombre de cluster \n",
    "n_clusters = [k for k, v in silhouette_scores.items() if v == max(silhouette_scores.values())][0]"
   ]
  },
  {
   "cell_type": "markdown",
   "metadata": {},
   "source": [
    "## Clustering"
   ]
  },
  {
   "cell_type": "code",
   "execution_count": null,
   "metadata": {},
   "outputs": [],
   "source": [
    "# Clustering avec K-Means\n",
    "kmeans, labels, centroids = t.kmeans_clustering(df_standardise, n_clusters)"
   ]
  },
  {
   "cell_type": "code",
   "execution_count": null,
   "metadata": {},
   "outputs": [
    {
     "data": {
      "application/vnd.plotly.v1+json": {
       "config": {
        "plotlyServerURL": "https://plot.ly"
       },
       "data": [
        {
         "hovertemplate": "<b>%{hovertext}</b><br><br>cluster=2<br>PC1=%{x}<br>PC2=%{y}<extra></extra>",
         "hovertext": [
          "Finland",
          "Denmark",
          "Switzerland",
          "Iceland",
          "Norway",
          "Netherlands",
          "Sweden",
          "New Zealand",
          "Austria",
          "Luxembourg",
          "Canada",
          "Australia",
          "United Kingdom",
          "Ireland",
          "Germany",
          "United States",
          "United Arab Emirates",
          "Malta",
          "Singapore",
          "Uzbekistan",
          "Hong Kong S.A.R. of China"
         ],
         "legendgroup": "2",
         "marker": {
          "color": "#3366CC",
          "symbol": "circle"
         },
         "mode": "markers",
         "name": "2",
         "orientation": "v",
         "showlegend": true,
         "type": "scatter",
         "x": [
          3.749509422437874,
          3.839590212143542,
          3.663110872252431,
          3.108673654268542,
          3.8156549683605467,
          3.3163443412095464,
          3.4689160192437076,
          3.5196237810946647,
          2.9836471863888905,
          3.321343197549372,
          3.2408749679188524,
          3.233580614504789,
          2.7992458547429333,
          3.246972052878093,
          2.7012466329713303,
          2.1036425432183328,
          2.237158664553594,
          2.5059533130170375,
          3.6699333329682315,
          1.5307254449433247,
          2.0348480404960125
         ],
         "xaxis": "x",
         "y": [
          1.0713333420488669,
          1.71990572976722,
          1.399595428680102,
          1.0644544227762698,
          1.7344215042110327,
          1.7680963003291623,
          1.725595739239298,
          2.180446489585741,
          0.7977081027179347,
          0.6546438422399308,
          1.379777160511814,
          1.543695370865886,
          1.67359051402664,
          1.3576274154204728,
          0.8640041854926771,
          0.5003309120536743,
          1.0469302989480371,
          1.1180774686471535,
          1.4850539691139062,
          2.355048808006775,
          0.9091344019916121
         ],
         "yaxis": "y"
        },
        {
         "hovertemplate": "<b>%{hovertext}</b><br><br>cluster=0<br>PC1=%{x}<br>PC2=%{y}<extra></extra>",
         "hovertext": [
          "Israel",
          "Costa Rica",
          "Czech Republic",
          "Belgium",
          "France",
          "Mexico",
          "Taiwan Province of China",
          "Uruguay",
          "Saudi Arabia",
          "Spain",
          "Guatemala",
          "Italy",
          "Brazil",
          "Slovenia",
          "El Salvador",
          "Kosovo",
          "Panama",
          "Slovakia",
          "Chile",
          "Bahrain",
          "Lithuania",
          "Trinidad and Tobago",
          "Poland",
          "Colombia",
          "Cyprus",
          "Nicaragua",
          "Romania",
          "Kuwait",
          "Mauritius",
          "Kazakhstan",
          "Estonia",
          "Philippines",
          "Hungary",
          "Thailand",
          "Argentina",
          "Honduras",
          "Latvia",
          "Ecuador",
          "Portugal",
          "Jamaica",
          "South Korea",
          "Japan",
          "Peru",
          "Serbia",
          "Bolivia",
          "Paraguay",
          "Dominican Republic",
          "Bosnia and Herzegovina",
          "Moldova",
          "Tajikistan",
          "Montenegro",
          "Russia",
          "Kyrgyzstan",
          "Belarus",
          "North Cyprus",
          "Greece",
          "Croatia",
          "Libya",
          "Mongolia",
          "Malaysia",
          "Vietnam",
          "Maldives",
          "Azerbaijan",
          "Macedonia",
          "Turkey",
          "China",
          "Turkmenistan",
          "Bulgaria",
          "Venezuela",
          "Algeria",
          "Albania",
          "Gabon",
          "South Africa",
          "Lebanon",
          "Armenia",
          "Jordan",
          "Namibia",
          "Ukraine",
          "Sri Lanka",
          "Botswana"
         ],
         "legendgroup": "0",
         "marker": {
          "color": "#DC3912",
          "symbol": "circle"
         },
         "mode": "markers",
         "name": "0",
         "orientation": "v",
         "showlegend": true,
         "type": "scatter",
         "x": [
          1.8978893613076424,
          1.9423916926827425,
          1.6339861074610371,
          2.2077059895183573,
          2.364889509954152,
          1.0385228099549815,
          1.561905161815255,
          1.7955317378963491,
          1.561776881308639,
          1.7221834207127154,
          0.5819563166428612,
          1.1489155206932151,
          0.9015030233017137,
          1.9890240475085177,
          0.4127038476482683,
          0.31387508309375517,
          1.372568218948886,
          1.037272891240616,
          0.9206678524784955,
          1.7114469913207857,
          1.0536443354338263,
          0.9402971914867928,
          1.4721454188701841,
          0.7781250459632646,
          1.1063539050007678,
          0.6857097379865712,
          0.6557914391946846,
          1.4250972995170048,
          1.2028526486468638,
          1.041465002189482,
          1.7602660014305502,
          0.4503444780404644,
          0.7324632356840678,
          1.0380187081131802,
          0.957468630310369,
          0.26731675171079994,
          0.6254583355399467,
          0.6303121449068485,
          1.3697693303182308,
          0.5857242895319117,
          0.5943506847127074,
          1.7454374091454445,
          0.36616488355944526,
          0.43563904207021503,
          -0.004581867839468401,
          0.6784847270036867,
          0.7655319852001368,
          -0.2263812178166673,
          -0.428881289082515,
          -0.02499829839109971,
          0.1556698565694833,
          0.2863132657625845,
          0.023945418301337916,
          0.36562696929580524,
          1.2743452793501608,
          -0.08012645625979196,
          0.42048322384020187,
          0.16960223131593175,
          -0.07319369926117543,
          0.7154748300047876,
          0.4855437524039514,
          0.818130740793685,
          0.3606099456276269,
          -0.18525205165670056,
          -0.1659976041252979,
          0.5501582701120585,
          0.3583858495956411,
          0.24171319783014245,
          -0.5171368876864628,
          -0.9734839723526051,
          -0.671516715047217,
          -0.9391120106675012,
          -0.836107801231833,
          -0.9743723992657102,
          -0.7321358497812592,
          -0.3976205363494144,
          -1.0354300550553184,
          -0.8559641898873868,
          -0.21769976007668213,
          -1.1349332582592937
         ],
         "xaxis": "x",
         "y": [
          -0.24874625065736647,
          -0.5080247481151022,
          -1.791259163766761,
          -0.4909778126687551,
          -0.6982110924043337,
          -0.9898039961647984,
          -0.8457591352302058,
          -0.24967348139571463,
          -0.8258310846686016,
          -0.9890585807633624,
          0.1371241096938358,
          -1.4326861039634542,
          -0.7161548507564074,
          -0.6747038951298979,
          -0.3896428507449288,
          0.7192075610663178,
          -1.1234311483402037,
          -1.6145852201553585,
          -1.0242749661487074,
          0.5992207686718757,
          -1.7548029147187716,
          -0.5231831389022648,
          -0.9662391850369304,
          -1.1511427131780128,
          -0.48131865117997485,
          0.5838731682944526,
          -1.501024616037072,
          -0.674236524555849,
          -0.2378878095915972,
          -0.6218696752947369,
          -0.3907414231129299,
          -0.002684298448735167,
          -1.9251795926024282,
          1.0280473278794355,
          -1.3771776568832836,
          0.6326381338022031,
          -1.7246180375928866,
          -0.63930874268874,
          -1.6182765523200486,
          -0.9258103728865191,
          -1.2119889944797015,
          -1.4413530604935991,
          -1.1844632312108998,
          -1.0301244764746618,
          -0.23661601335060684,
          -0.06127090795134585,
          -0.6052453826369191,
          -0.5263186128073454,
          -0.7569673483298369,
          0.6693768730244194,
          -1.0766294224327075,
          -1.4723414059632718,
          0.8530919318376612,
          -1.1696552190201828,
          -0.04541853036112098,
          -2.786707247192126,
          -1.6365770408731348,
          -0.26261336158144605,
          -0.25069800193309044,
          0.4075069191321778,
          -0.16763718572271508,
          -0.14645887635002466,
          -0.7056486476873619,
          -0.7343920433116459,
          -1.5460591180450172,
          -0.7014024876851028,
          0.4196308572797166,
          -1.6601596118734134,
          -1.6212911658267741,
          -1.5143900227761078,
          -0.483228895449074,
          -1.4735298720493264,
          -0.7331773297815574,
          -1.4630785368621348,
          -0.8560954457911252,
          -0.7190775597471012,
          -1.0513379408980081,
          -1.0071519681908037,
          0.16594201927461447,
          -1.0522030864179424
         ],
         "yaxis": "y"
        },
        {
         "hovertemplate": "<b>%{hovertext}</b><br><br>cluster=1<br>PC1=%{x}<br>PC2=%{y}<extra></extra>",
         "hovertext": [
          "Pakistan",
          "Indonesia",
          "Ivory Coast",
          "Benin",
          "Congo (Brazzaville)",
          "Ghana",
          "Nepal",
          "Morocco",
          "Cameroon",
          "Senegal",
          "Guinea",
          "Niger",
          "Laos",
          "Cambodia",
          "Bangladesh",
          "Iraq",
          "Burkina Faso",
          "Gambia",
          "Mali",
          "Nigeria",
          "Georgia",
          "Iran",
          "Mozambique",
          "Kenya",
          "Liberia",
          "Palestinian Territories",
          "Uganda",
          "Chad",
          "Tunisia",
          "Mauritania",
          "Congo (Kinshasa)",
          "Swaziland",
          "Myanmar",
          "Comoros",
          "Togo",
          "Ethiopia",
          "Madagascar",
          "Egypt",
          "Sierra Leone",
          "Burundi",
          "Zambia",
          "Haiti",
          "Lesotho",
          "India",
          "Malawi",
          "Yemen",
          "Tanzania",
          "Central African Republic",
          "Rwanda",
          "Zimbabwe",
          "South Sudan",
          "Afghanistan"
         ],
         "legendgroup": "1",
         "marker": {
          "color": "#FF9900",
          "symbol": "circle"
         },
         "mode": "markers",
         "name": "1",
         "orientation": "v",
         "showlegend": true,
         "type": "scatter",
         "x": [
          -1.189250762020947,
          -0.05877694237145192,
          -2.252824001902734,
          -2.736632871759514,
          -1.6589938171545655,
          -1.3598201552110285,
          -0.7180148402532838,
          -1.1704456948939737,
          -1.9776916804811586,
          -1.6531594314120335,
          -2.302298997556743,
          -2.595174770912949,
          -0.5260558575732055,
          -0.5773864501850456,
          -0.6369670803330341,
          -1.2378940997999017,
          -2.355653390013726,
          -2.0825458474365455,
          -2.401238224156035,
          -2.02494312143626,
          -0.888921721197074,
          -0.7908318694915368,
          -1.835861207932215,
          -1.462056530515092,
          -2.4299450796633106,
          -1.368426916257076,
          -2.110279751334411,
          -3.466246219920182,
          -1.5054129300336123,
          -2.1093138504261932,
          -3.029984549374213,
          -1.9175473424074716,
          -0.597391116600837,
          -2.89344443342785,
          -3.235328292322437,
          -1.9607942976999584,
          -2.931748508389121,
          -1.3097211757639915,
          -3.267215176914018,
          -3.885944974287503,
          -2.116005444339117,
          -3.3484042867853376,
          -2.7567116312628404,
          -1.7686040844746242,
          -2.972265302680821,
          -2.511093521083143,
          -1.9084243687908018,
          -5.4596157258822355,
          -1.5518627793326065,
          -2.509353560685861,
          -4.594778939545712,
          -5.313317529242742
         ],
         "xaxis": "x",
         "y": [
          0.6044698915098309,
          2.490652384795435,
          0.33743417882143767,
          0.9853194337331221,
          -0.19714044205858128,
          0.7227147099152922,
          1.1475394802619991,
          -0.968656269011134,
          0.35409875344338615,
          -0.18991630870363338,
          0.9379821931408491,
          1.1181405061798733,
          1.580342970716247,
          0.9080449844347045,
          0.8218766217808524,
          -0.8052406198976826,
          0.35820643293770194,
          2.4736655159221796,
          0.09080811597914919,
          0.4095682423931584,
          -0.49853512549569523,
          0.349839967632847,
          1.3871874757691012,
          1.8700479020099683,
          0.5689615266054431,
          -1.1725893616699712,
          0.7257576979662599,
          0.4043683298721774,
          -1.7638185408358709,
          -0.7536364050626879,
          0.9989179127212008,
          -0.8211179984060436,
          3.628886865136137,
          0.42405856582615326,
          0.6316289202697386,
          0.6696755875400124,
          -0.1509738390748473,
          -1.0721335715552887,
          0.9259714317118277,
          1.1638497132076249,
          0.920014502322463,
          2.3298522858267683,
          -0.4249760216310803,
          1.0601640677939705,
          1.2351232228921978,
          -0.9629822063348514,
          1.6205397728781763,
          1.36477295797038,
          2.997132633047241,
          -0.15487879630666188,
          0.17601152995117256,
          -0.9025285178409923
         ],
         "yaxis": "y"
        }
       ],
       "layout": {
        "legend": {
         "title": {
          "text": "cluster"
         },
         "tracegroupgap": 0
        },
        "margin": {
         "t": 60
        },
        "showlegend": false,
        "template": {
         "data": {
          "bar": [
           {
            "error_x": {
             "color": "#2a3f5f"
            },
            "error_y": {
             "color": "#2a3f5f"
            },
            "marker": {
             "line": {
              "color": "white",
              "width": 0.5
             },
             "pattern": {
              "fillmode": "overlay",
              "size": 10,
              "solidity": 0.2
             }
            },
            "type": "bar"
           }
          ],
          "barpolar": [
           {
            "marker": {
             "line": {
              "color": "white",
              "width": 0.5
             },
             "pattern": {
              "fillmode": "overlay",
              "size": 10,
              "solidity": 0.2
             }
            },
            "type": "barpolar"
           }
          ],
          "carpet": [
           {
            "aaxis": {
             "endlinecolor": "#2a3f5f",
             "gridcolor": "#C8D4E3",
             "linecolor": "#C8D4E3",
             "minorgridcolor": "#C8D4E3",
             "startlinecolor": "#2a3f5f"
            },
            "baxis": {
             "endlinecolor": "#2a3f5f",
             "gridcolor": "#C8D4E3",
             "linecolor": "#C8D4E3",
             "minorgridcolor": "#C8D4E3",
             "startlinecolor": "#2a3f5f"
            },
            "type": "carpet"
           }
          ],
          "choropleth": [
           {
            "colorbar": {
             "outlinewidth": 0,
             "ticks": ""
            },
            "type": "choropleth"
           }
          ],
          "contour": [
           {
            "colorbar": {
             "outlinewidth": 0,
             "ticks": ""
            },
            "colorscale": [
             [
              0,
              "#0d0887"
             ],
             [
              0.1111111111111111,
              "#46039f"
             ],
             [
              0.2222222222222222,
              "#7201a8"
             ],
             [
              0.3333333333333333,
              "#9c179e"
             ],
             [
              0.4444444444444444,
              "#bd3786"
             ],
             [
              0.5555555555555556,
              "#d8576b"
             ],
             [
              0.6666666666666666,
              "#ed7953"
             ],
             [
              0.7777777777777778,
              "#fb9f3a"
             ],
             [
              0.8888888888888888,
              "#fdca26"
             ],
             [
              1,
              "#f0f921"
             ]
            ],
            "type": "contour"
           }
          ],
          "contourcarpet": [
           {
            "colorbar": {
             "outlinewidth": 0,
             "ticks": ""
            },
            "type": "contourcarpet"
           }
          ],
          "heatmap": [
           {
            "colorbar": {
             "outlinewidth": 0,
             "ticks": ""
            },
            "colorscale": [
             [
              0,
              "#0d0887"
             ],
             [
              0.1111111111111111,
              "#46039f"
             ],
             [
              0.2222222222222222,
              "#7201a8"
             ],
             [
              0.3333333333333333,
              "#9c179e"
             ],
             [
              0.4444444444444444,
              "#bd3786"
             ],
             [
              0.5555555555555556,
              "#d8576b"
             ],
             [
              0.6666666666666666,
              "#ed7953"
             ],
             [
              0.7777777777777778,
              "#fb9f3a"
             ],
             [
              0.8888888888888888,
              "#fdca26"
             ],
             [
              1,
              "#f0f921"
             ]
            ],
            "type": "heatmap"
           }
          ],
          "heatmapgl": [
           {
            "colorbar": {
             "outlinewidth": 0,
             "ticks": ""
            },
            "colorscale": [
             [
              0,
              "#0d0887"
             ],
             [
              0.1111111111111111,
              "#46039f"
             ],
             [
              0.2222222222222222,
              "#7201a8"
             ],
             [
              0.3333333333333333,
              "#9c179e"
             ],
             [
              0.4444444444444444,
              "#bd3786"
             ],
             [
              0.5555555555555556,
              "#d8576b"
             ],
             [
              0.6666666666666666,
              "#ed7953"
             ],
             [
              0.7777777777777778,
              "#fb9f3a"
             ],
             [
              0.8888888888888888,
              "#fdca26"
             ],
             [
              1,
              "#f0f921"
             ]
            ],
            "type": "heatmapgl"
           }
          ],
          "histogram": [
           {
            "marker": {
             "pattern": {
              "fillmode": "overlay",
              "size": 10,
              "solidity": 0.2
             }
            },
            "type": "histogram"
           }
          ],
          "histogram2d": [
           {
            "colorbar": {
             "outlinewidth": 0,
             "ticks": ""
            },
            "colorscale": [
             [
              0,
              "#0d0887"
             ],
             [
              0.1111111111111111,
              "#46039f"
             ],
             [
              0.2222222222222222,
              "#7201a8"
             ],
             [
              0.3333333333333333,
              "#9c179e"
             ],
             [
              0.4444444444444444,
              "#bd3786"
             ],
             [
              0.5555555555555556,
              "#d8576b"
             ],
             [
              0.6666666666666666,
              "#ed7953"
             ],
             [
              0.7777777777777778,
              "#fb9f3a"
             ],
             [
              0.8888888888888888,
              "#fdca26"
             ],
             [
              1,
              "#f0f921"
             ]
            ],
            "type": "histogram2d"
           }
          ],
          "histogram2dcontour": [
           {
            "colorbar": {
             "outlinewidth": 0,
             "ticks": ""
            },
            "colorscale": [
             [
              0,
              "#0d0887"
             ],
             [
              0.1111111111111111,
              "#46039f"
             ],
             [
              0.2222222222222222,
              "#7201a8"
             ],
             [
              0.3333333333333333,
              "#9c179e"
             ],
             [
              0.4444444444444444,
              "#bd3786"
             ],
             [
              0.5555555555555556,
              "#d8576b"
             ],
             [
              0.6666666666666666,
              "#ed7953"
             ],
             [
              0.7777777777777778,
              "#fb9f3a"
             ],
             [
              0.8888888888888888,
              "#fdca26"
             ],
             [
              1,
              "#f0f921"
             ]
            ],
            "type": "histogram2dcontour"
           }
          ],
          "mesh3d": [
           {
            "colorbar": {
             "outlinewidth": 0,
             "ticks": ""
            },
            "type": "mesh3d"
           }
          ],
          "parcoords": [
           {
            "line": {
             "colorbar": {
              "outlinewidth": 0,
              "ticks": ""
             }
            },
            "type": "parcoords"
           }
          ],
          "pie": [
           {
            "automargin": true,
            "type": "pie"
           }
          ],
          "scatter": [
           {
            "fillpattern": {
             "fillmode": "overlay",
             "size": 10,
             "solidity": 0.2
            },
            "type": "scatter"
           }
          ],
          "scatter3d": [
           {
            "line": {
             "colorbar": {
              "outlinewidth": 0,
              "ticks": ""
             }
            },
            "marker": {
             "colorbar": {
              "outlinewidth": 0,
              "ticks": ""
             }
            },
            "type": "scatter3d"
           }
          ],
          "scattercarpet": [
           {
            "marker": {
             "colorbar": {
              "outlinewidth": 0,
              "ticks": ""
             }
            },
            "type": "scattercarpet"
           }
          ],
          "scattergeo": [
           {
            "marker": {
             "colorbar": {
              "outlinewidth": 0,
              "ticks": ""
             }
            },
            "type": "scattergeo"
           }
          ],
          "scattergl": [
           {
            "marker": {
             "colorbar": {
              "outlinewidth": 0,
              "ticks": ""
             }
            },
            "type": "scattergl"
           }
          ],
          "scattermapbox": [
           {
            "marker": {
             "colorbar": {
              "outlinewidth": 0,
              "ticks": ""
             }
            },
            "type": "scattermapbox"
           }
          ],
          "scatterpolar": [
           {
            "marker": {
             "colorbar": {
              "outlinewidth": 0,
              "ticks": ""
             }
            },
            "type": "scatterpolar"
           }
          ],
          "scatterpolargl": [
           {
            "marker": {
             "colorbar": {
              "outlinewidth": 0,
              "ticks": ""
             }
            },
            "type": "scatterpolargl"
           }
          ],
          "scatterternary": [
           {
            "marker": {
             "colorbar": {
              "outlinewidth": 0,
              "ticks": ""
             }
            },
            "type": "scatterternary"
           }
          ],
          "surface": [
           {
            "colorbar": {
             "outlinewidth": 0,
             "ticks": ""
            },
            "colorscale": [
             [
              0,
              "#0d0887"
             ],
             [
              0.1111111111111111,
              "#46039f"
             ],
             [
              0.2222222222222222,
              "#7201a8"
             ],
             [
              0.3333333333333333,
              "#9c179e"
             ],
             [
              0.4444444444444444,
              "#bd3786"
             ],
             [
              0.5555555555555556,
              "#d8576b"
             ],
             [
              0.6666666666666666,
              "#ed7953"
             ],
             [
              0.7777777777777778,
              "#fb9f3a"
             ],
             [
              0.8888888888888888,
              "#fdca26"
             ],
             [
              1,
              "#f0f921"
             ]
            ],
            "type": "surface"
           }
          ],
          "table": [
           {
            "cells": {
             "fill": {
              "color": "#EBF0F8"
             },
             "line": {
              "color": "white"
             }
            },
            "header": {
             "fill": {
              "color": "#C8D4E3"
             },
             "line": {
              "color": "white"
             }
            },
            "type": "table"
           }
          ]
         },
         "layout": {
          "annotationdefaults": {
           "arrowcolor": "#2a3f5f",
           "arrowhead": 0,
           "arrowwidth": 1
          },
          "autotypenumbers": "strict",
          "coloraxis": {
           "colorbar": {
            "outlinewidth": 0,
            "ticks": ""
           }
          },
          "colorscale": {
           "diverging": [
            [
             0,
             "#8e0152"
            ],
            [
             0.1,
             "#c51b7d"
            ],
            [
             0.2,
             "#de77ae"
            ],
            [
             0.3,
             "#f1b6da"
            ],
            [
             0.4,
             "#fde0ef"
            ],
            [
             0.5,
             "#f7f7f7"
            ],
            [
             0.6,
             "#e6f5d0"
            ],
            [
             0.7,
             "#b8e186"
            ],
            [
             0.8,
             "#7fbc41"
            ],
            [
             0.9,
             "#4d9221"
            ],
            [
             1,
             "#276419"
            ]
           ],
           "sequential": [
            [
             0,
             "#0d0887"
            ],
            [
             0.1111111111111111,
             "#46039f"
            ],
            [
             0.2222222222222222,
             "#7201a8"
            ],
            [
             0.3333333333333333,
             "#9c179e"
            ],
            [
             0.4444444444444444,
             "#bd3786"
            ],
            [
             0.5555555555555556,
             "#d8576b"
            ],
            [
             0.6666666666666666,
             "#ed7953"
            ],
            [
             0.7777777777777778,
             "#fb9f3a"
            ],
            [
             0.8888888888888888,
             "#fdca26"
            ],
            [
             1,
             "#f0f921"
            ]
           ],
           "sequentialminus": [
            [
             0,
             "#0d0887"
            ],
            [
             0.1111111111111111,
             "#46039f"
            ],
            [
             0.2222222222222222,
             "#7201a8"
            ],
            [
             0.3333333333333333,
             "#9c179e"
            ],
            [
             0.4444444444444444,
             "#bd3786"
            ],
            [
             0.5555555555555556,
             "#d8576b"
            ],
            [
             0.6666666666666666,
             "#ed7953"
            ],
            [
             0.7777777777777778,
             "#fb9f3a"
            ],
            [
             0.8888888888888888,
             "#fdca26"
            ],
            [
             1,
             "#f0f921"
            ]
           ]
          },
          "colorway": [
           "#636efa",
           "#EF553B",
           "#00cc96",
           "#ab63fa",
           "#FFA15A",
           "#19d3f3",
           "#FF6692",
           "#B6E880",
           "#FF97FF",
           "#FECB52"
          ],
          "font": {
           "color": "#2a3f5f"
          },
          "geo": {
           "bgcolor": "white",
           "lakecolor": "white",
           "landcolor": "white",
           "showlakes": true,
           "showland": true,
           "subunitcolor": "#C8D4E3"
          },
          "hoverlabel": {
           "align": "left"
          },
          "hovermode": "closest",
          "mapbox": {
           "style": "light"
          },
          "paper_bgcolor": "white",
          "plot_bgcolor": "white",
          "polar": {
           "angularaxis": {
            "gridcolor": "#EBF0F8",
            "linecolor": "#EBF0F8",
            "ticks": ""
           },
           "bgcolor": "white",
           "radialaxis": {
            "gridcolor": "#EBF0F8",
            "linecolor": "#EBF0F8",
            "ticks": ""
           }
          },
          "scene": {
           "xaxis": {
            "backgroundcolor": "white",
            "gridcolor": "#DFE8F3",
            "gridwidth": 2,
            "linecolor": "#EBF0F8",
            "showbackground": true,
            "ticks": "",
            "zerolinecolor": "#EBF0F8"
           },
           "yaxis": {
            "backgroundcolor": "white",
            "gridcolor": "#DFE8F3",
            "gridwidth": 2,
            "linecolor": "#EBF0F8",
            "showbackground": true,
            "ticks": "",
            "zerolinecolor": "#EBF0F8"
           },
           "zaxis": {
            "backgroundcolor": "white",
            "gridcolor": "#DFE8F3",
            "gridwidth": 2,
            "linecolor": "#EBF0F8",
            "showbackground": true,
            "ticks": "",
            "zerolinecolor": "#EBF0F8"
           }
          },
          "shapedefaults": {
           "line": {
            "color": "#2a3f5f"
           }
          },
          "ternary": {
           "aaxis": {
            "gridcolor": "#DFE8F3",
            "linecolor": "#A2B1C6",
            "ticks": ""
           },
           "baxis": {
            "gridcolor": "#DFE8F3",
            "linecolor": "#A2B1C6",
            "ticks": ""
           },
           "bgcolor": "white",
           "caxis": {
            "gridcolor": "#DFE8F3",
            "linecolor": "#A2B1C6",
            "ticks": ""
           }
          },
          "title": {
           "x": 0.05
          },
          "xaxis": {
           "automargin": true,
           "gridcolor": "#EBF0F8",
           "linecolor": "#EBF0F8",
           "ticks": "",
           "title": {
            "standoff": 15
           },
           "zerolinecolor": "#EBF0F8",
           "zerolinewidth": 2
          },
          "yaxis": {
           "automargin": true,
           "gridcolor": "#EBF0F8",
           "linecolor": "#EBF0F8",
           "ticks": "",
           "title": {
            "standoff": 15
           },
           "zerolinecolor": "#EBF0F8",
           "zerolinewidth": 2
          }
         }
        },
        "xaxis": {
         "anchor": "y",
         "domain": [
          0,
          1
         ],
         "title": {
          "text": "PC1"
         }
        },
        "yaxis": {
         "anchor": "x",
         "domain": [
          0,
          1
         ],
         "title": {
          "text": "PC2"
         }
        }
       }
      }
     },
     "metadata": {},
     "output_type": "display_data"
    }
   ],
   "source": [
    "# Ajout des labels au dataframe\n",
    "principal_df['cluster'] = labels\n",
    "\n",
    "# Convertir les clusters en type catégoriel pour légende continue\n",
    "principal_df[\"cluster\"] = principal_df[\"cluster\"].astype(str)\n",
    "\n",
    "# Visualisation\n",
    "fig = t.display_clustering(principal_df)\n"
   ]
  },
  {
   "cell_type": "markdown",
   "metadata": {},
   "source": [
    "## Ajouter les centroïdes\n"
   ]
  },
  {
   "cell_type": "code",
   "execution_count": null,
   "metadata": {},
   "outputs": [
    {
     "data": {
      "application/vnd.plotly.v1+json": {
       "config": {
        "plotlyServerURL": "https://plot.ly"
       },
       "data": [
        {
         "hovertemplate": "<b>%{hovertext}</b><br><br>cluster=2<br>PC1=%{x}<br>PC2=%{y}<extra></extra>",
         "hovertext": [
          "Finland",
          "Denmark",
          "Switzerland",
          "Iceland",
          "Norway",
          "Netherlands",
          "Sweden",
          "New Zealand",
          "Austria",
          "Luxembourg",
          "Canada",
          "Australia",
          "United Kingdom",
          "Ireland",
          "Germany",
          "United States",
          "United Arab Emirates",
          "Malta",
          "Singapore",
          "Uzbekistan",
          "Hong Kong S.A.R. of China"
         ],
         "legendgroup": "2",
         "marker": {
          "color": "#3366CC",
          "symbol": "circle"
         },
         "mode": "markers",
         "name": "2",
         "orientation": "v",
         "showlegend": true,
         "type": "scatter",
         "x": [
          3.749509422437874,
          3.839590212143542,
          3.663110872252431,
          3.108673654268542,
          3.8156549683605467,
          3.3163443412095464,
          3.4689160192437076,
          3.5196237810946647,
          2.9836471863888905,
          3.321343197549372,
          3.2408749679188524,
          3.233580614504789,
          2.7992458547429333,
          3.246972052878093,
          2.7012466329713303,
          2.1036425432183328,
          2.237158664553594,
          2.5059533130170375,
          3.6699333329682315,
          1.5307254449433247,
          2.0348480404960125
         ],
         "xaxis": "x",
         "y": [
          1.0713333420488669,
          1.71990572976722,
          1.399595428680102,
          1.0644544227762698,
          1.7344215042110327,
          1.7680963003291623,
          1.725595739239298,
          2.180446489585741,
          0.7977081027179347,
          0.6546438422399308,
          1.379777160511814,
          1.543695370865886,
          1.67359051402664,
          1.3576274154204728,
          0.8640041854926771,
          0.5003309120536743,
          1.0469302989480371,
          1.1180774686471535,
          1.4850539691139062,
          2.355048808006775,
          0.9091344019916121
         ],
         "yaxis": "y"
        },
        {
         "hovertemplate": "<b>%{hovertext}</b><br><br>cluster=0<br>PC1=%{x}<br>PC2=%{y}<extra></extra>",
         "hovertext": [
          "Israel",
          "Costa Rica",
          "Czech Republic",
          "Belgium",
          "France",
          "Mexico",
          "Taiwan Province of China",
          "Uruguay",
          "Saudi Arabia",
          "Spain",
          "Guatemala",
          "Italy",
          "Brazil",
          "Slovenia",
          "El Salvador",
          "Kosovo",
          "Panama",
          "Slovakia",
          "Chile",
          "Bahrain",
          "Lithuania",
          "Trinidad and Tobago",
          "Poland",
          "Colombia",
          "Cyprus",
          "Nicaragua",
          "Romania",
          "Kuwait",
          "Mauritius",
          "Kazakhstan",
          "Estonia",
          "Philippines",
          "Hungary",
          "Thailand",
          "Argentina",
          "Honduras",
          "Latvia",
          "Ecuador",
          "Portugal",
          "Jamaica",
          "South Korea",
          "Japan",
          "Peru",
          "Serbia",
          "Bolivia",
          "Paraguay",
          "Dominican Republic",
          "Bosnia and Herzegovina",
          "Moldova",
          "Tajikistan",
          "Montenegro",
          "Russia",
          "Kyrgyzstan",
          "Belarus",
          "North Cyprus",
          "Greece",
          "Croatia",
          "Libya",
          "Mongolia",
          "Malaysia",
          "Vietnam",
          "Maldives",
          "Azerbaijan",
          "Macedonia",
          "Turkey",
          "China",
          "Turkmenistan",
          "Bulgaria",
          "Venezuela",
          "Algeria",
          "Albania",
          "Gabon",
          "South Africa",
          "Lebanon",
          "Armenia",
          "Jordan",
          "Namibia",
          "Ukraine",
          "Sri Lanka",
          "Botswana"
         ],
         "legendgroup": "0",
         "marker": {
          "color": "#DC3912",
          "symbol": "circle"
         },
         "mode": "markers",
         "name": "0",
         "orientation": "v",
         "showlegend": true,
         "type": "scatter",
         "x": [
          1.8978893613076424,
          1.9423916926827425,
          1.6339861074610371,
          2.2077059895183573,
          2.364889509954152,
          1.0385228099549815,
          1.561905161815255,
          1.7955317378963491,
          1.561776881308639,
          1.7221834207127154,
          0.5819563166428612,
          1.1489155206932151,
          0.9015030233017137,
          1.9890240475085177,
          0.4127038476482683,
          0.31387508309375517,
          1.372568218948886,
          1.037272891240616,
          0.9206678524784955,
          1.7114469913207857,
          1.0536443354338263,
          0.9402971914867928,
          1.4721454188701841,
          0.7781250459632646,
          1.1063539050007678,
          0.6857097379865712,
          0.6557914391946846,
          1.4250972995170048,
          1.2028526486468638,
          1.041465002189482,
          1.7602660014305502,
          0.4503444780404644,
          0.7324632356840678,
          1.0380187081131802,
          0.957468630310369,
          0.26731675171079994,
          0.6254583355399467,
          0.6303121449068485,
          1.3697693303182308,
          0.5857242895319117,
          0.5943506847127074,
          1.7454374091454445,
          0.36616488355944526,
          0.43563904207021503,
          -0.004581867839468401,
          0.6784847270036867,
          0.7655319852001368,
          -0.2263812178166673,
          -0.428881289082515,
          -0.02499829839109971,
          0.1556698565694833,
          0.2863132657625845,
          0.023945418301337916,
          0.36562696929580524,
          1.2743452793501608,
          -0.08012645625979196,
          0.42048322384020187,
          0.16960223131593175,
          -0.07319369926117543,
          0.7154748300047876,
          0.4855437524039514,
          0.818130740793685,
          0.3606099456276269,
          -0.18525205165670056,
          -0.1659976041252979,
          0.5501582701120585,
          0.3583858495956411,
          0.24171319783014245,
          -0.5171368876864628,
          -0.9734839723526051,
          -0.671516715047217,
          -0.9391120106675012,
          -0.836107801231833,
          -0.9743723992657102,
          -0.7321358497812592,
          -0.3976205363494144,
          -1.0354300550553184,
          -0.8559641898873868,
          -0.21769976007668213,
          -1.1349332582592937
         ],
         "xaxis": "x",
         "y": [
          -0.24874625065736647,
          -0.5080247481151022,
          -1.791259163766761,
          -0.4909778126687551,
          -0.6982110924043337,
          -0.9898039961647984,
          -0.8457591352302058,
          -0.24967348139571463,
          -0.8258310846686016,
          -0.9890585807633624,
          0.1371241096938358,
          -1.4326861039634542,
          -0.7161548507564074,
          -0.6747038951298979,
          -0.3896428507449288,
          0.7192075610663178,
          -1.1234311483402037,
          -1.6145852201553585,
          -1.0242749661487074,
          0.5992207686718757,
          -1.7548029147187716,
          -0.5231831389022648,
          -0.9662391850369304,
          -1.1511427131780128,
          -0.48131865117997485,
          0.5838731682944526,
          -1.501024616037072,
          -0.674236524555849,
          -0.2378878095915972,
          -0.6218696752947369,
          -0.3907414231129299,
          -0.002684298448735167,
          -1.9251795926024282,
          1.0280473278794355,
          -1.3771776568832836,
          0.6326381338022031,
          -1.7246180375928866,
          -0.63930874268874,
          -1.6182765523200486,
          -0.9258103728865191,
          -1.2119889944797015,
          -1.4413530604935991,
          -1.1844632312108998,
          -1.0301244764746618,
          -0.23661601335060684,
          -0.06127090795134585,
          -0.6052453826369191,
          -0.5263186128073454,
          -0.7569673483298369,
          0.6693768730244194,
          -1.0766294224327075,
          -1.4723414059632718,
          0.8530919318376612,
          -1.1696552190201828,
          -0.04541853036112098,
          -2.786707247192126,
          -1.6365770408731348,
          -0.26261336158144605,
          -0.25069800193309044,
          0.4075069191321778,
          -0.16763718572271508,
          -0.14645887635002466,
          -0.7056486476873619,
          -0.7343920433116459,
          -1.5460591180450172,
          -0.7014024876851028,
          0.4196308572797166,
          -1.6601596118734134,
          -1.6212911658267741,
          -1.5143900227761078,
          -0.483228895449074,
          -1.4735298720493264,
          -0.7331773297815574,
          -1.4630785368621348,
          -0.8560954457911252,
          -0.7190775597471012,
          -1.0513379408980081,
          -1.0071519681908037,
          0.16594201927461447,
          -1.0522030864179424
         ],
         "yaxis": "y"
        },
        {
         "hovertemplate": "<b>%{hovertext}</b><br><br>cluster=1<br>PC1=%{x}<br>PC2=%{y}<extra></extra>",
         "hovertext": [
          "Pakistan",
          "Indonesia",
          "Ivory Coast",
          "Benin",
          "Congo (Brazzaville)",
          "Ghana",
          "Nepal",
          "Morocco",
          "Cameroon",
          "Senegal",
          "Guinea",
          "Niger",
          "Laos",
          "Cambodia",
          "Bangladesh",
          "Iraq",
          "Burkina Faso",
          "Gambia",
          "Mali",
          "Nigeria",
          "Georgia",
          "Iran",
          "Mozambique",
          "Kenya",
          "Liberia",
          "Palestinian Territories",
          "Uganda",
          "Chad",
          "Tunisia",
          "Mauritania",
          "Congo (Kinshasa)",
          "Swaziland",
          "Myanmar",
          "Comoros",
          "Togo",
          "Ethiopia",
          "Madagascar",
          "Egypt",
          "Sierra Leone",
          "Burundi",
          "Zambia",
          "Haiti",
          "Lesotho",
          "India",
          "Malawi",
          "Yemen",
          "Tanzania",
          "Central African Republic",
          "Rwanda",
          "Zimbabwe",
          "South Sudan",
          "Afghanistan"
         ],
         "legendgroup": "1",
         "marker": {
          "color": "#FF9900",
          "symbol": "circle"
         },
         "mode": "markers",
         "name": "1",
         "orientation": "v",
         "showlegend": true,
         "type": "scatter",
         "x": [
          -1.189250762020947,
          -0.05877694237145192,
          -2.252824001902734,
          -2.736632871759514,
          -1.6589938171545655,
          -1.3598201552110285,
          -0.7180148402532838,
          -1.1704456948939737,
          -1.9776916804811586,
          -1.6531594314120335,
          -2.302298997556743,
          -2.595174770912949,
          -0.5260558575732055,
          -0.5773864501850456,
          -0.6369670803330341,
          -1.2378940997999017,
          -2.355653390013726,
          -2.0825458474365455,
          -2.401238224156035,
          -2.02494312143626,
          -0.888921721197074,
          -0.7908318694915368,
          -1.835861207932215,
          -1.462056530515092,
          -2.4299450796633106,
          -1.368426916257076,
          -2.110279751334411,
          -3.466246219920182,
          -1.5054129300336123,
          -2.1093138504261932,
          -3.029984549374213,
          -1.9175473424074716,
          -0.597391116600837,
          -2.89344443342785,
          -3.235328292322437,
          -1.9607942976999584,
          -2.931748508389121,
          -1.3097211757639915,
          -3.267215176914018,
          -3.885944974287503,
          -2.116005444339117,
          -3.3484042867853376,
          -2.7567116312628404,
          -1.7686040844746242,
          -2.972265302680821,
          -2.511093521083143,
          -1.9084243687908018,
          -5.4596157258822355,
          -1.5518627793326065,
          -2.509353560685861,
          -4.594778939545712,
          -5.313317529242742
         ],
         "xaxis": "x",
         "y": [
          0.6044698915098309,
          2.490652384795435,
          0.33743417882143767,
          0.9853194337331221,
          -0.19714044205858128,
          0.7227147099152922,
          1.1475394802619991,
          -0.968656269011134,
          0.35409875344338615,
          -0.18991630870363338,
          0.9379821931408491,
          1.1181405061798733,
          1.580342970716247,
          0.9080449844347045,
          0.8218766217808524,
          -0.8052406198976826,
          0.35820643293770194,
          2.4736655159221796,
          0.09080811597914919,
          0.4095682423931584,
          -0.49853512549569523,
          0.349839967632847,
          1.3871874757691012,
          1.8700479020099683,
          0.5689615266054431,
          -1.1725893616699712,
          0.7257576979662599,
          0.4043683298721774,
          -1.7638185408358709,
          -0.7536364050626879,
          0.9989179127212008,
          -0.8211179984060436,
          3.628886865136137,
          0.42405856582615326,
          0.6316289202697386,
          0.6696755875400124,
          -0.1509738390748473,
          -1.0721335715552887,
          0.9259714317118277,
          1.1638497132076249,
          0.920014502322463,
          2.3298522858267683,
          -0.4249760216310803,
          1.0601640677939705,
          1.2351232228921978,
          -0.9629822063348514,
          1.6205397728781763,
          1.36477295797038,
          2.997132633047241,
          -0.15487879630666188,
          0.17601152995117256,
          -0.9025285178409923
         ],
         "yaxis": "y"
        },
        {
         "marker": {
          "color": "black",
          "size": 12,
          "symbol": "x"
         },
         "mode": "markers",
         "name": "Centroïdes",
         "type": "scatter",
         "x": [
          0.5923392480164389,
          -2.1478502628834995,
          3.0619558966012796
         ],
         "y": [
          -0.7311931206047244,
          0.5779399284374652,
          1.3544082556966548
         ]
        }
       ],
       "layout": {
        "legend": {
         "title": {
          "text": "cluster"
         },
         "tracegroupgap": 0
        },
        "margin": {
         "t": 60
        },
        "showlegend": false,
        "template": {
         "data": {
          "bar": [
           {
            "error_x": {
             "color": "#2a3f5f"
            },
            "error_y": {
             "color": "#2a3f5f"
            },
            "marker": {
             "line": {
              "color": "white",
              "width": 0.5
             },
             "pattern": {
              "fillmode": "overlay",
              "size": 10,
              "solidity": 0.2
             }
            },
            "type": "bar"
           }
          ],
          "barpolar": [
           {
            "marker": {
             "line": {
              "color": "white",
              "width": 0.5
             },
             "pattern": {
              "fillmode": "overlay",
              "size": 10,
              "solidity": 0.2
             }
            },
            "type": "barpolar"
           }
          ],
          "carpet": [
           {
            "aaxis": {
             "endlinecolor": "#2a3f5f",
             "gridcolor": "#C8D4E3",
             "linecolor": "#C8D4E3",
             "minorgridcolor": "#C8D4E3",
             "startlinecolor": "#2a3f5f"
            },
            "baxis": {
             "endlinecolor": "#2a3f5f",
             "gridcolor": "#C8D4E3",
             "linecolor": "#C8D4E3",
             "minorgridcolor": "#C8D4E3",
             "startlinecolor": "#2a3f5f"
            },
            "type": "carpet"
           }
          ],
          "choropleth": [
           {
            "colorbar": {
             "outlinewidth": 0,
             "ticks": ""
            },
            "type": "choropleth"
           }
          ],
          "contour": [
           {
            "colorbar": {
             "outlinewidth": 0,
             "ticks": ""
            },
            "colorscale": [
             [
              0,
              "#0d0887"
             ],
             [
              0.1111111111111111,
              "#46039f"
             ],
             [
              0.2222222222222222,
              "#7201a8"
             ],
             [
              0.3333333333333333,
              "#9c179e"
             ],
             [
              0.4444444444444444,
              "#bd3786"
             ],
             [
              0.5555555555555556,
              "#d8576b"
             ],
             [
              0.6666666666666666,
              "#ed7953"
             ],
             [
              0.7777777777777778,
              "#fb9f3a"
             ],
             [
              0.8888888888888888,
              "#fdca26"
             ],
             [
              1,
              "#f0f921"
             ]
            ],
            "type": "contour"
           }
          ],
          "contourcarpet": [
           {
            "colorbar": {
             "outlinewidth": 0,
             "ticks": ""
            },
            "type": "contourcarpet"
           }
          ],
          "heatmap": [
           {
            "colorbar": {
             "outlinewidth": 0,
             "ticks": ""
            },
            "colorscale": [
             [
              0,
              "#0d0887"
             ],
             [
              0.1111111111111111,
              "#46039f"
             ],
             [
              0.2222222222222222,
              "#7201a8"
             ],
             [
              0.3333333333333333,
              "#9c179e"
             ],
             [
              0.4444444444444444,
              "#bd3786"
             ],
             [
              0.5555555555555556,
              "#d8576b"
             ],
             [
              0.6666666666666666,
              "#ed7953"
             ],
             [
              0.7777777777777778,
              "#fb9f3a"
             ],
             [
              0.8888888888888888,
              "#fdca26"
             ],
             [
              1,
              "#f0f921"
             ]
            ],
            "type": "heatmap"
           }
          ],
          "heatmapgl": [
           {
            "colorbar": {
             "outlinewidth": 0,
             "ticks": ""
            },
            "colorscale": [
             [
              0,
              "#0d0887"
             ],
             [
              0.1111111111111111,
              "#46039f"
             ],
             [
              0.2222222222222222,
              "#7201a8"
             ],
             [
              0.3333333333333333,
              "#9c179e"
             ],
             [
              0.4444444444444444,
              "#bd3786"
             ],
             [
              0.5555555555555556,
              "#d8576b"
             ],
             [
              0.6666666666666666,
              "#ed7953"
             ],
             [
              0.7777777777777778,
              "#fb9f3a"
             ],
             [
              0.8888888888888888,
              "#fdca26"
             ],
             [
              1,
              "#f0f921"
             ]
            ],
            "type": "heatmapgl"
           }
          ],
          "histogram": [
           {
            "marker": {
             "pattern": {
              "fillmode": "overlay",
              "size": 10,
              "solidity": 0.2
             }
            },
            "type": "histogram"
           }
          ],
          "histogram2d": [
           {
            "colorbar": {
             "outlinewidth": 0,
             "ticks": ""
            },
            "colorscale": [
             [
              0,
              "#0d0887"
             ],
             [
              0.1111111111111111,
              "#46039f"
             ],
             [
              0.2222222222222222,
              "#7201a8"
             ],
             [
              0.3333333333333333,
              "#9c179e"
             ],
             [
              0.4444444444444444,
              "#bd3786"
             ],
             [
              0.5555555555555556,
              "#d8576b"
             ],
             [
              0.6666666666666666,
              "#ed7953"
             ],
             [
              0.7777777777777778,
              "#fb9f3a"
             ],
             [
              0.8888888888888888,
              "#fdca26"
             ],
             [
              1,
              "#f0f921"
             ]
            ],
            "type": "histogram2d"
           }
          ],
          "histogram2dcontour": [
           {
            "colorbar": {
             "outlinewidth": 0,
             "ticks": ""
            },
            "colorscale": [
             [
              0,
              "#0d0887"
             ],
             [
              0.1111111111111111,
              "#46039f"
             ],
             [
              0.2222222222222222,
              "#7201a8"
             ],
             [
              0.3333333333333333,
              "#9c179e"
             ],
             [
              0.4444444444444444,
              "#bd3786"
             ],
             [
              0.5555555555555556,
              "#d8576b"
             ],
             [
              0.6666666666666666,
              "#ed7953"
             ],
             [
              0.7777777777777778,
              "#fb9f3a"
             ],
             [
              0.8888888888888888,
              "#fdca26"
             ],
             [
              1,
              "#f0f921"
             ]
            ],
            "type": "histogram2dcontour"
           }
          ],
          "mesh3d": [
           {
            "colorbar": {
             "outlinewidth": 0,
             "ticks": ""
            },
            "type": "mesh3d"
           }
          ],
          "parcoords": [
           {
            "line": {
             "colorbar": {
              "outlinewidth": 0,
              "ticks": ""
             }
            },
            "type": "parcoords"
           }
          ],
          "pie": [
           {
            "automargin": true,
            "type": "pie"
           }
          ],
          "scatter": [
           {
            "fillpattern": {
             "fillmode": "overlay",
             "size": 10,
             "solidity": 0.2
            },
            "type": "scatter"
           }
          ],
          "scatter3d": [
           {
            "line": {
             "colorbar": {
              "outlinewidth": 0,
              "ticks": ""
             }
            },
            "marker": {
             "colorbar": {
              "outlinewidth": 0,
              "ticks": ""
             }
            },
            "type": "scatter3d"
           }
          ],
          "scattercarpet": [
           {
            "marker": {
             "colorbar": {
              "outlinewidth": 0,
              "ticks": ""
             }
            },
            "type": "scattercarpet"
           }
          ],
          "scattergeo": [
           {
            "marker": {
             "colorbar": {
              "outlinewidth": 0,
              "ticks": ""
             }
            },
            "type": "scattergeo"
           }
          ],
          "scattergl": [
           {
            "marker": {
             "colorbar": {
              "outlinewidth": 0,
              "ticks": ""
             }
            },
            "type": "scattergl"
           }
          ],
          "scattermapbox": [
           {
            "marker": {
             "colorbar": {
              "outlinewidth": 0,
              "ticks": ""
             }
            },
            "type": "scattermapbox"
           }
          ],
          "scatterpolar": [
           {
            "marker": {
             "colorbar": {
              "outlinewidth": 0,
              "ticks": ""
             }
            },
            "type": "scatterpolar"
           }
          ],
          "scatterpolargl": [
           {
            "marker": {
             "colorbar": {
              "outlinewidth": 0,
              "ticks": ""
             }
            },
            "type": "scatterpolargl"
           }
          ],
          "scatterternary": [
           {
            "marker": {
             "colorbar": {
              "outlinewidth": 0,
              "ticks": ""
             }
            },
            "type": "scatterternary"
           }
          ],
          "surface": [
           {
            "colorbar": {
             "outlinewidth": 0,
             "ticks": ""
            },
            "colorscale": [
             [
              0,
              "#0d0887"
             ],
             [
              0.1111111111111111,
              "#46039f"
             ],
             [
              0.2222222222222222,
              "#7201a8"
             ],
             [
              0.3333333333333333,
              "#9c179e"
             ],
             [
              0.4444444444444444,
              "#bd3786"
             ],
             [
              0.5555555555555556,
              "#d8576b"
             ],
             [
              0.6666666666666666,
              "#ed7953"
             ],
             [
              0.7777777777777778,
              "#fb9f3a"
             ],
             [
              0.8888888888888888,
              "#fdca26"
             ],
             [
              1,
              "#f0f921"
             ]
            ],
            "type": "surface"
           }
          ],
          "table": [
           {
            "cells": {
             "fill": {
              "color": "#EBF0F8"
             },
             "line": {
              "color": "white"
             }
            },
            "header": {
             "fill": {
              "color": "#C8D4E3"
             },
             "line": {
              "color": "white"
             }
            },
            "type": "table"
           }
          ]
         },
         "layout": {
          "annotationdefaults": {
           "arrowcolor": "#2a3f5f",
           "arrowhead": 0,
           "arrowwidth": 1
          },
          "autotypenumbers": "strict",
          "coloraxis": {
           "colorbar": {
            "outlinewidth": 0,
            "ticks": ""
           }
          },
          "colorscale": {
           "diverging": [
            [
             0,
             "#8e0152"
            ],
            [
             0.1,
             "#c51b7d"
            ],
            [
             0.2,
             "#de77ae"
            ],
            [
             0.3,
             "#f1b6da"
            ],
            [
             0.4,
             "#fde0ef"
            ],
            [
             0.5,
             "#f7f7f7"
            ],
            [
             0.6,
             "#e6f5d0"
            ],
            [
             0.7,
             "#b8e186"
            ],
            [
             0.8,
             "#7fbc41"
            ],
            [
             0.9,
             "#4d9221"
            ],
            [
             1,
             "#276419"
            ]
           ],
           "sequential": [
            [
             0,
             "#0d0887"
            ],
            [
             0.1111111111111111,
             "#46039f"
            ],
            [
             0.2222222222222222,
             "#7201a8"
            ],
            [
             0.3333333333333333,
             "#9c179e"
            ],
            [
             0.4444444444444444,
             "#bd3786"
            ],
            [
             0.5555555555555556,
             "#d8576b"
            ],
            [
             0.6666666666666666,
             "#ed7953"
            ],
            [
             0.7777777777777778,
             "#fb9f3a"
            ],
            [
             0.8888888888888888,
             "#fdca26"
            ],
            [
             1,
             "#f0f921"
            ]
           ],
           "sequentialminus": [
            [
             0,
             "#0d0887"
            ],
            [
             0.1111111111111111,
             "#46039f"
            ],
            [
             0.2222222222222222,
             "#7201a8"
            ],
            [
             0.3333333333333333,
             "#9c179e"
            ],
            [
             0.4444444444444444,
             "#bd3786"
            ],
            [
             0.5555555555555556,
             "#d8576b"
            ],
            [
             0.6666666666666666,
             "#ed7953"
            ],
            [
             0.7777777777777778,
             "#fb9f3a"
            ],
            [
             0.8888888888888888,
             "#fdca26"
            ],
            [
             1,
             "#f0f921"
            ]
           ]
          },
          "colorway": [
           "#636efa",
           "#EF553B",
           "#00cc96",
           "#ab63fa",
           "#FFA15A",
           "#19d3f3",
           "#FF6692",
           "#B6E880",
           "#FF97FF",
           "#FECB52"
          ],
          "font": {
           "color": "#2a3f5f"
          },
          "geo": {
           "bgcolor": "white",
           "lakecolor": "white",
           "landcolor": "white",
           "showlakes": true,
           "showland": true,
           "subunitcolor": "#C8D4E3"
          },
          "hoverlabel": {
           "align": "left"
          },
          "hovermode": "closest",
          "mapbox": {
           "style": "light"
          },
          "paper_bgcolor": "white",
          "plot_bgcolor": "white",
          "polar": {
           "angularaxis": {
            "gridcolor": "#EBF0F8",
            "linecolor": "#EBF0F8",
            "ticks": ""
           },
           "bgcolor": "white",
           "radialaxis": {
            "gridcolor": "#EBF0F8",
            "linecolor": "#EBF0F8",
            "ticks": ""
           }
          },
          "scene": {
           "xaxis": {
            "backgroundcolor": "white",
            "gridcolor": "#DFE8F3",
            "gridwidth": 2,
            "linecolor": "#EBF0F8",
            "showbackground": true,
            "ticks": "",
            "zerolinecolor": "#EBF0F8"
           },
           "yaxis": {
            "backgroundcolor": "white",
            "gridcolor": "#DFE8F3",
            "gridwidth": 2,
            "linecolor": "#EBF0F8",
            "showbackground": true,
            "ticks": "",
            "zerolinecolor": "#EBF0F8"
           },
           "zaxis": {
            "backgroundcolor": "white",
            "gridcolor": "#DFE8F3",
            "gridwidth": 2,
            "linecolor": "#EBF0F8",
            "showbackground": true,
            "ticks": "",
            "zerolinecolor": "#EBF0F8"
           }
          },
          "shapedefaults": {
           "line": {
            "color": "#2a3f5f"
           }
          },
          "ternary": {
           "aaxis": {
            "gridcolor": "#DFE8F3",
            "linecolor": "#A2B1C6",
            "ticks": ""
           },
           "baxis": {
            "gridcolor": "#DFE8F3",
            "linecolor": "#A2B1C6",
            "ticks": ""
           },
           "bgcolor": "white",
           "caxis": {
            "gridcolor": "#DFE8F3",
            "linecolor": "#A2B1C6",
            "ticks": ""
           }
          },
          "title": {
           "x": 0.05
          },
          "xaxis": {
           "automargin": true,
           "gridcolor": "#EBF0F8",
           "linecolor": "#EBF0F8",
           "ticks": "",
           "title": {
            "standoff": 15
           },
           "zerolinecolor": "#EBF0F8",
           "zerolinewidth": 2
          },
          "yaxis": {
           "automargin": true,
           "gridcolor": "#EBF0F8",
           "linecolor": "#EBF0F8",
           "ticks": "",
           "title": {
            "standoff": 15
           },
           "zerolinecolor": "#EBF0F8",
           "zerolinewidth": 2
          }
         }
        },
        "xaxis": {
         "anchor": "y",
         "domain": [
          0,
          1
         ],
         "title": {
          "text": "PC1"
         }
        },
        "yaxis": {
         "anchor": "x",
         "domain": [
          0,
          1
         ],
         "title": {
          "text": "PC2"
         }
        }
       }
      }
     },
     "metadata": {},
     "output_type": "display_data"
    }
   ],
   "source": [
    "# Créer un DataFrame des centroïdes avec les noms de colonnes\n",
    "centroids_df = pd.DataFrame(centroids, columns=df_numeric.columns)\n",
    "\n",
    "# Appliquer la transformation PCA\n",
    "centroids_pca = pca.transform(centroids_df)  # Utiliser un DataFrame avec les mêmes colonnes\n",
    "\n",
    "# Convertir en DataFrame pour manipulation\n",
    "centroids_pca_df = pd.DataFrame(centroids_pca, columns=['PC1', 'PC2'])\n",
    "centroids_pca_df['cluster'] = range(n_clusters)  # Ajouter les étiquettes des clusters\n",
    "\n",
    "t.add_centroids(fig, centroids_pca_df)\n"
   ]
  },
  {
   "cell_type": "markdown",
   "metadata": {},
   "source": [
    "# Gaussian Mixture"
   ]
  },
  {
   "cell_type": "markdown",
   "metadata": {},
   "source": [
    "### Silhouette Score"
   ]
  },
  {
   "cell_type": "code",
   "execution_count": 13,
   "metadata": {},
   "outputs": [
    {
     "data": {
      "application/vnd.plotly.v1+json": {
       "config": {
        "plotlyServerURL": "https://plot.ly"
       },
       "data": [
        {
         "line": {
          "color": "blue"
         },
         "marker": {
          "size": 8
         },
         "mode": "lines+markers",
         "name": "Silhouette Score",
         "type": "scatter",
         "x": [
          2,
          3,
          4,
          5,
          6,
          7,
          8,
          9,
          10
         ],
         "y": [
          0.22581499620793583,
          0.2922252020969163,
          0.20692835963233314,
          0.1972355363129858,
          0.23466379747084384,
          0.2307346400452514,
          0.15483692491515305,
          0.16057784501511352,
          0.1586947608009106
         ]
        }
       ],
       "layout": {
        "template": {
         "data": {
          "bar": [
           {
            "error_x": {
             "color": "#2a3f5f"
            },
            "error_y": {
             "color": "#2a3f5f"
            },
            "marker": {
             "line": {
              "color": "white",
              "width": 0.5
             },
             "pattern": {
              "fillmode": "overlay",
              "size": 10,
              "solidity": 0.2
             }
            },
            "type": "bar"
           }
          ],
          "barpolar": [
           {
            "marker": {
             "line": {
              "color": "white",
              "width": 0.5
             },
             "pattern": {
              "fillmode": "overlay",
              "size": 10,
              "solidity": 0.2
             }
            },
            "type": "barpolar"
           }
          ],
          "carpet": [
           {
            "aaxis": {
             "endlinecolor": "#2a3f5f",
             "gridcolor": "#C8D4E3",
             "linecolor": "#C8D4E3",
             "minorgridcolor": "#C8D4E3",
             "startlinecolor": "#2a3f5f"
            },
            "baxis": {
             "endlinecolor": "#2a3f5f",
             "gridcolor": "#C8D4E3",
             "linecolor": "#C8D4E3",
             "minorgridcolor": "#C8D4E3",
             "startlinecolor": "#2a3f5f"
            },
            "type": "carpet"
           }
          ],
          "choropleth": [
           {
            "colorbar": {
             "outlinewidth": 0,
             "ticks": ""
            },
            "type": "choropleth"
           }
          ],
          "contour": [
           {
            "colorbar": {
             "outlinewidth": 0,
             "ticks": ""
            },
            "colorscale": [
             [
              0,
              "#0d0887"
             ],
             [
              0.1111111111111111,
              "#46039f"
             ],
             [
              0.2222222222222222,
              "#7201a8"
             ],
             [
              0.3333333333333333,
              "#9c179e"
             ],
             [
              0.4444444444444444,
              "#bd3786"
             ],
             [
              0.5555555555555556,
              "#d8576b"
             ],
             [
              0.6666666666666666,
              "#ed7953"
             ],
             [
              0.7777777777777778,
              "#fb9f3a"
             ],
             [
              0.8888888888888888,
              "#fdca26"
             ],
             [
              1,
              "#f0f921"
             ]
            ],
            "type": "contour"
           }
          ],
          "contourcarpet": [
           {
            "colorbar": {
             "outlinewidth": 0,
             "ticks": ""
            },
            "type": "contourcarpet"
           }
          ],
          "heatmap": [
           {
            "colorbar": {
             "outlinewidth": 0,
             "ticks": ""
            },
            "colorscale": [
             [
              0,
              "#0d0887"
             ],
             [
              0.1111111111111111,
              "#46039f"
             ],
             [
              0.2222222222222222,
              "#7201a8"
             ],
             [
              0.3333333333333333,
              "#9c179e"
             ],
             [
              0.4444444444444444,
              "#bd3786"
             ],
             [
              0.5555555555555556,
              "#d8576b"
             ],
             [
              0.6666666666666666,
              "#ed7953"
             ],
             [
              0.7777777777777778,
              "#fb9f3a"
             ],
             [
              0.8888888888888888,
              "#fdca26"
             ],
             [
              1,
              "#f0f921"
             ]
            ],
            "type": "heatmap"
           }
          ],
          "heatmapgl": [
           {
            "colorbar": {
             "outlinewidth": 0,
             "ticks": ""
            },
            "colorscale": [
             [
              0,
              "#0d0887"
             ],
             [
              0.1111111111111111,
              "#46039f"
             ],
             [
              0.2222222222222222,
              "#7201a8"
             ],
             [
              0.3333333333333333,
              "#9c179e"
             ],
             [
              0.4444444444444444,
              "#bd3786"
             ],
             [
              0.5555555555555556,
              "#d8576b"
             ],
             [
              0.6666666666666666,
              "#ed7953"
             ],
             [
              0.7777777777777778,
              "#fb9f3a"
             ],
             [
              0.8888888888888888,
              "#fdca26"
             ],
             [
              1,
              "#f0f921"
             ]
            ],
            "type": "heatmapgl"
           }
          ],
          "histogram": [
           {
            "marker": {
             "pattern": {
              "fillmode": "overlay",
              "size": 10,
              "solidity": 0.2
             }
            },
            "type": "histogram"
           }
          ],
          "histogram2d": [
           {
            "colorbar": {
             "outlinewidth": 0,
             "ticks": ""
            },
            "colorscale": [
             [
              0,
              "#0d0887"
             ],
             [
              0.1111111111111111,
              "#46039f"
             ],
             [
              0.2222222222222222,
              "#7201a8"
             ],
             [
              0.3333333333333333,
              "#9c179e"
             ],
             [
              0.4444444444444444,
              "#bd3786"
             ],
             [
              0.5555555555555556,
              "#d8576b"
             ],
             [
              0.6666666666666666,
              "#ed7953"
             ],
             [
              0.7777777777777778,
              "#fb9f3a"
             ],
             [
              0.8888888888888888,
              "#fdca26"
             ],
             [
              1,
              "#f0f921"
             ]
            ],
            "type": "histogram2d"
           }
          ],
          "histogram2dcontour": [
           {
            "colorbar": {
             "outlinewidth": 0,
             "ticks": ""
            },
            "colorscale": [
             [
              0,
              "#0d0887"
             ],
             [
              0.1111111111111111,
              "#46039f"
             ],
             [
              0.2222222222222222,
              "#7201a8"
             ],
             [
              0.3333333333333333,
              "#9c179e"
             ],
             [
              0.4444444444444444,
              "#bd3786"
             ],
             [
              0.5555555555555556,
              "#d8576b"
             ],
             [
              0.6666666666666666,
              "#ed7953"
             ],
             [
              0.7777777777777778,
              "#fb9f3a"
             ],
             [
              0.8888888888888888,
              "#fdca26"
             ],
             [
              1,
              "#f0f921"
             ]
            ],
            "type": "histogram2dcontour"
           }
          ],
          "mesh3d": [
           {
            "colorbar": {
             "outlinewidth": 0,
             "ticks": ""
            },
            "type": "mesh3d"
           }
          ],
          "parcoords": [
           {
            "line": {
             "colorbar": {
              "outlinewidth": 0,
              "ticks": ""
             }
            },
            "type": "parcoords"
           }
          ],
          "pie": [
           {
            "automargin": true,
            "type": "pie"
           }
          ],
          "scatter": [
           {
            "fillpattern": {
             "fillmode": "overlay",
             "size": 10,
             "solidity": 0.2
            },
            "type": "scatter"
           }
          ],
          "scatter3d": [
           {
            "line": {
             "colorbar": {
              "outlinewidth": 0,
              "ticks": ""
             }
            },
            "marker": {
             "colorbar": {
              "outlinewidth": 0,
              "ticks": ""
             }
            },
            "type": "scatter3d"
           }
          ],
          "scattercarpet": [
           {
            "marker": {
             "colorbar": {
              "outlinewidth": 0,
              "ticks": ""
             }
            },
            "type": "scattercarpet"
           }
          ],
          "scattergeo": [
           {
            "marker": {
             "colorbar": {
              "outlinewidth": 0,
              "ticks": ""
             }
            },
            "type": "scattergeo"
           }
          ],
          "scattergl": [
           {
            "marker": {
             "colorbar": {
              "outlinewidth": 0,
              "ticks": ""
             }
            },
            "type": "scattergl"
           }
          ],
          "scattermapbox": [
           {
            "marker": {
             "colorbar": {
              "outlinewidth": 0,
              "ticks": ""
             }
            },
            "type": "scattermapbox"
           }
          ],
          "scatterpolar": [
           {
            "marker": {
             "colorbar": {
              "outlinewidth": 0,
              "ticks": ""
             }
            },
            "type": "scatterpolar"
           }
          ],
          "scatterpolargl": [
           {
            "marker": {
             "colorbar": {
              "outlinewidth": 0,
              "ticks": ""
             }
            },
            "type": "scatterpolargl"
           }
          ],
          "scatterternary": [
           {
            "marker": {
             "colorbar": {
              "outlinewidth": 0,
              "ticks": ""
             }
            },
            "type": "scatterternary"
           }
          ],
          "surface": [
           {
            "colorbar": {
             "outlinewidth": 0,
             "ticks": ""
            },
            "colorscale": [
             [
              0,
              "#0d0887"
             ],
             [
              0.1111111111111111,
              "#46039f"
             ],
             [
              0.2222222222222222,
              "#7201a8"
             ],
             [
              0.3333333333333333,
              "#9c179e"
             ],
             [
              0.4444444444444444,
              "#bd3786"
             ],
             [
              0.5555555555555556,
              "#d8576b"
             ],
             [
              0.6666666666666666,
              "#ed7953"
             ],
             [
              0.7777777777777778,
              "#fb9f3a"
             ],
             [
              0.8888888888888888,
              "#fdca26"
             ],
             [
              1,
              "#f0f921"
             ]
            ],
            "type": "surface"
           }
          ],
          "table": [
           {
            "cells": {
             "fill": {
              "color": "#EBF0F8"
             },
             "line": {
              "color": "white"
             }
            },
            "header": {
             "fill": {
              "color": "#C8D4E3"
             },
             "line": {
              "color": "white"
             }
            },
            "type": "table"
           }
          ]
         },
         "layout": {
          "annotationdefaults": {
           "arrowcolor": "#2a3f5f",
           "arrowhead": 0,
           "arrowwidth": 1
          },
          "autotypenumbers": "strict",
          "coloraxis": {
           "colorbar": {
            "outlinewidth": 0,
            "ticks": ""
           }
          },
          "colorscale": {
           "diverging": [
            [
             0,
             "#8e0152"
            ],
            [
             0.1,
             "#c51b7d"
            ],
            [
             0.2,
             "#de77ae"
            ],
            [
             0.3,
             "#f1b6da"
            ],
            [
             0.4,
             "#fde0ef"
            ],
            [
             0.5,
             "#f7f7f7"
            ],
            [
             0.6,
             "#e6f5d0"
            ],
            [
             0.7,
             "#b8e186"
            ],
            [
             0.8,
             "#7fbc41"
            ],
            [
             0.9,
             "#4d9221"
            ],
            [
             1,
             "#276419"
            ]
           ],
           "sequential": [
            [
             0,
             "#0d0887"
            ],
            [
             0.1111111111111111,
             "#46039f"
            ],
            [
             0.2222222222222222,
             "#7201a8"
            ],
            [
             0.3333333333333333,
             "#9c179e"
            ],
            [
             0.4444444444444444,
             "#bd3786"
            ],
            [
             0.5555555555555556,
             "#d8576b"
            ],
            [
             0.6666666666666666,
             "#ed7953"
            ],
            [
             0.7777777777777778,
             "#fb9f3a"
            ],
            [
             0.8888888888888888,
             "#fdca26"
            ],
            [
             1,
             "#f0f921"
            ]
           ],
           "sequentialminus": [
            [
             0,
             "#0d0887"
            ],
            [
             0.1111111111111111,
             "#46039f"
            ],
            [
             0.2222222222222222,
             "#7201a8"
            ],
            [
             0.3333333333333333,
             "#9c179e"
            ],
            [
             0.4444444444444444,
             "#bd3786"
            ],
            [
             0.5555555555555556,
             "#d8576b"
            ],
            [
             0.6666666666666666,
             "#ed7953"
            ],
            [
             0.7777777777777778,
             "#fb9f3a"
            ],
            [
             0.8888888888888888,
             "#fdca26"
            ],
            [
             1,
             "#f0f921"
            ]
           ]
          },
          "colorway": [
           "#636efa",
           "#EF553B",
           "#00cc96",
           "#ab63fa",
           "#FFA15A",
           "#19d3f3",
           "#FF6692",
           "#B6E880",
           "#FF97FF",
           "#FECB52"
          ],
          "font": {
           "color": "#2a3f5f"
          },
          "geo": {
           "bgcolor": "white",
           "lakecolor": "white",
           "landcolor": "white",
           "showlakes": true,
           "showland": true,
           "subunitcolor": "#C8D4E3"
          },
          "hoverlabel": {
           "align": "left"
          },
          "hovermode": "closest",
          "mapbox": {
           "style": "light"
          },
          "paper_bgcolor": "white",
          "plot_bgcolor": "white",
          "polar": {
           "angularaxis": {
            "gridcolor": "#EBF0F8",
            "linecolor": "#EBF0F8",
            "ticks": ""
           },
           "bgcolor": "white",
           "radialaxis": {
            "gridcolor": "#EBF0F8",
            "linecolor": "#EBF0F8",
            "ticks": ""
           }
          },
          "scene": {
           "xaxis": {
            "backgroundcolor": "white",
            "gridcolor": "#DFE8F3",
            "gridwidth": 2,
            "linecolor": "#EBF0F8",
            "showbackground": true,
            "ticks": "",
            "zerolinecolor": "#EBF0F8"
           },
           "yaxis": {
            "backgroundcolor": "white",
            "gridcolor": "#DFE8F3",
            "gridwidth": 2,
            "linecolor": "#EBF0F8",
            "showbackground": true,
            "ticks": "",
            "zerolinecolor": "#EBF0F8"
           },
           "zaxis": {
            "backgroundcolor": "white",
            "gridcolor": "#DFE8F3",
            "gridwidth": 2,
            "linecolor": "#EBF0F8",
            "showbackground": true,
            "ticks": "",
            "zerolinecolor": "#EBF0F8"
           }
          },
          "shapedefaults": {
           "line": {
            "color": "#2a3f5f"
           }
          },
          "ternary": {
           "aaxis": {
            "gridcolor": "#DFE8F3",
            "linecolor": "#A2B1C6",
            "ticks": ""
           },
           "baxis": {
            "gridcolor": "#DFE8F3",
            "linecolor": "#A2B1C6",
            "ticks": ""
           },
           "bgcolor": "white",
           "caxis": {
            "gridcolor": "#DFE8F3",
            "linecolor": "#A2B1C6",
            "ticks": ""
           }
          },
          "title": {
           "x": 0.05
          },
          "xaxis": {
           "automargin": true,
           "gridcolor": "#EBF0F8",
           "linecolor": "#EBF0F8",
           "ticks": "",
           "title": {
            "standoff": 15
           },
           "zerolinecolor": "#EBF0F8",
           "zerolinewidth": 2
          },
          "yaxis": {
           "automargin": true,
           "gridcolor": "#EBF0F8",
           "linecolor": "#EBF0F8",
           "ticks": "",
           "title": {
            "standoff": 15
           },
           "zerolinecolor": "#EBF0F8",
           "zerolinewidth": 2
          }
         }
        },
        "title": {
         "text": "Méthode de la silhouette pour Gausian Mixture"
        },
        "xaxis": {
         "title": {
          "text": "Nombre de clusters"
         }
        },
        "yaxis": {
         "title": {
          "text": "Indice de silhouette moyen"
         }
        }
       }
      }
     },
     "metadata": {},
     "output_type": "display_data"
    }
   ],
   "source": [
    "# Liste pour stocker les scores de silhouette\n",
    "silhouette_scores_gmm = {}\n",
    "\n",
    "    \n",
    "# Tester de 2 à 10 clusters\n",
    "for n_clusters in range(2, 11):\n",
    "    gmm, label, _ = t.gausian_mixture_clustering(df_standardise, n_clusters)\n",
    "    score = silhouette_score(df_standardise, label)\n",
    "    silhouette_scores_gmm[n_clusters] = score\n",
    "\n",
    "\n",
    "#Afficher le silhouette score\n",
    "t.display_silhouette_scores(silhouette_scores_gmm, 'Gausian Mixture')\n",
    "\n",
    "#choix du nombre de cluster \n",
    "n_clusters = [k for k, v in silhouette_scores_gmm.items() if v == max(silhouette_scores_gmm.values())][0]\n"
   ]
  },
  {
   "cell_type": "markdown",
   "metadata": {},
   "source": [
    "### Clustering"
   ]
  },
  {
   "cell_type": "code",
   "execution_count": 14,
   "metadata": {},
   "outputs": [],
   "source": [
    "kmeans, labels, centroids = t.gausian_mixture_clustering(df_standardise, n_clusters)"
   ]
  },
  {
   "cell_type": "code",
   "execution_count": 15,
   "metadata": {},
   "outputs": [
    {
     "data": {
      "application/vnd.plotly.v1+json": {
       "config": {
        "plotlyServerURL": "https://plot.ly"
       },
       "data": [
        {
         "hovertemplate": "<b>%{hovertext}</b><br><br>cluster=2<br>PC1=%{x}<br>PC2=%{y}<extra></extra>",
         "hovertext": [
          "Finland",
          "Denmark",
          "Switzerland",
          "Iceland",
          "Norway",
          "Netherlands",
          "Sweden",
          "New Zealand",
          "Austria",
          "Luxembourg",
          "Canada",
          "Australia",
          "United Kingdom",
          "Ireland",
          "Germany",
          "United States",
          "United Arab Emirates",
          "Malta",
          "Singapore",
          "Uzbekistan",
          "Bahrain",
          "Thailand",
          "Hong Kong S.A.R. of China",
          "Malaysia"
         ],
         "legendgroup": "2",
         "marker": {
          "color": "#3366CC",
          "symbol": "circle"
         },
         "mode": "markers",
         "name": "2",
         "orientation": "v",
         "showlegend": true,
         "type": "scatter",
         "x": [
          3.749509422437874,
          3.839590212143542,
          3.663110872252431,
          3.108673654268542,
          3.8156549683605467,
          3.3163443412095464,
          3.4689160192437076,
          3.5196237810946647,
          2.9836471863888905,
          3.321343197549372,
          3.2408749679188524,
          3.233580614504789,
          2.7992458547429333,
          3.246972052878093,
          2.7012466329713303,
          2.1036425432183328,
          2.237158664553594,
          2.5059533130170375,
          3.6699333329682315,
          1.5307254449433247,
          1.7114469913207857,
          1.0380187081131802,
          2.0348480404960125,
          0.7154748300047876
         ],
         "xaxis": "x",
         "y": [
          1.0713333420488669,
          1.71990572976722,
          1.399595428680102,
          1.0644544227762698,
          1.7344215042110327,
          1.7680963003291623,
          1.725595739239298,
          2.180446489585741,
          0.7977081027179347,
          0.6546438422399308,
          1.379777160511814,
          1.543695370865886,
          1.67359051402664,
          1.3576274154204728,
          0.8640041854926771,
          0.5003309120536743,
          1.0469302989480371,
          1.1180774686471535,
          1.4850539691139062,
          2.355048808006775,
          0.5992207686718757,
          1.0280473278794355,
          0.9091344019916121,
          0.4075069191321778
         ],
         "yaxis": "y"
        },
        {
         "hovertemplate": "<b>%{hovertext}</b><br><br>cluster=0<br>PC1=%{x}<br>PC2=%{y}<extra></extra>",
         "hovertext": [
          "Israel",
          "Costa Rica",
          "Czech Republic",
          "Belgium",
          "France",
          "Mexico",
          "Taiwan Province of China",
          "Uruguay",
          "Saudi Arabia",
          "Spain",
          "Guatemala",
          "Italy",
          "Brazil",
          "Slovenia",
          "El Salvador",
          "Panama",
          "Slovakia",
          "Chile",
          "Lithuania",
          "Trinidad and Tobago",
          "Poland",
          "Colombia",
          "Cyprus",
          "Nicaragua",
          "Romania",
          "Kuwait",
          "Mauritius",
          "Kazakhstan",
          "Estonia",
          "Philippines",
          "Hungary",
          "Argentina",
          "Honduras",
          "Latvia",
          "Ecuador",
          "Portugal",
          "Jamaica",
          "South Korea",
          "Japan",
          "Peru",
          "Serbia",
          "Bolivia",
          "Paraguay",
          "Dominican Republic",
          "Bosnia and Herzegovina",
          "Moldova",
          "Tajikistan",
          "Montenegro",
          "Russia",
          "Kyrgyzstan",
          "Belarus",
          "North Cyprus",
          "Greece",
          "Croatia",
          "Libya",
          "Vietnam",
          "Azerbaijan",
          "Macedonia",
          "Turkey",
          "China",
          "Bulgaria",
          "Venezuela",
          "Algeria",
          "Lebanon",
          "Armenia",
          "Jordan",
          "Ukraine",
          "Palestinian Territories"
         ],
         "legendgroup": "0",
         "marker": {
          "color": "#DC3912",
          "symbol": "circle"
         },
         "mode": "markers",
         "name": "0",
         "orientation": "v",
         "showlegend": true,
         "type": "scatter",
         "x": [
          1.8978893613076424,
          1.9423916926827425,
          1.6339861074610371,
          2.2077059895183573,
          2.364889509954152,
          1.0385228099549815,
          1.561905161815255,
          1.7955317378963491,
          1.561776881308639,
          1.7221834207127154,
          0.5819563166428612,
          1.1489155206932151,
          0.9015030233017137,
          1.9890240475085177,
          0.4127038476482683,
          1.372568218948886,
          1.037272891240616,
          0.9206678524784955,
          1.0536443354338263,
          0.9402971914867928,
          1.4721454188701841,
          0.7781250459632646,
          1.1063539050007678,
          0.6857097379865712,
          0.6557914391946846,
          1.4250972995170048,
          1.2028526486468638,
          1.041465002189482,
          1.7602660014305502,
          0.4503444780404644,
          0.7324632356840678,
          0.957468630310369,
          0.26731675171079994,
          0.6254583355399467,
          0.6303121449068485,
          1.3697693303182308,
          0.5857242895319117,
          0.5943506847127074,
          1.7454374091454445,
          0.36616488355944526,
          0.43563904207021503,
          -0.004581867839468401,
          0.6784847270036867,
          0.7655319852001368,
          -0.2263812178166673,
          -0.428881289082515,
          -0.02499829839109971,
          0.1556698565694833,
          0.2863132657625845,
          0.023945418301337916,
          0.36562696929580524,
          1.2743452793501608,
          -0.08012645625979196,
          0.42048322384020187,
          0.16960223131593175,
          0.4855437524039514,
          0.3606099456276269,
          -0.18525205165670056,
          -0.1659976041252979,
          0.5501582701120585,
          0.24171319783014245,
          -0.5171368876864628,
          -0.9734839723526051,
          -0.9743723992657102,
          -0.7321358497812592,
          -0.3976205363494144,
          -0.8559641898873868,
          -1.368426916257076
         ],
         "xaxis": "x",
         "y": [
          -0.24874625065736647,
          -0.5080247481151022,
          -1.791259163766761,
          -0.4909778126687551,
          -0.6982110924043337,
          -0.9898039961647984,
          -0.8457591352302058,
          -0.24967348139571463,
          -0.8258310846686016,
          -0.9890585807633624,
          0.1371241096938358,
          -1.4326861039634542,
          -0.7161548507564074,
          -0.6747038951298979,
          -0.3896428507449288,
          -1.1234311483402037,
          -1.6145852201553585,
          -1.0242749661487074,
          -1.7548029147187716,
          -0.5231831389022648,
          -0.9662391850369304,
          -1.1511427131780128,
          -0.48131865117997485,
          0.5838731682944526,
          -1.501024616037072,
          -0.674236524555849,
          -0.2378878095915972,
          -0.6218696752947369,
          -0.3907414231129299,
          -0.002684298448735167,
          -1.9251795926024282,
          -1.3771776568832836,
          0.6326381338022031,
          -1.7246180375928866,
          -0.63930874268874,
          -1.6182765523200486,
          -0.9258103728865191,
          -1.2119889944797015,
          -1.4413530604935991,
          -1.1844632312108998,
          -1.0301244764746618,
          -0.23661601335060684,
          -0.06127090795134585,
          -0.6052453826369191,
          -0.5263186128073454,
          -0.7569673483298369,
          0.6693768730244194,
          -1.0766294224327075,
          -1.4723414059632718,
          0.8530919318376612,
          -1.1696552190201828,
          -0.04541853036112098,
          -2.786707247192126,
          -1.6365770408731348,
          -0.26261336158144605,
          -0.16763718572271508,
          -0.7056486476873619,
          -0.7343920433116459,
          -1.5460591180450172,
          -0.7014024876851028,
          -1.6601596118734134,
          -1.6212911658267741,
          -1.5143900227761078,
          -1.4630785368621348,
          -0.8560954457911252,
          -0.7190775597471012,
          -1.0071519681908037,
          -1.1725893616699712
         ],
         "yaxis": "y"
        },
        {
         "hovertemplate": "<b>%{hovertext}</b><br><br>cluster=1<br>PC1=%{x}<br>PC2=%{y}<extra></extra>",
         "hovertext": [
          "Kosovo",
          "Pakistan",
          "Mongolia",
          "Indonesia",
          "Ivory Coast",
          "Benin",
          "Maldives",
          "Congo (Brazzaville)",
          "Ghana",
          "Nepal",
          "Turkmenistan",
          "Morocco",
          "Cameroon",
          "Senegal",
          "Guinea",
          "Niger",
          "Laos",
          "Albania",
          "Cambodia",
          "Bangladesh",
          "Gabon",
          "South Africa",
          "Iraq",
          "Burkina Faso",
          "Gambia",
          "Mali",
          "Nigeria",
          "Georgia",
          "Iran",
          "Mozambique",
          "Kenya",
          "Namibia",
          "Liberia",
          "Uganda",
          "Chad",
          "Tunisia",
          "Mauritania",
          "Sri Lanka",
          "Congo (Kinshasa)",
          "Swaziland",
          "Myanmar",
          "Comoros",
          "Togo",
          "Ethiopia",
          "Madagascar",
          "Egypt",
          "Sierra Leone",
          "Burundi",
          "Zambia",
          "Haiti",
          "Lesotho",
          "India",
          "Malawi",
          "Yemen",
          "Botswana",
          "Tanzania",
          "Central African Republic",
          "Rwanda",
          "Zimbabwe",
          "South Sudan",
          "Afghanistan"
         ],
         "legendgroup": "1",
         "marker": {
          "color": "#FF9900",
          "symbol": "circle"
         },
         "mode": "markers",
         "name": "1",
         "orientation": "v",
         "showlegend": true,
         "type": "scatter",
         "x": [
          0.31387508309375517,
          -1.189250762020947,
          -0.07319369926117543,
          -0.05877694237145192,
          -2.252824001902734,
          -2.736632871759514,
          0.818130740793685,
          -1.6589938171545655,
          -1.3598201552110285,
          -0.7180148402532838,
          0.3583858495956411,
          -1.1704456948939737,
          -1.9776916804811586,
          -1.6531594314120335,
          -2.302298997556743,
          -2.595174770912949,
          -0.5260558575732055,
          -0.671516715047217,
          -0.5773864501850456,
          -0.6369670803330341,
          -0.9391120106675012,
          -0.836107801231833,
          -1.2378940997999017,
          -2.355653390013726,
          -2.0825458474365455,
          -2.401238224156035,
          -2.02494312143626,
          -0.888921721197074,
          -0.7908318694915368,
          -1.835861207932215,
          -1.462056530515092,
          -1.0354300550553184,
          -2.4299450796633106,
          -2.110279751334411,
          -3.466246219920182,
          -1.5054129300336123,
          -2.1093138504261932,
          -0.21769976007668213,
          -3.029984549374213,
          -1.9175473424074716,
          -0.597391116600837,
          -2.89344443342785,
          -3.235328292322437,
          -1.9607942976999584,
          -2.931748508389121,
          -1.3097211757639915,
          -3.267215176914018,
          -3.885944974287503,
          -2.116005444339117,
          -3.3484042867853376,
          -2.7567116312628404,
          -1.7686040844746242,
          -2.972265302680821,
          -2.511093521083143,
          -1.1349332582592937,
          -1.9084243687908018,
          -5.4596157258822355,
          -1.5518627793326065,
          -2.509353560685861,
          -4.594778939545712,
          -5.313317529242742
         ],
         "xaxis": "x",
         "y": [
          0.7192075610663178,
          0.6044698915098309,
          -0.25069800193309044,
          2.490652384795435,
          0.33743417882143767,
          0.9853194337331221,
          -0.14645887635002466,
          -0.19714044205858128,
          0.7227147099152922,
          1.1475394802619991,
          0.4196308572797166,
          -0.968656269011134,
          0.35409875344338615,
          -0.18991630870363338,
          0.9379821931408491,
          1.1181405061798733,
          1.580342970716247,
          -0.483228895449074,
          0.9080449844347045,
          0.8218766217808524,
          -1.4735298720493264,
          -0.7331773297815574,
          -0.8052406198976826,
          0.35820643293770194,
          2.4736655159221796,
          0.09080811597914919,
          0.4095682423931584,
          -0.49853512549569523,
          0.349839967632847,
          1.3871874757691012,
          1.8700479020099683,
          -1.0513379408980081,
          0.5689615266054431,
          0.7257576979662599,
          0.4043683298721774,
          -1.7638185408358709,
          -0.7536364050626879,
          0.16594201927461447,
          0.9989179127212008,
          -0.8211179984060436,
          3.628886865136137,
          0.42405856582615326,
          0.6316289202697386,
          0.6696755875400124,
          -0.1509738390748473,
          -1.0721335715552887,
          0.9259714317118277,
          1.1638497132076249,
          0.920014502322463,
          2.3298522858267683,
          -0.4249760216310803,
          1.0601640677939705,
          1.2351232228921978,
          -0.9629822063348514,
          -1.0522030864179424,
          1.6205397728781763,
          1.36477295797038,
          2.997132633047241,
          -0.15487879630666188,
          0.17601152995117256,
          -0.9025285178409923
         ],
         "yaxis": "y"
        }
       ],
       "layout": {
        "legend": {
         "title": {
          "text": "cluster"
         },
         "tracegroupgap": 0
        },
        "margin": {
         "t": 60
        },
        "showlegend": false,
        "template": {
         "data": {
          "bar": [
           {
            "error_x": {
             "color": "#2a3f5f"
            },
            "error_y": {
             "color": "#2a3f5f"
            },
            "marker": {
             "line": {
              "color": "white",
              "width": 0.5
             },
             "pattern": {
              "fillmode": "overlay",
              "size": 10,
              "solidity": 0.2
             }
            },
            "type": "bar"
           }
          ],
          "barpolar": [
           {
            "marker": {
             "line": {
              "color": "white",
              "width": 0.5
             },
             "pattern": {
              "fillmode": "overlay",
              "size": 10,
              "solidity": 0.2
             }
            },
            "type": "barpolar"
           }
          ],
          "carpet": [
           {
            "aaxis": {
             "endlinecolor": "#2a3f5f",
             "gridcolor": "#C8D4E3",
             "linecolor": "#C8D4E3",
             "minorgridcolor": "#C8D4E3",
             "startlinecolor": "#2a3f5f"
            },
            "baxis": {
             "endlinecolor": "#2a3f5f",
             "gridcolor": "#C8D4E3",
             "linecolor": "#C8D4E3",
             "minorgridcolor": "#C8D4E3",
             "startlinecolor": "#2a3f5f"
            },
            "type": "carpet"
           }
          ],
          "choropleth": [
           {
            "colorbar": {
             "outlinewidth": 0,
             "ticks": ""
            },
            "type": "choropleth"
           }
          ],
          "contour": [
           {
            "colorbar": {
             "outlinewidth": 0,
             "ticks": ""
            },
            "colorscale": [
             [
              0,
              "#0d0887"
             ],
             [
              0.1111111111111111,
              "#46039f"
             ],
             [
              0.2222222222222222,
              "#7201a8"
             ],
             [
              0.3333333333333333,
              "#9c179e"
             ],
             [
              0.4444444444444444,
              "#bd3786"
             ],
             [
              0.5555555555555556,
              "#d8576b"
             ],
             [
              0.6666666666666666,
              "#ed7953"
             ],
             [
              0.7777777777777778,
              "#fb9f3a"
             ],
             [
              0.8888888888888888,
              "#fdca26"
             ],
             [
              1,
              "#f0f921"
             ]
            ],
            "type": "contour"
           }
          ],
          "contourcarpet": [
           {
            "colorbar": {
             "outlinewidth": 0,
             "ticks": ""
            },
            "type": "contourcarpet"
           }
          ],
          "heatmap": [
           {
            "colorbar": {
             "outlinewidth": 0,
             "ticks": ""
            },
            "colorscale": [
             [
              0,
              "#0d0887"
             ],
             [
              0.1111111111111111,
              "#46039f"
             ],
             [
              0.2222222222222222,
              "#7201a8"
             ],
             [
              0.3333333333333333,
              "#9c179e"
             ],
             [
              0.4444444444444444,
              "#bd3786"
             ],
             [
              0.5555555555555556,
              "#d8576b"
             ],
             [
              0.6666666666666666,
              "#ed7953"
             ],
             [
              0.7777777777777778,
              "#fb9f3a"
             ],
             [
              0.8888888888888888,
              "#fdca26"
             ],
             [
              1,
              "#f0f921"
             ]
            ],
            "type": "heatmap"
           }
          ],
          "heatmapgl": [
           {
            "colorbar": {
             "outlinewidth": 0,
             "ticks": ""
            },
            "colorscale": [
             [
              0,
              "#0d0887"
             ],
             [
              0.1111111111111111,
              "#46039f"
             ],
             [
              0.2222222222222222,
              "#7201a8"
             ],
             [
              0.3333333333333333,
              "#9c179e"
             ],
             [
              0.4444444444444444,
              "#bd3786"
             ],
             [
              0.5555555555555556,
              "#d8576b"
             ],
             [
              0.6666666666666666,
              "#ed7953"
             ],
             [
              0.7777777777777778,
              "#fb9f3a"
             ],
             [
              0.8888888888888888,
              "#fdca26"
             ],
             [
              1,
              "#f0f921"
             ]
            ],
            "type": "heatmapgl"
           }
          ],
          "histogram": [
           {
            "marker": {
             "pattern": {
              "fillmode": "overlay",
              "size": 10,
              "solidity": 0.2
             }
            },
            "type": "histogram"
           }
          ],
          "histogram2d": [
           {
            "colorbar": {
             "outlinewidth": 0,
             "ticks": ""
            },
            "colorscale": [
             [
              0,
              "#0d0887"
             ],
             [
              0.1111111111111111,
              "#46039f"
             ],
             [
              0.2222222222222222,
              "#7201a8"
             ],
             [
              0.3333333333333333,
              "#9c179e"
             ],
             [
              0.4444444444444444,
              "#bd3786"
             ],
             [
              0.5555555555555556,
              "#d8576b"
             ],
             [
              0.6666666666666666,
              "#ed7953"
             ],
             [
              0.7777777777777778,
              "#fb9f3a"
             ],
             [
              0.8888888888888888,
              "#fdca26"
             ],
             [
              1,
              "#f0f921"
             ]
            ],
            "type": "histogram2d"
           }
          ],
          "histogram2dcontour": [
           {
            "colorbar": {
             "outlinewidth": 0,
             "ticks": ""
            },
            "colorscale": [
             [
              0,
              "#0d0887"
             ],
             [
              0.1111111111111111,
              "#46039f"
             ],
             [
              0.2222222222222222,
              "#7201a8"
             ],
             [
              0.3333333333333333,
              "#9c179e"
             ],
             [
              0.4444444444444444,
              "#bd3786"
             ],
             [
              0.5555555555555556,
              "#d8576b"
             ],
             [
              0.6666666666666666,
              "#ed7953"
             ],
             [
              0.7777777777777778,
              "#fb9f3a"
             ],
             [
              0.8888888888888888,
              "#fdca26"
             ],
             [
              1,
              "#f0f921"
             ]
            ],
            "type": "histogram2dcontour"
           }
          ],
          "mesh3d": [
           {
            "colorbar": {
             "outlinewidth": 0,
             "ticks": ""
            },
            "type": "mesh3d"
           }
          ],
          "parcoords": [
           {
            "line": {
             "colorbar": {
              "outlinewidth": 0,
              "ticks": ""
             }
            },
            "type": "parcoords"
           }
          ],
          "pie": [
           {
            "automargin": true,
            "type": "pie"
           }
          ],
          "scatter": [
           {
            "fillpattern": {
             "fillmode": "overlay",
             "size": 10,
             "solidity": 0.2
            },
            "type": "scatter"
           }
          ],
          "scatter3d": [
           {
            "line": {
             "colorbar": {
              "outlinewidth": 0,
              "ticks": ""
             }
            },
            "marker": {
             "colorbar": {
              "outlinewidth": 0,
              "ticks": ""
             }
            },
            "type": "scatter3d"
           }
          ],
          "scattercarpet": [
           {
            "marker": {
             "colorbar": {
              "outlinewidth": 0,
              "ticks": ""
             }
            },
            "type": "scattercarpet"
           }
          ],
          "scattergeo": [
           {
            "marker": {
             "colorbar": {
              "outlinewidth": 0,
              "ticks": ""
             }
            },
            "type": "scattergeo"
           }
          ],
          "scattergl": [
           {
            "marker": {
             "colorbar": {
              "outlinewidth": 0,
              "ticks": ""
             }
            },
            "type": "scattergl"
           }
          ],
          "scattermapbox": [
           {
            "marker": {
             "colorbar": {
              "outlinewidth": 0,
              "ticks": ""
             }
            },
            "type": "scattermapbox"
           }
          ],
          "scatterpolar": [
           {
            "marker": {
             "colorbar": {
              "outlinewidth": 0,
              "ticks": ""
             }
            },
            "type": "scatterpolar"
           }
          ],
          "scatterpolargl": [
           {
            "marker": {
             "colorbar": {
              "outlinewidth": 0,
              "ticks": ""
             }
            },
            "type": "scatterpolargl"
           }
          ],
          "scatterternary": [
           {
            "marker": {
             "colorbar": {
              "outlinewidth": 0,
              "ticks": ""
             }
            },
            "type": "scatterternary"
           }
          ],
          "surface": [
           {
            "colorbar": {
             "outlinewidth": 0,
             "ticks": ""
            },
            "colorscale": [
             [
              0,
              "#0d0887"
             ],
             [
              0.1111111111111111,
              "#46039f"
             ],
             [
              0.2222222222222222,
              "#7201a8"
             ],
             [
              0.3333333333333333,
              "#9c179e"
             ],
             [
              0.4444444444444444,
              "#bd3786"
             ],
             [
              0.5555555555555556,
              "#d8576b"
             ],
             [
              0.6666666666666666,
              "#ed7953"
             ],
             [
              0.7777777777777778,
              "#fb9f3a"
             ],
             [
              0.8888888888888888,
              "#fdca26"
             ],
             [
              1,
              "#f0f921"
             ]
            ],
            "type": "surface"
           }
          ],
          "table": [
           {
            "cells": {
             "fill": {
              "color": "#EBF0F8"
             },
             "line": {
              "color": "white"
             }
            },
            "header": {
             "fill": {
              "color": "#C8D4E3"
             },
             "line": {
              "color": "white"
             }
            },
            "type": "table"
           }
          ]
         },
         "layout": {
          "annotationdefaults": {
           "arrowcolor": "#2a3f5f",
           "arrowhead": 0,
           "arrowwidth": 1
          },
          "autotypenumbers": "strict",
          "coloraxis": {
           "colorbar": {
            "outlinewidth": 0,
            "ticks": ""
           }
          },
          "colorscale": {
           "diverging": [
            [
             0,
             "#8e0152"
            ],
            [
             0.1,
             "#c51b7d"
            ],
            [
             0.2,
             "#de77ae"
            ],
            [
             0.3,
             "#f1b6da"
            ],
            [
             0.4,
             "#fde0ef"
            ],
            [
             0.5,
             "#f7f7f7"
            ],
            [
             0.6,
             "#e6f5d0"
            ],
            [
             0.7,
             "#b8e186"
            ],
            [
             0.8,
             "#7fbc41"
            ],
            [
             0.9,
             "#4d9221"
            ],
            [
             1,
             "#276419"
            ]
           ],
           "sequential": [
            [
             0,
             "#0d0887"
            ],
            [
             0.1111111111111111,
             "#46039f"
            ],
            [
             0.2222222222222222,
             "#7201a8"
            ],
            [
             0.3333333333333333,
             "#9c179e"
            ],
            [
             0.4444444444444444,
             "#bd3786"
            ],
            [
             0.5555555555555556,
             "#d8576b"
            ],
            [
             0.6666666666666666,
             "#ed7953"
            ],
            [
             0.7777777777777778,
             "#fb9f3a"
            ],
            [
             0.8888888888888888,
             "#fdca26"
            ],
            [
             1,
             "#f0f921"
            ]
           ],
           "sequentialminus": [
            [
             0,
             "#0d0887"
            ],
            [
             0.1111111111111111,
             "#46039f"
            ],
            [
             0.2222222222222222,
             "#7201a8"
            ],
            [
             0.3333333333333333,
             "#9c179e"
            ],
            [
             0.4444444444444444,
             "#bd3786"
            ],
            [
             0.5555555555555556,
             "#d8576b"
            ],
            [
             0.6666666666666666,
             "#ed7953"
            ],
            [
             0.7777777777777778,
             "#fb9f3a"
            ],
            [
             0.8888888888888888,
             "#fdca26"
            ],
            [
             1,
             "#f0f921"
            ]
           ]
          },
          "colorway": [
           "#636efa",
           "#EF553B",
           "#00cc96",
           "#ab63fa",
           "#FFA15A",
           "#19d3f3",
           "#FF6692",
           "#B6E880",
           "#FF97FF",
           "#FECB52"
          ],
          "font": {
           "color": "#2a3f5f"
          },
          "geo": {
           "bgcolor": "white",
           "lakecolor": "white",
           "landcolor": "white",
           "showlakes": true,
           "showland": true,
           "subunitcolor": "#C8D4E3"
          },
          "hoverlabel": {
           "align": "left"
          },
          "hovermode": "closest",
          "mapbox": {
           "style": "light"
          },
          "paper_bgcolor": "white",
          "plot_bgcolor": "white",
          "polar": {
           "angularaxis": {
            "gridcolor": "#EBF0F8",
            "linecolor": "#EBF0F8",
            "ticks": ""
           },
           "bgcolor": "white",
           "radialaxis": {
            "gridcolor": "#EBF0F8",
            "linecolor": "#EBF0F8",
            "ticks": ""
           }
          },
          "scene": {
           "xaxis": {
            "backgroundcolor": "white",
            "gridcolor": "#DFE8F3",
            "gridwidth": 2,
            "linecolor": "#EBF0F8",
            "showbackground": true,
            "ticks": "",
            "zerolinecolor": "#EBF0F8"
           },
           "yaxis": {
            "backgroundcolor": "white",
            "gridcolor": "#DFE8F3",
            "gridwidth": 2,
            "linecolor": "#EBF0F8",
            "showbackground": true,
            "ticks": "",
            "zerolinecolor": "#EBF0F8"
           },
           "zaxis": {
            "backgroundcolor": "white",
            "gridcolor": "#DFE8F3",
            "gridwidth": 2,
            "linecolor": "#EBF0F8",
            "showbackground": true,
            "ticks": "",
            "zerolinecolor": "#EBF0F8"
           }
          },
          "shapedefaults": {
           "line": {
            "color": "#2a3f5f"
           }
          },
          "ternary": {
           "aaxis": {
            "gridcolor": "#DFE8F3",
            "linecolor": "#A2B1C6",
            "ticks": ""
           },
           "baxis": {
            "gridcolor": "#DFE8F3",
            "linecolor": "#A2B1C6",
            "ticks": ""
           },
           "bgcolor": "white",
           "caxis": {
            "gridcolor": "#DFE8F3",
            "linecolor": "#A2B1C6",
            "ticks": ""
           }
          },
          "title": {
           "x": 0.05
          },
          "xaxis": {
           "automargin": true,
           "gridcolor": "#EBF0F8",
           "linecolor": "#EBF0F8",
           "ticks": "",
           "title": {
            "standoff": 15
           },
           "zerolinecolor": "#EBF0F8",
           "zerolinewidth": 2
          },
          "yaxis": {
           "automargin": true,
           "gridcolor": "#EBF0F8",
           "linecolor": "#EBF0F8",
           "ticks": "",
           "title": {
            "standoff": 15
           },
           "zerolinecolor": "#EBF0F8",
           "zerolinewidth": 2
          }
         }
        },
        "xaxis": {
         "anchor": "y",
         "domain": [
          0,
          1
         ],
         "title": {
          "text": "PC1"
         }
        },
        "yaxis": {
         "anchor": "x",
         "domain": [
          0,
          1
         ],
         "title": {
          "text": "PC2"
         }
        }
       }
      }
     },
     "metadata": {},
     "output_type": "display_data"
    }
   ],
   "source": [
    "\n",
    "# Standardisation des données\n",
    "scaler = StandardScaler()\n",
    "df_standardise = scaler.fit_transform(df_numeric)\n",
    "\n",
    "#clustering avec Gausian mixture\n",
    "gmm, label, centroids = t.gausian_mixture_clustering(df_standardise, n_clusters)\n",
    "\n",
    "# Ajout des labels au dataframe\n",
    "principal_df['cluster'] = labels\n",
    "\n",
    "# Convertir les clusters en type catégoriel pour légende continue\n",
    "principal_df[\"cluster\"] = principal_df[\"cluster\"].astype(str)\n",
    "\n",
    "fig = t.display_clustering(principal_df)"
   ]
  },
  {
   "cell_type": "markdown",
   "metadata": {},
   "source": [
    "## Avec les centroïdes"
   ]
  },
  {
   "cell_type": "code",
   "execution_count": 16,
   "metadata": {},
   "outputs": [
    {
     "data": {
      "application/vnd.plotly.v1+json": {
       "config": {
        "plotlyServerURL": "https://plot.ly"
       },
       "data": [
        {
         "hovertemplate": "<b>%{hovertext}</b><br><br>cluster=2<br>PC1=%{x}<br>PC2=%{y}<extra></extra>",
         "hovertext": [
          "Finland",
          "Denmark",
          "Switzerland",
          "Iceland",
          "Norway",
          "Netherlands",
          "Sweden",
          "New Zealand",
          "Austria",
          "Luxembourg",
          "Canada",
          "Australia",
          "United Kingdom",
          "Ireland",
          "Germany",
          "United States",
          "United Arab Emirates",
          "Malta",
          "Singapore",
          "Uzbekistan",
          "Bahrain",
          "Thailand",
          "Hong Kong S.A.R. of China",
          "Malaysia"
         ],
         "legendgroup": "2",
         "marker": {
          "color": "#3366CC",
          "symbol": "circle"
         },
         "mode": "markers",
         "name": "2",
         "orientation": "v",
         "showlegend": true,
         "type": "scatter",
         "x": [
          3.749509422437874,
          3.839590212143542,
          3.663110872252431,
          3.108673654268542,
          3.8156549683605467,
          3.3163443412095464,
          3.4689160192437076,
          3.5196237810946647,
          2.9836471863888905,
          3.321343197549372,
          3.2408749679188524,
          3.233580614504789,
          2.7992458547429333,
          3.246972052878093,
          2.7012466329713303,
          2.1036425432183328,
          2.237158664553594,
          2.5059533130170375,
          3.6699333329682315,
          1.5307254449433247,
          1.7114469913207857,
          1.0380187081131802,
          2.0348480404960125,
          0.7154748300047876
         ],
         "xaxis": "x",
         "y": [
          1.0713333420488669,
          1.71990572976722,
          1.399595428680102,
          1.0644544227762698,
          1.7344215042110327,
          1.7680963003291623,
          1.725595739239298,
          2.180446489585741,
          0.7977081027179347,
          0.6546438422399308,
          1.379777160511814,
          1.543695370865886,
          1.67359051402664,
          1.3576274154204728,
          0.8640041854926771,
          0.5003309120536743,
          1.0469302989480371,
          1.1180774686471535,
          1.4850539691139062,
          2.355048808006775,
          0.5992207686718757,
          1.0280473278794355,
          0.9091344019916121,
          0.4075069191321778
         ],
         "yaxis": "y"
        },
        {
         "hovertemplate": "<b>%{hovertext}</b><br><br>cluster=0<br>PC1=%{x}<br>PC2=%{y}<extra></extra>",
         "hovertext": [
          "Israel",
          "Costa Rica",
          "Czech Republic",
          "Belgium",
          "France",
          "Mexico",
          "Taiwan Province of China",
          "Uruguay",
          "Saudi Arabia",
          "Spain",
          "Guatemala",
          "Italy",
          "Brazil",
          "Slovenia",
          "El Salvador",
          "Panama",
          "Slovakia",
          "Chile",
          "Lithuania",
          "Trinidad and Tobago",
          "Poland",
          "Colombia",
          "Cyprus",
          "Nicaragua",
          "Romania",
          "Kuwait",
          "Mauritius",
          "Kazakhstan",
          "Estonia",
          "Philippines",
          "Hungary",
          "Argentina",
          "Honduras",
          "Latvia",
          "Ecuador",
          "Portugal",
          "Jamaica",
          "South Korea",
          "Japan",
          "Peru",
          "Serbia",
          "Bolivia",
          "Paraguay",
          "Dominican Republic",
          "Bosnia and Herzegovina",
          "Moldova",
          "Tajikistan",
          "Montenegro",
          "Russia",
          "Kyrgyzstan",
          "Belarus",
          "North Cyprus",
          "Greece",
          "Croatia",
          "Libya",
          "Vietnam",
          "Azerbaijan",
          "Macedonia",
          "Turkey",
          "China",
          "Bulgaria",
          "Venezuela",
          "Algeria",
          "Lebanon",
          "Armenia",
          "Jordan",
          "Ukraine",
          "Palestinian Territories"
         ],
         "legendgroup": "0",
         "marker": {
          "color": "#DC3912",
          "symbol": "circle"
         },
         "mode": "markers",
         "name": "0",
         "orientation": "v",
         "showlegend": true,
         "type": "scatter",
         "x": [
          1.8978893613076424,
          1.9423916926827425,
          1.6339861074610371,
          2.2077059895183573,
          2.364889509954152,
          1.0385228099549815,
          1.561905161815255,
          1.7955317378963491,
          1.561776881308639,
          1.7221834207127154,
          0.5819563166428612,
          1.1489155206932151,
          0.9015030233017137,
          1.9890240475085177,
          0.4127038476482683,
          1.372568218948886,
          1.037272891240616,
          0.9206678524784955,
          1.0536443354338263,
          0.9402971914867928,
          1.4721454188701841,
          0.7781250459632646,
          1.1063539050007678,
          0.6857097379865712,
          0.6557914391946846,
          1.4250972995170048,
          1.2028526486468638,
          1.041465002189482,
          1.7602660014305502,
          0.4503444780404644,
          0.7324632356840678,
          0.957468630310369,
          0.26731675171079994,
          0.6254583355399467,
          0.6303121449068485,
          1.3697693303182308,
          0.5857242895319117,
          0.5943506847127074,
          1.7454374091454445,
          0.36616488355944526,
          0.43563904207021503,
          -0.004581867839468401,
          0.6784847270036867,
          0.7655319852001368,
          -0.2263812178166673,
          -0.428881289082515,
          -0.02499829839109971,
          0.1556698565694833,
          0.2863132657625845,
          0.023945418301337916,
          0.36562696929580524,
          1.2743452793501608,
          -0.08012645625979196,
          0.42048322384020187,
          0.16960223131593175,
          0.4855437524039514,
          0.3606099456276269,
          -0.18525205165670056,
          -0.1659976041252979,
          0.5501582701120585,
          0.24171319783014245,
          -0.5171368876864628,
          -0.9734839723526051,
          -0.9743723992657102,
          -0.7321358497812592,
          -0.3976205363494144,
          -0.8559641898873868,
          -1.368426916257076
         ],
         "xaxis": "x",
         "y": [
          -0.24874625065736647,
          -0.5080247481151022,
          -1.791259163766761,
          -0.4909778126687551,
          -0.6982110924043337,
          -0.9898039961647984,
          -0.8457591352302058,
          -0.24967348139571463,
          -0.8258310846686016,
          -0.9890585807633624,
          0.1371241096938358,
          -1.4326861039634542,
          -0.7161548507564074,
          -0.6747038951298979,
          -0.3896428507449288,
          -1.1234311483402037,
          -1.6145852201553585,
          -1.0242749661487074,
          -1.7548029147187716,
          -0.5231831389022648,
          -0.9662391850369304,
          -1.1511427131780128,
          -0.48131865117997485,
          0.5838731682944526,
          -1.501024616037072,
          -0.674236524555849,
          -0.2378878095915972,
          -0.6218696752947369,
          -0.3907414231129299,
          -0.002684298448735167,
          -1.9251795926024282,
          -1.3771776568832836,
          0.6326381338022031,
          -1.7246180375928866,
          -0.63930874268874,
          -1.6182765523200486,
          -0.9258103728865191,
          -1.2119889944797015,
          -1.4413530604935991,
          -1.1844632312108998,
          -1.0301244764746618,
          -0.23661601335060684,
          -0.06127090795134585,
          -0.6052453826369191,
          -0.5263186128073454,
          -0.7569673483298369,
          0.6693768730244194,
          -1.0766294224327075,
          -1.4723414059632718,
          0.8530919318376612,
          -1.1696552190201828,
          -0.04541853036112098,
          -2.786707247192126,
          -1.6365770408731348,
          -0.26261336158144605,
          -0.16763718572271508,
          -0.7056486476873619,
          -0.7343920433116459,
          -1.5460591180450172,
          -0.7014024876851028,
          -1.6601596118734134,
          -1.6212911658267741,
          -1.5143900227761078,
          -1.4630785368621348,
          -0.8560954457911252,
          -0.7190775597471012,
          -1.0071519681908037,
          -1.1725893616699712
         ],
         "yaxis": "y"
        },
        {
         "hovertemplate": "<b>%{hovertext}</b><br><br>cluster=1<br>PC1=%{x}<br>PC2=%{y}<extra></extra>",
         "hovertext": [
          "Kosovo",
          "Pakistan",
          "Mongolia",
          "Indonesia",
          "Ivory Coast",
          "Benin",
          "Maldives",
          "Congo (Brazzaville)",
          "Ghana",
          "Nepal",
          "Turkmenistan",
          "Morocco",
          "Cameroon",
          "Senegal",
          "Guinea",
          "Niger",
          "Laos",
          "Albania",
          "Cambodia",
          "Bangladesh",
          "Gabon",
          "South Africa",
          "Iraq",
          "Burkina Faso",
          "Gambia",
          "Mali",
          "Nigeria",
          "Georgia",
          "Iran",
          "Mozambique",
          "Kenya",
          "Namibia",
          "Liberia",
          "Uganda",
          "Chad",
          "Tunisia",
          "Mauritania",
          "Sri Lanka",
          "Congo (Kinshasa)",
          "Swaziland",
          "Myanmar",
          "Comoros",
          "Togo",
          "Ethiopia",
          "Madagascar",
          "Egypt",
          "Sierra Leone",
          "Burundi",
          "Zambia",
          "Haiti",
          "Lesotho",
          "India",
          "Malawi",
          "Yemen",
          "Botswana",
          "Tanzania",
          "Central African Republic",
          "Rwanda",
          "Zimbabwe",
          "South Sudan",
          "Afghanistan"
         ],
         "legendgroup": "1",
         "marker": {
          "color": "#FF9900",
          "symbol": "circle"
         },
         "mode": "markers",
         "name": "1",
         "orientation": "v",
         "showlegend": true,
         "type": "scatter",
         "x": [
          0.31387508309375517,
          -1.189250762020947,
          -0.07319369926117543,
          -0.05877694237145192,
          -2.252824001902734,
          -2.736632871759514,
          0.818130740793685,
          -1.6589938171545655,
          -1.3598201552110285,
          -0.7180148402532838,
          0.3583858495956411,
          -1.1704456948939737,
          -1.9776916804811586,
          -1.6531594314120335,
          -2.302298997556743,
          -2.595174770912949,
          -0.5260558575732055,
          -0.671516715047217,
          -0.5773864501850456,
          -0.6369670803330341,
          -0.9391120106675012,
          -0.836107801231833,
          -1.2378940997999017,
          -2.355653390013726,
          -2.0825458474365455,
          -2.401238224156035,
          -2.02494312143626,
          -0.888921721197074,
          -0.7908318694915368,
          -1.835861207932215,
          -1.462056530515092,
          -1.0354300550553184,
          -2.4299450796633106,
          -2.110279751334411,
          -3.466246219920182,
          -1.5054129300336123,
          -2.1093138504261932,
          -0.21769976007668213,
          -3.029984549374213,
          -1.9175473424074716,
          -0.597391116600837,
          -2.89344443342785,
          -3.235328292322437,
          -1.9607942976999584,
          -2.931748508389121,
          -1.3097211757639915,
          -3.267215176914018,
          -3.885944974287503,
          -2.116005444339117,
          -3.3484042867853376,
          -2.7567116312628404,
          -1.7686040844746242,
          -2.972265302680821,
          -2.511093521083143,
          -1.1349332582592937,
          -1.9084243687908018,
          -5.4596157258822355,
          -1.5518627793326065,
          -2.509353560685861,
          -4.594778939545712,
          -5.313317529242742
         ],
         "xaxis": "x",
         "y": [
          0.7192075610663178,
          0.6044698915098309,
          -0.25069800193309044,
          2.490652384795435,
          0.33743417882143767,
          0.9853194337331221,
          -0.14645887635002466,
          -0.19714044205858128,
          0.7227147099152922,
          1.1475394802619991,
          0.4196308572797166,
          -0.968656269011134,
          0.35409875344338615,
          -0.18991630870363338,
          0.9379821931408491,
          1.1181405061798733,
          1.580342970716247,
          -0.483228895449074,
          0.9080449844347045,
          0.8218766217808524,
          -1.4735298720493264,
          -0.7331773297815574,
          -0.8052406198976826,
          0.35820643293770194,
          2.4736655159221796,
          0.09080811597914919,
          0.4095682423931584,
          -0.49853512549569523,
          0.349839967632847,
          1.3871874757691012,
          1.8700479020099683,
          -1.0513379408980081,
          0.5689615266054431,
          0.7257576979662599,
          0.4043683298721774,
          -1.7638185408358709,
          -0.7536364050626879,
          0.16594201927461447,
          0.9989179127212008,
          -0.8211179984060436,
          3.628886865136137,
          0.42405856582615326,
          0.6316289202697386,
          0.6696755875400124,
          -0.1509738390748473,
          -1.0721335715552887,
          0.9259714317118277,
          1.1638497132076249,
          0.920014502322463,
          2.3298522858267683,
          -0.4249760216310803,
          1.0601640677939705,
          1.2351232228921978,
          -0.9629822063348514,
          -1.0522030864179424,
          1.6205397728781763,
          1.36477295797038,
          2.997132633047241,
          -0.15487879630666188,
          0.17601152995117256,
          -0.9025285178409923
         ],
         "yaxis": "y"
        },
        {
         "marker": {
          "color": "black",
          "size": 12,
          "symbol": "x"
         },
         "mode": "markers",
         "name": "Centroïdes",
         "type": "scatter",
         "x": [
          0.6832853203597727,
          -1.8171995253021003,
          2.8304007004791893
         ],
         "y": [
          -0.8402436952158514,
          0.4111492650087191,
          1.27221405611608
         ]
        }
       ],
       "layout": {
        "legend": {
         "title": {
          "text": "cluster"
         },
         "tracegroupgap": 0
        },
        "margin": {
         "t": 60
        },
        "showlegend": false,
        "template": {
         "data": {
          "bar": [
           {
            "error_x": {
             "color": "#2a3f5f"
            },
            "error_y": {
             "color": "#2a3f5f"
            },
            "marker": {
             "line": {
              "color": "white",
              "width": 0.5
             },
             "pattern": {
              "fillmode": "overlay",
              "size": 10,
              "solidity": 0.2
             }
            },
            "type": "bar"
           }
          ],
          "barpolar": [
           {
            "marker": {
             "line": {
              "color": "white",
              "width": 0.5
             },
             "pattern": {
              "fillmode": "overlay",
              "size": 10,
              "solidity": 0.2
             }
            },
            "type": "barpolar"
           }
          ],
          "carpet": [
           {
            "aaxis": {
             "endlinecolor": "#2a3f5f",
             "gridcolor": "#C8D4E3",
             "linecolor": "#C8D4E3",
             "minorgridcolor": "#C8D4E3",
             "startlinecolor": "#2a3f5f"
            },
            "baxis": {
             "endlinecolor": "#2a3f5f",
             "gridcolor": "#C8D4E3",
             "linecolor": "#C8D4E3",
             "minorgridcolor": "#C8D4E3",
             "startlinecolor": "#2a3f5f"
            },
            "type": "carpet"
           }
          ],
          "choropleth": [
           {
            "colorbar": {
             "outlinewidth": 0,
             "ticks": ""
            },
            "type": "choropleth"
           }
          ],
          "contour": [
           {
            "colorbar": {
             "outlinewidth": 0,
             "ticks": ""
            },
            "colorscale": [
             [
              0,
              "#0d0887"
             ],
             [
              0.1111111111111111,
              "#46039f"
             ],
             [
              0.2222222222222222,
              "#7201a8"
             ],
             [
              0.3333333333333333,
              "#9c179e"
             ],
             [
              0.4444444444444444,
              "#bd3786"
             ],
             [
              0.5555555555555556,
              "#d8576b"
             ],
             [
              0.6666666666666666,
              "#ed7953"
             ],
             [
              0.7777777777777778,
              "#fb9f3a"
             ],
             [
              0.8888888888888888,
              "#fdca26"
             ],
             [
              1,
              "#f0f921"
             ]
            ],
            "type": "contour"
           }
          ],
          "contourcarpet": [
           {
            "colorbar": {
             "outlinewidth": 0,
             "ticks": ""
            },
            "type": "contourcarpet"
           }
          ],
          "heatmap": [
           {
            "colorbar": {
             "outlinewidth": 0,
             "ticks": ""
            },
            "colorscale": [
             [
              0,
              "#0d0887"
             ],
             [
              0.1111111111111111,
              "#46039f"
             ],
             [
              0.2222222222222222,
              "#7201a8"
             ],
             [
              0.3333333333333333,
              "#9c179e"
             ],
             [
              0.4444444444444444,
              "#bd3786"
             ],
             [
              0.5555555555555556,
              "#d8576b"
             ],
             [
              0.6666666666666666,
              "#ed7953"
             ],
             [
              0.7777777777777778,
              "#fb9f3a"
             ],
             [
              0.8888888888888888,
              "#fdca26"
             ],
             [
              1,
              "#f0f921"
             ]
            ],
            "type": "heatmap"
           }
          ],
          "heatmapgl": [
           {
            "colorbar": {
             "outlinewidth": 0,
             "ticks": ""
            },
            "colorscale": [
             [
              0,
              "#0d0887"
             ],
             [
              0.1111111111111111,
              "#46039f"
             ],
             [
              0.2222222222222222,
              "#7201a8"
             ],
             [
              0.3333333333333333,
              "#9c179e"
             ],
             [
              0.4444444444444444,
              "#bd3786"
             ],
             [
              0.5555555555555556,
              "#d8576b"
             ],
             [
              0.6666666666666666,
              "#ed7953"
             ],
             [
              0.7777777777777778,
              "#fb9f3a"
             ],
             [
              0.8888888888888888,
              "#fdca26"
             ],
             [
              1,
              "#f0f921"
             ]
            ],
            "type": "heatmapgl"
           }
          ],
          "histogram": [
           {
            "marker": {
             "pattern": {
              "fillmode": "overlay",
              "size": 10,
              "solidity": 0.2
             }
            },
            "type": "histogram"
           }
          ],
          "histogram2d": [
           {
            "colorbar": {
             "outlinewidth": 0,
             "ticks": ""
            },
            "colorscale": [
             [
              0,
              "#0d0887"
             ],
             [
              0.1111111111111111,
              "#46039f"
             ],
             [
              0.2222222222222222,
              "#7201a8"
             ],
             [
              0.3333333333333333,
              "#9c179e"
             ],
             [
              0.4444444444444444,
              "#bd3786"
             ],
             [
              0.5555555555555556,
              "#d8576b"
             ],
             [
              0.6666666666666666,
              "#ed7953"
             ],
             [
              0.7777777777777778,
              "#fb9f3a"
             ],
             [
              0.8888888888888888,
              "#fdca26"
             ],
             [
              1,
              "#f0f921"
             ]
            ],
            "type": "histogram2d"
           }
          ],
          "histogram2dcontour": [
           {
            "colorbar": {
             "outlinewidth": 0,
             "ticks": ""
            },
            "colorscale": [
             [
              0,
              "#0d0887"
             ],
             [
              0.1111111111111111,
              "#46039f"
             ],
             [
              0.2222222222222222,
              "#7201a8"
             ],
             [
              0.3333333333333333,
              "#9c179e"
             ],
             [
              0.4444444444444444,
              "#bd3786"
             ],
             [
              0.5555555555555556,
              "#d8576b"
             ],
             [
              0.6666666666666666,
              "#ed7953"
             ],
             [
              0.7777777777777778,
              "#fb9f3a"
             ],
             [
              0.8888888888888888,
              "#fdca26"
             ],
             [
              1,
              "#f0f921"
             ]
            ],
            "type": "histogram2dcontour"
           }
          ],
          "mesh3d": [
           {
            "colorbar": {
             "outlinewidth": 0,
             "ticks": ""
            },
            "type": "mesh3d"
           }
          ],
          "parcoords": [
           {
            "line": {
             "colorbar": {
              "outlinewidth": 0,
              "ticks": ""
             }
            },
            "type": "parcoords"
           }
          ],
          "pie": [
           {
            "automargin": true,
            "type": "pie"
           }
          ],
          "scatter": [
           {
            "fillpattern": {
             "fillmode": "overlay",
             "size": 10,
             "solidity": 0.2
            },
            "type": "scatter"
           }
          ],
          "scatter3d": [
           {
            "line": {
             "colorbar": {
              "outlinewidth": 0,
              "ticks": ""
             }
            },
            "marker": {
             "colorbar": {
              "outlinewidth": 0,
              "ticks": ""
             }
            },
            "type": "scatter3d"
           }
          ],
          "scattercarpet": [
           {
            "marker": {
             "colorbar": {
              "outlinewidth": 0,
              "ticks": ""
             }
            },
            "type": "scattercarpet"
           }
          ],
          "scattergeo": [
           {
            "marker": {
             "colorbar": {
              "outlinewidth": 0,
              "ticks": ""
             }
            },
            "type": "scattergeo"
           }
          ],
          "scattergl": [
           {
            "marker": {
             "colorbar": {
              "outlinewidth": 0,
              "ticks": ""
             }
            },
            "type": "scattergl"
           }
          ],
          "scattermapbox": [
           {
            "marker": {
             "colorbar": {
              "outlinewidth": 0,
              "ticks": ""
             }
            },
            "type": "scattermapbox"
           }
          ],
          "scatterpolar": [
           {
            "marker": {
             "colorbar": {
              "outlinewidth": 0,
              "ticks": ""
             }
            },
            "type": "scatterpolar"
           }
          ],
          "scatterpolargl": [
           {
            "marker": {
             "colorbar": {
              "outlinewidth": 0,
              "ticks": ""
             }
            },
            "type": "scatterpolargl"
           }
          ],
          "scatterternary": [
           {
            "marker": {
             "colorbar": {
              "outlinewidth": 0,
              "ticks": ""
             }
            },
            "type": "scatterternary"
           }
          ],
          "surface": [
           {
            "colorbar": {
             "outlinewidth": 0,
             "ticks": ""
            },
            "colorscale": [
             [
              0,
              "#0d0887"
             ],
             [
              0.1111111111111111,
              "#46039f"
             ],
             [
              0.2222222222222222,
              "#7201a8"
             ],
             [
              0.3333333333333333,
              "#9c179e"
             ],
             [
              0.4444444444444444,
              "#bd3786"
             ],
             [
              0.5555555555555556,
              "#d8576b"
             ],
             [
              0.6666666666666666,
              "#ed7953"
             ],
             [
              0.7777777777777778,
              "#fb9f3a"
             ],
             [
              0.8888888888888888,
              "#fdca26"
             ],
             [
              1,
              "#f0f921"
             ]
            ],
            "type": "surface"
           }
          ],
          "table": [
           {
            "cells": {
             "fill": {
              "color": "#EBF0F8"
             },
             "line": {
              "color": "white"
             }
            },
            "header": {
             "fill": {
              "color": "#C8D4E3"
             },
             "line": {
              "color": "white"
             }
            },
            "type": "table"
           }
          ]
         },
         "layout": {
          "annotationdefaults": {
           "arrowcolor": "#2a3f5f",
           "arrowhead": 0,
           "arrowwidth": 1
          },
          "autotypenumbers": "strict",
          "coloraxis": {
           "colorbar": {
            "outlinewidth": 0,
            "ticks": ""
           }
          },
          "colorscale": {
           "diverging": [
            [
             0,
             "#8e0152"
            ],
            [
             0.1,
             "#c51b7d"
            ],
            [
             0.2,
             "#de77ae"
            ],
            [
             0.3,
             "#f1b6da"
            ],
            [
             0.4,
             "#fde0ef"
            ],
            [
             0.5,
             "#f7f7f7"
            ],
            [
             0.6,
             "#e6f5d0"
            ],
            [
             0.7,
             "#b8e186"
            ],
            [
             0.8,
             "#7fbc41"
            ],
            [
             0.9,
             "#4d9221"
            ],
            [
             1,
             "#276419"
            ]
           ],
           "sequential": [
            [
             0,
             "#0d0887"
            ],
            [
             0.1111111111111111,
             "#46039f"
            ],
            [
             0.2222222222222222,
             "#7201a8"
            ],
            [
             0.3333333333333333,
             "#9c179e"
            ],
            [
             0.4444444444444444,
             "#bd3786"
            ],
            [
             0.5555555555555556,
             "#d8576b"
            ],
            [
             0.6666666666666666,
             "#ed7953"
            ],
            [
             0.7777777777777778,
             "#fb9f3a"
            ],
            [
             0.8888888888888888,
             "#fdca26"
            ],
            [
             1,
             "#f0f921"
            ]
           ],
           "sequentialminus": [
            [
             0,
             "#0d0887"
            ],
            [
             0.1111111111111111,
             "#46039f"
            ],
            [
             0.2222222222222222,
             "#7201a8"
            ],
            [
             0.3333333333333333,
             "#9c179e"
            ],
            [
             0.4444444444444444,
             "#bd3786"
            ],
            [
             0.5555555555555556,
             "#d8576b"
            ],
            [
             0.6666666666666666,
             "#ed7953"
            ],
            [
             0.7777777777777778,
             "#fb9f3a"
            ],
            [
             0.8888888888888888,
             "#fdca26"
            ],
            [
             1,
             "#f0f921"
            ]
           ]
          },
          "colorway": [
           "#636efa",
           "#EF553B",
           "#00cc96",
           "#ab63fa",
           "#FFA15A",
           "#19d3f3",
           "#FF6692",
           "#B6E880",
           "#FF97FF",
           "#FECB52"
          ],
          "font": {
           "color": "#2a3f5f"
          },
          "geo": {
           "bgcolor": "white",
           "lakecolor": "white",
           "landcolor": "white",
           "showlakes": true,
           "showland": true,
           "subunitcolor": "#C8D4E3"
          },
          "hoverlabel": {
           "align": "left"
          },
          "hovermode": "closest",
          "mapbox": {
           "style": "light"
          },
          "paper_bgcolor": "white",
          "plot_bgcolor": "white",
          "polar": {
           "angularaxis": {
            "gridcolor": "#EBF0F8",
            "linecolor": "#EBF0F8",
            "ticks": ""
           },
           "bgcolor": "white",
           "radialaxis": {
            "gridcolor": "#EBF0F8",
            "linecolor": "#EBF0F8",
            "ticks": ""
           }
          },
          "scene": {
           "xaxis": {
            "backgroundcolor": "white",
            "gridcolor": "#DFE8F3",
            "gridwidth": 2,
            "linecolor": "#EBF0F8",
            "showbackground": true,
            "ticks": "",
            "zerolinecolor": "#EBF0F8"
           },
           "yaxis": {
            "backgroundcolor": "white",
            "gridcolor": "#DFE8F3",
            "gridwidth": 2,
            "linecolor": "#EBF0F8",
            "showbackground": true,
            "ticks": "",
            "zerolinecolor": "#EBF0F8"
           },
           "zaxis": {
            "backgroundcolor": "white",
            "gridcolor": "#DFE8F3",
            "gridwidth": 2,
            "linecolor": "#EBF0F8",
            "showbackground": true,
            "ticks": "",
            "zerolinecolor": "#EBF0F8"
           }
          },
          "shapedefaults": {
           "line": {
            "color": "#2a3f5f"
           }
          },
          "ternary": {
           "aaxis": {
            "gridcolor": "#DFE8F3",
            "linecolor": "#A2B1C6",
            "ticks": ""
           },
           "baxis": {
            "gridcolor": "#DFE8F3",
            "linecolor": "#A2B1C6",
            "ticks": ""
           },
           "bgcolor": "white",
           "caxis": {
            "gridcolor": "#DFE8F3",
            "linecolor": "#A2B1C6",
            "ticks": ""
           }
          },
          "title": {
           "x": 0.05
          },
          "xaxis": {
           "automargin": true,
           "gridcolor": "#EBF0F8",
           "linecolor": "#EBF0F8",
           "ticks": "",
           "title": {
            "standoff": 15
           },
           "zerolinecolor": "#EBF0F8",
           "zerolinewidth": 2
          },
          "yaxis": {
           "automargin": true,
           "gridcolor": "#EBF0F8",
           "linecolor": "#EBF0F8",
           "ticks": "",
           "title": {
            "standoff": 15
           },
           "zerolinecolor": "#EBF0F8",
           "zerolinewidth": 2
          }
         }
        },
        "xaxis": {
         "anchor": "y",
         "domain": [
          0,
          1
         ],
         "title": {
          "text": "PC1"
         }
        },
        "yaxis": {
         "anchor": "x",
         "domain": [
          0,
          1
         ],
         "title": {
          "text": "PC2"
         }
        }
       }
      }
     },
     "metadata": {},
     "output_type": "display_data"
    }
   ],
   "source": [
    "# Calcul des centroïdes des clusters à partir des moyennes de GMM\n",
    "gmm_centroids = pd.DataFrame(centroids, columns=df_numeric.columns)  # Moyennes des clusters\n",
    "\n",
    "# Appliquer la transformation PCA sur les centroïdes\n",
    "centroids_pca_gmm = pca.transform(gmm_centroids)\n",
    "\n",
    "# Créer un DataFrame pour les centroïdes projetés\n",
    "centroids_pca_gmm_df = pd.DataFrame(centroids_pca_gmm, columns=['PC1', 'PC2'])\n",
    "centroids_pca_gmm_df['cluster'] = range(n_clusters)  # Ajouter les étiquettes des clusters\n",
    "\n",
    "t.add_centroids(fig, centroids_pca_gmm_df)\n"
   ]
  },
  {
   "cell_type": "markdown",
   "metadata": {},
   "source": [
    "# Consensus clustering\n"
   ]
  },
  {
   "cell_type": "markdown",
   "metadata": {},
   "source": [
    "### Avec les deux méthodes"
   ]
  },
  {
   "cell_type": "code",
   "execution_count": null,
   "metadata": {},
   "outputs": [
    {
     "name": "stderr",
     "output_type": "stream",
     "text": [
      "\\\\wsl.localhost\\Ubuntu\\home\\estelle\\ProjetAD\\tools.py:107: RuntimeWarning:\n",
      "\n",
      "divide by zero encountered in divide\n",
      "\n"
     ]
    },
    {
     "data": {
      "application/vnd.plotly.v1+json": {
       "config": {
        "plotlyServerURL": "https://plot.ly"
       },
       "data": [
        {
         "hovertemplate": "PC1=%{x}<br>PC2=%{y}<br>Cluster=%{marker.color}<extra></extra>",
         "legendgroup": "",
         "marker": {
          "color": [
           1,
           1,
           1,
           1,
           1,
           1,
           1,
           1,
           1,
           1,
           1,
           1,
           1,
           0,
           0,
           1,
           1,
           1,
           0,
           0,
           1,
           1,
           0,
           0,
           0,
           0,
           0,
           0,
           0,
           0,
           1,
           0,
           0,
           0,
           0,
           0,
           0,
           1,
           0,
           0,
           0,
           0,
           0,
           0,
           0,
           0,
           0,
           0,
           0,
           0,
           0,
           0,
           0,
           0,
           0,
           0,
           0,
           0,
           0,
           0,
           0,
           0,
           0,
           0,
           0,
           2,
           0,
           0,
           0,
           0,
           0,
           0,
           0,
           0,
           0,
           0,
           0,
           1,
           0,
           0,
           0,
           0,
           0,
           2,
           2,
           2,
           0,
           2,
           0,
           0,
           2,
           2,
           0,
           0,
           0,
           0,
           2,
           2,
           0,
           0,
           2,
           2,
           2,
           2,
           0,
           2,
           2,
           0,
           0,
           2,
           0,
           2,
           2,
           2,
           2,
           0,
           2,
           2,
           0,
           2,
           2,
           0,
           0,
           2,
           0,
           2,
           2,
           2,
           2,
           0,
           2,
           2,
           2,
           2,
           2,
           2,
           2,
           2,
           2,
           2,
           2,
           2,
           2,
           2,
           2,
           2,
           0,
           2,
           2,
           2,
           2,
           2,
           2
          ],
          "coloraxis": "coloraxis",
          "symbol": "circle"
         },
         "mode": "markers",
         "name": "",
         "orientation": "v",
         "showlegend": false,
         "type": "scatter",
         "x": [
          3.761823115428534,
          3.852199737752238,
          3.675140825398231,
          3.1188827906312206,
          3.8281858886877522,
          3.3272354849481345,
          3.4803082207449845,
          3.531182510997747,
          2.993445725692667,
          3.332250757937539,
          3.2515182641157505,
          3.244199955453577,
          2.808438805120498,
          1.9041221838698508,
          1.9487706645098755,
          3.2576353723964093,
          2.710117745957849,
          2.110551075914441,
          1.6393522503377225,
          2.2149562750106107,
          2.244505675018978,
          2.514183066904509,
          2.3726559988735145,
          1.0419334030765925,
          1.5670345850214022,
          1.8014284097231041,
          1.5669058832312002,
          1.7278392107180311,
          0.5838675083775002,
          1.152688652428626,
          3.6819856916282556,
          0.9044636323330336,
          1.9955561637703125,
          0.41405920055006196,
          0.31490587431873623,
          1.3770758442813447,
          1.0406793795278138,
          1.5357524714309032,
          0.9236914003629066,
          1.717067522021362,
          1.057104588871313,
          0.9433852037122484,
          1.4769800638018904,
          0.7806804717122962,
          1.109987260938927,
          0.6879616643702582,
          0.6579451114590679,
          1.429777434609628,
          1.2068029142842307,
          1.0448852577089736,
          1.7660468577190565,
          0.45182344582474127,
          0.7348687043454313,
          1.0414276457234652,
          0.9606130349333517,
          0.26819464160010853,
          0.6275123914322192,
          0.6323821411026767,
          1.374267763873465,
          0.5876478555950633,
          0.5963025805571468,
          1.7511695671344372,
          0.3673673987293314,
          0.43706971601030364,
          -0.0045969150649966305,
          -1.1931563579596594,
          0.6807129258654309,
          0.7680460543164523,
          -0.22712467209320922,
          -0.43028977001380647,
          -0.02508039483012647,
          0.15618108900171207,
          0.28725354174446555,
          0.024024056996770675,
          0.3668277179116301,
          1.2785303325840887,
          -0.08038959803959518,
          2.0415306464666423,
          0.4218641248442396,
          0.17015921879660267,
          -0.07343407330481957,
          0.7178245073643117,
          0.48713831745954395,
          -0.05896997061641696,
          -2.2602224586062736,
          -2.745620196023681,
          0.8208175484885981,
          -1.6644420873777572,
          0.36179421793089556,
          -0.18586043441641267,
          -1.3642859148684334,
          -0.7203728592124333,
          -0.16654275371797528,
          0.5519650344833903,
          0.3595628177871888,
          0.24250700357231797,
          -1.1742895334673389,
          -1.9841865803306955,
          -0.5188352071602076,
          -0.9766809726575363,
          -1.6585885410393373,
          -2.309859934157934,
          -2.603697535303111,
          -0.5277834676672972,
          -0.67372203039266,
          -0.5792826341076679,
          -0.6390589318764498,
          -0.9421961306630392,
          -0.8388536470509828,
          -1.241959444404363,
          -0.9775723172366665,
          -2.3633895467662485,
          -2.089385096872979,
          -2.4091240852003506,
          -2.0315931988495084,
          -0.7345402432807692,
          -0.8918410122120655,
          -0.7934290254794303,
          -0.39892635443379837,
          -1.8418903250088823,
          -1.4668580427193338,
          -1.038830491319048,
          -0.8587752456970342,
          -2.437925216348948,
          -1.372920941215677,
          -2.117210081160184,
          -3.4776296535839877,
          -1.5103568281696382,
          -2.116241008155059,
          -0.21841470374202723,
          -3.0399352643355266,
          -1.9238447233736757,
          -0.5993529974701454,
          -2.9029467395763704,
          -3.2459533727868974,
          -1.9672337051742343,
          -2.9413766082258874,
          -1.3140224063103698,
          -3.277944976493182,
          -3.8987067326939835,
          -2.122954577805013,
          -3.3594007179849372,
          -2.7657648958014,
          -1.774412323703981,
          -2.982026462955545,
          -2.5193401558307222,
          -1.13866047111105,
          -1.9146917891718673,
          -5.4775455466457705,
          -1.5569592225403448,
          -2.5175944812624027,
          -4.609868566173381,
          -5.330766894865203
         ],
         "xaxis": "x",
         "y": [
          1.0748516876184817,
          1.7255540396507765,
          1.4041918135609541,
          1.0679501774171776,
          1.7401174850749441,
          1.7739028719542107,
          1.7312627355753618,
          2.1876072526697485,
          0.8003278408133384,
          0.656793745702858,
          1.3843084605929397,
          1.5487649916419264,
          1.6790867209860048,
          -0.24956315351533617,
          -0.509693142583591,
          1.3620859739425974,
          0.8668416452998563,
          0.5019740393406458,
          -1.7971418041136107,
          -0.49259022361890353,
          1.0503685029452643,
          1.1217493257189894,
          -0.7005040742496609,
          -0.9930545927513174,
          -0.8485366768128317,
          -0.25049342935461616,
          -0.8285431809172185,
          -0.9923067293452584,
          0.13757443638945258,
          -1.4373911613052552,
          1.4899310067713687,
          -0.7185067613592215,
          -0.6769196774331809,
          -0.3909224694628768,
          0.7215694970173328,
          -1.1271205873302808,
          -1.6198876489449159,
          2.3627829792629607,
          -1.0276387681959025,
          0.6011886582669504,
          -1.760565829787514,
          -0.524901314755293,
          -0.9694123928728364,
          -1.1549231591941456,
          -0.48289934066053586,
          0.5857906551253539,
          -1.5059541025940852,
          -0.6764507719762677,
          -0.2386690524485965,
          -0.6239119457357593,
          -0.39202464963161743,
          -0.0026931139025091885,
          -1.9315020384971702,
          1.0314235186684526,
          -1.381700419983697,
          0.6347157687341772,
          -1.7302818230774588,
          -0.6414082844412163,
          -1.6235911037437638,
          -0.928850809224956,
          -1.2159692646176492,
          -1.4460865808234453,
          -1.1883531045102105,
          -1.0335074887881037,
          -0.23739307952562042,
          0.6064550196499569,
          -0.061472126581510675,
          -0.6072330575527903,
          -0.5280470858109344,
          -0.7594532904841653,
          0.6715751609551418,
          -1.0801651607597575,
          -1.4771766945324842,
          0.855893554918961,
          -1.1734964616066779,
          -0.04556768849781113,
          -2.795859019765739,
          0.9121200730893777,
          -1.6419516925852442,
          -0.26347580515617214,
          -0.25152131450051807,
          0.4088452048993049,
          -0.16818771983431186,
          2.498831889193872,
          0.3385423400271938,
          0.9885553026529638,
          -0.14693985917629573,
          -0.1977878672564014,
          -0.7079660550673489,
          -0.7368038463336655,
          0.7250881636275222,
          1.1513080929690496,
          -1.5511365015584684,
          -0.703705950331323,
          0.42100895904284846,
          -1.6656117106609964,
          -0.9718374147468135,
          0.3552616424635289,
          -1.6266156174857007,
          -1.5193634024126523,
          -0.19054000926171236,
          0.9410626027240128,
          1.121812570272079,
          1.585532945181945,
          -0.4848158583267164,
          0.9110270777968716,
          0.824575731252681,
          -1.478369063637538,
          -0.7355851435858424,
          -0.8078850953903152,
          -1.4678834054180954,
          0.35938281191039595,
          2.4817892340657757,
          0.09110633719564627,
          0.4109132977130274,
          -0.8589069326558041,
          -0.5001723552739892,
          0.3509888704550424,
          -0.7214390687632432,
          1.3917431119264319,
          1.8761892909621787,
          -1.0547906199488142,
          -1.0104595369242042,
          0.5708300423958523,
          -1.1764402402188587,
          0.7281411450980045,
          0.40569630825766756,
          -1.7696110639518594,
          -0.7561114081292208,
          0.16648698632213357,
          1.0021984401487378,
          -0.8238146164971913,
          3.6408044238673427,
          0.4254512085431949,
          0.6337032408626347,
          0.6718748564734248,
          -0.15146964940482463,
          -1.075654545143489,
          0.9290123969805061,
          1.167671890042265,
          0.9230359045519798,
          2.3375037096609277,
          -0.42637167734738346,
          1.0636457325612114,
          1.2391794677122034,
          -0.9661447179885939,
          -1.0556586066767901,
          1.6258617569017284,
          1.3692549830336662,
          3.006975459651379,
          -0.15538743083284112,
          0.17658956608828918,
          -0.9054924946795386
         ],
         "yaxis": "y"
        }
       ],
       "layout": {
        "coloraxis": {
         "colorbar": {
          "title": {
           "text": "Cluster"
          }
         },
         "colorscale": [
          [
           0,
           "#440154"
          ],
          [
           0.1111111111111111,
           "#482878"
          ],
          [
           0.2222222222222222,
           "#3e4989"
          ],
          [
           0.3333333333333333,
           "#31688e"
          ],
          [
           0.4444444444444444,
           "#26828e"
          ],
          [
           0.5555555555555556,
           "#1f9e89"
          ],
          [
           0.6666666666666666,
           "#35b779"
          ],
          [
           0.7777777777777778,
           "#6ece58"
          ],
          [
           0.8888888888888888,
           "#b5de2b"
          ],
          [
           1,
           "#fde725"
          ]
         ]
        },
        "legend": {
         "tracegroupgap": 0
        },
        "showlegend": true,
        "template": {
         "data": {
          "bar": [
           {
            "error_x": {
             "color": "#2a3f5f"
            },
            "error_y": {
             "color": "#2a3f5f"
            },
            "marker": {
             "line": {
              "color": "white",
              "width": 0.5
             },
             "pattern": {
              "fillmode": "overlay",
              "size": 10,
              "solidity": 0.2
             }
            },
            "type": "bar"
           }
          ],
          "barpolar": [
           {
            "marker": {
             "line": {
              "color": "white",
              "width": 0.5
             },
             "pattern": {
              "fillmode": "overlay",
              "size": 10,
              "solidity": 0.2
             }
            },
            "type": "barpolar"
           }
          ],
          "carpet": [
           {
            "aaxis": {
             "endlinecolor": "#2a3f5f",
             "gridcolor": "#C8D4E3",
             "linecolor": "#C8D4E3",
             "minorgridcolor": "#C8D4E3",
             "startlinecolor": "#2a3f5f"
            },
            "baxis": {
             "endlinecolor": "#2a3f5f",
             "gridcolor": "#C8D4E3",
             "linecolor": "#C8D4E3",
             "minorgridcolor": "#C8D4E3",
             "startlinecolor": "#2a3f5f"
            },
            "type": "carpet"
           }
          ],
          "choropleth": [
           {
            "colorbar": {
             "outlinewidth": 0,
             "ticks": ""
            },
            "type": "choropleth"
           }
          ],
          "contour": [
           {
            "colorbar": {
             "outlinewidth": 0,
             "ticks": ""
            },
            "colorscale": [
             [
              0,
              "#0d0887"
             ],
             [
              0.1111111111111111,
              "#46039f"
             ],
             [
              0.2222222222222222,
              "#7201a8"
             ],
             [
              0.3333333333333333,
              "#9c179e"
             ],
             [
              0.4444444444444444,
              "#bd3786"
             ],
             [
              0.5555555555555556,
              "#d8576b"
             ],
             [
              0.6666666666666666,
              "#ed7953"
             ],
             [
              0.7777777777777778,
              "#fb9f3a"
             ],
             [
              0.8888888888888888,
              "#fdca26"
             ],
             [
              1,
              "#f0f921"
             ]
            ],
            "type": "contour"
           }
          ],
          "contourcarpet": [
           {
            "colorbar": {
             "outlinewidth": 0,
             "ticks": ""
            },
            "type": "contourcarpet"
           }
          ],
          "heatmap": [
           {
            "colorbar": {
             "outlinewidth": 0,
             "ticks": ""
            },
            "colorscale": [
             [
              0,
              "#0d0887"
             ],
             [
              0.1111111111111111,
              "#46039f"
             ],
             [
              0.2222222222222222,
              "#7201a8"
             ],
             [
              0.3333333333333333,
              "#9c179e"
             ],
             [
              0.4444444444444444,
              "#bd3786"
             ],
             [
              0.5555555555555556,
              "#d8576b"
             ],
             [
              0.6666666666666666,
              "#ed7953"
             ],
             [
              0.7777777777777778,
              "#fb9f3a"
             ],
             [
              0.8888888888888888,
              "#fdca26"
             ],
             [
              1,
              "#f0f921"
             ]
            ],
            "type": "heatmap"
           }
          ],
          "heatmapgl": [
           {
            "colorbar": {
             "outlinewidth": 0,
             "ticks": ""
            },
            "colorscale": [
             [
              0,
              "#0d0887"
             ],
             [
              0.1111111111111111,
              "#46039f"
             ],
             [
              0.2222222222222222,
              "#7201a8"
             ],
             [
              0.3333333333333333,
              "#9c179e"
             ],
             [
              0.4444444444444444,
              "#bd3786"
             ],
             [
              0.5555555555555556,
              "#d8576b"
             ],
             [
              0.6666666666666666,
              "#ed7953"
             ],
             [
              0.7777777777777778,
              "#fb9f3a"
             ],
             [
              0.8888888888888888,
              "#fdca26"
             ],
             [
              1,
              "#f0f921"
             ]
            ],
            "type": "heatmapgl"
           }
          ],
          "histogram": [
           {
            "marker": {
             "pattern": {
              "fillmode": "overlay",
              "size": 10,
              "solidity": 0.2
             }
            },
            "type": "histogram"
           }
          ],
          "histogram2d": [
           {
            "colorbar": {
             "outlinewidth": 0,
             "ticks": ""
            },
            "colorscale": [
             [
              0,
              "#0d0887"
             ],
             [
              0.1111111111111111,
              "#46039f"
             ],
             [
              0.2222222222222222,
              "#7201a8"
             ],
             [
              0.3333333333333333,
              "#9c179e"
             ],
             [
              0.4444444444444444,
              "#bd3786"
             ],
             [
              0.5555555555555556,
              "#d8576b"
             ],
             [
              0.6666666666666666,
              "#ed7953"
             ],
             [
              0.7777777777777778,
              "#fb9f3a"
             ],
             [
              0.8888888888888888,
              "#fdca26"
             ],
             [
              1,
              "#f0f921"
             ]
            ],
            "type": "histogram2d"
           }
          ],
          "histogram2dcontour": [
           {
            "colorbar": {
             "outlinewidth": 0,
             "ticks": ""
            },
            "colorscale": [
             [
              0,
              "#0d0887"
             ],
             [
              0.1111111111111111,
              "#46039f"
             ],
             [
              0.2222222222222222,
              "#7201a8"
             ],
             [
              0.3333333333333333,
              "#9c179e"
             ],
             [
              0.4444444444444444,
              "#bd3786"
             ],
             [
              0.5555555555555556,
              "#d8576b"
             ],
             [
              0.6666666666666666,
              "#ed7953"
             ],
             [
              0.7777777777777778,
              "#fb9f3a"
             ],
             [
              0.8888888888888888,
              "#fdca26"
             ],
             [
              1,
              "#f0f921"
             ]
            ],
            "type": "histogram2dcontour"
           }
          ],
          "mesh3d": [
           {
            "colorbar": {
             "outlinewidth": 0,
             "ticks": ""
            },
            "type": "mesh3d"
           }
          ],
          "parcoords": [
           {
            "line": {
             "colorbar": {
              "outlinewidth": 0,
              "ticks": ""
             }
            },
            "type": "parcoords"
           }
          ],
          "pie": [
           {
            "automargin": true,
            "type": "pie"
           }
          ],
          "scatter": [
           {
            "fillpattern": {
             "fillmode": "overlay",
             "size": 10,
             "solidity": 0.2
            },
            "type": "scatter"
           }
          ],
          "scatter3d": [
           {
            "line": {
             "colorbar": {
              "outlinewidth": 0,
              "ticks": ""
             }
            },
            "marker": {
             "colorbar": {
              "outlinewidth": 0,
              "ticks": ""
             }
            },
            "type": "scatter3d"
           }
          ],
          "scattercarpet": [
           {
            "marker": {
             "colorbar": {
              "outlinewidth": 0,
              "ticks": ""
             }
            },
            "type": "scattercarpet"
           }
          ],
          "scattergeo": [
           {
            "marker": {
             "colorbar": {
              "outlinewidth": 0,
              "ticks": ""
             }
            },
            "type": "scattergeo"
           }
          ],
          "scattergl": [
           {
            "marker": {
             "colorbar": {
              "outlinewidth": 0,
              "ticks": ""
             }
            },
            "type": "scattergl"
           }
          ],
          "scattermapbox": [
           {
            "marker": {
             "colorbar": {
              "outlinewidth": 0,
              "ticks": ""
             }
            },
            "type": "scattermapbox"
           }
          ],
          "scatterpolar": [
           {
            "marker": {
             "colorbar": {
              "outlinewidth": 0,
              "ticks": ""
             }
            },
            "type": "scatterpolar"
           }
          ],
          "scatterpolargl": [
           {
            "marker": {
             "colorbar": {
              "outlinewidth": 0,
              "ticks": ""
             }
            },
            "type": "scatterpolargl"
           }
          ],
          "scatterternary": [
           {
            "marker": {
             "colorbar": {
              "outlinewidth": 0,
              "ticks": ""
             }
            },
            "type": "scatterternary"
           }
          ],
          "surface": [
           {
            "colorbar": {
             "outlinewidth": 0,
             "ticks": ""
            },
            "colorscale": [
             [
              0,
              "#0d0887"
             ],
             [
              0.1111111111111111,
              "#46039f"
             ],
             [
              0.2222222222222222,
              "#7201a8"
             ],
             [
              0.3333333333333333,
              "#9c179e"
             ],
             [
              0.4444444444444444,
              "#bd3786"
             ],
             [
              0.5555555555555556,
              "#d8576b"
             ],
             [
              0.6666666666666666,
              "#ed7953"
             ],
             [
              0.7777777777777778,
              "#fb9f3a"
             ],
             [
              0.8888888888888888,
              "#fdca26"
             ],
             [
              1,
              "#f0f921"
             ]
            ],
            "type": "surface"
           }
          ],
          "table": [
           {
            "cells": {
             "fill": {
              "color": "#EBF0F8"
             },
             "line": {
              "color": "white"
             }
            },
            "header": {
             "fill": {
              "color": "#C8D4E3"
             },
             "line": {
              "color": "white"
             }
            },
            "type": "table"
           }
          ]
         },
         "layout": {
          "annotationdefaults": {
           "arrowcolor": "#2a3f5f",
           "arrowhead": 0,
           "arrowwidth": 1
          },
          "autotypenumbers": "strict",
          "coloraxis": {
           "colorbar": {
            "outlinewidth": 0,
            "ticks": ""
           }
          },
          "colorscale": {
           "diverging": [
            [
             0,
             "#8e0152"
            ],
            [
             0.1,
             "#c51b7d"
            ],
            [
             0.2,
             "#de77ae"
            ],
            [
             0.3,
             "#f1b6da"
            ],
            [
             0.4,
             "#fde0ef"
            ],
            [
             0.5,
             "#f7f7f7"
            ],
            [
             0.6,
             "#e6f5d0"
            ],
            [
             0.7,
             "#b8e186"
            ],
            [
             0.8,
             "#7fbc41"
            ],
            [
             0.9,
             "#4d9221"
            ],
            [
             1,
             "#276419"
            ]
           ],
           "sequential": [
            [
             0,
             "#0d0887"
            ],
            [
             0.1111111111111111,
             "#46039f"
            ],
            [
             0.2222222222222222,
             "#7201a8"
            ],
            [
             0.3333333333333333,
             "#9c179e"
            ],
            [
             0.4444444444444444,
             "#bd3786"
            ],
            [
             0.5555555555555556,
             "#d8576b"
            ],
            [
             0.6666666666666666,
             "#ed7953"
            ],
            [
             0.7777777777777778,
             "#fb9f3a"
            ],
            [
             0.8888888888888888,
             "#fdca26"
            ],
            [
             1,
             "#f0f921"
            ]
           ],
           "sequentialminus": [
            [
             0,
             "#0d0887"
            ],
            [
             0.1111111111111111,
             "#46039f"
            ],
            [
             0.2222222222222222,
             "#7201a8"
            ],
            [
             0.3333333333333333,
             "#9c179e"
            ],
            [
             0.4444444444444444,
             "#bd3786"
            ],
            [
             0.5555555555555556,
             "#d8576b"
            ],
            [
             0.6666666666666666,
             "#ed7953"
            ],
            [
             0.7777777777777778,
             "#fb9f3a"
            ],
            [
             0.8888888888888888,
             "#fdca26"
            ],
            [
             1,
             "#f0f921"
            ]
           ]
          },
          "colorway": [
           "#636efa",
           "#EF553B",
           "#00cc96",
           "#ab63fa",
           "#FFA15A",
           "#19d3f3",
           "#FF6692",
           "#B6E880",
           "#FF97FF",
           "#FECB52"
          ],
          "font": {
           "color": "#2a3f5f"
          },
          "geo": {
           "bgcolor": "white",
           "lakecolor": "white",
           "landcolor": "white",
           "showlakes": true,
           "showland": true,
           "subunitcolor": "#C8D4E3"
          },
          "hoverlabel": {
           "align": "left"
          },
          "hovermode": "closest",
          "mapbox": {
           "style": "light"
          },
          "paper_bgcolor": "white",
          "plot_bgcolor": "white",
          "polar": {
           "angularaxis": {
            "gridcolor": "#EBF0F8",
            "linecolor": "#EBF0F8",
            "ticks": ""
           },
           "bgcolor": "white",
           "radialaxis": {
            "gridcolor": "#EBF0F8",
            "linecolor": "#EBF0F8",
            "ticks": ""
           }
          },
          "scene": {
           "xaxis": {
            "backgroundcolor": "white",
            "gridcolor": "#DFE8F3",
            "gridwidth": 2,
            "linecolor": "#EBF0F8",
            "showbackground": true,
            "ticks": "",
            "zerolinecolor": "#EBF0F8"
           },
           "yaxis": {
            "backgroundcolor": "white",
            "gridcolor": "#DFE8F3",
            "gridwidth": 2,
            "linecolor": "#EBF0F8",
            "showbackground": true,
            "ticks": "",
            "zerolinecolor": "#EBF0F8"
           },
           "zaxis": {
            "backgroundcolor": "white",
            "gridcolor": "#DFE8F3",
            "gridwidth": 2,
            "linecolor": "#EBF0F8",
            "showbackground": true,
            "ticks": "",
            "zerolinecolor": "#EBF0F8"
           }
          },
          "shapedefaults": {
           "line": {
            "color": "#2a3f5f"
           }
          },
          "ternary": {
           "aaxis": {
            "gridcolor": "#DFE8F3",
            "linecolor": "#A2B1C6",
            "ticks": ""
           },
           "baxis": {
            "gridcolor": "#DFE8F3",
            "linecolor": "#A2B1C6",
            "ticks": ""
           },
           "bgcolor": "white",
           "caxis": {
            "gridcolor": "#DFE8F3",
            "linecolor": "#A2B1C6",
            "ticks": ""
           }
          },
          "title": {
           "x": 0.05
          },
          "xaxis": {
           "automargin": true,
           "gridcolor": "#EBF0F8",
           "linecolor": "#EBF0F8",
           "ticks": "",
           "title": {
            "standoff": 15
           },
           "zerolinecolor": "#EBF0F8",
           "zerolinewidth": 2
          },
          "yaxis": {
           "automargin": true,
           "gridcolor": "#EBF0F8",
           "linecolor": "#EBF0F8",
           "ticks": "",
           "title": {
            "standoff": 15
           },
           "zerolinecolor": "#EBF0F8",
           "zerolinewidth": 2
          }
         }
        },
        "title": {
         "text": "Clustering Consensuel avec K-Means et GMM"
        },
        "xaxis": {
         "anchor": "y",
         "domain": [
          0,
          1
         ],
         "title": {
          "text": "PC1"
         }
        },
        "yaxis": {
         "anchor": "x",
         "domain": [
          0,
          1
         ],
         "title": {
          "text": "PC2"
         }
        }
       }
      }
     },
     "metadata": {},
     "output_type": "display_data"
    }
   ],
   "source": [
    "final_label = t.consensus_plot(df_standardise, n_clusters)\n",
    "t.visualise_consensus(df_standardise, data_2020, final_label)"
   ]
  }
 ],
 "metadata": {
  "kernelspec": {
   "display_name": "Python 3",
   "language": "python",
   "name": "python3"
  },
  "language_info": {
   "codemirror_mode": {
    "name": "ipython",
    "version": 3
   },
   "file_extension": ".py",
   "mimetype": "text/x-python",
   "name": "python",
   "nbconvert_exporter": "python",
   "pygments_lexer": "ipython3",
   "version": "3.11.1"
  }
 },
 "nbformat": 4,
 "nbformat_minor": 4
}
