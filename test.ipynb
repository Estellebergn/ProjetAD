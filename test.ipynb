{
 "cells": [
  {
   "cell_type": "code",
   "execution_count": 1,
   "metadata": {},
   "outputs": [],
   "source": [
    "import pandas as pd"
   ]
  },
  {
   "cell_type": "markdown",
   "metadata": {},
   "source": []
  },
  {
   "cell_type": "code",
   "execution_count": 16,
   "metadata": {},
   "outputs": [
    {
     "name": "stdout",
     "output_type": "stream",
     "text": [
      "Index(['Country name', 'Regional indicator', 'Ladder score',\n",
      "       'Standard error of ladder score', 'upperwhisker', 'lowerwhisker',\n",
      "       'Logged GDP per capita', 'Social support', 'Healthy life expectancy',\n",
      "       'Freedom to make life choices', 'Generosity',\n",
      "       'Perceptions of corruption', 'Ladder score in Dystopia',\n",
      "       'Explained by: Log GDP per capita', 'Explained by: Social support',\n",
      "       'Explained by: Healthy life expectancy',\n",
      "       'Explained by: Freedom to make life choices',\n",
      "       'Explained by: Generosity', 'Explained by: Perceptions of corruption',\n",
      "       'Dystopia + residual'],\n",
      "      dtype='object')\n",
      "  Country name Regional indicator  Ladder score  \\\n",
      "0      Finland     Western Europe        7.8087   \n",
      "1      Denmark     Western Europe        7.6456   \n",
      "2  Switzerland     Western Europe        7.5599   \n",
      "3      Iceland     Western Europe        7.5045   \n",
      "4       Norway     Western Europe        7.4880   \n",
      "\n",
      "   Standard error of ladder score  upperwhisker  lowerwhisker  \\\n",
      "0                        0.031156      7.869766      7.747634   \n",
      "1                        0.033492      7.711245      7.579955   \n",
      "2                        0.035014      7.628528      7.491272   \n",
      "3                        0.059616      7.621347      7.387653   \n",
      "4                        0.034837      7.556281      7.419719   \n",
      "\n",
      "   Logged GDP per capita  Social support  Healthy life expectancy  \\\n",
      "0              10.639267        0.954330                71.900825   \n",
      "1              10.774001        0.955991                72.402504   \n",
      "2              10.979933        0.942847                74.102448   \n",
      "3              10.772559        0.974670                73.000000   \n",
      "4              11.087804        0.952487                73.200783   \n",
      "\n",
      "   Freedom to make life choices  Generosity  Perceptions of corruption  \\\n",
      "0                      0.949172   -0.059482                   0.195445   \n",
      "1                      0.951444    0.066202                   0.168489   \n",
      "2                      0.921337    0.105911                   0.303728   \n",
      "3                      0.948892    0.246944                   0.711710   \n",
      "4                      0.955750    0.134533                   0.263218   \n",
      "\n",
      "   Ladder score in Dystopia  Explained by: Log GDP per capita  \\\n",
      "0                  1.972317                          1.285190   \n",
      "1                  1.972317                          1.326949   \n",
      "2                  1.972317                          1.390774   \n",
      "3                  1.972317                          1.326502   \n",
      "4                  1.972317                          1.424207   \n",
      "\n",
      "   Explained by: Social support  Explained by: Healthy life expectancy  \\\n",
      "0                      1.499526                               0.961271   \n",
      "1                      1.503449                               0.979333   \n",
      "2                      1.472403                               1.040533   \n",
      "3                      1.547567                               1.000843   \n",
      "4                      1.495173                               1.008072   \n",
      "\n",
      "   Explained by: Freedom to make life choices  Explained by: Generosity  \\\n",
      "0                                    0.662317                  0.159670   \n",
      "1                                    0.665040                  0.242793   \n",
      "2                                    0.628954                  0.269056   \n",
      "3                                    0.661981                  0.362330   \n",
      "4                                    0.670201                  0.287985   \n",
      "\n",
      "   Explained by: Perceptions of corruption  Dystopia + residual  \n",
      "0                                 0.477857             2.762835  \n",
      "1                                 0.495260             2.432741  \n",
      "2                                 0.407946             2.350267  \n",
      "3                                 0.144541             2.460688  \n",
      "4                                 0.434101             2.168266  \n"
     ]
    }
   ],
   "source": [
    "# Chargement data\n",
    "data_2020 = pd.read_csv('data/2020.csv')\n",
    "data_2021 = pd.read_csv('data/2021.csv')\n",
    "data_2022 = pd.read_csv('data/2022.csv')\n",
    "\n",
    "print(data_2020.columns)\n",
    "print(data_2020.head())"
   ]
  },
  {
   "cell_type": "code",
   "execution_count": 14,
   "metadata": {},
   "outputs": [
    {
     "data": {
      "application/vnd.plotly.v1+json": {
       "config": {
        "plotlyServerURL": "https://plot.ly"
       },
       "data": [
        {
         "alignmentgroup": "True",
         "hovertemplate": "Regional indicator=Western Europe<br>Country name=%{x}<br>Ladder score=%{y}<extra></extra>",
         "legendgroup": "Western Europe",
         "marker": {
          "color": "#636efa",
          "pattern": {
           "shape": ""
          }
         },
         "name": "Western Europe",
         "offsetgroup": "Western Europe",
         "orientation": "v",
         "showlegend": true,
         "textposition": "auto",
         "type": "bar",
         "x": [
          "Finland",
          "Denmark",
          "Switzerland",
          "Iceland",
          "Norway",
          "Netherlands",
          "Sweden",
          "Austria",
          "Luxembourg",
          "United Kingdom",
          "Ireland",
          "Germany",
          "Belgium",
          "Malta",
          "France",
          "Spain",
          "Italy",
          "Cyprus",
          "Portugal",
          "North Cyprus",
          "Greece"
         ],
         "xaxis": "x",
         "y": [
          7.808700085,
          7.645599842,
          7.559899807,
          7.504499912,
          7.487999916,
          7.448900223,
          7.353499889,
          7.294199944,
          7.237500191,
          7.164500237,
          7.093699932,
          7.075799942,
          6.863500118,
          6.772799969,
          6.663799763,
          6.400899887,
          6.38740015,
          6.15899992,
          5.910900116,
          5.53550005,
          5.514999866
         ],
         "yaxis": "y"
        },
        {
         "alignmentgroup": "True",
         "hovertemplate": "Regional indicator=North America and ANZ<br>Country name=%{x}<br>Ladder score=%{y}<extra></extra>",
         "legendgroup": "North America and ANZ",
         "marker": {
          "color": "#EF553B",
          "pattern": {
           "shape": ""
          }
         },
         "name": "North America and ANZ",
         "offsetgroup": "North America and ANZ",
         "orientation": "v",
         "showlegend": true,
         "textposition": "auto",
         "type": "bar",
         "x": [
          "New Zealand",
          "Canada",
          "Australia",
          "United States"
         ],
         "xaxis": "x",
         "y": [
          7.299600124,
          7.23210001,
          7.222799778,
          6.939599991
         ],
         "yaxis": "y"
        },
        {
         "alignmentgroup": "True",
         "hovertemplate": "Regional indicator=Middle East and North Africa<br>Country name=%{x}<br>Ladder score=%{y}<extra></extra>",
         "legendgroup": "Middle East and North Africa",
         "marker": {
          "color": "#00cc96",
          "pattern": {
           "shape": ""
          }
         },
         "name": "Middle East and North Africa",
         "offsetgroup": "Middle East and North Africa",
         "orientation": "v",
         "showlegend": true,
         "textposition": "auto",
         "type": "bar",
         "x": [
          "Israel",
          "United Arab Emirates",
          "Saudi Arabia",
          "Bahrain",
          "Kuwait",
          "Libya",
          "Turkey",
          "Morocco",
          "Algeria",
          "Iraq",
          "Lebanon",
          "Iran",
          "Jordan",
          "Palestinian Territories",
          "Tunisia",
          "Egypt",
          "Yemen"
         ],
         "xaxis": "x",
         "y": [
          7.128600121,
          6.790800095,
          6.406499863,
          6.227300167,
          6.102099895,
          5.488800049,
          5.131800175,
          5.094799995,
          5.005099773,
          4.784800053,
          4.771500111,
          4.672399998,
          4.633399963,
          4.552800179,
          4.392199993,
          4.151400089,
          3.527400017
         ],
         "yaxis": "y"
        },
        {
         "alignmentgroup": "True",
         "hovertemplate": "Regional indicator=Latin America and Caribbean<br>Country name=%{x}<br>Ladder score=%{y}<extra></extra>",
         "legendgroup": "Latin America and Caribbean",
         "marker": {
          "color": "#ab63fa",
          "pattern": {
           "shape": ""
          }
         },
         "name": "Latin America and Caribbean",
         "offsetgroup": "Latin America and Caribbean",
         "orientation": "v",
         "showlegend": true,
         "textposition": "auto",
         "type": "bar",
         "x": [
          "Costa Rica",
          "Mexico",
          "Uruguay",
          "Guatemala",
          "Brazil",
          "El Salvador",
          "Panama",
          "Chile",
          "Trinidad and Tobago",
          "Colombia",
          "Nicaragua",
          "Argentina",
          "Honduras",
          "Ecuador",
          "Jamaica",
          "Peru",
          "Bolivia",
          "Paraguay",
          "Dominican Republic",
          "Venezuela",
          "Haiti"
         ],
         "xaxis": "x",
         "y": [
          7.121399879,
          6.465000153,
          6.440100193,
          6.398900032,
          6.375599861,
          6.34829998,
          6.304800034,
          6.228499889,
          6.191899776,
          6.163400173,
          6.13710022,
          5.974699974,
          5.953199863,
          5.925199986,
          5.889800072,
          5.796800137,
          5.747499943,
          5.692100048,
          5.689199924,
          5.053199768,
          3.720799923
         ],
         "yaxis": "y"
        },
        {
         "alignmentgroup": "True",
         "hovertemplate": "Regional indicator=Central and Eastern Europe<br>Country name=%{x}<br>Ladder score=%{y}<extra></extra>",
         "legendgroup": "Central and Eastern Europe",
         "marker": {
          "color": "#FFA15A",
          "pattern": {
           "shape": ""
          }
         },
         "name": "Central and Eastern Europe",
         "offsetgroup": "Central and Eastern Europe",
         "orientation": "v",
         "showlegend": true,
         "textposition": "auto",
         "type": "bar",
         "x": [
          "Czech Republic",
          "Slovenia",
          "Kosovo",
          "Slovakia",
          "Lithuania",
          "Poland",
          "Romania",
          "Estonia",
          "Hungary",
          "Latvia",
          "Serbia",
          "Bosnia and Herzegovina",
          "Montenegro",
          "Croatia",
          "Macedonia",
          "Bulgaria",
          "Albania"
         ],
         "xaxis": "x",
         "y": [
          6.910900116,
          6.363399982,
          6.325200081,
          6.280600071,
          6.215499878,
          6.186299801,
          6.123700142,
          6.021800041,
          6.000400066,
          5.949999809,
          5.77820015,
          5.674099922,
          5.54610014,
          5.504700184,
          5.159800053,
          5.101500034,
          4.882699966
         ],
         "yaxis": "y"
        },
        {
         "alignmentgroup": "True",
         "hovertemplate": "Regional indicator=East Asia<br>Country name=%{x}<br>Ladder score=%{y}<extra></extra>",
         "legendgroup": "East Asia",
         "marker": {
          "color": "#19d3f3",
          "pattern": {
           "shape": ""
          }
         },
         "name": "East Asia",
         "offsetgroup": "East Asia",
         "orientation": "v",
         "showlegend": true,
         "textposition": "auto",
         "type": "bar",
         "x": [
          "Taiwan Province of China",
          "South Korea",
          "Japan",
          "Hong Kong S.A.R. of China",
          "Mongolia",
          "China"
         ],
         "xaxis": "x",
         "y": [
          6.45539999,
          5.872399807,
          5.870800018,
          5.510399818,
          5.456200123,
          5.123899937
         ],
         "yaxis": "y"
        },
        {
         "alignmentgroup": "True",
         "hovertemplate": "Regional indicator=Southeast Asia<br>Country name=%{x}<br>Ladder score=%{y}<extra></extra>",
         "legendgroup": "Southeast Asia",
         "marker": {
          "color": "#FF6692",
          "pattern": {
           "shape": ""
          }
         },
         "name": "Southeast Asia",
         "offsetgroup": "Southeast Asia",
         "orientation": "v",
         "showlegend": true,
         "textposition": "auto",
         "type": "bar",
         "x": [
          "Singapore",
          "Philippines",
          "Thailand",
          "Malaysia",
          "Vietnam",
          "Indonesia",
          "Laos",
          "Cambodia",
          "Myanmar"
         ],
         "xaxis": "x",
         "y": [
          6.377099991,
          6.006000042,
          5.998799801,
          5.384300232,
          5.353499889,
          5.285600185,
          4.888599873,
          4.848400116,
          4.308000088
         ],
         "yaxis": "y"
        },
        {
         "alignmentgroup": "True",
         "hovertemplate": "Regional indicator=Commonwealth of Independent States<br>Country name=%{x}<br>Ladder score=%{y}<extra></extra>",
         "legendgroup": "Commonwealth of Independent States",
         "marker": {
          "color": "#B6E880",
          "pattern": {
           "shape": ""
          }
         },
         "name": "Commonwealth of Independent States",
         "offsetgroup": "Commonwealth of Independent States",
         "orientation": "v",
         "showlegend": true,
         "textposition": "auto",
         "type": "bar",
         "x": [
          "Uzbekistan",
          "Kazakhstan",
          "Moldova",
          "Tajikistan",
          "Russia",
          "Kyrgyzstan",
          "Belarus",
          "Azerbaijan",
          "Turkmenistan",
          "Armenia",
          "Georgia",
          "Ukraine"
         ],
         "xaxis": "x",
         "y": [
          6.257599831,
          6.057899952,
          5.607500076,
          5.555699825,
          5.546000004,
          5.541500092,
          5.539899826,
          5.164800167,
          5.119100094,
          4.676799774,
          4.672599792,
          4.56069994
         ],
         "yaxis": "y"
        },
        {
         "alignmentgroup": "True",
         "hovertemplate": "Regional indicator=Sub-Saharan Africa<br>Country name=%{x}<br>Ladder score=%{y}<extra></extra>",
         "legendgroup": "Sub-Saharan Africa",
         "marker": {
          "color": "#FF97FF",
          "pattern": {
           "shape": ""
          }
         },
         "name": "Sub-Saharan Africa",
         "offsetgroup": "Sub-Saharan Africa",
         "orientation": "v",
         "showlegend": true,
         "textposition": "auto",
         "type": "bar",
         "x": [
          "Mauritius",
          "Ivory Coast",
          "Benin",
          "Congo (Brazzaville)",
          "Ghana",
          "Cameroon",
          "Senegal",
          "Guinea",
          "Niger",
          "Gabon",
          "South Africa",
          "Burkina Faso",
          "Gambia",
          "Mali",
          "Nigeria",
          "Mozambique",
          "Kenya",
          "Namibia",
          "Liberia",
          "Uganda",
          "Chad",
          "Mauritania",
          "Congo (Kinshasa)",
          "Swaziland",
          "Comoros",
          "Togo",
          "Ethiopia",
          "Madagascar",
          "Sierra Leone",
          "Burundi",
          "Zambia",
          "Lesotho",
          "Malawi",
          "Botswana",
          "Tanzania",
          "Central African Republic",
          "Rwanda",
          "Zimbabwe",
          "South Sudan"
         ],
         "xaxis": "x",
         "y": [
          6.101299763,
          5.233300209,
          5.21600008,
          5.194399834,
          5.147999763,
          5.084899902,
          4.980800152,
          4.949299812,
          4.909599781,
          4.829299927,
          4.814099789,
          4.768700123,
          4.750599861,
          4.729300022,
          4.724100113,
          4.623600006,
          4.583000183,
          4.571100235,
          4.557899952,
          4.43200016,
          4.422699928,
          4.374599934,
          4.31099987,
          4.308100224,
          4.288599968,
          4.187200069,
          4.186200142,
          4.165599823,
          3.926399946,
          3.775300026,
          3.759399891,
          3.652800083,
          3.538000107,
          3.478899956,
          3.476200104,
          3.475899935,
          3.312299967,
          3.299200058,
          2.816600084
         ],
         "yaxis": "y"
        },
        {
         "alignmentgroup": "True",
         "hovertemplate": "Regional indicator=South Asia<br>Country name=%{x}<br>Ladder score=%{y}<extra></extra>",
         "legendgroup": "South Asia",
         "marker": {
          "color": "#FECB52",
          "pattern": {
           "shape": ""
          }
         },
         "name": "South Asia",
         "offsetgroup": "South Asia",
         "orientation": "v",
         "showlegend": true,
         "textposition": "auto",
         "type": "bar",
         "x": [
          "Pakistan",
          "Maldives",
          "Nepal",
          "Bangladesh",
          "Sri Lanka",
          "India",
          "Afghanistan"
         ],
         "xaxis": "x",
         "y": [
          5.69329977,
          5.197599888,
          5.137199879,
          4.832799911,
          4.327000141,
          3.573299885,
          2.566900015
         ],
         "yaxis": "y"
        }
       ],
       "layout": {
        "barmode": "relative",
        "legend": {
         "title": {
          "text": "Regional indicator"
         },
         "tracegroupgap": 0
        },
        "template": {
         "data": {
          "bar": [
           {
            "error_x": {
             "color": "#2a3f5f"
            },
            "error_y": {
             "color": "#2a3f5f"
            },
            "marker": {
             "line": {
              "color": "#E5ECF6",
              "width": 0.5
             },
             "pattern": {
              "fillmode": "overlay",
              "size": 10,
              "solidity": 0.2
             }
            },
            "type": "bar"
           }
          ],
          "barpolar": [
           {
            "marker": {
             "line": {
              "color": "#E5ECF6",
              "width": 0.5
             },
             "pattern": {
              "fillmode": "overlay",
              "size": 10,
              "solidity": 0.2
             }
            },
            "type": "barpolar"
           }
          ],
          "carpet": [
           {
            "aaxis": {
             "endlinecolor": "#2a3f5f",
             "gridcolor": "white",
             "linecolor": "white",
             "minorgridcolor": "white",
             "startlinecolor": "#2a3f5f"
            },
            "baxis": {
             "endlinecolor": "#2a3f5f",
             "gridcolor": "white",
             "linecolor": "white",
             "minorgridcolor": "white",
             "startlinecolor": "#2a3f5f"
            },
            "type": "carpet"
           }
          ],
          "choropleth": [
           {
            "colorbar": {
             "outlinewidth": 0,
             "ticks": ""
            },
            "type": "choropleth"
           }
          ],
          "contour": [
           {
            "colorbar": {
             "outlinewidth": 0,
             "ticks": ""
            },
            "colorscale": [
             [
              0,
              "#0d0887"
             ],
             [
              0.1111111111111111,
              "#46039f"
             ],
             [
              0.2222222222222222,
              "#7201a8"
             ],
             [
              0.3333333333333333,
              "#9c179e"
             ],
             [
              0.4444444444444444,
              "#bd3786"
             ],
             [
              0.5555555555555556,
              "#d8576b"
             ],
             [
              0.6666666666666666,
              "#ed7953"
             ],
             [
              0.7777777777777778,
              "#fb9f3a"
             ],
             [
              0.8888888888888888,
              "#fdca26"
             ],
             [
              1,
              "#f0f921"
             ]
            ],
            "type": "contour"
           }
          ],
          "contourcarpet": [
           {
            "colorbar": {
             "outlinewidth": 0,
             "ticks": ""
            },
            "type": "contourcarpet"
           }
          ],
          "heatmap": [
           {
            "colorbar": {
             "outlinewidth": 0,
             "ticks": ""
            },
            "colorscale": [
             [
              0,
              "#0d0887"
             ],
             [
              0.1111111111111111,
              "#46039f"
             ],
             [
              0.2222222222222222,
              "#7201a8"
             ],
             [
              0.3333333333333333,
              "#9c179e"
             ],
             [
              0.4444444444444444,
              "#bd3786"
             ],
             [
              0.5555555555555556,
              "#d8576b"
             ],
             [
              0.6666666666666666,
              "#ed7953"
             ],
             [
              0.7777777777777778,
              "#fb9f3a"
             ],
             [
              0.8888888888888888,
              "#fdca26"
             ],
             [
              1,
              "#f0f921"
             ]
            ],
            "type": "heatmap"
           }
          ],
          "heatmapgl": [
           {
            "colorbar": {
             "outlinewidth": 0,
             "ticks": ""
            },
            "colorscale": [
             [
              0,
              "#0d0887"
             ],
             [
              0.1111111111111111,
              "#46039f"
             ],
             [
              0.2222222222222222,
              "#7201a8"
             ],
             [
              0.3333333333333333,
              "#9c179e"
             ],
             [
              0.4444444444444444,
              "#bd3786"
             ],
             [
              0.5555555555555556,
              "#d8576b"
             ],
             [
              0.6666666666666666,
              "#ed7953"
             ],
             [
              0.7777777777777778,
              "#fb9f3a"
             ],
             [
              0.8888888888888888,
              "#fdca26"
             ],
             [
              1,
              "#f0f921"
             ]
            ],
            "type": "heatmapgl"
           }
          ],
          "histogram": [
           {
            "marker": {
             "pattern": {
              "fillmode": "overlay",
              "size": 10,
              "solidity": 0.2
             }
            },
            "type": "histogram"
           }
          ],
          "histogram2d": [
           {
            "colorbar": {
             "outlinewidth": 0,
             "ticks": ""
            },
            "colorscale": [
             [
              0,
              "#0d0887"
             ],
             [
              0.1111111111111111,
              "#46039f"
             ],
             [
              0.2222222222222222,
              "#7201a8"
             ],
             [
              0.3333333333333333,
              "#9c179e"
             ],
             [
              0.4444444444444444,
              "#bd3786"
             ],
             [
              0.5555555555555556,
              "#d8576b"
             ],
             [
              0.6666666666666666,
              "#ed7953"
             ],
             [
              0.7777777777777778,
              "#fb9f3a"
             ],
             [
              0.8888888888888888,
              "#fdca26"
             ],
             [
              1,
              "#f0f921"
             ]
            ],
            "type": "histogram2d"
           }
          ],
          "histogram2dcontour": [
           {
            "colorbar": {
             "outlinewidth": 0,
             "ticks": ""
            },
            "colorscale": [
             [
              0,
              "#0d0887"
             ],
             [
              0.1111111111111111,
              "#46039f"
             ],
             [
              0.2222222222222222,
              "#7201a8"
             ],
             [
              0.3333333333333333,
              "#9c179e"
             ],
             [
              0.4444444444444444,
              "#bd3786"
             ],
             [
              0.5555555555555556,
              "#d8576b"
             ],
             [
              0.6666666666666666,
              "#ed7953"
             ],
             [
              0.7777777777777778,
              "#fb9f3a"
             ],
             [
              0.8888888888888888,
              "#fdca26"
             ],
             [
              1,
              "#f0f921"
             ]
            ],
            "type": "histogram2dcontour"
           }
          ],
          "mesh3d": [
           {
            "colorbar": {
             "outlinewidth": 0,
             "ticks": ""
            },
            "type": "mesh3d"
           }
          ],
          "parcoords": [
           {
            "line": {
             "colorbar": {
              "outlinewidth": 0,
              "ticks": ""
             }
            },
            "type": "parcoords"
           }
          ],
          "pie": [
           {
            "automargin": true,
            "type": "pie"
           }
          ],
          "scatter": [
           {
            "fillpattern": {
             "fillmode": "overlay",
             "size": 10,
             "solidity": 0.2
            },
            "type": "scatter"
           }
          ],
          "scatter3d": [
           {
            "line": {
             "colorbar": {
              "outlinewidth": 0,
              "ticks": ""
             }
            },
            "marker": {
             "colorbar": {
              "outlinewidth": 0,
              "ticks": ""
             }
            },
            "type": "scatter3d"
           }
          ],
          "scattercarpet": [
           {
            "marker": {
             "colorbar": {
              "outlinewidth": 0,
              "ticks": ""
             }
            },
            "type": "scattercarpet"
           }
          ],
          "scattergeo": [
           {
            "marker": {
             "colorbar": {
              "outlinewidth": 0,
              "ticks": ""
             }
            },
            "type": "scattergeo"
           }
          ],
          "scattergl": [
           {
            "marker": {
             "colorbar": {
              "outlinewidth": 0,
              "ticks": ""
             }
            },
            "type": "scattergl"
           }
          ],
          "scattermapbox": [
           {
            "marker": {
             "colorbar": {
              "outlinewidth": 0,
              "ticks": ""
             }
            },
            "type": "scattermapbox"
           }
          ],
          "scatterpolar": [
           {
            "marker": {
             "colorbar": {
              "outlinewidth": 0,
              "ticks": ""
             }
            },
            "type": "scatterpolar"
           }
          ],
          "scatterpolargl": [
           {
            "marker": {
             "colorbar": {
              "outlinewidth": 0,
              "ticks": ""
             }
            },
            "type": "scatterpolargl"
           }
          ],
          "scatterternary": [
           {
            "marker": {
             "colorbar": {
              "outlinewidth": 0,
              "ticks": ""
             }
            },
            "type": "scatterternary"
           }
          ],
          "surface": [
           {
            "colorbar": {
             "outlinewidth": 0,
             "ticks": ""
            },
            "colorscale": [
             [
              0,
              "#0d0887"
             ],
             [
              0.1111111111111111,
              "#46039f"
             ],
             [
              0.2222222222222222,
              "#7201a8"
             ],
             [
              0.3333333333333333,
              "#9c179e"
             ],
             [
              0.4444444444444444,
              "#bd3786"
             ],
             [
              0.5555555555555556,
              "#d8576b"
             ],
             [
              0.6666666666666666,
              "#ed7953"
             ],
             [
              0.7777777777777778,
              "#fb9f3a"
             ],
             [
              0.8888888888888888,
              "#fdca26"
             ],
             [
              1,
              "#f0f921"
             ]
            ],
            "type": "surface"
           }
          ],
          "table": [
           {
            "cells": {
             "fill": {
              "color": "#EBF0F8"
             },
             "line": {
              "color": "white"
             }
            },
            "header": {
             "fill": {
              "color": "#C8D4E3"
             },
             "line": {
              "color": "white"
             }
            },
            "type": "table"
           }
          ]
         },
         "layout": {
          "annotationdefaults": {
           "arrowcolor": "#2a3f5f",
           "arrowhead": 0,
           "arrowwidth": 1
          },
          "autotypenumbers": "strict",
          "coloraxis": {
           "colorbar": {
            "outlinewidth": 0,
            "ticks": ""
           }
          },
          "colorscale": {
           "diverging": [
            [
             0,
             "#8e0152"
            ],
            [
             0.1,
             "#c51b7d"
            ],
            [
             0.2,
             "#de77ae"
            ],
            [
             0.3,
             "#f1b6da"
            ],
            [
             0.4,
             "#fde0ef"
            ],
            [
             0.5,
             "#f7f7f7"
            ],
            [
             0.6,
             "#e6f5d0"
            ],
            [
             0.7,
             "#b8e186"
            ],
            [
             0.8,
             "#7fbc41"
            ],
            [
             0.9,
             "#4d9221"
            ],
            [
             1,
             "#276419"
            ]
           ],
           "sequential": [
            [
             0,
             "#0d0887"
            ],
            [
             0.1111111111111111,
             "#46039f"
            ],
            [
             0.2222222222222222,
             "#7201a8"
            ],
            [
             0.3333333333333333,
             "#9c179e"
            ],
            [
             0.4444444444444444,
             "#bd3786"
            ],
            [
             0.5555555555555556,
             "#d8576b"
            ],
            [
             0.6666666666666666,
             "#ed7953"
            ],
            [
             0.7777777777777778,
             "#fb9f3a"
            ],
            [
             0.8888888888888888,
             "#fdca26"
            ],
            [
             1,
             "#f0f921"
            ]
           ],
           "sequentialminus": [
            [
             0,
             "#0d0887"
            ],
            [
             0.1111111111111111,
             "#46039f"
            ],
            [
             0.2222222222222222,
             "#7201a8"
            ],
            [
             0.3333333333333333,
             "#9c179e"
            ],
            [
             0.4444444444444444,
             "#bd3786"
            ],
            [
             0.5555555555555556,
             "#d8576b"
            ],
            [
             0.6666666666666666,
             "#ed7953"
            ],
            [
             0.7777777777777778,
             "#fb9f3a"
            ],
            [
             0.8888888888888888,
             "#fdca26"
            ],
            [
             1,
             "#f0f921"
            ]
           ]
          },
          "colorway": [
           "#636efa",
           "#EF553B",
           "#00cc96",
           "#ab63fa",
           "#FFA15A",
           "#19d3f3",
           "#FF6692",
           "#B6E880",
           "#FF97FF",
           "#FECB52"
          ],
          "font": {
           "color": "#2a3f5f"
          },
          "geo": {
           "bgcolor": "white",
           "lakecolor": "white",
           "landcolor": "#E5ECF6",
           "showlakes": true,
           "showland": true,
           "subunitcolor": "white"
          },
          "hoverlabel": {
           "align": "left"
          },
          "hovermode": "closest",
          "mapbox": {
           "style": "light"
          },
          "paper_bgcolor": "white",
          "plot_bgcolor": "#E5ECF6",
          "polar": {
           "angularaxis": {
            "gridcolor": "white",
            "linecolor": "white",
            "ticks": ""
           },
           "bgcolor": "#E5ECF6",
           "radialaxis": {
            "gridcolor": "white",
            "linecolor": "white",
            "ticks": ""
           }
          },
          "scene": {
           "xaxis": {
            "backgroundcolor": "#E5ECF6",
            "gridcolor": "white",
            "gridwidth": 2,
            "linecolor": "white",
            "showbackground": true,
            "ticks": "",
            "zerolinecolor": "white"
           },
           "yaxis": {
            "backgroundcolor": "#E5ECF6",
            "gridcolor": "white",
            "gridwidth": 2,
            "linecolor": "white",
            "showbackground": true,
            "ticks": "",
            "zerolinecolor": "white"
           },
           "zaxis": {
            "backgroundcolor": "#E5ECF6",
            "gridcolor": "white",
            "gridwidth": 2,
            "linecolor": "white",
            "showbackground": true,
            "ticks": "",
            "zerolinecolor": "white"
           }
          },
          "shapedefaults": {
           "line": {
            "color": "#2a3f5f"
           }
          },
          "ternary": {
           "aaxis": {
            "gridcolor": "white",
            "linecolor": "white",
            "ticks": ""
           },
           "baxis": {
            "gridcolor": "white",
            "linecolor": "white",
            "ticks": ""
           },
           "bgcolor": "#E5ECF6",
           "caxis": {
            "gridcolor": "white",
            "linecolor": "white",
            "ticks": ""
           }
          },
          "title": {
           "x": 0.05
          },
          "xaxis": {
           "automargin": true,
           "gridcolor": "white",
           "linecolor": "white",
           "ticks": "",
           "title": {
            "standoff": 15
           },
           "zerolinecolor": "white",
           "zerolinewidth": 2
          },
          "yaxis": {
           "automargin": true,
           "gridcolor": "white",
           "linecolor": "white",
           "ticks": "",
           "title": {
            "standoff": 15
           },
           "zerolinecolor": "white",
           "zerolinewidth": 2
          }
         }
        },
        "title": {
         "text": "Histogramme du score de bonheur par pays en 2020"
        },
        "xaxis": {
         "anchor": "y",
         "categoryorder": "total descending",
         "domain": [
          0,
          1
         ],
         "title": {
          "text": "Country name"
         }
        },
        "yaxis": {
         "anchor": "x",
         "domain": [
          0,
          1
         ],
         "title": {
          "text": "Ladder score"
         }
        }
       }
      }
     },
     "metadata": {},
     "output_type": "display_data"
    }
   ],
   "source": [
    "# Histogramme\n",
    "\n",
    "import plotly.express as px\n",
    "data_2020 = data_2020.sort_values(by='Ladder score', ascending=False)\n",
    "fig = px.bar(\n",
    "    data_2020,\n",
    "    x='Country name',\n",
    "    y='Ladder score',\n",
    "    title='Histogramme du score de bonheur par pays en 2020',\n",
    "    color='Regional indicator'\n",
    ")\n",
    "fig.update_xaxes(categoryorder='total descending')\n",
    "fig.show()"
   ]
  },
  {
   "cell_type": "code",
   "execution_count": 26,
   "metadata": {},
   "outputs": [
    {
     "data": {
      "application/vnd.plotly.v1+json": {
       "config": {
        "plotlyServerURL": "https://plot.ly"
       },
       "data": [
        {
         "coloraxis": "coloraxis",
         "hovertemplate": "Columns: %{x}<br>Columns: %{y}<br>Correlation: %{z}<extra></extra>",
         "name": "0",
         "texttemplate": "%{z}",
         "type": "heatmap",
         "x": [
          "Ladder score",
          "Logged GDP per capita",
          "Social support",
          "Healthy life expectancy",
          "Freedom to make life choices",
          "Perceptions of corruption",
          "Generosity"
         ],
         "xaxis": "x",
         "y": [
          "Ladder score",
          "Logged GDP per capita",
          "Social support",
          "Healthy life expectancy",
          "Freedom to make life choices",
          "Perceptions of corruption",
          "Generosity"
         ],
         "yaxis": "y",
         "z": [
          [
           1,
           0.7753744007526835,
           0.7650007567161385,
           0.770316289871849,
           0.5905967829225884,
           -0.4183050872559097,
           0.06904312657148512
          ],
          [
           0.7753744007526835,
           1,
           0.7818135831455395,
           0.848468617426851,
           0.41901864621438106,
           -0.33472907734432045,
           -0.11839937437059446
          ],
          [
           0.7650007567161385,
           0.7818135831455395,
           1,
           0.7427440895198051,
           0.47886317974441023,
           -0.21052960078864522,
           -0.05678035357271647
          ],
          [
           0.770316289871849,
           0.848468617426851,
           0.7427440895198051,
           1,
           0.44884618762649203,
           -0.35384120536095337,
           -0.0718521089021378
          ],
          [
           0.5905967829225884,
           0.41901864621438106,
           0.47886317974441023,
           0.44884618762649203,
           1,
           -0.42014450487659827,
           0.25372112360550303
          ],
          [
           -0.4183050872559097,
           -0.33472907734432045,
           -0.21052960078864522,
           -0.35384120536095337,
           -0.42014450487659827,
           1,
           -0.2784802257031198
          ],
          [
           0.06904312657148512,
           -0.11839937437059446,
           -0.05678035357271647,
           -0.0718521089021378,
           0.25372112360550303,
           -0.2784802257031198,
           1
          ]
         ]
        }
       ],
       "layout": {
        "coloraxis": {
         "cmax": 1,
         "cmin": -1,
         "colorbar": {
          "title": {
           "text": "Correlation"
          }
         },
         "colorscale": [
          [
           0,
           "rgb(103,0,31)"
          ],
          [
           0.1,
           "rgb(178,24,43)"
          ],
          [
           0.2,
           "rgb(214,96,77)"
          ],
          [
           0.3,
           "rgb(244,165,130)"
          ],
          [
           0.4,
           "rgb(253,219,199)"
          ],
          [
           0.5,
           "rgb(247,247,247)"
          ],
          [
           0.6,
           "rgb(209,229,240)"
          ],
          [
           0.7,
           "rgb(146,197,222)"
          ],
          [
           0.8,
           "rgb(67,147,195)"
          ],
          [
           0.9,
           "rgb(33,102,172)"
          ],
          [
           1,
           "rgb(5,48,97)"
          ]
         ]
        },
        "height": 800,
        "template": {
         "data": {
          "bar": [
           {
            "error_x": {
             "color": "#2a3f5f"
            },
            "error_y": {
             "color": "#2a3f5f"
            },
            "marker": {
             "line": {
              "color": "#E5ECF6",
              "width": 0.5
             },
             "pattern": {
              "fillmode": "overlay",
              "size": 10,
              "solidity": 0.2
             }
            },
            "type": "bar"
           }
          ],
          "barpolar": [
           {
            "marker": {
             "line": {
              "color": "#E5ECF6",
              "width": 0.5
             },
             "pattern": {
              "fillmode": "overlay",
              "size": 10,
              "solidity": 0.2
             }
            },
            "type": "barpolar"
           }
          ],
          "carpet": [
           {
            "aaxis": {
             "endlinecolor": "#2a3f5f",
             "gridcolor": "white",
             "linecolor": "white",
             "minorgridcolor": "white",
             "startlinecolor": "#2a3f5f"
            },
            "baxis": {
             "endlinecolor": "#2a3f5f",
             "gridcolor": "white",
             "linecolor": "white",
             "minorgridcolor": "white",
             "startlinecolor": "#2a3f5f"
            },
            "type": "carpet"
           }
          ],
          "choropleth": [
           {
            "colorbar": {
             "outlinewidth": 0,
             "ticks": ""
            },
            "type": "choropleth"
           }
          ],
          "contour": [
           {
            "colorbar": {
             "outlinewidth": 0,
             "ticks": ""
            },
            "colorscale": [
             [
              0,
              "#0d0887"
             ],
             [
              0.1111111111111111,
              "#46039f"
             ],
             [
              0.2222222222222222,
              "#7201a8"
             ],
             [
              0.3333333333333333,
              "#9c179e"
             ],
             [
              0.4444444444444444,
              "#bd3786"
             ],
             [
              0.5555555555555556,
              "#d8576b"
             ],
             [
              0.6666666666666666,
              "#ed7953"
             ],
             [
              0.7777777777777778,
              "#fb9f3a"
             ],
             [
              0.8888888888888888,
              "#fdca26"
             ],
             [
              1,
              "#f0f921"
             ]
            ],
            "type": "contour"
           }
          ],
          "contourcarpet": [
           {
            "colorbar": {
             "outlinewidth": 0,
             "ticks": ""
            },
            "type": "contourcarpet"
           }
          ],
          "heatmap": [
           {
            "colorbar": {
             "outlinewidth": 0,
             "ticks": ""
            },
            "colorscale": [
             [
              0,
              "#0d0887"
             ],
             [
              0.1111111111111111,
              "#46039f"
             ],
             [
              0.2222222222222222,
              "#7201a8"
             ],
             [
              0.3333333333333333,
              "#9c179e"
             ],
             [
              0.4444444444444444,
              "#bd3786"
             ],
             [
              0.5555555555555556,
              "#d8576b"
             ],
             [
              0.6666666666666666,
              "#ed7953"
             ],
             [
              0.7777777777777778,
              "#fb9f3a"
             ],
             [
              0.8888888888888888,
              "#fdca26"
             ],
             [
              1,
              "#f0f921"
             ]
            ],
            "type": "heatmap"
           }
          ],
          "heatmapgl": [
           {
            "colorbar": {
             "outlinewidth": 0,
             "ticks": ""
            },
            "colorscale": [
             [
              0,
              "#0d0887"
             ],
             [
              0.1111111111111111,
              "#46039f"
             ],
             [
              0.2222222222222222,
              "#7201a8"
             ],
             [
              0.3333333333333333,
              "#9c179e"
             ],
             [
              0.4444444444444444,
              "#bd3786"
             ],
             [
              0.5555555555555556,
              "#d8576b"
             ],
             [
              0.6666666666666666,
              "#ed7953"
             ],
             [
              0.7777777777777778,
              "#fb9f3a"
             ],
             [
              0.8888888888888888,
              "#fdca26"
             ],
             [
              1,
              "#f0f921"
             ]
            ],
            "type": "heatmapgl"
           }
          ],
          "histogram": [
           {
            "marker": {
             "pattern": {
              "fillmode": "overlay",
              "size": 10,
              "solidity": 0.2
             }
            },
            "type": "histogram"
           }
          ],
          "histogram2d": [
           {
            "colorbar": {
             "outlinewidth": 0,
             "ticks": ""
            },
            "colorscale": [
             [
              0,
              "#0d0887"
             ],
             [
              0.1111111111111111,
              "#46039f"
             ],
             [
              0.2222222222222222,
              "#7201a8"
             ],
             [
              0.3333333333333333,
              "#9c179e"
             ],
             [
              0.4444444444444444,
              "#bd3786"
             ],
             [
              0.5555555555555556,
              "#d8576b"
             ],
             [
              0.6666666666666666,
              "#ed7953"
             ],
             [
              0.7777777777777778,
              "#fb9f3a"
             ],
             [
              0.8888888888888888,
              "#fdca26"
             ],
             [
              1,
              "#f0f921"
             ]
            ],
            "type": "histogram2d"
           }
          ],
          "histogram2dcontour": [
           {
            "colorbar": {
             "outlinewidth": 0,
             "ticks": ""
            },
            "colorscale": [
             [
              0,
              "#0d0887"
             ],
             [
              0.1111111111111111,
              "#46039f"
             ],
             [
              0.2222222222222222,
              "#7201a8"
             ],
             [
              0.3333333333333333,
              "#9c179e"
             ],
             [
              0.4444444444444444,
              "#bd3786"
             ],
             [
              0.5555555555555556,
              "#d8576b"
             ],
             [
              0.6666666666666666,
              "#ed7953"
             ],
             [
              0.7777777777777778,
              "#fb9f3a"
             ],
             [
              0.8888888888888888,
              "#fdca26"
             ],
             [
              1,
              "#f0f921"
             ]
            ],
            "type": "histogram2dcontour"
           }
          ],
          "mesh3d": [
           {
            "colorbar": {
             "outlinewidth": 0,
             "ticks": ""
            },
            "type": "mesh3d"
           }
          ],
          "parcoords": [
           {
            "line": {
             "colorbar": {
              "outlinewidth": 0,
              "ticks": ""
             }
            },
            "type": "parcoords"
           }
          ],
          "pie": [
           {
            "automargin": true,
            "type": "pie"
           }
          ],
          "scatter": [
           {
            "fillpattern": {
             "fillmode": "overlay",
             "size": 10,
             "solidity": 0.2
            },
            "type": "scatter"
           }
          ],
          "scatter3d": [
           {
            "line": {
             "colorbar": {
              "outlinewidth": 0,
              "ticks": ""
             }
            },
            "marker": {
             "colorbar": {
              "outlinewidth": 0,
              "ticks": ""
             }
            },
            "type": "scatter3d"
           }
          ],
          "scattercarpet": [
           {
            "marker": {
             "colorbar": {
              "outlinewidth": 0,
              "ticks": ""
             }
            },
            "type": "scattercarpet"
           }
          ],
          "scattergeo": [
           {
            "marker": {
             "colorbar": {
              "outlinewidth": 0,
              "ticks": ""
             }
            },
            "type": "scattergeo"
           }
          ],
          "scattergl": [
           {
            "marker": {
             "colorbar": {
              "outlinewidth": 0,
              "ticks": ""
             }
            },
            "type": "scattergl"
           }
          ],
          "scattermapbox": [
           {
            "marker": {
             "colorbar": {
              "outlinewidth": 0,
              "ticks": ""
             }
            },
            "type": "scattermapbox"
           }
          ],
          "scatterpolar": [
           {
            "marker": {
             "colorbar": {
              "outlinewidth": 0,
              "ticks": ""
             }
            },
            "type": "scatterpolar"
           }
          ],
          "scatterpolargl": [
           {
            "marker": {
             "colorbar": {
              "outlinewidth": 0,
              "ticks": ""
             }
            },
            "type": "scatterpolargl"
           }
          ],
          "scatterternary": [
           {
            "marker": {
             "colorbar": {
              "outlinewidth": 0,
              "ticks": ""
             }
            },
            "type": "scatterternary"
           }
          ],
          "surface": [
           {
            "colorbar": {
             "outlinewidth": 0,
             "ticks": ""
            },
            "colorscale": [
             [
              0,
              "#0d0887"
             ],
             [
              0.1111111111111111,
              "#46039f"
             ],
             [
              0.2222222222222222,
              "#7201a8"
             ],
             [
              0.3333333333333333,
              "#9c179e"
             ],
             [
              0.4444444444444444,
              "#bd3786"
             ],
             [
              0.5555555555555556,
              "#d8576b"
             ],
             [
              0.6666666666666666,
              "#ed7953"
             ],
             [
              0.7777777777777778,
              "#fb9f3a"
             ],
             [
              0.8888888888888888,
              "#fdca26"
             ],
             [
              1,
              "#f0f921"
             ]
            ],
            "type": "surface"
           }
          ],
          "table": [
           {
            "cells": {
             "fill": {
              "color": "#EBF0F8"
             },
             "line": {
              "color": "white"
             }
            },
            "header": {
             "fill": {
              "color": "#C8D4E3"
             },
             "line": {
              "color": "white"
             }
            },
            "type": "table"
           }
          ]
         },
         "layout": {
          "annotationdefaults": {
           "arrowcolor": "#2a3f5f",
           "arrowhead": 0,
           "arrowwidth": 1
          },
          "autotypenumbers": "strict",
          "coloraxis": {
           "colorbar": {
            "outlinewidth": 0,
            "ticks": ""
           }
          },
          "colorscale": {
           "diverging": [
            [
             0,
             "#8e0152"
            ],
            [
             0.1,
             "#c51b7d"
            ],
            [
             0.2,
             "#de77ae"
            ],
            [
             0.3,
             "#f1b6da"
            ],
            [
             0.4,
             "#fde0ef"
            ],
            [
             0.5,
             "#f7f7f7"
            ],
            [
             0.6,
             "#e6f5d0"
            ],
            [
             0.7,
             "#b8e186"
            ],
            [
             0.8,
             "#7fbc41"
            ],
            [
             0.9,
             "#4d9221"
            ],
            [
             1,
             "#276419"
            ]
           ],
           "sequential": [
            [
             0,
             "#0d0887"
            ],
            [
             0.1111111111111111,
             "#46039f"
            ],
            [
             0.2222222222222222,
             "#7201a8"
            ],
            [
             0.3333333333333333,
             "#9c179e"
            ],
            [
             0.4444444444444444,
             "#bd3786"
            ],
            [
             0.5555555555555556,
             "#d8576b"
            ],
            [
             0.6666666666666666,
             "#ed7953"
            ],
            [
             0.7777777777777778,
             "#fb9f3a"
            ],
            [
             0.8888888888888888,
             "#fdca26"
            ],
            [
             1,
             "#f0f921"
            ]
           ],
           "sequentialminus": [
            [
             0,
             "#0d0887"
            ],
            [
             0.1111111111111111,
             "#46039f"
            ],
            [
             0.2222222222222222,
             "#7201a8"
            ],
            [
             0.3333333333333333,
             "#9c179e"
            ],
            [
             0.4444444444444444,
             "#bd3786"
            ],
            [
             0.5555555555555556,
             "#d8576b"
            ],
            [
             0.6666666666666666,
             "#ed7953"
            ],
            [
             0.7777777777777778,
             "#fb9f3a"
            ],
            [
             0.8888888888888888,
             "#fdca26"
            ],
            [
             1,
             "#f0f921"
            ]
           ]
          },
          "colorway": [
           "#636efa",
           "#EF553B",
           "#00cc96",
           "#ab63fa",
           "#FFA15A",
           "#19d3f3",
           "#FF6692",
           "#B6E880",
           "#FF97FF",
           "#FECB52"
          ],
          "font": {
           "color": "#2a3f5f"
          },
          "geo": {
           "bgcolor": "white",
           "lakecolor": "white",
           "landcolor": "#E5ECF6",
           "showlakes": true,
           "showland": true,
           "subunitcolor": "white"
          },
          "hoverlabel": {
           "align": "left"
          },
          "hovermode": "closest",
          "mapbox": {
           "style": "light"
          },
          "paper_bgcolor": "white",
          "plot_bgcolor": "#E5ECF6",
          "polar": {
           "angularaxis": {
            "gridcolor": "white",
            "linecolor": "white",
            "ticks": ""
           },
           "bgcolor": "#E5ECF6",
           "radialaxis": {
            "gridcolor": "white",
            "linecolor": "white",
            "ticks": ""
           }
          },
          "scene": {
           "xaxis": {
            "backgroundcolor": "#E5ECF6",
            "gridcolor": "white",
            "gridwidth": 2,
            "linecolor": "white",
            "showbackground": true,
            "ticks": "",
            "zerolinecolor": "white"
           },
           "yaxis": {
            "backgroundcolor": "#E5ECF6",
            "gridcolor": "white",
            "gridwidth": 2,
            "linecolor": "white",
            "showbackground": true,
            "ticks": "",
            "zerolinecolor": "white"
           },
           "zaxis": {
            "backgroundcolor": "#E5ECF6",
            "gridcolor": "white",
            "gridwidth": 2,
            "linecolor": "white",
            "showbackground": true,
            "ticks": "",
            "zerolinecolor": "white"
           }
          },
          "shapedefaults": {
           "line": {
            "color": "#2a3f5f"
           }
          },
          "ternary": {
           "aaxis": {
            "gridcolor": "white",
            "linecolor": "white",
            "ticks": ""
           },
           "baxis": {
            "gridcolor": "white",
            "linecolor": "white",
            "ticks": ""
           },
           "bgcolor": "#E5ECF6",
           "caxis": {
            "gridcolor": "white",
            "linecolor": "white",
            "ticks": ""
           }
          },
          "title": {
           "x": 0.05
          },
          "xaxis": {
           "automargin": true,
           "gridcolor": "white",
           "linecolor": "white",
           "ticks": "",
           "title": {
            "standoff": 15
           },
           "zerolinecolor": "white",
           "zerolinewidth": 2
          },
          "yaxis": {
           "automargin": true,
           "gridcolor": "white",
           "linecolor": "white",
           "ticks": "",
           "title": {
            "standoff": 15
           },
           "zerolinecolor": "white",
           "zerolinewidth": 2
          }
         }
        },
        "title": {
         "text": "Correlation Heatmap"
        },
        "width": 900,
        "xaxis": {
         "anchor": "y",
         "constrain": "domain",
         "domain": [
          0,
          1
         ],
         "scaleanchor": "y",
         "title": {
          "text": "Columns"
         }
        },
        "yaxis": {
         "anchor": "x",
         "autorange": "reversed",
         "constrain": "domain",
         "domain": [
          0,
          1
         ],
         "title": {
          "text": "Columns"
         }
        }
       }
      }
     },
     "metadata": {},
     "output_type": "display_data"
    }
   ],
   "source": [
    "# Calculate the correlation matrix\n",
    "df_heatmap = data_2020[['Ladder score', 'Logged GDP per capita', 'Social support', 'Healthy life expectancy', 'Freedom to make life choices','Perceptions of corruption', 'Generosity']]\n",
    "correlation_matrix = df_heatmap.corr()\n",
    "\n",
    "# Create the heatmap\n",
    "fig = px.imshow(\n",
    "    correlation_matrix,\n",
    "    title=\"Correlation Heatmap\",\n",
    "    labels=dict(x=\"Columns\", y=\"Columns\", color=\"Correlation\"),\n",
    "    color_continuous_scale=\"RdBu\",\n",
    "    zmin=-1, zmax=1, text_auto=True\n",
    ")\n",
    "fig.update_layout(width=900, height=800)\n",
    "fig.show()"
   ]
  },
  {
   "cell_type": "markdown",
   "metadata": {},
   "source": [
    "Heatmap / Correlation\n",
    "Clustering\n",
    "\n",
    "ACP\n",
    "\n",
    "Chloropleth"
   ]
  }
 ],
 "metadata": {
  "kernelspec": {
   "display_name": "Python 3",
   "language": "python",
   "name": "python3"
  },
  "language_info": {
   "codemirror_mode": {
    "name": "ipython",
    "version": 3
   },
   "file_extension": ".py",
   "mimetype": "text/x-python",
   "name": "python",
   "nbconvert_exporter": "python",
   "pygments_lexer": "ipython3",
   "version": "3.12.0"
  }
 },
 "nbformat": 4,
 "nbformat_minor": 2
}
