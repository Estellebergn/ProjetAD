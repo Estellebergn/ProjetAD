{
 "cells": [
  {
   "cell_type": "code",
   "execution_count": 23,
   "metadata": {},
   "outputs": [],
   "source": [
    "import pandas as pd\n",
    "import plotly.express as px\n",
    "import plotly.graph_objects as go\n",
    "\n",
    "from sklearn.cluster import KMeans\n",
    "from sklearn.metrics import silhouette_score\n",
    "import matplotlib.pyplot as plt\n",
    "\n",
    "from sklearn.preprocessing import StandardScaler\n",
    "\n",
    "from sklearn.mixture import GaussianMixture"
   ]
  },
  {
   "cell_type": "markdown",
   "metadata": {},
   "source": [
    "# Chargement data"
   ]
  },
  {
   "cell_type": "code",
   "execution_count": 24,
   "metadata": {},
   "outputs": [
    {
     "name": "stdout",
     "output_type": "stream",
     "text": [
      "Index(['Country name', 'Regional indicator', 'Ladder score',\n",
      "       'Standard error of ladder score', 'upperwhisker', 'lowerwhisker',\n",
      "       'Logged GDP per capita', 'Social support', 'Healthy life expectancy',\n",
      "       'Freedom to make life choices', 'Generosity',\n",
      "       'Perceptions of corruption', 'Ladder score in Dystopia',\n",
      "       'Explained by: Log GDP per capita', 'Explained by: Social support',\n",
      "       'Explained by: Healthy life expectancy',\n",
      "       'Explained by: Freedom to make life choices',\n",
      "       'Explained by: Generosity', 'Explained by: Perceptions of corruption',\n",
      "       'Dystopia + residual'],\n",
      "      dtype='object')\n",
      "  Country name Regional indicator  Ladder score  \\\n",
      "0      Finland     Western Europe        7.8087   \n",
      "1      Denmark     Western Europe        7.6456   \n",
      "2  Switzerland     Western Europe        7.5599   \n",
      "3      Iceland     Western Europe        7.5045   \n",
      "4       Norway     Western Europe        7.4880   \n",
      "\n",
      "   Standard error of ladder score  upperwhisker  lowerwhisker  \\\n",
      "0                        0.031156      7.869766      7.747634   \n",
      "1                        0.033492      7.711245      7.579955   \n",
      "2                        0.035014      7.628528      7.491272   \n",
      "3                        0.059616      7.621347      7.387653   \n",
      "4                        0.034837      7.556281      7.419719   \n",
      "\n",
      "   Logged GDP per capita  Social support  Healthy life expectancy  \\\n",
      "0              10.639267        0.954330                71.900825   \n",
      "1              10.774001        0.955991                72.402504   \n",
      "2              10.979933        0.942847                74.102448   \n",
      "3              10.772559        0.974670                73.000000   \n",
      "4              11.087804        0.952487                73.200783   \n",
      "\n",
      "   Freedom to make life choices  Generosity  Perceptions of corruption  \\\n",
      "0                      0.949172   -0.059482                   0.195445   \n",
      "1                      0.951444    0.066202                   0.168489   \n",
      "2                      0.921337    0.105911                   0.303728   \n",
      "3                      0.948892    0.246944                   0.711710   \n",
      "4                      0.955750    0.134533                   0.263218   \n",
      "\n",
      "   Ladder score in Dystopia  Explained by: Log GDP per capita  \\\n",
      "0                  1.972317                          1.285190   \n",
      "1                  1.972317                          1.326949   \n",
      "2                  1.972317                          1.390774   \n",
      "3                  1.972317                          1.326502   \n",
      "4                  1.972317                          1.424207   \n",
      "\n",
      "   Explained by: Social support  Explained by: Healthy life expectancy  \\\n",
      "0                      1.499526                               0.961271   \n",
      "1                      1.503449                               0.979333   \n",
      "2                      1.472403                               1.040533   \n",
      "3                      1.547567                               1.000843   \n",
      "4                      1.495173                               1.008072   \n",
      "\n",
      "   Explained by: Freedom to make life choices  Explained by: Generosity  \\\n",
      "0                                    0.662317                  0.159670   \n",
      "1                                    0.665040                  0.242793   \n",
      "2                                    0.628954                  0.269056   \n",
      "3                                    0.661981                  0.362330   \n",
      "4                                    0.670201                  0.287985   \n",
      "\n",
      "   Explained by: Perceptions of corruption  Dystopia + residual  \n",
      "0                                 0.477857             2.762835  \n",
      "1                                 0.495260             2.432741  \n",
      "2                                 0.407946             2.350267  \n",
      "3                                 0.144541             2.460688  \n",
      "4                                 0.434101             2.168266  \n"
     ]
    }
   ],
   "source": [
    "data_2020 = pd.read_csv('data/2020.csv')\n",
    "data_2021 = pd.read_csv('data/2021.csv')\n",
    "data_2022 = pd.read_csv('data/2022.csv')\n",
    "\n",
    "print(data_2020.columns)\n",
    "print(data_2020.head())"
   ]
  },
  {
   "cell_type": "code",
   "execution_count": 25,
   "metadata": {},
   "outputs": [
    {
     "data": {
      "application/vnd.plotly.v1+json": {
       "config": {
        "plotlyServerURL": "https://plot.ly"
       },
       "data": [
        {
         "alignmentgroup": "True",
         "hovertemplate": "Regional indicator=Western Europe<br>Country name=%{x}<br>Ladder score=%{y}<extra></extra>",
         "legendgroup": "Western Europe",
         "marker": {
          "color": "#636efa",
          "pattern": {
           "shape": ""
          }
         },
         "name": "Western Europe",
         "offsetgroup": "Western Europe",
         "orientation": "v",
         "showlegend": true,
         "textposition": "auto",
         "type": "bar",
         "x": [
          "Finland",
          "Denmark",
          "Switzerland",
          "Iceland",
          "Norway",
          "Netherlands",
          "Sweden",
          "Austria",
          "Luxembourg",
          "United Kingdom",
          "Ireland",
          "Germany",
          "Belgium",
          "Malta",
          "France",
          "Spain",
          "Italy",
          "Cyprus",
          "Portugal",
          "North Cyprus",
          "Greece"
         ],
         "xaxis": "x",
         "y": [
          7.808700085,
          7.645599842,
          7.559899807,
          7.504499912,
          7.487999916,
          7.448900223,
          7.353499889,
          7.294199944,
          7.237500191,
          7.164500237,
          7.093699932,
          7.075799942,
          6.863500118,
          6.772799969,
          6.663799763,
          6.400899887,
          6.38740015,
          6.15899992,
          5.910900116,
          5.53550005,
          5.514999866
         ],
         "yaxis": "y"
        },
        {
         "alignmentgroup": "True",
         "hovertemplate": "Regional indicator=North America and ANZ<br>Country name=%{x}<br>Ladder score=%{y}<extra></extra>",
         "legendgroup": "North America and ANZ",
         "marker": {
          "color": "#EF553B",
          "pattern": {
           "shape": ""
          }
         },
         "name": "North America and ANZ",
         "offsetgroup": "North America and ANZ",
         "orientation": "v",
         "showlegend": true,
         "textposition": "auto",
         "type": "bar",
         "x": [
          "New Zealand",
          "Canada",
          "Australia",
          "United States"
         ],
         "xaxis": "x",
         "y": [
          7.299600124,
          7.23210001,
          7.222799778,
          6.939599991
         ],
         "yaxis": "y"
        },
        {
         "alignmentgroup": "True",
         "hovertemplate": "Regional indicator=Middle East and North Africa<br>Country name=%{x}<br>Ladder score=%{y}<extra></extra>",
         "legendgroup": "Middle East and North Africa",
         "marker": {
          "color": "#00cc96",
          "pattern": {
           "shape": ""
          }
         },
         "name": "Middle East and North Africa",
         "offsetgroup": "Middle East and North Africa",
         "orientation": "v",
         "showlegend": true,
         "textposition": "auto",
         "type": "bar",
         "x": [
          "Israel",
          "United Arab Emirates",
          "Saudi Arabia",
          "Bahrain",
          "Kuwait",
          "Libya",
          "Turkey",
          "Morocco",
          "Algeria",
          "Iraq",
          "Lebanon",
          "Iran",
          "Jordan",
          "Palestinian Territories",
          "Tunisia",
          "Egypt",
          "Yemen"
         ],
         "xaxis": "x",
         "y": [
          7.128600121,
          6.790800095,
          6.406499863,
          6.227300167,
          6.102099895,
          5.488800049,
          5.131800175,
          5.094799995,
          5.005099773,
          4.784800053,
          4.771500111,
          4.672399998,
          4.633399963,
          4.552800179,
          4.392199993,
          4.151400089,
          3.527400017
         ],
         "yaxis": "y"
        },
        {
         "alignmentgroup": "True",
         "hovertemplate": "Regional indicator=Latin America and Caribbean<br>Country name=%{x}<br>Ladder score=%{y}<extra></extra>",
         "legendgroup": "Latin America and Caribbean",
         "marker": {
          "color": "#ab63fa",
          "pattern": {
           "shape": ""
          }
         },
         "name": "Latin America and Caribbean",
         "offsetgroup": "Latin America and Caribbean",
         "orientation": "v",
         "showlegend": true,
         "textposition": "auto",
         "type": "bar",
         "x": [
          "Costa Rica",
          "Mexico",
          "Uruguay",
          "Guatemala",
          "Brazil",
          "El Salvador",
          "Panama",
          "Chile",
          "Trinidad and Tobago",
          "Colombia",
          "Nicaragua",
          "Argentina",
          "Honduras",
          "Ecuador",
          "Jamaica",
          "Peru",
          "Bolivia",
          "Paraguay",
          "Dominican Republic",
          "Venezuela",
          "Haiti"
         ],
         "xaxis": "x",
         "y": [
          7.121399879,
          6.465000153,
          6.440100193,
          6.398900032,
          6.375599861,
          6.34829998,
          6.304800034,
          6.228499889,
          6.191899776,
          6.163400173,
          6.13710022,
          5.974699974,
          5.953199863,
          5.925199986,
          5.889800072,
          5.796800137,
          5.747499943,
          5.692100048,
          5.689199924,
          5.053199768,
          3.720799923
         ],
         "yaxis": "y"
        },
        {
         "alignmentgroup": "True",
         "hovertemplate": "Regional indicator=Central and Eastern Europe<br>Country name=%{x}<br>Ladder score=%{y}<extra></extra>",
         "legendgroup": "Central and Eastern Europe",
         "marker": {
          "color": "#FFA15A",
          "pattern": {
           "shape": ""
          }
         },
         "name": "Central and Eastern Europe",
         "offsetgroup": "Central and Eastern Europe",
         "orientation": "v",
         "showlegend": true,
         "textposition": "auto",
         "type": "bar",
         "x": [
          "Czech Republic",
          "Slovenia",
          "Kosovo",
          "Slovakia",
          "Lithuania",
          "Poland",
          "Romania",
          "Estonia",
          "Hungary",
          "Latvia",
          "Serbia",
          "Bosnia and Herzegovina",
          "Montenegro",
          "Croatia",
          "Macedonia",
          "Bulgaria",
          "Albania"
         ],
         "xaxis": "x",
         "y": [
          6.910900116,
          6.363399982,
          6.325200081,
          6.280600071,
          6.215499878,
          6.186299801,
          6.123700142,
          6.021800041,
          6.000400066,
          5.949999809,
          5.77820015,
          5.674099922,
          5.54610014,
          5.504700184,
          5.159800053,
          5.101500034,
          4.882699966
         ],
         "yaxis": "y"
        },
        {
         "alignmentgroup": "True",
         "hovertemplate": "Regional indicator=East Asia<br>Country name=%{x}<br>Ladder score=%{y}<extra></extra>",
         "legendgroup": "East Asia",
         "marker": {
          "color": "#19d3f3",
          "pattern": {
           "shape": ""
          }
         },
         "name": "East Asia",
         "offsetgroup": "East Asia",
         "orientation": "v",
         "showlegend": true,
         "textposition": "auto",
         "type": "bar",
         "x": [
          "Taiwan Province of China",
          "South Korea",
          "Japan",
          "Hong Kong S.A.R. of China",
          "Mongolia",
          "China"
         ],
         "xaxis": "x",
         "y": [
          6.45539999,
          5.872399807,
          5.870800018,
          5.510399818,
          5.456200123,
          5.123899937
         ],
         "yaxis": "y"
        },
        {
         "alignmentgroup": "True",
         "hovertemplate": "Regional indicator=Southeast Asia<br>Country name=%{x}<br>Ladder score=%{y}<extra></extra>",
         "legendgroup": "Southeast Asia",
         "marker": {
          "color": "#FF6692",
          "pattern": {
           "shape": ""
          }
         },
         "name": "Southeast Asia",
         "offsetgroup": "Southeast Asia",
         "orientation": "v",
         "showlegend": true,
         "textposition": "auto",
         "type": "bar",
         "x": [
          "Singapore",
          "Philippines",
          "Thailand",
          "Malaysia",
          "Vietnam",
          "Indonesia",
          "Laos",
          "Cambodia",
          "Myanmar"
         ],
         "xaxis": "x",
         "y": [
          6.377099991,
          6.006000042,
          5.998799801,
          5.384300232,
          5.353499889,
          5.285600185,
          4.888599873,
          4.848400116,
          4.308000088
         ],
         "yaxis": "y"
        },
        {
         "alignmentgroup": "True",
         "hovertemplate": "Regional indicator=Commonwealth of Independent States<br>Country name=%{x}<br>Ladder score=%{y}<extra></extra>",
         "legendgroup": "Commonwealth of Independent States",
         "marker": {
          "color": "#B6E880",
          "pattern": {
           "shape": ""
          }
         },
         "name": "Commonwealth of Independent States",
         "offsetgroup": "Commonwealth of Independent States",
         "orientation": "v",
         "showlegend": true,
         "textposition": "auto",
         "type": "bar",
         "x": [
          "Uzbekistan",
          "Kazakhstan",
          "Moldova",
          "Tajikistan",
          "Russia",
          "Kyrgyzstan",
          "Belarus",
          "Azerbaijan",
          "Turkmenistan",
          "Armenia",
          "Georgia",
          "Ukraine"
         ],
         "xaxis": "x",
         "y": [
          6.257599831,
          6.057899952,
          5.607500076,
          5.555699825,
          5.546000004,
          5.541500092,
          5.539899826,
          5.164800167,
          5.119100094,
          4.676799774,
          4.672599792,
          4.56069994
         ],
         "yaxis": "y"
        },
        {
         "alignmentgroup": "True",
         "hovertemplate": "Regional indicator=Sub-Saharan Africa<br>Country name=%{x}<br>Ladder score=%{y}<extra></extra>",
         "legendgroup": "Sub-Saharan Africa",
         "marker": {
          "color": "#FF97FF",
          "pattern": {
           "shape": ""
          }
         },
         "name": "Sub-Saharan Africa",
         "offsetgroup": "Sub-Saharan Africa",
         "orientation": "v",
         "showlegend": true,
         "textposition": "auto",
         "type": "bar",
         "x": [
          "Mauritius",
          "Ivory Coast",
          "Benin",
          "Congo (Brazzaville)",
          "Ghana",
          "Cameroon",
          "Senegal",
          "Guinea",
          "Niger",
          "Gabon",
          "South Africa",
          "Burkina Faso",
          "Gambia",
          "Mali",
          "Nigeria",
          "Mozambique",
          "Kenya",
          "Namibia",
          "Liberia",
          "Uganda",
          "Chad",
          "Mauritania",
          "Congo (Kinshasa)",
          "Swaziland",
          "Comoros",
          "Togo",
          "Ethiopia",
          "Madagascar",
          "Sierra Leone",
          "Burundi",
          "Zambia",
          "Lesotho",
          "Malawi",
          "Botswana",
          "Tanzania",
          "Central African Republic",
          "Rwanda",
          "Zimbabwe",
          "South Sudan"
         ],
         "xaxis": "x",
         "y": [
          6.101299763,
          5.233300209,
          5.21600008,
          5.194399834,
          5.147999763,
          5.084899902,
          4.980800152,
          4.949299812,
          4.909599781,
          4.829299927,
          4.814099789,
          4.768700123,
          4.750599861,
          4.729300022,
          4.724100113,
          4.623600006,
          4.583000183,
          4.571100235,
          4.557899952,
          4.43200016,
          4.422699928,
          4.374599934,
          4.31099987,
          4.308100224,
          4.288599968,
          4.187200069,
          4.186200142,
          4.165599823,
          3.926399946,
          3.775300026,
          3.759399891,
          3.652800083,
          3.538000107,
          3.478899956,
          3.476200104,
          3.475899935,
          3.312299967,
          3.299200058,
          2.816600084
         ],
         "yaxis": "y"
        },
        {
         "alignmentgroup": "True",
         "hovertemplate": "Regional indicator=South Asia<br>Country name=%{x}<br>Ladder score=%{y}<extra></extra>",
         "legendgroup": "South Asia",
         "marker": {
          "color": "#FECB52",
          "pattern": {
           "shape": ""
          }
         },
         "name": "South Asia",
         "offsetgroup": "South Asia",
         "orientation": "v",
         "showlegend": true,
         "textposition": "auto",
         "type": "bar",
         "x": [
          "Pakistan",
          "Maldives",
          "Nepal",
          "Bangladesh",
          "Sri Lanka",
          "India",
          "Afghanistan"
         ],
         "xaxis": "x",
         "y": [
          5.69329977,
          5.197599888,
          5.137199879,
          4.832799911,
          4.327000141,
          3.573299885,
          2.566900015
         ],
         "yaxis": "y"
        }
       ],
       "layout": {
        "barmode": "relative",
        "legend": {
         "title": {
          "text": "Regional indicator"
         },
         "tracegroupgap": 0
        },
        "template": {
         "data": {
          "bar": [
           {
            "error_x": {
             "color": "#2a3f5f"
            },
            "error_y": {
             "color": "#2a3f5f"
            },
            "marker": {
             "line": {
              "color": "#E5ECF6",
              "width": 0.5
             },
             "pattern": {
              "fillmode": "overlay",
              "size": 10,
              "solidity": 0.2
             }
            },
            "type": "bar"
           }
          ],
          "barpolar": [
           {
            "marker": {
             "line": {
              "color": "#E5ECF6",
              "width": 0.5
             },
             "pattern": {
              "fillmode": "overlay",
              "size": 10,
              "solidity": 0.2
             }
            },
            "type": "barpolar"
           }
          ],
          "carpet": [
           {
            "aaxis": {
             "endlinecolor": "#2a3f5f",
             "gridcolor": "white",
             "linecolor": "white",
             "minorgridcolor": "white",
             "startlinecolor": "#2a3f5f"
            },
            "baxis": {
             "endlinecolor": "#2a3f5f",
             "gridcolor": "white",
             "linecolor": "white",
             "minorgridcolor": "white",
             "startlinecolor": "#2a3f5f"
            },
            "type": "carpet"
           }
          ],
          "choropleth": [
           {
            "colorbar": {
             "outlinewidth": 0,
             "ticks": ""
            },
            "type": "choropleth"
           }
          ],
          "contour": [
           {
            "colorbar": {
             "outlinewidth": 0,
             "ticks": ""
            },
            "colorscale": [
             [
              0,
              "#0d0887"
             ],
             [
              0.1111111111111111,
              "#46039f"
             ],
             [
              0.2222222222222222,
              "#7201a8"
             ],
             [
              0.3333333333333333,
              "#9c179e"
             ],
             [
              0.4444444444444444,
              "#bd3786"
             ],
             [
              0.5555555555555556,
              "#d8576b"
             ],
             [
              0.6666666666666666,
              "#ed7953"
             ],
             [
              0.7777777777777778,
              "#fb9f3a"
             ],
             [
              0.8888888888888888,
              "#fdca26"
             ],
             [
              1,
              "#f0f921"
             ]
            ],
            "type": "contour"
           }
          ],
          "contourcarpet": [
           {
            "colorbar": {
             "outlinewidth": 0,
             "ticks": ""
            },
            "type": "contourcarpet"
           }
          ],
          "heatmap": [
           {
            "colorbar": {
             "outlinewidth": 0,
             "ticks": ""
            },
            "colorscale": [
             [
              0,
              "#0d0887"
             ],
             [
              0.1111111111111111,
              "#46039f"
             ],
             [
              0.2222222222222222,
              "#7201a8"
             ],
             [
              0.3333333333333333,
              "#9c179e"
             ],
             [
              0.4444444444444444,
              "#bd3786"
             ],
             [
              0.5555555555555556,
              "#d8576b"
             ],
             [
              0.6666666666666666,
              "#ed7953"
             ],
             [
              0.7777777777777778,
              "#fb9f3a"
             ],
             [
              0.8888888888888888,
              "#fdca26"
             ],
             [
              1,
              "#f0f921"
             ]
            ],
            "type": "heatmap"
           }
          ],
          "heatmapgl": [
           {
            "colorbar": {
             "outlinewidth": 0,
             "ticks": ""
            },
            "colorscale": [
             [
              0,
              "#0d0887"
             ],
             [
              0.1111111111111111,
              "#46039f"
             ],
             [
              0.2222222222222222,
              "#7201a8"
             ],
             [
              0.3333333333333333,
              "#9c179e"
             ],
             [
              0.4444444444444444,
              "#bd3786"
             ],
             [
              0.5555555555555556,
              "#d8576b"
             ],
             [
              0.6666666666666666,
              "#ed7953"
             ],
             [
              0.7777777777777778,
              "#fb9f3a"
             ],
             [
              0.8888888888888888,
              "#fdca26"
             ],
             [
              1,
              "#f0f921"
             ]
            ],
            "type": "heatmapgl"
           }
          ],
          "histogram": [
           {
            "marker": {
             "pattern": {
              "fillmode": "overlay",
              "size": 10,
              "solidity": 0.2
             }
            },
            "type": "histogram"
           }
          ],
          "histogram2d": [
           {
            "colorbar": {
             "outlinewidth": 0,
             "ticks": ""
            },
            "colorscale": [
             [
              0,
              "#0d0887"
             ],
             [
              0.1111111111111111,
              "#46039f"
             ],
             [
              0.2222222222222222,
              "#7201a8"
             ],
             [
              0.3333333333333333,
              "#9c179e"
             ],
             [
              0.4444444444444444,
              "#bd3786"
             ],
             [
              0.5555555555555556,
              "#d8576b"
             ],
             [
              0.6666666666666666,
              "#ed7953"
             ],
             [
              0.7777777777777778,
              "#fb9f3a"
             ],
             [
              0.8888888888888888,
              "#fdca26"
             ],
             [
              1,
              "#f0f921"
             ]
            ],
            "type": "histogram2d"
           }
          ],
          "histogram2dcontour": [
           {
            "colorbar": {
             "outlinewidth": 0,
             "ticks": ""
            },
            "colorscale": [
             [
              0,
              "#0d0887"
             ],
             [
              0.1111111111111111,
              "#46039f"
             ],
             [
              0.2222222222222222,
              "#7201a8"
             ],
             [
              0.3333333333333333,
              "#9c179e"
             ],
             [
              0.4444444444444444,
              "#bd3786"
             ],
             [
              0.5555555555555556,
              "#d8576b"
             ],
             [
              0.6666666666666666,
              "#ed7953"
             ],
             [
              0.7777777777777778,
              "#fb9f3a"
             ],
             [
              0.8888888888888888,
              "#fdca26"
             ],
             [
              1,
              "#f0f921"
             ]
            ],
            "type": "histogram2dcontour"
           }
          ],
          "mesh3d": [
           {
            "colorbar": {
             "outlinewidth": 0,
             "ticks": ""
            },
            "type": "mesh3d"
           }
          ],
          "parcoords": [
           {
            "line": {
             "colorbar": {
              "outlinewidth": 0,
              "ticks": ""
             }
            },
            "type": "parcoords"
           }
          ],
          "pie": [
           {
            "automargin": true,
            "type": "pie"
           }
          ],
          "scatter": [
           {
            "fillpattern": {
             "fillmode": "overlay",
             "size": 10,
             "solidity": 0.2
            },
            "type": "scatter"
           }
          ],
          "scatter3d": [
           {
            "line": {
             "colorbar": {
              "outlinewidth": 0,
              "ticks": ""
             }
            },
            "marker": {
             "colorbar": {
              "outlinewidth": 0,
              "ticks": ""
             }
            },
            "type": "scatter3d"
           }
          ],
          "scattercarpet": [
           {
            "marker": {
             "colorbar": {
              "outlinewidth": 0,
              "ticks": ""
             }
            },
            "type": "scattercarpet"
           }
          ],
          "scattergeo": [
           {
            "marker": {
             "colorbar": {
              "outlinewidth": 0,
              "ticks": ""
             }
            },
            "type": "scattergeo"
           }
          ],
          "scattergl": [
           {
            "marker": {
             "colorbar": {
              "outlinewidth": 0,
              "ticks": ""
             }
            },
            "type": "scattergl"
           }
          ],
          "scattermapbox": [
           {
            "marker": {
             "colorbar": {
              "outlinewidth": 0,
              "ticks": ""
             }
            },
            "type": "scattermapbox"
           }
          ],
          "scatterpolar": [
           {
            "marker": {
             "colorbar": {
              "outlinewidth": 0,
              "ticks": ""
             }
            },
            "type": "scatterpolar"
           }
          ],
          "scatterpolargl": [
           {
            "marker": {
             "colorbar": {
              "outlinewidth": 0,
              "ticks": ""
             }
            },
            "type": "scatterpolargl"
           }
          ],
          "scatterternary": [
           {
            "marker": {
             "colorbar": {
              "outlinewidth": 0,
              "ticks": ""
             }
            },
            "type": "scatterternary"
           }
          ],
          "surface": [
           {
            "colorbar": {
             "outlinewidth": 0,
             "ticks": ""
            },
            "colorscale": [
             [
              0,
              "#0d0887"
             ],
             [
              0.1111111111111111,
              "#46039f"
             ],
             [
              0.2222222222222222,
              "#7201a8"
             ],
             [
              0.3333333333333333,
              "#9c179e"
             ],
             [
              0.4444444444444444,
              "#bd3786"
             ],
             [
              0.5555555555555556,
              "#d8576b"
             ],
             [
              0.6666666666666666,
              "#ed7953"
             ],
             [
              0.7777777777777778,
              "#fb9f3a"
             ],
             [
              0.8888888888888888,
              "#fdca26"
             ],
             [
              1,
              "#f0f921"
             ]
            ],
            "type": "surface"
           }
          ],
          "table": [
           {
            "cells": {
             "fill": {
              "color": "#EBF0F8"
             },
             "line": {
              "color": "white"
             }
            },
            "header": {
             "fill": {
              "color": "#C8D4E3"
             },
             "line": {
              "color": "white"
             }
            },
            "type": "table"
           }
          ]
         },
         "layout": {
          "annotationdefaults": {
           "arrowcolor": "#2a3f5f",
           "arrowhead": 0,
           "arrowwidth": 1
          },
          "autotypenumbers": "strict",
          "coloraxis": {
           "colorbar": {
            "outlinewidth": 0,
            "ticks": ""
           }
          },
          "colorscale": {
           "diverging": [
            [
             0,
             "#8e0152"
            ],
            [
             0.1,
             "#c51b7d"
            ],
            [
             0.2,
             "#de77ae"
            ],
            [
             0.3,
             "#f1b6da"
            ],
            [
             0.4,
             "#fde0ef"
            ],
            [
             0.5,
             "#f7f7f7"
            ],
            [
             0.6,
             "#e6f5d0"
            ],
            [
             0.7,
             "#b8e186"
            ],
            [
             0.8,
             "#7fbc41"
            ],
            [
             0.9,
             "#4d9221"
            ],
            [
             1,
             "#276419"
            ]
           ],
           "sequential": [
            [
             0,
             "#0d0887"
            ],
            [
             0.1111111111111111,
             "#46039f"
            ],
            [
             0.2222222222222222,
             "#7201a8"
            ],
            [
             0.3333333333333333,
             "#9c179e"
            ],
            [
             0.4444444444444444,
             "#bd3786"
            ],
            [
             0.5555555555555556,
             "#d8576b"
            ],
            [
             0.6666666666666666,
             "#ed7953"
            ],
            [
             0.7777777777777778,
             "#fb9f3a"
            ],
            [
             0.8888888888888888,
             "#fdca26"
            ],
            [
             1,
             "#f0f921"
            ]
           ],
           "sequentialminus": [
            [
             0,
             "#0d0887"
            ],
            [
             0.1111111111111111,
             "#46039f"
            ],
            [
             0.2222222222222222,
             "#7201a8"
            ],
            [
             0.3333333333333333,
             "#9c179e"
            ],
            [
             0.4444444444444444,
             "#bd3786"
            ],
            [
             0.5555555555555556,
             "#d8576b"
            ],
            [
             0.6666666666666666,
             "#ed7953"
            ],
            [
             0.7777777777777778,
             "#fb9f3a"
            ],
            [
             0.8888888888888888,
             "#fdca26"
            ],
            [
             1,
             "#f0f921"
            ]
           ]
          },
          "colorway": [
           "#636efa",
           "#EF553B",
           "#00cc96",
           "#ab63fa",
           "#FFA15A",
           "#19d3f3",
           "#FF6692",
           "#B6E880",
           "#FF97FF",
           "#FECB52"
          ],
          "font": {
           "color": "#2a3f5f"
          },
          "geo": {
           "bgcolor": "white",
           "lakecolor": "white",
           "landcolor": "#E5ECF6",
           "showlakes": true,
           "showland": true,
           "subunitcolor": "white"
          },
          "hoverlabel": {
           "align": "left"
          },
          "hovermode": "closest",
          "mapbox": {
           "style": "light"
          },
          "paper_bgcolor": "white",
          "plot_bgcolor": "#E5ECF6",
          "polar": {
           "angularaxis": {
            "gridcolor": "white",
            "linecolor": "white",
            "ticks": ""
           },
           "bgcolor": "#E5ECF6",
           "radialaxis": {
            "gridcolor": "white",
            "linecolor": "white",
            "ticks": ""
           }
          },
          "scene": {
           "xaxis": {
            "backgroundcolor": "#E5ECF6",
            "gridcolor": "white",
            "gridwidth": 2,
            "linecolor": "white",
            "showbackground": true,
            "ticks": "",
            "zerolinecolor": "white"
           },
           "yaxis": {
            "backgroundcolor": "#E5ECF6",
            "gridcolor": "white",
            "gridwidth": 2,
            "linecolor": "white",
            "showbackground": true,
            "ticks": "",
            "zerolinecolor": "white"
           },
           "zaxis": {
            "backgroundcolor": "#E5ECF6",
            "gridcolor": "white",
            "gridwidth": 2,
            "linecolor": "white",
            "showbackground": true,
            "ticks": "",
            "zerolinecolor": "white"
           }
          },
          "shapedefaults": {
           "line": {
            "color": "#2a3f5f"
           }
          },
          "ternary": {
           "aaxis": {
            "gridcolor": "white",
            "linecolor": "white",
            "ticks": ""
           },
           "baxis": {
            "gridcolor": "white",
            "linecolor": "white",
            "ticks": ""
           },
           "bgcolor": "#E5ECF6",
           "caxis": {
            "gridcolor": "white",
            "linecolor": "white",
            "ticks": ""
           }
          },
          "title": {
           "x": 0.05
          },
          "xaxis": {
           "automargin": true,
           "gridcolor": "white",
           "linecolor": "white",
           "ticks": "",
           "title": {
            "standoff": 15
           },
           "zerolinecolor": "white",
           "zerolinewidth": 2
          },
          "yaxis": {
           "automargin": true,
           "gridcolor": "white",
           "linecolor": "white",
           "ticks": "",
           "title": {
            "standoff": 15
           },
           "zerolinecolor": "white",
           "zerolinewidth": 2
          }
         }
        },
        "title": {
         "text": "Histogramme du score de bonheur par pays en 2020"
        },
        "xaxis": {
         "anchor": "y",
         "categoryorder": "total descending",
         "domain": [
          0,
          1
         ],
         "title": {
          "text": "Country name"
         }
        },
        "yaxis": {
         "anchor": "x",
         "domain": [
          0,
          1
         ],
         "title": {
          "text": "Ladder score"
         }
        }
       }
      }
     },
     "metadata": {},
     "output_type": "display_data"
    }
   ],
   "source": [
    "# Histogramme\n",
    "\n",
    "data_2020 = data_2020.sort_values(by='Ladder score', ascending=False)\n",
    "fig = px.bar(\n",
    "    data_2020,\n",
    "    x='Country name',\n",
    "    y='Ladder score',\n",
    "    title='Histogramme du score de bonheur par pays en 2020',\n",
    "    color='Regional indicator'\n",
    ")\n",
    "fig.update_xaxes(categoryorder='total descending')\n",
    "fig.show()"
   ]
  },
  {
   "cell_type": "code",
   "execution_count": 26,
   "metadata": {},
   "outputs": [],
   "source": [
    "df_numeric = data_2020[['Ladder score', 'Logged GDP per capita', 'Social support', 'Healthy life expectancy', 'Freedom to make life choices','Perceptions of corruption', 'Generosity']]\n",
    "\n"
   ]
  },
  {
   "cell_type": "markdown",
   "metadata": {},
   "source": [
    "## Carte chloropèthe"
   ]
  },
  {
   "cell_type": "code",
   "execution_count": 27,
   "metadata": {},
   "outputs": [
    {
     "data": {
      "application/vnd.plotly.v1+json": {
       "config": {
        "plotlyServerURL": "https://plot.ly"
       },
       "data": [
        {
         "coloraxis": "coloraxis",
         "geo": "geo",
         "hovertemplate": "Country name=%{location}<br>Ladder score=%{z}<extra></extra>",
         "locationmode": "country names",
         "locations": [
          "Finland",
          "Denmark",
          "Switzerland",
          "Iceland",
          "Norway",
          "Netherlands",
          "Sweden",
          "New Zealand",
          "Austria",
          "Luxembourg",
          "Canada",
          "Australia",
          "United Kingdom",
          "Israel",
          "Costa Rica",
          "Ireland",
          "Germany",
          "United States",
          "Czech Republic",
          "Belgium",
          "United Arab Emirates",
          "Malta",
          "France",
          "Mexico",
          "Taiwan Province of China",
          "Uruguay",
          "Saudi Arabia",
          "Spain",
          "Guatemala",
          "Italy",
          "Singapore",
          "Brazil",
          "Slovenia",
          "El Salvador",
          "Kosovo",
          "Panama",
          "Slovakia",
          "Uzbekistan",
          "Chile",
          "Bahrain",
          "Lithuania",
          "Trinidad and Tobago",
          "Poland",
          "Colombia",
          "Cyprus",
          "Nicaragua",
          "Romania",
          "Kuwait",
          "Mauritius",
          "Kazakhstan",
          "Estonia",
          "Philippines",
          "Hungary",
          "Thailand",
          "Argentina",
          "Honduras",
          "Latvia",
          "Ecuador",
          "Portugal",
          "Jamaica",
          "South Korea",
          "Japan",
          "Peru",
          "Serbia",
          "Bolivia",
          "Pakistan",
          "Paraguay",
          "Dominican Republic",
          "Bosnia and Herzegovina",
          "Moldova",
          "Tajikistan",
          "Montenegro",
          "Russia",
          "Kyrgyzstan",
          "Belarus",
          "North Cyprus",
          "Greece",
          "Hong Kong S.A.R. of China",
          "Croatia",
          "Libya",
          "Mongolia",
          "Malaysia",
          "Vietnam",
          "Indonesia",
          "Ivory Coast",
          "Benin",
          "Maldives",
          "Congo (Brazzaville)",
          "Azerbaijan",
          "Macedonia",
          "Ghana",
          "Nepal",
          "Turkey",
          "China",
          "Turkmenistan",
          "Bulgaria",
          "Morocco",
          "Cameroon",
          "Venezuela",
          "Algeria",
          "Senegal",
          "Guinea",
          "Niger",
          "Laos",
          "Albania",
          "Cambodia",
          "Bangladesh",
          "Gabon",
          "South Africa",
          "Iraq",
          "Lebanon",
          "Burkina Faso",
          "Gambia",
          "Mali",
          "Nigeria",
          "Armenia",
          "Georgia",
          "Iran",
          "Jordan",
          "Mozambique",
          "Kenya",
          "Namibia",
          "Ukraine",
          "Liberia",
          "Palestinian Territories",
          "Uganda",
          "Chad",
          "Tunisia",
          "Mauritania",
          "Sri Lanka",
          "Congo (Kinshasa)",
          "Swaziland",
          "Myanmar",
          "Comoros",
          "Togo",
          "Ethiopia",
          "Madagascar",
          "Egypt",
          "Sierra Leone",
          "Burundi",
          "Zambia",
          "Haiti",
          "Lesotho",
          "India",
          "Malawi",
          "Yemen",
          "Botswana",
          "Tanzania",
          "Central African Republic",
          "Rwanda",
          "Zimbabwe",
          "South Sudan",
          "Afghanistan"
         ],
         "name": "",
         "type": "choropleth",
         "z": [
          7.808700085,
          7.645599842,
          7.559899807,
          7.504499912,
          7.487999916,
          7.448900223,
          7.353499889,
          7.299600124,
          7.294199944,
          7.237500191,
          7.23210001,
          7.222799778,
          7.164500237,
          7.128600121,
          7.121399879,
          7.093699932,
          7.075799942,
          6.939599991,
          6.910900116,
          6.863500118,
          6.790800095,
          6.772799969,
          6.663799763,
          6.465000153,
          6.45539999,
          6.440100193,
          6.406499863,
          6.400899887,
          6.398900032,
          6.38740015,
          6.377099991,
          6.375599861,
          6.363399982,
          6.34829998,
          6.325200081,
          6.304800034,
          6.280600071,
          6.257599831,
          6.228499889,
          6.227300167,
          6.215499878,
          6.191899776,
          6.186299801,
          6.163400173,
          6.15899992,
          6.13710022,
          6.123700142,
          6.102099895,
          6.101299763,
          6.057899952,
          6.021800041,
          6.006000042,
          6.000400066,
          5.998799801,
          5.974699974,
          5.953199863,
          5.949999809,
          5.925199986,
          5.910900116,
          5.889800072,
          5.872399807,
          5.870800018,
          5.796800137,
          5.77820015,
          5.747499943,
          5.69329977,
          5.692100048,
          5.689199924,
          5.674099922,
          5.607500076,
          5.555699825,
          5.54610014,
          5.546000004,
          5.541500092,
          5.539899826,
          5.53550005,
          5.514999866,
          5.510399818,
          5.504700184,
          5.488800049,
          5.456200123,
          5.384300232,
          5.353499889,
          5.285600185,
          5.233300209,
          5.21600008,
          5.197599888,
          5.194399834,
          5.164800167,
          5.159800053,
          5.147999763,
          5.137199879,
          5.131800175,
          5.123899937,
          5.119100094,
          5.101500034,
          5.094799995,
          5.084899902,
          5.053199768,
          5.005099773,
          4.980800152,
          4.949299812,
          4.909599781,
          4.888599873,
          4.882699966,
          4.848400116,
          4.832799911,
          4.829299927,
          4.814099789,
          4.784800053,
          4.771500111,
          4.768700123,
          4.750599861,
          4.729300022,
          4.724100113,
          4.676799774,
          4.672599792,
          4.672399998,
          4.633399963,
          4.623600006,
          4.583000183,
          4.571100235,
          4.56069994,
          4.557899952,
          4.552800179,
          4.43200016,
          4.422699928,
          4.392199993,
          4.374599934,
          4.327000141,
          4.31099987,
          4.308100224,
          4.308000088,
          4.288599968,
          4.187200069,
          4.186200142,
          4.165599823,
          4.151400089,
          3.926399946,
          3.775300026,
          3.759399891,
          3.720799923,
          3.652800083,
          3.573299885,
          3.538000107,
          3.527400017,
          3.478899956,
          3.476200104,
          3.475899935,
          3.312299967,
          3.299200058,
          2.816600084,
          2.566900015
         ]
        }
       ],
       "layout": {
        "coloraxis": {
         "colorbar": {
          "title": {
           "text": "Ladder score"
          }
         },
         "colorscale": [
          [
           0,
           "rgb(3, 35, 51)"
          ],
          [
           0.09090909090909091,
           "rgb(13, 48, 100)"
          ],
          [
           0.18181818181818182,
           "rgb(53, 50, 155)"
          ],
          [
           0.2727272727272727,
           "rgb(93, 62, 153)"
          ],
          [
           0.36363636363636365,
           "rgb(126, 77, 143)"
          ],
          [
           0.45454545454545453,
           "rgb(158, 89, 135)"
          ],
          [
           0.5454545454545454,
           "rgb(193, 100, 121)"
          ],
          [
           0.6363636363636364,
           "rgb(225, 113, 97)"
          ],
          [
           0.7272727272727273,
           "rgb(246, 139, 69)"
          ],
          [
           0.8181818181818182,
           "rgb(251, 173, 60)"
          ],
          [
           0.9090909090909091,
           "rgb(246, 211, 70)"
          ],
          [
           1,
           "rgb(231, 250, 90)"
          ]
         ]
        },
        "geo": {
         "center": {},
         "domain": {
          "x": [
           0,
           1
          ],
          "y": [
           0,
           1
          ]
         },
         "showcoastlines": false,
         "showframe": false
        },
        "legend": {
         "tracegroupgap": 0
        },
        "margin": {
         "b": 0,
         "l": 0,
         "r": 0,
         "t": 40
        },
        "template": {
         "data": {
          "bar": [
           {
            "error_x": {
             "color": "#2a3f5f"
            },
            "error_y": {
             "color": "#2a3f5f"
            },
            "marker": {
             "line": {
              "color": "#E5ECF6",
              "width": 0.5
             },
             "pattern": {
              "fillmode": "overlay",
              "size": 10,
              "solidity": 0.2
             }
            },
            "type": "bar"
           }
          ],
          "barpolar": [
           {
            "marker": {
             "line": {
              "color": "#E5ECF6",
              "width": 0.5
             },
             "pattern": {
              "fillmode": "overlay",
              "size": 10,
              "solidity": 0.2
             }
            },
            "type": "barpolar"
           }
          ],
          "carpet": [
           {
            "aaxis": {
             "endlinecolor": "#2a3f5f",
             "gridcolor": "white",
             "linecolor": "white",
             "minorgridcolor": "white",
             "startlinecolor": "#2a3f5f"
            },
            "baxis": {
             "endlinecolor": "#2a3f5f",
             "gridcolor": "white",
             "linecolor": "white",
             "minorgridcolor": "white",
             "startlinecolor": "#2a3f5f"
            },
            "type": "carpet"
           }
          ],
          "choropleth": [
           {
            "colorbar": {
             "outlinewidth": 0,
             "ticks": ""
            },
            "type": "choropleth"
           }
          ],
          "contour": [
           {
            "colorbar": {
             "outlinewidth": 0,
             "ticks": ""
            },
            "colorscale": [
             [
              0,
              "#0d0887"
             ],
             [
              0.1111111111111111,
              "#46039f"
             ],
             [
              0.2222222222222222,
              "#7201a8"
             ],
             [
              0.3333333333333333,
              "#9c179e"
             ],
             [
              0.4444444444444444,
              "#bd3786"
             ],
             [
              0.5555555555555556,
              "#d8576b"
             ],
             [
              0.6666666666666666,
              "#ed7953"
             ],
             [
              0.7777777777777778,
              "#fb9f3a"
             ],
             [
              0.8888888888888888,
              "#fdca26"
             ],
             [
              1,
              "#f0f921"
             ]
            ],
            "type": "contour"
           }
          ],
          "contourcarpet": [
           {
            "colorbar": {
             "outlinewidth": 0,
             "ticks": ""
            },
            "type": "contourcarpet"
           }
          ],
          "heatmap": [
           {
            "colorbar": {
             "outlinewidth": 0,
             "ticks": ""
            },
            "colorscale": [
             [
              0,
              "#0d0887"
             ],
             [
              0.1111111111111111,
              "#46039f"
             ],
             [
              0.2222222222222222,
              "#7201a8"
             ],
             [
              0.3333333333333333,
              "#9c179e"
             ],
             [
              0.4444444444444444,
              "#bd3786"
             ],
             [
              0.5555555555555556,
              "#d8576b"
             ],
             [
              0.6666666666666666,
              "#ed7953"
             ],
             [
              0.7777777777777778,
              "#fb9f3a"
             ],
             [
              0.8888888888888888,
              "#fdca26"
             ],
             [
              1,
              "#f0f921"
             ]
            ],
            "type": "heatmap"
           }
          ],
          "heatmapgl": [
           {
            "colorbar": {
             "outlinewidth": 0,
             "ticks": ""
            },
            "colorscale": [
             [
              0,
              "#0d0887"
             ],
             [
              0.1111111111111111,
              "#46039f"
             ],
             [
              0.2222222222222222,
              "#7201a8"
             ],
             [
              0.3333333333333333,
              "#9c179e"
             ],
             [
              0.4444444444444444,
              "#bd3786"
             ],
             [
              0.5555555555555556,
              "#d8576b"
             ],
             [
              0.6666666666666666,
              "#ed7953"
             ],
             [
              0.7777777777777778,
              "#fb9f3a"
             ],
             [
              0.8888888888888888,
              "#fdca26"
             ],
             [
              1,
              "#f0f921"
             ]
            ],
            "type": "heatmapgl"
           }
          ],
          "histogram": [
           {
            "marker": {
             "pattern": {
              "fillmode": "overlay",
              "size": 10,
              "solidity": 0.2
             }
            },
            "type": "histogram"
           }
          ],
          "histogram2d": [
           {
            "colorbar": {
             "outlinewidth": 0,
             "ticks": ""
            },
            "colorscale": [
             [
              0,
              "#0d0887"
             ],
             [
              0.1111111111111111,
              "#46039f"
             ],
             [
              0.2222222222222222,
              "#7201a8"
             ],
             [
              0.3333333333333333,
              "#9c179e"
             ],
             [
              0.4444444444444444,
              "#bd3786"
             ],
             [
              0.5555555555555556,
              "#d8576b"
             ],
             [
              0.6666666666666666,
              "#ed7953"
             ],
             [
              0.7777777777777778,
              "#fb9f3a"
             ],
             [
              0.8888888888888888,
              "#fdca26"
             ],
             [
              1,
              "#f0f921"
             ]
            ],
            "type": "histogram2d"
           }
          ],
          "histogram2dcontour": [
           {
            "colorbar": {
             "outlinewidth": 0,
             "ticks": ""
            },
            "colorscale": [
             [
              0,
              "#0d0887"
             ],
             [
              0.1111111111111111,
              "#46039f"
             ],
             [
              0.2222222222222222,
              "#7201a8"
             ],
             [
              0.3333333333333333,
              "#9c179e"
             ],
             [
              0.4444444444444444,
              "#bd3786"
             ],
             [
              0.5555555555555556,
              "#d8576b"
             ],
             [
              0.6666666666666666,
              "#ed7953"
             ],
             [
              0.7777777777777778,
              "#fb9f3a"
             ],
             [
              0.8888888888888888,
              "#fdca26"
             ],
             [
              1,
              "#f0f921"
             ]
            ],
            "type": "histogram2dcontour"
           }
          ],
          "mesh3d": [
           {
            "colorbar": {
             "outlinewidth": 0,
             "ticks": ""
            },
            "type": "mesh3d"
           }
          ],
          "parcoords": [
           {
            "line": {
             "colorbar": {
              "outlinewidth": 0,
              "ticks": ""
             }
            },
            "type": "parcoords"
           }
          ],
          "pie": [
           {
            "automargin": true,
            "type": "pie"
           }
          ],
          "scatter": [
           {
            "fillpattern": {
             "fillmode": "overlay",
             "size": 10,
             "solidity": 0.2
            },
            "type": "scatter"
           }
          ],
          "scatter3d": [
           {
            "line": {
             "colorbar": {
              "outlinewidth": 0,
              "ticks": ""
             }
            },
            "marker": {
             "colorbar": {
              "outlinewidth": 0,
              "ticks": ""
             }
            },
            "type": "scatter3d"
           }
          ],
          "scattercarpet": [
           {
            "marker": {
             "colorbar": {
              "outlinewidth": 0,
              "ticks": ""
             }
            },
            "type": "scattercarpet"
           }
          ],
          "scattergeo": [
           {
            "marker": {
             "colorbar": {
              "outlinewidth": 0,
              "ticks": ""
             }
            },
            "type": "scattergeo"
           }
          ],
          "scattergl": [
           {
            "marker": {
             "colorbar": {
              "outlinewidth": 0,
              "ticks": ""
             }
            },
            "type": "scattergl"
           }
          ],
          "scattermapbox": [
           {
            "marker": {
             "colorbar": {
              "outlinewidth": 0,
              "ticks": ""
             }
            },
            "type": "scattermapbox"
           }
          ],
          "scatterpolar": [
           {
            "marker": {
             "colorbar": {
              "outlinewidth": 0,
              "ticks": ""
             }
            },
            "type": "scatterpolar"
           }
          ],
          "scatterpolargl": [
           {
            "marker": {
             "colorbar": {
              "outlinewidth": 0,
              "ticks": ""
             }
            },
            "type": "scatterpolargl"
           }
          ],
          "scatterternary": [
           {
            "marker": {
             "colorbar": {
              "outlinewidth": 0,
              "ticks": ""
             }
            },
            "type": "scatterternary"
           }
          ],
          "surface": [
           {
            "colorbar": {
             "outlinewidth": 0,
             "ticks": ""
            },
            "colorscale": [
             [
              0,
              "#0d0887"
             ],
             [
              0.1111111111111111,
              "#46039f"
             ],
             [
              0.2222222222222222,
              "#7201a8"
             ],
             [
              0.3333333333333333,
              "#9c179e"
             ],
             [
              0.4444444444444444,
              "#bd3786"
             ],
             [
              0.5555555555555556,
              "#d8576b"
             ],
             [
              0.6666666666666666,
              "#ed7953"
             ],
             [
              0.7777777777777778,
              "#fb9f3a"
             ],
             [
              0.8888888888888888,
              "#fdca26"
             ],
             [
              1,
              "#f0f921"
             ]
            ],
            "type": "surface"
           }
          ],
          "table": [
           {
            "cells": {
             "fill": {
              "color": "#EBF0F8"
             },
             "line": {
              "color": "white"
             }
            },
            "header": {
             "fill": {
              "color": "#C8D4E3"
             },
             "line": {
              "color": "white"
             }
            },
            "type": "table"
           }
          ]
         },
         "layout": {
          "annotationdefaults": {
           "arrowcolor": "#2a3f5f",
           "arrowhead": 0,
           "arrowwidth": 1
          },
          "autotypenumbers": "strict",
          "coloraxis": {
           "colorbar": {
            "outlinewidth": 0,
            "ticks": ""
           }
          },
          "colorscale": {
           "diverging": [
            [
             0,
             "#8e0152"
            ],
            [
             0.1,
             "#c51b7d"
            ],
            [
             0.2,
             "#de77ae"
            ],
            [
             0.3,
             "#f1b6da"
            ],
            [
             0.4,
             "#fde0ef"
            ],
            [
             0.5,
             "#f7f7f7"
            ],
            [
             0.6,
             "#e6f5d0"
            ],
            [
             0.7,
             "#b8e186"
            ],
            [
             0.8,
             "#7fbc41"
            ],
            [
             0.9,
             "#4d9221"
            ],
            [
             1,
             "#276419"
            ]
           ],
           "sequential": [
            [
             0,
             "#0d0887"
            ],
            [
             0.1111111111111111,
             "#46039f"
            ],
            [
             0.2222222222222222,
             "#7201a8"
            ],
            [
             0.3333333333333333,
             "#9c179e"
            ],
            [
             0.4444444444444444,
             "#bd3786"
            ],
            [
             0.5555555555555556,
             "#d8576b"
            ],
            [
             0.6666666666666666,
             "#ed7953"
            ],
            [
             0.7777777777777778,
             "#fb9f3a"
            ],
            [
             0.8888888888888888,
             "#fdca26"
            ],
            [
             1,
             "#f0f921"
            ]
           ],
           "sequentialminus": [
            [
             0,
             "#0d0887"
            ],
            [
             0.1111111111111111,
             "#46039f"
            ],
            [
             0.2222222222222222,
             "#7201a8"
            ],
            [
             0.3333333333333333,
             "#9c179e"
            ],
            [
             0.4444444444444444,
             "#bd3786"
            ],
            [
             0.5555555555555556,
             "#d8576b"
            ],
            [
             0.6666666666666666,
             "#ed7953"
            ],
            [
             0.7777777777777778,
             "#fb9f3a"
            ],
            [
             0.8888888888888888,
             "#fdca26"
            ],
            [
             1,
             "#f0f921"
            ]
           ]
          },
          "colorway": [
           "#636efa",
           "#EF553B",
           "#00cc96",
           "#ab63fa",
           "#FFA15A",
           "#19d3f3",
           "#FF6692",
           "#B6E880",
           "#FF97FF",
           "#FECB52"
          ],
          "font": {
           "color": "#2a3f5f"
          },
          "geo": {
           "bgcolor": "white",
           "lakecolor": "white",
           "landcolor": "#E5ECF6",
           "showlakes": true,
           "showland": true,
           "subunitcolor": "white"
          },
          "hoverlabel": {
           "align": "left"
          },
          "hovermode": "closest",
          "mapbox": {
           "style": "light"
          },
          "paper_bgcolor": "white",
          "plot_bgcolor": "#E5ECF6",
          "polar": {
           "angularaxis": {
            "gridcolor": "white",
            "linecolor": "white",
            "ticks": ""
           },
           "bgcolor": "#E5ECF6",
           "radialaxis": {
            "gridcolor": "white",
            "linecolor": "white",
            "ticks": ""
           }
          },
          "scene": {
           "xaxis": {
            "backgroundcolor": "#E5ECF6",
            "gridcolor": "white",
            "gridwidth": 2,
            "linecolor": "white",
            "showbackground": true,
            "ticks": "",
            "zerolinecolor": "white"
           },
           "yaxis": {
            "backgroundcolor": "#E5ECF6",
            "gridcolor": "white",
            "gridwidth": 2,
            "linecolor": "white",
            "showbackground": true,
            "ticks": "",
            "zerolinecolor": "white"
           },
           "zaxis": {
            "backgroundcolor": "#E5ECF6",
            "gridcolor": "white",
            "gridwidth": 2,
            "linecolor": "white",
            "showbackground": true,
            "ticks": "",
            "zerolinecolor": "white"
           }
          },
          "shapedefaults": {
           "line": {
            "color": "#2a3f5f"
           }
          },
          "ternary": {
           "aaxis": {
            "gridcolor": "white",
            "linecolor": "white",
            "ticks": ""
           },
           "baxis": {
            "gridcolor": "white",
            "linecolor": "white",
            "ticks": ""
           },
           "bgcolor": "#E5ECF6",
           "caxis": {
            "gridcolor": "white",
            "linecolor": "white",
            "ticks": ""
           }
          },
          "title": {
           "x": 0.05
          },
          "xaxis": {
           "automargin": true,
           "gridcolor": "white",
           "linecolor": "white",
           "ticks": "",
           "title": {
            "standoff": 15
           },
           "zerolinecolor": "white",
           "zerolinewidth": 2
          },
          "yaxis": {
           "automargin": true,
           "gridcolor": "white",
           "linecolor": "white",
           "ticks": "",
           "title": {
            "standoff": 15
           },
           "zerolinecolor": "white",
           "zerolinewidth": 2
          }
         }
        },
        "title": {
         "text": "Carte du score de bonheur par pays en 2020"
        }
       }
      }
     },
     "metadata": {},
     "output_type": "display_data"
    }
   ],
   "source": [
    "# carte \n",
    "carte = px.choropleth(\n",
    "    data_2020,\n",
    "    locations='Country name',\n",
    "    locationmode='country names',\n",
    "    color='Ladder score',\n",
    "    title='Carte du score de bonheur par pays en 2020',\n",
    "    color_continuous_scale='thermal',\n",
    ")\n",
    "carte.update_geos(showframe=False, showcoastlines=False)\n",
    "carte.update_layout(margin={\"r\":0,\"t\":40,\"l\":0,\"b\":0})\n",
    "carte.show()"
   ]
  },
  {
   "cell_type": "code",
   "execution_count": 28,
   "metadata": {},
   "outputs": [
    {
     "data": {
      "application/vnd.plotly.v1+json": {
       "config": {
        "plotlyServerURL": "https://plot.ly"
       },
       "data": [
        {
         "coloraxis": "coloraxis",
         "hovertemplate": "Columns: %{x}<br>Columns: %{y}<br>Correlation: %{z}<extra></extra>",
         "name": "0",
         "texttemplate": "%{z}",
         "type": "heatmap",
         "x": [
          "Ladder score",
          "Logged GDP per capita",
          "Social support",
          "Healthy life expectancy",
          "Freedom to make life choices",
          "Perceptions of corruption",
          "Generosity"
         ],
         "xaxis": "x",
         "y": [
          "Ladder score",
          "Logged GDP per capita",
          "Social support",
          "Healthy life expectancy",
          "Freedom to make life choices",
          "Perceptions of corruption",
          "Generosity"
         ],
         "yaxis": "y",
         "z": [
          [
           1,
           0.7753744007526835,
           0.7650007567161385,
           0.770316289871849,
           0.5905967829225884,
           -0.4183050872559097,
           0.06904312657148512
          ],
          [
           0.7753744007526835,
           1,
           0.7818135831455395,
           0.848468617426851,
           0.41901864621438106,
           -0.33472907734432045,
           -0.11839937437059446
          ],
          [
           0.7650007567161385,
           0.7818135831455395,
           1,
           0.7427440895198051,
           0.47886317974441023,
           -0.21052960078864522,
           -0.05678035357271647
          ],
          [
           0.770316289871849,
           0.848468617426851,
           0.7427440895198051,
           1,
           0.44884618762649203,
           -0.35384120536095337,
           -0.0718521089021378
          ],
          [
           0.5905967829225884,
           0.41901864621438106,
           0.47886317974441023,
           0.44884618762649203,
           1,
           -0.42014450487659827,
           0.25372112360550303
          ],
          [
           -0.4183050872559097,
           -0.33472907734432045,
           -0.21052960078864522,
           -0.35384120536095337,
           -0.42014450487659827,
           1,
           -0.2784802257031198
          ],
          [
           0.06904312657148512,
           -0.11839937437059446,
           -0.05678035357271647,
           -0.0718521089021378,
           0.25372112360550303,
           -0.2784802257031198,
           1
          ]
         ]
        }
       ],
       "layout": {
        "coloraxis": {
         "cmax": 1,
         "cmin": -1,
         "colorbar": {
          "title": {
           "text": "Correlation"
          }
         },
         "colorscale": [
          [
           0,
           "rgb(103,0,31)"
          ],
          [
           0.1,
           "rgb(178,24,43)"
          ],
          [
           0.2,
           "rgb(214,96,77)"
          ],
          [
           0.3,
           "rgb(244,165,130)"
          ],
          [
           0.4,
           "rgb(253,219,199)"
          ],
          [
           0.5,
           "rgb(247,247,247)"
          ],
          [
           0.6,
           "rgb(209,229,240)"
          ],
          [
           0.7,
           "rgb(146,197,222)"
          ],
          [
           0.8,
           "rgb(67,147,195)"
          ],
          [
           0.9,
           "rgb(33,102,172)"
          ],
          [
           1,
           "rgb(5,48,97)"
          ]
         ]
        },
        "height": 800,
        "template": {
         "data": {
          "bar": [
           {
            "error_x": {
             "color": "#2a3f5f"
            },
            "error_y": {
             "color": "#2a3f5f"
            },
            "marker": {
             "line": {
              "color": "#E5ECF6",
              "width": 0.5
             },
             "pattern": {
              "fillmode": "overlay",
              "size": 10,
              "solidity": 0.2
             }
            },
            "type": "bar"
           }
          ],
          "barpolar": [
           {
            "marker": {
             "line": {
              "color": "#E5ECF6",
              "width": 0.5
             },
             "pattern": {
              "fillmode": "overlay",
              "size": 10,
              "solidity": 0.2
             }
            },
            "type": "barpolar"
           }
          ],
          "carpet": [
           {
            "aaxis": {
             "endlinecolor": "#2a3f5f",
             "gridcolor": "white",
             "linecolor": "white",
             "minorgridcolor": "white",
             "startlinecolor": "#2a3f5f"
            },
            "baxis": {
             "endlinecolor": "#2a3f5f",
             "gridcolor": "white",
             "linecolor": "white",
             "minorgridcolor": "white",
             "startlinecolor": "#2a3f5f"
            },
            "type": "carpet"
           }
          ],
          "choropleth": [
           {
            "colorbar": {
             "outlinewidth": 0,
             "ticks": ""
            },
            "type": "choropleth"
           }
          ],
          "contour": [
           {
            "colorbar": {
             "outlinewidth": 0,
             "ticks": ""
            },
            "colorscale": [
             [
              0,
              "#0d0887"
             ],
             [
              0.1111111111111111,
              "#46039f"
             ],
             [
              0.2222222222222222,
              "#7201a8"
             ],
             [
              0.3333333333333333,
              "#9c179e"
             ],
             [
              0.4444444444444444,
              "#bd3786"
             ],
             [
              0.5555555555555556,
              "#d8576b"
             ],
             [
              0.6666666666666666,
              "#ed7953"
             ],
             [
              0.7777777777777778,
              "#fb9f3a"
             ],
             [
              0.8888888888888888,
              "#fdca26"
             ],
             [
              1,
              "#f0f921"
             ]
            ],
            "type": "contour"
           }
          ],
          "contourcarpet": [
           {
            "colorbar": {
             "outlinewidth": 0,
             "ticks": ""
            },
            "type": "contourcarpet"
           }
          ],
          "heatmap": [
           {
            "colorbar": {
             "outlinewidth": 0,
             "ticks": ""
            },
            "colorscale": [
             [
              0,
              "#0d0887"
             ],
             [
              0.1111111111111111,
              "#46039f"
             ],
             [
              0.2222222222222222,
              "#7201a8"
             ],
             [
              0.3333333333333333,
              "#9c179e"
             ],
             [
              0.4444444444444444,
              "#bd3786"
             ],
             [
              0.5555555555555556,
              "#d8576b"
             ],
             [
              0.6666666666666666,
              "#ed7953"
             ],
             [
              0.7777777777777778,
              "#fb9f3a"
             ],
             [
              0.8888888888888888,
              "#fdca26"
             ],
             [
              1,
              "#f0f921"
             ]
            ],
            "type": "heatmap"
           }
          ],
          "heatmapgl": [
           {
            "colorbar": {
             "outlinewidth": 0,
             "ticks": ""
            },
            "colorscale": [
             [
              0,
              "#0d0887"
             ],
             [
              0.1111111111111111,
              "#46039f"
             ],
             [
              0.2222222222222222,
              "#7201a8"
             ],
             [
              0.3333333333333333,
              "#9c179e"
             ],
             [
              0.4444444444444444,
              "#bd3786"
             ],
             [
              0.5555555555555556,
              "#d8576b"
             ],
             [
              0.6666666666666666,
              "#ed7953"
             ],
             [
              0.7777777777777778,
              "#fb9f3a"
             ],
             [
              0.8888888888888888,
              "#fdca26"
             ],
             [
              1,
              "#f0f921"
             ]
            ],
            "type": "heatmapgl"
           }
          ],
          "histogram": [
           {
            "marker": {
             "pattern": {
              "fillmode": "overlay",
              "size": 10,
              "solidity": 0.2
             }
            },
            "type": "histogram"
           }
          ],
          "histogram2d": [
           {
            "colorbar": {
             "outlinewidth": 0,
             "ticks": ""
            },
            "colorscale": [
             [
              0,
              "#0d0887"
             ],
             [
              0.1111111111111111,
              "#46039f"
             ],
             [
              0.2222222222222222,
              "#7201a8"
             ],
             [
              0.3333333333333333,
              "#9c179e"
             ],
             [
              0.4444444444444444,
              "#bd3786"
             ],
             [
              0.5555555555555556,
              "#d8576b"
             ],
             [
              0.6666666666666666,
              "#ed7953"
             ],
             [
              0.7777777777777778,
              "#fb9f3a"
             ],
             [
              0.8888888888888888,
              "#fdca26"
             ],
             [
              1,
              "#f0f921"
             ]
            ],
            "type": "histogram2d"
           }
          ],
          "histogram2dcontour": [
           {
            "colorbar": {
             "outlinewidth": 0,
             "ticks": ""
            },
            "colorscale": [
             [
              0,
              "#0d0887"
             ],
             [
              0.1111111111111111,
              "#46039f"
             ],
             [
              0.2222222222222222,
              "#7201a8"
             ],
             [
              0.3333333333333333,
              "#9c179e"
             ],
             [
              0.4444444444444444,
              "#bd3786"
             ],
             [
              0.5555555555555556,
              "#d8576b"
             ],
             [
              0.6666666666666666,
              "#ed7953"
             ],
             [
              0.7777777777777778,
              "#fb9f3a"
             ],
             [
              0.8888888888888888,
              "#fdca26"
             ],
             [
              1,
              "#f0f921"
             ]
            ],
            "type": "histogram2dcontour"
           }
          ],
          "mesh3d": [
           {
            "colorbar": {
             "outlinewidth": 0,
             "ticks": ""
            },
            "type": "mesh3d"
           }
          ],
          "parcoords": [
           {
            "line": {
             "colorbar": {
              "outlinewidth": 0,
              "ticks": ""
             }
            },
            "type": "parcoords"
           }
          ],
          "pie": [
           {
            "automargin": true,
            "type": "pie"
           }
          ],
          "scatter": [
           {
            "fillpattern": {
             "fillmode": "overlay",
             "size": 10,
             "solidity": 0.2
            },
            "type": "scatter"
           }
          ],
          "scatter3d": [
           {
            "line": {
             "colorbar": {
              "outlinewidth": 0,
              "ticks": ""
             }
            },
            "marker": {
             "colorbar": {
              "outlinewidth": 0,
              "ticks": ""
             }
            },
            "type": "scatter3d"
           }
          ],
          "scattercarpet": [
           {
            "marker": {
             "colorbar": {
              "outlinewidth": 0,
              "ticks": ""
             }
            },
            "type": "scattercarpet"
           }
          ],
          "scattergeo": [
           {
            "marker": {
             "colorbar": {
              "outlinewidth": 0,
              "ticks": ""
             }
            },
            "type": "scattergeo"
           }
          ],
          "scattergl": [
           {
            "marker": {
             "colorbar": {
              "outlinewidth": 0,
              "ticks": ""
             }
            },
            "type": "scattergl"
           }
          ],
          "scattermapbox": [
           {
            "marker": {
             "colorbar": {
              "outlinewidth": 0,
              "ticks": ""
             }
            },
            "type": "scattermapbox"
           }
          ],
          "scatterpolar": [
           {
            "marker": {
             "colorbar": {
              "outlinewidth": 0,
              "ticks": ""
             }
            },
            "type": "scatterpolar"
           }
          ],
          "scatterpolargl": [
           {
            "marker": {
             "colorbar": {
              "outlinewidth": 0,
              "ticks": ""
             }
            },
            "type": "scatterpolargl"
           }
          ],
          "scatterternary": [
           {
            "marker": {
             "colorbar": {
              "outlinewidth": 0,
              "ticks": ""
             }
            },
            "type": "scatterternary"
           }
          ],
          "surface": [
           {
            "colorbar": {
             "outlinewidth": 0,
             "ticks": ""
            },
            "colorscale": [
             [
              0,
              "#0d0887"
             ],
             [
              0.1111111111111111,
              "#46039f"
             ],
             [
              0.2222222222222222,
              "#7201a8"
             ],
             [
              0.3333333333333333,
              "#9c179e"
             ],
             [
              0.4444444444444444,
              "#bd3786"
             ],
             [
              0.5555555555555556,
              "#d8576b"
             ],
             [
              0.6666666666666666,
              "#ed7953"
             ],
             [
              0.7777777777777778,
              "#fb9f3a"
             ],
             [
              0.8888888888888888,
              "#fdca26"
             ],
             [
              1,
              "#f0f921"
             ]
            ],
            "type": "surface"
           }
          ],
          "table": [
           {
            "cells": {
             "fill": {
              "color": "#EBF0F8"
             },
             "line": {
              "color": "white"
             }
            },
            "header": {
             "fill": {
              "color": "#C8D4E3"
             },
             "line": {
              "color": "white"
             }
            },
            "type": "table"
           }
          ]
         },
         "layout": {
          "annotationdefaults": {
           "arrowcolor": "#2a3f5f",
           "arrowhead": 0,
           "arrowwidth": 1
          },
          "autotypenumbers": "strict",
          "coloraxis": {
           "colorbar": {
            "outlinewidth": 0,
            "ticks": ""
           }
          },
          "colorscale": {
           "diverging": [
            [
             0,
             "#8e0152"
            ],
            [
             0.1,
             "#c51b7d"
            ],
            [
             0.2,
             "#de77ae"
            ],
            [
             0.3,
             "#f1b6da"
            ],
            [
             0.4,
             "#fde0ef"
            ],
            [
             0.5,
             "#f7f7f7"
            ],
            [
             0.6,
             "#e6f5d0"
            ],
            [
             0.7,
             "#b8e186"
            ],
            [
             0.8,
             "#7fbc41"
            ],
            [
             0.9,
             "#4d9221"
            ],
            [
             1,
             "#276419"
            ]
           ],
           "sequential": [
            [
             0,
             "#0d0887"
            ],
            [
             0.1111111111111111,
             "#46039f"
            ],
            [
             0.2222222222222222,
             "#7201a8"
            ],
            [
             0.3333333333333333,
             "#9c179e"
            ],
            [
             0.4444444444444444,
             "#bd3786"
            ],
            [
             0.5555555555555556,
             "#d8576b"
            ],
            [
             0.6666666666666666,
             "#ed7953"
            ],
            [
             0.7777777777777778,
             "#fb9f3a"
            ],
            [
             0.8888888888888888,
             "#fdca26"
            ],
            [
             1,
             "#f0f921"
            ]
           ],
           "sequentialminus": [
            [
             0,
             "#0d0887"
            ],
            [
             0.1111111111111111,
             "#46039f"
            ],
            [
             0.2222222222222222,
             "#7201a8"
            ],
            [
             0.3333333333333333,
             "#9c179e"
            ],
            [
             0.4444444444444444,
             "#bd3786"
            ],
            [
             0.5555555555555556,
             "#d8576b"
            ],
            [
             0.6666666666666666,
             "#ed7953"
            ],
            [
             0.7777777777777778,
             "#fb9f3a"
            ],
            [
             0.8888888888888888,
             "#fdca26"
            ],
            [
             1,
             "#f0f921"
            ]
           ]
          },
          "colorway": [
           "#636efa",
           "#EF553B",
           "#00cc96",
           "#ab63fa",
           "#FFA15A",
           "#19d3f3",
           "#FF6692",
           "#B6E880",
           "#FF97FF",
           "#FECB52"
          ],
          "font": {
           "color": "#2a3f5f"
          },
          "geo": {
           "bgcolor": "white",
           "lakecolor": "white",
           "landcolor": "#E5ECF6",
           "showlakes": true,
           "showland": true,
           "subunitcolor": "white"
          },
          "hoverlabel": {
           "align": "left"
          },
          "hovermode": "closest",
          "mapbox": {
           "style": "light"
          },
          "paper_bgcolor": "white",
          "plot_bgcolor": "#E5ECF6",
          "polar": {
           "angularaxis": {
            "gridcolor": "white",
            "linecolor": "white",
            "ticks": ""
           },
           "bgcolor": "#E5ECF6",
           "radialaxis": {
            "gridcolor": "white",
            "linecolor": "white",
            "ticks": ""
           }
          },
          "scene": {
           "xaxis": {
            "backgroundcolor": "#E5ECF6",
            "gridcolor": "white",
            "gridwidth": 2,
            "linecolor": "white",
            "showbackground": true,
            "ticks": "",
            "zerolinecolor": "white"
           },
           "yaxis": {
            "backgroundcolor": "#E5ECF6",
            "gridcolor": "white",
            "gridwidth": 2,
            "linecolor": "white",
            "showbackground": true,
            "ticks": "",
            "zerolinecolor": "white"
           },
           "zaxis": {
            "backgroundcolor": "#E5ECF6",
            "gridcolor": "white",
            "gridwidth": 2,
            "linecolor": "white",
            "showbackground": true,
            "ticks": "",
            "zerolinecolor": "white"
           }
          },
          "shapedefaults": {
           "line": {
            "color": "#2a3f5f"
           }
          },
          "ternary": {
           "aaxis": {
            "gridcolor": "white",
            "linecolor": "white",
            "ticks": ""
           },
           "baxis": {
            "gridcolor": "white",
            "linecolor": "white",
            "ticks": ""
           },
           "bgcolor": "#E5ECF6",
           "caxis": {
            "gridcolor": "white",
            "linecolor": "white",
            "ticks": ""
           }
          },
          "title": {
           "x": 0.05
          },
          "xaxis": {
           "automargin": true,
           "gridcolor": "white",
           "linecolor": "white",
           "ticks": "",
           "title": {
            "standoff": 15
           },
           "zerolinecolor": "white",
           "zerolinewidth": 2
          },
          "yaxis": {
           "automargin": true,
           "gridcolor": "white",
           "linecolor": "white",
           "ticks": "",
           "title": {
            "standoff": 15
           },
           "zerolinecolor": "white",
           "zerolinewidth": 2
          }
         }
        },
        "title": {
         "text": "Correlation Heatmap"
        },
        "width": 900,
        "xaxis": {
         "anchor": "y",
         "constrain": "domain",
         "domain": [
          0,
          1
         ],
         "scaleanchor": "y",
         "title": {
          "text": "Columns"
         }
        },
        "yaxis": {
         "anchor": "x",
         "autorange": "reversed",
         "constrain": "domain",
         "domain": [
          0,
          1
         ],
         "title": {
          "text": "Columns"
         }
        }
       }
      }
     },
     "metadata": {},
     "output_type": "display_data"
    }
   ],
   "source": [
    "# Calculate the correlation matrix\n",
    "\n",
    "correlation_matrix = df_numeric.corr()\n",
    "\n",
    "# Create the heatmap\n",
    "fig = px.imshow(\n",
    "    correlation_matrix,\n",
    "    title=\"Correlation Heatmap\",\n",
    "    labels=dict(x=\"Columns\", y=\"Columns\", color=\"Correlation\"),\n",
    "    color_continuous_scale=\"RdBu\",\n",
    "    zmin=-1, zmax=1, text_auto=True\n",
    ")\n",
    "fig.update_layout(width=900, height=800)\n",
    "fig.show()"
   ]
  },
  {
   "cell_type": "code",
   "execution_count": 29,
   "metadata": {},
   "outputs": [
    {
     "name": "stdout",
     "output_type": "stream",
     "text": [
      "   Ladder score  Logged GDP per capita  Social support  \\\n",
      "0      2.099724               1.118155        1.198886   \n",
      "1      1.953087               1.230285        1.212563   \n",
      "2      1.876037               1.401668        1.104339   \n",
      "3      1.826229               1.229085        1.366357   \n",
      "4      1.811394               1.491442        1.183710   \n",
      "\n",
      "   Healthy life expectancy  Freedom to make life choices  \\\n",
      "0                 1.056313                      1.407737   \n",
      "1                 1.127394                      1.427026   \n",
      "2                 1.368253                      1.171414   \n",
      "3                 1.212051                      1.405357   \n",
      "4                 1.240499                      1.463584   \n",
      "\n",
      "   Perceptions of corruption  Generosity  \n",
      "0                  -3.069408   -0.295857  \n",
      "1                  -3.223286    0.532051  \n",
      "2                  -2.451252    0.793626  \n",
      "3                  -0.122225    1.722644  \n",
      "4                  -2.682511    0.982163  \n"
     ]
    }
   ],
   "source": [
    "# Standardisation du df\n",
    "\n",
    "df_standardise = (df_numeric - df_numeric.mean()) / df_numeric.std()\n",
    "\n",
    "print(df_standardise.head())"
   ]
  },
  {
   "cell_type": "code",
   "execution_count": 30,
   "metadata": {},
   "outputs": [
    {
     "data": {
      "application/vnd.plotly.v1+json": {
       "config": {
        "plotlyServerURL": "https://plot.ly"
       },
       "data": [
        {
         "customdata": [
          [
           "Finland",
           "Western Europe",
           7.808700085,
           -0.059482019,
           0.954329729,
           10.63926697,
           71.9008255,
           0.949172199,
           0.195444584
          ],
          [
           "Denmark",
           "Western Europe",
           7.645599842,
           0.066201776,
           0.955990791,
           10.77400112,
           72.40250397,
           0.951444268,
           0.168489456
          ],
          [
           "Switzerland",
           "Western Europe",
           7.559899807,
           0.105911039,
           0.942846596,
           10.97993279,
           74.10244751,
           0.921336651,
           0.303728431
          ],
          [
           "Iceland",
           "Western Europe",
           7.504499912,
           0.246944219,
           0.974669576,
           10.77255917,
           73,
           0.948891878,
           0.711709738
          ],
          [
           "Norway",
           "Western Europe",
           7.487999916,
           0.13453263,
           0.952486575,
           11.08780384,
           73.20078278,
           0.955750287,
           0.263218194
          ],
          [
           "Netherlands",
           "Western Europe",
           7.448900223,
           0.20761244,
           0.93913883,
           10.81271172,
           72.30091858,
           0.908547819,
           0.364717126
          ],
          [
           "Sweden",
           "Western Europe",
           7.353499889,
           0.111614622,
           0.926311195,
           10.75879383,
           72.60076904,
           0.939144194,
           0.250880182
          ],
          [
           "Austria",
           "Western Europe",
           7.294199944,
           0.085429221,
           0.928045869,
           10.7428236,
           73.00250244,
           0.899989486,
           0.499954879
          ],
          [
           "Luxembourg",
           "Western Europe",
           7.237500191,
           -0.004620588,
           0.906912208,
           11.45068073,
           72.59999847,
           0.90563643,
           0.367084295
          ],
          [
           "United Kingdom",
           "Western Europe",
           7.164500237,
           0.263732493,
           0.93668282,
           10.60013485,
           72.30160522,
           0.834743679,
           0.435915917
          ],
          [
           "Ireland",
           "Western Europe",
           7.093699932,
           0.145784974,
           0.942081571,
           11.16097832,
           72.30078888,
           0.886982977,
           0.357184172
          ],
          [
           "Germany",
           "Western Europe",
           7.075799942,
           0.080179386,
           0.898874462,
           10.7328186,
           72.20201874,
           0.867371082,
           0.456422031
          ],
          [
           "Belgium",
           "Western Europe",
           6.863500118,
           -0.078691199,
           0.911632538,
           10.6736393,
           72.00164795,
           0.813582063,
           0.612297952
          ],
          [
           "Malta",
           "Western Europe",
           6.772799969,
           0.214965805,
           0.93037951,
           10.53383827,
           72.19999695,
           0.924911439,
           0.658547282
          ],
          [
           "France",
           "Western Europe",
           6.663799763,
           -0.130641967,
           0.937103748,
           10.58422279,
           73.80193329,
           0.825467646,
           0.583521128
          ],
          [
           "Spain",
           "Western Europe",
           6.400899887,
           -0.050961714,
           0.921125412,
           10.46292686,
           74.40270996,
           0.751989543,
           0.765859902
          ],
          [
           "Italy",
           "Western Europe",
           6.38740015,
           -0.043460999,
           0.889878571,
           10.48183632,
           73.60168457,
           0.66465199,
           0.873404682
          ],
          [
           "Cyprus",
           "Western Europe",
           6.15899992,
           0.043731496,
           0.805996239,
           10.40570259,
           73.70222473,
           0.779858291,
           0.856271744
          ],
          [
           "Portugal",
           "Western Europe",
           5.910900116,
           -0.220714301,
           0.886590719,
           10.26374245,
           72.40202332,
           0.888747811,
           0.892629504
          ],
          [
           "North Cyprus",
           "Western Europe",
           5.53550005,
           0.000227159,
           0.820356607,
           10.40570259,
           73.70222473,
           0.79529351,
           0.62611568
          ],
          [
           "Greece",
           "Western Europe",
           5.514999866,
           -0.300907373,
           0.814380348,
           10.13232613,
           72.40525818,
           0.541345119,
           0.859931409
          ]
         ],
         "hovertemplate": "<b>%{hovertext}</b><br><br>PC1=%{x}<br>PC2=%{y}<br>Ladder score=%{customdata[2]}<br>Generosity=%{customdata[3]}<br>Social support=%{customdata[4]}<br>Logged GDP per capita=%{customdata[5]}<br>Healthy life expectancy=%{customdata[6]}<br>Freedom to make life choices=%{customdata[7]}<br>Perceptions of corruption=%{customdata[8]}<extra></extra>",
         "hovertext": [
          "Finland",
          "Denmark",
          "Switzerland",
          "Iceland",
          "Norway",
          "Netherlands",
          "Sweden",
          "Austria",
          "Luxembourg",
          "United Kingdom",
          "Ireland",
          "Germany",
          "Belgium",
          "Malta",
          "France",
          "Spain",
          "Italy",
          "Cyprus",
          "Portugal",
          "North Cyprus",
          "Greece"
         ],
         "legendgroup": "Western Europe",
         "marker": {
          "color": "#3366CC",
          "size": 8,
          "symbol": "circle"
         },
         "mode": "markers",
         "name": "Western Europe",
         "orientation": "v",
         "showlegend": true,
         "type": "scatter",
         "x": [
          3.749509422437874,
          3.839590212143542,
          3.663110872252431,
          3.108673654268542,
          3.8156549683605467,
          3.3163443412095464,
          3.4689160192437076,
          2.9836471863888905,
          3.321343197549372,
          2.7992458547429333,
          3.246972052878093,
          2.7012466329713303,
          2.2077059895183573,
          2.5059533130170375,
          2.364889509954152,
          1.7221834207127154,
          1.1489155206932151,
          1.1063539050007678,
          1.3697693303182308,
          1.2743452793501608,
          -0.08012645625979196
         ],
         "xaxis": "x",
         "y": [
          1.0713333420488669,
          1.71990572976722,
          1.399595428680102,
          1.0644544227762698,
          1.7344215042110327,
          1.7680963003291623,
          1.725595739239298,
          0.7977081027179347,
          0.6546438422399308,
          1.67359051402664,
          1.3576274154204728,
          0.8640041854926771,
          -0.4909778126687551,
          1.1180774686471535,
          -0.6982110924043337,
          -0.9890585807633624,
          -1.4326861039634542,
          -0.48131865117997485,
          -1.6182765523200486,
          -0.04541853036112098,
          -2.786707247192126
         ],
         "yaxis": "y"
        },
        {
         "customdata": [
          [
           "New Zealand",
           "North America and ANZ",
           7.299600124,
           0.191598073,
           0.949118972,
           10.50094318,
           73.20262909,
           0.936217487,
           0.22113885
          ],
          [
           "Canada",
           "North America and ANZ",
           7.23210001,
           0.124770768,
           0.927176654,
           10.69236851,
           73.60160065,
           0.933913231,
           0.390843362
          ],
          [
           "Australia",
           "North America and ANZ",
           7.222799778,
           0.19046016,
           0.944854617,
           10.72059631,
           73.60453796,
           0.915431738,
           0.41516912
          ],
          [
           "United States",
           "North America and ANZ",
           6.939599991,
           0.149891734,
           0.914219022,
           10.92576885,
           68.29949951,
           0.842619538,
           0.699715316
          ]
         ],
         "hovertemplate": "<b>%{hovertext}</b><br><br>PC1=%{x}<br>PC2=%{y}<br>Ladder score=%{customdata[2]}<br>Generosity=%{customdata[3]}<br>Social support=%{customdata[4]}<br>Logged GDP per capita=%{customdata[5]}<br>Healthy life expectancy=%{customdata[6]}<br>Freedom to make life choices=%{customdata[7]}<br>Perceptions of corruption=%{customdata[8]}<extra></extra>",
         "hovertext": [
          "New Zealand",
          "Canada",
          "Australia",
          "United States"
         ],
         "legendgroup": "North America and ANZ",
         "marker": {
          "color": "#DC3912",
          "size": 8,
          "symbol": "circle"
         },
         "mode": "markers",
         "name": "North America and ANZ",
         "orientation": "v",
         "showlegend": true,
         "type": "scatter",
         "x": [
          3.5196237810946647,
          3.2408749679188524,
          3.233580614504789,
          2.1036425432183328
         ],
         "xaxis": "x",
         "y": [
          2.180446489585741,
          1.379777160511814,
          1.543695370865886,
          0.5003309120536743
         ],
         "yaxis": "y"
        },
        {
         "customdata": [
          [
           "Israel",
           "Middle East and North Africa",
           7.128600121,
           0.10259372,
           0.913571239,
           10.41752529,
           73.20025635,
           0.747580588,
           0.78085506
          ],
          [
           "United Arab Emirates",
           "Middle East and North Africa",
           6.790800095,
           0.123450845,
           0.849181116,
           11.1099987,
           67.08278656,
           0.941345513,
           0.594502211
          ],
          [
           "Saudi Arabia",
           "Middle East and North Africa",
           6.406499863,
           -0.168695062,
           0.874067068,
           10.79781246,
           66.30514526,
           0.854191244,
           0.682619512
          ],
          [
           "Bahrain",
           "Middle East and North Africa",
           6.227300167,
           0.13372919,
           0.876342118,
           10.67638016,
           68.5,
           0.905855775,
           0.7393471
          ],
          [
           "Kuwait",
           "Middle East and North Africa",
           6.102099895,
           -0.100184701,
           0.846475244,
           11.08982468,
           66.76764679,
           0.872366488,
           0.760849059
          ],
          [
           "Libya",
           "Middle East and North Africa",
           5.488800049,
           -0.085054487,
           0.825942934,
           9.789815903,
           62.29999924,
           0.773157001,
           0.668779135
          ],
          [
           "Turkey",
           "Middle East and North Africa",
           5.131800175,
           -0.171046436,
           0.826313555,
           10.12941933,
           66.90281677,
           0.608830452,
           0.748197377
          ],
          [
           "Morocco",
           "Middle East and North Africa",
           5.094799995,
           -0.240377247,
           0.592628479,
           8.940313339,
           65.89624023,
           0.772072434,
           0.815724611
          ],
          [
           "Algeria",
           "Middle East and North Africa",
           5.005099773,
           -0.121105164,
           0.803385139,
           9.537964821,
           65.90517426,
           0.466610909,
           0.735485137
          ],
          [
           "Iraq",
           "Middle East and North Africa",
           4.784800053,
           -0.06956476,
           0.747694969,
           9.661095619,
           59.90354919,
           0.633182645,
           0.82226181
          ],
          [
           "Lebanon",
           "Middle East and North Africa",
           4.771500111,
           -0.06121527,
           0.824338138,
           9.3617239,
           67.10658264,
           0.551357508,
           0.90225625
          ],
          [
           "Iran",
           "Middle East and North Africa",
           4.672399998,
           0.117891103,
           0.694689691,
           9.813719749,
           66.00614929,
           0.647873282,
           0.714635968
          ],
          [
           "Jordan",
           "Middle East and North Africa",
           4.633399963,
           -0.162565202,
           0.80216372,
           9.025999069,
           66.79975128,
           0.75104779,
           0.700344324
          ],
          [
           "Palestinian Territories",
           "Middle East and North Africa",
           4.552800179,
           -0.162079096,
           0.825295925,
           8.389223099,
           62.25,
           0.645791829,
           0.824199975
          ],
          [
           "Tunisia",
           "Middle East and North Africa",
           4.392199993,
           -0.216413811,
           0.688718557,
           9.314972878,
           66.89785767,
           0.593361557,
           0.867590249
          ],
          [
           "Egypt",
           "Middle East and North Africa",
           4.151400089,
           -0.196878314,
           0.735447824,
           9.316541672,
           61.78015137,
           0.708354175,
           0.787726879
          ],
          [
           "Yemen",
           "Middle East and North Africa",
           3.527400017,
           -0.157735437,
           0.817980587,
           7.759682655,
           56.72728348,
           0.599920273,
           0.800287724
          ]
         ],
         "hovertemplate": "<b>%{hovertext}</b><br><br>PC1=%{x}<br>PC2=%{y}<br>Ladder score=%{customdata[2]}<br>Generosity=%{customdata[3]}<br>Social support=%{customdata[4]}<br>Logged GDP per capita=%{customdata[5]}<br>Healthy life expectancy=%{customdata[6]}<br>Freedom to make life choices=%{customdata[7]}<br>Perceptions of corruption=%{customdata[8]}<extra></extra>",
         "hovertext": [
          "Israel",
          "United Arab Emirates",
          "Saudi Arabia",
          "Bahrain",
          "Kuwait",
          "Libya",
          "Turkey",
          "Morocco",
          "Algeria",
          "Iraq",
          "Lebanon",
          "Iran",
          "Jordan",
          "Palestinian Territories",
          "Tunisia",
          "Egypt",
          "Yemen"
         ],
         "legendgroup": "Middle East and North Africa",
         "marker": {
          "color": "#FF9900",
          "size": 8,
          "symbol": "circle"
         },
         "mode": "markers",
         "name": "Middle East and North Africa",
         "orientation": "v",
         "showlegend": true,
         "type": "scatter",
         "x": [
          1.8978893613076424,
          2.237158664553594,
          1.561776881308639,
          1.7114469913207857,
          1.4250972995170048,
          0.16960223131593175,
          -0.1659976041252979,
          -1.1704456948939737,
          -0.9734839723526051,
          -1.2378940997999017,
          -0.9743723992657102,
          -0.7908318694915368,
          -0.3976205363494144,
          -1.368426916257076,
          -1.5054129300336123,
          -1.3097211757639915,
          -2.511093521083143
         ],
         "xaxis": "x",
         "y": [
          -0.24874625065736647,
          1.0469302989480371,
          -0.8258310846686016,
          0.5992207686718757,
          -0.674236524555849,
          -0.26261336158144605,
          -1.5460591180450172,
          -0.968656269011134,
          -1.5143900227761078,
          -0.8052406198976826,
          -1.4630785368621348,
          0.349839967632847,
          -0.7190775597471012,
          -1.1725893616699712,
          -1.7638185408358709,
          -1.0721335715552887,
          -0.9629822063348514
         ],
         "yaxis": "y"
        },
        {
         "customdata": [
          [
           "Costa Rica",
           "Latin America and Caribbean",
           7.121399879,
           -0.10242971,
           0.901545942,
           9.658156395,
           71.29985046,
           0.934738934,
           0.786332428
          ],
          [
           "Mexico",
           "Latin America and Caribbean",
           6.465000153,
           -0.175266623,
           0.838665426,
           9.797797203,
           68.29902649,
           0.858709276,
           0.806821585
          ],
          [
           "Uruguay",
           "Latin America and Caribbean",
           6.440100193,
           -0.101103112,
           0.92281127,
           9.948192596,
           69.00254822,
           0.892395437,
           0.635994136
          ],
          [
           "Guatemala",
           "Latin America and Caribbean",
           6.398900032,
           -0.042938665,
           0.816621482,
           8.924805641,
           64.8089447,
           0.908147573,
           0.783237457
          ],
          [
           "Brazil",
           "Latin America and Caribbean",
           6.375599861,
           -0.101812392,
           0.896723807,
           9.56643486,
           66.48016357,
           0.799804807,
           0.770601273
          ],
          [
           "El Salvador",
           "Latin America and Caribbean",
           6.34829998,
           -0.121072978,
           0.806092262,
           8.909075737,
           66.10826111,
           0.833805263,
           0.754319906
          ],
          [
           "Panama",
           "Latin America and Caribbean",
           6.304800034,
           -0.153927714,
           0.902094483,
           10.03423405,
           69.60301208,
           0.880366504,
           0.851588905
          ],
          [
           "Chile",
           "Latin America and Caribbean",
           6.228499889,
           -0.065668367,
           0.879713595,
           10.0320549,
           69.90061951,
           0.744896293,
           0.838239431
          ],
          [
           "Trinidad and Tobago",
           "Latin America and Caribbean",
           6.191899776,
           0.000526841,
           0.91529417,
           10.26000214,
           63.5,
           0.857907116,
           0.912230611
          ],
          [
           "Colombia",
           "Latin America and Caribbean",
           6.163400173,
           -0.161235645,
           0.884440243,
           9.500369072,
           67.69958496,
           0.836179912,
           0.86457181
          ],
          [
           "Nicaragua",
           "Latin America and Caribbean",
           6.13710022,
           0.020959141,
           0.857497036,
           8.493160248,
           67.50717926,
           0.863902867,
           0.665950119
          ],
          [
           "Argentina",
           "Latin America and Caribbean",
           5.974699974,
           -0.194913864,
           0.900567949,
           9.810955048,
           68.80380249,
           0.831132412,
           0.842009842
          ],
          [
           "Honduras",
           "Latin America and Caribbean",
           5.953199863,
           0.086969115,
           0.821870148,
           8.424534798,
           67.19876862,
           0.870603263,
           0.801131904
          ],
          [
           "Ecuador",
           "Latin America and Caribbean",
           5.925199986,
           -0.127014965,
           0.836418986,
           9.246058464,
           68.50003815,
           0.859828949,
           0.801215112
          ],
          [
           "Jamaica",
           "Latin America and Caribbean",
           5.889800072,
           -0.125106767,
           0.915701866,
           9.006250381,
           67.09999847,
           0.858068526,
           0.888890028
          ],
          [
           "Peru",
           "Latin America and Caribbean",
           5.796800137,
           -0.16238822,
           0.831075251,
           9.456313133,
           68.10023499,
           0.824766099,
           0.893714964
          ],
          [
           "Bolivia",
           "Latin America and Caribbean",
           5.747499943,
           -0.09168113,
           0.803108692,
           8.851115227,
           63.6004715,
           0.875873327,
           0.822606206
          ],
          [
           "Paraguay",
           "Latin America and Caribbean",
           5.692100048,
           0.007997713,
           0.898727894,
           9.389982224,
           65.63993835,
           0.885923445,
           0.834788501
          ],
          [
           "Dominican Republic",
           "Latin America and Caribbean",
           5.689199924,
           -0.131263286,
           0.882085383,
           9.664880753,
           65.80748749,
           0.866202772,
           0.755999923
          ],
          [
           "Venezuela",
           "Latin America and Caribbean",
           5.053199768,
           -0.169090509,
           0.890408158,
           8.977793694,
           66.50534058,
           0.62327832,
           0.837038398
          ],
          [
           "Haiti",
           "Latin America and Caribbean",
           3.720799923,
           0.40053457,
           0.593247831,
           7.411329269,
           55.59862518,
           0.537825167,
           0.684767246
          ]
         ],
         "hovertemplate": "<b>%{hovertext}</b><br><br>PC1=%{x}<br>PC2=%{y}<br>Ladder score=%{customdata[2]}<br>Generosity=%{customdata[3]}<br>Social support=%{customdata[4]}<br>Logged GDP per capita=%{customdata[5]}<br>Healthy life expectancy=%{customdata[6]}<br>Freedom to make life choices=%{customdata[7]}<br>Perceptions of corruption=%{customdata[8]}<extra></extra>",
         "hovertext": [
          "Costa Rica",
          "Mexico",
          "Uruguay",
          "Guatemala",
          "Brazil",
          "El Salvador",
          "Panama",
          "Chile",
          "Trinidad and Tobago",
          "Colombia",
          "Nicaragua",
          "Argentina",
          "Honduras",
          "Ecuador",
          "Jamaica",
          "Peru",
          "Bolivia",
          "Paraguay",
          "Dominican Republic",
          "Venezuela",
          "Haiti"
         ],
         "legendgroup": "Latin America and Caribbean",
         "marker": {
          "color": "#109618",
          "size": 8,
          "symbol": "circle"
         },
         "mode": "markers",
         "name": "Latin America and Caribbean",
         "orientation": "v",
         "showlegend": true,
         "type": "scatter",
         "x": [
          1.9423916926827425,
          1.0385228099549815,
          1.7955317378963491,
          0.5819563166428612,
          0.9015030233017137,
          0.4127038476482683,
          1.372568218948886,
          0.9206678524784955,
          0.9402971914867928,
          0.7781250459632646,
          0.6857097379865712,
          0.957468630310369,
          0.26731675171079994,
          0.6303121449068485,
          0.5857242895319117,
          0.36616488355944526,
          -0.004581867839468401,
          0.6784847270036867,
          0.7655319852001368,
          -0.5171368876864628,
          -3.3484042867853376
         ],
         "xaxis": "x",
         "y": [
          -0.5080247481151022,
          -0.9898039961647984,
          -0.24967348139571463,
          0.1371241096938358,
          -0.7161548507564074,
          -0.3896428507449288,
          -1.1234311483402037,
          -1.0242749661487074,
          -0.5231831389022648,
          -1.1511427131780128,
          0.5838731682944526,
          -1.3771776568832836,
          0.6326381338022031,
          -0.63930874268874,
          -0.9258103728865191,
          -1.1844632312108998,
          -0.23661601335060684,
          -0.06127090795134585,
          -0.6052453826369191,
          -1.6212911658267741,
          2.3298522858267683
         ],
         "yaxis": "y"
        },
        {
         "customdata": [
          [
           "Czech Republic",
           "Central and Eastern Europe",
           6.910900116,
           -0.230861515,
           0.914430678,
           10.40416336,
           70.04793549,
           0.818537354,
           0.85844624
          ],
          [
           "Slovenia",
           "Central and Eastern Europe",
           6.363399982,
           -0.080603383,
           0.939575672,
           10.39232254,
           71.1029892,
           0.936142623,
           0.817071021
          ],
          [
           "Kosovo",
           "Central and Eastern Europe",
           6.325200081,
           0.190933764,
           0.820726514,
           9.204429626,
           63.88555527,
           0.861535907,
           0.922328293
          ],
          [
           "Slovakia",
           "Central and Eastern Europe",
           6.280600071,
           -0.124409303,
           0.922493756,
           10.34774971,
           68.90634155,
           0.749952674,
           0.918096125
          ],
          [
           "Lithuania",
           "Central and Eastern Europe",
           6.215499878,
           -0.219725296,
           0.926107109,
           10.34362602,
           67.29407501,
           0.747381449,
           0.809583843
          ],
          [
           "Poland",
           "Central and Eastern Europe",
           6.186299801,
           -0.205084071,
           0.874257445,
           10.26512432,
           69.31113434,
           0.862055779,
           0.686927021
          ],
          [
           "Romania",
           "Central and Eastern Europe",
           6.123700142,
           -0.19781521,
           0.825161517,
           10.107584,
           67.20723724,
           0.842823207,
           0.934300244
          ],
          [
           "Estonia",
           "Central and Eastern Europe",
           6.021800041,
           -0.111697771,
           0.934729993,
           10.34001732,
           68.60495758,
           0.87770915,
           0.623073816
          ],
          [
           "Hungary",
           "Central and Eastern Europe",
           6.000400066,
           -0.194323018,
           0.921934128,
           10.24924374,
           67.60997009,
           0.718964577,
           0.892916501
          ],
          [
           "Latvia",
           "Central and Eastern Europe",
           5.949999809,
           -0.186888844,
           0.918288589,
           10.17531967,
           66.8074646,
           0.671237648,
           0.795580089
          ],
          [
           "Serbia",
           "Central and Eastern Europe",
           5.77820015,
           -0.073676221,
           0.881475747,
           9.680980682,
           68.21020508,
           0.726495862,
           0.843509018
          ],
          [
           "Bosnia and Herzegovina",
           "Central and Eastern Europe",
           5.674099922,
           0.098274559,
           0.829204142,
           9.455817223,
           67.80813599,
           0.651352704,
           0.933769107
          ],
          [
           "Montenegro",
           "Central and Eastern Europe",
           5.54610014,
           -0.075600356,
           0.855314612,
           9.751860619,
           68.50534821,
           0.649565637,
           0.783121586
          ],
          [
           "Croatia",
           "Central and Eastern Europe",
           5.504700184,
           -0.128538325,
           0.874623716,
           10.07087517,
           70.21490479,
           0.714838803,
           0.916495264
          ],
          [
           "Macedonia",
           "Central and Eastern Europe",
           5.159800053,
           -0.019877451,
           0.820392311,
           9.510591507,
           67.50442505,
           0.738840938,
           0.897490501
          ],
          [
           "Bulgaria",
           "Central and Eastern Europe",
           5.101500034,
           -0.143908441,
           0.937840343,
           9.869318962,
           66.80397797,
           0.745178163,
           0.935585141
          ],
          [
           "Albania",
           "Central and Eastern Europe",
           4.882699966,
           -0.042309489,
           0.671070457,
           9.417930603,
           68.70813751,
           0.781994224,
           0.896303713
          ]
         ],
         "hovertemplate": "<b>%{hovertext}</b><br><br>PC1=%{x}<br>PC2=%{y}<br>Ladder score=%{customdata[2]}<br>Generosity=%{customdata[3]}<br>Social support=%{customdata[4]}<br>Logged GDP per capita=%{customdata[5]}<br>Healthy life expectancy=%{customdata[6]}<br>Freedom to make life choices=%{customdata[7]}<br>Perceptions of corruption=%{customdata[8]}<extra></extra>",
         "hovertext": [
          "Czech Republic",
          "Slovenia",
          "Kosovo",
          "Slovakia",
          "Lithuania",
          "Poland",
          "Romania",
          "Estonia",
          "Hungary",
          "Latvia",
          "Serbia",
          "Bosnia and Herzegovina",
          "Montenegro",
          "Croatia",
          "Macedonia",
          "Bulgaria",
          "Albania"
         ],
         "legendgroup": "Central and Eastern Europe",
         "marker": {
          "color": "#990099",
          "size": 8,
          "symbol": "circle"
         },
         "mode": "markers",
         "name": "Central and Eastern Europe",
         "orientation": "v",
         "showlegend": true,
         "type": "scatter",
         "x": [
          1.6339861074610371,
          1.9890240475085177,
          0.31387508309375517,
          1.037272891240616,
          1.0536443354338263,
          1.4721454188701841,
          0.6557914391946846,
          1.7602660014305502,
          0.7324632356840678,
          0.6254583355399467,
          0.43563904207021503,
          -0.2263812178166673,
          0.1556698565694833,
          0.42048322384020187,
          -0.18525205165670056,
          0.24171319783014245,
          -0.671516715047217
         ],
         "xaxis": "x",
         "y": [
          -1.791259163766761,
          -0.6747038951298979,
          0.7192075610663178,
          -1.6145852201553585,
          -1.7548029147187716,
          -0.9662391850369304,
          -1.501024616037072,
          -0.3907414231129299,
          -1.9251795926024282,
          -1.7246180375928866,
          -1.0301244764746618,
          -0.5263186128073454,
          -1.0766294224327075,
          -1.6365770408731348,
          -0.7343920433116459,
          -1.6601596118734134,
          -0.483228895449074
         ],
         "yaxis": "y"
        },
        {
         "customdata": [
          [
           "Taiwan Province of China",
           "East Asia",
           6.45539999,
           -0.073198698,
           0.894309103,
           10.77568531,
           69.59999847,
           0.77153033,
           0.73188293
          ],
          [
           "South Korea",
           "East Asia",
           5.872399807,
           -0.043404032,
           0.799387157,
           10.51056671,
           73.6027298,
           0.612965107,
           0.789067447
          ],
          [
           "Japan",
           "East Asia",
           5.870800018,
           -0.246910349,
           0.883545935,
           10.57968903,
           75.00096893,
           0.809961379,
           0.654558063
          ],
          [
           "Hong Kong S.A.R. of China",
           "East Asia",
           5.510399818,
           0.134979904,
           0.845969081,
           10.9346714,
           76.77170563,
           0.779833794,
           0.420607209
          ],
          [
           "Mongolia",
           "East Asia",
           5.456200123,
           0.098093867,
           0.937142491,
           9.412186623,
           62.30448532,
           0.693351328,
           0.863511205
          ],
          [
           "China",
           "East Asia",
           5.123899937,
           -0.18142575,
           0.798760593,
           9.688568115,
           69.2891922,
           0.898517907,
           0.7539711
          ]
         ],
         "hovertemplate": "<b>%{hovertext}</b><br><br>PC1=%{x}<br>PC2=%{y}<br>Ladder score=%{customdata[2]}<br>Generosity=%{customdata[3]}<br>Social support=%{customdata[4]}<br>Logged GDP per capita=%{customdata[5]}<br>Healthy life expectancy=%{customdata[6]}<br>Freedom to make life choices=%{customdata[7]}<br>Perceptions of corruption=%{customdata[8]}<extra></extra>",
         "hovertext": [
          "Taiwan Province of China",
          "South Korea",
          "Japan",
          "Hong Kong S.A.R. of China",
          "Mongolia",
          "China"
         ],
         "legendgroup": "East Asia",
         "marker": {
          "color": "#0099C6",
          "size": 8,
          "symbol": "circle"
         },
         "mode": "markers",
         "name": "East Asia",
         "orientation": "v",
         "showlegend": true,
         "type": "scatter",
         "x": [
          1.561905161815255,
          0.5943506847127074,
          1.7454374091454445,
          2.0348480404960125,
          -0.07319369926117543,
          0.5501582701120585
         ],
         "xaxis": "x",
         "y": [
          -0.8457591352302058,
          -1.2119889944797015,
          -1.4413530604935991,
          0.9091344019916121,
          -0.25069800193309044,
          -0.7014024876851028
         ],
         "yaxis": "y"
        },
        {
         "customdata": [
          [
           "Singapore",
           "Southeast Asia",
           6.377099991,
           0.029879224,
           0.910268962,
           11.39552116,
           76.80458069,
           0.926645339,
           0.109784193
          ],
          [
           "Philippines",
           "Southeast Asia",
           6.006000042,
           -0.105463006,
           0.846730053,
           8.993545532,
           61.92676163,
           0.915463448,
           0.733634114
          ],
          [
           "Thailand",
           "Southeast Asia",
           5.998799801,
           0.268685192,
           0.889973223,
           9.741791725,
           67.25059509,
           0.905063033,
           0.886272311
          ],
          [
           "Malaysia",
           "Southeast Asia",
           5.384300232,
           0.114726797,
           0.816509426,
           10.26251888,
           67.10215759,
           0.894626856,
           0.839302301
          ],
          [
           "Vietnam",
           "Southeast Asia",
           5.353499889,
           -0.094533332,
           0.849987149,
           8.809545517,
           67.9527359,
           0.939592957,
           0.79642123
          ],
          [
           "Indonesia",
           "Southeast Asia",
           5.285600185,
           0.519586504,
           0.808379889,
           9.36975193,
           62.15584946,
           0.870614409,
           0.876296401
          ],
          [
           "Laos",
           "Southeast Asia",
           4.888599873,
           0.11137148,
           0.737502217,
           8.79858017,
           58.70992279,
           0.907213569,
           0.634679317
          ],
          [
           "Cambodia",
           "Southeast Asia",
           4.848400116,
           0.051911179,
           0.773080647,
           8.249890327,
           61.52996826,
           0.959704638,
           0.822769046
          ],
          [
           "Myanmar",
           "Southeast Asia",
           4.308000088,
           0.560663998,
           0.78440702,
           8.680481911,
           58.96171188,
           0.895075202,
           0.645124316
          ]
         ],
         "hovertemplate": "<b>%{hovertext}</b><br><br>PC1=%{x}<br>PC2=%{y}<br>Ladder score=%{customdata[2]}<br>Generosity=%{customdata[3]}<br>Social support=%{customdata[4]}<br>Logged GDP per capita=%{customdata[5]}<br>Healthy life expectancy=%{customdata[6]}<br>Freedom to make life choices=%{customdata[7]}<br>Perceptions of corruption=%{customdata[8]}<extra></extra>",
         "hovertext": [
          "Singapore",
          "Philippines",
          "Thailand",
          "Malaysia",
          "Vietnam",
          "Indonesia",
          "Laos",
          "Cambodia",
          "Myanmar"
         ],
         "legendgroup": "Southeast Asia",
         "marker": {
          "color": "#DD4477",
          "size": 8,
          "symbol": "circle"
         },
         "mode": "markers",
         "name": "Southeast Asia",
         "orientation": "v",
         "showlegend": true,
         "type": "scatter",
         "x": [
          3.6699333329682315,
          0.4503444780404644,
          1.0380187081131802,
          0.7154748300047876,
          0.4855437524039514,
          -0.05877694237145192,
          -0.5260558575732055,
          -0.5773864501850456,
          -0.597391116600837
         ],
         "xaxis": "x",
         "y": [
          1.4850539691139062,
          -0.002684298448735167,
          1.0280473278794355,
          0.4075069191321778,
          -0.16763718572271508,
          2.490652384795435,
          1.580342970716247,
          0.9080449844347045,
          3.628886865136137
         ],
         "yaxis": "y"
        },
        {
         "customdata": [
          [
           "Uzbekistan",
           "Commonwealth of Independent States",
           6.257599831,
           0.248427153,
           0.926595807,
           8.740371704,
           65.10757446,
           0.974998116,
           0.501497388
          ],
          [
           "Kazakhstan",
           "Commonwealth of Independent States",
           6.057899952,
           -0.068488635,
           0.934744895,
           10.11465836,
           64.60996246,
           0.811601937,
           0.764490843
          ],
          [
           "Moldova",
           "Commonwealth of Independent States",
           5.607500076,
           -0.037741039,
           0.843313575,
           8.776714325,
           65.01301575,
           0.721609175,
           0.913314283
          ],
          [
           "Tajikistan",
           "Commonwealth of Independent States",
           5.555699825,
           -0.025088511,
           0.835297108,
           8.024810791,
           64.10459137,
           0.831383407,
           0.592076063
          ],
          [
           "Russia",
           "Commonwealth of Independent States",
           5.546000004,
           -0.151153743,
           0.903150737,
           10.12887192,
           64.10045624,
           0.729892612,
           0.864802599
          ],
          [
           "Kyrgyzstan",
           "Commonwealth of Independent States",
           5.541500092,
           0.154772058,
           0.887228489,
           8.148405075,
           64.10601044,
           0.909374893,
           0.888396084
          ],
          [
           "Belarus",
           "Commonwealth of Independent States",
           5.539899826,
           -0.164926544,
           0.90674746,
           9.779945374,
           66.10433197,
           0.639163077,
           0.63571167
          ],
          [
           "Azerbaijan",
           "Commonwealth of Independent States",
           5.164800167,
           -0.240255281,
           0.819308281,
           9.687726974,
           65.50839996,
           0.786824107,
           0.55253756
          ],
          [
           "Turkmenistan",
           "Commonwealth of Independent States",
           5.119100094,
           0.187671542,
           0.958966196,
           9.74803257,
           62.21170807,
           0.826457024,
           0.883691847
          ],
          [
           "Armenia",
           "Commonwealth of Independent States",
           4.676799774,
           -0.13877961,
           0.757479429,
           9.100476265,
           66.75065613,
           0.712017834,
           0.773544788
          ],
          [
           "Georgia",
           "Commonwealth of Independent States",
           4.672599792,
           -0.22892037,
           0.629033029,
           9.226100922,
           64.49520874,
           0.801641524,
           0.665944695
          ],
          [
           "Ukraine",
           "Commonwealth of Independent States",
           4.56069994,
           -0.030933706,
           0.878879368,
           9.010690689,
           64.60678101,
           0.663081884,
           0.920636714
          ]
         ],
         "hovertemplate": "<b>%{hovertext}</b><br><br>PC1=%{x}<br>PC2=%{y}<br>Ladder score=%{customdata[2]}<br>Generosity=%{customdata[3]}<br>Social support=%{customdata[4]}<br>Logged GDP per capita=%{customdata[5]}<br>Healthy life expectancy=%{customdata[6]}<br>Freedom to make life choices=%{customdata[7]}<br>Perceptions of corruption=%{customdata[8]}<extra></extra>",
         "hovertext": [
          "Uzbekistan",
          "Kazakhstan",
          "Moldova",
          "Tajikistan",
          "Russia",
          "Kyrgyzstan",
          "Belarus",
          "Azerbaijan",
          "Turkmenistan",
          "Armenia",
          "Georgia",
          "Ukraine"
         ],
         "legendgroup": "Commonwealth of Independent States",
         "marker": {
          "color": "#66AA00",
          "size": 8,
          "symbol": "circle"
         },
         "mode": "markers",
         "name": "Commonwealth of Independent States",
         "orientation": "v",
         "showlegend": true,
         "type": "scatter",
         "x": [
          1.5307254449433247,
          1.041465002189482,
          -0.428881289082515,
          -0.02499829839109971,
          0.2863132657625845,
          0.023945418301337916,
          0.36562696929580524,
          0.3606099456276269,
          0.3583858495956411,
          -0.7321358497812592,
          -0.888921721197074,
          -0.8559641898873868
         ],
         "xaxis": "x",
         "y": [
          2.355048808006775,
          -0.6218696752947369,
          -0.7569673483298369,
          0.6693768730244194,
          -1.4723414059632718,
          0.8530919318376612,
          -1.1696552190201828,
          -0.7056486476873619,
          0.4196308572797166,
          -0.8560954457911252,
          -0.49853512549569523,
          -1.0071519681908037
         ],
         "yaxis": "y"
        },
        {
         "customdata": [
          [
           "Mauritius",
           "Sub-Saharan Africa",
           6.101299763,
           -0.018318573,
           0.910357833,
           9.956786156,
           66.40434265,
           0.889534533,
           0.805343091
          ],
          [
           "Ivory Coast",
           "Sub-Saharan Africa",
           5.233300209,
           -0.043991156,
           0.658048689,
           8.225561142,
           49.50377274,
           0.727909327,
           0.790771961
          ],
          [
           "Benin",
           "Sub-Saharan Africa",
           5.21600008,
           -0.003537213,
           0.468671143,
           7.674319744,
           54.31246567,
           0.735182583,
           0.740532577
          ],
          [
           "Congo (Brazzaville)",
           "Sub-Saharan Africa",
           5.194399834,
           -0.123674095,
           0.640228093,
           8.536987305,
           57.92448044,
           0.719058514,
           0.751779079
          ],
          [
           "Ghana",
           "Sub-Saharan Africa",
           5.147999763,
           0.094170853,
           0.728601098,
           8.350645065,
           57.20398712,
           0.794796526,
           0.847964764
          ],
          [
           "Cameroon",
           "Sub-Saharan Africa",
           5.084899902,
           -0.00149645,
           0.700386405,
           8.118647575,
           52.7049408,
           0.763051808,
           0.851336598
          ],
          [
           "Senegal",
           "Sub-Saharan Africa",
           4.980800152,
           -0.052335154,
           0.723616004,
           8.118982315,
           59.59915161,
           0.690596163,
           0.808785141
          ],
          [
           "Guinea",
           "Sub-Saharan Africa",
           4.949299812,
           0.076328471,
           0.637573481,
           7.750990391,
           54.46780014,
           0.706846774,
           0.761794448
          ],
          [
           "Niger",
           "Sub-Saharan Africa",
           4.909599781,
           0.013860817,
           0.617435038,
           6.842166901,
           53.50009537,
           0.759772122,
           0.722530186
          ],
          [
           "Gabon",
           "Sub-Saharan Africa",
           4.829299927,
           -0.222261623,
           0.787886858,
           9.680537224,
           59.71533966,
           0.704829216,
           0.849150956
          ],
          [
           "South Africa",
           "Sub-Saharan Africa",
           4.814099789,
           -0.109777324,
           0.852532268,
           9.403370857,
           56.50601196,
           0.759330094,
           0.843423843
          ],
          [
           "Burkina Faso",
           "Sub-Saharan Africa",
           4.768700123,
           -0.019080516,
           0.712943614,
           7.46854496,
           53.88945389,
           0.665563583,
           0.739795029
          ],
          [
           "Gambia",
           "Sub-Saharan Africa",
           4.750599861,
           0.343198717,
           0.6931687,
           7.321814537,
           55.0120163,
           0.733163178,
           0.690717816
          ],
          [
           "Mali",
           "Sub-Saharan Africa",
           4.729300022,
           -0.044366926,
           0.731468976,
           7.629852295,
           51.72698212,
           0.71156615,
           0.839328408
          ],
          [
           "Nigeria",
           "Sub-Saharan Africa",
           4.724100113,
           0.033745807,
           0.73721689,
           8.57662487,
           49.86190796,
           0.759578407,
           0.861874342
          ],
          [
           "Mozambique",
           "Sub-Saharan Africa",
           4.623600006,
           0.032375868,
           0.723874032,
           7.069345951,
           54.20582199,
           0.864451885,
           0.683019102
          ],
          [
           "Kenya",
           "Sub-Saharan Africa",
           4.583000183,
           0.294681519,
           0.702652037,
           8.02977562,
           60.09693146,
           0.829747558,
           0.831499159
          ],
          [
           "Namibia",
           "Sub-Saharan Africa",
           4.571100235,
           -0.18530646,
           0.846880972,
           9.203141212,
           56.50148773,
           0.767520964,
           0.851449788
          ],
          [
           "Liberia",
           "Sub-Saharan Africa",
           4.557899952,
           0.04227322,
           0.70928055,
           7.054380417,
           56.09631348,
           0.735268712,
           0.856375933
          ],
          [
           "Uganda",
           "Sub-Saharan Africa",
           4.43200016,
           0.099487431,
           0.764994621,
           7.500389576,
           55.70820236,
           0.731713951,
           0.836737812
          ],
          [
           "Chad",
           "Sub-Saharan Africa",
           4.422699928,
           0.017834719,
           0.632388055,
           7.467963696,
           48.22053909,
           0.587305248,
           0.802760839
          ],
          [
           "Mauritania",
           "Sub-Saharan Africa",
           4.374599934,
           -0.106008142,
           0.790819228,
           8.233919144,
           57.01017761,
           0.551522553,
           0.746223509
          ],
          [
           "Congo (Kinshasa)",
           "Sub-Saharan Africa",
           4.31099987,
           0.083637655,
           0.672159016,
           6.694256306,
           52.90000153,
           0.700793564,
           0.809403598
          ],
          [
           "Swaziland",
           "Sub-Saharan Africa",
           4.308100224,
           -0.19920142,
           0.770290196,
           9.16267395,
           51.18823624,
           0.646822274,
           0.708263338
          ],
          [
           "Comoros",
           "Sub-Saharan Africa",
           4.288599968,
           0.090008408,
           0.625662446,
           7.833630085,
           57.34901047,
           0.547612607,
           0.780622602
          ],
          [
           "Togo",
           "Sub-Saharan Africa",
           4.187200069,
           0.002667875,
           0.551312625,
           7.357711315,
           54.71989822,
           0.649828613,
           0.757733464
          ],
          [
           "Ethiopia",
           "Sub-Saharan Africa",
           4.186200142,
           0.043377332,
           0.743307352,
           7.509385586,
           58.63959122,
           0.740795195,
           0.753690004
          ],
          [
           "Madagascar",
           "Sub-Saharan Africa",
           4.165599823,
           -0.011823639,
           0.668195903,
           7.281685829,
           59.10542679,
           0.557574093,
           0.817485631
          ],
          [
           "Sierra Leone",
           "Sub-Saharan Africa",
           3.926399946,
           0.088660747,
           0.636142015,
           7.26880312,
           50.86514282,
           0.715315044,
           0.861330688
          ],
          [
           "Burundi",
           "Sub-Saharan Africa",
           3.775300026,
           -0.017551597,
           0.490325719,
           6.492642403,
           53.40000153,
           0.626350224,
           0.606934547
          ],
          [
           "Zambia",
           "Sub-Saharan Africa",
           3.759399891,
           0.078037128,
           0.698824465,
           8.224720001,
           55.29937744,
           0.806500256,
           0.801289678
          ],
          [
           "Lesotho",
           "Sub-Saharan Africa",
           3.652800083,
           -0.145732045,
           0.780495703,
           7.960488319,
           48.00362396,
           0.738125861,
           0.857392073
          ],
          [
           "Malawi",
           "Sub-Saharan Africa",
           3.538000107,
           0.021433279,
           0.544007301,
           7.062226295,
           57.59288788,
           0.803223193,
           0.731700778
          ],
          [
           "Botswana",
           "Sub-Saharan Africa",
           3.478899956,
           -0.250394493,
           0.779121757,
           9.711203575,
           58.92445374,
           0.821328104,
           0.777930915
          ],
          [
           "Tanzania",
           "Sub-Saharan Africa",
           3.476200104,
           0.109668687,
           0.688933194,
           7.967665195,
           57.49607468,
           0.82153976,
           0.619799435
          ],
          [
           "Central African Republic",
           "Sub-Saharan Africa",
           3.475899935,
           0.082410358,
           0.319459856,
           6.625160217,
           45.20000076,
           0.640880644,
           0.891806662
          ],
          [
           "Rwanda",
           "Sub-Saharan Africa",
           3.312299967,
           0.055483952,
           0.54083544,
           7.600104332,
           61.09884644,
           0.900589406,
           0.183541179
          ],
          [
           "Zimbabwe",
           "Sub-Saharan Africa",
           3.299200058,
           -0.072063953,
           0.763092756,
           7.865711689,
           55.61725998,
           0.711457908,
           0.81023699
          ],
          [
           "South Sudan",
           "Sub-Saharan Africa",
           2.816600084,
           0.016518548,
           0.553707123,
           7.425359726,
           51,
           0.451313615,
           0.763417304
          ]
         ],
         "hovertemplate": "<b>%{hovertext}</b><br><br>PC1=%{x}<br>PC2=%{y}<br>Ladder score=%{customdata[2]}<br>Generosity=%{customdata[3]}<br>Social support=%{customdata[4]}<br>Logged GDP per capita=%{customdata[5]}<br>Healthy life expectancy=%{customdata[6]}<br>Freedom to make life choices=%{customdata[7]}<br>Perceptions of corruption=%{customdata[8]}<extra></extra>",
         "hovertext": [
          "Mauritius",
          "Ivory Coast",
          "Benin",
          "Congo (Brazzaville)",
          "Ghana",
          "Cameroon",
          "Senegal",
          "Guinea",
          "Niger",
          "Gabon",
          "South Africa",
          "Burkina Faso",
          "Gambia",
          "Mali",
          "Nigeria",
          "Mozambique",
          "Kenya",
          "Namibia",
          "Liberia",
          "Uganda",
          "Chad",
          "Mauritania",
          "Congo (Kinshasa)",
          "Swaziland",
          "Comoros",
          "Togo",
          "Ethiopia",
          "Madagascar",
          "Sierra Leone",
          "Burundi",
          "Zambia",
          "Lesotho",
          "Malawi",
          "Botswana",
          "Tanzania",
          "Central African Republic",
          "Rwanda",
          "Zimbabwe",
          "South Sudan"
         ],
         "legendgroup": "Sub-Saharan Africa",
         "marker": {
          "color": "#B82E2E",
          "size": 8,
          "symbol": "circle"
         },
         "mode": "markers",
         "name": "Sub-Saharan Africa",
         "orientation": "v",
         "showlegend": true,
         "type": "scatter",
         "x": [
          1.2028526486468638,
          -2.252824001902734,
          -2.736632871759514,
          -1.6589938171545655,
          -1.3598201552110285,
          -1.9776916804811586,
          -1.6531594314120335,
          -2.302298997556743,
          -2.595174770912949,
          -0.9391120106675012,
          -0.836107801231833,
          -2.355653390013726,
          -2.0825458474365455,
          -2.401238224156035,
          -2.02494312143626,
          -1.835861207932215,
          -1.462056530515092,
          -1.0354300550553184,
          -2.4299450796633106,
          -2.110279751334411,
          -3.466246219920182,
          -2.1093138504261932,
          -3.029984549374213,
          -1.9175473424074716,
          -2.89344443342785,
          -3.235328292322437,
          -1.9607942976999584,
          -2.931748508389121,
          -3.267215176914018,
          -3.885944974287503,
          -2.116005444339117,
          -2.7567116312628404,
          -2.972265302680821,
          -1.1349332582592937,
          -1.9084243687908018,
          -5.4596157258822355,
          -1.5518627793326065,
          -2.509353560685861,
          -4.594778939545712
         ],
         "xaxis": "x",
         "y": [
          -0.2378878095915972,
          0.33743417882143767,
          0.9853194337331221,
          -0.19714044205858128,
          0.7227147099152922,
          0.35409875344338615,
          -0.18991630870363338,
          0.9379821931408491,
          1.1181405061798733,
          -1.4735298720493264,
          -0.7331773297815574,
          0.35820643293770194,
          2.4736655159221796,
          0.09080811597914919,
          0.4095682423931584,
          1.3871874757691012,
          1.8700479020099683,
          -1.0513379408980081,
          0.5689615266054431,
          0.7257576979662599,
          0.4043683298721774,
          -0.7536364050626879,
          0.9989179127212008,
          -0.8211179984060436,
          0.42405856582615326,
          0.6316289202697386,
          0.6696755875400124,
          -0.1509738390748473,
          0.9259714317118277,
          1.1638497132076249,
          0.920014502322463,
          -0.4249760216310803,
          1.2351232228921978,
          -1.0522030864179424,
          1.6205397728781763,
          1.36477295797038,
          2.997132633047241,
          -0.15487879630666188,
          0.17601152995117256
         ],
         "yaxis": "y"
        },
        {
         "customdata": [
          [
           "Pakistan",
           "South Asia",
           5.69329977,
           0.04489987,
           0.689062297,
           8.482727051,
           58.25313568,
           0.734833717,
           0.745705426
          ],
          [
           "Maldives",
           "South Asia",
           5.197599888,
           0.038085498,
           0.91316092,
           9.518632889,
           70.59999847,
           0.853962779,
           0.824211061
          ],
          [
           "Nepal",
           "South Asia",
           5.137199879,
           0.154168829,
           0.785512447,
           7.925357342,
           63.77917862,
           0.797565043,
           0.738099158
          ],
          [
           "Bangladesh",
           "South Asia",
           4.832799911,
           -0.033664726,
           0.687292993,
           8.287063599,
           64.50306702,
           0.90062499,
           0.661843538
          ],
          [
           "Sri Lanka",
           "South Asia",
           4.327000141,
           0.081129618,
           0.825374067,
           9.389969826,
           67.20006561,
           0.837633669,
           0.859001756
          ],
          [
           "India",
           "South Asia",
           3.573299885,
           0.057551607,
           0.592200935,
           8.849823952,
           60.21518707,
           0.881444871,
           0.772042692
          ],
          [
           "Afghanistan",
           "South Asia",
           2.566900015,
           -0.0964294,
           0.470366955,
           7.462860584,
           52.59000015,
           0.396573007,
           0.933686554
          ]
         ],
         "hovertemplate": "<b>%{hovertext}</b><br><br>PC1=%{x}<br>PC2=%{y}<br>Ladder score=%{customdata[2]}<br>Generosity=%{customdata[3]}<br>Social support=%{customdata[4]}<br>Logged GDP per capita=%{customdata[5]}<br>Healthy life expectancy=%{customdata[6]}<br>Freedom to make life choices=%{customdata[7]}<br>Perceptions of corruption=%{customdata[8]}<extra></extra>",
         "hovertext": [
          "Pakistan",
          "Maldives",
          "Nepal",
          "Bangladesh",
          "Sri Lanka",
          "India",
          "Afghanistan"
         ],
         "legendgroup": "South Asia",
         "marker": {
          "color": "#316395",
          "size": 8,
          "symbol": "circle"
         },
         "mode": "markers",
         "name": "South Asia",
         "orientation": "v",
         "showlegend": true,
         "type": "scatter",
         "x": [
          -1.189250762020947,
          0.818130740793685,
          -0.7180148402532838,
          -0.6369670803330341,
          -0.21769976007668213,
          -1.7686040844746242,
          -5.313317529242742
         ],
         "xaxis": "x",
         "y": [
          0.6044698915098309,
          -0.14645887635002466,
          1.1475394802619991,
          0.8218766217808524,
          0.16594201927461447,
          1.0601640677939705,
          -0.9025285178409923
         ],
         "yaxis": "y"
        }
       ],
       "layout": {
        "legend": {
         "title": {
          "text": "Regional indicator"
         },
         "tracegroupgap": 0
        },
        "margin": {
         "t": 60
        },
        "template": {
         "data": {
          "bar": [
           {
            "error_x": {
             "color": "#2a3f5f"
            },
            "error_y": {
             "color": "#2a3f5f"
            },
            "marker": {
             "line": {
              "color": "white",
              "width": 0.5
             },
             "pattern": {
              "fillmode": "overlay",
              "size": 10,
              "solidity": 0.2
             }
            },
            "type": "bar"
           }
          ],
          "barpolar": [
           {
            "marker": {
             "line": {
              "color": "white",
              "width": 0.5
             },
             "pattern": {
              "fillmode": "overlay",
              "size": 10,
              "solidity": 0.2
             }
            },
            "type": "barpolar"
           }
          ],
          "carpet": [
           {
            "aaxis": {
             "endlinecolor": "#2a3f5f",
             "gridcolor": "#C8D4E3",
             "linecolor": "#C8D4E3",
             "minorgridcolor": "#C8D4E3",
             "startlinecolor": "#2a3f5f"
            },
            "baxis": {
             "endlinecolor": "#2a3f5f",
             "gridcolor": "#C8D4E3",
             "linecolor": "#C8D4E3",
             "minorgridcolor": "#C8D4E3",
             "startlinecolor": "#2a3f5f"
            },
            "type": "carpet"
           }
          ],
          "choropleth": [
           {
            "colorbar": {
             "outlinewidth": 0,
             "ticks": ""
            },
            "type": "choropleth"
           }
          ],
          "contour": [
           {
            "colorbar": {
             "outlinewidth": 0,
             "ticks": ""
            },
            "colorscale": [
             [
              0,
              "#0d0887"
             ],
             [
              0.1111111111111111,
              "#46039f"
             ],
             [
              0.2222222222222222,
              "#7201a8"
             ],
             [
              0.3333333333333333,
              "#9c179e"
             ],
             [
              0.4444444444444444,
              "#bd3786"
             ],
             [
              0.5555555555555556,
              "#d8576b"
             ],
             [
              0.6666666666666666,
              "#ed7953"
             ],
             [
              0.7777777777777778,
              "#fb9f3a"
             ],
             [
              0.8888888888888888,
              "#fdca26"
             ],
             [
              1,
              "#f0f921"
             ]
            ],
            "type": "contour"
           }
          ],
          "contourcarpet": [
           {
            "colorbar": {
             "outlinewidth": 0,
             "ticks": ""
            },
            "type": "contourcarpet"
           }
          ],
          "heatmap": [
           {
            "colorbar": {
             "outlinewidth": 0,
             "ticks": ""
            },
            "colorscale": [
             [
              0,
              "#0d0887"
             ],
             [
              0.1111111111111111,
              "#46039f"
             ],
             [
              0.2222222222222222,
              "#7201a8"
             ],
             [
              0.3333333333333333,
              "#9c179e"
             ],
             [
              0.4444444444444444,
              "#bd3786"
             ],
             [
              0.5555555555555556,
              "#d8576b"
             ],
             [
              0.6666666666666666,
              "#ed7953"
             ],
             [
              0.7777777777777778,
              "#fb9f3a"
             ],
             [
              0.8888888888888888,
              "#fdca26"
             ],
             [
              1,
              "#f0f921"
             ]
            ],
            "type": "heatmap"
           }
          ],
          "heatmapgl": [
           {
            "colorbar": {
             "outlinewidth": 0,
             "ticks": ""
            },
            "colorscale": [
             [
              0,
              "#0d0887"
             ],
             [
              0.1111111111111111,
              "#46039f"
             ],
             [
              0.2222222222222222,
              "#7201a8"
             ],
             [
              0.3333333333333333,
              "#9c179e"
             ],
             [
              0.4444444444444444,
              "#bd3786"
             ],
             [
              0.5555555555555556,
              "#d8576b"
             ],
             [
              0.6666666666666666,
              "#ed7953"
             ],
             [
              0.7777777777777778,
              "#fb9f3a"
             ],
             [
              0.8888888888888888,
              "#fdca26"
             ],
             [
              1,
              "#f0f921"
             ]
            ],
            "type": "heatmapgl"
           }
          ],
          "histogram": [
           {
            "marker": {
             "pattern": {
              "fillmode": "overlay",
              "size": 10,
              "solidity": 0.2
             }
            },
            "type": "histogram"
           }
          ],
          "histogram2d": [
           {
            "colorbar": {
             "outlinewidth": 0,
             "ticks": ""
            },
            "colorscale": [
             [
              0,
              "#0d0887"
             ],
             [
              0.1111111111111111,
              "#46039f"
             ],
             [
              0.2222222222222222,
              "#7201a8"
             ],
             [
              0.3333333333333333,
              "#9c179e"
             ],
             [
              0.4444444444444444,
              "#bd3786"
             ],
             [
              0.5555555555555556,
              "#d8576b"
             ],
             [
              0.6666666666666666,
              "#ed7953"
             ],
             [
              0.7777777777777778,
              "#fb9f3a"
             ],
             [
              0.8888888888888888,
              "#fdca26"
             ],
             [
              1,
              "#f0f921"
             ]
            ],
            "type": "histogram2d"
           }
          ],
          "histogram2dcontour": [
           {
            "colorbar": {
             "outlinewidth": 0,
             "ticks": ""
            },
            "colorscale": [
             [
              0,
              "#0d0887"
             ],
             [
              0.1111111111111111,
              "#46039f"
             ],
             [
              0.2222222222222222,
              "#7201a8"
             ],
             [
              0.3333333333333333,
              "#9c179e"
             ],
             [
              0.4444444444444444,
              "#bd3786"
             ],
             [
              0.5555555555555556,
              "#d8576b"
             ],
             [
              0.6666666666666666,
              "#ed7953"
             ],
             [
              0.7777777777777778,
              "#fb9f3a"
             ],
             [
              0.8888888888888888,
              "#fdca26"
             ],
             [
              1,
              "#f0f921"
             ]
            ],
            "type": "histogram2dcontour"
           }
          ],
          "mesh3d": [
           {
            "colorbar": {
             "outlinewidth": 0,
             "ticks": ""
            },
            "type": "mesh3d"
           }
          ],
          "parcoords": [
           {
            "line": {
             "colorbar": {
              "outlinewidth": 0,
              "ticks": ""
             }
            },
            "type": "parcoords"
           }
          ],
          "pie": [
           {
            "automargin": true,
            "type": "pie"
           }
          ],
          "scatter": [
           {
            "fillpattern": {
             "fillmode": "overlay",
             "size": 10,
             "solidity": 0.2
            },
            "type": "scatter"
           }
          ],
          "scatter3d": [
           {
            "line": {
             "colorbar": {
              "outlinewidth": 0,
              "ticks": ""
             }
            },
            "marker": {
             "colorbar": {
              "outlinewidth": 0,
              "ticks": ""
             }
            },
            "type": "scatter3d"
           }
          ],
          "scattercarpet": [
           {
            "marker": {
             "colorbar": {
              "outlinewidth": 0,
              "ticks": ""
             }
            },
            "type": "scattercarpet"
           }
          ],
          "scattergeo": [
           {
            "marker": {
             "colorbar": {
              "outlinewidth": 0,
              "ticks": ""
             }
            },
            "type": "scattergeo"
           }
          ],
          "scattergl": [
           {
            "marker": {
             "colorbar": {
              "outlinewidth": 0,
              "ticks": ""
             }
            },
            "type": "scattergl"
           }
          ],
          "scattermapbox": [
           {
            "marker": {
             "colorbar": {
              "outlinewidth": 0,
              "ticks": ""
             }
            },
            "type": "scattermapbox"
           }
          ],
          "scatterpolar": [
           {
            "marker": {
             "colorbar": {
              "outlinewidth": 0,
              "ticks": ""
             }
            },
            "type": "scatterpolar"
           }
          ],
          "scatterpolargl": [
           {
            "marker": {
             "colorbar": {
              "outlinewidth": 0,
              "ticks": ""
             }
            },
            "type": "scatterpolargl"
           }
          ],
          "scatterternary": [
           {
            "marker": {
             "colorbar": {
              "outlinewidth": 0,
              "ticks": ""
             }
            },
            "type": "scatterternary"
           }
          ],
          "surface": [
           {
            "colorbar": {
             "outlinewidth": 0,
             "ticks": ""
            },
            "colorscale": [
             [
              0,
              "#0d0887"
             ],
             [
              0.1111111111111111,
              "#46039f"
             ],
             [
              0.2222222222222222,
              "#7201a8"
             ],
             [
              0.3333333333333333,
              "#9c179e"
             ],
             [
              0.4444444444444444,
              "#bd3786"
             ],
             [
              0.5555555555555556,
              "#d8576b"
             ],
             [
              0.6666666666666666,
              "#ed7953"
             ],
             [
              0.7777777777777778,
              "#fb9f3a"
             ],
             [
              0.8888888888888888,
              "#fdca26"
             ],
             [
              1,
              "#f0f921"
             ]
            ],
            "type": "surface"
           }
          ],
          "table": [
           {
            "cells": {
             "fill": {
              "color": "#EBF0F8"
             },
             "line": {
              "color": "white"
             }
            },
            "header": {
             "fill": {
              "color": "#C8D4E3"
             },
             "line": {
              "color": "white"
             }
            },
            "type": "table"
           }
          ]
         },
         "layout": {
          "annotationdefaults": {
           "arrowcolor": "#2a3f5f",
           "arrowhead": 0,
           "arrowwidth": 1
          },
          "autotypenumbers": "strict",
          "coloraxis": {
           "colorbar": {
            "outlinewidth": 0,
            "ticks": ""
           }
          },
          "colorscale": {
           "diverging": [
            [
             0,
             "#8e0152"
            ],
            [
             0.1,
             "#c51b7d"
            ],
            [
             0.2,
             "#de77ae"
            ],
            [
             0.3,
             "#f1b6da"
            ],
            [
             0.4,
             "#fde0ef"
            ],
            [
             0.5,
             "#f7f7f7"
            ],
            [
             0.6,
             "#e6f5d0"
            ],
            [
             0.7,
             "#b8e186"
            ],
            [
             0.8,
             "#7fbc41"
            ],
            [
             0.9,
             "#4d9221"
            ],
            [
             1,
             "#276419"
            ]
           ],
           "sequential": [
            [
             0,
             "#0d0887"
            ],
            [
             0.1111111111111111,
             "#46039f"
            ],
            [
             0.2222222222222222,
             "#7201a8"
            ],
            [
             0.3333333333333333,
             "#9c179e"
            ],
            [
             0.4444444444444444,
             "#bd3786"
            ],
            [
             0.5555555555555556,
             "#d8576b"
            ],
            [
             0.6666666666666666,
             "#ed7953"
            ],
            [
             0.7777777777777778,
             "#fb9f3a"
            ],
            [
             0.8888888888888888,
             "#fdca26"
            ],
            [
             1,
             "#f0f921"
            ]
           ],
           "sequentialminus": [
            [
             0,
             "#0d0887"
            ],
            [
             0.1111111111111111,
             "#46039f"
            ],
            [
             0.2222222222222222,
             "#7201a8"
            ],
            [
             0.3333333333333333,
             "#9c179e"
            ],
            [
             0.4444444444444444,
             "#bd3786"
            ],
            [
             0.5555555555555556,
             "#d8576b"
            ],
            [
             0.6666666666666666,
             "#ed7953"
            ],
            [
             0.7777777777777778,
             "#fb9f3a"
            ],
            [
             0.8888888888888888,
             "#fdca26"
            ],
            [
             1,
             "#f0f921"
            ]
           ]
          },
          "colorway": [
           "#636efa",
           "#EF553B",
           "#00cc96",
           "#ab63fa",
           "#FFA15A",
           "#19d3f3",
           "#FF6692",
           "#B6E880",
           "#FF97FF",
           "#FECB52"
          ],
          "font": {
           "color": "#2a3f5f"
          },
          "geo": {
           "bgcolor": "white",
           "lakecolor": "white",
           "landcolor": "white",
           "showlakes": true,
           "showland": true,
           "subunitcolor": "#C8D4E3"
          },
          "hoverlabel": {
           "align": "left"
          },
          "hovermode": "closest",
          "mapbox": {
           "style": "light"
          },
          "paper_bgcolor": "white",
          "plot_bgcolor": "white",
          "polar": {
           "angularaxis": {
            "gridcolor": "#EBF0F8",
            "linecolor": "#EBF0F8",
            "ticks": ""
           },
           "bgcolor": "white",
           "radialaxis": {
            "gridcolor": "#EBF0F8",
            "linecolor": "#EBF0F8",
            "ticks": ""
           }
          },
          "scene": {
           "xaxis": {
            "backgroundcolor": "white",
            "gridcolor": "#DFE8F3",
            "gridwidth": 2,
            "linecolor": "#EBF0F8",
            "showbackground": true,
            "ticks": "",
            "zerolinecolor": "#EBF0F8"
           },
           "yaxis": {
            "backgroundcolor": "white",
            "gridcolor": "#DFE8F3",
            "gridwidth": 2,
            "linecolor": "#EBF0F8",
            "showbackground": true,
            "ticks": "",
            "zerolinecolor": "#EBF0F8"
           },
           "zaxis": {
            "backgroundcolor": "white",
            "gridcolor": "#DFE8F3",
            "gridwidth": 2,
            "linecolor": "#EBF0F8",
            "showbackground": true,
            "ticks": "",
            "zerolinecolor": "#EBF0F8"
           }
          },
          "shapedefaults": {
           "line": {
            "color": "#2a3f5f"
           }
          },
          "ternary": {
           "aaxis": {
            "gridcolor": "#DFE8F3",
            "linecolor": "#A2B1C6",
            "ticks": ""
           },
           "baxis": {
            "gridcolor": "#DFE8F3",
            "linecolor": "#A2B1C6",
            "ticks": ""
           },
           "bgcolor": "white",
           "caxis": {
            "gridcolor": "#DFE8F3",
            "linecolor": "#A2B1C6",
            "ticks": ""
           }
          },
          "title": {
           "x": 0.05
          },
          "xaxis": {
           "automargin": true,
           "gridcolor": "#EBF0F8",
           "linecolor": "#EBF0F8",
           "ticks": "",
           "title": {
            "standoff": 15
           },
           "zerolinecolor": "#EBF0F8",
           "zerolinewidth": 2
          },
          "yaxis": {
           "automargin": true,
           "gridcolor": "#EBF0F8",
           "linecolor": "#EBF0F8",
           "ticks": "",
           "title": {
            "standoff": 15
           },
           "zerolinecolor": "#EBF0F8",
           "zerolinewidth": 2
          }
         }
        },
        "xaxis": {
         "anchor": "y",
         "domain": [
          0,
          1
         ],
         "title": {
          "text": "PC1"
         }
        },
        "yaxis": {
         "anchor": "x",
         "domain": [
          0,
          1
         ],
         "title": {
          "text": "PC2"
         }
        }
       }
      }
     },
     "metadata": {},
     "output_type": "display_data"
    }
   ],
   "source": [
    "from sklearn.decomposition import PCA\n",
    "# ACP sur donnees standardisees\n",
    "\n",
    "pca = PCA(n_components=2)  # Choisissez le nombre de composantes souhaité\n",
    "principal_components = pca.fit_transform(df_standardise)\n",
    "principal_df = pd.DataFrame(data=principal_components, columns=['PC1', 'PC2'])\n",
    "principal_df[['Country name','Regional indicator', 'Ladder score', 'Generosity', 'Social support', 'Logged GDP per capita', 'Healthy life expectancy', 'Freedom to make life choices', 'Perceptions of corruption']] = data_2020[['Country name','Regional indicator', 'Ladder score', 'Generosity', 'Social support', 'Logged GDP per capita', 'Healthy life expectancy', 'Freedom to make life choices', 'Perceptions of corruption']]\n",
    "\n",
    "\n",
    "# Visualisation\n",
    "fig = px.scatter(\n",
    "    principal_df, \n",
    "    template='plotly_white',\n",
    "    x='PC1', \n",
    "    y=\"PC2\", \n",
    "    hover_name='Country name',  # Le nom principal affiché\n",
    "    color='Regional indicator',  # Couleur basée sur cette colonne\n",
    "    hover_data={ \n",
    "        'Country name': False,  # Masquer ces colonnes\n",
    "        'Regional indicator': False,\n",
    "        'Ladder score': True,\n",
    "        'Generosity': True,\n",
    "        'Social support': True,\n",
    "        'Logged GDP per capita': True,\n",
    "        'Healthy life expectancy': True,\n",
    "        'Freedom to make life choices': True,\n",
    "        'Perceptions of corruption': True\n",
    "    },\n",
    "    color_discrete_sequence=px.colors.qualitative.G10,\n",
    ")\n",
    "fig.update_traces(marker=dict(size=8))\n",
    "\n",
    "fig.show()"
   ]
  },
  {
   "cell_type": "markdown",
   "metadata": {},
   "source": [
    "# DBSCAN"
   ]
  },
  {
   "cell_type": "markdown",
   "metadata": {},
   "source": [
    "# K-means"
   ]
  },
  {
   "cell_type": "markdown",
   "metadata": {},
   "source": [
    "## Score silhouette"
   ]
  },
  {
   "cell_type": "code",
   "execution_count": 31,
   "metadata": {},
   "outputs": [
    {
     "data": {
      "application/vnd.plotly.v1+json": {
       "config": {
        "plotlyServerURL": "https://plot.ly"
       },
       "data": [
        {
         "line": {
          "color": "blue"
         },
         "marker": {
          "size": 8
         },
         "mode": "lines+markers",
         "name": "Silhouette Score",
         "type": "scatter",
         "x": [
          2,
          3,
          4,
          5,
          6,
          7,
          8,
          9,
          10
         ],
         "y": [
          0.33095911463027416,
          0.3347299136374431,
          0.2672933100187106,
          0.2684761106213804,
          0.2666376775926824,
          0.2542895598031717,
          0.19098911941283733,
          0.1871567487272562,
          0.1891499581207276
         ]
        }
       ],
       "layout": {
        "template": {
         "data": {
          "bar": [
           {
            "error_x": {
             "color": "#2a3f5f"
            },
            "error_y": {
             "color": "#2a3f5f"
            },
            "marker": {
             "line": {
              "color": "white",
              "width": 0.5
             },
             "pattern": {
              "fillmode": "overlay",
              "size": 10,
              "solidity": 0.2
             }
            },
            "type": "bar"
           }
          ],
          "barpolar": [
           {
            "marker": {
             "line": {
              "color": "white",
              "width": 0.5
             },
             "pattern": {
              "fillmode": "overlay",
              "size": 10,
              "solidity": 0.2
             }
            },
            "type": "barpolar"
           }
          ],
          "carpet": [
           {
            "aaxis": {
             "endlinecolor": "#2a3f5f",
             "gridcolor": "#C8D4E3",
             "linecolor": "#C8D4E3",
             "minorgridcolor": "#C8D4E3",
             "startlinecolor": "#2a3f5f"
            },
            "baxis": {
             "endlinecolor": "#2a3f5f",
             "gridcolor": "#C8D4E3",
             "linecolor": "#C8D4E3",
             "minorgridcolor": "#C8D4E3",
             "startlinecolor": "#2a3f5f"
            },
            "type": "carpet"
           }
          ],
          "choropleth": [
           {
            "colorbar": {
             "outlinewidth": 0,
             "ticks": ""
            },
            "type": "choropleth"
           }
          ],
          "contour": [
           {
            "colorbar": {
             "outlinewidth": 0,
             "ticks": ""
            },
            "colorscale": [
             [
              0,
              "#0d0887"
             ],
             [
              0.1111111111111111,
              "#46039f"
             ],
             [
              0.2222222222222222,
              "#7201a8"
             ],
             [
              0.3333333333333333,
              "#9c179e"
             ],
             [
              0.4444444444444444,
              "#bd3786"
             ],
             [
              0.5555555555555556,
              "#d8576b"
             ],
             [
              0.6666666666666666,
              "#ed7953"
             ],
             [
              0.7777777777777778,
              "#fb9f3a"
             ],
             [
              0.8888888888888888,
              "#fdca26"
             ],
             [
              1,
              "#f0f921"
             ]
            ],
            "type": "contour"
           }
          ],
          "contourcarpet": [
           {
            "colorbar": {
             "outlinewidth": 0,
             "ticks": ""
            },
            "type": "contourcarpet"
           }
          ],
          "heatmap": [
           {
            "colorbar": {
             "outlinewidth": 0,
             "ticks": ""
            },
            "colorscale": [
             [
              0,
              "#0d0887"
             ],
             [
              0.1111111111111111,
              "#46039f"
             ],
             [
              0.2222222222222222,
              "#7201a8"
             ],
             [
              0.3333333333333333,
              "#9c179e"
             ],
             [
              0.4444444444444444,
              "#bd3786"
             ],
             [
              0.5555555555555556,
              "#d8576b"
             ],
             [
              0.6666666666666666,
              "#ed7953"
             ],
             [
              0.7777777777777778,
              "#fb9f3a"
             ],
             [
              0.8888888888888888,
              "#fdca26"
             ],
             [
              1,
              "#f0f921"
             ]
            ],
            "type": "heatmap"
           }
          ],
          "heatmapgl": [
           {
            "colorbar": {
             "outlinewidth": 0,
             "ticks": ""
            },
            "colorscale": [
             [
              0,
              "#0d0887"
             ],
             [
              0.1111111111111111,
              "#46039f"
             ],
             [
              0.2222222222222222,
              "#7201a8"
             ],
             [
              0.3333333333333333,
              "#9c179e"
             ],
             [
              0.4444444444444444,
              "#bd3786"
             ],
             [
              0.5555555555555556,
              "#d8576b"
             ],
             [
              0.6666666666666666,
              "#ed7953"
             ],
             [
              0.7777777777777778,
              "#fb9f3a"
             ],
             [
              0.8888888888888888,
              "#fdca26"
             ],
             [
              1,
              "#f0f921"
             ]
            ],
            "type": "heatmapgl"
           }
          ],
          "histogram": [
           {
            "marker": {
             "pattern": {
              "fillmode": "overlay",
              "size": 10,
              "solidity": 0.2
             }
            },
            "type": "histogram"
           }
          ],
          "histogram2d": [
           {
            "colorbar": {
             "outlinewidth": 0,
             "ticks": ""
            },
            "colorscale": [
             [
              0,
              "#0d0887"
             ],
             [
              0.1111111111111111,
              "#46039f"
             ],
             [
              0.2222222222222222,
              "#7201a8"
             ],
             [
              0.3333333333333333,
              "#9c179e"
             ],
             [
              0.4444444444444444,
              "#bd3786"
             ],
             [
              0.5555555555555556,
              "#d8576b"
             ],
             [
              0.6666666666666666,
              "#ed7953"
             ],
             [
              0.7777777777777778,
              "#fb9f3a"
             ],
             [
              0.8888888888888888,
              "#fdca26"
             ],
             [
              1,
              "#f0f921"
             ]
            ],
            "type": "histogram2d"
           }
          ],
          "histogram2dcontour": [
           {
            "colorbar": {
             "outlinewidth": 0,
             "ticks": ""
            },
            "colorscale": [
             [
              0,
              "#0d0887"
             ],
             [
              0.1111111111111111,
              "#46039f"
             ],
             [
              0.2222222222222222,
              "#7201a8"
             ],
             [
              0.3333333333333333,
              "#9c179e"
             ],
             [
              0.4444444444444444,
              "#bd3786"
             ],
             [
              0.5555555555555556,
              "#d8576b"
             ],
             [
              0.6666666666666666,
              "#ed7953"
             ],
             [
              0.7777777777777778,
              "#fb9f3a"
             ],
             [
              0.8888888888888888,
              "#fdca26"
             ],
             [
              1,
              "#f0f921"
             ]
            ],
            "type": "histogram2dcontour"
           }
          ],
          "mesh3d": [
           {
            "colorbar": {
             "outlinewidth": 0,
             "ticks": ""
            },
            "type": "mesh3d"
           }
          ],
          "parcoords": [
           {
            "line": {
             "colorbar": {
              "outlinewidth": 0,
              "ticks": ""
             }
            },
            "type": "parcoords"
           }
          ],
          "pie": [
           {
            "automargin": true,
            "type": "pie"
           }
          ],
          "scatter": [
           {
            "fillpattern": {
             "fillmode": "overlay",
             "size": 10,
             "solidity": 0.2
            },
            "type": "scatter"
           }
          ],
          "scatter3d": [
           {
            "line": {
             "colorbar": {
              "outlinewidth": 0,
              "ticks": ""
             }
            },
            "marker": {
             "colorbar": {
              "outlinewidth": 0,
              "ticks": ""
             }
            },
            "type": "scatter3d"
           }
          ],
          "scattercarpet": [
           {
            "marker": {
             "colorbar": {
              "outlinewidth": 0,
              "ticks": ""
             }
            },
            "type": "scattercarpet"
           }
          ],
          "scattergeo": [
           {
            "marker": {
             "colorbar": {
              "outlinewidth": 0,
              "ticks": ""
             }
            },
            "type": "scattergeo"
           }
          ],
          "scattergl": [
           {
            "marker": {
             "colorbar": {
              "outlinewidth": 0,
              "ticks": ""
             }
            },
            "type": "scattergl"
           }
          ],
          "scattermapbox": [
           {
            "marker": {
             "colorbar": {
              "outlinewidth": 0,
              "ticks": ""
             }
            },
            "type": "scattermapbox"
           }
          ],
          "scatterpolar": [
           {
            "marker": {
             "colorbar": {
              "outlinewidth": 0,
              "ticks": ""
             }
            },
            "type": "scatterpolar"
           }
          ],
          "scatterpolargl": [
           {
            "marker": {
             "colorbar": {
              "outlinewidth": 0,
              "ticks": ""
             }
            },
            "type": "scatterpolargl"
           }
          ],
          "scatterternary": [
           {
            "marker": {
             "colorbar": {
              "outlinewidth": 0,
              "ticks": ""
             }
            },
            "type": "scatterternary"
           }
          ],
          "surface": [
           {
            "colorbar": {
             "outlinewidth": 0,
             "ticks": ""
            },
            "colorscale": [
             [
              0,
              "#0d0887"
             ],
             [
              0.1111111111111111,
              "#46039f"
             ],
             [
              0.2222222222222222,
              "#7201a8"
             ],
             [
              0.3333333333333333,
              "#9c179e"
             ],
             [
              0.4444444444444444,
              "#bd3786"
             ],
             [
              0.5555555555555556,
              "#d8576b"
             ],
             [
              0.6666666666666666,
              "#ed7953"
             ],
             [
              0.7777777777777778,
              "#fb9f3a"
             ],
             [
              0.8888888888888888,
              "#fdca26"
             ],
             [
              1,
              "#f0f921"
             ]
            ],
            "type": "surface"
           }
          ],
          "table": [
           {
            "cells": {
             "fill": {
              "color": "#EBF0F8"
             },
             "line": {
              "color": "white"
             }
            },
            "header": {
             "fill": {
              "color": "#C8D4E3"
             },
             "line": {
              "color": "white"
             }
            },
            "type": "table"
           }
          ]
         },
         "layout": {
          "annotationdefaults": {
           "arrowcolor": "#2a3f5f",
           "arrowhead": 0,
           "arrowwidth": 1
          },
          "autotypenumbers": "strict",
          "coloraxis": {
           "colorbar": {
            "outlinewidth": 0,
            "ticks": ""
           }
          },
          "colorscale": {
           "diverging": [
            [
             0,
             "#8e0152"
            ],
            [
             0.1,
             "#c51b7d"
            ],
            [
             0.2,
             "#de77ae"
            ],
            [
             0.3,
             "#f1b6da"
            ],
            [
             0.4,
             "#fde0ef"
            ],
            [
             0.5,
             "#f7f7f7"
            ],
            [
             0.6,
             "#e6f5d0"
            ],
            [
             0.7,
             "#b8e186"
            ],
            [
             0.8,
             "#7fbc41"
            ],
            [
             0.9,
             "#4d9221"
            ],
            [
             1,
             "#276419"
            ]
           ],
           "sequential": [
            [
             0,
             "#0d0887"
            ],
            [
             0.1111111111111111,
             "#46039f"
            ],
            [
             0.2222222222222222,
             "#7201a8"
            ],
            [
             0.3333333333333333,
             "#9c179e"
            ],
            [
             0.4444444444444444,
             "#bd3786"
            ],
            [
             0.5555555555555556,
             "#d8576b"
            ],
            [
             0.6666666666666666,
             "#ed7953"
            ],
            [
             0.7777777777777778,
             "#fb9f3a"
            ],
            [
             0.8888888888888888,
             "#fdca26"
            ],
            [
             1,
             "#f0f921"
            ]
           ],
           "sequentialminus": [
            [
             0,
             "#0d0887"
            ],
            [
             0.1111111111111111,
             "#46039f"
            ],
            [
             0.2222222222222222,
             "#7201a8"
            ],
            [
             0.3333333333333333,
             "#9c179e"
            ],
            [
             0.4444444444444444,
             "#bd3786"
            ],
            [
             0.5555555555555556,
             "#d8576b"
            ],
            [
             0.6666666666666666,
             "#ed7953"
            ],
            [
             0.7777777777777778,
             "#fb9f3a"
            ],
            [
             0.8888888888888888,
             "#fdca26"
            ],
            [
             1,
             "#f0f921"
            ]
           ]
          },
          "colorway": [
           "#636efa",
           "#EF553B",
           "#00cc96",
           "#ab63fa",
           "#FFA15A",
           "#19d3f3",
           "#FF6692",
           "#B6E880",
           "#FF97FF",
           "#FECB52"
          ],
          "font": {
           "color": "#2a3f5f"
          },
          "geo": {
           "bgcolor": "white",
           "lakecolor": "white",
           "landcolor": "white",
           "showlakes": true,
           "showland": true,
           "subunitcolor": "#C8D4E3"
          },
          "hoverlabel": {
           "align": "left"
          },
          "hovermode": "closest",
          "mapbox": {
           "style": "light"
          },
          "paper_bgcolor": "white",
          "plot_bgcolor": "white",
          "polar": {
           "angularaxis": {
            "gridcolor": "#EBF0F8",
            "linecolor": "#EBF0F8",
            "ticks": ""
           },
           "bgcolor": "white",
           "radialaxis": {
            "gridcolor": "#EBF0F8",
            "linecolor": "#EBF0F8",
            "ticks": ""
           }
          },
          "scene": {
           "xaxis": {
            "backgroundcolor": "white",
            "gridcolor": "#DFE8F3",
            "gridwidth": 2,
            "linecolor": "#EBF0F8",
            "showbackground": true,
            "ticks": "",
            "zerolinecolor": "#EBF0F8"
           },
           "yaxis": {
            "backgroundcolor": "white",
            "gridcolor": "#DFE8F3",
            "gridwidth": 2,
            "linecolor": "#EBF0F8",
            "showbackground": true,
            "ticks": "",
            "zerolinecolor": "#EBF0F8"
           },
           "zaxis": {
            "backgroundcolor": "white",
            "gridcolor": "#DFE8F3",
            "gridwidth": 2,
            "linecolor": "#EBF0F8",
            "showbackground": true,
            "ticks": "",
            "zerolinecolor": "#EBF0F8"
           }
          },
          "shapedefaults": {
           "line": {
            "color": "#2a3f5f"
           }
          },
          "ternary": {
           "aaxis": {
            "gridcolor": "#DFE8F3",
            "linecolor": "#A2B1C6",
            "ticks": ""
           },
           "baxis": {
            "gridcolor": "#DFE8F3",
            "linecolor": "#A2B1C6",
            "ticks": ""
           },
           "bgcolor": "white",
           "caxis": {
            "gridcolor": "#DFE8F3",
            "linecolor": "#A2B1C6",
            "ticks": ""
           }
          },
          "title": {
           "x": 0.05
          },
          "xaxis": {
           "automargin": true,
           "gridcolor": "#EBF0F8",
           "linecolor": "#EBF0F8",
           "ticks": "",
           "title": {
            "standoff": 15
           },
           "zerolinecolor": "#EBF0F8",
           "zerolinewidth": 2
          },
          "yaxis": {
           "automargin": true,
           "gridcolor": "#EBF0F8",
           "linecolor": "#EBF0F8",
           "ticks": "",
           "title": {
            "standoff": 15
           },
           "zerolinecolor": "#EBF0F8",
           "zerolinewidth": 2
          }
         }
        },
        "title": {
         "text": "Méthode de la silhouette pour KMeans"
        },
        "xaxis": {
         "title": {
          "text": "Nombre de clusters"
         }
        },
        "yaxis": {
         "title": {
          "text": "Indice de silhouette moyen"
         }
        }
       }
      }
     },
     "metadata": {},
     "output_type": "display_data"
    },
    {
     "data": {
      "text/plain": [
       "3"
      ]
     },
     "execution_count": 31,
     "metadata": {},
     "output_type": "execute_result"
    }
   ],
   "source": [
    "# Standardisation des données\n",
    "scaler = StandardScaler()\n",
    "df_standardise = scaler.fit_transform(df_numeric)\n",
    "\n",
    "# Liste pour stocker les scores de silhouette\n",
    "silhouette_scores = []\n",
    "\n",
    "# Tester de 2 à 10 clusters\n",
    "for n_clusters in range(2, 11):\n",
    "    kmeans = KMeans(n_clusters=n_clusters, random_state=42)\n",
    "    kmeans.fit(df_standardise)  # ou df_numeric\n",
    "    score = silhouette_score(df_standardise, kmeans.labels_)\n",
    "    silhouette_scores.append(score)\n",
    "\n",
    "# Affichage des scores de silhouette\n",
    "fig = go.Figure()\n",
    "\n",
    "fig.add_trace(go.Scatter(\n",
    "    x=list(range(2, 11)),\n",
    "    y=silhouette_scores,\n",
    "    mode='lines+markers',\n",
    "    name='Silhouette Score',\n",
    "    line=dict(color='blue'),\n",
    "    marker=dict(size=8)\n",
    "))\n",
    "\n",
    "fig.update_layout(\n",
    "    title='Méthode de la silhouette pour KMeans',\n",
    "    xaxis_title='Nombre de clusters',\n",
    "    yaxis_title='Indice de silhouette moyen',\n",
    "    template='plotly_white'\n",
    ")\n",
    "\n",
    "fig.show()\n",
    "\n",
    "#choix du nombre de cluster \n",
    "max_silhouette_score = max(silhouette_scores)\n",
    "n_clusters = silhouette_scores.index(max_silhouette_score) + 2\n",
    "\n",
    "n_clusters \n"
   ]
  },
  {
   "cell_type": "markdown",
   "metadata": {},
   "source": [
    "## Clustering"
   ]
  },
  {
   "cell_type": "code",
   "execution_count": 32,
   "metadata": {},
   "outputs": [
    {
     "data": {
      "application/vnd.plotly.v1+json": {
       "config": {
        "plotlyServerURL": "https://plot.ly"
       },
       "data": [
        {
         "hovertemplate": "<b>%{hovertext}</b><br><br>cluster=2<br>PC1=%{x}<br>PC2=%{y}<extra></extra>",
         "hovertext": [
          "Finland",
          "Denmark",
          "Switzerland",
          "Iceland",
          "Norway",
          "Netherlands",
          "Sweden",
          "New Zealand",
          "Austria",
          "Luxembourg",
          "Canada",
          "Australia",
          "United Kingdom",
          "Ireland",
          "Germany",
          "United States",
          "United Arab Emirates",
          "Malta",
          "Singapore",
          "Uzbekistan",
          "Hong Kong S.A.R. of China"
         ],
         "legendgroup": "2",
         "marker": {
          "color": "#3366CC",
          "symbol": "circle"
         },
         "mode": "markers",
         "name": "2",
         "orientation": "v",
         "showlegend": true,
         "type": "scatter",
         "x": [
          3.749509422437874,
          3.839590212143542,
          3.663110872252431,
          3.108673654268542,
          3.8156549683605467,
          3.3163443412095464,
          3.4689160192437076,
          3.5196237810946647,
          2.9836471863888905,
          3.321343197549372,
          3.2408749679188524,
          3.233580614504789,
          2.7992458547429333,
          3.246972052878093,
          2.7012466329713303,
          2.1036425432183328,
          2.237158664553594,
          2.5059533130170375,
          3.6699333329682315,
          1.5307254449433247,
          2.0348480404960125
         ],
         "xaxis": "x",
         "y": [
          1.0713333420488669,
          1.71990572976722,
          1.399595428680102,
          1.0644544227762698,
          1.7344215042110327,
          1.7680963003291623,
          1.725595739239298,
          2.180446489585741,
          0.7977081027179347,
          0.6546438422399308,
          1.379777160511814,
          1.543695370865886,
          1.67359051402664,
          1.3576274154204728,
          0.8640041854926771,
          0.5003309120536743,
          1.0469302989480371,
          1.1180774686471535,
          1.4850539691139062,
          2.355048808006775,
          0.9091344019916121
         ],
         "yaxis": "y"
        },
        {
         "hovertemplate": "<b>%{hovertext}</b><br><br>cluster=0<br>PC1=%{x}<br>PC2=%{y}<extra></extra>",
         "hovertext": [
          "Israel",
          "Costa Rica",
          "Czech Republic",
          "Belgium",
          "France",
          "Mexico",
          "Taiwan Province of China",
          "Uruguay",
          "Saudi Arabia",
          "Spain",
          "Guatemala",
          "Italy",
          "Brazil",
          "Slovenia",
          "El Salvador",
          "Kosovo",
          "Panama",
          "Slovakia",
          "Chile",
          "Bahrain",
          "Lithuania",
          "Trinidad and Tobago",
          "Poland",
          "Colombia",
          "Cyprus",
          "Nicaragua",
          "Romania",
          "Kuwait",
          "Mauritius",
          "Kazakhstan",
          "Estonia",
          "Philippines",
          "Hungary",
          "Thailand",
          "Argentina",
          "Honduras",
          "Latvia",
          "Ecuador",
          "Portugal",
          "Jamaica",
          "South Korea",
          "Japan",
          "Peru",
          "Serbia",
          "Bolivia",
          "Paraguay",
          "Dominican Republic",
          "Bosnia and Herzegovina",
          "Moldova",
          "Tajikistan",
          "Montenegro",
          "Russia",
          "Kyrgyzstan",
          "Belarus",
          "North Cyprus",
          "Greece",
          "Croatia",
          "Libya",
          "Mongolia",
          "Malaysia",
          "Vietnam",
          "Maldives",
          "Azerbaijan",
          "Macedonia",
          "Turkey",
          "China",
          "Turkmenistan",
          "Bulgaria",
          "Venezuela",
          "Algeria",
          "Albania",
          "Gabon",
          "South Africa",
          "Lebanon",
          "Armenia",
          "Jordan",
          "Namibia",
          "Ukraine",
          "Sri Lanka",
          "Botswana"
         ],
         "legendgroup": "0",
         "marker": {
          "color": "#DC3912",
          "symbol": "circle"
         },
         "mode": "markers",
         "name": "0",
         "orientation": "v",
         "showlegend": true,
         "type": "scatter",
         "x": [
          1.8978893613076424,
          1.9423916926827425,
          1.6339861074610371,
          2.2077059895183573,
          2.364889509954152,
          1.0385228099549815,
          1.561905161815255,
          1.7955317378963491,
          1.561776881308639,
          1.7221834207127154,
          0.5819563166428612,
          1.1489155206932151,
          0.9015030233017137,
          1.9890240475085177,
          0.4127038476482683,
          0.31387508309375517,
          1.372568218948886,
          1.037272891240616,
          0.9206678524784955,
          1.7114469913207857,
          1.0536443354338263,
          0.9402971914867928,
          1.4721454188701841,
          0.7781250459632646,
          1.1063539050007678,
          0.6857097379865712,
          0.6557914391946846,
          1.4250972995170048,
          1.2028526486468638,
          1.041465002189482,
          1.7602660014305502,
          0.4503444780404644,
          0.7324632356840678,
          1.0380187081131802,
          0.957468630310369,
          0.26731675171079994,
          0.6254583355399467,
          0.6303121449068485,
          1.3697693303182308,
          0.5857242895319117,
          0.5943506847127074,
          1.7454374091454445,
          0.36616488355944526,
          0.43563904207021503,
          -0.004581867839468401,
          0.6784847270036867,
          0.7655319852001368,
          -0.2263812178166673,
          -0.428881289082515,
          -0.02499829839109971,
          0.1556698565694833,
          0.2863132657625845,
          0.023945418301337916,
          0.36562696929580524,
          1.2743452793501608,
          -0.08012645625979196,
          0.42048322384020187,
          0.16960223131593175,
          -0.07319369926117543,
          0.7154748300047876,
          0.4855437524039514,
          0.818130740793685,
          0.3606099456276269,
          -0.18525205165670056,
          -0.1659976041252979,
          0.5501582701120585,
          0.3583858495956411,
          0.24171319783014245,
          -0.5171368876864628,
          -0.9734839723526051,
          -0.671516715047217,
          -0.9391120106675012,
          -0.836107801231833,
          -0.9743723992657102,
          -0.7321358497812592,
          -0.3976205363494144,
          -1.0354300550553184,
          -0.8559641898873868,
          -0.21769976007668213,
          -1.1349332582592937
         ],
         "xaxis": "x",
         "y": [
          -0.24874625065736647,
          -0.5080247481151022,
          -1.791259163766761,
          -0.4909778126687551,
          -0.6982110924043337,
          -0.9898039961647984,
          -0.8457591352302058,
          -0.24967348139571463,
          -0.8258310846686016,
          -0.9890585807633624,
          0.1371241096938358,
          -1.4326861039634542,
          -0.7161548507564074,
          -0.6747038951298979,
          -0.3896428507449288,
          0.7192075610663178,
          -1.1234311483402037,
          -1.6145852201553585,
          -1.0242749661487074,
          0.5992207686718757,
          -1.7548029147187716,
          -0.5231831389022648,
          -0.9662391850369304,
          -1.1511427131780128,
          -0.48131865117997485,
          0.5838731682944526,
          -1.501024616037072,
          -0.674236524555849,
          -0.2378878095915972,
          -0.6218696752947369,
          -0.3907414231129299,
          -0.002684298448735167,
          -1.9251795926024282,
          1.0280473278794355,
          -1.3771776568832836,
          0.6326381338022031,
          -1.7246180375928866,
          -0.63930874268874,
          -1.6182765523200486,
          -0.9258103728865191,
          -1.2119889944797015,
          -1.4413530604935991,
          -1.1844632312108998,
          -1.0301244764746618,
          -0.23661601335060684,
          -0.06127090795134585,
          -0.6052453826369191,
          -0.5263186128073454,
          -0.7569673483298369,
          0.6693768730244194,
          -1.0766294224327075,
          -1.4723414059632718,
          0.8530919318376612,
          -1.1696552190201828,
          -0.04541853036112098,
          -2.786707247192126,
          -1.6365770408731348,
          -0.26261336158144605,
          -0.25069800193309044,
          0.4075069191321778,
          -0.16763718572271508,
          -0.14645887635002466,
          -0.7056486476873619,
          -0.7343920433116459,
          -1.5460591180450172,
          -0.7014024876851028,
          0.4196308572797166,
          -1.6601596118734134,
          -1.6212911658267741,
          -1.5143900227761078,
          -0.483228895449074,
          -1.4735298720493264,
          -0.7331773297815574,
          -1.4630785368621348,
          -0.8560954457911252,
          -0.7190775597471012,
          -1.0513379408980081,
          -1.0071519681908037,
          0.16594201927461447,
          -1.0522030864179424
         ],
         "yaxis": "y"
        },
        {
         "hovertemplate": "<b>%{hovertext}</b><br><br>cluster=1<br>PC1=%{x}<br>PC2=%{y}<extra></extra>",
         "hovertext": [
          "Pakistan",
          "Indonesia",
          "Ivory Coast",
          "Benin",
          "Congo (Brazzaville)",
          "Ghana",
          "Nepal",
          "Morocco",
          "Cameroon",
          "Senegal",
          "Guinea",
          "Niger",
          "Laos",
          "Cambodia",
          "Bangladesh",
          "Iraq",
          "Burkina Faso",
          "Gambia",
          "Mali",
          "Nigeria",
          "Georgia",
          "Iran",
          "Mozambique",
          "Kenya",
          "Liberia",
          "Palestinian Territories",
          "Uganda",
          "Chad",
          "Tunisia",
          "Mauritania",
          "Congo (Kinshasa)",
          "Swaziland",
          "Myanmar",
          "Comoros",
          "Togo",
          "Ethiopia",
          "Madagascar",
          "Egypt",
          "Sierra Leone",
          "Burundi",
          "Zambia",
          "Haiti",
          "Lesotho",
          "India",
          "Malawi",
          "Yemen",
          "Tanzania",
          "Central African Republic",
          "Rwanda",
          "Zimbabwe",
          "South Sudan",
          "Afghanistan"
         ],
         "legendgroup": "1",
         "marker": {
          "color": "#FF9900",
          "symbol": "circle"
         },
         "mode": "markers",
         "name": "1",
         "orientation": "v",
         "showlegend": true,
         "type": "scatter",
         "x": [
          -1.189250762020947,
          -0.05877694237145192,
          -2.252824001902734,
          -2.736632871759514,
          -1.6589938171545655,
          -1.3598201552110285,
          -0.7180148402532838,
          -1.1704456948939737,
          -1.9776916804811586,
          -1.6531594314120335,
          -2.302298997556743,
          -2.595174770912949,
          -0.5260558575732055,
          -0.5773864501850456,
          -0.6369670803330341,
          -1.2378940997999017,
          -2.355653390013726,
          -2.0825458474365455,
          -2.401238224156035,
          -2.02494312143626,
          -0.888921721197074,
          -0.7908318694915368,
          -1.835861207932215,
          -1.462056530515092,
          -2.4299450796633106,
          -1.368426916257076,
          -2.110279751334411,
          -3.466246219920182,
          -1.5054129300336123,
          -2.1093138504261932,
          -3.029984549374213,
          -1.9175473424074716,
          -0.597391116600837,
          -2.89344443342785,
          -3.235328292322437,
          -1.9607942976999584,
          -2.931748508389121,
          -1.3097211757639915,
          -3.267215176914018,
          -3.885944974287503,
          -2.116005444339117,
          -3.3484042867853376,
          -2.7567116312628404,
          -1.7686040844746242,
          -2.972265302680821,
          -2.511093521083143,
          -1.9084243687908018,
          -5.4596157258822355,
          -1.5518627793326065,
          -2.509353560685861,
          -4.594778939545712,
          -5.313317529242742
         ],
         "xaxis": "x",
         "y": [
          0.6044698915098309,
          2.490652384795435,
          0.33743417882143767,
          0.9853194337331221,
          -0.19714044205858128,
          0.7227147099152922,
          1.1475394802619991,
          -0.968656269011134,
          0.35409875344338615,
          -0.18991630870363338,
          0.9379821931408491,
          1.1181405061798733,
          1.580342970716247,
          0.9080449844347045,
          0.8218766217808524,
          -0.8052406198976826,
          0.35820643293770194,
          2.4736655159221796,
          0.09080811597914919,
          0.4095682423931584,
          -0.49853512549569523,
          0.349839967632847,
          1.3871874757691012,
          1.8700479020099683,
          0.5689615266054431,
          -1.1725893616699712,
          0.7257576979662599,
          0.4043683298721774,
          -1.7638185408358709,
          -0.7536364050626879,
          0.9989179127212008,
          -0.8211179984060436,
          3.628886865136137,
          0.42405856582615326,
          0.6316289202697386,
          0.6696755875400124,
          -0.1509738390748473,
          -1.0721335715552887,
          0.9259714317118277,
          1.1638497132076249,
          0.920014502322463,
          2.3298522858267683,
          -0.4249760216310803,
          1.0601640677939705,
          1.2351232228921978,
          -0.9629822063348514,
          1.6205397728781763,
          1.36477295797038,
          2.997132633047241,
          -0.15487879630666188,
          0.17601152995117256,
          -0.9025285178409923
         ],
         "yaxis": "y"
        }
       ],
       "layout": {
        "legend": {
         "title": {
          "text": "cluster"
         },
         "tracegroupgap": 0
        },
        "margin": {
         "t": 60
        },
        "showlegend": false,
        "template": {
         "data": {
          "bar": [
           {
            "error_x": {
             "color": "#2a3f5f"
            },
            "error_y": {
             "color": "#2a3f5f"
            },
            "marker": {
             "line": {
              "color": "white",
              "width": 0.5
             },
             "pattern": {
              "fillmode": "overlay",
              "size": 10,
              "solidity": 0.2
             }
            },
            "type": "bar"
           }
          ],
          "barpolar": [
           {
            "marker": {
             "line": {
              "color": "white",
              "width": 0.5
             },
             "pattern": {
              "fillmode": "overlay",
              "size": 10,
              "solidity": 0.2
             }
            },
            "type": "barpolar"
           }
          ],
          "carpet": [
           {
            "aaxis": {
             "endlinecolor": "#2a3f5f",
             "gridcolor": "#C8D4E3",
             "linecolor": "#C8D4E3",
             "minorgridcolor": "#C8D4E3",
             "startlinecolor": "#2a3f5f"
            },
            "baxis": {
             "endlinecolor": "#2a3f5f",
             "gridcolor": "#C8D4E3",
             "linecolor": "#C8D4E3",
             "minorgridcolor": "#C8D4E3",
             "startlinecolor": "#2a3f5f"
            },
            "type": "carpet"
           }
          ],
          "choropleth": [
           {
            "colorbar": {
             "outlinewidth": 0,
             "ticks": ""
            },
            "type": "choropleth"
           }
          ],
          "contour": [
           {
            "colorbar": {
             "outlinewidth": 0,
             "ticks": ""
            },
            "colorscale": [
             [
              0,
              "#0d0887"
             ],
             [
              0.1111111111111111,
              "#46039f"
             ],
             [
              0.2222222222222222,
              "#7201a8"
             ],
             [
              0.3333333333333333,
              "#9c179e"
             ],
             [
              0.4444444444444444,
              "#bd3786"
             ],
             [
              0.5555555555555556,
              "#d8576b"
             ],
             [
              0.6666666666666666,
              "#ed7953"
             ],
             [
              0.7777777777777778,
              "#fb9f3a"
             ],
             [
              0.8888888888888888,
              "#fdca26"
             ],
             [
              1,
              "#f0f921"
             ]
            ],
            "type": "contour"
           }
          ],
          "contourcarpet": [
           {
            "colorbar": {
             "outlinewidth": 0,
             "ticks": ""
            },
            "type": "contourcarpet"
           }
          ],
          "heatmap": [
           {
            "colorbar": {
             "outlinewidth": 0,
             "ticks": ""
            },
            "colorscale": [
             [
              0,
              "#0d0887"
             ],
             [
              0.1111111111111111,
              "#46039f"
             ],
             [
              0.2222222222222222,
              "#7201a8"
             ],
             [
              0.3333333333333333,
              "#9c179e"
             ],
             [
              0.4444444444444444,
              "#bd3786"
             ],
             [
              0.5555555555555556,
              "#d8576b"
             ],
             [
              0.6666666666666666,
              "#ed7953"
             ],
             [
              0.7777777777777778,
              "#fb9f3a"
             ],
             [
              0.8888888888888888,
              "#fdca26"
             ],
             [
              1,
              "#f0f921"
             ]
            ],
            "type": "heatmap"
           }
          ],
          "heatmapgl": [
           {
            "colorbar": {
             "outlinewidth": 0,
             "ticks": ""
            },
            "colorscale": [
             [
              0,
              "#0d0887"
             ],
             [
              0.1111111111111111,
              "#46039f"
             ],
             [
              0.2222222222222222,
              "#7201a8"
             ],
             [
              0.3333333333333333,
              "#9c179e"
             ],
             [
              0.4444444444444444,
              "#bd3786"
             ],
             [
              0.5555555555555556,
              "#d8576b"
             ],
             [
              0.6666666666666666,
              "#ed7953"
             ],
             [
              0.7777777777777778,
              "#fb9f3a"
             ],
             [
              0.8888888888888888,
              "#fdca26"
             ],
             [
              1,
              "#f0f921"
             ]
            ],
            "type": "heatmapgl"
           }
          ],
          "histogram": [
           {
            "marker": {
             "pattern": {
              "fillmode": "overlay",
              "size": 10,
              "solidity": 0.2
             }
            },
            "type": "histogram"
           }
          ],
          "histogram2d": [
           {
            "colorbar": {
             "outlinewidth": 0,
             "ticks": ""
            },
            "colorscale": [
             [
              0,
              "#0d0887"
             ],
             [
              0.1111111111111111,
              "#46039f"
             ],
             [
              0.2222222222222222,
              "#7201a8"
             ],
             [
              0.3333333333333333,
              "#9c179e"
             ],
             [
              0.4444444444444444,
              "#bd3786"
             ],
             [
              0.5555555555555556,
              "#d8576b"
             ],
             [
              0.6666666666666666,
              "#ed7953"
             ],
             [
              0.7777777777777778,
              "#fb9f3a"
             ],
             [
              0.8888888888888888,
              "#fdca26"
             ],
             [
              1,
              "#f0f921"
             ]
            ],
            "type": "histogram2d"
           }
          ],
          "histogram2dcontour": [
           {
            "colorbar": {
             "outlinewidth": 0,
             "ticks": ""
            },
            "colorscale": [
             [
              0,
              "#0d0887"
             ],
             [
              0.1111111111111111,
              "#46039f"
             ],
             [
              0.2222222222222222,
              "#7201a8"
             ],
             [
              0.3333333333333333,
              "#9c179e"
             ],
             [
              0.4444444444444444,
              "#bd3786"
             ],
             [
              0.5555555555555556,
              "#d8576b"
             ],
             [
              0.6666666666666666,
              "#ed7953"
             ],
             [
              0.7777777777777778,
              "#fb9f3a"
             ],
             [
              0.8888888888888888,
              "#fdca26"
             ],
             [
              1,
              "#f0f921"
             ]
            ],
            "type": "histogram2dcontour"
           }
          ],
          "mesh3d": [
           {
            "colorbar": {
             "outlinewidth": 0,
             "ticks": ""
            },
            "type": "mesh3d"
           }
          ],
          "parcoords": [
           {
            "line": {
             "colorbar": {
              "outlinewidth": 0,
              "ticks": ""
             }
            },
            "type": "parcoords"
           }
          ],
          "pie": [
           {
            "automargin": true,
            "type": "pie"
           }
          ],
          "scatter": [
           {
            "fillpattern": {
             "fillmode": "overlay",
             "size": 10,
             "solidity": 0.2
            },
            "type": "scatter"
           }
          ],
          "scatter3d": [
           {
            "line": {
             "colorbar": {
              "outlinewidth": 0,
              "ticks": ""
             }
            },
            "marker": {
             "colorbar": {
              "outlinewidth": 0,
              "ticks": ""
             }
            },
            "type": "scatter3d"
           }
          ],
          "scattercarpet": [
           {
            "marker": {
             "colorbar": {
              "outlinewidth": 0,
              "ticks": ""
             }
            },
            "type": "scattercarpet"
           }
          ],
          "scattergeo": [
           {
            "marker": {
             "colorbar": {
              "outlinewidth": 0,
              "ticks": ""
             }
            },
            "type": "scattergeo"
           }
          ],
          "scattergl": [
           {
            "marker": {
             "colorbar": {
              "outlinewidth": 0,
              "ticks": ""
             }
            },
            "type": "scattergl"
           }
          ],
          "scattermapbox": [
           {
            "marker": {
             "colorbar": {
              "outlinewidth": 0,
              "ticks": ""
             }
            },
            "type": "scattermapbox"
           }
          ],
          "scatterpolar": [
           {
            "marker": {
             "colorbar": {
              "outlinewidth": 0,
              "ticks": ""
             }
            },
            "type": "scatterpolar"
           }
          ],
          "scatterpolargl": [
           {
            "marker": {
             "colorbar": {
              "outlinewidth": 0,
              "ticks": ""
             }
            },
            "type": "scatterpolargl"
           }
          ],
          "scatterternary": [
           {
            "marker": {
             "colorbar": {
              "outlinewidth": 0,
              "ticks": ""
             }
            },
            "type": "scatterternary"
           }
          ],
          "surface": [
           {
            "colorbar": {
             "outlinewidth": 0,
             "ticks": ""
            },
            "colorscale": [
             [
              0,
              "#0d0887"
             ],
             [
              0.1111111111111111,
              "#46039f"
             ],
             [
              0.2222222222222222,
              "#7201a8"
             ],
             [
              0.3333333333333333,
              "#9c179e"
             ],
             [
              0.4444444444444444,
              "#bd3786"
             ],
             [
              0.5555555555555556,
              "#d8576b"
             ],
             [
              0.6666666666666666,
              "#ed7953"
             ],
             [
              0.7777777777777778,
              "#fb9f3a"
             ],
             [
              0.8888888888888888,
              "#fdca26"
             ],
             [
              1,
              "#f0f921"
             ]
            ],
            "type": "surface"
           }
          ],
          "table": [
           {
            "cells": {
             "fill": {
              "color": "#EBF0F8"
             },
             "line": {
              "color": "white"
             }
            },
            "header": {
             "fill": {
              "color": "#C8D4E3"
             },
             "line": {
              "color": "white"
             }
            },
            "type": "table"
           }
          ]
         },
         "layout": {
          "annotationdefaults": {
           "arrowcolor": "#2a3f5f",
           "arrowhead": 0,
           "arrowwidth": 1
          },
          "autotypenumbers": "strict",
          "coloraxis": {
           "colorbar": {
            "outlinewidth": 0,
            "ticks": ""
           }
          },
          "colorscale": {
           "diverging": [
            [
             0,
             "#8e0152"
            ],
            [
             0.1,
             "#c51b7d"
            ],
            [
             0.2,
             "#de77ae"
            ],
            [
             0.3,
             "#f1b6da"
            ],
            [
             0.4,
             "#fde0ef"
            ],
            [
             0.5,
             "#f7f7f7"
            ],
            [
             0.6,
             "#e6f5d0"
            ],
            [
             0.7,
             "#b8e186"
            ],
            [
             0.8,
             "#7fbc41"
            ],
            [
             0.9,
             "#4d9221"
            ],
            [
             1,
             "#276419"
            ]
           ],
           "sequential": [
            [
             0,
             "#0d0887"
            ],
            [
             0.1111111111111111,
             "#46039f"
            ],
            [
             0.2222222222222222,
             "#7201a8"
            ],
            [
             0.3333333333333333,
             "#9c179e"
            ],
            [
             0.4444444444444444,
             "#bd3786"
            ],
            [
             0.5555555555555556,
             "#d8576b"
            ],
            [
             0.6666666666666666,
             "#ed7953"
            ],
            [
             0.7777777777777778,
             "#fb9f3a"
            ],
            [
             0.8888888888888888,
             "#fdca26"
            ],
            [
             1,
             "#f0f921"
            ]
           ],
           "sequentialminus": [
            [
             0,
             "#0d0887"
            ],
            [
             0.1111111111111111,
             "#46039f"
            ],
            [
             0.2222222222222222,
             "#7201a8"
            ],
            [
             0.3333333333333333,
             "#9c179e"
            ],
            [
             0.4444444444444444,
             "#bd3786"
            ],
            [
             0.5555555555555556,
             "#d8576b"
            ],
            [
             0.6666666666666666,
             "#ed7953"
            ],
            [
             0.7777777777777778,
             "#fb9f3a"
            ],
            [
             0.8888888888888888,
             "#fdca26"
            ],
            [
             1,
             "#f0f921"
            ]
           ]
          },
          "colorway": [
           "#636efa",
           "#EF553B",
           "#00cc96",
           "#ab63fa",
           "#FFA15A",
           "#19d3f3",
           "#FF6692",
           "#B6E880",
           "#FF97FF",
           "#FECB52"
          ],
          "font": {
           "color": "#2a3f5f"
          },
          "geo": {
           "bgcolor": "white",
           "lakecolor": "white",
           "landcolor": "white",
           "showlakes": true,
           "showland": true,
           "subunitcolor": "#C8D4E3"
          },
          "hoverlabel": {
           "align": "left"
          },
          "hovermode": "closest",
          "mapbox": {
           "style": "light"
          },
          "paper_bgcolor": "white",
          "plot_bgcolor": "white",
          "polar": {
           "angularaxis": {
            "gridcolor": "#EBF0F8",
            "linecolor": "#EBF0F8",
            "ticks": ""
           },
           "bgcolor": "white",
           "radialaxis": {
            "gridcolor": "#EBF0F8",
            "linecolor": "#EBF0F8",
            "ticks": ""
           }
          },
          "scene": {
           "xaxis": {
            "backgroundcolor": "white",
            "gridcolor": "#DFE8F3",
            "gridwidth": 2,
            "linecolor": "#EBF0F8",
            "showbackground": true,
            "ticks": "",
            "zerolinecolor": "#EBF0F8"
           },
           "yaxis": {
            "backgroundcolor": "white",
            "gridcolor": "#DFE8F3",
            "gridwidth": 2,
            "linecolor": "#EBF0F8",
            "showbackground": true,
            "ticks": "",
            "zerolinecolor": "#EBF0F8"
           },
           "zaxis": {
            "backgroundcolor": "white",
            "gridcolor": "#DFE8F3",
            "gridwidth": 2,
            "linecolor": "#EBF0F8",
            "showbackground": true,
            "ticks": "",
            "zerolinecolor": "#EBF0F8"
           }
          },
          "shapedefaults": {
           "line": {
            "color": "#2a3f5f"
           }
          },
          "ternary": {
           "aaxis": {
            "gridcolor": "#DFE8F3",
            "linecolor": "#A2B1C6",
            "ticks": ""
           },
           "baxis": {
            "gridcolor": "#DFE8F3",
            "linecolor": "#A2B1C6",
            "ticks": ""
           },
           "bgcolor": "white",
           "caxis": {
            "gridcolor": "#DFE8F3",
            "linecolor": "#A2B1C6",
            "ticks": ""
           }
          },
          "title": {
           "x": 0.05
          },
          "xaxis": {
           "automargin": true,
           "gridcolor": "#EBF0F8",
           "linecolor": "#EBF0F8",
           "ticks": "",
           "title": {
            "standoff": 15
           },
           "zerolinecolor": "#EBF0F8",
           "zerolinewidth": 2
          },
          "yaxis": {
           "automargin": true,
           "gridcolor": "#EBF0F8",
           "linecolor": "#EBF0F8",
           "ticks": "",
           "title": {
            "standoff": 15
           },
           "zerolinecolor": "#EBF0F8",
           "zerolinewidth": 2
          }
         }
        },
        "xaxis": {
         "anchor": "y",
         "domain": [
          0,
          1
         ],
         "title": {
          "text": "PC1"
         }
        },
        "yaxis": {
         "anchor": "x",
         "domain": [
          0,
          1
         ],
         "title": {
          "text": "PC2"
         }
        }
       }
      }
     },
     "metadata": {},
     "output_type": "display_data"
    }
   ],
   "source": [
    "# Clustering avec K-Means\n",
    "kmeans = KMeans(n_clusters=n_clusters, random_state=42)  # 3 clusters par exemple\n",
    "kmeans.fit(df_standardise)\n",
    "labels = kmeans.labels_\n",
    "\n",
    "# Ajout des labels au dataframe\n",
    "principal_df['cluster'] = labels\n",
    "\n",
    "# Convertir les clusters en type catégoriel pour légende continue\n",
    "principal_df[\"cluster\"] = principal_df[\"cluster\"].astype(str)\n",
    "\n",
    "# Visualisation\n",
    "fig_kmeans = px.scatter(\n",
    "    template='plotly_white',\n",
    "    data_frame=principal_df, \n",
    "    x='PC1', \n",
    "    y='PC2', \n",
    "    color='cluster', \n",
    "    hover_name='Country name',\n",
    "    color_discrete_sequence=px.colors.qualitative.G10,\n",
    ")\n",
    "# Cacher la légende\n",
    "fig_kmeans.update_layout(showlegend=False)\n",
    "fig_kmeans.show()\n"
   ]
  },
  {
   "cell_type": "markdown",
   "metadata": {},
   "source": [
    "# Gaussian Mixture"
   ]
  },
  {
   "cell_type": "markdown",
   "metadata": {},
   "source": [
    "### Silhouette Score"
   ]
  },
  {
   "cell_type": "code",
   "execution_count": 33,
   "metadata": {},
   "outputs": [
    {
     "data": {
      "application/vnd.plotly.v1+json": {
       "config": {
        "plotlyServerURL": "https://plot.ly"
       },
       "data": [
        {
         "line": {
          "color": "red"
         },
         "marker": {
          "size": 8
         },
         "mode": "lines+markers",
         "name": "Silhouette Score",
         "type": "scatter",
         "x": [
          2,
          3,
          4,
          5,
          6,
          7,
          8,
          9,
          10
         ],
         "y": [
          0.22581499620793583,
          0.2922252020969163,
          0.20692835963233314,
          0.1972355363129858,
          0.23466379747084384,
          0.2307346400452514,
          0.15483692491515305,
          0.16057784501511352,
          0.1586947608009106
         ]
        }
       ],
       "layout": {
        "template": {
         "data": {
          "bar": [
           {
            "error_x": {
             "color": "#2a3f5f"
            },
            "error_y": {
             "color": "#2a3f5f"
            },
            "marker": {
             "line": {
              "color": "white",
              "width": 0.5
             },
             "pattern": {
              "fillmode": "overlay",
              "size": 10,
              "solidity": 0.2
             }
            },
            "type": "bar"
           }
          ],
          "barpolar": [
           {
            "marker": {
             "line": {
              "color": "white",
              "width": 0.5
             },
             "pattern": {
              "fillmode": "overlay",
              "size": 10,
              "solidity": 0.2
             }
            },
            "type": "barpolar"
           }
          ],
          "carpet": [
           {
            "aaxis": {
             "endlinecolor": "#2a3f5f",
             "gridcolor": "#C8D4E3",
             "linecolor": "#C8D4E3",
             "minorgridcolor": "#C8D4E3",
             "startlinecolor": "#2a3f5f"
            },
            "baxis": {
             "endlinecolor": "#2a3f5f",
             "gridcolor": "#C8D4E3",
             "linecolor": "#C8D4E3",
             "minorgridcolor": "#C8D4E3",
             "startlinecolor": "#2a3f5f"
            },
            "type": "carpet"
           }
          ],
          "choropleth": [
           {
            "colorbar": {
             "outlinewidth": 0,
             "ticks": ""
            },
            "type": "choropleth"
           }
          ],
          "contour": [
           {
            "colorbar": {
             "outlinewidth": 0,
             "ticks": ""
            },
            "colorscale": [
             [
              0,
              "#0d0887"
             ],
             [
              0.1111111111111111,
              "#46039f"
             ],
             [
              0.2222222222222222,
              "#7201a8"
             ],
             [
              0.3333333333333333,
              "#9c179e"
             ],
             [
              0.4444444444444444,
              "#bd3786"
             ],
             [
              0.5555555555555556,
              "#d8576b"
             ],
             [
              0.6666666666666666,
              "#ed7953"
             ],
             [
              0.7777777777777778,
              "#fb9f3a"
             ],
             [
              0.8888888888888888,
              "#fdca26"
             ],
             [
              1,
              "#f0f921"
             ]
            ],
            "type": "contour"
           }
          ],
          "contourcarpet": [
           {
            "colorbar": {
             "outlinewidth": 0,
             "ticks": ""
            },
            "type": "contourcarpet"
           }
          ],
          "heatmap": [
           {
            "colorbar": {
             "outlinewidth": 0,
             "ticks": ""
            },
            "colorscale": [
             [
              0,
              "#0d0887"
             ],
             [
              0.1111111111111111,
              "#46039f"
             ],
             [
              0.2222222222222222,
              "#7201a8"
             ],
             [
              0.3333333333333333,
              "#9c179e"
             ],
             [
              0.4444444444444444,
              "#bd3786"
             ],
             [
              0.5555555555555556,
              "#d8576b"
             ],
             [
              0.6666666666666666,
              "#ed7953"
             ],
             [
              0.7777777777777778,
              "#fb9f3a"
             ],
             [
              0.8888888888888888,
              "#fdca26"
             ],
             [
              1,
              "#f0f921"
             ]
            ],
            "type": "heatmap"
           }
          ],
          "heatmapgl": [
           {
            "colorbar": {
             "outlinewidth": 0,
             "ticks": ""
            },
            "colorscale": [
             [
              0,
              "#0d0887"
             ],
             [
              0.1111111111111111,
              "#46039f"
             ],
             [
              0.2222222222222222,
              "#7201a8"
             ],
             [
              0.3333333333333333,
              "#9c179e"
             ],
             [
              0.4444444444444444,
              "#bd3786"
             ],
             [
              0.5555555555555556,
              "#d8576b"
             ],
             [
              0.6666666666666666,
              "#ed7953"
             ],
             [
              0.7777777777777778,
              "#fb9f3a"
             ],
             [
              0.8888888888888888,
              "#fdca26"
             ],
             [
              1,
              "#f0f921"
             ]
            ],
            "type": "heatmapgl"
           }
          ],
          "histogram": [
           {
            "marker": {
             "pattern": {
              "fillmode": "overlay",
              "size": 10,
              "solidity": 0.2
             }
            },
            "type": "histogram"
           }
          ],
          "histogram2d": [
           {
            "colorbar": {
             "outlinewidth": 0,
             "ticks": ""
            },
            "colorscale": [
             [
              0,
              "#0d0887"
             ],
             [
              0.1111111111111111,
              "#46039f"
             ],
             [
              0.2222222222222222,
              "#7201a8"
             ],
             [
              0.3333333333333333,
              "#9c179e"
             ],
             [
              0.4444444444444444,
              "#bd3786"
             ],
             [
              0.5555555555555556,
              "#d8576b"
             ],
             [
              0.6666666666666666,
              "#ed7953"
             ],
             [
              0.7777777777777778,
              "#fb9f3a"
             ],
             [
              0.8888888888888888,
              "#fdca26"
             ],
             [
              1,
              "#f0f921"
             ]
            ],
            "type": "histogram2d"
           }
          ],
          "histogram2dcontour": [
           {
            "colorbar": {
             "outlinewidth": 0,
             "ticks": ""
            },
            "colorscale": [
             [
              0,
              "#0d0887"
             ],
             [
              0.1111111111111111,
              "#46039f"
             ],
             [
              0.2222222222222222,
              "#7201a8"
             ],
             [
              0.3333333333333333,
              "#9c179e"
             ],
             [
              0.4444444444444444,
              "#bd3786"
             ],
             [
              0.5555555555555556,
              "#d8576b"
             ],
             [
              0.6666666666666666,
              "#ed7953"
             ],
             [
              0.7777777777777778,
              "#fb9f3a"
             ],
             [
              0.8888888888888888,
              "#fdca26"
             ],
             [
              1,
              "#f0f921"
             ]
            ],
            "type": "histogram2dcontour"
           }
          ],
          "mesh3d": [
           {
            "colorbar": {
             "outlinewidth": 0,
             "ticks": ""
            },
            "type": "mesh3d"
           }
          ],
          "parcoords": [
           {
            "line": {
             "colorbar": {
              "outlinewidth": 0,
              "ticks": ""
             }
            },
            "type": "parcoords"
           }
          ],
          "pie": [
           {
            "automargin": true,
            "type": "pie"
           }
          ],
          "scatter": [
           {
            "fillpattern": {
             "fillmode": "overlay",
             "size": 10,
             "solidity": 0.2
            },
            "type": "scatter"
           }
          ],
          "scatter3d": [
           {
            "line": {
             "colorbar": {
              "outlinewidth": 0,
              "ticks": ""
             }
            },
            "marker": {
             "colorbar": {
              "outlinewidth": 0,
              "ticks": ""
             }
            },
            "type": "scatter3d"
           }
          ],
          "scattercarpet": [
           {
            "marker": {
             "colorbar": {
              "outlinewidth": 0,
              "ticks": ""
             }
            },
            "type": "scattercarpet"
           }
          ],
          "scattergeo": [
           {
            "marker": {
             "colorbar": {
              "outlinewidth": 0,
              "ticks": ""
             }
            },
            "type": "scattergeo"
           }
          ],
          "scattergl": [
           {
            "marker": {
             "colorbar": {
              "outlinewidth": 0,
              "ticks": ""
             }
            },
            "type": "scattergl"
           }
          ],
          "scattermapbox": [
           {
            "marker": {
             "colorbar": {
              "outlinewidth": 0,
              "ticks": ""
             }
            },
            "type": "scattermapbox"
           }
          ],
          "scatterpolar": [
           {
            "marker": {
             "colorbar": {
              "outlinewidth": 0,
              "ticks": ""
             }
            },
            "type": "scatterpolar"
           }
          ],
          "scatterpolargl": [
           {
            "marker": {
             "colorbar": {
              "outlinewidth": 0,
              "ticks": ""
             }
            },
            "type": "scatterpolargl"
           }
          ],
          "scatterternary": [
           {
            "marker": {
             "colorbar": {
              "outlinewidth": 0,
              "ticks": ""
             }
            },
            "type": "scatterternary"
           }
          ],
          "surface": [
           {
            "colorbar": {
             "outlinewidth": 0,
             "ticks": ""
            },
            "colorscale": [
             [
              0,
              "#0d0887"
             ],
             [
              0.1111111111111111,
              "#46039f"
             ],
             [
              0.2222222222222222,
              "#7201a8"
             ],
             [
              0.3333333333333333,
              "#9c179e"
             ],
             [
              0.4444444444444444,
              "#bd3786"
             ],
             [
              0.5555555555555556,
              "#d8576b"
             ],
             [
              0.6666666666666666,
              "#ed7953"
             ],
             [
              0.7777777777777778,
              "#fb9f3a"
             ],
             [
              0.8888888888888888,
              "#fdca26"
             ],
             [
              1,
              "#f0f921"
             ]
            ],
            "type": "surface"
           }
          ],
          "table": [
           {
            "cells": {
             "fill": {
              "color": "#EBF0F8"
             },
             "line": {
              "color": "white"
             }
            },
            "header": {
             "fill": {
              "color": "#C8D4E3"
             },
             "line": {
              "color": "white"
             }
            },
            "type": "table"
           }
          ]
         },
         "layout": {
          "annotationdefaults": {
           "arrowcolor": "#2a3f5f",
           "arrowhead": 0,
           "arrowwidth": 1
          },
          "autotypenumbers": "strict",
          "coloraxis": {
           "colorbar": {
            "outlinewidth": 0,
            "ticks": ""
           }
          },
          "colorscale": {
           "diverging": [
            [
             0,
             "#8e0152"
            ],
            [
             0.1,
             "#c51b7d"
            ],
            [
             0.2,
             "#de77ae"
            ],
            [
             0.3,
             "#f1b6da"
            ],
            [
             0.4,
             "#fde0ef"
            ],
            [
             0.5,
             "#f7f7f7"
            ],
            [
             0.6,
             "#e6f5d0"
            ],
            [
             0.7,
             "#b8e186"
            ],
            [
             0.8,
             "#7fbc41"
            ],
            [
             0.9,
             "#4d9221"
            ],
            [
             1,
             "#276419"
            ]
           ],
           "sequential": [
            [
             0,
             "#0d0887"
            ],
            [
             0.1111111111111111,
             "#46039f"
            ],
            [
             0.2222222222222222,
             "#7201a8"
            ],
            [
             0.3333333333333333,
             "#9c179e"
            ],
            [
             0.4444444444444444,
             "#bd3786"
            ],
            [
             0.5555555555555556,
             "#d8576b"
            ],
            [
             0.6666666666666666,
             "#ed7953"
            ],
            [
             0.7777777777777778,
             "#fb9f3a"
            ],
            [
             0.8888888888888888,
             "#fdca26"
            ],
            [
             1,
             "#f0f921"
            ]
           ],
           "sequentialminus": [
            [
             0,
             "#0d0887"
            ],
            [
             0.1111111111111111,
             "#46039f"
            ],
            [
             0.2222222222222222,
             "#7201a8"
            ],
            [
             0.3333333333333333,
             "#9c179e"
            ],
            [
             0.4444444444444444,
             "#bd3786"
            ],
            [
             0.5555555555555556,
             "#d8576b"
            ],
            [
             0.6666666666666666,
             "#ed7953"
            ],
            [
             0.7777777777777778,
             "#fb9f3a"
            ],
            [
             0.8888888888888888,
             "#fdca26"
            ],
            [
             1,
             "#f0f921"
            ]
           ]
          },
          "colorway": [
           "#636efa",
           "#EF553B",
           "#00cc96",
           "#ab63fa",
           "#FFA15A",
           "#19d3f3",
           "#FF6692",
           "#B6E880",
           "#FF97FF",
           "#FECB52"
          ],
          "font": {
           "color": "#2a3f5f"
          },
          "geo": {
           "bgcolor": "white",
           "lakecolor": "white",
           "landcolor": "white",
           "showlakes": true,
           "showland": true,
           "subunitcolor": "#C8D4E3"
          },
          "hoverlabel": {
           "align": "left"
          },
          "hovermode": "closest",
          "mapbox": {
           "style": "light"
          },
          "paper_bgcolor": "white",
          "plot_bgcolor": "white",
          "polar": {
           "angularaxis": {
            "gridcolor": "#EBF0F8",
            "linecolor": "#EBF0F8",
            "ticks": ""
           },
           "bgcolor": "white",
           "radialaxis": {
            "gridcolor": "#EBF0F8",
            "linecolor": "#EBF0F8",
            "ticks": ""
           }
          },
          "scene": {
           "xaxis": {
            "backgroundcolor": "white",
            "gridcolor": "#DFE8F3",
            "gridwidth": 2,
            "linecolor": "#EBF0F8",
            "showbackground": true,
            "ticks": "",
            "zerolinecolor": "#EBF0F8"
           },
           "yaxis": {
            "backgroundcolor": "white",
            "gridcolor": "#DFE8F3",
            "gridwidth": 2,
            "linecolor": "#EBF0F8",
            "showbackground": true,
            "ticks": "",
            "zerolinecolor": "#EBF0F8"
           },
           "zaxis": {
            "backgroundcolor": "white",
            "gridcolor": "#DFE8F3",
            "gridwidth": 2,
            "linecolor": "#EBF0F8",
            "showbackground": true,
            "ticks": "",
            "zerolinecolor": "#EBF0F8"
           }
          },
          "shapedefaults": {
           "line": {
            "color": "#2a3f5f"
           }
          },
          "ternary": {
           "aaxis": {
            "gridcolor": "#DFE8F3",
            "linecolor": "#A2B1C6",
            "ticks": ""
           },
           "baxis": {
            "gridcolor": "#DFE8F3",
            "linecolor": "#A2B1C6",
            "ticks": ""
           },
           "bgcolor": "white",
           "caxis": {
            "gridcolor": "#DFE8F3",
            "linecolor": "#A2B1C6",
            "ticks": ""
           }
          },
          "title": {
           "x": 0.05
          },
          "xaxis": {
           "automargin": true,
           "gridcolor": "#EBF0F8",
           "linecolor": "#EBF0F8",
           "ticks": "",
           "title": {
            "standoff": 15
           },
           "zerolinecolor": "#EBF0F8",
           "zerolinewidth": 2
          },
          "yaxis": {
           "automargin": true,
           "gridcolor": "#EBF0F8",
           "linecolor": "#EBF0F8",
           "ticks": "",
           "title": {
            "standoff": 15
           },
           "zerolinecolor": "#EBF0F8",
           "zerolinewidth": 2
          }
         }
        },
        "title": {
         "text": "Méthode de la silhouette pour GMM"
        },
        "xaxis": {
         "title": {
          "text": "Nombre de clusters"
         }
        },
        "yaxis": {
         "title": {
          "text": "Indice de silhouette moyen"
         }
        }
       }
      }
     },
     "metadata": {},
     "output_type": "display_data"
    },
    {
     "data": {
      "text/plain": [
       "3"
      ]
     },
     "execution_count": 33,
     "metadata": {},
     "output_type": "execute_result"
    }
   ],
   "source": [
    "# Liste pour stocker les scores de silhouette\n",
    "silhouette_scores_gmm = []\n",
    "\n",
    "# Tester de 2 à 10 clusters\n",
    "for n_clusters in range(2, 11):\n",
    "    gmm = GaussianMixture(n_components=n_clusters, random_state=42)\n",
    "    gmm.fit(df_standardise)  # ou df_numeric\n",
    "    labels = gmm.predict(df_standardise)\n",
    "    score = silhouette_score(df_standardise, labels)\n",
    "    silhouette_scores_gmm.append(score)\n",
    "\n",
    "# Création du graphique avec Plotly\n",
    "fig = go.Figure()\n",
    "\n",
    "fig.add_trace(go.Scatter(\n",
    "    x=list(range(2, 11)),\n",
    "    y=silhouette_scores_gmm,\n",
    "    mode='lines+markers',\n",
    "    name='Silhouette Score',\n",
    "    line=dict(color='red'),\n",
    "    marker=dict(size=8)\n",
    "))\n",
    "\n",
    "fig.update_layout(\n",
    "    title='Méthode de la silhouette pour GMM',\n",
    "    xaxis_title='Nombre de clusters',\n",
    "    yaxis_title='Indice de silhouette moyen',\n",
    "    template='plotly_white'  # Utiliser le thème blanc\n",
    ")\n",
    "\n",
    "fig.show()\n",
    "\n",
    "max_silhouette_score = max(silhouette_scores_gmm)\n",
    "n_clusters = silhouette_scores_gmm.index(max_silhouette_score) + 2\n",
    "\n",
    "n_clusters \n"
   ]
  },
  {
   "cell_type": "markdown",
   "metadata": {},
   "source": [
    "### Clustering"
   ]
  },
  {
   "cell_type": "code",
   "execution_count": 34,
   "metadata": {},
   "outputs": [
    {
     "data": {
      "application/vnd.plotly.v1+json": {
       "config": {
        "plotlyServerURL": "https://plot.ly"
       },
       "data": [
        {
         "hovertemplate": "<b>%{hovertext}</b><br><br>cluster=2<br>PC1=%{x}<br>PC2=%{y}<extra></extra>",
         "hovertext": [
          "Finland",
          "Denmark",
          "Switzerland",
          "Iceland",
          "Norway",
          "Netherlands",
          "Sweden",
          "New Zealand",
          "Austria",
          "Luxembourg",
          "Canada",
          "Australia",
          "United Kingdom",
          "Ireland",
          "Germany",
          "United States",
          "United Arab Emirates",
          "Malta",
          "Singapore",
          "Uzbekistan",
          "Bahrain",
          "Thailand",
          "Hong Kong S.A.R. of China",
          "Malaysia"
         ],
         "legendgroup": "2",
         "marker": {
          "color": "#3366CC",
          "symbol": "circle"
         },
         "mode": "markers",
         "name": "2",
         "orientation": "v",
         "showlegend": true,
         "type": "scatter",
         "x": [
          3.749509422437874,
          3.839590212143542,
          3.663110872252431,
          3.108673654268542,
          3.8156549683605467,
          3.3163443412095464,
          3.4689160192437076,
          3.5196237810946647,
          2.9836471863888905,
          3.321343197549372,
          3.2408749679188524,
          3.233580614504789,
          2.7992458547429333,
          3.246972052878093,
          2.7012466329713303,
          2.1036425432183328,
          2.237158664553594,
          2.5059533130170375,
          3.6699333329682315,
          1.5307254449433247,
          1.7114469913207857,
          1.0380187081131802,
          2.0348480404960125,
          0.7154748300047876
         ],
         "xaxis": "x",
         "y": [
          1.0713333420488669,
          1.71990572976722,
          1.399595428680102,
          1.0644544227762698,
          1.7344215042110327,
          1.7680963003291623,
          1.725595739239298,
          2.180446489585741,
          0.7977081027179347,
          0.6546438422399308,
          1.379777160511814,
          1.543695370865886,
          1.67359051402664,
          1.3576274154204728,
          0.8640041854926771,
          0.5003309120536743,
          1.0469302989480371,
          1.1180774686471535,
          1.4850539691139062,
          2.355048808006775,
          0.5992207686718757,
          1.0280473278794355,
          0.9091344019916121,
          0.4075069191321778
         ],
         "yaxis": "y"
        },
        {
         "hovertemplate": "<b>%{hovertext}</b><br><br>cluster=0<br>PC1=%{x}<br>PC2=%{y}<extra></extra>",
         "hovertext": [
          "Israel",
          "Costa Rica",
          "Czech Republic",
          "Belgium",
          "France",
          "Mexico",
          "Taiwan Province of China",
          "Uruguay",
          "Saudi Arabia",
          "Spain",
          "Guatemala",
          "Italy",
          "Brazil",
          "Slovenia",
          "El Salvador",
          "Panama",
          "Slovakia",
          "Chile",
          "Lithuania",
          "Trinidad and Tobago",
          "Poland",
          "Colombia",
          "Cyprus",
          "Nicaragua",
          "Romania",
          "Kuwait",
          "Mauritius",
          "Kazakhstan",
          "Estonia",
          "Philippines",
          "Hungary",
          "Argentina",
          "Honduras",
          "Latvia",
          "Ecuador",
          "Portugal",
          "Jamaica",
          "South Korea",
          "Japan",
          "Peru",
          "Serbia",
          "Bolivia",
          "Paraguay",
          "Dominican Republic",
          "Bosnia and Herzegovina",
          "Moldova",
          "Tajikistan",
          "Montenegro",
          "Russia",
          "Kyrgyzstan",
          "Belarus",
          "North Cyprus",
          "Greece",
          "Croatia",
          "Libya",
          "Vietnam",
          "Azerbaijan",
          "Macedonia",
          "Turkey",
          "China",
          "Bulgaria",
          "Venezuela",
          "Algeria",
          "Lebanon",
          "Armenia",
          "Jordan",
          "Ukraine",
          "Palestinian Territories"
         ],
         "legendgroup": "0",
         "marker": {
          "color": "#DC3912",
          "symbol": "circle"
         },
         "mode": "markers",
         "name": "0",
         "orientation": "v",
         "showlegend": true,
         "type": "scatter",
         "x": [
          1.8978893613076424,
          1.9423916926827425,
          1.6339861074610371,
          2.2077059895183573,
          2.364889509954152,
          1.0385228099549815,
          1.561905161815255,
          1.7955317378963491,
          1.561776881308639,
          1.7221834207127154,
          0.5819563166428612,
          1.1489155206932151,
          0.9015030233017137,
          1.9890240475085177,
          0.4127038476482683,
          1.372568218948886,
          1.037272891240616,
          0.9206678524784955,
          1.0536443354338263,
          0.9402971914867928,
          1.4721454188701841,
          0.7781250459632646,
          1.1063539050007678,
          0.6857097379865712,
          0.6557914391946846,
          1.4250972995170048,
          1.2028526486468638,
          1.041465002189482,
          1.7602660014305502,
          0.4503444780404644,
          0.7324632356840678,
          0.957468630310369,
          0.26731675171079994,
          0.6254583355399467,
          0.6303121449068485,
          1.3697693303182308,
          0.5857242895319117,
          0.5943506847127074,
          1.7454374091454445,
          0.36616488355944526,
          0.43563904207021503,
          -0.004581867839468401,
          0.6784847270036867,
          0.7655319852001368,
          -0.2263812178166673,
          -0.428881289082515,
          -0.02499829839109971,
          0.1556698565694833,
          0.2863132657625845,
          0.023945418301337916,
          0.36562696929580524,
          1.2743452793501608,
          -0.08012645625979196,
          0.42048322384020187,
          0.16960223131593175,
          0.4855437524039514,
          0.3606099456276269,
          -0.18525205165670056,
          -0.1659976041252979,
          0.5501582701120585,
          0.24171319783014245,
          -0.5171368876864628,
          -0.9734839723526051,
          -0.9743723992657102,
          -0.7321358497812592,
          -0.3976205363494144,
          -0.8559641898873868,
          -1.368426916257076
         ],
         "xaxis": "x",
         "y": [
          -0.24874625065736647,
          -0.5080247481151022,
          -1.791259163766761,
          -0.4909778126687551,
          -0.6982110924043337,
          -0.9898039961647984,
          -0.8457591352302058,
          -0.24967348139571463,
          -0.8258310846686016,
          -0.9890585807633624,
          0.1371241096938358,
          -1.4326861039634542,
          -0.7161548507564074,
          -0.6747038951298979,
          -0.3896428507449288,
          -1.1234311483402037,
          -1.6145852201553585,
          -1.0242749661487074,
          -1.7548029147187716,
          -0.5231831389022648,
          -0.9662391850369304,
          -1.1511427131780128,
          -0.48131865117997485,
          0.5838731682944526,
          -1.501024616037072,
          -0.674236524555849,
          -0.2378878095915972,
          -0.6218696752947369,
          -0.3907414231129299,
          -0.002684298448735167,
          -1.9251795926024282,
          -1.3771776568832836,
          0.6326381338022031,
          -1.7246180375928866,
          -0.63930874268874,
          -1.6182765523200486,
          -0.9258103728865191,
          -1.2119889944797015,
          -1.4413530604935991,
          -1.1844632312108998,
          -1.0301244764746618,
          -0.23661601335060684,
          -0.06127090795134585,
          -0.6052453826369191,
          -0.5263186128073454,
          -0.7569673483298369,
          0.6693768730244194,
          -1.0766294224327075,
          -1.4723414059632718,
          0.8530919318376612,
          -1.1696552190201828,
          -0.04541853036112098,
          -2.786707247192126,
          -1.6365770408731348,
          -0.26261336158144605,
          -0.16763718572271508,
          -0.7056486476873619,
          -0.7343920433116459,
          -1.5460591180450172,
          -0.7014024876851028,
          -1.6601596118734134,
          -1.6212911658267741,
          -1.5143900227761078,
          -1.4630785368621348,
          -0.8560954457911252,
          -0.7190775597471012,
          -1.0071519681908037,
          -1.1725893616699712
         ],
         "yaxis": "y"
        },
        {
         "hovertemplate": "<b>%{hovertext}</b><br><br>cluster=1<br>PC1=%{x}<br>PC2=%{y}<extra></extra>",
         "hovertext": [
          "Kosovo",
          "Pakistan",
          "Mongolia",
          "Indonesia",
          "Ivory Coast",
          "Benin",
          "Maldives",
          "Congo (Brazzaville)",
          "Ghana",
          "Nepal",
          "Turkmenistan",
          "Morocco",
          "Cameroon",
          "Senegal",
          "Guinea",
          "Niger",
          "Laos",
          "Albania",
          "Cambodia",
          "Bangladesh",
          "Gabon",
          "South Africa",
          "Iraq",
          "Burkina Faso",
          "Gambia",
          "Mali",
          "Nigeria",
          "Georgia",
          "Iran",
          "Mozambique",
          "Kenya",
          "Namibia",
          "Liberia",
          "Uganda",
          "Chad",
          "Tunisia",
          "Mauritania",
          "Sri Lanka",
          "Congo (Kinshasa)",
          "Swaziland",
          "Myanmar",
          "Comoros",
          "Togo",
          "Ethiopia",
          "Madagascar",
          "Egypt",
          "Sierra Leone",
          "Burundi",
          "Zambia",
          "Haiti",
          "Lesotho",
          "India",
          "Malawi",
          "Yemen",
          "Botswana",
          "Tanzania",
          "Central African Republic",
          "Rwanda",
          "Zimbabwe",
          "South Sudan",
          "Afghanistan"
         ],
         "legendgroup": "1",
         "marker": {
          "color": "#FF9900",
          "symbol": "circle"
         },
         "mode": "markers",
         "name": "1",
         "orientation": "v",
         "showlegend": true,
         "type": "scatter",
         "x": [
          0.31387508309375517,
          -1.189250762020947,
          -0.07319369926117543,
          -0.05877694237145192,
          -2.252824001902734,
          -2.736632871759514,
          0.818130740793685,
          -1.6589938171545655,
          -1.3598201552110285,
          -0.7180148402532838,
          0.3583858495956411,
          -1.1704456948939737,
          -1.9776916804811586,
          -1.6531594314120335,
          -2.302298997556743,
          -2.595174770912949,
          -0.5260558575732055,
          -0.671516715047217,
          -0.5773864501850456,
          -0.6369670803330341,
          -0.9391120106675012,
          -0.836107801231833,
          -1.2378940997999017,
          -2.355653390013726,
          -2.0825458474365455,
          -2.401238224156035,
          -2.02494312143626,
          -0.888921721197074,
          -0.7908318694915368,
          -1.835861207932215,
          -1.462056530515092,
          -1.0354300550553184,
          -2.4299450796633106,
          -2.110279751334411,
          -3.466246219920182,
          -1.5054129300336123,
          -2.1093138504261932,
          -0.21769976007668213,
          -3.029984549374213,
          -1.9175473424074716,
          -0.597391116600837,
          -2.89344443342785,
          -3.235328292322437,
          -1.9607942976999584,
          -2.931748508389121,
          -1.3097211757639915,
          -3.267215176914018,
          -3.885944974287503,
          -2.116005444339117,
          -3.3484042867853376,
          -2.7567116312628404,
          -1.7686040844746242,
          -2.972265302680821,
          -2.511093521083143,
          -1.1349332582592937,
          -1.9084243687908018,
          -5.4596157258822355,
          -1.5518627793326065,
          -2.509353560685861,
          -4.594778939545712,
          -5.313317529242742
         ],
         "xaxis": "x",
         "y": [
          0.7192075610663178,
          0.6044698915098309,
          -0.25069800193309044,
          2.490652384795435,
          0.33743417882143767,
          0.9853194337331221,
          -0.14645887635002466,
          -0.19714044205858128,
          0.7227147099152922,
          1.1475394802619991,
          0.4196308572797166,
          -0.968656269011134,
          0.35409875344338615,
          -0.18991630870363338,
          0.9379821931408491,
          1.1181405061798733,
          1.580342970716247,
          -0.483228895449074,
          0.9080449844347045,
          0.8218766217808524,
          -1.4735298720493264,
          -0.7331773297815574,
          -0.8052406198976826,
          0.35820643293770194,
          2.4736655159221796,
          0.09080811597914919,
          0.4095682423931584,
          -0.49853512549569523,
          0.349839967632847,
          1.3871874757691012,
          1.8700479020099683,
          -1.0513379408980081,
          0.5689615266054431,
          0.7257576979662599,
          0.4043683298721774,
          -1.7638185408358709,
          -0.7536364050626879,
          0.16594201927461447,
          0.9989179127212008,
          -0.8211179984060436,
          3.628886865136137,
          0.42405856582615326,
          0.6316289202697386,
          0.6696755875400124,
          -0.1509738390748473,
          -1.0721335715552887,
          0.9259714317118277,
          1.1638497132076249,
          0.920014502322463,
          2.3298522858267683,
          -0.4249760216310803,
          1.0601640677939705,
          1.2351232228921978,
          -0.9629822063348514,
          -1.0522030864179424,
          1.6205397728781763,
          1.36477295797038,
          2.997132633047241,
          -0.15487879630666188,
          0.17601152995117256,
          -0.9025285178409923
         ],
         "yaxis": "y"
        }
       ],
       "layout": {
        "legend": {
         "title": {
          "text": "cluster"
         },
         "tracegroupgap": 0
        },
        "margin": {
         "t": 60
        },
        "showlegend": false,
        "template": {
         "data": {
          "bar": [
           {
            "error_x": {
             "color": "#2a3f5f"
            },
            "error_y": {
             "color": "#2a3f5f"
            },
            "marker": {
             "line": {
              "color": "white",
              "width": 0.5
             },
             "pattern": {
              "fillmode": "overlay",
              "size": 10,
              "solidity": 0.2
             }
            },
            "type": "bar"
           }
          ],
          "barpolar": [
           {
            "marker": {
             "line": {
              "color": "white",
              "width": 0.5
             },
             "pattern": {
              "fillmode": "overlay",
              "size": 10,
              "solidity": 0.2
             }
            },
            "type": "barpolar"
           }
          ],
          "carpet": [
           {
            "aaxis": {
             "endlinecolor": "#2a3f5f",
             "gridcolor": "#C8D4E3",
             "linecolor": "#C8D4E3",
             "minorgridcolor": "#C8D4E3",
             "startlinecolor": "#2a3f5f"
            },
            "baxis": {
             "endlinecolor": "#2a3f5f",
             "gridcolor": "#C8D4E3",
             "linecolor": "#C8D4E3",
             "minorgridcolor": "#C8D4E3",
             "startlinecolor": "#2a3f5f"
            },
            "type": "carpet"
           }
          ],
          "choropleth": [
           {
            "colorbar": {
             "outlinewidth": 0,
             "ticks": ""
            },
            "type": "choropleth"
           }
          ],
          "contour": [
           {
            "colorbar": {
             "outlinewidth": 0,
             "ticks": ""
            },
            "colorscale": [
             [
              0,
              "#0d0887"
             ],
             [
              0.1111111111111111,
              "#46039f"
             ],
             [
              0.2222222222222222,
              "#7201a8"
             ],
             [
              0.3333333333333333,
              "#9c179e"
             ],
             [
              0.4444444444444444,
              "#bd3786"
             ],
             [
              0.5555555555555556,
              "#d8576b"
             ],
             [
              0.6666666666666666,
              "#ed7953"
             ],
             [
              0.7777777777777778,
              "#fb9f3a"
             ],
             [
              0.8888888888888888,
              "#fdca26"
             ],
             [
              1,
              "#f0f921"
             ]
            ],
            "type": "contour"
           }
          ],
          "contourcarpet": [
           {
            "colorbar": {
             "outlinewidth": 0,
             "ticks": ""
            },
            "type": "contourcarpet"
           }
          ],
          "heatmap": [
           {
            "colorbar": {
             "outlinewidth": 0,
             "ticks": ""
            },
            "colorscale": [
             [
              0,
              "#0d0887"
             ],
             [
              0.1111111111111111,
              "#46039f"
             ],
             [
              0.2222222222222222,
              "#7201a8"
             ],
             [
              0.3333333333333333,
              "#9c179e"
             ],
             [
              0.4444444444444444,
              "#bd3786"
             ],
             [
              0.5555555555555556,
              "#d8576b"
             ],
             [
              0.6666666666666666,
              "#ed7953"
             ],
             [
              0.7777777777777778,
              "#fb9f3a"
             ],
             [
              0.8888888888888888,
              "#fdca26"
             ],
             [
              1,
              "#f0f921"
             ]
            ],
            "type": "heatmap"
           }
          ],
          "heatmapgl": [
           {
            "colorbar": {
             "outlinewidth": 0,
             "ticks": ""
            },
            "colorscale": [
             [
              0,
              "#0d0887"
             ],
             [
              0.1111111111111111,
              "#46039f"
             ],
             [
              0.2222222222222222,
              "#7201a8"
             ],
             [
              0.3333333333333333,
              "#9c179e"
             ],
             [
              0.4444444444444444,
              "#bd3786"
             ],
             [
              0.5555555555555556,
              "#d8576b"
             ],
             [
              0.6666666666666666,
              "#ed7953"
             ],
             [
              0.7777777777777778,
              "#fb9f3a"
             ],
             [
              0.8888888888888888,
              "#fdca26"
             ],
             [
              1,
              "#f0f921"
             ]
            ],
            "type": "heatmapgl"
           }
          ],
          "histogram": [
           {
            "marker": {
             "pattern": {
              "fillmode": "overlay",
              "size": 10,
              "solidity": 0.2
             }
            },
            "type": "histogram"
           }
          ],
          "histogram2d": [
           {
            "colorbar": {
             "outlinewidth": 0,
             "ticks": ""
            },
            "colorscale": [
             [
              0,
              "#0d0887"
             ],
             [
              0.1111111111111111,
              "#46039f"
             ],
             [
              0.2222222222222222,
              "#7201a8"
             ],
             [
              0.3333333333333333,
              "#9c179e"
             ],
             [
              0.4444444444444444,
              "#bd3786"
             ],
             [
              0.5555555555555556,
              "#d8576b"
             ],
             [
              0.6666666666666666,
              "#ed7953"
             ],
             [
              0.7777777777777778,
              "#fb9f3a"
             ],
             [
              0.8888888888888888,
              "#fdca26"
             ],
             [
              1,
              "#f0f921"
             ]
            ],
            "type": "histogram2d"
           }
          ],
          "histogram2dcontour": [
           {
            "colorbar": {
             "outlinewidth": 0,
             "ticks": ""
            },
            "colorscale": [
             [
              0,
              "#0d0887"
             ],
             [
              0.1111111111111111,
              "#46039f"
             ],
             [
              0.2222222222222222,
              "#7201a8"
             ],
             [
              0.3333333333333333,
              "#9c179e"
             ],
             [
              0.4444444444444444,
              "#bd3786"
             ],
             [
              0.5555555555555556,
              "#d8576b"
             ],
             [
              0.6666666666666666,
              "#ed7953"
             ],
             [
              0.7777777777777778,
              "#fb9f3a"
             ],
             [
              0.8888888888888888,
              "#fdca26"
             ],
             [
              1,
              "#f0f921"
             ]
            ],
            "type": "histogram2dcontour"
           }
          ],
          "mesh3d": [
           {
            "colorbar": {
             "outlinewidth": 0,
             "ticks": ""
            },
            "type": "mesh3d"
           }
          ],
          "parcoords": [
           {
            "line": {
             "colorbar": {
              "outlinewidth": 0,
              "ticks": ""
             }
            },
            "type": "parcoords"
           }
          ],
          "pie": [
           {
            "automargin": true,
            "type": "pie"
           }
          ],
          "scatter": [
           {
            "fillpattern": {
             "fillmode": "overlay",
             "size": 10,
             "solidity": 0.2
            },
            "type": "scatter"
           }
          ],
          "scatter3d": [
           {
            "line": {
             "colorbar": {
              "outlinewidth": 0,
              "ticks": ""
             }
            },
            "marker": {
             "colorbar": {
              "outlinewidth": 0,
              "ticks": ""
             }
            },
            "type": "scatter3d"
           }
          ],
          "scattercarpet": [
           {
            "marker": {
             "colorbar": {
              "outlinewidth": 0,
              "ticks": ""
             }
            },
            "type": "scattercarpet"
           }
          ],
          "scattergeo": [
           {
            "marker": {
             "colorbar": {
              "outlinewidth": 0,
              "ticks": ""
             }
            },
            "type": "scattergeo"
           }
          ],
          "scattergl": [
           {
            "marker": {
             "colorbar": {
              "outlinewidth": 0,
              "ticks": ""
             }
            },
            "type": "scattergl"
           }
          ],
          "scattermapbox": [
           {
            "marker": {
             "colorbar": {
              "outlinewidth": 0,
              "ticks": ""
             }
            },
            "type": "scattermapbox"
           }
          ],
          "scatterpolar": [
           {
            "marker": {
             "colorbar": {
              "outlinewidth": 0,
              "ticks": ""
             }
            },
            "type": "scatterpolar"
           }
          ],
          "scatterpolargl": [
           {
            "marker": {
             "colorbar": {
              "outlinewidth": 0,
              "ticks": ""
             }
            },
            "type": "scatterpolargl"
           }
          ],
          "scatterternary": [
           {
            "marker": {
             "colorbar": {
              "outlinewidth": 0,
              "ticks": ""
             }
            },
            "type": "scatterternary"
           }
          ],
          "surface": [
           {
            "colorbar": {
             "outlinewidth": 0,
             "ticks": ""
            },
            "colorscale": [
             [
              0,
              "#0d0887"
             ],
             [
              0.1111111111111111,
              "#46039f"
             ],
             [
              0.2222222222222222,
              "#7201a8"
             ],
             [
              0.3333333333333333,
              "#9c179e"
             ],
             [
              0.4444444444444444,
              "#bd3786"
             ],
             [
              0.5555555555555556,
              "#d8576b"
             ],
             [
              0.6666666666666666,
              "#ed7953"
             ],
             [
              0.7777777777777778,
              "#fb9f3a"
             ],
             [
              0.8888888888888888,
              "#fdca26"
             ],
             [
              1,
              "#f0f921"
             ]
            ],
            "type": "surface"
           }
          ],
          "table": [
           {
            "cells": {
             "fill": {
              "color": "#EBF0F8"
             },
             "line": {
              "color": "white"
             }
            },
            "header": {
             "fill": {
              "color": "#C8D4E3"
             },
             "line": {
              "color": "white"
             }
            },
            "type": "table"
           }
          ]
         },
         "layout": {
          "annotationdefaults": {
           "arrowcolor": "#2a3f5f",
           "arrowhead": 0,
           "arrowwidth": 1
          },
          "autotypenumbers": "strict",
          "coloraxis": {
           "colorbar": {
            "outlinewidth": 0,
            "ticks": ""
           }
          },
          "colorscale": {
           "diverging": [
            [
             0,
             "#8e0152"
            ],
            [
             0.1,
             "#c51b7d"
            ],
            [
             0.2,
             "#de77ae"
            ],
            [
             0.3,
             "#f1b6da"
            ],
            [
             0.4,
             "#fde0ef"
            ],
            [
             0.5,
             "#f7f7f7"
            ],
            [
             0.6,
             "#e6f5d0"
            ],
            [
             0.7,
             "#b8e186"
            ],
            [
             0.8,
             "#7fbc41"
            ],
            [
             0.9,
             "#4d9221"
            ],
            [
             1,
             "#276419"
            ]
           ],
           "sequential": [
            [
             0,
             "#0d0887"
            ],
            [
             0.1111111111111111,
             "#46039f"
            ],
            [
             0.2222222222222222,
             "#7201a8"
            ],
            [
             0.3333333333333333,
             "#9c179e"
            ],
            [
             0.4444444444444444,
             "#bd3786"
            ],
            [
             0.5555555555555556,
             "#d8576b"
            ],
            [
             0.6666666666666666,
             "#ed7953"
            ],
            [
             0.7777777777777778,
             "#fb9f3a"
            ],
            [
             0.8888888888888888,
             "#fdca26"
            ],
            [
             1,
             "#f0f921"
            ]
           ],
           "sequentialminus": [
            [
             0,
             "#0d0887"
            ],
            [
             0.1111111111111111,
             "#46039f"
            ],
            [
             0.2222222222222222,
             "#7201a8"
            ],
            [
             0.3333333333333333,
             "#9c179e"
            ],
            [
             0.4444444444444444,
             "#bd3786"
            ],
            [
             0.5555555555555556,
             "#d8576b"
            ],
            [
             0.6666666666666666,
             "#ed7953"
            ],
            [
             0.7777777777777778,
             "#fb9f3a"
            ],
            [
             0.8888888888888888,
             "#fdca26"
            ],
            [
             1,
             "#f0f921"
            ]
           ]
          },
          "colorway": [
           "#636efa",
           "#EF553B",
           "#00cc96",
           "#ab63fa",
           "#FFA15A",
           "#19d3f3",
           "#FF6692",
           "#B6E880",
           "#FF97FF",
           "#FECB52"
          ],
          "font": {
           "color": "#2a3f5f"
          },
          "geo": {
           "bgcolor": "white",
           "lakecolor": "white",
           "landcolor": "white",
           "showlakes": true,
           "showland": true,
           "subunitcolor": "#C8D4E3"
          },
          "hoverlabel": {
           "align": "left"
          },
          "hovermode": "closest",
          "mapbox": {
           "style": "light"
          },
          "paper_bgcolor": "white",
          "plot_bgcolor": "white",
          "polar": {
           "angularaxis": {
            "gridcolor": "#EBF0F8",
            "linecolor": "#EBF0F8",
            "ticks": ""
           },
           "bgcolor": "white",
           "radialaxis": {
            "gridcolor": "#EBF0F8",
            "linecolor": "#EBF0F8",
            "ticks": ""
           }
          },
          "scene": {
           "xaxis": {
            "backgroundcolor": "white",
            "gridcolor": "#DFE8F3",
            "gridwidth": 2,
            "linecolor": "#EBF0F8",
            "showbackground": true,
            "ticks": "",
            "zerolinecolor": "#EBF0F8"
           },
           "yaxis": {
            "backgroundcolor": "white",
            "gridcolor": "#DFE8F3",
            "gridwidth": 2,
            "linecolor": "#EBF0F8",
            "showbackground": true,
            "ticks": "",
            "zerolinecolor": "#EBF0F8"
           },
           "zaxis": {
            "backgroundcolor": "white",
            "gridcolor": "#DFE8F3",
            "gridwidth": 2,
            "linecolor": "#EBF0F8",
            "showbackground": true,
            "ticks": "",
            "zerolinecolor": "#EBF0F8"
           }
          },
          "shapedefaults": {
           "line": {
            "color": "#2a3f5f"
           }
          },
          "ternary": {
           "aaxis": {
            "gridcolor": "#DFE8F3",
            "linecolor": "#A2B1C6",
            "ticks": ""
           },
           "baxis": {
            "gridcolor": "#DFE8F3",
            "linecolor": "#A2B1C6",
            "ticks": ""
           },
           "bgcolor": "white",
           "caxis": {
            "gridcolor": "#DFE8F3",
            "linecolor": "#A2B1C6",
            "ticks": ""
           }
          },
          "title": {
           "x": 0.05
          },
          "xaxis": {
           "automargin": true,
           "gridcolor": "#EBF0F8",
           "linecolor": "#EBF0F8",
           "ticks": "",
           "title": {
            "standoff": 15
           },
           "zerolinecolor": "#EBF0F8",
           "zerolinewidth": 2
          },
          "yaxis": {
           "automargin": true,
           "gridcolor": "#EBF0F8",
           "linecolor": "#EBF0F8",
           "ticks": "",
           "title": {
            "standoff": 15
           },
           "zerolinecolor": "#EBF0F8",
           "zerolinewidth": 2
          }
         }
        },
        "xaxis": {
         "anchor": "y",
         "domain": [
          0,
          1
         ],
         "title": {
          "text": "PC1"
         }
        },
        "yaxis": {
         "anchor": "x",
         "domain": [
          0,
          1
         ],
         "title": {
          "text": "PC2"
         }
        }
       }
      }
     },
     "metadata": {},
     "output_type": "display_data"
    }
   ],
   "source": [
    "\n",
    "# Standardisation des données\n",
    "scaler = StandardScaler()\n",
    "df_standardise = scaler.fit_transform(df_numeric)\n",
    "\n",
    "# Clustering avec Gaussian Mixture\n",
    "gmm = GaussianMixture(n_components=n_clusters, random_state=42)  # 3 clusters par exemple\n",
    "gmm.fit(df_standardise)\n",
    "labels = gmm.predict(df_standardise)\n",
    "\n",
    "# Ajout des labels au dataframe\n",
    "principal_df['cluster'] = labels\n",
    "\n",
    "# Convertir les clusters en type catégoriel pour légende continue\n",
    "principal_df[\"cluster\"] = principal_df[\"cluster\"].astype(str)\n",
    "\n",
    "# Visualisation\n",
    "fig = px.scatter(\n",
    "    template='plotly_white',\n",
    "    data_frame=principal_df, \n",
    "    x='PC1', \n",
    "    y='PC2', \n",
    "    color='cluster', \n",
    "    hover_name='Country name',\n",
    "    color_discrete_sequence=px.colors.qualitative.G10,\n",
    ")\n",
    "fig.update_layout(showlegend=False)\n",
    "fig.show()"
   ]
  },
  {
   "cell_type": "markdown",
   "metadata": {},
   "source": [
    "# Consensus clustering\n"
   ]
  },
  {
   "cell_type": "markdown",
   "metadata": {},
   "source": [
    "### Avec les deux méthodes"
   ]
  },
  {
   "cell_type": "code",
   "execution_count": 35,
   "metadata": {},
   "outputs": [
    {
     "name": "stderr",
     "output_type": "stream",
     "text": [
      "C:\\Users\\Estelle\\AppData\\Local\\Temp\\ipykernel_10172\\958036321.py:47: RuntimeWarning:\n",
      "\n",
      "divide by zero encountered in divide\n",
      "\n",
      "c:\\Users\\Estelle\\AppData\\Local\\Programs\\Python\\Python311\\Lib\\site-packages\\sklearn\\manifold\\_spectral_embedding.py:329: UserWarning:\n",
      "\n",
      "Graph is not fully connected, spectral embedding may not work as expected.\n",
      "\n"
     ]
    },
    {
     "data": {
      "application/vnd.plotly.v1+json": {
       "config": {
        "plotlyServerURL": "https://plot.ly"
       },
       "data": [
        {
         "hovertemplate": "PC1=%{x}<br>PC2=%{y}<br>Cluster=%{marker.color}<extra></extra>",
         "legendgroup": "",
         "marker": {
          "color": [
           2,
           2,
           0,
           1,
           2,
           1,
           0,
           1,
           0,
           0,
           0,
           1,
           0,
           0,
           2,
           0,
           2,
           1,
           0,
           0,
           0,
           0,
           1,
           2,
           0,
           2,
           2,
           1,
           1,
           0,
           0,
           0,
           2,
           0,
           2,
           0,
           2,
           1,
           2,
           1,
           1,
           0,
           2,
           1,
           0,
           0,
           2,
           1,
           2,
           1,
           1,
           2,
           2,
           0,
           2,
           1,
           2,
           0,
           1,
           0,
           2,
           1,
           1,
           2,
           2,
           1,
           1,
           2,
           2,
           0,
           1,
           2,
           2,
           0,
           0,
           2,
           2,
           1,
           0,
           1,
           0,
           0,
           2,
           0,
           1,
           2,
           2,
           0,
           1,
           0,
           2,
           0,
           2,
           0,
           0,
           2,
           2,
           0,
           2,
           2,
           1,
           0,
           1,
           0,
           0,
           0,
           0,
           0,
           1,
           2,
           1,
           0,
           0,
           0,
           0,
           1,
           2,
           1,
           2,
           1,
           1,
           1,
           0,
           2,
           2,
           2,
           2,
           0,
           2,
           2,
           0,
           0,
           0,
           0,
           0,
           1,
           1,
           2,
           0,
           2,
           0,
           0,
           2,
           0,
           1,
           1,
           1,
           0,
           1,
           0,
           0,
           2,
           1,
           2,
           0,
           1,
           1,
           2,
           2,
           0,
           0,
           2,
           2,
           2,
           0,
           2,
           1,
           0,
           0,
           0,
           0,
           0,
           1,
           0,
           1,
           1,
           1,
           0,
           1,
           1,
           2,
           0,
           2,
           1,
           1,
           2,
           1,
           0,
           1,
           1,
           2,
           2,
           1,
           2,
           1,
           1,
           1,
           1,
           0,
           2,
           0,
           0,
           1,
           1,
           0,
           1,
           2,
           2,
           1,
           0,
           0,
           2,
           1,
           1,
           2,
           2,
           2,
           2,
           0,
           2,
           2,
           1,
           2,
           2,
           0,
           1,
           2,
           2,
           1,
           0,
           0,
           2,
           0,
           2,
           1,
           1,
           2,
           1,
           2,
           2,
           2,
           1,
           1,
           0,
           2,
           1,
           1,
           1,
           2,
           1,
           2,
           1,
           2,
           1,
           1,
           2,
           1,
           0,
           2,
           0,
           0,
           0,
           2,
           0,
           1,
           1,
           2,
           1,
           1,
           0,
           0,
           1,
           1,
           1,
           2,
           2,
           2,
           0,
           0,
           0,
           1,
           1,
           1,
           1,
           2,
           1,
           2,
           1,
           1,
           2,
           0,
           1,
           1,
           0,
           2,
           0,
           1,
           0,
           2,
           2
          ],
          "coloraxis": "coloraxis",
          "symbol": "circle"
         },
         "mode": "markers",
         "name": "",
         "orientation": "v",
         "showlegend": false,
         "type": "scatter",
         "x": [
          -1.1725229179727275,
          -1.2543187453076992,
          -0.019712529677595392,
          1.2262054252771342,
          -1.4945163945715483,
          1.4455243425707671,
          -0.15215222032635287,
          1.3548207273990105,
          -0.2852019703929523,
          -0.43044282268532985,
          -0.31019280773758906,
          1.3434165015685613,
          -0.14487463523652125,
          -0.47614199482981184,
          -1.2115353758276526,
          -0.3306587671509724,
          -1.4107769709156697,
          0.8575683718693151,
          -0.16767372730054841,
          -0.06778175188051153,
          0.04882599002686918,
          -0.22036767258877024,
          1.4694806767529698,
          -1.1017445498277831,
          -0.28198837679364375,
          -0.970779797577499,
          -1.1964691199388198,
          1.1037236359597833,
          1.2681043802302852,
          -0.36889205670925035,
          -0.3894957687609114,
          -0.4058846460468983,
          -0.9094854879255047,
          -0.14380793097375597,
          -1.3878625781334104,
          -0.14108185720157718,
          -0.9244448645928646,
          1.3205637965598458,
          -1.1006640704592325,
          1.3403042796844988,
          1.528992392303199,
          -0.13494482037138025,
          -1.1782836348010752,
          1.2472414079193068,
          -0.19455254567630853,
          -0.11376528406702507,
          -1.064238770348026,
          1.1716108255429736,
          -1.009979860776267,
          1.5940749295412255,
          1.286062707595407,
          -1.0804609580438034,
          -1.0040661263233115,
          0.11394784914093083,
          -0.8383137929422152,
          1.3756476325964866,
          -0.9983852424354177,
          0.00901041034794091,
          1.2937543411894237,
          -0.2814216075266421,
          -1.0307806338791239,
          1.705640561948838,
          1.4540781800930709,
          -0.4508881381443376,
          -1.1296118831540656,
          1.0873678367428803,
          1.1240733381892933,
          -0.9336989717272619,
          -1.4262447617793501,
          -0.40413293827674207,
          1.5368583793280908,
          -0.8629661342574944,
          -1.2215459852513364,
          -0.09095477606208933,
          -0.26744458690767414,
          -1.0236744511378872,
          -1.5004957979617979,
          1.11577481138373,
          -0.30997500184837107,
          1.5111524193512929,
          -0.39404285767001856,
          -0.20215965399864852,
          -0.9766713840203849,
          -0.119910829402938,
          1.4644438764467835,
          -0.9083930557351927,
          -0.8406623359493096,
          0.19305720855527445,
          1.6306717187788182,
          -0.46845268894333625,
          -1.419315020646679,
          -0.19477980419138372,
          -0.9811455733537662,
          -0.0007740300927850962,
          -0.29551912659453594,
          -1.1917533150400346,
          -1.296579234109755,
          -0.13446911982754614,
          -1.2345038593217879,
          -0.9945136526533368,
          1.1737356554852663,
          -0.1145011962563517,
          1.2281550017670915,
          -0.026139691380971174,
          -0.35863385504482603,
          -0.1381240630189886,
          -0.11739101982308658,
          -0.13638422644262085,
          1.7097500265275762,
          -1.364076875429913,
          1.410566925249139,
          -0.34721978592040403,
          -0.3523676213298408,
          -0.17370040286081057,
          -0.19022577697307128,
          1.3112009545740566,
          -1.2903843115743465,
          0.9212033308428805,
          -1.4603884168534582,
          1.0654219482317773,
          1.3765243911693887,
          1.3163064647894185,
          0.09863103804027101,
          -0.9612444298452785,
          -1.011058496483576,
          -1.104924082625609,
          -0.9535738136154256,
          -0.32553320686625303,
          -0.8672255980077842,
          -1.1869825118352428,
          0.0334185010381128,
          -0.5788119986504621,
          -0.16875809871850536,
          -0.5392750323404295,
          -0.48902187725055063,
          1.3735957829987104,
          1.2190901298178891,
          -1.1338766994905738,
          -0.18643007388979996,
          -1.1836395802581163,
          -0.28322365713021863,
          -0.23752060476395864,
          -0.6585393276074981,
          -0.16971947335880572,
          0.9607221821248161,
          1.1247138548264444,
          1.436387760091157,
          -0.13104107786562968,
          1.5311856504810633,
          -0.32616601597517086,
          -0.37266715330891237,
          -0.678123457821671,
          1.3279112615282318,
          -1.3917220016521483,
          -0.12707837886305054,
          1.0257981708296795,
          1.2668263370772155,
          -1.1870321803380226,
          -0.9485921084407102,
          -0.3677382962990795,
          -0.7217776803787198,
          -1.2574198268568042,
          -0.7624729169624754,
          -0.8338438098888543,
          -0.17560113942923294,
          -0.9011664747439139,
          1.1745325007313603,
          -0.17518885030646275,
          -0.0810214643575291,
          -0.021553754511574263,
          0.0456090884211859,
          -0.37499224913376233,
          1.0993384114942157,
          -0.2785410132150704,
          1.0704205757318308,
          1.2756010674611094,
          1.448514499302765,
          -0.24145051619089558,
          1.703422129647766,
          1.3978932137501194,
          -1.0611746731850393,
          -0.29850143261506423,
          -1.2139789746527982,
          1.6035372214765813,
          1.3870369405090954,
          -1.5829340636501064,
          1.336716824395468,
          0.11145038920191427,
          0.6095361595168348,
          1.1808537810562174,
          -1.0916185002801606,
          -0.7466739945229642,
          1.1022395696654341,
          -1.4064743558163184,
          1.1216417275869774,
          1.0013367085049356,
          1.2667237340847728,
          1.7078658342246649,
          -0.3862621653655889,
          -1.0417427580183647,
          -0.03686055225101892,
          -0.21105978495792377,
          1.1029078828917411,
          1.150399473737337,
          -0.02175595242621388,
          1.3340126558993328,
          -1.2798766343563819,
          -1.2107053516534396,
          1.2903847572013134,
          -0.11371624979645518,
          -0.16714879002722183,
          -1.2756338859433596,
          1.5665671428932173,
          1.0134411627591404,
          -1.0689387860373172,
          -0.7724247847910786,
          -0.9497771958680046,
          -0.961139360610207,
          -0.43975270587279386,
          -1.134932515263526,
          -0.909675212157241,
          0.8374273796397649,
          -1.2330948685719416,
          -1.3448852972330403,
          -0.18482120437377506,
          1.1089652151221108,
          -1.1694498286858477,
          -0.734737426815894,
          1.2063020578446868,
          -0.20319809827934784,
          -0.019811396292739824,
          -0.8899382856291854,
          -0.25737060976922527,
          -1.3201639605520623,
          1.279896655977889,
          1.4096884552777067,
          -1.2117788015441187,
          1.2663392040645995,
          -0.7433389218858374,
          -1.092312083305268,
          -1.019734482000102,
          1.336421542937648,
          1.5068022567867603,
          -0.05986628669009279,
          -0.7681892890630739,
          0.9454139454023563,
          1.411359037929316,
          1.271671613438262,
          -1.0258637480310175,
          1.3821842619184688,
          -1.0031386243950144,
          1.2484201940421593,
          -1.1996553937646892,
          1.7426835528661844,
          1.7172188800159278,
          -1.012157117155483,
          1.0815519556022823,
          -0.4583604208053564,
          -1.3803969184026792,
          -0.1276999873853263,
          -0.23304886922932236,
          0.022802399852251624,
          -1.0630554210571734,
          -0.5037353357905572,
          1.4389482321722662,
          1.1356288538946064,
          -1.0543002673378143,
          1.2848384855703838,
          1.4230148692985412,
          -0.2267055616564283,
          0.1346121097732372,
          1.2905234724360335,
          1.1743502565121804,
          1.3756450996851288,
          -1.0585757992530826,
          -0.8735985428991405,
          -1.1337812289487486,
          -0.41311324302694247,
          0.19722017145936915,
          -0.3601790422170611,
          1.1129821750198894,
          1.3611204203151526,
          1.5645540624225727,
          0.9752610944307465,
          -1.0097975787751932,
          1.283712244025887,
          -0.9472085955833286,
          1.4651736048131172,
          1.2396451299244915,
          -1.0005036390435555,
          -0.12137510174879743,
          1.1788099718018443,
          1.5078328062168298,
          -0.23227570456163787,
          -1.127569069836462,
          -0.42222149625083094,
          1.1015261802088685,
          -0.5153239014593238,
          -1.0750784319632989,
          -0.9014762350603478
         ],
         "xaxis": "x",
         "y": [
          -1.370374781834486,
          -1.3002039350175139,
          0.9707299571160269,
          0.2586746689909886,
          -1.3942394663733508,
          0.06884607336886116,
          1.212957308098599,
          0.00795054865629143,
          1.1268475795438484,
          1.2538628163280174,
          1.4341916819667953,
          -0.011532025034778718,
          0.8593065217932595,
          1.09140896592994,
          -1.315672633399445,
          1.1054318864419823,
          -1.2349568283460488,
          0.12108605406035892,
          1.3009297462958216,
          1.485192686382724,
          1.0310788371669377,
          1.2157825295086901,
          0.070788697060817,
          -1.2755333140093301,
          1.0846097209959074,
          -1.0248036414935984,
          -1.1282869968862843,
          0.40852242173224307,
          -0.04234954140883791,
          1.0318135952137544,
          1.069442926398365,
          1.227609392448856,
          -1.3713157628308321,
          0.9669754885566562,
          -1.0360683994958604,
          1.3519790589801775,
          -1.3812816043489717,
          0.016513826177269396,
          -1.3983349017672748,
          0.37591452397076924,
          -0.013757981356457902,
          1.1436197740111336,
          -1.3074432796298592,
          0.27964340092493145,
          0.9785971247652421,
          1.386800471932737,
          -1.3142447608161423,
          0.1053141741679199,
          -1.3043243161796496,
          -0.09371003279049497,
          -0.009157065056635195,
          -1.0190161768794879,
          -1.3839531467169321,
          1.076686021348635,
          -1.232026030278254,
          0.674002350658909,
          -1.3056978329805735,
          1.2170991233747046,
          0.19282345922526875,
          1.3142731197348418,
          -1.1259533465091758,
          -0.20143041952535834,
          0.1393108855766332,
          -1.0733639550462146,
          -1.0956846356125667,
          0.1671536286668229,
          0.06077636462784512,
          -1.411817403785607,
          -1.2505858099641132,
          1.2262701897732906,
          0.09613424095716248,
          -1.5074465028081607,
          -1.2099379809542514,
          1.1438636364710317,
          0.9341323653265854,
          -1.2497850634867136,
          -1.255648900764703,
          0.11564771625861865,
          1.110856329767363,
          0.022209598235509605,
          1.2022391366742888,
          1.3061912395238746,
          -1.389635034356951,
          1.3019703653723518,
          0.005962990052456715,
          -1.412581227623004,
          -1.203839028367413,
          1.2263064584422239,
          0.1540424708316489,
          1.0134123824301442,
          -1.1602636882690132,
          1.390813123622671,
          -1.1918885448079235,
          1.2044264712145936,
          1.2322536313914147,
          -1.4228621954876648,
          -1.263681030894729,
          1.2727548459624647,
          -1.5144053338396888,
          -0.959166430890088,
          -0.005562856173559929,
          1.2394197494908386,
          0.018616474649030747,
          1.0177010937017277,
          1.1082143217093907,
          0.8663026431961307,
          0.8889605574204155,
          1.2070953951483674,
          -0.022758117174668205,
          -1.1573064213631208,
          -0.150249272879511,
          1.1062765252039892,
          1.0791763959046674,
          0.9399788339384433,
          0.9953322268382949,
          0.0024470910974209916,
          -1.270913822673345,
          0.29714597506936713,
          -1.2952208165365688,
          -0.09014682965494644,
          0.3241210834680836,
          0.0948657000091503,
          0.9434319805712369,
          -1.1952685218827896,
          -1.355088867836632,
          -1.3863149514980684,
          -1.1279678069938002,
          1.2470948060901659,
          -1.319124858826432,
          -1.361782826057466,
          1.313772399705827,
          1.1508484708469262,
          0.855099066845074,
          1.0700477102230164,
          1.0462863710326662,
          0.2235323527157995,
          -0.09521327277534425,
          -1.38981728552587,
          1.119468657026434,
          -1.4019500312841924,
          1.2366712902107615,
          1.041175078602656,
          -0.9774832217538832,
          1.1097533556045565,
          0.019938617117425828,
          0.195457692708956,
          0.18792181320934798,
          1.279595706760215,
          0.0037509290661543286,
          1.189873563894587,
          0.9418556037956622,
          -1.2368904404896315,
          -0.0009435471227536436,
          -1.049520388773088,
          1.194217168982711,
          0.0425200319301871,
          0.04943361693751646,
          -1.3290485249668862,
          -1.4927847079186953,
          1.1780305591928277,
          1.278799310404714,
          -1.4507505119268278,
          -1.2247635347185903,
          -1.3037509927025384,
          0.9824741443128902,
          -1.2913766418835846,
          0.1279623925293646,
          1.526331991115793,
          1.1996357313052928,
          0.9692187266431708,
          1.268247118274943,
          1.3885948013066127,
          0.0025713946144241737,
          1.284001743273137,
          0.16265708241312832,
          0.16807042906444275,
          0.12061668246056512,
          1.5650795130395931,
          0.24867412680625334,
          0.18772827204831163,
          -1.2656864828928673,
          1.1715754529292357,
          -1.1561558162587178,
          -0.12271496278601125,
          0.26422283666855556,
          -1.3623894532263612,
          0.07333956996812262,
          1.1207974308362165,
          -0.06152268445471244,
          0.11268378878659065,
          -1.098162259936246,
          -1.4503435817073538,
          0.04449798254192262,
          -1.2115239548112524,
          0.12561103995629652,
          0.3691714347742107,
          -0.058226207723346295,
          0.18856882120727383,
          1.2735483749872192,
          -1.2047740976418893,
          1.180691350684688,
          1.1094372029171222,
          0.12971742582557802,
          0.22109628194814984,
          1.3593834863516754,
          0.31546712026007334,
          -1.1661926378746879,
          -1.4053183251500532,
          0.1827230712172759,
          1.0575556685441698,
          1.0789172098898423,
          -1.1387442222102242,
          0.23763557361045998,
          0.2313906436879768,
          -1.3675253135798238,
          -1.231034249591931,
          -0.8997622764712061,
          -1.2728301387536112,
          0.9557071893285669,
          -1.589364477785106,
          -1.5756729381866659,
          0.013676785796875692,
          -1.4567006206353317,
          -1.141214348300285,
          1.37405653545428,
          0.07566306242097372,
          -1.1853073796119764,
          -1.1092472825026973,
          0.20742781335297322,
          1.2062966627217449,
          1.4409050198169886,
          -0.9542468390273255,
          1.0338545279059412,
          -1.5497479908508802,
          -0.005302120656894468,
          0.046174867032031885,
          -1.2350603264734359,
          0.1106609265795888,
          -1.2797660523790255,
          -1.424843601638238,
          -0.9292145401504249,
          -0.03178921206363993,
          0.21235836099205804,
          1.0255779564149679,
          -1.160934821306114,
          0.0025740522863835023,
          0.03245801230208409,
          0.10005183062576307,
          -1.3785898175262032,
          0.062473671122227736,
          -1.3332964207917253,
          0.15354931931997495,
          -1.3725082198812708,
          -0.18863820566862446,
          -0.028933951876548767,
          -1.2752514368861845,
          0.08398952204442055,
          1.184535978194922,
          -1.0697174669731166,
          1.0471147462925705,
          1.2625264600283967,
          1.29529469871609,
          -1.3721000385906486,
          1.16518714122383,
          0.2156531283279655,
          0.22152326480578804,
          -1.1646253580414816,
          0.034856949972868444,
          0.18501740083683804,
          1.200323833699243,
          1.2705849504108837,
          -0.023612044495935403,
          0.25719275797489577,
          0.1704513877034455,
          -1.12889086107708,
          -1.3292104404126983,
          -1.1339950520427768,
          0.9744455008299869,
          1.1811753845599524,
          0.9263908741936309,
          0.05725168339389823,
          0.20979024832401572,
          -0.1235777204527332,
          -0.1192949222413652,
          -1.3048387258991037,
          -0.06956954751167582,
          -1.0358033801640432,
          0.19120383205936964,
          0.1816915487264491,
          -1.2471393250646101,
          1.096772277193132,
          0.18689947654520966,
          0.09450988473901252,
          1.2087037022315248,
          -1.3790795076265696,
          1.211506598996023,
          0.00848495065963763,
          1.1826919506242148,
          -0.989382771514047,
          -1.0377629777162212
         ],
         "yaxis": "y"
        }
       ],
       "layout": {
        "coloraxis": {
         "colorbar": {
          "title": {
           "text": "Cluster"
          }
         },
         "colorscale": [
          [
           0,
           "#440154"
          ],
          [
           0.1111111111111111,
           "#482878"
          ],
          [
           0.2222222222222222,
           "#3e4989"
          ],
          [
           0.3333333333333333,
           "#31688e"
          ],
          [
           0.4444444444444444,
           "#26828e"
          ],
          [
           0.5555555555555556,
           "#1f9e89"
          ],
          [
           0.6666666666666666,
           "#35b779"
          ],
          [
           0.7777777777777778,
           "#6ece58"
          ],
          [
           0.8888888888888888,
           "#b5de2b"
          ],
          [
           1,
           "#fde725"
          ]
         ]
        },
        "legend": {
         "tracegroupgap": 0
        },
        "showlegend": true,
        "template": {
         "data": {
          "bar": [
           {
            "error_x": {
             "color": "#2a3f5f"
            },
            "error_y": {
             "color": "#2a3f5f"
            },
            "marker": {
             "line": {
              "color": "white",
              "width": 0.5
             },
             "pattern": {
              "fillmode": "overlay",
              "size": 10,
              "solidity": 0.2
             }
            },
            "type": "bar"
           }
          ],
          "barpolar": [
           {
            "marker": {
             "line": {
              "color": "white",
              "width": 0.5
             },
             "pattern": {
              "fillmode": "overlay",
              "size": 10,
              "solidity": 0.2
             }
            },
            "type": "barpolar"
           }
          ],
          "carpet": [
           {
            "aaxis": {
             "endlinecolor": "#2a3f5f",
             "gridcolor": "#C8D4E3",
             "linecolor": "#C8D4E3",
             "minorgridcolor": "#C8D4E3",
             "startlinecolor": "#2a3f5f"
            },
            "baxis": {
             "endlinecolor": "#2a3f5f",
             "gridcolor": "#C8D4E3",
             "linecolor": "#C8D4E3",
             "minorgridcolor": "#C8D4E3",
             "startlinecolor": "#2a3f5f"
            },
            "type": "carpet"
           }
          ],
          "choropleth": [
           {
            "colorbar": {
             "outlinewidth": 0,
             "ticks": ""
            },
            "type": "choropleth"
           }
          ],
          "contour": [
           {
            "colorbar": {
             "outlinewidth": 0,
             "ticks": ""
            },
            "colorscale": [
             [
              0,
              "#0d0887"
             ],
             [
              0.1111111111111111,
              "#46039f"
             ],
             [
              0.2222222222222222,
              "#7201a8"
             ],
             [
              0.3333333333333333,
              "#9c179e"
             ],
             [
              0.4444444444444444,
              "#bd3786"
             ],
             [
              0.5555555555555556,
              "#d8576b"
             ],
             [
              0.6666666666666666,
              "#ed7953"
             ],
             [
              0.7777777777777778,
              "#fb9f3a"
             ],
             [
              0.8888888888888888,
              "#fdca26"
             ],
             [
              1,
              "#f0f921"
             ]
            ],
            "type": "contour"
           }
          ],
          "contourcarpet": [
           {
            "colorbar": {
             "outlinewidth": 0,
             "ticks": ""
            },
            "type": "contourcarpet"
           }
          ],
          "heatmap": [
           {
            "colorbar": {
             "outlinewidth": 0,
             "ticks": ""
            },
            "colorscale": [
             [
              0,
              "#0d0887"
             ],
             [
              0.1111111111111111,
              "#46039f"
             ],
             [
              0.2222222222222222,
              "#7201a8"
             ],
             [
              0.3333333333333333,
              "#9c179e"
             ],
             [
              0.4444444444444444,
              "#bd3786"
             ],
             [
              0.5555555555555556,
              "#d8576b"
             ],
             [
              0.6666666666666666,
              "#ed7953"
             ],
             [
              0.7777777777777778,
              "#fb9f3a"
             ],
             [
              0.8888888888888888,
              "#fdca26"
             ],
             [
              1,
              "#f0f921"
             ]
            ],
            "type": "heatmap"
           }
          ],
          "heatmapgl": [
           {
            "colorbar": {
             "outlinewidth": 0,
             "ticks": ""
            },
            "colorscale": [
             [
              0,
              "#0d0887"
             ],
             [
              0.1111111111111111,
              "#46039f"
             ],
             [
              0.2222222222222222,
              "#7201a8"
             ],
             [
              0.3333333333333333,
              "#9c179e"
             ],
             [
              0.4444444444444444,
              "#bd3786"
             ],
             [
              0.5555555555555556,
              "#d8576b"
             ],
             [
              0.6666666666666666,
              "#ed7953"
             ],
             [
              0.7777777777777778,
              "#fb9f3a"
             ],
             [
              0.8888888888888888,
              "#fdca26"
             ],
             [
              1,
              "#f0f921"
             ]
            ],
            "type": "heatmapgl"
           }
          ],
          "histogram": [
           {
            "marker": {
             "pattern": {
              "fillmode": "overlay",
              "size": 10,
              "solidity": 0.2
             }
            },
            "type": "histogram"
           }
          ],
          "histogram2d": [
           {
            "colorbar": {
             "outlinewidth": 0,
             "ticks": ""
            },
            "colorscale": [
             [
              0,
              "#0d0887"
             ],
             [
              0.1111111111111111,
              "#46039f"
             ],
             [
              0.2222222222222222,
              "#7201a8"
             ],
             [
              0.3333333333333333,
              "#9c179e"
             ],
             [
              0.4444444444444444,
              "#bd3786"
             ],
             [
              0.5555555555555556,
              "#d8576b"
             ],
             [
              0.6666666666666666,
              "#ed7953"
             ],
             [
              0.7777777777777778,
              "#fb9f3a"
             ],
             [
              0.8888888888888888,
              "#fdca26"
             ],
             [
              1,
              "#f0f921"
             ]
            ],
            "type": "histogram2d"
           }
          ],
          "histogram2dcontour": [
           {
            "colorbar": {
             "outlinewidth": 0,
             "ticks": ""
            },
            "colorscale": [
             [
              0,
              "#0d0887"
             ],
             [
              0.1111111111111111,
              "#46039f"
             ],
             [
              0.2222222222222222,
              "#7201a8"
             ],
             [
              0.3333333333333333,
              "#9c179e"
             ],
             [
              0.4444444444444444,
              "#bd3786"
             ],
             [
              0.5555555555555556,
              "#d8576b"
             ],
             [
              0.6666666666666666,
              "#ed7953"
             ],
             [
              0.7777777777777778,
              "#fb9f3a"
             ],
             [
              0.8888888888888888,
              "#fdca26"
             ],
             [
              1,
              "#f0f921"
             ]
            ],
            "type": "histogram2dcontour"
           }
          ],
          "mesh3d": [
           {
            "colorbar": {
             "outlinewidth": 0,
             "ticks": ""
            },
            "type": "mesh3d"
           }
          ],
          "parcoords": [
           {
            "line": {
             "colorbar": {
              "outlinewidth": 0,
              "ticks": ""
             }
            },
            "type": "parcoords"
           }
          ],
          "pie": [
           {
            "automargin": true,
            "type": "pie"
           }
          ],
          "scatter": [
           {
            "fillpattern": {
             "fillmode": "overlay",
             "size": 10,
             "solidity": 0.2
            },
            "type": "scatter"
           }
          ],
          "scatter3d": [
           {
            "line": {
             "colorbar": {
              "outlinewidth": 0,
              "ticks": ""
             }
            },
            "marker": {
             "colorbar": {
              "outlinewidth": 0,
              "ticks": ""
             }
            },
            "type": "scatter3d"
           }
          ],
          "scattercarpet": [
           {
            "marker": {
             "colorbar": {
              "outlinewidth": 0,
              "ticks": ""
             }
            },
            "type": "scattercarpet"
           }
          ],
          "scattergeo": [
           {
            "marker": {
             "colorbar": {
              "outlinewidth": 0,
              "ticks": ""
             }
            },
            "type": "scattergeo"
           }
          ],
          "scattergl": [
           {
            "marker": {
             "colorbar": {
              "outlinewidth": 0,
              "ticks": ""
             }
            },
            "type": "scattergl"
           }
          ],
          "scattermapbox": [
           {
            "marker": {
             "colorbar": {
              "outlinewidth": 0,
              "ticks": ""
             }
            },
            "type": "scattermapbox"
           }
          ],
          "scatterpolar": [
           {
            "marker": {
             "colorbar": {
              "outlinewidth": 0,
              "ticks": ""
             }
            },
            "type": "scatterpolar"
           }
          ],
          "scatterpolargl": [
           {
            "marker": {
             "colorbar": {
              "outlinewidth": 0,
              "ticks": ""
             }
            },
            "type": "scatterpolargl"
           }
          ],
          "scatterternary": [
           {
            "marker": {
             "colorbar": {
              "outlinewidth": 0,
              "ticks": ""
             }
            },
            "type": "scatterternary"
           }
          ],
          "surface": [
           {
            "colorbar": {
             "outlinewidth": 0,
             "ticks": ""
            },
            "colorscale": [
             [
              0,
              "#0d0887"
             ],
             [
              0.1111111111111111,
              "#46039f"
             ],
             [
              0.2222222222222222,
              "#7201a8"
             ],
             [
              0.3333333333333333,
              "#9c179e"
             ],
             [
              0.4444444444444444,
              "#bd3786"
             ],
             [
              0.5555555555555556,
              "#d8576b"
             ],
             [
              0.6666666666666666,
              "#ed7953"
             ],
             [
              0.7777777777777778,
              "#fb9f3a"
             ],
             [
              0.8888888888888888,
              "#fdca26"
             ],
             [
              1,
              "#f0f921"
             ]
            ],
            "type": "surface"
           }
          ],
          "table": [
           {
            "cells": {
             "fill": {
              "color": "#EBF0F8"
             },
             "line": {
              "color": "white"
             }
            },
            "header": {
             "fill": {
              "color": "#C8D4E3"
             },
             "line": {
              "color": "white"
             }
            },
            "type": "table"
           }
          ]
         },
         "layout": {
          "annotationdefaults": {
           "arrowcolor": "#2a3f5f",
           "arrowhead": 0,
           "arrowwidth": 1
          },
          "autotypenumbers": "strict",
          "coloraxis": {
           "colorbar": {
            "outlinewidth": 0,
            "ticks": ""
           }
          },
          "colorscale": {
           "diverging": [
            [
             0,
             "#8e0152"
            ],
            [
             0.1,
             "#c51b7d"
            ],
            [
             0.2,
             "#de77ae"
            ],
            [
             0.3,
             "#f1b6da"
            ],
            [
             0.4,
             "#fde0ef"
            ],
            [
             0.5,
             "#f7f7f7"
            ],
            [
             0.6,
             "#e6f5d0"
            ],
            [
             0.7,
             "#b8e186"
            ],
            [
             0.8,
             "#7fbc41"
            ],
            [
             0.9,
             "#4d9221"
            ],
            [
             1,
             "#276419"
            ]
           ],
           "sequential": [
            [
             0,
             "#0d0887"
            ],
            [
             0.1111111111111111,
             "#46039f"
            ],
            [
             0.2222222222222222,
             "#7201a8"
            ],
            [
             0.3333333333333333,
             "#9c179e"
            ],
            [
             0.4444444444444444,
             "#bd3786"
            ],
            [
             0.5555555555555556,
             "#d8576b"
            ],
            [
             0.6666666666666666,
             "#ed7953"
            ],
            [
             0.7777777777777778,
             "#fb9f3a"
            ],
            [
             0.8888888888888888,
             "#fdca26"
            ],
            [
             1,
             "#f0f921"
            ]
           ],
           "sequentialminus": [
            [
             0,
             "#0d0887"
            ],
            [
             0.1111111111111111,
             "#46039f"
            ],
            [
             0.2222222222222222,
             "#7201a8"
            ],
            [
             0.3333333333333333,
             "#9c179e"
            ],
            [
             0.4444444444444444,
             "#bd3786"
            ],
            [
             0.5555555555555556,
             "#d8576b"
            ],
            [
             0.6666666666666666,
             "#ed7953"
            ],
            [
             0.7777777777777778,
             "#fb9f3a"
            ],
            [
             0.8888888888888888,
             "#fdca26"
            ],
            [
             1,
             "#f0f921"
            ]
           ]
          },
          "colorway": [
           "#636efa",
           "#EF553B",
           "#00cc96",
           "#ab63fa",
           "#FFA15A",
           "#19d3f3",
           "#FF6692",
           "#B6E880",
           "#FF97FF",
           "#FECB52"
          ],
          "font": {
           "color": "#2a3f5f"
          },
          "geo": {
           "bgcolor": "white",
           "lakecolor": "white",
           "landcolor": "white",
           "showlakes": true,
           "showland": true,
           "subunitcolor": "#C8D4E3"
          },
          "hoverlabel": {
           "align": "left"
          },
          "hovermode": "closest",
          "mapbox": {
           "style": "light"
          },
          "paper_bgcolor": "white",
          "plot_bgcolor": "white",
          "polar": {
           "angularaxis": {
            "gridcolor": "#EBF0F8",
            "linecolor": "#EBF0F8",
            "ticks": ""
           },
           "bgcolor": "white",
           "radialaxis": {
            "gridcolor": "#EBF0F8",
            "linecolor": "#EBF0F8",
            "ticks": ""
           }
          },
          "scene": {
           "xaxis": {
            "backgroundcolor": "white",
            "gridcolor": "#DFE8F3",
            "gridwidth": 2,
            "linecolor": "#EBF0F8",
            "showbackground": true,
            "ticks": "",
            "zerolinecolor": "#EBF0F8"
           },
           "yaxis": {
            "backgroundcolor": "white",
            "gridcolor": "#DFE8F3",
            "gridwidth": 2,
            "linecolor": "#EBF0F8",
            "showbackground": true,
            "ticks": "",
            "zerolinecolor": "#EBF0F8"
           },
           "zaxis": {
            "backgroundcolor": "white",
            "gridcolor": "#DFE8F3",
            "gridwidth": 2,
            "linecolor": "#EBF0F8",
            "showbackground": true,
            "ticks": "",
            "zerolinecolor": "#EBF0F8"
           }
          },
          "shapedefaults": {
           "line": {
            "color": "#2a3f5f"
           }
          },
          "ternary": {
           "aaxis": {
            "gridcolor": "#DFE8F3",
            "linecolor": "#A2B1C6",
            "ticks": ""
           },
           "baxis": {
            "gridcolor": "#DFE8F3",
            "linecolor": "#A2B1C6",
            "ticks": ""
           },
           "bgcolor": "white",
           "caxis": {
            "gridcolor": "#DFE8F3",
            "linecolor": "#A2B1C6",
            "ticks": ""
           }
          },
          "title": {
           "x": 0.05
          },
          "xaxis": {
           "automargin": true,
           "gridcolor": "#EBF0F8",
           "linecolor": "#EBF0F8",
           "ticks": "",
           "title": {
            "standoff": 15
           },
           "zerolinecolor": "#EBF0F8",
           "zerolinewidth": 2
          },
          "yaxis": {
           "automargin": true,
           "gridcolor": "#EBF0F8",
           "linecolor": "#EBF0F8",
           "ticks": "",
           "title": {
            "standoff": 15
           },
           "zerolinecolor": "#EBF0F8",
           "zerolinewidth": 2
          }
         }
        },
        "title": {
         "text": "Clustering Consensuel avec K-Means et GMM"
        },
        "xaxis": {
         "anchor": "y",
         "domain": [
          0,
          1
         ],
         "title": {
          "text": "PC1"
         }
        },
        "yaxis": {
         "anchor": "x",
         "domain": [
          0,
          1
         ],
         "title": {
          "text": "PC2"
         }
        }
       }
      }
     },
     "metadata": {},
     "output_type": "display_data"
    }
   ],
   "source": [
    "import numpy as np\n",
    "import pandas as pd\n",
    "from sklearn.cluster import KMeans\n",
    "from sklearn.mixture import GaussianMixture\n",
    "from sklearn.preprocessing import StandardScaler\n",
    "from sklearn.metrics import pairwise_distances\n",
    "from sklearn.cluster import SpectralClustering\n",
    "import plotly.express as px\n",
    "\n",
    "# 1. Générer un jeu de données pour l'exemple (remplacer par vos propres données)\n",
    "from sklearn.datasets import make_blobs\n",
    "\n",
    "df_standardise = make_blobs(n_samples=300, centers=3, random_state=42)[0]\n",
    "\n",
    "# Standardisation des données\n",
    "scaler = StandardScaler()\n",
    "df_standardise = scaler.fit_transform(df_standardise)\n",
    "\n",
    "# 2. Appliquer K-Means\n",
    "kmeans = KMeans(n_clusters=3, random_state=42)\n",
    "kmeans_labels = kmeans.fit_predict(df_standardise)\n",
    "\n",
    "# 3. Appliquer Gaussian Mixture Models (GMM)\n",
    "gmm = GaussianMixture(n_components=3, random_state=42)\n",
    "gmm_labels = gmm.fit_predict(df_standardise)\n",
    "\n",
    "# 4. Construction de la matrice de consensus\n",
    "n_samples = df_standardise.shape[0]\n",
    "n_iterations = 2  # Nombre de méthodes de clustering\n",
    "\n",
    "C = np.zeros((n_samples, n_samples))  # Matrice de consensus initialisée à 0\n",
    "\n",
    "# Comparaison des labels pour K-Means et GMM\n",
    "for i in range(n_samples):\n",
    "    for j in range(i + 1, n_samples):\n",
    "        if kmeans_labels[i] == kmeans_labels[j]:\n",
    "            C[i, j] += 1\n",
    "            C[j, i] += 1\n",
    "        if gmm_labels[i] == gmm_labels[j]:\n",
    "            C[i, j] += 1\n",
    "            C[j, i] += 1\n",
    "\n",
    "# Normaliser la matrice de consensus\n",
    "C = C / n_iterations\n",
    "\n",
    "# 5. Créer la matrice de distance (en évitant les divisions par 0)\n",
    "distance_matrix = 1 / (C + np.eye(n_samples))  # Ajout de l'identité pour éviter division par zéro\n",
    "distance_matrix[np.isinf(distance_matrix)] = 0  # Remplacer les infinis par 0\n",
    "distance_matrix[np.isnan(distance_matrix)] = 0  # Remplacer les NaN par 0\n",
    "\n",
    "# 6. Appliquer Spectral Clustering sur la matrice de distance\n",
    "spectral = SpectralClustering(n_clusters=3, affinity='precomputed', random_state=42)\n",
    "final_labels = spectral.fit_predict(distance_matrix)\n",
    "\n",
    "# 7. Visualisation avec Plotly\n",
    "# Convertir les données en DataFrame pour une meilleure gestion avec Plotly\n",
    "principal_df = pd.DataFrame(df_standardise, columns=[\"PC1\", \"PC2\"])\n",
    "principal_df['cluster'] = final_labels\n",
    "\n",
    "# Visualisation avec Plotly\n",
    "fig = px.scatter(\n",
    "    principal_df,\n",
    "    x='PC1', \n",
    "    y='PC2', \n",
    "    color='cluster',\n",
    "    title=\"Clustering Consensuel avec K-Means et GMM\",\n",
    "    labels={'cluster': 'Cluster'},\n",
    "    color_continuous_scale=\"Viridis\"\n",
    ")\n",
    "\n",
    "fig.update_layout(\n",
    "    template=\"plotly_white\",  # Fond blanc pour un look propre\n",
    "    showlegend=True\n",
    ")\n",
    "\n",
    "fig.show()\n"
   ]
  },
  {
   "cell_type": "markdown",
   "metadata": {},
   "source": [
    "### DBSCAN"
   ]
  },
  {
   "cell_type": "code",
   "execution_count": 36,
   "metadata": {},
   "outputs": [
    {
     "ename": "ValueError",
     "evalue": "Length of values (153) does not match length of index (300)",
     "output_type": "error",
     "traceback": [
      "\u001b[1;31m---------------------------------------------------------------------------\u001b[0m",
      "\u001b[1;31mValueError\u001b[0m                                Traceback (most recent call last)",
      "Cell \u001b[1;32mIn[36], line 16\u001b[0m\n\u001b[0;32m     13\u001b[0m labels \u001b[38;5;241m=\u001b[39m dbscan\u001b[38;5;241m.\u001b[39mlabels_\n\u001b[0;32m     15\u001b[0m \u001b[38;5;66;03m# Ajout des labels au dataframe\u001b[39;00m\n\u001b[1;32m---> 16\u001b[0m \u001b[43mprincipal_df\u001b[49m\u001b[43m[\u001b[49m\u001b[38;5;124;43m'\u001b[39;49m\u001b[38;5;124;43mcluster\u001b[39;49m\u001b[38;5;124;43m'\u001b[39;49m\u001b[43m]\u001b[49m \u001b[38;5;241m=\u001b[39m labels\n\u001b[0;32m     18\u001b[0m \u001b[38;5;66;03m# Convertir les clusters en type catégoriel pour légende continue\u001b[39;00m\n\u001b[0;32m     19\u001b[0m principal_df[\u001b[38;5;124m\"\u001b[39m\u001b[38;5;124mcluster\u001b[39m\u001b[38;5;124m\"\u001b[39m] \u001b[38;5;241m=\u001b[39m principal_df[\u001b[38;5;124m\"\u001b[39m\u001b[38;5;124mcluster\u001b[39m\u001b[38;5;124m\"\u001b[39m]\u001b[38;5;241m.\u001b[39mastype(\u001b[38;5;28mstr\u001b[39m)\n",
      "File \u001b[1;32mc:\\Users\\Estelle\\AppData\\Local\\Programs\\Python\\Python311\\Lib\\site-packages\\pandas\\core\\frame.py:4311\u001b[0m, in \u001b[0;36mDataFrame.__setitem__\u001b[1;34m(self, key, value)\u001b[0m\n\u001b[0;32m   4308\u001b[0m     \u001b[38;5;28mself\u001b[39m\u001b[38;5;241m.\u001b[39m_setitem_array([key], value)\n\u001b[0;32m   4309\u001b[0m \u001b[38;5;28;01melse\u001b[39;00m:\n\u001b[0;32m   4310\u001b[0m     \u001b[38;5;66;03m# set column\u001b[39;00m\n\u001b[1;32m-> 4311\u001b[0m     \u001b[38;5;28;43mself\u001b[39;49m\u001b[38;5;241;43m.\u001b[39;49m\u001b[43m_set_item\u001b[49m\u001b[43m(\u001b[49m\u001b[43mkey\u001b[49m\u001b[43m,\u001b[49m\u001b[43m \u001b[49m\u001b[43mvalue\u001b[49m\u001b[43m)\u001b[49m\n",
      "File \u001b[1;32mc:\\Users\\Estelle\\AppData\\Local\\Programs\\Python\\Python311\\Lib\\site-packages\\pandas\\core\\frame.py:4524\u001b[0m, in \u001b[0;36mDataFrame._set_item\u001b[1;34m(self, key, value)\u001b[0m\n\u001b[0;32m   4514\u001b[0m \u001b[38;5;28;01mdef\u001b[39;00m \u001b[38;5;21m_set_item\u001b[39m(\u001b[38;5;28mself\u001b[39m, key, value) \u001b[38;5;241m-\u001b[39m\u001b[38;5;241m>\u001b[39m \u001b[38;5;28;01mNone\u001b[39;00m:\n\u001b[0;32m   4515\u001b[0m \u001b[38;5;250m    \u001b[39m\u001b[38;5;124;03m\"\"\"\u001b[39;00m\n\u001b[0;32m   4516\u001b[0m \u001b[38;5;124;03m    Add series to DataFrame in specified column.\u001b[39;00m\n\u001b[0;32m   4517\u001b[0m \n\u001b[1;32m   (...)\u001b[0m\n\u001b[0;32m   4522\u001b[0m \u001b[38;5;124;03m    ensure homogeneity.\u001b[39;00m\n\u001b[0;32m   4523\u001b[0m \u001b[38;5;124;03m    \"\"\"\u001b[39;00m\n\u001b[1;32m-> 4524\u001b[0m     value, refs \u001b[38;5;241m=\u001b[39m \u001b[38;5;28;43mself\u001b[39;49m\u001b[38;5;241;43m.\u001b[39;49m\u001b[43m_sanitize_column\u001b[49m\u001b[43m(\u001b[49m\u001b[43mvalue\u001b[49m\u001b[43m)\u001b[49m\n\u001b[0;32m   4526\u001b[0m     \u001b[38;5;28;01mif\u001b[39;00m (\n\u001b[0;32m   4527\u001b[0m         key \u001b[38;5;129;01min\u001b[39;00m \u001b[38;5;28mself\u001b[39m\u001b[38;5;241m.\u001b[39mcolumns\n\u001b[0;32m   4528\u001b[0m         \u001b[38;5;129;01mand\u001b[39;00m value\u001b[38;5;241m.\u001b[39mndim \u001b[38;5;241m==\u001b[39m \u001b[38;5;241m1\u001b[39m\n\u001b[0;32m   4529\u001b[0m         \u001b[38;5;129;01mand\u001b[39;00m \u001b[38;5;129;01mnot\u001b[39;00m \u001b[38;5;28misinstance\u001b[39m(value\u001b[38;5;241m.\u001b[39mdtype, ExtensionDtype)\n\u001b[0;32m   4530\u001b[0m     ):\n\u001b[0;32m   4531\u001b[0m         \u001b[38;5;66;03m# broadcast across multiple columns if necessary\u001b[39;00m\n\u001b[0;32m   4532\u001b[0m         \u001b[38;5;28;01mif\u001b[39;00m \u001b[38;5;129;01mnot\u001b[39;00m \u001b[38;5;28mself\u001b[39m\u001b[38;5;241m.\u001b[39mcolumns\u001b[38;5;241m.\u001b[39mis_unique \u001b[38;5;129;01mor\u001b[39;00m \u001b[38;5;28misinstance\u001b[39m(\u001b[38;5;28mself\u001b[39m\u001b[38;5;241m.\u001b[39mcolumns, MultiIndex):\n",
      "File \u001b[1;32mc:\\Users\\Estelle\\AppData\\Local\\Programs\\Python\\Python311\\Lib\\site-packages\\pandas\\core\\frame.py:5266\u001b[0m, in \u001b[0;36mDataFrame._sanitize_column\u001b[1;34m(self, value)\u001b[0m\n\u001b[0;32m   5263\u001b[0m     \u001b[38;5;28;01mreturn\u001b[39;00m _reindex_for_setitem(value, \u001b[38;5;28mself\u001b[39m\u001b[38;5;241m.\u001b[39mindex)\n\u001b[0;32m   5265\u001b[0m \u001b[38;5;28;01mif\u001b[39;00m is_list_like(value):\n\u001b[1;32m-> 5266\u001b[0m     \u001b[43mcom\u001b[49m\u001b[38;5;241;43m.\u001b[39;49m\u001b[43mrequire_length_match\u001b[49m\u001b[43m(\u001b[49m\u001b[43mvalue\u001b[49m\u001b[43m,\u001b[49m\u001b[43m \u001b[49m\u001b[38;5;28;43mself\u001b[39;49m\u001b[38;5;241;43m.\u001b[39;49m\u001b[43mindex\u001b[49m\u001b[43m)\u001b[49m\n\u001b[0;32m   5267\u001b[0m arr \u001b[38;5;241m=\u001b[39m sanitize_array(value, \u001b[38;5;28mself\u001b[39m\u001b[38;5;241m.\u001b[39mindex, copy\u001b[38;5;241m=\u001b[39m\u001b[38;5;28;01mTrue\u001b[39;00m, allow_2d\u001b[38;5;241m=\u001b[39m\u001b[38;5;28;01mTrue\u001b[39;00m)\n\u001b[0;32m   5268\u001b[0m \u001b[38;5;28;01mif\u001b[39;00m (\n\u001b[0;32m   5269\u001b[0m     \u001b[38;5;28misinstance\u001b[39m(value, Index)\n\u001b[0;32m   5270\u001b[0m     \u001b[38;5;129;01mand\u001b[39;00m value\u001b[38;5;241m.\u001b[39mdtype \u001b[38;5;241m==\u001b[39m \u001b[38;5;124m\"\u001b[39m\u001b[38;5;124mobject\u001b[39m\u001b[38;5;124m\"\u001b[39m\n\u001b[1;32m   (...)\u001b[0m\n\u001b[0;32m   5273\u001b[0m     \u001b[38;5;66;03m# TODO: Remove kludge in sanitize_array for string mode when enforcing\u001b[39;00m\n\u001b[0;32m   5274\u001b[0m     \u001b[38;5;66;03m# this deprecation\u001b[39;00m\n",
      "File \u001b[1;32mc:\\Users\\Estelle\\AppData\\Local\\Programs\\Python\\Python311\\Lib\\site-packages\\pandas\\core\\common.py:573\u001b[0m, in \u001b[0;36mrequire_length_match\u001b[1;34m(data, index)\u001b[0m\n\u001b[0;32m    569\u001b[0m \u001b[38;5;250m\u001b[39m\u001b[38;5;124;03m\"\"\"\u001b[39;00m\n\u001b[0;32m    570\u001b[0m \u001b[38;5;124;03mCheck the length of data matches the length of the index.\u001b[39;00m\n\u001b[0;32m    571\u001b[0m \u001b[38;5;124;03m\"\"\"\u001b[39;00m\n\u001b[0;32m    572\u001b[0m \u001b[38;5;28;01mif\u001b[39;00m \u001b[38;5;28mlen\u001b[39m(data) \u001b[38;5;241m!=\u001b[39m \u001b[38;5;28mlen\u001b[39m(index):\n\u001b[1;32m--> 573\u001b[0m     \u001b[38;5;28;01mraise\u001b[39;00m \u001b[38;5;167;01mValueError\u001b[39;00m(\n\u001b[0;32m    574\u001b[0m         \u001b[38;5;124m\"\u001b[39m\u001b[38;5;124mLength of values \u001b[39m\u001b[38;5;124m\"\u001b[39m\n\u001b[0;32m    575\u001b[0m         \u001b[38;5;124mf\u001b[39m\u001b[38;5;124m\"\u001b[39m\u001b[38;5;124m(\u001b[39m\u001b[38;5;132;01m{\u001b[39;00m\u001b[38;5;28mlen\u001b[39m(data)\u001b[38;5;132;01m}\u001b[39;00m\u001b[38;5;124m) \u001b[39m\u001b[38;5;124m\"\u001b[39m\n\u001b[0;32m    576\u001b[0m         \u001b[38;5;124m\"\u001b[39m\u001b[38;5;124mdoes not match length of index \u001b[39m\u001b[38;5;124m\"\u001b[39m\n\u001b[0;32m    577\u001b[0m         \u001b[38;5;124mf\u001b[39m\u001b[38;5;124m\"\u001b[39m\u001b[38;5;124m(\u001b[39m\u001b[38;5;132;01m{\u001b[39;00m\u001b[38;5;28mlen\u001b[39m(index)\u001b[38;5;132;01m}\u001b[39;00m\u001b[38;5;124m)\u001b[39m\u001b[38;5;124m\"\u001b[39m\n\u001b[0;32m    578\u001b[0m     )\n",
      "\u001b[1;31mValueError\u001b[0m: Length of values (153) does not match length of index (300)"
     ]
    }
   ],
   "source": [
    "# Clustering DBSCAN\n",
    "\n",
    "from sklearn.cluster import DBSCAN\n",
    "from sklearn.preprocessing import StandardScaler\n",
    "\n",
    "# Standardisation des données\n",
    "scaler = StandardScaler()\n",
    "df_standardise = scaler.fit_transform(df_numeric)\n",
    "\n",
    "# Clustering\n",
    "dbscan = DBSCAN(eps=1.5, min_samples=2)\n",
    "dbscan.fit(df_standardise)\n",
    "labels = dbscan.labels_\n",
    "\n",
    "# Ajout des labels au dataframe\n",
    "principal_df['cluster'] = labels\n",
    "\n",
    "# Convertir les clusters en type catégoriel pour légende continue\n",
    "principal_df[\"cluster\"] = principal_df[\"cluster\"].astype(str)\n",
    "\n",
    "# Visualisation\n",
    "\n",
    "fig = px.scatter(\n",
    "    template='plotly_white',\n",
    "    data_frame= principal_df, \n",
    "    x='PC1', \n",
    "    y='PC2', \n",
    "    color='cluster', \n",
    "    hover_name='Country name',\n",
    "    color_discrete_sequence=px.colors.qualitative.G10,\n",
    ")\n",
    "fig.show()"
   ]
  },
  {
   "cell_type": "markdown",
   "metadata": {},
   "source": [
    "Heatmap / Correlation\n",
    "Clustering\n",
    "\n",
    "ACP\n",
    "\n",
    "Chloropleth"
   ]
  }
 ],
 "metadata": {
  "kernelspec": {
   "display_name": "Python 3",
   "language": "python",
   "name": "python3"
  },
  "language_info": {
   "codemirror_mode": {
    "name": "ipython",
    "version": 3
   },
   "file_extension": ".py",
   "mimetype": "text/x-python",
   "name": "python",
   "nbconvert_exporter": "python",
   "pygments_lexer": "ipython3",
   "version": "3.11.1"
  }
 },
 "nbformat": 4,
 "nbformat_minor": 4
}
